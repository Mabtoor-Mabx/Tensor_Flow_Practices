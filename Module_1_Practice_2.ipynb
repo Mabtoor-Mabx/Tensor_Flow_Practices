{
  "nbformat": 4,
  "nbformat_minor": 0,
  "metadata": {
    "colab": {
      "name": "Module_1_Practice_2.ipynb",
      "provenance": [],
      "collapsed_sections": []
    },
    "kernelspec": {
      "name": "python3",
      "display_name": "Python 3"
    },
    "language_info": {
      "name": "python"
    }
  },
  "cells": [
    {
      "cell_type": "code",
      "metadata": {
        "id": "nZwskYjne0d1"
      },
      "source": [
        "import tensorflow as tf\n",
        "import numpy as np\n",
        "import pandas as pd\n",
        "import matplotlib.pyplot as plt\n",
        "from tensorflow.keras.utils import plot_model"
      ],
      "execution_count": 1,
      "outputs": []
    },
    {
      "cell_type": "markdown",
      "metadata": {
        "id": "0sYWG4jkfsr6"
      },
      "source": [
        "# Model No 1\n"
      ]
    },
    {
      "cell_type": "code",
      "metadata": {
        "id": "3o3NMvZLgEsZ"
      },
      "source": [
        "X= tf.constant([6,12,18,24,30,36])\n",
        "Y =tf.constant([8,16,24,32,40,48])"
      ],
      "execution_count": 2,
      "outputs": []
    },
    {
      "cell_type": "code",
      "metadata": {
        "colab": {
          "base_uri": "https://localhost:8080/"
        },
        "id": "_QgfA4SGfFRM",
        "outputId": "6fb34014-6654-4f11-f0d3-f2310669db8a"
      },
      "source": [
        "tf.random.set_seed(42)\n",
        "\n",
        "model = tf.keras.Sequential([\n",
        "                             tf.keras.layers.Dense(1)\n",
        "])\n",
        "\n",
        "model.compile(\n",
        "    loss = tf.keras.losses.mae,\n",
        "    optimizer = tf.keras.optimizers.SGD(),\n",
        "    metrics=['mae']\n",
        ")\n",
        "model.fit(tf.expand_dims(X,axis=1),Y, epochs=5)\n",
        "\n",
        "model.evaluate(X,Y)"
      ],
      "execution_count": 3,
      "outputs": [
        {
          "output_type": "stream",
          "name": "stdout",
          "text": [
            "Epoch 1/5\n",
            "1/1 [==============================] - 0s 335ms/step - loss: 16.0287 - mae: 16.0287\n",
            "Epoch 2/5\n",
            "1/1 [==============================] - 0s 5ms/step - loss: 11.6087 - mae: 11.6087\n",
            "Epoch 3/5\n",
            "1/1 [==============================] - 0s 5ms/step - loss: 7.1887 - mae: 7.1887\n",
            "Epoch 4/5\n",
            "1/1 [==============================] - 0s 5ms/step - loss: 2.7687 - mae: 2.7687\n",
            "Epoch 5/5\n",
            "1/1 [==============================] - 0s 5ms/step - loss: 1.6513 - mae: 1.6513\n",
            "1/1 [==============================] - 0s 125ms/step - loss: 2.7687 - mae: 2.7687\n"
          ]
        },
        {
          "output_type": "execute_result",
          "data": {
            "text/plain": [
              "[2.768742561340332, 2.768742561340332]"
            ]
          },
          "metadata": {},
          "execution_count": 3
        }
      ]
    },
    {
      "cell_type": "code",
      "metadata": {
        "colab": {
          "base_uri": "https://localhost:8080/"
        },
        "id": "_D4sGbM6gXYn",
        "outputId": "e8278669-2eda-4732-f5ac-7aae734a5f6a"
      },
      "source": [
        "X,Y"
      ],
      "execution_count": 4,
      "outputs": [
        {
          "output_type": "execute_result",
          "data": {
            "text/plain": [
              "(<tf.Tensor: shape=(6,), dtype=int32, numpy=array([ 6, 12, 18, 24, 30, 36], dtype=int32)>,\n",
              " <tf.Tensor: shape=(6,), dtype=int32, numpy=array([ 8, 16, 24, 32, 40, 48], dtype=int32)>)"
            ]
          },
          "metadata": {},
          "execution_count": 4
        }
      ]
    },
    {
      "cell_type": "code",
      "metadata": {
        "colab": {
          "base_uri": "https://localhost:8080/"
        },
        "id": "wMrPXMkmgbuX",
        "outputId": "f962a679-a5f6-4bcb-a5aa-9864b2bd0f05"
      },
      "source": [
        "model.predict([42])"
      ],
      "execution_count": 5,
      "outputs": [
        {
          "output_type": "execute_result",
          "data": {
            "text/plain": [
              "array([[50.432514]], dtype=float32)"
            ]
          },
          "metadata": {},
          "execution_count": 5
        }
      ]
    },
    {
      "cell_type": "markdown",
      "metadata": {
        "id": "TmUzuwYTggYI"
      },
      "source": [
        "# Model No 2"
      ]
    },
    {
      "cell_type": "code",
      "metadata": {
        "colab": {
          "base_uri": "https://localhost:8080/"
        },
        "id": "qQeoGAV_geiw",
        "outputId": "6aecbb90-2e27-4750-9a47-b0068c25f2cd"
      },
      "source": [
        "tf.random.set_seed(42)\n",
        "\n",
        "model = tf.keras.Sequential([\n",
        "                             tf.keras.layers.Dense(1)\n",
        "])\n",
        "\n",
        "model.compile(\n",
        "    loss = tf.keras.losses.mae,\n",
        "    optimizer = tf.keras.optimizers.SGD(),\n",
        "    metrics=['mae']\n",
        ")\n",
        "model.fit(tf.expand_dims(X,axis=1),Y,epochs=100)\n",
        "\n",
        "model.evaluate(X,Y)"
      ],
      "execution_count": 6,
      "outputs": [
        {
          "output_type": "stream",
          "name": "stdout",
          "text": [
            "Epoch 1/100\n",
            "1/1 [==============================] - 0s 288ms/step - loss: 16.0287 - mae: 16.0287\n",
            "Epoch 2/100\n",
            "1/1 [==============================] - 0s 6ms/step - loss: 11.6087 - mae: 11.6087\n",
            "Epoch 3/100\n",
            "1/1 [==============================] - 0s 6ms/step - loss: 7.1887 - mae: 7.1887\n",
            "Epoch 4/100\n",
            "1/1 [==============================] - 0s 6ms/step - loss: 2.7687 - mae: 2.7687\n",
            "Epoch 5/100\n",
            "1/1 [==============================] - 0s 6ms/step - loss: 1.6513 - mae: 1.6513\n",
            "Epoch 6/100\n",
            "1/1 [==============================] - 0s 6ms/step - loss: 2.7687 - mae: 2.7687\n",
            "Epoch 7/100\n",
            "1/1 [==============================] - 0s 4ms/step - loss: 1.6513 - mae: 1.6513\n",
            "Epoch 8/100\n",
            "1/1 [==============================] - 0s 6ms/step - loss: 2.7687 - mae: 2.7687\n",
            "Epoch 9/100\n",
            "1/1 [==============================] - 0s 6ms/step - loss: 1.6513 - mae: 1.6513\n",
            "Epoch 10/100\n",
            "1/1 [==============================] - 0s 4ms/step - loss: 2.7687 - mae: 2.7687\n",
            "Epoch 11/100\n",
            "1/1 [==============================] - 0s 7ms/step - loss: 1.6513 - mae: 1.6513\n",
            "Epoch 12/100\n",
            "1/1 [==============================] - 0s 4ms/step - loss: 2.7687 - mae: 2.7687\n",
            "Epoch 13/100\n",
            "1/1 [==============================] - 0s 8ms/step - loss: 1.6513 - mae: 1.6513\n",
            "Epoch 14/100\n",
            "1/1 [==============================] - 0s 9ms/step - loss: 2.7687 - mae: 2.7687\n",
            "Epoch 15/100\n",
            "1/1 [==============================] - 0s 4ms/step - loss: 1.6513 - mae: 1.6513\n",
            "Epoch 16/100\n",
            "1/1 [==============================] - 0s 7ms/step - loss: 2.7687 - mae: 2.7687\n",
            "Epoch 17/100\n",
            "1/1 [==============================] - 0s 6ms/step - loss: 1.6513 - mae: 1.6513\n",
            "Epoch 18/100\n",
            "1/1 [==============================] - 0s 5ms/step - loss: 2.7687 - mae: 2.7687\n",
            "Epoch 19/100\n",
            "1/1 [==============================] - 0s 7ms/step - loss: 1.6513 - mae: 1.6513\n",
            "Epoch 20/100\n",
            "1/1 [==============================] - 0s 4ms/step - loss: 2.7687 - mae: 2.7687\n",
            "Epoch 21/100\n",
            "1/1 [==============================] - 0s 4ms/step - loss: 1.6513 - mae: 1.6513\n",
            "Epoch 22/100\n",
            "1/1 [==============================] - 0s 9ms/step - loss: 2.7687 - mae: 2.7687\n",
            "Epoch 23/100\n",
            "1/1 [==============================] - 0s 6ms/step - loss: 1.6513 - mae: 1.6513\n",
            "Epoch 24/100\n",
            "1/1 [==============================] - 0s 6ms/step - loss: 2.7687 - mae: 2.7687\n",
            "Epoch 25/100\n",
            "1/1 [==============================] - 0s 7ms/step - loss: 1.6513 - mae: 1.6513\n",
            "Epoch 26/100\n",
            "1/1 [==============================] - 0s 8ms/step - loss: 2.7687 - mae: 2.7687\n",
            "Epoch 27/100\n",
            "1/1 [==============================] - 0s 8ms/step - loss: 1.6513 - mae: 1.6513\n",
            "Epoch 28/100\n",
            "1/1 [==============================] - 0s 7ms/step - loss: 2.7687 - mae: 2.7687\n",
            "Epoch 29/100\n",
            "1/1 [==============================] - 0s 8ms/step - loss: 1.6513 - mae: 1.6513\n",
            "Epoch 30/100\n",
            "1/1 [==============================] - 0s 5ms/step - loss: 2.7687 - mae: 2.7687\n",
            "Epoch 31/100\n",
            "1/1 [==============================] - 0s 9ms/step - loss: 1.6513 - mae: 1.6513\n",
            "Epoch 32/100\n",
            "1/1 [==============================] - 0s 5ms/step - loss: 2.7687 - mae: 2.7687\n",
            "Epoch 33/100\n",
            "1/1 [==============================] - 0s 5ms/step - loss: 1.6513 - mae: 1.6513\n",
            "Epoch 34/100\n",
            "1/1 [==============================] - 0s 7ms/step - loss: 2.7687 - mae: 2.7687\n",
            "Epoch 35/100\n",
            "1/1 [==============================] - 0s 6ms/step - loss: 1.6513 - mae: 1.6513\n",
            "Epoch 36/100\n",
            "1/1 [==============================] - 0s 8ms/step - loss: 2.7687 - mae: 2.7687\n",
            "Epoch 37/100\n",
            "1/1 [==============================] - 0s 5ms/step - loss: 1.6513 - mae: 1.6513\n",
            "Epoch 38/100\n",
            "1/1 [==============================] - 0s 11ms/step - loss: 2.7687 - mae: 2.7687\n",
            "Epoch 39/100\n",
            "1/1 [==============================] - 0s 5ms/step - loss: 1.6513 - mae: 1.6513\n",
            "Epoch 40/100\n",
            "1/1 [==============================] - 0s 6ms/step - loss: 2.7687 - mae: 2.7687\n",
            "Epoch 41/100\n",
            "1/1 [==============================] - 0s 8ms/step - loss: 1.6513 - mae: 1.6513\n",
            "Epoch 42/100\n",
            "1/1 [==============================] - 0s 5ms/step - loss: 2.7687 - mae: 2.7687\n",
            "Epoch 43/100\n",
            "1/1 [==============================] - 0s 6ms/step - loss: 1.6513 - mae: 1.6513\n",
            "Epoch 44/100\n",
            "1/1 [==============================] - 0s 4ms/step - loss: 2.7687 - mae: 2.7687\n",
            "Epoch 45/100\n",
            "1/1 [==============================] - 0s 6ms/step - loss: 1.6513 - mae: 1.6513\n",
            "Epoch 46/100\n",
            "1/1 [==============================] - 0s 4ms/step - loss: 2.7687 - mae: 2.7687\n",
            "Epoch 47/100\n",
            "1/1 [==============================] - 0s 6ms/step - loss: 1.6513 - mae: 1.6513\n",
            "Epoch 48/100\n",
            "1/1 [==============================] - 0s 8ms/step - loss: 2.7687 - mae: 2.7687\n",
            "Epoch 49/100\n",
            "1/1 [==============================] - 0s 5ms/step - loss: 1.6513 - mae: 1.6513\n",
            "Epoch 50/100\n",
            "1/1 [==============================] - 0s 7ms/step - loss: 2.7687 - mae: 2.7687\n",
            "Epoch 51/100\n",
            "1/1 [==============================] - 0s 9ms/step - loss: 1.6513 - mae: 1.6513\n",
            "Epoch 52/100\n",
            "1/1 [==============================] - 0s 8ms/step - loss: 2.7687 - mae: 2.7687\n",
            "Epoch 53/100\n",
            "1/1 [==============================] - 0s 10ms/step - loss: 1.6513 - mae: 1.6513\n",
            "Epoch 54/100\n",
            "1/1 [==============================] - 0s 9ms/step - loss: 2.7687 - mae: 2.7687\n",
            "Epoch 55/100\n",
            "1/1 [==============================] - 0s 8ms/step - loss: 1.6513 - mae: 1.6513\n",
            "Epoch 56/100\n",
            "1/1 [==============================] - 0s 7ms/step - loss: 2.7687 - mae: 2.7687\n",
            "Epoch 57/100\n",
            "1/1 [==============================] - 0s 15ms/step - loss: 1.6513 - mae: 1.6513\n",
            "Epoch 58/100\n",
            "1/1 [==============================] - 0s 6ms/step - loss: 2.7687 - mae: 2.7687\n",
            "Epoch 59/100\n",
            "1/1 [==============================] - 0s 6ms/step - loss: 1.6513 - mae: 1.6513\n",
            "Epoch 60/100\n",
            "1/1 [==============================] - 0s 6ms/step - loss: 2.7687 - mae: 2.7687\n",
            "Epoch 61/100\n",
            "1/1 [==============================] - 0s 15ms/step - loss: 1.6513 - mae: 1.6513\n",
            "Epoch 62/100\n",
            "1/1 [==============================] - 0s 8ms/step - loss: 2.7687 - mae: 2.7687\n",
            "Epoch 63/100\n",
            "1/1 [==============================] - 0s 7ms/step - loss: 1.6513 - mae: 1.6513\n",
            "Epoch 64/100\n",
            "1/1 [==============================] - 0s 8ms/step - loss: 2.7687 - mae: 2.7687\n",
            "Epoch 65/100\n",
            "1/1 [==============================] - 0s 12ms/step - loss: 1.6513 - mae: 1.6513\n",
            "Epoch 66/100\n",
            "1/1 [==============================] - 0s 9ms/step - loss: 2.7687 - mae: 2.7687\n",
            "Epoch 67/100\n",
            "1/1 [==============================] - 0s 10ms/step - loss: 1.6513 - mae: 1.6513\n",
            "Epoch 68/100\n",
            "1/1 [==============================] - 0s 12ms/step - loss: 2.7687 - mae: 2.7687\n",
            "Epoch 69/100\n",
            "1/1 [==============================] - 0s 12ms/step - loss: 1.6513 - mae: 1.6513\n",
            "Epoch 70/100\n",
            "1/1 [==============================] - 0s 8ms/step - loss: 2.7687 - mae: 2.7687\n",
            "Epoch 71/100\n",
            "1/1 [==============================] - 0s 5ms/step - loss: 1.6513 - mae: 1.6513\n",
            "Epoch 72/100\n",
            "1/1 [==============================] - 0s 11ms/step - loss: 2.7687 - mae: 2.7687\n",
            "Epoch 73/100\n",
            "1/1 [==============================] - 0s 4ms/step - loss: 1.6513 - mae: 1.6513\n",
            "Epoch 74/100\n",
            "1/1 [==============================] - 0s 8ms/step - loss: 2.7687 - mae: 2.7687\n",
            "Epoch 75/100\n",
            "1/1 [==============================] - 0s 5ms/step - loss: 1.6513 - mae: 1.6513\n",
            "Epoch 76/100\n",
            "1/1 [==============================] - 0s 5ms/step - loss: 2.7687 - mae: 2.7687\n",
            "Epoch 77/100\n",
            "1/1 [==============================] - 0s 13ms/step - loss: 1.6513 - mae: 1.6513\n",
            "Epoch 78/100\n",
            "1/1 [==============================] - 0s 5ms/step - loss: 2.7687 - mae: 2.7687\n",
            "Epoch 79/100\n",
            "1/1 [==============================] - 0s 4ms/step - loss: 1.6513 - mae: 1.6513\n",
            "Epoch 80/100\n",
            "1/1 [==============================] - 0s 5ms/step - loss: 2.7687 - mae: 2.7687\n",
            "Epoch 81/100\n",
            "1/1 [==============================] - 0s 6ms/step - loss: 1.6513 - mae: 1.6513\n",
            "Epoch 82/100\n",
            "1/1 [==============================] - 0s 4ms/step - loss: 2.7687 - mae: 2.7687\n",
            "Epoch 83/100\n",
            "1/1 [==============================] - 0s 4ms/step - loss: 1.6513 - mae: 1.6513\n",
            "Epoch 84/100\n",
            "1/1 [==============================] - 0s 4ms/step - loss: 2.7687 - mae: 2.7687\n",
            "Epoch 85/100\n",
            "1/1 [==============================] - 0s 5ms/step - loss: 1.6513 - mae: 1.6513\n",
            "Epoch 86/100\n",
            "1/1 [==============================] - 0s 7ms/step - loss: 2.7687 - mae: 2.7687\n",
            "Epoch 87/100\n",
            "1/1 [==============================] - 0s 6ms/step - loss: 1.6513 - mae: 1.6513\n",
            "Epoch 88/100\n",
            "1/1 [==============================] - 0s 5ms/step - loss: 2.7687 - mae: 2.7687\n",
            "Epoch 89/100\n",
            "1/1 [==============================] - 0s 6ms/step - loss: 1.6513 - mae: 1.6513\n",
            "Epoch 90/100\n",
            "1/1 [==============================] - 0s 7ms/step - loss: 2.7687 - mae: 2.7687\n",
            "Epoch 91/100\n",
            "1/1 [==============================] - 0s 5ms/step - loss: 1.6513 - mae: 1.6513\n",
            "Epoch 92/100\n",
            "1/1 [==============================] - 0s 6ms/step - loss: 2.7687 - mae: 2.7687\n",
            "Epoch 93/100\n",
            "1/1 [==============================] - 0s 5ms/step - loss: 1.6513 - mae: 1.6513\n",
            "Epoch 94/100\n",
            "1/1 [==============================] - 0s 6ms/step - loss: 2.7687 - mae: 2.7687\n",
            "Epoch 95/100\n",
            "1/1 [==============================] - 0s 9ms/step - loss: 1.6513 - mae: 1.6513\n",
            "Epoch 96/100\n",
            "1/1 [==============================] - 0s 7ms/step - loss: 2.7687 - mae: 2.7687\n",
            "Epoch 97/100\n",
            "1/1 [==============================] - 0s 8ms/step - loss: 1.6513 - mae: 1.6513\n",
            "Epoch 98/100\n",
            "1/1 [==============================] - 0s 8ms/step - loss: 2.7687 - mae: 2.7687\n",
            "Epoch 99/100\n",
            "1/1 [==============================] - 0s 6ms/step - loss: 1.6513 - mae: 1.6513\n",
            "Epoch 100/100\n",
            "1/1 [==============================] - 0s 4ms/step - loss: 2.7687 - mae: 2.7687\n",
            "1/1 [==============================] - 0s 98ms/step - loss: 1.6513 - mae: 1.6513\n"
          ]
        },
        {
          "output_type": "execute_result",
          "data": {
            "text/plain": [
              "[1.651258945465088, 1.651258945465088]"
            ]
          },
          "metadata": {},
          "execution_count": 6
        }
      ]
    },
    {
      "cell_type": "code",
      "metadata": {
        "colab": {
          "base_uri": "https://localhost:8080/"
        },
        "id": "u4Yw5vj6hFnq",
        "outputId": "c724c4b2-1675-402c-fdc9-60bfe154f8c0"
      },
      "source": [
        "X,Y"
      ],
      "execution_count": 7,
      "outputs": [
        {
          "output_type": "execute_result",
          "data": {
            "text/plain": [
              "(<tf.Tensor: shape=(6,), dtype=int32, numpy=array([ 6, 12, 18, 24, 30, 36], dtype=int32)>,\n",
              " <tf.Tensor: shape=(6,), dtype=int32, numpy=array([ 8, 16, 24, 32, 40, 48], dtype=int32)>)"
            ]
          },
          "metadata": {},
          "execution_count": 7
        }
      ]
    },
    {
      "cell_type": "code",
      "metadata": {
        "colab": {
          "base_uri": "https://localhost:8080/"
        },
        "id": "kmJGicY8hHYb",
        "outputId": "1b003059-cf35-4045-f1eb-1a63f7403cd1"
      },
      "source": [
        "model.predict([42])"
      ],
      "execution_count": 8,
      "outputs": [
        {
          "output_type": "execute_result",
          "data": {
            "text/plain": [
              "array([[59.26252]], dtype=float32)"
            ]
          },
          "metadata": {},
          "execution_count": 8
        }
      ]
    },
    {
      "cell_type": "markdown",
      "metadata": {
        "id": "rOTbIWHohKvV"
      },
      "source": [
        "# Model No 3"
      ]
    },
    {
      "cell_type": "code",
      "metadata": {
        "colab": {
          "base_uri": "https://localhost:8080/"
        },
        "id": "qTZz17mzhJF6",
        "outputId": "91dc3942-f5aa-4e43-8df9-5beed9b38be8"
      },
      "source": [
        "tf.random.set_seed(42)\n",
        "\n",
        "model = tf.keras.Sequential([\n",
        "                             tf.keras.layers.Dense(100, activation='relu'),\n",
        "                             tf.keras.layers.Dense(1)\n",
        "])\n",
        "\n",
        "model.compile(\n",
        "    loss = tf.keras.losses.mae,\n",
        "    optimizer = tf.keras.optimizers.SGD(),\n",
        "    metrics=['mae']\n",
        ")\n",
        "\n",
        "model.fit(tf.expand_dims(X,axis=1),Y, epochs=100)\n",
        "\n",
        "model.evaluate(X,Y)"
      ],
      "execution_count": 9,
      "outputs": [
        {
          "output_type": "stream",
          "name": "stdout",
          "text": [
            "Epoch 1/100\n",
            "1/1 [==============================] - 0s 341ms/step - loss: 23.5559 - mae: 23.5559\n",
            "Epoch 2/100\n",
            "1/1 [==============================] - 0s 7ms/step - loss: 14.8584 - mae: 14.8584\n",
            "Epoch 3/100\n",
            "1/1 [==============================] - 0s 6ms/step - loss: 4.7792 - mae: 4.7792\n",
            "Epoch 4/100\n",
            "1/1 [==============================] - 0s 7ms/step - loss: 8.2293 - mae: 8.2293\n",
            "Epoch 5/100\n",
            "1/1 [==============================] - 0s 5ms/step - loss: 6.7848 - mae: 6.7848\n",
            "Epoch 6/100\n",
            "1/1 [==============================] - 0s 5ms/step - loss: 5.1000 - mae: 5.1000\n",
            "Epoch 7/100\n",
            "1/1 [==============================] - 0s 8ms/step - loss: 8.6170 - mae: 8.6170\n",
            "Epoch 8/100\n",
            "1/1 [==============================] - 0s 5ms/step - loss: 2.2412 - mae: 2.2412\n",
            "Epoch 9/100\n",
            "1/1 [==============================] - 0s 6ms/step - loss: 10.2909 - mae: 10.2909\n",
            "Epoch 10/100\n",
            "1/1 [==============================] - 0s 6ms/step - loss: 0.3704 - mae: 0.3704\n",
            "Epoch 11/100\n",
            "1/1 [==============================] - 0s 8ms/step - loss: 13.4921 - mae: 13.4921\n",
            "Epoch 12/100\n",
            "1/1 [==============================] - 0s 7ms/step - loss: 2.7308 - mae: 2.7308\n",
            "Epoch 13/100\n",
            "1/1 [==============================] - 0s 17ms/step - loss: 9.9087 - mae: 9.9087\n",
            "Epoch 14/100\n",
            "1/1 [==============================] - 0s 7ms/step - loss: 4.9126 - mae: 4.9126\n",
            "Epoch 15/100\n",
            "1/1 [==============================] - 0s 7ms/step - loss: 6.6351 - mae: 6.6351\n",
            "Epoch 16/100\n",
            "1/1 [==============================] - 0s 5ms/step - loss: 6.9058 - mae: 6.9058\n",
            "Epoch 17/100\n",
            "1/1 [==============================] - 0s 17ms/step - loss: 3.6445 - mae: 3.6445\n",
            "Epoch 18/100\n",
            "1/1 [==============================] - 0s 4ms/step - loss: 8.7267 - mae: 8.7267\n",
            "Epoch 19/100\n",
            "1/1 [==============================] - 0s 10ms/step - loss: 0.9124 - mae: 0.9124\n",
            "Epoch 20/100\n",
            "1/1 [==============================] - 0s 11ms/step - loss: 10.3903 - mae: 10.3903\n",
            "Epoch 21/100\n",
            "1/1 [==============================] - 0s 8ms/step - loss: 1.5835 - mae: 1.5835\n",
            "Epoch 22/100\n",
            "1/1 [==============================] - 0s 8ms/step - loss: 11.0487 - mae: 11.0487\n",
            "Epoch 23/100\n",
            "1/1 [==============================] - 0s 13ms/step - loss: 3.8621 - mae: 3.8621\n",
            "Epoch 24/100\n",
            "1/1 [==============================] - 0s 6ms/step - loss: 7.6774 - mae: 7.6774\n",
            "Epoch 25/100\n",
            "1/1 [==============================] - 0s 8ms/step - loss: 5.9453 - mae: 5.9453\n",
            "Epoch 26/100\n",
            "1/1 [==============================] - 0s 8ms/step - loss: 4.5975 - mae: 4.5975\n",
            "Epoch 27/100\n",
            "1/1 [==============================] - 0s 6ms/step - loss: 7.8484 - mae: 7.8484\n",
            "Epoch 28/100\n",
            "1/1 [==============================] - 0s 6ms/step - loss: 1.7839 - mae: 1.7839\n",
            "Epoch 29/100\n",
            "1/1 [==============================] - 0s 8ms/step - loss: 9.5870 - mae: 9.5870\n",
            "Epoch 30/100\n",
            "1/1 [==============================] - 0s 8ms/step - loss: 0.7865 - mae: 0.7865\n",
            "Epoch 31/100\n",
            "1/1 [==============================] - 0s 8ms/step - loss: 12.0036 - mae: 12.0036\n",
            "Epoch 32/100\n",
            "1/1 [==============================] - 0s 6ms/step - loss: 3.1347 - mae: 3.1347\n",
            "Epoch 33/100\n",
            "1/1 [==============================] - 0s 8ms/step - loss: 8.5506 - mae: 8.5506\n",
            "Epoch 34/100\n",
            "1/1 [==============================] - 0s 7ms/step - loss: 5.2798 - mae: 5.2798\n",
            "Epoch 35/100\n",
            "1/1 [==============================] - 0s 8ms/step - loss: 5.3961 - mae: 5.3961\n",
            "Epoch 36/100\n",
            "1/1 [==============================] - 0s 7ms/step - loss: 7.2396 - mae: 7.2396\n",
            "Epoch 37/100\n",
            "1/1 [==============================] - 0s 10ms/step - loss: 2.5143 - mae: 2.5143\n",
            "Epoch 38/100\n",
            "1/1 [==============================] - 0s 9ms/step - loss: 9.0299 - mae: 9.0299\n",
            "Epoch 39/100\n",
            "1/1 [==============================] - 0s 9ms/step - loss: 0.1268 - mae: 0.1268\n",
            "Epoch 40/100\n",
            "1/1 [==============================] - 0s 13ms/step - loss: 11.5362 - mae: 11.5362\n",
            "Epoch 41/100\n",
            "1/1 [==============================] - 0s 11ms/step - loss: 3.3701 - mae: 3.3701\n",
            "Epoch 42/100\n",
            "1/1 [==============================] - 0s 6ms/step - loss: 8.1242 - mae: 8.1242\n",
            "Epoch 43/100\n",
            "1/1 [==============================] - 0s 10ms/step - loss: 5.4944 - mae: 5.4944\n",
            "Epoch 44/100\n",
            "1/1 [==============================] - 0s 6ms/step - loss: 5.0072 - mae: 5.0072\n",
            "Epoch 45/100\n",
            "1/1 [==============================] - 0s 9ms/step - loss: 7.4350 - mae: 7.4350\n",
            "Epoch 46/100\n",
            "1/1 [==============================] - 0s 7ms/step - loss: 2.1596 - mae: 2.1596\n",
            "Epoch 47/100\n",
            "1/1 [==============================] - 0s 11ms/step - loss: 9.2079 - mae: 9.2079\n",
            "Epoch 48/100\n",
            "1/1 [==============================] - 0s 6ms/step - loss: 0.4418 - mae: 0.4418\n",
            "Epoch 49/100\n",
            "1/1 [==============================] - 0s 10ms/step - loss: 12.3723 - mae: 12.3723\n",
            "Epoch 50/100\n",
            "1/1 [==============================] - 0s 8ms/step - loss: 2.8159 - mae: 2.8159\n",
            "Epoch 51/100\n",
            "1/1 [==============================] - 0s 9ms/step - loss: 8.8889 - mae: 8.8889\n",
            "Epoch 52/100\n",
            "1/1 [==============================] - 0s 5ms/step - loss: 4.9872 - mae: 4.9872\n",
            "Epoch 53/100\n",
            "1/1 [==============================] - 0s 7ms/step - loss: 5.7066 - mae: 5.7066\n",
            "Epoch 54/100\n",
            "1/1 [==============================] - 0s 12ms/step - loss: 6.9708 - mae: 6.9708\n",
            "Epoch 55/100\n",
            "1/1 [==============================] - 0s 7ms/step - loss: 2.7994 - mae: 2.7994\n",
            "Epoch 56/100\n",
            "1/1 [==============================] - 0s 10ms/step - loss: 8.7829 - mae: 8.7829\n",
            "Epoch 57/100\n",
            "1/1 [==============================] - 0s 14ms/step - loss: 0.1435 - mae: 0.1435\n",
            "Epoch 58/100\n",
            "1/1 [==============================] - 0s 8ms/step - loss: 10.4384 - mae: 10.4384\n",
            "Epoch 59/100\n",
            "1/1 [==============================] - 0s 8ms/step - loss: 2.2827 - mae: 2.2827\n",
            "Epoch 60/100\n",
            "1/1 [==============================] - 0s 7ms/step - loss: 9.6519 - mae: 9.6519\n",
            "Epoch 61/100\n",
            "1/1 [==============================] - 0s 8ms/step - loss: 4.4993 - mae: 4.4993\n",
            "Epoch 62/100\n",
            "1/1 [==============================] - 0s 7ms/step - loss: 6.4046 - mae: 6.4046\n",
            "Epoch 63/100\n",
            "1/1 [==============================] - 0s 6ms/step - loss: 6.5242 - mae: 6.5242\n",
            "Epoch 64/100\n",
            "1/1 [==============================] - 0s 5ms/step - loss: 3.4379 - mae: 3.4379\n",
            "Epoch 65/100\n",
            "1/1 [==============================] - 0s 7ms/step - loss: 8.3741 - mae: 8.3741\n",
            "Epoch 66/100\n",
            "1/1 [==============================] - 0s 6ms/step - loss: 0.7277 - mae: 0.7277\n",
            "Epoch 67/100\n",
            "1/1 [==============================] - 0s 6ms/step - loss: 10.0640 - mae: 10.0640\n",
            "Epoch 68/100\n",
            "1/1 [==============================] - 0s 7ms/step - loss: 1.7482 - mae: 1.7482\n",
            "Epoch 69/100\n",
            "1/1 [==============================] - 0s 8ms/step - loss: 10.4245 - mae: 10.4245\n",
            "Epoch 70/100\n",
            "1/1 [==============================] - 0s 9ms/step - loss: 4.0101 - mae: 4.0101\n",
            "Epoch 71/100\n",
            "1/1 [==============================] - 0s 6ms/step - loss: 7.1112 - mae: 7.1112\n",
            "Epoch 72/100\n",
            "1/1 [==============================] - 0s 5ms/step - loss: 6.0764 - mae: 6.0764\n",
            "Epoch 73/100\n",
            "1/1 [==============================] - 0s 6ms/step - loss: 4.0843 - mae: 4.0843\n",
            "Epoch 74/100\n",
            "1/1 [==============================] - 0s 6ms/step - loss: 7.9642 - mae: 7.9642\n",
            "Epoch 75/100\n",
            "1/1 [==============================] - 0s 7ms/step - loss: 1.3191 - mae: 1.3191\n",
            "Epoch 76/100\n",
            "1/1 [==============================] - 0s 5ms/step - loss: 9.6887 - mae: 9.6887\n",
            "Epoch 77/100\n",
            "1/1 [==============================] - 0s 6ms/step - loss: 1.2071 - mae: 1.2071\n",
            "Epoch 78/100\n",
            "1/1 [==============================] - 0s 8ms/step - loss: 11.2099 - mae: 11.2099\n",
            "Epoch 79/100\n",
            "1/1 [==============================] - 0s 6ms/step - loss: 3.5149 - mae: 3.5149\n",
            "Epoch 80/100\n",
            "1/1 [==============================] - 0s 8ms/step - loss: 7.8296 - mae: 7.8296\n",
            "Epoch 81/100\n",
            "1/1 [==============================] - 0s 6ms/step - loss: 5.6232 - mae: 5.6232\n",
            "Epoch 82/100\n",
            "1/1 [==============================] - 0s 7ms/step - loss: 4.7415 - mae: 4.7415\n",
            "Epoch 83/100\n",
            "1/1 [==============================] - 0s 7ms/step - loss: 7.5492 - mae: 7.5492\n",
            "Epoch 84/100\n",
            "1/1 [==============================] - 0s 8ms/step - loss: 1.9203 - mae: 1.9203\n",
            "Epoch 85/100\n",
            "1/1 [==============================] - 0s 5ms/step - loss: 9.3087 - mae: 9.3087\n",
            "Epoch 86/100\n",
            "1/1 [==============================] - 0s 7ms/step - loss: 0.6570 - mae: 0.6570\n",
            "Epoch 87/100\n",
            "1/1 [==============================] - 0s 8ms/step - loss: 12.0100 - mae: 12.0100\n",
            "Epoch 88/100\n",
            "1/1 [==============================] - 0s 15ms/step - loss: 3.0114 - mae: 3.0114\n",
            "Epoch 89/100\n",
            "1/1 [==============================] - 0s 8ms/step - loss: 8.5613 - mae: 8.5613\n",
            "Epoch 90/100\n",
            "1/1 [==============================] - 0s 8ms/step - loss: 5.1624 - mae: 5.1624\n",
            "Epoch 91/100\n",
            "1/1 [==============================] - 0s 8ms/step - loss: 5.4108 - mae: 5.4108\n",
            "Epoch 92/100\n",
            "1/1 [==============================] - 0s 14ms/step - loss: 7.1274 - mae: 7.1274\n",
            "Epoch 93/100\n",
            "1/1 [==============================] - 0s 11ms/step - loss: 2.5327 - mae: 2.5327\n",
            "Epoch 94/100\n",
            "1/1 [==============================] - 0s 7ms/step - loss: 8.9225 - mae: 8.9225\n",
            "Epoch 95/100\n",
            "1/1 [==============================] - 0s 6ms/step - loss: 0.1204 - mae: 0.1204\n",
            "Epoch 96/100\n",
            "1/1 [==============================] - 0s 9ms/step - loss: 8.8715 - mae: 8.8715\n",
            "Epoch 97/100\n",
            "1/1 [==============================] - 0s 12ms/step - loss: 4.9674 - mae: 4.9674\n",
            "Epoch 98/100\n",
            "1/1 [==============================] - 0s 6ms/step - loss: 5.6945 - mae: 5.6945\n",
            "Epoch 99/100\n",
            "1/1 [==============================] - 0s 10ms/step - loss: 6.9490 - mae: 6.9490\n",
            "Epoch 100/100\n",
            "1/1 [==============================] - 0s 10ms/step - loss: 2.7921 - mae: 2.7921\n",
            "1/1 [==============================] - 0s 94ms/step - loss: 8.7593 - mae: 8.7593\n"
          ]
        },
        {
          "output_type": "execute_result",
          "data": {
            "text/plain": [
              "[8.759273529052734, 8.759273529052734]"
            ]
          },
          "metadata": {},
          "execution_count": 9
        }
      ]
    },
    {
      "cell_type": "code",
      "metadata": {
        "colab": {
          "base_uri": "https://localhost:8080/"
        },
        "id": "vJmdExzmhx4Z",
        "outputId": "ff1f90d5-f3f9-4045-d5c1-909500e5d5f4"
      },
      "source": [
        "X,Y"
      ],
      "execution_count": 10,
      "outputs": [
        {
          "output_type": "execute_result",
          "data": {
            "text/plain": [
              "(<tf.Tensor: shape=(6,), dtype=int32, numpy=array([ 6, 12, 18, 24, 30, 36], dtype=int32)>,\n",
              " <tf.Tensor: shape=(6,), dtype=int32, numpy=array([ 8, 16, 24, 32, 40, 48], dtype=int32)>)"
            ]
          },
          "metadata": {},
          "execution_count": 10
        }
      ]
    },
    {
      "cell_type": "code",
      "metadata": {
        "colab": {
          "base_uri": "https://localhost:8080/"
        },
        "id": "YWSSqrFzhzxT",
        "outputId": "dcc5d92c-e46e-4896-98a2-ec1984b143bc"
      },
      "source": [
        "model.predict([42])"
      ],
      "execution_count": 11,
      "outputs": [
        {
          "output_type": "execute_result",
          "data": {
            "text/plain": [
              "array([[38.369465]], dtype=float32)"
            ]
          },
          "metadata": {},
          "execution_count": 11
        }
      ]
    },
    {
      "cell_type": "markdown",
      "metadata": {
        "id": "_JAkqmFOh8L7"
      },
      "source": [
        "# Model No 4"
      ]
    },
    {
      "cell_type": "code",
      "metadata": {
        "colab": {
          "base_uri": "https://localhost:8080/"
        },
        "id": "MRHqPAmQh2Ha",
        "outputId": "66625f4a-4c91-41bf-e108-736e6a811646"
      },
      "source": [
        "tf.random.set_seed(42)\n",
        "\n",
        "model = tf.keras.Sequential([\n",
        "                             tf.keras.layers.Dense(100, activation='relu'),\n",
        "                             tf.keras.layers.Dense(1)\n",
        "])\n",
        "\n",
        "model.compile(\n",
        "    loss = tf.keras.losses.mae,\n",
        "    optimizer = tf.keras.optimizers.Adam(lr=0.01),\n",
        "    metrics=['mae']\n",
        ")\n",
        "\n",
        "model.fit(tf.expand_dims(X,axis=1),Y,epochs=100)\n",
        "\n",
        "model.evaluate(X,Y)\n"
      ],
      "execution_count": 12,
      "outputs": [
        {
          "output_type": "stream",
          "name": "stderr",
          "text": [
            "/usr/local/lib/python3.7/dist-packages/keras/optimizer_v2/adam.py:105: UserWarning: The `lr` argument is deprecated, use `learning_rate` instead.\n",
            "  super(Adam, self).__init__(name, **kwargs)\n"
          ]
        },
        {
          "output_type": "stream",
          "name": "stdout",
          "text": [
            "Epoch 1/100\n",
            "1/1 [==============================] - 0s 388ms/step - loss: 23.5559 - mae: 23.5559\n",
            "Epoch 2/100\n",
            "1/1 [==============================] - 0s 5ms/step - loss: 20.8393 - mae: 20.8393\n",
            "Epoch 3/100\n",
            "1/1 [==============================] - 0s 6ms/step - loss: 18.0843 - mae: 18.0843\n",
            "Epoch 4/100\n",
            "1/1 [==============================] - 0s 11ms/step - loss: 15.2803 - mae: 15.2803\n",
            "Epoch 5/100\n",
            "1/1 [==============================] - 0s 13ms/step - loss: 12.3912 - mae: 12.3912\n",
            "Epoch 6/100\n",
            "1/1 [==============================] - 0s 11ms/step - loss: 9.4046 - mae: 9.4046\n",
            "Epoch 7/100\n",
            "1/1 [==============================] - 0s 6ms/step - loss: 6.3304 - mae: 6.3304\n",
            "Epoch 8/100\n",
            "1/1 [==============================] - 0s 9ms/step - loss: 3.1499 - mae: 3.1499\n",
            "Epoch 9/100\n",
            "1/1 [==============================] - 0s 15ms/step - loss: 0.2537 - mae: 0.2537\n",
            "Epoch 10/100\n",
            "1/1 [==============================] - 0s 7ms/step - loss: 3.2054 - mae: 3.2054\n",
            "Epoch 11/100\n",
            "1/1 [==============================] - 0s 10ms/step - loss: 5.0247 - mae: 5.0247\n",
            "Epoch 12/100\n",
            "1/1 [==============================] - 0s 5ms/step - loss: 5.8683 - mae: 5.8683\n",
            "Epoch 13/100\n",
            "1/1 [==============================] - 0s 5ms/step - loss: 5.9496 - mae: 5.9496\n",
            "Epoch 14/100\n",
            "1/1 [==============================] - 0s 5ms/step - loss: 5.4407 - mae: 5.4407\n",
            "Epoch 15/100\n",
            "1/1 [==============================] - 0s 9ms/step - loss: 4.4793 - mae: 4.4793\n",
            "Epoch 16/100\n",
            "1/1 [==============================] - 0s 11ms/step - loss: 3.1761 - mae: 3.1761\n",
            "Epoch 17/100\n",
            "1/1 [==============================] - 0s 7ms/step - loss: 1.6248 - mae: 1.6248\n",
            "Epoch 18/100\n",
            "1/1 [==============================] - 0s 10ms/step - loss: 0.3042 - mae: 0.3042\n",
            "Epoch 19/100\n",
            "1/1 [==============================] - 0s 8ms/step - loss: 1.4292 - mae: 1.4292\n",
            "Epoch 20/100\n",
            "1/1 [==============================] - 0s 10ms/step - loss: 2.2174 - mae: 2.2174\n",
            "Epoch 21/100\n",
            "1/1 [==============================] - 0s 5ms/step - loss: 2.5545 - mae: 2.5545\n",
            "Epoch 22/100\n",
            "1/1 [==============================] - 0s 7ms/step - loss: 2.5110 - mae: 2.5110\n",
            "Epoch 23/100\n",
            "1/1 [==============================] - 0s 6ms/step - loss: 2.1365 - mae: 2.1365\n",
            "Epoch 24/100\n",
            "1/1 [==============================] - 0s 8ms/step - loss: 1.4664 - mae: 1.4664\n",
            "Epoch 25/100\n",
            "1/1 [==============================] - 0s 8ms/step - loss: 0.6100 - mae: 0.6100\n",
            "Epoch 26/100\n",
            "1/1 [==============================] - 0s 5ms/step - loss: 0.6410 - mae: 0.6410\n",
            "Epoch 27/100\n",
            "1/1 [==============================] - 0s 6ms/step - loss: 1.3370 - mae: 1.3370\n",
            "Epoch 28/100\n",
            "1/1 [==============================] - 0s 9ms/step - loss: 1.6025 - mae: 1.6025\n",
            "Epoch 29/100\n",
            "1/1 [==============================] - 0s 7ms/step - loss: 1.4835 - mae: 1.4835\n",
            "Epoch 30/100\n",
            "1/1 [==============================] - 0s 8ms/step - loss: 1.0286 - mae: 1.0286\n",
            "Epoch 31/100\n",
            "1/1 [==============================] - 0s 13ms/step - loss: 0.2869 - mae: 0.2869\n",
            "Epoch 32/100\n",
            "1/1 [==============================] - 0s 8ms/step - loss: 0.7552 - mae: 0.7552\n",
            "Epoch 33/100\n",
            "1/1 [==============================] - 0s 9ms/step - loss: 1.2775 - mae: 1.2775\n",
            "Epoch 34/100\n",
            "1/1 [==============================] - 0s 8ms/step - loss: 1.4854 - mae: 1.4854\n",
            "Epoch 35/100\n",
            "1/1 [==============================] - 0s 8ms/step - loss: 1.3641 - mae: 1.3641\n",
            "Epoch 36/100\n",
            "1/1 [==============================] - 0s 9ms/step - loss: 0.9788 - mae: 0.9788\n",
            "Epoch 37/100\n",
            "1/1 [==============================] - 0s 5ms/step - loss: 0.4079 - mae: 0.4079\n",
            "Epoch 38/100\n",
            "1/1 [==============================] - 0s 6ms/step - loss: 0.5373 - mae: 0.5373\n",
            "Epoch 39/100\n",
            "1/1 [==============================] - 0s 6ms/step - loss: 0.9581 - mae: 0.9581\n",
            "Epoch 40/100\n",
            "1/1 [==============================] - 0s 7ms/step - loss: 1.0072 - mae: 1.0072\n",
            "Epoch 41/100\n",
            "1/1 [==============================] - 0s 7ms/step - loss: 0.7237 - mae: 0.7237\n",
            "Epoch 42/100\n",
            "1/1 [==============================] - 0s 9ms/step - loss: 0.1882 - mae: 0.1882\n",
            "Epoch 43/100\n",
            "1/1 [==============================] - 0s 5ms/step - loss: 0.4413 - mae: 0.4413\n",
            "Epoch 44/100\n",
            "1/1 [==============================] - 0s 6ms/step - loss: 0.6460 - mae: 0.6460\n",
            "Epoch 45/100\n",
            "1/1 [==============================] - 0s 6ms/step - loss: 0.5785 - mae: 0.5785\n",
            "Epoch 46/100\n",
            "1/1 [==============================] - 0s 8ms/step - loss: 0.2971 - mae: 0.2971\n",
            "Epoch 47/100\n",
            "1/1 [==============================] - 0s 6ms/step - loss: 0.3717 - mae: 0.3717\n",
            "Epoch 48/100\n",
            "1/1 [==============================] - 0s 8ms/step - loss: 0.5360 - mae: 0.5360\n",
            "Epoch 49/100\n",
            "1/1 [==============================] - 0s 6ms/step - loss: 0.3592 - mae: 0.3592\n",
            "Epoch 50/100\n",
            "1/1 [==============================] - 0s 6ms/step - loss: 0.2429 - mae: 0.2429\n",
            "Epoch 51/100\n",
            "1/1 [==============================] - 0s 8ms/step - loss: 0.3890 - mae: 0.3890\n",
            "Epoch 52/100\n",
            "1/1 [==============================] - 0s 6ms/step - loss: 0.3098 - mae: 0.3098\n",
            "Epoch 53/100\n",
            "1/1 [==============================] - 0s 8ms/step - loss: 0.1403 - mae: 0.1403\n",
            "Epoch 54/100\n",
            "1/1 [==============================] - 0s 10ms/step - loss: 0.3794 - mae: 0.3794\n",
            "Epoch 55/100\n",
            "1/1 [==============================] - 0s 6ms/step - loss: 0.3197 - mae: 0.3197\n",
            "Epoch 56/100\n",
            "1/1 [==============================] - 0s 7ms/step - loss: 0.1657 - mae: 0.1657\n",
            "Epoch 57/100\n",
            "1/1 [==============================] - 0s 7ms/step - loss: 0.2392 - mae: 0.2392\n",
            "Epoch 58/100\n",
            "1/1 [==============================] - 0s 6ms/step - loss: 0.1457 - mae: 0.1457\n",
            "Epoch 59/100\n",
            "1/1 [==============================] - 0s 7ms/step - loss: 0.2006 - mae: 0.2006\n",
            "Epoch 60/100\n",
            "1/1 [==============================] - 0s 7ms/step - loss: 0.1028 - mae: 0.1028\n",
            "Epoch 61/100\n",
            "1/1 [==============================] - 0s 6ms/step - loss: 0.1885 - mae: 0.1885\n",
            "Epoch 62/100\n",
            "1/1 [==============================] - 0s 8ms/step - loss: 0.1692 - mae: 0.1692\n",
            "Epoch 63/100\n",
            "1/1 [==============================] - 0s 8ms/step - loss: 0.1223 - mae: 0.1223\n",
            "Epoch 64/100\n",
            "1/1 [==============================] - 0s 5ms/step - loss: 0.0689 - mae: 0.0689\n",
            "Epoch 65/100\n",
            "1/1 [==============================] - 0s 6ms/step - loss: 0.0595 - mae: 0.0595\n",
            "Epoch 66/100\n",
            "1/1 [==============================] - 0s 6ms/step - loss: 0.0887 - mae: 0.0887\n",
            "Epoch 67/100\n",
            "1/1 [==============================] - 0s 6ms/step - loss: 0.0803 - mae: 0.0803\n",
            "Epoch 68/100\n",
            "1/1 [==============================] - 0s 7ms/step - loss: 0.1377 - mae: 0.1377\n",
            "Epoch 69/100\n",
            "1/1 [==============================] - 0s 7ms/step - loss: 0.0403 - mae: 0.0403\n",
            "Epoch 70/100\n",
            "1/1 [==============================] - 0s 6ms/step - loss: 0.3104 - mae: 0.3104\n",
            "Epoch 71/100\n",
            "1/1 [==============================] - 0s 8ms/step - loss: 0.2740 - mae: 0.2740\n",
            "Epoch 72/100\n",
            "1/1 [==============================] - 0s 6ms/step - loss: 0.0927 - mae: 0.0927\n",
            "Epoch 73/100\n",
            "1/1 [==============================] - 0s 7ms/step - loss: 0.0908 - mae: 0.0908\n",
            "Epoch 74/100\n",
            "1/1 [==============================] - 0s 5ms/step - loss: 0.2416 - mae: 0.2416\n",
            "Epoch 75/100\n",
            "1/1 [==============================] - 0s 11ms/step - loss: 0.2081 - mae: 0.2081\n",
            "Epoch 76/100\n",
            "1/1 [==============================] - 0s 7ms/step - loss: 0.1529 - mae: 0.1529\n",
            "Epoch 77/100\n",
            "1/1 [==============================] - 0s 9ms/step - loss: 0.1490 - mae: 0.1490\n",
            "Epoch 78/100\n",
            "1/1 [==============================] - 0s 6ms/step - loss: 0.1822 - mae: 0.1822\n",
            "Epoch 79/100\n",
            "1/1 [==============================] - 0s 7ms/step - loss: 0.1554 - mae: 0.1554\n",
            "Epoch 80/100\n",
            "1/1 [==============================] - 0s 8ms/step - loss: 0.1732 - mae: 0.1732\n",
            "Epoch 81/100\n",
            "1/1 [==============================] - 0s 23ms/step - loss: 0.1381 - mae: 0.1381\n",
            "Epoch 82/100\n",
            "1/1 [==============================] - 0s 8ms/step - loss: 0.2212 - mae: 0.2212\n",
            "Epoch 83/100\n",
            "1/1 [==============================] - 0s 9ms/step - loss: 0.2469 - mae: 0.2469\n",
            "Epoch 84/100\n",
            "1/1 [==============================] - 0s 10ms/step - loss: 0.0571 - mae: 0.0571\n",
            "Epoch 85/100\n",
            "1/1 [==============================] - 0s 7ms/step - loss: 0.0425 - mae: 0.0425\n",
            "Epoch 86/100\n",
            "1/1 [==============================] - 0s 12ms/step - loss: 0.0936 - mae: 0.0936\n",
            "Epoch 87/100\n",
            "1/1 [==============================] - 0s 9ms/step - loss: 0.1603 - mae: 0.1603\n",
            "Epoch 88/100\n",
            "1/1 [==============================] - 0s 10ms/step - loss: 0.0932 - mae: 0.0932\n",
            "Epoch 89/100\n",
            "1/1 [==============================] - 0s 8ms/step - loss: 0.2802 - mae: 0.2802\n",
            "Epoch 90/100\n",
            "1/1 [==============================] - 0s 7ms/step - loss: 0.2791 - mae: 0.2791\n",
            "Epoch 91/100\n",
            "1/1 [==============================] - 0s 8ms/step - loss: 0.0608 - mae: 0.0608\n",
            "Epoch 92/100\n",
            "1/1 [==============================] - 0s 11ms/step - loss: 0.1130 - mae: 0.1130\n",
            "Epoch 93/100\n",
            "1/1 [==============================] - 0s 11ms/step - loss: 0.1291 - mae: 0.1291\n",
            "Epoch 94/100\n",
            "1/1 [==============================] - 0s 12ms/step - loss: 0.0196 - mae: 0.0196\n",
            "Epoch 95/100\n",
            "1/1 [==============================] - 0s 9ms/step - loss: 0.2261 - mae: 0.2261\n",
            "Epoch 96/100\n",
            "1/1 [==============================] - 0s 7ms/step - loss: 0.1163 - mae: 0.1163\n",
            "Epoch 97/100\n",
            "1/1 [==============================] - 0s 10ms/step - loss: 0.3081 - mae: 0.3081\n",
            "Epoch 98/100\n",
            "1/1 [==============================] - 0s 9ms/step - loss: 0.3660 - mae: 0.3660\n",
            "Epoch 99/100\n",
            "1/1 [==============================] - 0s 6ms/step - loss: 0.0961 - mae: 0.0961\n",
            "Epoch 100/100\n",
            "1/1 [==============================] - 0s 8ms/step - loss: 0.4735 - mae: 0.4735\n",
            "1/1 [==============================] - 0s 184ms/step - loss: 0.6585 - mae: 0.6585\n"
          ]
        },
        {
          "output_type": "execute_result",
          "data": {
            "text/plain": [
              "[0.6584842801094055, 0.6584842801094055]"
            ]
          },
          "metadata": {},
          "execution_count": 12
        }
      ]
    },
    {
      "cell_type": "code",
      "metadata": {
        "colab": {
          "base_uri": "https://localhost:8080/"
        },
        "id": "e2Rua4Gsk8Gd",
        "outputId": "d94482b3-cd66-476a-e337-5a813e295c6e"
      },
      "source": [
        "X,Y"
      ],
      "execution_count": 13,
      "outputs": [
        {
          "output_type": "execute_result",
          "data": {
            "text/plain": [
              "(<tf.Tensor: shape=(6,), dtype=int32, numpy=array([ 6, 12, 18, 24, 30, 36], dtype=int32)>,\n",
              " <tf.Tensor: shape=(6,), dtype=int32, numpy=array([ 8, 16, 24, 32, 40, 48], dtype=int32)>)"
            ]
          },
          "metadata": {},
          "execution_count": 13
        }
      ]
    },
    {
      "cell_type": "code",
      "metadata": {
        "colab": {
          "base_uri": "https://localhost:8080/"
        },
        "id": "LP4GpX0olA6d",
        "outputId": "81d48831-cd0c-4062-d0f1-cdc4daf7c6e8"
      },
      "source": [
        "model.predict([42])"
      ],
      "execution_count": 14,
      "outputs": [
        {
          "output_type": "execute_result",
          "data": {
            "text/plain": [
              "array([[57.297905]], dtype=float32)"
            ]
          },
          "metadata": {},
          "execution_count": 14
        }
      ]
    },
    {
      "cell_type": "markdown",
      "metadata": {
        "id": "rdtubrm4lmMl"
      },
      "source": [
        "# Three DataSet"
      ]
    },
    {
      "cell_type": "code",
      "metadata": {
        "colab": {
          "base_uri": "https://localhost:8080/"
        },
        "id": "D1VkAghelDey",
        "outputId": "38ac5fae-ee11-44a2-abf2-32a7d7be93d1"
      },
      "source": [
        "X = tf.range(-100,100,4)\n",
        "X"
      ],
      "execution_count": 15,
      "outputs": [
        {
          "output_type": "execute_result",
          "data": {
            "text/plain": [
              "<tf.Tensor: shape=(50,), dtype=int32, numpy=\n",
              "array([-100,  -96,  -92,  -88,  -84,  -80,  -76,  -72,  -68,  -64,  -60,\n",
              "        -56,  -52,  -48,  -44,  -40,  -36,  -32,  -28,  -24,  -20,  -16,\n",
              "        -12,   -8,   -4,    0,    4,    8,   12,   16,   20,   24,   28,\n",
              "         32,   36,   40,   44,   48,   52,   56,   60,   64,   68,   72,\n",
              "         76,   80,   84,   88,   92,   96], dtype=int32)>"
            ]
          },
          "metadata": {},
          "execution_count": 15
        }
      ]
    },
    {
      "cell_type": "code",
      "metadata": {
        "id": "btaDdpV6ltay"
      },
      "source": [
        "Y = X+10"
      ],
      "execution_count": 16,
      "outputs": []
    },
    {
      "cell_type": "code",
      "metadata": {
        "colab": {
          "base_uri": "https://localhost:8080/"
        },
        "id": "GRHTkuQ1luhb",
        "outputId": "a5618c4a-e9e8-4e54-98c7-c633f8290996"
      },
      "source": [
        "Y"
      ],
      "execution_count": 17,
      "outputs": [
        {
          "output_type": "execute_result",
          "data": {
            "text/plain": [
              "<tf.Tensor: shape=(50,), dtype=int32, numpy=\n",
              "array([-90, -86, -82, -78, -74, -70, -66, -62, -58, -54, -50, -46, -42,\n",
              "       -38, -34, -30, -26, -22, -18, -14, -10,  -6,  -2,   2,   6,  10,\n",
              "        14,  18,  22,  26,  30,  34,  38,  42,  46,  50,  54,  58,  62,\n",
              "        66,  70,  74,  78,  82,  86,  90,  94,  98, 102, 106], dtype=int32)>"
            ]
          },
          "metadata": {},
          "execution_count": 17
        }
      ]
    },
    {
      "cell_type": "code",
      "metadata": {
        "colab": {
          "base_uri": "https://localhost:8080/"
        },
        "id": "YxZDD1WNlu6G",
        "outputId": "60297a67-c645-494f-a312-b1a2281aa028"
      },
      "source": [
        "X.shape, Y.shape"
      ],
      "execution_count": 18,
      "outputs": [
        {
          "output_type": "execute_result",
          "data": {
            "text/plain": [
              "(TensorShape([50]), TensorShape([50]))"
            ]
          },
          "metadata": {},
          "execution_count": 18
        }
      ]
    },
    {
      "cell_type": "code",
      "metadata": {
        "id": "czFD5BFHly6n"
      },
      "source": [
        "X_train = X[:40]\n",
        "X_test = X[40:]\n",
        "Y_train = Y[:40]\n",
        "Y_test = Y[40:]\n"
      ],
      "execution_count": 19,
      "outputs": []
    },
    {
      "cell_type": "markdown",
      "metadata": {
        "id": "GJVmPNG7mq5Q"
      },
      "source": [
        "# Scatter Graph"
      ]
    },
    {
      "cell_type": "code",
      "metadata": {
        "colab": {
          "base_uri": "https://localhost:8080/",
          "height": 295
        },
        "id": "wP-wOPhCl-kZ",
        "outputId": "13473669-0594-4ffe-e30d-e0134441cb4a"
      },
      "source": [
        "plt.scatter(X_train, Y_train, color='red', label='The Train Values')\n",
        "plt.scatter(X_test, Y_test, color='green', label='The Test Values')\n",
        "plt.legend()\n",
        "plt.title('Train and Test Values')\n",
        "plt.xlabel('Train Values')\n",
        "plt.ylabel('Test Values')\n",
        "plt.show()"
      ],
      "execution_count": 20,
      "outputs": [
        {
          "output_type": "display_data",
          "data": {
            "image/png": "[encoded data removed]",
            "text/plain": [
              "<Figure size 432x288 with 1 Axes>"
            ]
          },
          "metadata": {
            "needs_background": "light"
          }
        }
      ]
    },
    {
      "cell_type": "markdown",
      "metadata": {
        "id": "hqsKnVHlmuFl"
      },
      "source": [
        "# Model Summary"
      ]
    },
    {
      "cell_type": "code",
      "metadata": {
        "id": "n8sbxK3-mZuo"
      },
      "source": [
        "tf.random.set_seed(42)\n",
        "\n",
        "model = tf.keras.Sequential([\n",
        "                             tf.keras.layers.Dense(1, input_shape=[1])\n",
        "])\n",
        "\n",
        "model.compile(\n",
        "    loss = tf.keras.losses.mae,\n",
        "    optimizer = tf.keras.optimizers.SGD(),\n",
        "    metrics=['mae']\n",
        ")\n",
        "\n"
      ],
      "execution_count": 21,
      "outputs": []
    },
    {
      "cell_type": "code",
      "metadata": {
        "colab": {
          "base_uri": "https://localhost:8080/"
        },
        "id": "5eF58Z5bnMjY",
        "outputId": "44694022-2ae7-44ba-98a1-a7fca95181a6"
      },
      "source": [
        "model.summary()"
      ],
      "execution_count": 22,
      "outputs": [
        {
          "output_type": "stream",
          "name": "stdout",
          "text": [
            "Model: \"sequential_4\"\n",
            "_________________________________________________________________\n",
            " Layer (type)                Output Shape              Param #   \n",
            "=================================================================\n",
            " dense_6 (Dense)             (None, 1)                 2         \n",
            "                                                                 \n",
            "=================================================================\n",
            "Total params: 2\n",
            "Trainable params: 2\n",
            "Non-trainable params: 0\n",
            "_________________________________________________________________\n"
          ]
        }
      ]
    },
    {
      "cell_type": "code",
      "metadata": {
        "colab": {
          "base_uri": "https://localhost:8080/"
        },
        "id": "rhwo54ssnOyk",
        "outputId": "1aff4a1e-1a0f-4ce8-e235-f086f7c59448"
      },
      "source": [
        "X,Y"
      ],
      "execution_count": 23,
      "outputs": [
        {
          "output_type": "execute_result",
          "data": {
            "text/plain": [
              "(<tf.Tensor: shape=(50,), dtype=int32, numpy=\n",
              " array([-100,  -96,  -92,  -88,  -84,  -80,  -76,  -72,  -68,  -64,  -60,\n",
              "         -56,  -52,  -48,  -44,  -40,  -36,  -32,  -28,  -24,  -20,  -16,\n",
              "         -12,   -8,   -4,    0,    4,    8,   12,   16,   20,   24,   28,\n",
              "          32,   36,   40,   44,   48,   52,   56,   60,   64,   68,   72,\n",
              "          76,   80,   84,   88,   92,   96], dtype=int32)>,\n",
              " <tf.Tensor: shape=(50,), dtype=int32, numpy=\n",
              " array([-90, -86, -82, -78, -74, -70, -66, -62, -58, -54, -50, -46, -42,\n",
              "        -38, -34, -30, -26, -22, -18, -14, -10,  -6,  -2,   2,   6,  10,\n",
              "         14,  18,  22,  26,  30,  34,  38,  42,  46,  50,  54,  58,  62,\n",
              "         66,  70,  74,  78,  82,  86,  90,  94,  98, 102, 106], dtype=int32)>)"
            ]
          },
          "metadata": {},
          "execution_count": 23
        }
      ]
    },
    {
      "cell_type": "code",
      "metadata": {
        "colab": {
          "base_uri": "https://localhost:8080/"
        },
        "id": "G9Q3SsLtnbIv",
        "outputId": "baf66a38-f7bf-4bf4-b3ae-c71f85d89a34"
      },
      "source": [
        "model.summary()"
      ],
      "execution_count": 24,
      "outputs": [
        {
          "output_type": "stream",
          "name": "stdout",
          "text": [
            "Model: \"sequential_4\"\n",
            "_________________________________________________________________\n",
            " Layer (type)                Output Shape              Param #   \n",
            "=================================================================\n",
            " dense_6 (Dense)             (None, 1)                 2         \n",
            "                                                                 \n",
            "=================================================================\n",
            "Total params: 2\n",
            "Trainable params: 2\n",
            "Non-trainable params: 0\n",
            "_________________________________________________________________\n"
          ]
        }
      ]
    },
    {
      "cell_type": "code",
      "metadata": {
        "colab": {
          "base_uri": "https://localhost:8080/"
        },
        "id": "TRFxFArMnf0q",
        "outputId": "c817ea39-3e57-40e3-d783-e933be0e284b"
      },
      "source": [
        "y_pred = model.predict(X_test)"
      ],
      "execution_count": 25,
      "outputs": [
        {
          "output_type": "stream",
          "name": "stdout",
          "text": [
            "WARNING:tensorflow:5 out of the last 5 calls to <function Model.make_predict_function.<locals>.predict_function at 0x7f6342aa0710> triggered tf.function retracing. Tracing is expensive and the excessive number of tracings could be due to (1) creating @tf.function repeatedly in a loop, (2) passing tensors with different shapes, (3) passing Python objects instead of tensors. For (1), please define your @tf.function outside of the loop. For (2), @tf.function has experimental_relax_shapes=True option that relaxes argument shapes that can avoid unnecessary retracing. For (3), please refer to https://www.tensorflow.org/guide/function#controlling_retracing and https://www.tensorflow.org/api_docs/python/tf/function for  more details.\n"
          ]
        }
      ]
    },
    {
      "cell_type": "code",
      "metadata": {
        "colab": {
          "base_uri": "https://localhost:8080/"
        },
        "id": "ezXw-iMcnqBX",
        "outputId": "e3f27f2c-1f33-4158-c473-f9b04f65e8b6"
      },
      "source": [
        "y_pred"
      ],
      "execution_count": 26,
      "outputs": [
        {
          "output_type": "execute_result",
          "data": {
            "text/plain": [
              "array([[34.203594],\n",
              "       [36.483833],\n",
              "       [38.764072],\n",
              "       [41.04431 ],\n",
              "       [43.32455 ],\n",
              "       [45.60479 ],\n",
              "       [47.885033],\n",
              "       [50.16527 ],\n",
              "       [52.44551 ],\n",
              "       [54.72575 ]], dtype=float32)"
            ]
          },
          "metadata": {},
          "execution_count": 26
        }
      ]
    },
    {
      "cell_type": "code",
      "metadata": {
        "colab": {
          "base_uri": "https://localhost:8080/"
        },
        "id": "VmeKETzdnrVn",
        "outputId": "6827099f-ccfe-4ae4-adc6-e543be47ae09"
      },
      "source": [
        "y_pred.shape, X_test.shape"
      ],
      "execution_count": 27,
      "outputs": [
        {
          "output_type": "execute_result",
          "data": {
            "text/plain": [
              "((10, 1), TensorShape([10]))"
            ]
          },
          "metadata": {},
          "execution_count": 27
        }
      ]
    },
    {
      "cell_type": "code",
      "metadata": {
        "id": "MijIDcPQnvyD"
      },
      "source": [
        "y_pred_squeeze = tf.squeeze(y_pred)"
      ],
      "execution_count": 28,
      "outputs": []
    },
    {
      "cell_type": "code",
      "metadata": {
        "colab": {
          "base_uri": "https://localhost:8080/"
        },
        "id": "xczWBy9Bn0aw",
        "outputId": "85b258c4-213e-473d-acec-f52b674c77d9"
      },
      "source": [
        "y_pred_squeeze.shape, X_test.shape"
      ],
      "execution_count": 29,
      "outputs": [
        {
          "output_type": "execute_result",
          "data": {
            "text/plain": [
              "(TensorShape([10]), TensorShape([10]))"
            ]
          },
          "metadata": {},
          "execution_count": 29
        }
      ]
    },
    {
      "cell_type": "code",
      "metadata": {
        "id": "-DGU3khxn3wN"
      },
      "source": [
        "def plot_predictions(\n",
        "    train_data = X_train,\n",
        "    train_label = Y_train,\n",
        "    test_data = X_test,\n",
        "    test_label = Y_test,\n",
        "    predictions = y_pred_squeeze):\n",
        "  \n",
        "  plt.scatter(train_data, train_label , color='red', label='Train Labels')\n",
        "  plt.scatter(test_data, test_label, color='green', label='Test Labels')\n",
        "  plt.scatter(test_data, predictions, color='blue', label='Test Values With Predictions')\n",
        "  plt.legend()\n",
        "  plt.title('Train and Test labels')\n",
        "  plt.xlabel('Train Values')\n",
        "  plt.ylabel('Test Values')\n",
        "  plt.show()\n",
        "\n",
        "\n"
      ],
      "execution_count": 30,
      "outputs": []
    },
    {
      "cell_type": "code",
      "metadata": {
        "colab": {
          "base_uri": "https://localhost:8080/",
          "height": 295
        },
        "id": "w3UuzDxxpPlJ",
        "outputId": "62c1c350-9f65-47a4-c4c4-ff33310674aa"
      },
      "source": [
        "plot_predictions();"
      ],
      "execution_count": 31,
      "outputs": [
        {
          "output_type": "display_data",
          "data": {
            "image/png": "[encoded data removed]",
            "text/plain": [
              "<Figure size 432x288 with 1 Axes>"
            ]
          },
          "metadata": {
            "needs_background": "light"
          }
        }
      ]
    },
    {
      "cell_type": "code",
      "metadata": {
        "id": "q_3hQNl8pTnd"
      },
      "source": [
        "def mae(y_true,y_pred):\n",
        "  return tf.metrics.mean_absolute_error(y_true=Y_test, y_pred=y_pred_squeeze)"
      ],
      "execution_count": 32,
      "outputs": []
    },
    {
      "cell_type": "code",
      "metadata": {
        "id": "Ckj0Pdu9pyTa"
      },
      "source": [
        "def mse(y_true, y_pred):\n",
        "  return  tf.metrics.mean_squared_error(y_true=Y_test, y_pred=y_pred_squeeze)"
      ],
      "execution_count": 33,
      "outputs": []
    },
    {
      "cell_type": "code",
      "metadata": {
        "colab": {
          "base_uri": "https://localhost:8080/"
        },
        "id": "XN57DqJGqMa8",
        "outputId": "b7797c35-ae01-4f69-fd61-5c1ef92f5db7"
      },
      "source": [
        "mae, mse"
      ],
      "execution_count": 34,
      "outputs": [
        {
          "output_type": "execute_result",
          "data": {
            "text/plain": [
              "(<function __main__.mae>, <function __main__.mse>)"
            ]
          },
          "metadata": {},
          "execution_count": 34
        }
      ]
    },
    {
      "cell_type": "markdown",
      "metadata": {
        "id": "7hJwfOiYqXQT"
      },
      "source": [
        "# **Modelling Experiments**"
      ]
    },
    {
      "cell_type": "markdown",
      "metadata": {
        "id": "76WSmIHnqdLU"
      },
      "source": [
        "# Model No 1"
      ]
    },
    {
      "cell_type": "code",
      "metadata": {
        "colab": {
          "base_uri": "https://localhost:8080/"
        },
        "id": "0ewaTNnOqOE1",
        "outputId": "791cd443-0daf-42e2-81a4-526a00103a67"
      },
      "source": [
        "tf.random.set_seed(42)\n",
        "\n",
        "model_1 = tf.keras.Sequential([\n",
        "                               tf.keras.layers.Dense(1),\n",
        "])\n",
        "\n",
        "model_1.compile(\n",
        "    loss = tf.keras.losses.mae,\n",
        "    optimizer = tf.keras.optimizers.SGD(),\n",
        "    metrics=['mae']\n",
        ")\n",
        "model_1.fit(tf.expand_dims(X,axis=1),Y,epochs=100)\n",
        "\n",
        "model_1.evaluate(X,Y)"
      ],
      "execution_count": 35,
      "outputs": [
        {
          "output_type": "stream",
          "name": "stdout",
          "text": [
            "Epoch 1/100\n",
            "2/2 [==============================] - 0s 6ms/step - loss: 19.0311 - mae: 19.0311\n",
            "Epoch 2/100\n",
            "2/2 [==============================] - 0s 3ms/step - loss: 10.8111 - mae: 10.8111\n",
            "Epoch 3/100\n",
            "2/2 [==============================] - 0s 4ms/step - loss: 14.5005 - mae: 14.5005\n",
            "Epoch 4/100\n",
            "2/2 [==============================] - 0s 4ms/step - loss: 10.0958 - mae: 10.0958\n",
            "Epoch 5/100\n",
            "2/2 [==============================] - 0s 9ms/step - loss: 15.5388 - mae: 15.5388\n",
            "Epoch 6/100\n",
            "2/2 [==============================] - 0s 4ms/step - loss: 11.8626 - mae: 11.8626\n",
            "Epoch 7/100\n",
            "2/2 [==============================] - 0s 5ms/step - loss: 9.1727 - mae: 9.1727\n",
            "Epoch 8/100\n",
            "2/2 [==============================] - 0s 7ms/step - loss: 13.6143 - mae: 13.6143\n",
            "Epoch 9/100\n",
            "2/2 [==============================] - 0s 5ms/step - loss: 13.8577 - mae: 13.8577\n",
            "Epoch 10/100\n",
            "2/2 [==============================] - 0s 4ms/step - loss: 9.9966 - mae: 9.9966\n",
            "Epoch 11/100\n",
            "2/2 [==============================] - 0s 7ms/step - loss: 9.9685 - mae: 9.9685\n",
            "Epoch 12/100\n",
            "2/2 [==============================] - 0s 12ms/step - loss: 9.9097 - mae: 9.9097\n",
            "Epoch 13/100\n",
            "2/2 [==============================] - 0s 8ms/step - loss: 9.7478 - mae: 9.7478\n",
            "Epoch 14/100\n",
            "2/2 [==============================] - 0s 4ms/step - loss: 10.5485 - mae: 10.5485\n",
            "Epoch 15/100\n",
            "2/2 [==============================] - 0s 14ms/step - loss: 13.7915 - mae: 13.7915\n",
            "Epoch 16/100\n",
            "2/2 [==============================] - 0s 10ms/step - loss: 12.5861 - mae: 12.5861\n",
            "Epoch 17/100\n",
            "2/2 [==============================] - 0s 14ms/step - loss: 10.2180 - mae: 10.2180\n",
            "Epoch 18/100\n",
            "2/2 [==============================] - 0s 7ms/step - loss: 10.1329 - mae: 10.1329\n",
            "Epoch 19/100\n",
            "2/2 [==============================] - 0s 11ms/step - loss: 9.9154 - mae: 9.9154\n",
            "Epoch 20/100\n",
            "2/2 [==============================] - 0s 8ms/step - loss: 12.7204 - mae: 12.7204\n",
            "Epoch 21/100\n",
            "2/2 [==============================] - 0s 6ms/step - loss: 12.9522 - mae: 12.9522\n",
            "Epoch 22/100\n",
            "2/2 [==============================] - 0s 6ms/step - loss: 9.5668 - mae: 9.5668\n",
            "Epoch 23/100\n",
            "2/2 [==============================] - 0s 5ms/step - loss: 9.3870 - mae: 9.3870\n",
            "Epoch 24/100\n",
            "2/2 [==============================] - 0s 4ms/step - loss: 9.7060 - mae: 9.7060\n",
            "Epoch 25/100\n",
            "2/2 [==============================] - 0s 8ms/step - loss: 9.6024 - mae: 9.6024\n",
            "Epoch 26/100\n",
            "2/2 [==============================] - 0s 5ms/step - loss: 9.4918 - mae: 9.4918\n",
            "Epoch 27/100\n",
            "2/2 [==============================] - 0s 5ms/step - loss: 9.7140 - mae: 9.7140\n",
            "Epoch 28/100\n",
            "2/2 [==============================] - 0s 5ms/step - loss: 9.5882 - mae: 9.5882\n",
            "Epoch 29/100\n",
            "2/2 [==============================] - 0s 5ms/step - loss: 9.4746 - mae: 9.4746\n",
            "Epoch 30/100\n",
            "2/2 [==============================] - 0s 4ms/step - loss: 10.0289 - mae: 10.0289\n",
            "Epoch 31/100\n",
            "2/2 [==============================] - 0s 5ms/step - loss: 13.3862 - mae: 13.3862\n",
            "Epoch 32/100\n",
            "2/2 [==============================] - 0s 5ms/step - loss: 9.6345 - mae: 9.6345\n",
            "Epoch 33/100\n",
            "2/2 [==============================] - 0s 5ms/step - loss: 9.5676 - mae: 9.5676\n",
            "Epoch 34/100\n",
            "2/2 [==============================] - 0s 4ms/step - loss: 9.8932 - mae: 9.8932\n",
            "Epoch 35/100\n",
            "2/2 [==============================] - 0s 4ms/step - loss: 10.1582 - mae: 10.1582\n",
            "Epoch 36/100\n",
            "2/2 [==============================] - 0s 6ms/step - loss: 9.5081 - mae: 9.5081\n",
            "Epoch 37/100\n",
            "2/2 [==============================] - 0s 4ms/step - loss: 9.4231 - mae: 9.4231\n",
            "Epoch 38/100\n",
            "2/2 [==============================] - 0s 7ms/step - loss: 9.6222 - mae: 9.6222\n",
            "Epoch 39/100\n",
            "2/2 [==============================] - 0s 7ms/step - loss: 10.3634 - mae: 10.3634\n",
            "Epoch 40/100\n",
            "2/2 [==============================] - 0s 6ms/step - loss: 11.5608 - mae: 11.5608\n",
            "Epoch 41/100\n",
            "2/2 [==============================] - 0s 11ms/step - loss: 9.7365 - mae: 9.7365\n",
            "Epoch 42/100\n",
            "2/2 [==============================] - 0s 6ms/step - loss: 9.3273 - mae: 9.3273\n",
            "Epoch 43/100\n",
            "2/2 [==============================] - 0s 16ms/step - loss: 9.1406 - mae: 9.1406\n",
            "Epoch 44/100\n",
            "2/2 [==============================] - 0s 9ms/step - loss: 9.5279 - mae: 9.5279\n",
            "Epoch 45/100\n",
            "2/2 [==============================] - 0s 6ms/step - loss: 9.6614 - mae: 9.6614\n",
            "Epoch 46/100\n",
            "2/2 [==============================] - 0s 6ms/step - loss: 9.1543 - mae: 9.1543\n",
            "Epoch 47/100\n",
            "2/2 [==============================] - 0s 7ms/step - loss: 9.0604 - mae: 9.0604\n",
            "Epoch 48/100\n",
            "2/2 [==============================] - 0s 7ms/step - loss: 8.7624 - mae: 8.7624\n",
            "Epoch 49/100\n",
            "2/2 [==============================] - 0s 7ms/step - loss: 10.8369 - mae: 10.8369\n",
            "Epoch 50/100\n",
            "2/2 [==============================] - 0s 7ms/step - loss: 8.8573 - mae: 8.8573\n",
            "Epoch 51/100\n",
            "2/2 [==============================] - 0s 5ms/step - loss: 10.3175 - mae: 10.3175\n",
            "Epoch 52/100\n",
            "2/2 [==============================] - 0s 9ms/step - loss: 14.8285 - mae: 14.8285\n",
            "Epoch 53/100\n",
            "2/2 [==============================] - 0s 6ms/step - loss: 8.7053 - mae: 8.7053\n",
            "Epoch 54/100\n",
            "2/2 [==============================] - 0s 7ms/step - loss: 9.4249 - mae: 9.4249\n",
            "Epoch 55/100\n",
            "2/2 [==============================] - 0s 6ms/step - loss: 9.8385 - mae: 9.8385\n",
            "Epoch 56/100\n",
            "2/2 [==============================] - 0s 7ms/step - loss: 12.1663 - mae: 12.1663\n",
            "Epoch 57/100\n",
            "2/2 [==============================] - 0s 8ms/step - loss: 16.1752 - mae: 16.1752\n",
            "Epoch 58/100\n",
            "2/2 [==============================] - 0s 8ms/step - loss: 15.0076 - mae: 15.0076\n",
            "Epoch 59/100\n",
            "2/2 [==============================] - 0s 7ms/step - loss: 15.3698 - mae: 15.3698\n",
            "Epoch 60/100\n",
            "2/2 [==============================] - 0s 6ms/step - loss: 12.5261 - mae: 12.5261\n",
            "Epoch 61/100\n",
            "2/2 [==============================] - 0s 6ms/step - loss: 13.0420 - mae: 13.0420\n",
            "Epoch 62/100\n",
            "2/2 [==============================] - 0s 9ms/step - loss: 10.2323 - mae: 10.2323\n",
            "Epoch 63/100\n",
            "2/2 [==============================] - 0s 7ms/step - loss: 12.0069 - mae: 12.0069\n",
            "Epoch 64/100\n",
            "2/2 [==============================] - 0s 7ms/step - loss: 9.5151 - mae: 9.5151\n",
            "Epoch 65/100\n",
            "2/2 [==============================] - 0s 8ms/step - loss: 8.9926 - mae: 8.9926\n",
            "Epoch 66/100\n",
            "2/2 [==============================] - 0s 10ms/step - loss: 8.9825 - mae: 8.9825\n",
            "Epoch 67/100\n",
            "2/2 [==============================] - 0s 7ms/step - loss: 9.1020 - mae: 9.1020\n",
            "Epoch 68/100\n",
            "2/2 [==============================] - 0s 7ms/step - loss: 9.2138 - mae: 9.2138\n",
            "Epoch 69/100\n",
            "2/2 [==============================] - 0s 6ms/step - loss: 9.2091 - mae: 9.2091\n",
            "Epoch 70/100\n",
            "2/2 [==============================] - 0s 6ms/step - loss: 9.4690 - mae: 9.4690\n",
            "Epoch 71/100\n",
            "2/2 [==============================] - 0s 13ms/step - loss: 8.9142 - mae: 8.9142\n",
            "Epoch 72/100\n",
            "2/2 [==============================] - 0s 8ms/step - loss: 9.9897 - mae: 9.9897\n",
            "Epoch 73/100\n",
            "2/2 [==============================] - 0s 4ms/step - loss: 11.9300 - mae: 11.9300\n",
            "Epoch 74/100\n",
            "2/2 [==============================] - 0s 6ms/step - loss: 8.5859 - mae: 8.5859\n",
            "Epoch 75/100\n",
            "2/2 [==============================] - 0s 4ms/step - loss: 8.7776 - mae: 8.7776\n",
            "Epoch 76/100\n",
            "2/2 [==============================] - 0s 9ms/step - loss: 8.8232 - mae: 8.8232\n",
            "Epoch 77/100\n",
            "2/2 [==============================] - 0s 9ms/step - loss: 8.1895 - mae: 8.1895\n",
            "Epoch 78/100\n",
            "2/2 [==============================] - 0s 7ms/step - loss: 11.2235 - mae: 11.2235\n",
            "Epoch 79/100\n",
            "2/2 [==============================] - 0s 4ms/step - loss: 9.5682 - mae: 9.5682\n",
            "Epoch 80/100\n",
            "2/2 [==============================] - 0s 5ms/step - loss: 13.1783 - mae: 13.1783\n",
            "Epoch 81/100\n",
            "2/2 [==============================] - 0s 3ms/step - loss: 14.3245 - mae: 14.3245\n",
            "Epoch 82/100\n",
            "2/2 [==============================] - 0s 14ms/step - loss: 16.2560 - mae: 16.2560\n",
            "Epoch 83/100\n",
            "2/2 [==============================] - 0s 10ms/step - loss: 9.5568 - mae: 9.5568\n",
            "Epoch 84/100\n",
            "2/2 [==============================] - 0s 5ms/step - loss: 8.6519 - mae: 8.6519\n",
            "Epoch 85/100\n",
            "2/2 [==============================] - 0s 5ms/step - loss: 8.7552 - mae: 8.7552\n",
            "Epoch 86/100\n",
            "2/2 [==============================] - 0s 5ms/step - loss: 9.0234 - mae: 9.0234\n",
            "Epoch 87/100\n",
            "2/2 [==============================] - 0s 10ms/step - loss: 9.1794 - mae: 9.1794\n",
            "Epoch 88/100\n",
            "2/2 [==============================] - 0s 11ms/step - loss: 8.7276 - mae: 8.7276\n",
            "Epoch 89/100\n",
            "2/2 [==============================] - 0s 5ms/step - loss: 8.8707 - mae: 8.8707\n",
            "Epoch 90/100\n",
            "2/2 [==============================] - 0s 6ms/step - loss: 8.6802 - mae: 8.6802\n",
            "Epoch 91/100\n",
            "2/2 [==============================] - 0s 7ms/step - loss: 8.7301 - mae: 8.7301\n",
            "Epoch 92/100\n",
            "2/2 [==============================] - 0s 7ms/step - loss: 8.5968 - mae: 8.5968\n",
            "Epoch 93/100\n",
            "2/2 [==============================] - 0s 5ms/step - loss: 9.1886 - mae: 9.1886\n",
            "Epoch 94/100\n",
            "2/2 [==============================] - 0s 7ms/step - loss: 9.9125 - mae: 9.9125\n",
            "Epoch 95/100\n",
            "2/2 [==============================] - 0s 7ms/step - loss: 12.8242 - mae: 12.8242\n",
            "Epoch 96/100\n",
            "2/2 [==============================] - 0s 5ms/step - loss: 9.1602 - mae: 9.1602\n",
            "Epoch 97/100\n",
            "2/2 [==============================] - 0s 11ms/step - loss: 10.5435 - mae: 10.5435\n",
            "Epoch 98/100\n",
            "2/2 [==============================] - 0s 5ms/step - loss: 14.7497 - mae: 14.7497\n",
            "Epoch 99/100\n",
            "2/2 [==============================] - 0s 6ms/step - loss: 10.8591 - mae: 10.8591\n",
            "Epoch 100/100\n",
            "2/2 [==============================] - 0s 4ms/step - loss: 14.9030 - mae: 14.9030\n",
            "WARNING:tensorflow:5 out of the last 5 calls to <function Model.make_test_function.<locals>.test_function at 0x7f634279cf80> triggered tf.function retracing. Tracing is expensive and the excessive number of tracings could be due to (1) creating @tf.function repeatedly in a loop, (2) passing tensors with different shapes, (3) passing Python objects instead of tensors. For (1), please define your @tf.function outside of the loop. For (2), @tf.function has experimental_relax_shapes=True option that relaxes argument shapes that can avoid unnecessary retracing. For (3), please refer to https://www.tensorflow.org/guide/function#controlling_retracing and https://www.tensorflow.org/api_docs/python/tf/function for  more details.\n",
            "2/2 [==============================] - 0s 11ms/step - loss: 8.6299 - mae: 8.6299\n"
          ]
        },
        {
          "output_type": "execute_result",
          "data": {
            "text/plain": [
              "[8.629892349243164, 8.629892349243164]"
            ]
          },
          "metadata": {},
          "execution_count": 35
        }
      ]
    },
    {
      "cell_type": "code",
      "metadata": {
        "id": "3T2m-XOCq93D"
      },
      "source": [
        "y_pred_1 = model_1.predict(X_test)"
      ],
      "execution_count": 66,
      "outputs": []
    },
    {
      "cell_type": "code",
      "metadata": {
        "colab": {
          "base_uri": "https://localhost:8080/",
          "height": 295
        },
        "id": "Ls7mXnSKrEYE",
        "outputId": "07ae283c-134b-473f-8532-b86709121df9"
      },
      "source": [
        "plot_predictions(predictions=y_pred_1)"
      ],
      "execution_count": 67,
      "outputs": [
        {
          "output_type": "display_data",
          "data": {
            "image/png": "[encoded data removed]",
            "text/plain": [
              "<Figure size 432x288 with 1 Axes>"
            ]
          },
          "metadata": {
            "needs_background": "light"
          }
        }
      ]
    },
    {
      "cell_type": "markdown",
      "metadata": {
        "id": "LFUw8Y7krO8P"
      },
      "source": [
        "# Model No 2"
      ]
    },
    {
      "cell_type": "code",
      "metadata": {
        "colab": {
          "base_uri": "https://localhost:8080/"
        },
        "id": "K06F0vEXrNYy",
        "outputId": "e51c3d23-4570-4fa5-845a-a2f8923d750c"
      },
      "source": [
        "tf.random.set_seed(42)\n",
        "\n",
        "model_2 = tf.keras.Sequential([\n",
        "                             tf.keras.layers.Dense(10),\n",
        "                             tf.keras.layers.Dense(1)\n",
        "])\n",
        "\n",
        "model_2.compile(\n",
        "    loss = tf.keras.losses.mae,\n",
        "    optimizer = tf.keras.optimizers.SGD(),\n",
        "    metrics=['mse']\n",
        ")\n",
        "\n",
        "model_2.fit(tf.expand_dims(X,axis=1),Y,epochs=100)\n",
        "\n",
        "model_2.evaluate(X,Y)"
      ],
      "execution_count": 38,
      "outputs": [
        {
          "output_type": "stream",
          "name": "stdout",
          "text": [
            "Epoch 1/100\n",
            "2/2 [==============================] - 0s 7ms/step - loss: 40.2867 - mse: 2321.9255\n",
            "Epoch 2/100\n",
            "2/2 [==============================] - 0s 5ms/step - loss: 25.9297 - mse: 954.1400\n",
            "Epoch 3/100\n",
            "2/2 [==============================] - 0s 5ms/step - loss: 44.1696 - mse: 2935.2297\n",
            "Epoch 4/100\n",
            "2/2 [==============================] - 0s 5ms/step - loss: 11.2212 - mse: 160.3935\n",
            "Epoch 5/100\n",
            "2/2 [==============================] - 0s 5ms/step - loss: 23.0317 - mse: 764.6420\n",
            "Epoch 6/100\n",
            "2/2 [==============================] - 0s 5ms/step - loss: 24.2563 - mse: 911.0153\n",
            "Epoch 7/100\n",
            "2/2 [==============================] - 0s 5ms/step - loss: 11.2416 - mse: 161.5344\n",
            "Epoch 8/100\n",
            "2/2 [==============================] - 0s 5ms/step - loss: 34.1576 - mse: 1550.3260\n",
            "Epoch 9/100\n",
            "2/2 [==============================] - 0s 8ms/step - loss: 12.5246 - mse: 236.5703\n",
            "Epoch 10/100\n",
            "2/2 [==============================] - 0s 7ms/step - loss: 10.1823 - mse: 121.3602\n",
            "Epoch 11/100\n",
            "2/2 [==============================] - 0s 7ms/step - loss: 23.0436 - mse: 774.8090\n",
            "Epoch 12/100\n",
            "2/2 [==============================] - 0s 6ms/step - loss: 16.3819 - mse: 431.2167\n",
            "Epoch 13/100\n",
            "2/2 [==============================] - 0s 7ms/step - loss: 22.6688 - mse: 825.2933\n",
            "Epoch 14/100\n",
            "2/2 [==============================] - 0s 7ms/step - loss: 22.1103 - mse: 698.4519\n",
            "Epoch 15/100\n",
            "2/2 [==============================] - 0s 6ms/step - loss: 19.8442 - mse: 629.6105\n",
            "Epoch 16/100\n",
            "2/2 [==============================] - 0s 6ms/step - loss: 23.1707 - mse: 872.3577\n",
            "Epoch 17/100\n",
            "2/2 [==============================] - 0s 9ms/step - loss: 11.5075 - mse: 221.5737\n",
            "Epoch 18/100\n",
            "2/2 [==============================] - 0s 6ms/step - loss: 29.7742 - mse: 1202.8987\n",
            "Epoch 19/100\n",
            "2/2 [==============================] - 0s 11ms/step - loss: 18.4085 - mse: 591.2548\n",
            "Epoch 20/100\n",
            "2/2 [==============================] - 0s 9ms/step - loss: 18.7610 - mse: 529.2491\n",
            "Epoch 21/100\n",
            "2/2 [==============================] - 0s 7ms/step - loss: 19.4369 - mse: 522.8313\n",
            "Epoch 22/100\n",
            "2/2 [==============================] - 0s 9ms/step - loss: 20.5783 - mse: 631.6808\n",
            "Epoch 23/100\n",
            "2/2 [==============================] - 0s 6ms/step - loss: 19.8132 - mse: 552.3674\n",
            "Epoch 24/100\n",
            "2/2 [==============================] - 0s 7ms/step - loss: 18.7247 - mse: 554.4182\n",
            "Epoch 25/100\n",
            "2/2 [==============================] - 0s 8ms/step - loss: 21.7989 - mse: 712.5184\n",
            "Epoch 26/100\n",
            "2/2 [==============================] - 0s 6ms/step - loss: 10.6899 - mse: 169.2579\n",
            "Epoch 27/100\n",
            "2/2 [==============================] - 0s 5ms/step - loss: 30.8423 - mse: 1347.6296\n",
            "Epoch 28/100\n",
            "2/2 [==============================] - 0s 9ms/step - loss: 16.5686 - mse: 438.7157\n",
            "Epoch 29/100\n",
            "2/2 [==============================] - 0s 6ms/step - loss: 33.0226 - mse: 1530.7896\n",
            "Epoch 30/100\n",
            "2/2 [==============================] - 0s 7ms/step - loss: 19.5703 - mse: 612.7024\n",
            "Epoch 31/100\n",
            "2/2 [==============================] - 0s 7ms/step - loss: 12.5353 - mse: 229.2954\n",
            "Epoch 32/100\n",
            "2/2 [==============================] - 0s 14ms/step - loss: 20.7130 - mse: 592.4906\n",
            "Epoch 33/100\n",
            "2/2 [==============================] - 0s 5ms/step - loss: 20.6412 - mse: 651.3763\n",
            "Epoch 34/100\n",
            "2/2 [==============================] - 0s 8ms/step - loss: 21.2043 - mse: 655.7866\n",
            "Epoch 35/100\n",
            "2/2 [==============================] - 0s 4ms/step - loss: 21.3012 - mse: 745.6329\n",
            "Epoch 36/100\n",
            "2/2 [==============================] - 0s 7ms/step - loss: 18.8072 - mse: 577.7540\n",
            "Epoch 37/100\n",
            "2/2 [==============================] - 0s 9ms/step - loss: 27.4462 - mse: 1128.6895\n",
            "Epoch 38/100\n",
            "2/2 [==============================] - 0s 7ms/step - loss: 29.1100 - mse: 1138.0177\n",
            "Epoch 39/100\n",
            "2/2 [==============================] - 0s 6ms/step - loss: 20.5542 - mse: 641.3965\n",
            "Epoch 40/100\n",
            "2/2 [==============================] - 0s 8ms/step - loss: 20.6334 - mse: 697.1397\n",
            "Epoch 41/100\n",
            "2/2 [==============================] - 0s 8ms/step - loss: 24.9726 - mse: 879.7936\n",
            "Epoch 42/100\n",
            "2/2 [==============================] - 0s 7ms/step - loss: 20.5609 - mse: 623.9511\n",
            "Epoch 43/100\n",
            "2/2 [==============================] - 0s 9ms/step - loss: 23.1231 - mse: 868.5730\n",
            "Epoch 44/100\n",
            "2/2 [==============================] - 0s 8ms/step - loss: 9.8053 - mse: 116.5319\n",
            "Epoch 45/100\n",
            "2/2 [==============================] - 0s 7ms/step - loss: 22.5487 - mse: 733.3742\n",
            "Epoch 46/100\n",
            "2/2 [==============================] - 0s 15ms/step - loss: 9.2110 - mse: 106.7973\n",
            "Epoch 47/100\n",
            "2/2 [==============================] - 0s 8ms/step - loss: 20.3679 - mse: 651.9070\n",
            "Epoch 48/100\n",
            "2/2 [==============================] - 0s 14ms/step - loss: 8.4309 - mse: 114.8761\n",
            "Epoch 49/100\n",
            "2/2 [==============================] - 0s 11ms/step - loss: 12.6659 - mse: 256.6947\n",
            "Epoch 50/100\n",
            "2/2 [==============================] - 0s 8ms/step - loss: 32.1829 - mse: 1403.0283\n",
            "Epoch 51/100\n",
            "2/2 [==============================] - 0s 7ms/step - loss: 16.5208 - mse: 396.4330\n",
            "Epoch 52/100\n",
            "2/2 [==============================] - 0s 8ms/step - loss: 33.7598 - mse: 1617.9999\n",
            "Epoch 53/100\n",
            "2/2 [==============================] - 0s 8ms/step - loss: 9.7791 - mse: 118.2819\n",
            "Epoch 54/100\n",
            "2/2 [==============================] - 0s 10ms/step - loss: 11.4445 - mse: 187.3186\n",
            "Epoch 55/100\n",
            "2/2 [==============================] - 0s 9ms/step - loss: 24.6060 - mse: 859.5567\n",
            "Epoch 56/100\n",
            "2/2 [==============================] - 0s 5ms/step - loss: 9.1433 - mse: 87.9627\n",
            "Epoch 57/100\n",
            "2/2 [==============================] - 0s 8ms/step - loss: 11.6297 - mse: 168.6967\n",
            "Epoch 58/100\n",
            "2/2 [==============================] - 0s 11ms/step - loss: 27.3491 - mse: 1121.5461\n",
            "Epoch 59/100\n",
            "2/2 [==============================] - 0s 7ms/step - loss: 25.1758 - mse: 934.2424\n",
            "Epoch 60/100\n",
            "2/2 [==============================] - 0s 7ms/step - loss: 11.4501 - mse: 182.1051\n",
            "Epoch 61/100\n",
            "2/2 [==============================] - 0s 5ms/step - loss: 31.5022 - mse: 1435.9985\n",
            "Epoch 62/100\n",
            "2/2 [==============================] - 0s 6ms/step - loss: 21.6164 - mse: 751.8551\n",
            "Epoch 63/100\n",
            "2/2 [==============================] - 0s 6ms/step - loss: 9.4131 - mse: 110.2309\n",
            "Epoch 64/100\n",
            "2/2 [==============================] - 0s 6ms/step - loss: 27.2951 - mse: 1034.0459\n",
            "Epoch 65/100\n",
            "2/2 [==============================] - 0s 5ms/step - loss: 8.9828 - mse: 85.7530\n",
            "Epoch 66/100\n",
            "2/2 [==============================] - 0s 5ms/step - loss: 9.2362 - mse: 122.2021\n",
            "Epoch 67/100\n",
            "2/2 [==============================] - 0s 4ms/step - loss: 25.8946 - mse: 951.5186\n",
            "Epoch 68/100\n",
            "2/2 [==============================] - 0s 9ms/step - loss: 16.4833 - mse: 434.2250\n",
            "Epoch 69/100\n",
            "2/2 [==============================] - 0s 8ms/step - loss: 25.0206 - mse: 992.0812\n",
            "Epoch 70/100\n",
            "2/2 [==============================] - 0s 7ms/step - loss: 26.0848 - mse: 940.1241\n",
            "Epoch 71/100\n",
            "2/2 [==============================] - 0s 12ms/step - loss: 19.4423 - mse: 537.4434\n",
            "Epoch 72/100\n",
            "2/2 [==============================] - 0s 9ms/step - loss: 25.3501 - mse: 960.7849\n",
            "Epoch 73/100\n",
            "2/2 [==============================] - 0s 7ms/step - loss: 35.7193 - mse: 1693.6637\n",
            "Epoch 74/100\n",
            "2/2 [==============================] - 0s 10ms/step - loss: 16.4184 - mse: 440.4605\n",
            "Epoch 75/100\n",
            "2/2 [==============================] - 0s 6ms/step - loss: 30.0560 - mse: 1296.1792\n",
            "Epoch 76/100\n",
            "2/2 [==============================] - 0s 5ms/step - loss: 24.7032 - mse: 890.4256\n",
            "Epoch 77/100\n",
            "2/2 [==============================] - 0s 4ms/step - loss: 17.8535 - mse: 557.0594\n",
            "Epoch 78/100\n",
            "2/2 [==============================] - 0s 6ms/step - loss: 23.0873 - mse: 835.0526\n",
            "Epoch 79/100\n",
            "2/2 [==============================] - 0s 9ms/step - loss: 10.0832 - mse: 139.0953\n",
            "Epoch 80/100\n",
            "2/2 [==============================] - 0s 8ms/step - loss: 22.9531 - mse: 858.1067\n",
            "Epoch 81/100\n",
            "2/2 [==============================] - 0s 6ms/step - loss: 26.6186 - mse: 1001.4441\n",
            "Epoch 82/100\n",
            "2/2 [==============================] - 0s 5ms/step - loss: 8.7183 - mse: 81.7281\n",
            "Epoch 83/100\n",
            "2/2 [==============================] - 0s 6ms/step - loss: 17.7156 - mse: 569.4768\n",
            "Epoch 84/100\n",
            "2/2 [==============================] - 0s 4ms/step - loss: 21.7822 - mse: 755.7748\n",
            "Epoch 85/100\n",
            "2/2 [==============================] - 0s 8ms/step - loss: 8.5676 - mse: 75.3155\n",
            "Epoch 86/100\n",
            "2/2 [==============================] - 0s 8ms/step - loss: 10.1261 - mse: 140.3462\n",
            "Epoch 87/100\n",
            "2/2 [==============================] - 0s 9ms/step - loss: 33.4657 - mse: 1499.2875\n",
            "Epoch 88/100\n",
            "2/2 [==============================] - 0s 7ms/step - loss: 20.4582 - mse: 587.5354\n",
            "Epoch 89/100\n",
            "2/2 [==============================] - 0s 7ms/step - loss: 21.4295 - mse: 680.2626\n",
            "Epoch 90/100\n",
            "2/2 [==============================] - 0s 9ms/step - loss: 40.8004 - mse: 2322.5654\n",
            "Epoch 91/100\n",
            "2/2 [==============================] - 0s 7ms/step - loss: 16.7932 - mse: 489.9627\n",
            "Epoch 92/100\n",
            "2/2 [==============================] - 0s 7ms/step - loss: 19.9796 - mse: 615.1735\n",
            "Epoch 93/100\n",
            "2/2 [==============================] - 0s 9ms/step - loss: 20.7641 - mse: 577.5496\n",
            "Epoch 94/100\n",
            "2/2 [==============================] - 0s 8ms/step - loss: 26.1390 - mse: 1039.2347\n",
            "Epoch 95/100\n",
            "2/2 [==============================] - 0s 4ms/step - loss: 29.1444 - mse: 1105.1466\n",
            "Epoch 96/100\n",
            "2/2 [==============================] - 0s 5ms/step - loss: 20.5376 - mse: 734.9768\n",
            "Epoch 97/100\n",
            "2/2 [==============================] - 0s 5ms/step - loss: 21.5291 - mse: 750.1699\n",
            "Epoch 98/100\n",
            "2/2 [==============================] - 0s 7ms/step - loss: 12.7845 - mse: 295.6524\n",
            "Epoch 99/100\n",
            "2/2 [==============================] - 0s 8ms/step - loss: 16.1075 - mse: 454.2430\n",
            "Epoch 100/100\n",
            "2/2 [==============================] - 0s 7ms/step - loss: 20.3503 - mse: 700.2126\n",
            "WARNING:tensorflow:6 out of the last 7 calls to <function Model.make_test_function.<locals>.test_function at 0x7f6342a6cef0> triggered tf.function retracing. Tracing is expensive and the excessive number of tracings could be due to (1) creating @tf.function repeatedly in a loop, (2) passing tensors with different shapes, (3) passing Python objects instead of tensors. For (1), please define your @tf.function outside of the loop. For (2), @tf.function has experimental_relax_shapes=True option that relaxes argument shapes that can avoid unnecessary retracing. For (3), please refer to https://www.tensorflow.org/guide/function#controlling_retracing and https://www.tensorflow.org/api_docs/python/tf/function for  more details.\n",
            "2/2 [==============================] - 0s 8ms/step - loss: 17.1881 - mse: 413.0672\n"
          ]
        },
        {
          "output_type": "execute_result",
          "data": {
            "text/plain": [
              "[17.18813705444336, 413.06719970703125]"
            ]
          },
          "metadata": {},
          "execution_count": 38
        }
      ]
    },
    {
      "cell_type": "code",
      "metadata": {
        "id": "EQ0XNTVNr7GQ"
      },
      "source": [
        "y_pred_2 = model_2.predict(X_test)"
      ],
      "execution_count": 64,
      "outputs": []
    },
    {
      "cell_type": "code",
      "metadata": {
        "colab": {
          "base_uri": "https://localhost:8080/",
          "height": 295
        },
        "id": "VN3ksAAmsGWH",
        "outputId": "f9e31148-7333-4402-d691-a9ce6aeccb52"
      },
      "source": [
        "plot_predictions(predictions=y_pred_2)"
      ],
      "execution_count": 65,
      "outputs": [
        {
          "output_type": "display_data",
          "data": {
            "image/png": "[encoded data removed]",
            "text/plain": [
              "<Figure size 432x288 with 1 Axes>"
            ]
          },
          "metadata": {
            "needs_background": "light"
          }
        }
      ]
    },
    {
      "cell_type": "markdown",
      "metadata": {
        "id": "5dKTkKcKsSde"
      },
      "source": [
        "# Model No 3"
      ]
    },
    {
      "cell_type": "code",
      "metadata": {
        "colab": {
          "base_uri": "https://localhost:8080/"
        },
        "id": "Ff7kXawEsMA4",
        "outputId": "6b78a91e-2880-4638-f9a6-2c7e378f8bfb"
      },
      "source": [
        "tf.random.set_seed(42)\n",
        "\n",
        "model_3 =  tf.keras.Sequential([\n",
        "                     tf.keras.layers.Dense(10),\n",
        "                     tf.keras.layers.Dense(1)\n",
        "])\n",
        "\n",
        "model_3.compile(\n",
        "    loss = tf.keras.losses.mae,\n",
        "    optimizer = tf.keras.optimizers.SGD(),\n",
        "    metrics=['mse']\n",
        ")\n",
        "\n",
        "model_3.fit(tf.expand_dims(X,axis=1),Y,epochs=500)\n",
        "\n",
        "model_3.evaluate(X,Y)"
      ],
      "execution_count": 41,
      "outputs": [
        {
          "output_type": "stream",
          "name": "stdout",
          "text": [
            "Epoch 1/500\n",
            "2/2 [==============================] - 0s 5ms/step - loss: 40.2867 - mse: 2321.9255\n",
            "Epoch 2/500\n",
            "2/2 [==============================] - 0s 8ms/step - loss: 25.9297 - mse: 954.1400\n",
            "Epoch 3/500\n",
            "2/2 [==============================] - 0s 7ms/step - loss: 44.1696 - mse: 2935.2297\n",
            "Epoch 4/500\n",
            "2/2 [==============================] - 0s 6ms/step - loss: 11.2212 - mse: 160.3935\n",
            "Epoch 5/500\n",
            "2/2 [==============================] - 0s 5ms/step - loss: 23.0317 - mse: 764.6420\n",
            "Epoch 6/500\n",
            "2/2 [==============================] - 0s 5ms/step - loss: 24.2563 - mse: 911.0153\n",
            "Epoch 7/500\n",
            "2/2 [==============================] - 0s 7ms/step - loss: 11.2416 - mse: 161.5344\n",
            "Epoch 8/500\n",
            "2/2 [==============================] - 0s 5ms/step - loss: 34.1576 - mse: 1550.3260\n",
            "Epoch 9/500\n",
            "2/2 [==============================] - 0s 6ms/step - loss: 12.5246 - mse: 236.5703\n",
            "Epoch 10/500\n",
            "2/2 [==============================] - 0s 7ms/step - loss: 10.1823 - mse: 121.3602\n",
            "Epoch 11/500\n",
            "2/2 [==============================] - 0s 7ms/step - loss: 23.0436 - mse: 774.8090\n",
            "Epoch 12/500\n",
            "2/2 [==============================] - 0s 7ms/step - loss: 16.3819 - mse: 431.2167\n",
            "Epoch 13/500\n",
            "2/2 [==============================] - 0s 5ms/step - loss: 22.6688 - mse: 825.2933\n",
            "Epoch 14/500\n",
            "2/2 [==============================] - 0s 6ms/step - loss: 22.1103 - mse: 698.4519\n",
            "Epoch 15/500\n",
            "2/2 [==============================] - 0s 8ms/step - loss: 19.8442 - mse: 629.6105\n",
            "Epoch 16/500\n",
            "2/2 [==============================] - 0s 14ms/step - loss: 23.1707 - mse: 872.3577\n",
            "Epoch 17/500\n",
            "2/2 [==============================] - 0s 9ms/step - loss: 11.5075 - mse: 221.5737\n",
            "Epoch 18/500\n",
            "2/2 [==============================] - 0s 10ms/step - loss: 29.7742 - mse: 1202.8987\n",
            "Epoch 19/500\n",
            "2/2 [==============================] - 0s 7ms/step - loss: 18.4085 - mse: 591.2548\n",
            "Epoch 20/500\n",
            "2/2 [==============================] - 0s 7ms/step - loss: 18.7610 - mse: 529.2491\n",
            "Epoch 21/500\n",
            "2/2 [==============================] - 0s 7ms/step - loss: 19.4369 - mse: 522.8313\n",
            "Epoch 22/500\n",
            "2/2 [==============================] - 0s 9ms/step - loss: 20.5783 - mse: 631.6808\n",
            "Epoch 23/500\n",
            "2/2 [==============================] - 0s 7ms/step - loss: 19.8132 - mse: 552.3674\n",
            "Epoch 24/500\n",
            "2/2 [==============================] - 0s 7ms/step - loss: 18.7247 - mse: 554.4182\n",
            "Epoch 25/500\n",
            "2/2 [==============================] - 0s 8ms/step - loss: 21.7989 - mse: 712.5184\n",
            "Epoch 26/500\n",
            "2/2 [==============================] - 0s 7ms/step - loss: 10.6899 - mse: 169.2579\n",
            "Epoch 27/500\n",
            "2/2 [==============================] - 0s 4ms/step - loss: 30.8423 - mse: 1347.6296\n",
            "Epoch 28/500\n",
            "2/2 [==============================] - 0s 6ms/step - loss: 16.5686 - mse: 438.7157\n",
            "Epoch 29/500\n",
            "2/2 [==============================] - 0s 5ms/step - loss: 33.0226 - mse: 1530.7896\n",
            "Epoch 30/500\n",
            "2/2 [==============================] - 0s 6ms/step - loss: 19.5703 - mse: 612.7024\n",
            "Epoch 31/500\n",
            "2/2 [==============================] - 0s 9ms/step - loss: 12.5353 - mse: 229.2954\n",
            "Epoch 32/500\n",
            "2/2 [==============================] - 0s 7ms/step - loss: 20.7130 - mse: 592.4906\n",
            "Epoch 33/500\n",
            "2/2 [==============================] - 0s 7ms/step - loss: 20.6412 - mse: 651.3763\n",
            "Epoch 34/500\n",
            "2/2 [==============================] - 0s 5ms/step - loss: 21.2043 - mse: 655.7866\n",
            "Epoch 35/500\n",
            "2/2 [==============================] - 0s 9ms/step - loss: 21.3012 - mse: 745.6329\n",
            "Epoch 36/500\n",
            "2/2 [==============================] - 0s 5ms/step - loss: 18.8072 - mse: 577.7540\n",
            "Epoch 37/500\n",
            "2/2 [==============================] - 0s 7ms/step - loss: 27.4462 - mse: 1128.6895\n",
            "Epoch 38/500\n",
            "2/2 [==============================] - 0s 6ms/step - loss: 29.1100 - mse: 1138.0177\n",
            "Epoch 39/500\n",
            "2/2 [==============================] - 0s 8ms/step - loss: 20.5542 - mse: 641.3965\n",
            "Epoch 40/500\n",
            "2/2 [==============================] - 0s 5ms/step - loss: 20.6334 - mse: 697.1397\n",
            "Epoch 41/500\n",
            "2/2 [==============================] - 0s 7ms/step - loss: 24.9726 - mse: 879.7936\n",
            "Epoch 42/500\n",
            "2/2 [==============================] - 0s 6ms/step - loss: 20.5609 - mse: 623.9511\n",
            "Epoch 43/500\n",
            "2/2 [==============================] - 0s 8ms/step - loss: 23.1231 - mse: 868.5730\n",
            "Epoch 44/500\n",
            "2/2 [==============================] - 0s 6ms/step - loss: 9.8053 - mse: 116.5319\n",
            "Epoch 45/500\n",
            "2/2 [==============================] - 0s 5ms/step - loss: 22.5487 - mse: 733.3742\n",
            "Epoch 46/500\n",
            "2/2 [==============================] - 0s 6ms/step - loss: 9.2110 - mse: 106.7973\n",
            "Epoch 47/500\n",
            "2/2 [==============================] - 0s 8ms/step - loss: 20.3679 - mse: 651.9070\n",
            "Epoch 48/500\n",
            "2/2 [==============================] - 0s 6ms/step - loss: 8.4309 - mse: 114.8761\n",
            "Epoch 49/500\n",
            "2/2 [==============================] - 0s 6ms/step - loss: 12.6659 - mse: 256.6947\n",
            "Epoch 50/500\n",
            "2/2 [==============================] - 0s 6ms/step - loss: 32.1829 - mse: 1403.0283\n",
            "Epoch 51/500\n",
            "2/2 [==============================] - 0s 7ms/step - loss: 16.5208 - mse: 396.4330\n",
            "Epoch 52/500\n",
            "2/2 [==============================] - 0s 9ms/step - loss: 33.7598 - mse: 1617.9999\n",
            "Epoch 53/500\n",
            "2/2 [==============================] - 0s 8ms/step - loss: 9.7791 - mse: 118.2819\n",
            "Epoch 54/500\n",
            "2/2 [==============================] - 0s 5ms/step - loss: 11.4445 - mse: 187.3186\n",
            "Epoch 55/500\n",
            "2/2 [==============================] - 0s 5ms/step - loss: 24.6060 - mse: 859.5567\n",
            "Epoch 56/500\n",
            "2/2 [==============================] - 0s 6ms/step - loss: 9.1433 - mse: 87.9627\n",
            "Epoch 57/500\n",
            "2/2 [==============================] - 0s 6ms/step - loss: 11.6297 - mse: 168.6967\n",
            "Epoch 58/500\n",
            "2/2 [==============================] - 0s 6ms/step - loss: 27.3491 - mse: 1121.5461\n",
            "Epoch 59/500\n",
            "2/2 [==============================] - 0s 6ms/step - loss: 25.1758 - mse: 934.2424\n",
            "Epoch 60/500\n",
            "2/2 [==============================] - 0s 7ms/step - loss: 11.4501 - mse: 182.1051\n",
            "Epoch 61/500\n",
            "2/2 [==============================] - 0s 7ms/step - loss: 31.5022 - mse: 1435.9985\n",
            "Epoch 62/500\n",
            "2/2 [==============================] - 0s 9ms/step - loss: 21.6164 - mse: 751.8551\n",
            "Epoch 63/500\n",
            "2/2 [==============================] - 0s 6ms/step - loss: 9.4131 - mse: 110.2309\n",
            "Epoch 64/500\n",
            "2/2 [==============================] - 0s 7ms/step - loss: 27.2951 - mse: 1034.0459\n",
            "Epoch 65/500\n",
            "2/2 [==============================] - 0s 9ms/step - loss: 8.9828 - mse: 85.7530\n",
            "Epoch 66/500\n",
            "2/2 [==============================] - 0s 12ms/step - loss: 9.2362 - mse: 122.2021\n",
            "Epoch 67/500\n",
            "2/2 [==============================] - 0s 8ms/step - loss: 25.8946 - mse: 951.5186\n",
            "Epoch 68/500\n",
            "2/2 [==============================] - 0s 5ms/step - loss: 16.4833 - mse: 434.2250\n",
            "Epoch 69/500\n",
            "2/2 [==============================] - 0s 12ms/step - loss: 25.0206 - mse: 992.0812\n",
            "Epoch 70/500\n",
            "2/2 [==============================] - 0s 7ms/step - loss: 26.0848 - mse: 940.1241\n",
            "Epoch 71/500\n",
            "2/2 [==============================] - 0s 6ms/step - loss: 19.4423 - mse: 537.4434\n",
            "Epoch 72/500\n",
            "2/2 [==============================] - 0s 13ms/step - loss: 25.3501 - mse: 960.7849\n",
            "Epoch 73/500\n",
            "2/2 [==============================] - 0s 5ms/step - loss: 35.7193 - mse: 1693.6637\n",
            "Epoch 74/500\n",
            "2/2 [==============================] - 0s 8ms/step - loss: 16.4184 - mse: 440.4605\n",
            "Epoch 75/500\n",
            "2/2 [==============================] - 0s 7ms/step - loss: 30.0560 - mse: 1296.1792\n",
            "Epoch 76/500\n",
            "2/2 [==============================] - 0s 8ms/step - loss: 24.7032 - mse: 890.4256\n",
            "Epoch 77/500\n",
            "2/2 [==============================] - 0s 8ms/step - loss: 17.8535 - mse: 557.0594\n",
            "Epoch 78/500\n",
            "2/2 [==============================] - 0s 12ms/step - loss: 23.0873 - mse: 835.0526\n",
            "Epoch 79/500\n",
            "2/2 [==============================] - 0s 10ms/step - loss: 10.0832 - mse: 139.0953\n",
            "Epoch 80/500\n",
            "2/2 [==============================] - 0s 6ms/step - loss: 22.9531 - mse: 858.1067\n",
            "Epoch 81/500\n",
            "2/2 [==============================] - 0s 5ms/step - loss: 26.6186 - mse: 1001.4441\n",
            "Epoch 82/500\n",
            "2/2 [==============================] - 0s 5ms/step - loss: 8.7183 - mse: 81.7281\n",
            "Epoch 83/500\n",
            "2/2 [==============================] - 0s 4ms/step - loss: 17.7156 - mse: 569.4768\n",
            "Epoch 84/500\n",
            "2/2 [==============================] - 0s 6ms/step - loss: 21.7822 - mse: 755.7748\n",
            "Epoch 85/500\n",
            "2/2 [==============================] - 0s 4ms/step - loss: 8.5676 - mse: 75.3155\n",
            "Epoch 86/500\n",
            "2/2 [==============================] - 0s 6ms/step - loss: 10.1261 - mse: 140.3462\n",
            "Epoch 87/500\n",
            "2/2 [==============================] - 0s 6ms/step - loss: 33.4657 - mse: 1499.2875\n",
            "Epoch 88/500\n",
            "2/2 [==============================] - 0s 5ms/step - loss: 20.4582 - mse: 587.5354\n",
            "Epoch 89/500\n",
            "2/2 [==============================] - 0s 5ms/step - loss: 21.4295 - mse: 680.2626\n",
            "Epoch 90/500\n",
            "2/2 [==============================] - 0s 4ms/step - loss: 40.8004 - mse: 2322.5654\n",
            "Epoch 91/500\n",
            "2/2 [==============================] - 0s 4ms/step - loss: 16.7932 - mse: 489.9627\n",
            "Epoch 92/500\n",
            "2/2 [==============================] - 0s 4ms/step - loss: 19.9796 - mse: 615.1735\n",
            "Epoch 93/500\n",
            "2/2 [==============================] - 0s 4ms/step - loss: 20.7641 - mse: 577.5496\n",
            "Epoch 94/500\n",
            "2/2 [==============================] - 0s 4ms/step - loss: 26.1390 - mse: 1039.2347\n",
            "Epoch 95/500\n",
            "2/2 [==============================] - 0s 16ms/step - loss: 29.1444 - mse: 1105.1466\n",
            "Epoch 96/500\n",
            "2/2 [==============================] - 0s 7ms/step - loss: 20.5376 - mse: 734.9768\n",
            "Epoch 97/500\n",
            "2/2 [==============================] - 0s 7ms/step - loss: 21.5291 - mse: 750.1699\n",
            "Epoch 98/500\n",
            "2/2 [==============================] - 0s 12ms/step - loss: 12.7845 - mse: 295.6524\n",
            "Epoch 99/500\n",
            "2/2 [==============================] - 0s 4ms/step - loss: 16.1075 - mse: 454.2430\n",
            "Epoch 100/500\n",
            "2/2 [==============================] - 0s 8ms/step - loss: 20.3503 - mse: 700.2126\n",
            "Epoch 101/500\n",
            "2/2 [==============================] - 0s 9ms/step - loss: 19.7522 - mse: 591.6212\n",
            "Epoch 102/500\n",
            "2/2 [==============================] - 0s 4ms/step - loss: 22.1510 - mse: 758.9654\n",
            "Epoch 103/500\n",
            "2/2 [==============================] - 0s 4ms/step - loss: 18.4467 - mse: 524.3153\n",
            "Epoch 104/500\n",
            "2/2 [==============================] - 0s 4ms/step - loss: 29.5848 - mse: 1341.1425\n",
            "Epoch 105/500\n",
            "2/2 [==============================] - 0s 8ms/step - loss: 20.3813 - mse: 645.1333\n",
            "Epoch 106/500\n",
            "2/2 [==============================] - 0s 4ms/step - loss: 16.3683 - mse: 387.8139\n",
            "Epoch 107/500\n",
            "2/2 [==============================] - 0s 5ms/step - loss: 24.8795 - mse: 913.1951\n",
            "Epoch 108/500\n",
            "2/2 [==============================] - 0s 5ms/step - loss: 37.3015 - mse: 1862.4636\n",
            "Epoch 109/500\n",
            "2/2 [==============================] - 0s 5ms/step - loss: 8.3437 - mse: 76.7058\n",
            "Epoch 110/500\n",
            "2/2 [==============================] - 0s 11ms/step - loss: 10.6282 - mse: 147.7158\n",
            "Epoch 111/500\n",
            "2/2 [==============================] - 0s 5ms/step - loss: 34.0729 - mse: 1596.3042\n",
            "Epoch 112/500\n",
            "2/2 [==============================] - 0s 5ms/step - loss: 10.3594 - mse: 151.9716\n",
            "Epoch 113/500\n",
            "2/2 [==============================] - 0s 4ms/step - loss: 32.9767 - mse: 1520.2159\n",
            "Epoch 114/500\n",
            "2/2 [==============================] - 0s 5ms/step - loss: 20.2792 - mse: 679.6736\n",
            "Epoch 115/500\n",
            "2/2 [==============================] - 0s 5ms/step - loss: 8.2930 - mse: 72.6104\n",
            "Epoch 116/500\n",
            "2/2 [==============================] - 0s 11ms/step - loss: 14.3194 - mse: 390.8163\n",
            "Epoch 117/500\n",
            "2/2 [==============================] - 0s 10ms/step - loss: 20.8604 - mse: 600.6509\n",
            "Epoch 118/500\n",
            "2/2 [==============================] - 0s 5ms/step - loss: 22.8512 - mse: 881.4387\n",
            "Epoch 119/500\n",
            "2/2 [==============================] - 0s 6ms/step - loss: 14.1531 - mse: 325.6094\n",
            "Epoch 120/500\n",
            "2/2 [==============================] - 0s 12ms/step - loss: 24.4288 - mse: 883.8205\n",
            "Epoch 121/500\n",
            "2/2 [==============================] - 0s 4ms/step - loss: 16.9757 - mse: 414.6845\n",
            "Epoch 122/500\n",
            "2/2 [==============================] - 0s 8ms/step - loss: 30.5677 - mse: 1288.5358\n",
            "Epoch 123/500\n",
            "2/2 [==============================] - 0s 7ms/step - loss: 22.7694 - mse: 778.7969\n",
            "Epoch 124/500\n",
            "2/2 [==============================] - 0s 8ms/step - loss: 17.1876 - mse: 449.1319\n",
            "Epoch 125/500\n",
            "2/2 [==============================] - 0s 9ms/step - loss: 31.8513 - mse: 1395.9736\n",
            "Epoch 126/500\n",
            "2/2 [==============================] - 0s 4ms/step - loss: 22.2556 - mse: 741.8184\n",
            "Epoch 127/500\n",
            "2/2 [==============================] - 0s 12ms/step - loss: 18.3846 - mse: 462.6264\n",
            "Epoch 128/500\n",
            "2/2 [==============================] - 0s 4ms/step - loss: 30.1598 - mse: 1252.0129\n",
            "Epoch 129/500\n",
            "2/2 [==============================] - 0s 6ms/step - loss: 25.6530 - mse: 950.7288\n",
            "Epoch 130/500\n",
            "2/2 [==============================] - 0s 6ms/step - loss: 21.0713 - mse: 630.2157\n",
            "Epoch 131/500\n",
            "2/2 [==============================] - 0s 9ms/step - loss: 18.4846 - mse: 480.9494\n",
            "Epoch 132/500\n",
            "2/2 [==============================] - 0s 5ms/step - loss: 27.7685 - mse: 1120.0916\n",
            "Epoch 133/500\n",
            "2/2 [==============================] - 0s 7ms/step - loss: 29.3693 - mse: 1153.3540\n",
            "Epoch 134/500\n",
            "2/2 [==============================] - 0s 6ms/step - loss: 10.4336 - mse: 175.3208\n",
            "Epoch 135/500\n",
            "2/2 [==============================] - 0s 6ms/step - loss: 19.6114 - mse: 600.8145\n",
            "Epoch 136/500\n",
            "2/2 [==============================] - 0s 6ms/step - loss: 20.3438 - mse: 658.4414\n",
            "Epoch 137/500\n",
            "2/2 [==============================] - 0s 8ms/step - loss: 8.2353 - mse: 80.8993\n",
            "Epoch 138/500\n",
            "2/2 [==============================] - 0s 3ms/step - loss: 10.9121 - mse: 196.6382\n",
            "Epoch 139/500\n",
            "2/2 [==============================] - 0s 9ms/step - loss: 24.4561 - mse: 968.8203\n",
            "Epoch 140/500\n",
            "2/2 [==============================] - 0s 7ms/step - loss: 22.5081 - mse: 760.1033\n",
            "Epoch 141/500\n",
            "2/2 [==============================] - 0s 6ms/step - loss: 18.2518 - mse: 581.0609\n",
            "Epoch 142/500\n",
            "2/2 [==============================] - 0s 6ms/step - loss: 28.5007 - mse: 1204.1935\n",
            "Epoch 143/500\n",
            "2/2 [==============================] - 0s 4ms/step - loss: 26.9534 - mse: 990.3126\n",
            "Epoch 144/500\n",
            "2/2 [==============================] - 0s 8ms/step - loss: 8.6424 - mse: 94.0945\n",
            "Epoch 145/500\n",
            "2/2 [==============================] - 0s 4ms/step - loss: 46.6797 - mse: 3619.2053\n",
            "Epoch 146/500\n",
            "2/2 [==============================] - 0s 5ms/step - loss: 30.2654 - mse: 1317.1097\n",
            "Epoch 147/500\n",
            "2/2 [==============================] - 0s 6ms/step - loss: 7.6527 - mse: 63.4766\n",
            "Epoch 148/500\n",
            "2/2 [==============================] - 0s 9ms/step - loss: 12.8119 - mse: 295.2247\n",
            "Epoch 149/500\n",
            "2/2 [==============================] - 0s 5ms/step - loss: 22.5690 - mse: 802.2148\n",
            "Epoch 150/500\n",
            "2/2 [==============================] - 0s 6ms/step - loss: 32.7371 - mse: 1547.8314\n",
            "Epoch 151/500\n",
            "2/2 [==============================] - 0s 4ms/step - loss: 24.8391 - mse: 877.2712\n",
            "Epoch 152/500\n",
            "2/2 [==============================] - 0s 5ms/step - loss: 7.9205 - mse: 72.9638\n",
            "Epoch 153/500\n",
            "2/2 [==============================] - 0s 4ms/step - loss: 12.5864 - mse: 259.2462\n",
            "Epoch 154/500\n",
            "2/2 [==============================] - 0s 5ms/step - loss: 29.0280 - mse: 1260.0210\n",
            "Epoch 155/500\n",
            "2/2 [==============================] - 0s 5ms/step - loss: 22.7965 - mse: 789.1554\n",
            "Epoch 156/500\n",
            "2/2 [==============================] - 0s 7ms/step - loss: 11.4236 - mse: 236.4830\n",
            "Epoch 157/500\n",
            "2/2 [==============================] - 0s 5ms/step - loss: 17.0573 - mse: 488.4352\n",
            "Epoch 158/500\n",
            "2/2 [==============================] - 0s 5ms/step - loss: 17.7739 - mse: 615.7658\n",
            "Epoch 159/500\n",
            "2/2 [==============================] - 0s 11ms/step - loss: 21.6004 - mse: 693.2182\n",
            "Epoch 160/500\n",
            "2/2 [==============================] - 0s 9ms/step - loss: 19.9994 - mse: 602.9066\n",
            "Epoch 161/500\n",
            "2/2 [==============================] - 0s 6ms/step - loss: 21.8941 - mse: 799.4763\n",
            "Epoch 162/500\n",
            "2/2 [==============================] - 0s 7ms/step - loss: 41.7726 - mse: 2499.9275\n",
            "Epoch 163/500\n",
            "2/2 [==============================] - 0s 7ms/step - loss: 7.6687 - mse: 86.5628\n",
            "Epoch 164/500\n",
            "2/2 [==============================] - 0s 8ms/step - loss: 29.3091 - mse: 1153.7690\n",
            "Epoch 165/500\n",
            "2/2 [==============================] - 0s 10ms/step - loss: 18.4930 - mse: 530.2290\n",
            "Epoch 166/500\n",
            "2/2 [==============================] - 0s 8ms/step - loss: 25.4489 - mse: 1025.5789\n",
            "Epoch 167/500\n",
            "2/2 [==============================] - 0s 5ms/step - loss: 28.5472 - mse: 1131.7926\n",
            "Epoch 168/500\n",
            "2/2 [==============================] - 0s 8ms/step - loss: 9.6701 - mse: 144.7745\n",
            "Epoch 169/500\n",
            "2/2 [==============================] - 0s 10ms/step - loss: 30.2756 - mse: 1340.7334\n",
            "Epoch 170/500\n",
            "2/2 [==============================] - 0s 9ms/step - loss: 21.7636 - mse: 732.0323\n",
            "Epoch 171/500\n",
            "2/2 [==============================] - 0s 6ms/step - loss: 7.4054 - mse: 62.6875\n",
            "Epoch 172/500\n",
            "2/2 [==============================] - 0s 6ms/step - loss: 18.7499 - mse: 648.0897\n",
            "Epoch 173/500\n",
            "2/2 [==============================] - 0s 6ms/step - loss: 17.9618 - mse: 461.9203\n",
            "Epoch 174/500\n",
            "2/2 [==============================] - 0s 8ms/step - loss: 26.7143 - mse: 1032.4995\n",
            "Epoch 175/500\n",
            "2/2 [==============================] - 0s 12ms/step - loss: 27.1674 - mse: 1047.9839\n",
            "Epoch 176/500\n",
            "2/2 [==============================] - 0s 5ms/step - loss: 8.2354 - mse: 97.0648\n",
            "Epoch 177/500\n",
            "2/2 [==============================] - 0s 8ms/step - loss: 23.4059 - mse: 856.3610\n",
            "Epoch 178/500\n",
            "2/2 [==============================] - 0s 8ms/step - loss: 19.9662 - mse: 620.0590\n",
            "Epoch 179/500\n",
            "2/2 [==============================] - 0s 6ms/step - loss: 22.1982 - mse: 828.9042\n",
            "Epoch 180/500\n",
            "2/2 [==============================] - 0s 6ms/step - loss: 9.0518 - mse: 128.1196\n",
            "Epoch 181/500\n",
            "2/2 [==============================] - 0s 9ms/step - loss: 28.9498 - mse: 1244.9982\n",
            "Epoch 182/500\n",
            "2/2 [==============================] - 0s 4ms/step - loss: 26.5810 - mse: 945.4957\n",
            "Epoch 183/500\n",
            "2/2 [==============================] - 0s 4ms/step - loss: 10.7862 - mse: 164.4631\n",
            "Epoch 184/500\n",
            "2/2 [==============================] - 0s 4ms/step - loss: 41.5504 - mse: 2420.3616\n",
            "Epoch 185/500\n",
            "2/2 [==============================] - 0s 4ms/step - loss: 7.4052 - mse: 65.2375\n",
            "Epoch 186/500\n",
            "2/2 [==============================] - 0s 5ms/step - loss: 31.3832 - mse: 1289.3727\n",
            "Epoch 187/500\n",
            "2/2 [==============================] - 0s 5ms/step - loss: 20.0894 - mse: 632.6852\n",
            "Epoch 188/500\n",
            "2/2 [==============================] - 0s 5ms/step - loss: 22.6571 - mse: 840.8254\n",
            "Epoch 189/500\n",
            "2/2 [==============================] - 0s 5ms/step - loss: 34.1371 - mse: 1530.2664\n",
            "Epoch 190/500\n",
            "2/2 [==============================] - 0s 11ms/step - loss: 7.7651 - mse: 75.2124\n",
            "Epoch 191/500\n",
            "2/2 [==============================] - 0s 3ms/step - loss: 24.4590 - mse: 841.4937\n",
            "Epoch 192/500\n",
            "2/2 [==============================] - 0s 5ms/step - loss: 16.6093 - mse: 585.0562\n",
            "Epoch 193/500\n",
            "2/2 [==============================] - 0s 10ms/step - loss: 17.7517 - mse: 444.1077\n",
            "Epoch 194/500\n",
            "2/2 [==============================] - 0s 5ms/step - loss: 25.7845 - mse: 1036.6923\n",
            "Epoch 195/500\n",
            "2/2 [==============================] - 0s 5ms/step - loss: 32.7777 - mse: 1531.4653\n",
            "Epoch 196/500\n",
            "2/2 [==============================] - 0s 4ms/step - loss: 7.3167 - mse: 65.4146\n",
            "Epoch 197/500\n",
            "2/2 [==============================] - 0s 8ms/step - loss: 21.8452 - mse: 712.0502\n",
            "Epoch 198/500\n",
            "2/2 [==============================] - 0s 5ms/step - loss: 17.1752 - mse: 403.1367\n",
            "Epoch 199/500\n",
            "2/2 [==============================] - 0s 4ms/step - loss: 26.5665 - mse: 1158.6104\n",
            "Epoch 200/500\n",
            "2/2 [==============================] - 0s 5ms/step - loss: 28.7749 - mse: 1086.2125\n",
            "Epoch 201/500\n",
            "2/2 [==============================] - 0s 4ms/step - loss: 12.7862 - mse: 309.9236\n",
            "Epoch 202/500\n",
            "2/2 [==============================] - 0s 5ms/step - loss: 20.1418 - mse: 667.1515\n",
            "Epoch 203/500\n",
            "2/2 [==============================] - 0s 6ms/step - loss: 7.2837 - mse: 66.0553\n",
            "Epoch 204/500\n",
            "2/2 [==============================] - 0s 5ms/step - loss: 6.7697 - mse: 59.3166\n",
            "Epoch 205/500\n",
            "2/2 [==============================] - 0s 9ms/step - loss: 17.2255 - mse: 583.6785\n",
            "Epoch 206/500\n",
            "2/2 [==============================] - 0s 6ms/step - loss: 20.3294 - mse: 600.9066\n",
            "Epoch 207/500\n",
            "2/2 [==============================] - 0s 6ms/step - loss: 19.7897 - mse: 659.1704\n",
            "Epoch 208/500\n",
            "2/2 [==============================] - 0s 5ms/step - loss: 6.8847 - mse: 66.0993\n",
            "Epoch 209/500\n",
            "2/2 [==============================] - 0s 11ms/step - loss: 21.5200 - mse: 708.6545\n",
            "Epoch 210/500\n",
            "2/2 [==============================] - 0s 10ms/step - loss: 20.6663 - mse: 632.8192\n",
            "Epoch 211/500\n",
            "2/2 [==============================] - 0s 5ms/step - loss: 17.1486 - mse: 496.1669\n",
            "Epoch 212/500\n",
            "2/2 [==============================] - 0s 5ms/step - loss: 20.9322 - mse: 727.1994\n",
            "Epoch 213/500\n",
            "2/2 [==============================] - 0s 8ms/step - loss: 21.4507 - mse: 668.2402\n",
            "Epoch 214/500\n",
            "2/2 [==============================] - 0s 6ms/step - loss: 12.8211 - mse: 305.5445\n",
            "Epoch 215/500\n",
            "2/2 [==============================] - 0s 5ms/step - loss: 20.1186 - mse: 686.7476\n",
            "Epoch 216/500\n",
            "2/2 [==============================] - 0s 11ms/step - loss: 17.5226 - mse: 455.4869\n",
            "Epoch 217/500\n",
            "2/2 [==============================] - 0s 13ms/step - loss: 32.9686 - mse: 1569.1122\n",
            "Epoch 218/500\n",
            "2/2 [==============================] - 0s 4ms/step - loss: 16.6235 - mse: 517.8971\n",
            "Epoch 219/500\n",
            "2/2 [==============================] - 0s 10ms/step - loss: 16.4191 - mse: 396.0042\n",
            "Epoch 220/500\n",
            "2/2 [==============================] - 0s 5ms/step - loss: 29.3139 - mse: 1313.4933\n",
            "Epoch 221/500\n",
            "2/2 [==============================] - 0s 10ms/step - loss: 24.5831 - mse: 820.7714\n",
            "Epoch 222/500\n",
            "2/2 [==============================] - 0s 6ms/step - loss: 19.7211 - mse: 590.0207\n",
            "Epoch 223/500\n",
            "2/2 [==============================] - 0s 12ms/step - loss: 24.3659 - mse: 917.0883\n",
            "Epoch 224/500\n",
            "2/2 [==============================] - 0s 10ms/step - loss: 33.5391 - mse: 1484.4990\n",
            "Epoch 225/500\n",
            "2/2 [==============================] - 0s 8ms/step - loss: 7.8425 - mse: 78.7295\n",
            "Epoch 226/500\n",
            "2/2 [==============================] - 0s 8ms/step - loss: 26.2384 - mse: 980.4774\n",
            "Epoch 227/500\n",
            "2/2 [==============================] - 0s 7ms/step - loss: 18.7623 - mse: 620.4205\n",
            "Epoch 228/500\n",
            "2/2 [==============================] - 0s 7ms/step - loss: 19.2310 - mse: 582.1307\n",
            "Epoch 229/500\n",
            "2/2 [==============================] - 0s 7ms/step - loss: 6.5176 - mse: 51.3536\n",
            "Epoch 230/500\n",
            "2/2 [==============================] - 0s 4ms/step - loss: 12.5517 - mse: 327.7386\n",
            "Epoch 231/500\n",
            "2/2 [==============================] - 0s 5ms/step - loss: 17.9402 - mse: 500.4723\n",
            "Epoch 232/500\n",
            "2/2 [==============================] - 0s 13ms/step - loss: 26.1758 - mse: 1033.3270\n",
            "Epoch 233/500\n",
            "2/2 [==============================] - 0s 6ms/step - loss: 31.8861 - mse: 1337.9772\n",
            "Epoch 234/500\n",
            "2/2 [==============================] - 0s 6ms/step - loss: 17.8869 - mse: 518.9709\n",
            "Epoch 235/500\n",
            "2/2 [==============================] - 0s 5ms/step - loss: 22.6936 - mse: 823.6982\n",
            "Epoch 236/500\n",
            "2/2 [==============================] - 0s 8ms/step - loss: 34.8167 - mse: 1600.8430\n",
            "Epoch 237/500\n",
            "2/2 [==============================] - 0s 16ms/step - loss: 7.1689 - mse: 65.2170\n",
            "Epoch 238/500\n",
            "2/2 [==============================] - 0s 10ms/step - loss: 18.1315 - mse: 564.8467\n",
            "Epoch 239/500\n",
            "2/2 [==============================] - 0s 6ms/step - loss: 24.4179 - mse: 957.8146\n",
            "Epoch 240/500\n",
            "2/2 [==============================] - 0s 7ms/step - loss: 32.0025 - mse: 1438.0731\n",
            "Epoch 241/500\n",
            "2/2 [==============================] - 0s 6ms/step - loss: 11.4592 - mse: 237.0378\n",
            "Epoch 242/500\n",
            "2/2 [==============================] - 0s 5ms/step - loss: 22.2471 - mse: 853.5171\n",
            "Epoch 243/500\n",
            "2/2 [==============================] - 0s 6ms/step - loss: 20.0678 - mse: 570.5707\n",
            "Epoch 244/500\n",
            "2/2 [==============================] - 0s 8ms/step - loss: 20.1354 - mse: 609.6732\n",
            "Epoch 245/500\n",
            "2/2 [==============================] - 0s 8ms/step - loss: 23.2072 - mse: 942.9260\n",
            "Epoch 246/500\n",
            "2/2 [==============================] - 0s 13ms/step - loss: 18.1322 - mse: 716.7622\n",
            "Epoch 247/500\n",
            "2/2 [==============================] - 0s 14ms/step - loss: 23.0546 - mse: 749.4492\n",
            "Epoch 248/500\n",
            "2/2 [==============================] - 0s 6ms/step - loss: 19.4493 - mse: 496.4081\n",
            "Epoch 249/500\n",
            "2/2 [==============================] - 0s 9ms/step - loss: 25.6628 - mse: 1033.0817\n",
            "Epoch 250/500\n",
            "2/2 [==============================] - 0s 7ms/step - loss: 32.4600 - mse: 1428.8052\n",
            "Epoch 251/500\n",
            "2/2 [==============================] - 0s 6ms/step - loss: 13.2139 - mse: 334.5099\n",
            "Epoch 252/500\n",
            "2/2 [==============================] - 0s 5ms/step - loss: 21.4469 - mse: 753.8845\n",
            "Epoch 253/500\n",
            "2/2 [==============================] - 0s 6ms/step - loss: 9.9892 - mse: 168.8911\n",
            "Epoch 254/500\n",
            "2/2 [==============================] - 0s 5ms/step - loss: 25.9302 - mse: 1019.4110\n",
            "Epoch 255/500\n",
            "2/2 [==============================] - 0s 8ms/step - loss: 31.8003 - mse: 1342.1188\n",
            "Epoch 256/500\n",
            "2/2 [==============================] - 0s 6ms/step - loss: 20.0770 - mse: 578.6124\n",
            "Epoch 257/500\n",
            "2/2 [==============================] - 0s 5ms/step - loss: 22.6243 - mse: 869.8752\n",
            "Epoch 258/500\n",
            "2/2 [==============================] - 0s 5ms/step - loss: 16.9559 - mse: 667.6785\n",
            "Epoch 259/500\n",
            "2/2 [==============================] - 0s 10ms/step - loss: 20.4183 - mse: 609.8201\n",
            "Epoch 260/500\n",
            "2/2 [==============================] - 0s 6ms/step - loss: 22.9805 - mse: 741.0682\n",
            "Epoch 261/500\n",
            "2/2 [==============================] - 0s 9ms/step - loss: 17.3856 - mse: 434.0911\n",
            "Epoch 262/500\n",
            "2/2 [==============================] - 0s 10ms/step - loss: 28.9113 - mse: 1203.4934\n",
            "Epoch 263/500\n",
            "2/2 [==============================] - 0s 9ms/step - loss: 27.3538 - mse: 1014.7539\n",
            "Epoch 264/500\n",
            "2/2 [==============================] - 0s 9ms/step - loss: 20.3569 - mse: 724.2562\n",
            "Epoch 265/500\n",
            "2/2 [==============================] - 0s 7ms/step - loss: 28.4737 - mse: 1109.6672\n",
            "Epoch 266/500\n",
            "2/2 [==============================] - 0s 9ms/step - loss: 29.1336 - mse: 1116.7749\n",
            "Epoch 267/500\n",
            "2/2 [==============================] - 0s 7ms/step - loss: 18.8635 - mse: 741.3278\n",
            "Epoch 268/500\n",
            "2/2 [==============================] - 0s 6ms/step - loss: 19.6804 - mse: 673.3746\n",
            "Epoch 269/500\n",
            "2/2 [==============================] - 0s 7ms/step - loss: 6.5944 - mse: 53.4848\n",
            "Epoch 270/500\n",
            "2/2 [==============================] - 0s 7ms/step - loss: 20.2835 - mse: 764.9598\n",
            "Epoch 271/500\n",
            "2/2 [==============================] - 0s 7ms/step - loss: 19.7645 - mse: 577.6476\n",
            "Epoch 272/500\n",
            "2/2 [==============================] - 0s 6ms/step - loss: 29.1535 - mse: 1311.0179\n",
            "Epoch 273/500\n",
            "2/2 [==============================] - 0s 6ms/step - loss: 23.4915 - mse: 809.4348\n",
            "Epoch 274/500\n",
            "2/2 [==============================] - 0s 5ms/step - loss: 14.0699 - mse: 382.0203\n",
            "Epoch 275/500\n",
            "2/2 [==============================] - 0s 4ms/step - loss: 29.7059 - mse: 1202.6014\n",
            "Epoch 276/500\n",
            "2/2 [==============================] - 0s 5ms/step - loss: 24.4510 - mse: 843.3003\n",
            "Epoch 277/500\n",
            "2/2 [==============================] - 0s 5ms/step - loss: 6.3705 - mse: 49.6668\n",
            "Epoch 278/500\n",
            "2/2 [==============================] - 0s 4ms/step - loss: 6.6775 - mse: 66.5765\n",
            "Epoch 279/500\n",
            "2/2 [==============================] - 0s 8ms/step - loss: 23.0180 - mse: 751.8254\n",
            "Epoch 280/500\n",
            "2/2 [==============================] - 0s 6ms/step - loss: 19.2516 - mse: 529.7927\n",
            "Epoch 281/500\n",
            "2/2 [==============================] - 0s 5ms/step - loss: 22.5199 - mse: 820.6680\n",
            "Epoch 282/500\n",
            "2/2 [==============================] - 0s 13ms/step - loss: 36.2022 - mse: 1860.4918\n",
            "Epoch 283/500\n",
            "2/2 [==============================] - 0s 8ms/step - loss: 18.1491 - mse: 729.3186\n",
            "Epoch 284/500\n",
            "2/2 [==============================] - 0s 4ms/step - loss: 21.0469 - mse: 777.1392\n",
            "Epoch 285/500\n",
            "2/2 [==============================] - 0s 8ms/step - loss: 18.6950 - mse: 646.9340\n",
            "Epoch 286/500\n",
            "2/2 [==============================] - 0s 5ms/step - loss: 6.8121 - mse: 58.1645\n",
            "Epoch 287/500\n",
            "2/2 [==============================] - 0s 9ms/step - loss: 33.6175 - mse: 1598.0509\n",
            "Epoch 288/500\n",
            "2/2 [==============================] - 0s 7ms/step - loss: 8.8245 - mse: 124.7418\n",
            "Epoch 289/500\n",
            "2/2 [==============================] - 0s 5ms/step - loss: 27.3448 - mse: 1037.8970\n",
            "Epoch 290/500\n",
            "2/2 [==============================] - 0s 4ms/step - loss: 8.7749 - mse: 124.9568\n",
            "Epoch 291/500\n",
            "2/2 [==============================] - 0s 5ms/step - loss: 31.6021 - mse: 1418.0507\n",
            "Epoch 292/500\n",
            "2/2 [==============================] - 0s 8ms/step - loss: 17.4170 - mse: 666.8585\n",
            "Epoch 293/500\n",
            "2/2 [==============================] - 0s 5ms/step - loss: 19.3982 - mse: 605.3365\n",
            "Epoch 294/500\n",
            "2/2 [==============================] - 0s 13ms/step - loss: 20.5730 - mse: 726.1936\n",
            "Epoch 295/500\n",
            "2/2 [==============================] - 0s 13ms/step - loss: 41.4681 - mse: 2561.7705\n",
            "Epoch 296/500\n",
            "2/2 [==============================] - 0s 8ms/step - loss: 19.9577 - mse: 665.7062\n",
            "Epoch 297/500\n",
            "2/2 [==============================] - 0s 5ms/step - loss: 19.6127 - mse: 547.3251\n",
            "Epoch 298/500\n",
            "2/2 [==============================] - 0s 10ms/step - loss: 21.2449 - mse: 803.3098\n",
            "Epoch 299/500\n",
            "2/2 [==============================] - 0s 5ms/step - loss: 5.8430 - mse: 39.1965\n",
            "Epoch 300/500\n",
            "2/2 [==============================] - 0s 4ms/step - loss: 5.7764 - mse: 36.6842\n",
            "Epoch 301/500\n",
            "2/2 [==============================] - 0s 4ms/step - loss: 18.0872 - mse: 627.1752\n",
            "Epoch 302/500\n",
            "2/2 [==============================] - 0s 5ms/step - loss: 8.2738 - mse: 118.7616\n",
            "Epoch 303/500\n",
            "2/2 [==============================] - 0s 7ms/step - loss: 29.6155 - mse: 1226.7699\n",
            "Epoch 304/500\n",
            "2/2 [==============================] - 0s 9ms/step - loss: 27.0268 - mse: 1042.1516\n",
            "Epoch 305/500\n",
            "2/2 [==============================] - 0s 4ms/step - loss: 18.1674 - mse: 486.2090\n",
            "Epoch 306/500\n",
            "2/2 [==============================] - 0s 5ms/step - loss: 22.5624 - mse: 873.3419\n",
            "Epoch 307/500\n",
            "2/2 [==============================] - 0s 5ms/step - loss: 32.2819 - mse: 1350.0223\n",
            "Epoch 308/500\n",
            "2/2 [==============================] - 0s 5ms/step - loss: 15.1831 - mse: 503.3096\n",
            "Epoch 309/500\n",
            "2/2 [==============================] - 0s 9ms/step - loss: 18.8342 - mse: 565.2792\n",
            "Epoch 310/500\n",
            "2/2 [==============================] - 0s 5ms/step - loss: 21.5519 - mse: 827.4967\n",
            "Epoch 311/500\n",
            "2/2 [==============================] - 0s 5ms/step - loss: 24.8194 - mse: 879.6088\n",
            "Epoch 312/500\n",
            "2/2 [==============================] - 0s 5ms/step - loss: 5.7585 - mse: 38.4473\n",
            "Epoch 313/500\n",
            "2/2 [==============================] - 0s 5ms/step - loss: 15.9954 - mse: 494.7222\n",
            "Epoch 314/500\n",
            "2/2 [==============================] - 0s 8ms/step - loss: 36.8301 - mse: 1825.4689\n",
            "Epoch 315/500\n",
            "2/2 [==============================] - 0s 5ms/step - loss: 6.1339 - mse: 48.8819\n",
            "Epoch 316/500\n",
            "2/2 [==============================] - 0s 5ms/step - loss: 19.6802 - mse: 506.0298\n",
            "Epoch 317/500\n",
            "2/2 [==============================] - 0s 8ms/step - loss: 29.7892 - mse: 1310.2639\n",
            "Epoch 318/500\n",
            "2/2 [==============================] - 0s 7ms/step - loss: 25.8272 - mse: 892.5695\n",
            "Epoch 319/500\n",
            "2/2 [==============================] - 0s 7ms/step - loss: 14.0596 - mse: 448.9170\n",
            "Epoch 320/500\n",
            "2/2 [==============================] - 0s 8ms/step - loss: 23.9893 - mse: 919.2991\n",
            "Epoch 321/500\n",
            "2/2 [==============================] - 0s 5ms/step - loss: 28.9728 - mse: 1163.6931\n",
            "Epoch 322/500\n",
            "2/2 [==============================] - 0s 5ms/step - loss: 20.7924 - mse: 843.6060\n",
            "Epoch 323/500\n",
            "2/2 [==============================] - 0s 5ms/step - loss: 20.9998 - mse: 555.8278\n",
            "Epoch 324/500\n",
            "2/2 [==============================] - 0s 6ms/step - loss: 22.8198 - mse: 823.8399\n",
            "Epoch 325/500\n",
            "2/2 [==============================] - 0s 8ms/step - loss: 36.2364 - mse: 1923.4465\n",
            "Epoch 326/500\n",
            "2/2 [==============================] - 0s 7ms/step - loss: 7.6788 - mse: 84.4662\n",
            "Epoch 327/500\n",
            "2/2 [==============================] - 0s 11ms/step - loss: 39.7529 - mse: 2199.7244\n",
            "Epoch 328/500\n",
            "2/2 [==============================] - 0s 5ms/step - loss: 17.2325 - mse: 641.9982\n",
            "Epoch 329/500\n",
            "2/2 [==============================] - 0s 8ms/step - loss: 21.7246 - mse: 757.3943\n",
            "Epoch 330/500\n",
            "2/2 [==============================] - 0s 18ms/step - loss: 38.7492 - mse: 2153.5415\n",
            "Epoch 331/500\n",
            "2/2 [==============================] - 0s 10ms/step - loss: 14.8194 - mse: 433.6838\n",
            "Epoch 332/500\n",
            "2/2 [==============================] - 0s 8ms/step - loss: 12.0051 - mse: 314.3602\n",
            "Epoch 333/500\n",
            "2/2 [==============================] - 0s 9ms/step - loss: 25.0764 - mse: 1026.1425\n",
            "Epoch 334/500\n",
            "2/2 [==============================] - 0s 6ms/step - loss: 31.9654 - mse: 1346.7930\n",
            "Epoch 335/500\n",
            "2/2 [==============================] - 0s 12ms/step - loss: 17.9395 - mse: 694.1795\n",
            "Epoch 336/500\n",
            "2/2 [==============================] - 0s 8ms/step - loss: 24.6294 - mse: 1003.1600\n",
            "Epoch 337/500\n",
            "2/2 [==============================] - 0s 7ms/step - loss: 26.7831 - mse: 953.4678\n",
            "Epoch 338/500\n",
            "2/2 [==============================] - 0s 7ms/step - loss: 17.0856 - mse: 558.0922\n",
            "Epoch 339/500\n",
            "2/2 [==============================] - 0s 8ms/step - loss: 6.1791 - mse: 50.8314\n",
            "Epoch 340/500\n",
            "2/2 [==============================] - 0s 6ms/step - loss: 20.9639 - mse: 720.1016\n",
            "Epoch 341/500\n",
            "2/2 [==============================] - 0s 4ms/step - loss: 17.8731 - mse: 639.9114\n",
            "Epoch 342/500\n",
            "2/2 [==============================] - 0s 8ms/step - loss: 22.1612 - mse: 840.6576\n",
            "Epoch 343/500\n",
            "2/2 [==============================] - 0s 6ms/step - loss: 6.4148 - mse: 53.2712\n",
            "Epoch 344/500\n",
            "2/2 [==============================] - 0s 10ms/step - loss: 51.7194 - mse: 4026.8313\n",
            "Epoch 345/500\n",
            "2/2 [==============================] - 0s 6ms/step - loss: 21.2431 - mse: 937.2121\n",
            "Epoch 346/500\n",
            "2/2 [==============================] - 0s 5ms/step - loss: 21.8731 - mse: 856.9885\n",
            "Epoch 347/500\n",
            "2/2 [==============================] - 0s 4ms/step - loss: 34.2658 - mse: 1607.4137\n",
            "Epoch 348/500\n",
            "2/2 [==============================] - 0s 12ms/step - loss: 19.8762 - mse: 638.3431\n",
            "Epoch 349/500\n",
            "2/2 [==============================] - 0s 5ms/step - loss: 15.2878 - mse: 535.5637\n",
            "Epoch 350/500\n",
            "2/2 [==============================] - 0s 4ms/step - loss: 19.1410 - mse: 534.7356\n",
            "Epoch 351/500\n",
            "2/2 [==============================] - 0s 4ms/step - loss: 27.4990 - mse: 1167.0469\n",
            "Epoch 352/500\n",
            "2/2 [==============================] - 0s 4ms/step - loss: 26.1631 - mse: 957.4631\n",
            "Epoch 353/500\n",
            "2/2 [==============================] - 0s 6ms/step - loss: 6.9500 - mse: 73.9348\n",
            "Epoch 354/500\n",
            "2/2 [==============================] - 0s 9ms/step - loss: 25.2524 - mse: 1052.4973\n",
            "Epoch 355/500\n",
            "2/2 [==============================] - 0s 9ms/step - loss: 30.2375 - mse: 1182.7340\n",
            "Epoch 356/500\n",
            "2/2 [==============================] - 0s 7ms/step - loss: 13.2246 - mse: 363.1418\n",
            "Epoch 357/500\n",
            "2/2 [==============================] - 0s 6ms/step - loss: 21.4281 - mse: 749.5179\n",
            "Epoch 358/500\n",
            "2/2 [==============================] - 0s 12ms/step - loss: 20.2180 - mse: 580.2310\n",
            "Epoch 359/500\n",
            "2/2 [==============================] - 0s 18ms/step - loss: 19.0666 - mse: 587.5679\n",
            "Epoch 360/500\n",
            "2/2 [==============================] - 0s 12ms/step - loss: 26.7396 - mse: 1048.7375\n",
            "Epoch 361/500\n",
            "2/2 [==============================] - 0s 4ms/step - loss: 29.4330 - mse: 1156.1832\n",
            "Epoch 362/500\n",
            "2/2 [==============================] - 0s 10ms/step - loss: 13.7623 - mse: 429.4996\n",
            "Epoch 363/500\n",
            "2/2 [==============================] - 0s 13ms/step - loss: 8.0731 - mse: 126.2643\n",
            "Epoch 364/500\n",
            "2/2 [==============================] - 0s 10ms/step - loss: 28.3173 - mse: 1201.0660\n",
            "Epoch 365/500\n",
            "2/2 [==============================] - 0s 4ms/step - loss: 28.7115 - mse: 1116.4309\n",
            "Epoch 366/500\n",
            "2/2 [==============================] - 0s 4ms/step - loss: 19.1706 - mse: 780.7262\n",
            "Epoch 367/500\n",
            "2/2 [==============================] - 0s 6ms/step - loss: 18.8773 - mse: 491.4837\n",
            "Epoch 368/500\n",
            "2/2 [==============================] - 0s 5ms/step - loss: 27.5180 - mse: 1065.4749\n",
            "Epoch 369/500\n",
            "2/2 [==============================] - 0s 11ms/step - loss: 30.8197 - mse: 1278.6532\n",
            "Epoch 370/500\n",
            "2/2 [==============================] - 0s 12ms/step - loss: 16.5256 - mse: 573.4062\n",
            "Epoch 371/500\n",
            "2/2 [==============================] - 0s 7ms/step - loss: 20.1733 - mse: 683.9579\n",
            "Epoch 372/500\n",
            "2/2 [==============================] - 0s 7ms/step - loss: 17.6318 - mse: 497.2030\n",
            "Epoch 373/500\n",
            "2/2 [==============================] - 0s 12ms/step - loss: 23.7539 - mse: 868.4080\n",
            "Epoch 374/500\n",
            "2/2 [==============================] - 0s 7ms/step - loss: 39.7083 - mse: 2251.9177\n",
            "Epoch 375/500\n",
            "2/2 [==============================] - 0s 6ms/step - loss: 13.7830 - mse: 409.5132\n",
            "Epoch 376/500\n",
            "2/2 [==============================] - 0s 8ms/step - loss: 24.4866 - mse: 978.7155\n",
            "Epoch 377/500\n",
            "2/2 [==============================] - 0s 9ms/step - loss: 37.0238 - mse: 1860.7164\n",
            "Epoch 378/500\n",
            "2/2 [==============================] - 0s 12ms/step - loss: 20.6433 - mse: 938.5728\n",
            "Epoch 379/500\n",
            "2/2 [==============================] - 0s 4ms/step - loss: 21.2150 - mse: 749.4966\n",
            "Epoch 380/500\n",
            "2/2 [==============================] - 0s 7ms/step - loss: 19.1139 - mse: 519.5843\n",
            "Epoch 381/500\n",
            "2/2 [==============================] - 0s 7ms/step - loss: 26.3562 - mse: 1062.5824\n",
            "Epoch 382/500\n",
            "2/2 [==============================] - 0s 8ms/step - loss: 29.0992 - mse: 1146.9153\n",
            "Epoch 383/500\n",
            "2/2 [==============================] - 0s 13ms/step - loss: 19.1016 - mse: 711.5840\n",
            "Epoch 384/500\n",
            "2/2 [==============================] - 0s 13ms/step - loss: 17.0832 - mse: 521.4706\n",
            "Epoch 385/500\n",
            "2/2 [==============================] - 0s 14ms/step - loss: 28.5589 - mse: 1128.0341\n",
            "Epoch 386/500\n",
            "2/2 [==============================] - 0s 4ms/step - loss: 4.8219 - mse: 28.3377\n",
            "Epoch 387/500\n",
            "2/2 [==============================] - 0s 9ms/step - loss: 12.8862 - mse: 366.8306\n",
            "Epoch 388/500\n",
            "2/2 [==============================] - 0s 7ms/step - loss: 24.0228 - mse: 891.4296\n",
            "Epoch 389/500\n",
            "2/2 [==============================] - 0s 10ms/step - loss: 38.5181 - mse: 2001.5284\n",
            "Epoch 390/500\n",
            "2/2 [==============================] - 0s 12ms/step - loss: 10.5960 - mse: 195.1349\n",
            "Epoch 391/500\n",
            "2/2 [==============================] - 0s 4ms/step - loss: 33.2991 - mse: 1515.4879\n",
            "Epoch 392/500\n",
            "2/2 [==============================] - 0s 5ms/step - loss: 18.0840 - mse: 635.6014\n",
            "Epoch 393/500\n",
            "2/2 [==============================] - 0s 5ms/step - loss: 31.7734 - mse: 1394.4159\n",
            "Epoch 394/500\n",
            "2/2 [==============================] - 0s 6ms/step - loss: 21.3811 - mse: 654.8682\n",
            "Epoch 395/500\n",
            "2/2 [==============================] - 0s 6ms/step - loss: 19.4699 - mse: 710.5457\n",
            "Epoch 396/500\n",
            "2/2 [==============================] - 0s 5ms/step - loss: 30.6705 - mse: 1404.1567\n",
            "Epoch 397/500\n",
            "2/2 [==============================] - 0s 6ms/step - loss: 19.4862 - mse: 675.8836\n",
            "Epoch 398/500\n",
            "2/2 [==============================] - 0s 6ms/step - loss: 16.0859 - mse: 417.7939\n",
            "Epoch 399/500\n",
            "2/2 [==============================] - 0s 9ms/step - loss: 29.7499 - mse: 1317.9291\n",
            "Epoch 400/500\n",
            "2/2 [==============================] - 0s 8ms/step - loss: 23.3923 - mse: 783.7243\n",
            "Epoch 401/500\n",
            "2/2 [==============================] - 0s 11ms/step - loss: 20.0637 - mse: 696.4891\n",
            "Epoch 402/500\n",
            "2/2 [==============================] - 0s 9ms/step - loss: 23.1267 - mse: 913.0806\n",
            "Epoch 403/500\n",
            "2/2 [==============================] - 0s 10ms/step - loss: 36.6277 - mse: 1783.2616\n",
            "Epoch 404/500\n",
            "2/2 [==============================] - 0s 14ms/step - loss: 19.2031 - mse: 617.9897\n",
            "Epoch 405/500\n",
            "2/2 [==============================] - 0s 10ms/step - loss: 19.6495 - mse: 608.4051\n",
            "Epoch 406/500\n",
            "2/2 [==============================] - 0s 18ms/step - loss: 27.4163 - mse: 1127.4385\n",
            "Epoch 407/500\n",
            "2/2 [==============================] - 0s 12ms/step - loss: 28.8632 - mse: 1122.7233\n",
            "Epoch 408/500\n",
            "2/2 [==============================] - 0s 12ms/step - loss: 19.4376 - mse: 627.6595\n",
            "Epoch 409/500\n",
            "2/2 [==============================] - 0s 5ms/step - loss: 19.7425 - mse: 668.4758\n",
            "Epoch 410/500\n",
            "2/2 [==============================] - 0s 6ms/step - loss: 32.0408 - mse: 1364.4250\n",
            "Epoch 411/500\n",
            "2/2 [==============================] - 0s 15ms/step - loss: 15.4337 - mse: 477.1155\n",
            "Epoch 412/500\n",
            "2/2 [==============================] - 0s 10ms/step - loss: 18.8404 - mse: 516.5629\n",
            "Epoch 413/500\n",
            "2/2 [==============================] - 0s 13ms/step - loss: 30.5561 - mse: 1442.0106\n",
            "Epoch 414/500\n",
            "2/2 [==============================] - 0s 6ms/step - loss: 20.1303 - mse: 694.0433\n",
            "Epoch 415/500\n",
            "2/2 [==============================] - 0s 8ms/step - loss: 14.1503 - mse: 458.7448\n",
            "Epoch 416/500\n",
            "2/2 [==============================] - 0s 8ms/step - loss: 29.7256 - mse: 1245.3378\n",
            "Epoch 417/500\n",
            "2/2 [==============================] - 0s 7ms/step - loss: 26.4055 - mse: 952.7547\n",
            "Epoch 418/500\n",
            "2/2 [==============================] - 0s 9ms/step - loss: 19.8957 - mse: 786.9456\n",
            "Epoch 419/500\n",
            "2/2 [==============================] - 0s 5ms/step - loss: 21.4475 - mse: 801.6460\n",
            "Epoch 420/500\n",
            "2/2 [==============================] - 0s 9ms/step - loss: 37.0744 - mse: 1992.1925\n",
            "Epoch 421/500\n",
            "2/2 [==============================] - 0s 11ms/step - loss: 19.8889 - mse: 669.8306\n",
            "Epoch 422/500\n",
            "2/2 [==============================] - 0s 6ms/step - loss: 18.3726 - mse: 502.1788\n",
            "Epoch 423/500\n",
            "2/2 [==============================] - 0s 7ms/step - loss: 28.5691 - mse: 1098.8876\n",
            "Epoch 424/500\n",
            "2/2 [==============================] - 0s 10ms/step - loss: 29.2115 - mse: 1162.8647\n",
            "Epoch 425/500\n",
            "2/2 [==============================] - 0s 11ms/step - loss: 12.3947 - mse: 390.3244\n",
            "Epoch 426/500\n",
            "2/2 [==============================] - 0s 7ms/step - loss: 23.1948 - mse: 943.8840\n",
            "Epoch 427/500\n",
            "2/2 [==============================] - 0s 13ms/step - loss: 28.5628 - mse: 1100.5474\n",
            "Epoch 428/500\n",
            "2/2 [==============================] - 0s 10ms/step - loss: 17.0675 - mse: 396.4397\n",
            "Epoch 429/500\n",
            "2/2 [==============================] - 0s 7ms/step - loss: 30.6688 - mse: 1369.7645\n",
            "Epoch 430/500\n",
            "2/2 [==============================] - 0s 9ms/step - loss: 22.3962 - mse: 728.4260\n",
            "Epoch 431/500\n",
            "2/2 [==============================] - 0s 7ms/step - loss: 12.9703 - mse: 372.7675\n",
            "Epoch 432/500\n",
            "2/2 [==============================] - 0s 15ms/step - loss: 16.1374 - mse: 543.0417\n",
            "Epoch 433/500\n",
            "2/2 [==============================] - 0s 8ms/step - loss: 7.8898 - mse: 106.4724\n",
            "Epoch 434/500\n",
            "2/2 [==============================] - 0s 12ms/step - loss: 37.3699 - mse: 1940.6284\n",
            "Epoch 435/500\n",
            "2/2 [==============================] - 0s 8ms/step - loss: 19.9612 - mse: 668.2198\n",
            "Epoch 436/500\n",
            "2/2 [==============================] - 0s 10ms/step - loss: 20.8160 - mse: 586.8973\n",
            "Epoch 437/500\n",
            "2/2 [==============================] - 0s 6ms/step - loss: 20.8398 - mse: 603.7581\n",
            "Epoch 438/500\n",
            "2/2 [==============================] - 0s 12ms/step - loss: 18.9303 - mse: 489.1639\n",
            "Epoch 439/500\n",
            "2/2 [==============================] - 0s 8ms/step - loss: 28.3370 - mse: 1192.5063\n",
            "Epoch 440/500\n",
            "2/2 [==============================] - 0s 8ms/step - loss: 27.7503 - mse: 1031.6239\n",
            "Epoch 441/500\n",
            "2/2 [==============================] - 0s 8ms/step - loss: 6.1891 - mse: 54.1266\n",
            "Epoch 442/500\n",
            "2/2 [==============================] - 0s 9ms/step - loss: 40.2744 - mse: 2367.8701\n",
            "Epoch 443/500\n",
            "2/2 [==============================] - 0s 7ms/step - loss: 17.3016 - mse: 606.5815\n",
            "Epoch 444/500\n",
            "2/2 [==============================] - 0s 8ms/step - loss: 20.0042 - mse: 565.7988\n",
            "Epoch 445/500\n",
            "2/2 [==============================] - 0s 6ms/step - loss: 17.4537 - mse: 557.5013\n",
            "Epoch 446/500\n",
            "2/2 [==============================] - 0s 8ms/step - loss: 20.3412 - mse: 683.5541\n",
            "Epoch 447/500\n",
            "2/2 [==============================] - 0s 6ms/step - loss: 18.5959 - mse: 453.5272\n",
            "Epoch 448/500\n",
            "2/2 [==============================] - 0s 8ms/step - loss: 23.9749 - mse: 935.8594\n",
            "Epoch 449/500\n",
            "2/2 [==============================] - 0s 8ms/step - loss: 33.9745 - mse: 1515.6134\n",
            "Epoch 450/500\n",
            "2/2 [==============================] - 0s 9ms/step - loss: 9.4867 - mse: 161.0504\n",
            "Epoch 451/500\n",
            "2/2 [==============================] - 0s 9ms/step - loss: 35.1017 - mse: 1656.6261\n",
            "Epoch 452/500\n",
            "2/2 [==============================] - 0s 11ms/step - loss: 19.1703 - mse: 641.3089\n",
            "Epoch 453/500\n",
            "2/2 [==============================] - 0s 6ms/step - loss: 21.8623 - mse: 663.8953\n",
            "Epoch 454/500\n",
            "2/2 [==============================] - 0s 6ms/step - loss: 18.1313 - mse: 585.6083\n",
            "Epoch 455/500\n",
            "2/2 [==============================] - 0s 13ms/step - loss: 23.0706 - mse: 904.0665\n",
            "Epoch 456/500\n",
            "2/2 [==============================] - 0s 11ms/step - loss: 35.7957 - mse: 1793.6564\n",
            "Epoch 457/500\n",
            "2/2 [==============================] - 0s 10ms/step - loss: 19.1558 - mse: 679.6948\n",
            "Epoch 458/500\n",
            "2/2 [==============================] - 0s 4ms/step - loss: 19.1115 - mse: 573.1146\n",
            "Epoch 459/500\n",
            "2/2 [==============================] - 0s 5ms/step - loss: 27.4022 - mse: 1121.3650\n",
            "Epoch 460/500\n",
            "2/2 [==============================] - 0s 7ms/step - loss: 31.8370 - mse: 1352.4922\n",
            "Epoch 461/500\n",
            "2/2 [==============================] - 0s 9ms/step - loss: 19.7555 - mse: 693.8297\n",
            "Epoch 462/500\n",
            "2/2 [==============================] - 0s 5ms/step - loss: 17.7716 - mse: 574.7446\n",
            "Epoch 463/500\n",
            "2/2 [==============================] - 0s 11ms/step - loss: 23.6951 - mse: 845.3663\n",
            "Epoch 464/500\n",
            "2/2 [==============================] - 0s 17ms/step - loss: 18.7164 - mse: 760.0790\n",
            "Epoch 465/500\n",
            "2/2 [==============================] - 0s 6ms/step - loss: 17.2333 - mse: 555.9379\n",
            "Epoch 466/500\n",
            "2/2 [==============================] - 0s 7ms/step - loss: 4.2805 - mse: 21.3002\n",
            "Epoch 467/500\n",
            "2/2 [==============================] - 0s 14ms/step - loss: 4.3498 - mse: 22.6597\n",
            "Epoch 468/500\n",
            "2/2 [==============================] - 0s 4ms/step - loss: 19.6804 - mse: 701.7032\n",
            "Epoch 469/500\n",
            "2/2 [==============================] - 0s 5ms/step - loss: 19.3144 - mse: 539.4617\n",
            "Epoch 470/500\n",
            "2/2 [==============================] - 0s 5ms/step - loss: 26.2520 - mse: 1094.2302\n",
            "Epoch 471/500\n",
            "2/2 [==============================] - 0s 8ms/step - loss: 30.9448 - mse: 1265.5713\n",
            "Epoch 472/500\n",
            "2/2 [==============================] - 0s 7ms/step - loss: 19.7603 - mse: 812.8035\n",
            "Epoch 473/500\n",
            "2/2 [==============================] - 0s 6ms/step - loss: 23.4737 - mse: 872.0734\n",
            "Epoch 474/500\n",
            "2/2 [==============================] - 0s 7ms/step - loss: 36.2581 - mse: 1745.0437\n",
            "Epoch 475/500\n",
            "2/2 [==============================] - 0s 9ms/step - loss: 17.9939 - mse: 845.1594\n",
            "Epoch 476/500\n",
            "2/2 [==============================] - 0s 7ms/step - loss: 17.8945 - mse: 445.9615\n",
            "Epoch 477/500\n",
            "2/2 [==============================] - 0s 13ms/step - loss: 31.9580 - mse: 1441.4956\n",
            "Epoch 478/500\n",
            "2/2 [==============================] - 0s 8ms/step - loss: 20.1564 - mse: 688.4086\n",
            "Epoch 479/500\n",
            "2/2 [==============================] - 0s 9ms/step - loss: 18.5650 - mse: 817.0231\n",
            "Epoch 480/500\n",
            "2/2 [==============================] - 0s 4ms/step - loss: 19.5039 - mse: 550.1408\n",
            "Epoch 481/500\n",
            "2/2 [==============================] - 0s 5ms/step - loss: 23.7418 - mse: 903.3061\n",
            "Epoch 482/500\n",
            "2/2 [==============================] - 0s 14ms/step - loss: 31.1139 - mse: 1287.8862\n",
            "Epoch 483/500\n",
            "2/2 [==============================] - 0s 8ms/step - loss: 17.9790 - mse: 727.2966\n",
            "Epoch 484/500\n",
            "2/2 [==============================] - 0s 3ms/step - loss: 29.1399 - mse: 1224.1776\n",
            "Epoch 485/500\n",
            "2/2 [==============================] - 0s 8ms/step - loss: 26.3997 - mse: 945.9864\n",
            "Epoch 486/500\n",
            "2/2 [==============================] - 0s 7ms/step - loss: 18.8010 - mse: 485.2754\n",
            "Epoch 487/500\n",
            "2/2 [==============================] - 0s 8ms/step - loss: 24.4569 - mse: 1029.5806\n",
            "Epoch 488/500\n",
            "2/2 [==============================] - 0s 10ms/step - loss: 30.4880 - mse: 1245.3199\n",
            "Epoch 489/500\n",
            "2/2 [==============================] - 0s 6ms/step - loss: 16.8253 - mse: 667.9941\n",
            "Epoch 490/500\n",
            "2/2 [==============================] - 0s 7ms/step - loss: 23.2698 - mse: 881.1614\n",
            "Epoch 491/500\n",
            "2/2 [==============================] - 0s 5ms/step - loss: 40.8538 - mse: 2324.0134\n",
            "Epoch 492/500\n",
            "2/2 [==============================] - 0s 6ms/step - loss: 19.9195 - mse: 537.5131\n",
            "Epoch 493/500\n",
            "2/2 [==============================] - 0s 5ms/step - loss: 16.9342 - mse: 535.9663\n",
            "Epoch 494/500\n",
            "2/2 [==============================] - 0s 6ms/step - loss: 20.2143 - mse: 688.6508\n",
            "Epoch 495/500\n",
            "2/2 [==============================] - 0s 5ms/step - loss: 20.2847 - mse: 722.7725\n",
            "Epoch 496/500\n",
            "2/2 [==============================] - 0s 4ms/step - loss: 19.5366 - mse: 580.8004\n",
            "Epoch 497/500\n",
            "2/2 [==============================] - 0s 8ms/step - loss: 27.2176 - mse: 1139.6343\n",
            "Epoch 498/500\n",
            "2/2 [==============================] - 0s 4ms/step - loss: 30.1125 - mse: 1207.5258\n",
            "Epoch 499/500\n",
            "2/2 [==============================] - 0s 15ms/step - loss: 4.9585 - mse: 36.6146\n",
            "Epoch 500/500\n",
            "2/2 [==============================] - 0s 4ms/step - loss: 34.8032 - mse: 1656.1959\n",
            "2/2 [==============================] - 0s 5ms/step - loss: 12.3803 - mse: 209.9379\n"
          ]
        },
        {
          "output_type": "execute_result",
          "data": {
            "text/plain": [
              "[12.38033676147461, 209.93785095214844]"
            ]
          },
          "metadata": {},
          "execution_count": 41
        }
      ]
    },
    {
      "cell_type": "code",
      "metadata": {
        "id": "Sgt40hxNtUnq"
      },
      "source": [
        "y_pred_3 = model_3.predict(X_test)\n"
      ],
      "execution_count": 62,
      "outputs": []
    },
    {
      "cell_type": "code",
      "metadata": {
        "colab": {
          "base_uri": "https://localhost:8080/",
          "height": 295
        },
        "id": "lruqVKBxtagH",
        "outputId": "a573272f-7269-4ff2-95a9-772ac6e30919"
      },
      "source": [
        "plot_predictions(predictions=y_pred_3)"
      ],
      "execution_count": 63,
      "outputs": [
        {
          "output_type": "display_data",
          "data": {
            "image/png": "[encoded data removed]",
            "text/plain": [
              "<Figure size 432x288 with 1 Axes>"
            ]
          },
          "metadata": {
            "needs_background": "light"
          }
        }
      ]
    },
    {
      "cell_type": "markdown",
      "metadata": {
        "id": "0p_QdJZ4tl5D"
      },
      "source": [
        "# MAE and MSE"
      ]
    },
    {
      "cell_type": "code",
      "metadata": {
        "id": "W3SksOzHtefL"
      },
      "source": [
        "mae_1 = mae(Y_test,y_pred_1)"
      ],
      "execution_count": 44,
      "outputs": []
    },
    {
      "cell_type": "code",
      "metadata": {
        "id": "CUVV3weRtrZL"
      },
      "source": [
        "mse_1 = mse(Y_test,y_pred_1)"
      ],
      "execution_count": 45,
      "outputs": []
    },
    {
      "cell_type": "code",
      "metadata": {
        "id": "CYszIxo8u3fT"
      },
      "source": [
        "mae_2 = mae(Y_test, y_pred_2)"
      ],
      "execution_count": 46,
      "outputs": []
    },
    {
      "cell_type": "code",
      "metadata": {
        "id": "DM4hz7UNu6sS"
      },
      "source": [
        "mse_2 = mse(Y_test, y_pred_2)"
      ],
      "execution_count": 47,
      "outputs": []
    },
    {
      "cell_type": "code",
      "metadata": {
        "id": "Mfcs2Kkxu9-1"
      },
      "source": [
        "mae_3 = mae(Y_test, y_pred_3)"
      ],
      "execution_count": 48,
      "outputs": []
    },
    {
      "cell_type": "code",
      "metadata": {
        "id": "maRbZNLqvDo0"
      },
      "source": [
        "mse_3 = mse(Y_test, y_pred_3)\n",
        "\n"
      ],
      "execution_count": 49,
      "outputs": []
    },
    {
      "cell_type": "markdown",
      "metadata": {
        "id": "lT_vQQ2svLp-"
      },
      "source": [
        "# **Compairing and Experimenting The Values**"
      ]
    },
    {
      "cell_type": "code",
      "metadata": {
        "id": "5qJrQqS51Olq"
      },
      "source": [
        "model_results = [\n",
        "                 ['model_1', mae_1.numpy(), mse_1.numpy()],\n",
        "                 ['model_2', mae_2.numpy(), mse_2.numpy()],\n",
        "                 ['model_3', mae_3.numpy(), mse_3.numpy()],\n",
        "]\n"
      ],
      "execution_count": 68,
      "outputs": []
    },
    {
      "cell_type": "code",
      "metadata": {
        "colab": {
          "base_uri": "https://localhost:8080/"
        },
        "id": "5uaJGXb31f2k",
        "outputId": "7a578c8e-a940-4425-e47f-c76bbc1dab5e"
      },
      "source": [
        "model_results"
      ],
      "execution_count": 69,
      "outputs": [
        {
          "output_type": "execute_result",
          "data": {
            "text/plain": [
              "[['model_1', 43.535328, 1919.7249],\n",
              " ['model_2', 43.535328, 1919.7249],\n",
              " ['model_3', 43.535328, 1919.7249]]"
            ]
          },
          "metadata": {},
          "execution_count": 69
        }
      ]
    },
    {
      "cell_type": "code",
      "metadata": {
        "id": "ox4weTeO1he8"
      },
      "source": [
        "all_results = pd.DataFrame(model_results, columns=['model',mae,mse])"
      ],
      "execution_count": 70,
      "outputs": []
    },
    {
      "cell_type": "code",
      "metadata": {
        "colab": {
          "base_uri": "https://localhost:8080/",
          "height": 143
        },
        "id": "ORJLU_l12JR5",
        "outputId": "c42f624c-98e8-4745-a341-ec5680dfcf14"
      },
      "source": [
        "all_results"
      ],
      "execution_count": 71,
      "outputs": [
        {
          "output_type": "execute_result",
          "data": {
            "text/html": [
              "<div>\n",
              "<style scoped>\n",
              "    .dataframe tbody tr th:only-of-type {\n",
              "        vertical-align: middle;\n",
              "    }\n",
              "\n",
              "    .dataframe tbody tr th {\n",
              "        vertical-align: top;\n",
              "    }\n",
              "\n",
              "    .dataframe thead th {\n",
              "        text-align: right;\n",
              "    }\n",
              "</style>\n",
              "<table border=\"1\" class=\"dataframe\">\n",
              "  <thead>\n",
              "    <tr style=\"text-align: right;\">\n",
              "      <th></th>\n",
              "      <th>model</th>\n",
              "      <th>&lt;function mae at 0x7f6343a464d0&gt;</th>\n",
              "      <th>&lt;function mse at 0x7f6342aa0e60&gt;</th>\n",
              "    </tr>\n",
              "  </thead>\n",
              "  <tbody>\n",
              "    <tr>\n",
              "      <th>0</th>\n",
              "      <td>model_1</td>\n",
              "      <td>43.535328</td>\n",
              "      <td>1919.724854</td>\n",
              "    </tr>\n",
              "    <tr>\n",
              "      <th>1</th>\n",
              "      <td>model_2</td>\n",
              "      <td>43.535328</td>\n",
              "      <td>1919.724854</td>\n",
              "    </tr>\n",
              "    <tr>\n",
              "      <th>2</th>\n",
              "      <td>model_3</td>\n",
              "      <td>43.535328</td>\n",
              "      <td>1919.724854</td>\n",
              "    </tr>\n",
              "  </tbody>\n",
              "</table>\n",
              "</div>"
            ],
            "text/plain": [
              "     model  <function mae at 0x7f6343a464d0>  <function mse at 0x7f6342aa0e60>\n",
              "0  model_1                         43.535328                       1919.724854\n",
              "1  model_2                         43.535328                       1919.724854\n",
              "2  model_3                         43.535328                       1919.724854"
            ]
          },
          "metadata": {},
          "execution_count": 71
        }
      ]
    },
    {
      "cell_type": "code",
      "metadata": {
        "colab": {
          "base_uri": "https://localhost:8080/"
        },
        "id": "u4JTh7G92K2n",
        "outputId": "3547d699-a295-4e45-b7cf-0c097cf45c4c"
      },
      "source": [
        "model_1.save('My_Model_1')"
      ],
      "execution_count": 72,
      "outputs": [
        {
          "output_type": "stream",
          "name": "stdout",
          "text": [
            "INFO:tensorflow:Assets written to: My_Model_1/assets\n"
          ]
        }
      ]
    },
    {
      "cell_type": "code",
      "metadata": {
        "id": "Yd6RQQzy2tQT"
      },
      "source": [
        "model_2.save('My_Model_2.h5')"
      ],
      "execution_count": 73,
      "outputs": []
    },
    {
      "cell_type": "code",
      "metadata": {
        "id": "VST3makS2_vc"
      },
      "source": [
        "load_model_1=  tf.keras.models.load_model('/content/My_Model_1')"
      ],
      "execution_count": 75,
      "outputs": []
    },
    {
      "cell_type": "code",
      "metadata": {
        "colab": {
          "base_uri": "https://localhost:8080/"
        },
        "id": "iOQrFCp_3KU_",
        "outputId": "1ac0fdc7-c5bb-4093-8959-56243cea8742"
      },
      "source": [
        "load_model_1.summary()"
      ],
      "execution_count": 76,
      "outputs": [
        {
          "output_type": "stream",
          "name": "stdout",
          "text": [
            "Model: \"sequential_5\"\n",
            "_________________________________________________________________\n",
            " Layer (type)                Output Shape              Param #   \n",
            "=================================================================\n",
            " dense_7 (Dense)             (None, 1)                 2         \n",
            "                                                                 \n",
            "=================================================================\n",
            "Total params: 2\n",
            "Trainable params: 2\n",
            "Non-trainable params: 0\n",
            "_________________________________________________________________\n"
          ]
        }
      ]
    },
    {
      "cell_type": "code",
      "metadata": {
        "id": "eIJQLftf3RkX"
      },
      "source": [
        "exist_Model_1 = model_1.predict(X_test)\n",
        "load_model_1 = model_1.predict(X_test)"
      ],
      "execution_count": 77,
      "outputs": []
    },
    {
      "cell_type": "code",
      "metadata": {
        "colab": {
          "base_uri": "https://localhost:8080/"
        },
        "id": "BWHwvSLJ3cDk",
        "outputId": "11e1f5fd-8d2e-49dc-c8df-544f518bf19f"
      },
      "source": [
        "exist_Model_1==load_model_1"
      ],
      "execution_count": 78,
      "outputs": [
        {
          "output_type": "execute_result",
          "data": {
            "text/plain": [
              "array([[ True],\n",
              "       [ True],\n",
              "       [ True],\n",
              "       [ True],\n",
              "       [ True],\n",
              "       [ True],\n",
              "       [ True],\n",
              "       [ True],\n",
              "       [ True],\n",
              "       [ True]])"
            ]
          },
          "metadata": {},
          "execution_count": 78
        }
      ]
    },
    {
      "cell_type": "code",
      "metadata": {
        "id": "iKvvHIns3ezE"
      },
      "source": [
        "load_model_2=  tf.keras.models.load_model('/content/My_Model_2.h5')"
      ],
      "execution_count": 79,
      "outputs": []
    },
    {
      "cell_type": "code",
      "metadata": {
        "colab": {
          "base_uri": "https://localhost:8080/"
        },
        "id": "FwPZkY9i3ovT",
        "outputId": "33a6f89e-ba14-4dfd-c705-a6f5a5dd76e2"
      },
      "source": [
        "load_model_2.summary()"
      ],
      "execution_count": 80,
      "outputs": [
        {
          "output_type": "stream",
          "name": "stdout",
          "text": [
            "Model: \"sequential_6\"\n",
            "_________________________________________________________________\n",
            " Layer (type)                Output Shape              Param #   \n",
            "=================================================================\n",
            " dense_8 (Dense)             (None, 10)                20        \n",
            "                                                                 \n",
            " dense_9 (Dense)             (None, 1)                 11        \n",
            "                                                                 \n",
            "=================================================================\n",
            "Total params: 31\n",
            "Trainable params: 31\n",
            "Non-trainable params: 0\n",
            "_________________________________________________________________\n"
          ]
        }
      ]
    },
    {
      "cell_type": "code",
      "metadata": {
        "id": "duTS7aXU3rU-"
      },
      "source": [
        "exist_Model_2 = model_2.predict(X_test)\n",
        "load_model_2 = model_2.predict(X_test)\n"
      ],
      "execution_count": 81,
      "outputs": []
    },
    {
      "cell_type": "code",
      "metadata": {
        "colab": {
          "base_uri": "https://localhost:8080/"
        },
        "id": "URt6uhUA30r7",
        "outputId": "f3bf22de-37f6-4549-a47a-4b0b127b9d96"
      },
      "source": [
        "exist_Model_2 == load_model_2"
      ],
      "execution_count": 82,
      "outputs": [
        {
          "output_type": "execute_result",
          "data": {
            "text/plain": [
              "array([[ True],\n",
              "       [ True],\n",
              "       [ True],\n",
              "       [ True],\n",
              "       [ True],\n",
              "       [ True],\n",
              "       [ True],\n",
              "       [ True],\n",
              "       [ True],\n",
              "       [ True]])"
            ]
          },
          "metadata": {},
          "execution_count": 82
        }
      ]
    },
    {
      "cell_type": "markdown",
      "metadata": {
        "id": "8xYZ3Yg136ml"
      },
      "source": [
        "# Saving And Downloading The Files"
      ]
    },
    {
      "cell_type": "code",
      "metadata": {
        "id": "k2CKeGK23218"
      },
      "source": [
        "from google.colab import files"
      ],
      "execution_count": 83,
      "outputs": []
    },
    {
      "cell_type": "code",
      "metadata": {
        "id": "moGkpPcS4BEf"
      },
      "source": [
        "files.download('/content/My_Model_1')"
      ],
      "execution_count": null,
      "outputs": []
    },
    {
      "cell_type": "code",
      "metadata": {
        "colab": {
          "base_uri": "https://localhost:8080/",
          "height": 17
        },
        "id": "co1GFEd_4Exa",
        "outputId": "90db00d1-6c01-447f-9e67-bda46444ed1a"
      },
      "source": [
        "files.download('/content/My_Model_2.h5')"
      ],
      "execution_count": 85,
      "outputs": [
        {
          "output_type": "display_data",
          "data": {
            "application/javascript": [
              "\n",
              "    async function download(id, filename, size) {\n",
              "      if (!google.colab.kernel.accessAllowed) {\n",
              "        return;\n",
              "      }\n",
              "      const div = document.createElement('div');\n",
              "      const label = document.createElement('label');\n",
              "      label.textContent = `Downloading \"${filename}\": `;\n",
              "      div.appendChild(label);\n",
              "      const progress = document.createElement('progress');\n",
              "      progress.max = size;\n",
              "      div.appendChild(progress);\n",
              "      document.body.appendChild(div);\n",
              "\n",
              "      const buffers = [];\n",
              "      let downloaded = 0;\n",
              "\n",
              "      const channel = await google.colab.kernel.comms.open(id);\n",
              "      // Send a message to notify the kernel that we're ready.\n",
              "      channel.send({})\n",
              "\n",
              "      for await (const message of channel.messages) {\n",
              "        // Send a message to notify the kernel that we're ready.\n",
              "        channel.send({})\n",
              "        if (message.buffers) {\n",
              "          for (const buffer of message.buffers) {\n",
              "            buffers.push(buffer);\n",
              "            downloaded += buffer.byteLength;\n",
              "            progress.value = downloaded;\n",
              "          }\n",
              "        }\n",
              "      }\n",
              "      const blob = new Blob(buffers, {type: 'application/binary'});\n",
              "      const a = document.createElement('a');\n",
              "      a.href = window.URL.createObjectURL(blob);\n",
              "      a.download = filename;\n",
              "      div.appendChild(a);\n",
              "      a.click();\n",
              "      div.remove();\n",
              "    }\n",
              "  "
            ],
            "text/plain": [
              "<IPython.core.display.Javascript object>"
            ]
          },
          "metadata": {}
        },
        {
          "output_type": "display_data",
          "data": {
            "application/javascript": [
              "download(\"download_c74674c1-79d7-4932-9e10-12638a0370d8\", \"My_Model_2.h5\", 17872)"
            ],
            "text/plain": [
              "<IPython.core.display.Javascript object>"
            ]
          },
          "metadata": {}
        }
      ]
    },
    {
      "cell_type": "code",
      "metadata": {
        "id": "vG-he5Ma4Mv8"
      },
      "source": [
        ""
      ],
      "execution_count": null,
      "outputs": []
    }
  ]
}