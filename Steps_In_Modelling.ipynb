{
  "nbformat": 4,
  "nbformat_minor": 0,
  "metadata": {
    "colab": {
      "name": "Steps_In_Modelling.ipynb",
      "provenance": [],
      "collapsed_sections": []
    },
    "kernelspec": {
      "name": "python3",
      "display_name": "Python 3"
    },
    "language_info": {
      "name": "python"
    }
  },
  "cells": [
    {
      "cell_type": "code",
      "metadata": {
        "id": "GebvaGZKY9AK"
      },
      "source": [
        "import tensorflow as tf\n",
        "import numpy as np\n",
        "import pandas as pd\n",
        "import matplotlib.pyplot as plt\n"
      ],
      "execution_count": 1,
      "outputs": []
    },
    {
      "cell_type": "code",
      "metadata": {
        "colab": {
          "base_uri": "https://localhost:8080/"
        },
        "id": "5yr8lWwngHox",
        "outputId": "9d9e898f-7e90-468d-93bd-84152e90c598"
      },
      "source": [
        "X = tf.constant([2,4,56,6,4,3,45,4])\n",
        "y = tf.constant([6,5,4,53,5,23,65,8])\n",
        "\n",
        "X,y"
      ],
      "execution_count": 4,
      "outputs": [
        {
          "output_type": "execute_result",
          "data": {
            "text/plain": [
              "(<tf.Tensor: shape=(8,), dtype=int32, numpy=array([ 2,  4, 56,  6,  4,  3, 45,  4], dtype=int32)>,\n",
              " <tf.Tensor: shape=(8,), dtype=int32, numpy=array([ 6,  5,  4, 53,  5, 23, 65,  8], dtype=int32)>)"
            ]
          },
          "metadata": {},
          "execution_count": 4
        }
      ]
    },
    {
      "cell_type": "code",
      "metadata": {
        "colab": {
          "base_uri": "https://localhost:8080/"
        },
        "id": "iGa9ZUM8gW7y",
        "outputId": "a6bbb246-6ea4-417d-b862-278070d74db0"
      },
      "source": [
        "#Set_Random Values\n",
        "\n",
        "tf.random.set_seed(42)\n",
        "\n",
        "#Create_Model\n",
        "\n",
        "model = tf.keras.Sequential([\n",
        "                             tf.keras.layers.Dense(1)\n",
        "])\n",
        "\n",
        "#Compiling a Model\n",
        "\n",
        "model.compile(\n",
        "    loss=tf.keras.losses.mae ,\n",
        "    optimizer = tf.keras.optimizers.SGD() ,\n",
        "    metrics=['mae']\n",
        "    \n",
        ")\n",
        "\n",
        "#Fit a Model \n",
        "\n",
        "model.fit(tf.expand_dims(X, axis=1),y , epochs=5)"
      ],
      "execution_count": 19,
      "outputs": [
        {
          "output_type": "stream",
          "name": "stdout",
          "text": [
            "Epoch 1/5\n",
            "1/1 [==============================] - 0s 297ms/step - loss: 19.2699 - mae: 19.2699\n",
            "Epoch 2/5\n",
            "1/1 [==============================] - 0s 7ms/step - loss: 19.2418 - mae: 19.2418\n",
            "Epoch 3/5\n",
            "1/1 [==============================] - 0s 7ms/step - loss: 19.2137 - mae: 19.2137\n",
            "Epoch 4/5\n",
            "1/1 [==============================] - 0s 8ms/step - loss: 19.1855 - mae: 19.1855\n",
            "Epoch 5/5\n",
            "1/1 [==============================] - 0s 5ms/step - loss: 19.1574 - mae: 19.1574\n"
          ]
        },
        {
          "output_type": "execute_result",
          "data": {
            "text/plain": [
              "<keras.callbacks.History at 0x7faca74556d0>"
            ]
          },
          "metadata": {},
          "execution_count": 19
        }
      ]
    },
    {
      "cell_type": "markdown",
      "metadata": {
        "id": "LcPcNT1kqdJG"
      },
      "source": [
        "# Once More"
      ]
    },
    {
      "cell_type": "code",
      "metadata": {
        "colab": {
          "base_uri": "https://localhost:8080/"
        },
        "id": "vm_SvxirgmtE",
        "outputId": "42152099-8634-428a-fe24-beb39accebcc"
      },
      "source": [
        "val1 = tf.constant([5,3,5,7,9,2,6,1,4,0])\n",
        "val2 = tf.constant([6,7,3,1,2,5,0,7,9,8])\n",
        "\n",
        "val1, val2\n"
      ],
      "execution_count": 20,
      "outputs": [
        {
          "output_type": "execute_result",
          "data": {
            "text/plain": [
              "(<tf.Tensor: shape=(10,), dtype=int32, numpy=array([5, 3, 5, 7, 9, 2, 6, 1, 4, 0], dtype=int32)>,\n",
              " <tf.Tensor: shape=(10,), dtype=int32, numpy=array([6, 7, 3, 1, 2, 5, 0, 7, 9, 8], dtype=int32)>)"
            ]
          },
          "metadata": {},
          "execution_count": 20
        }
      ]
    },
    {
      "cell_type": "code",
      "metadata": {
        "colab": {
          "base_uri": "https://localhost:8080/"
        },
        "id": "elpP_RbEqsuh",
        "outputId": "0f62c36c-b36f-48e7-c90e-3acd1bb6e2ab"
      },
      "source": [
        "# Set Random values\n",
        "\n",
        "tf.random.set_seed(42)\n",
        "\n",
        "# Create A model\n",
        "\n",
        "model = tf.keras.Sequential([\n",
        "                             tf.keras.layers.Dense(1)\n",
        "])\n",
        "\n",
        "# Compiling a Model\n",
        "\n",
        "model.compile(\n",
        "    loss = tf.keras.losses.mae ,\n",
        "    optimizer = tf.keras.optimizers.SGD() ,\n",
        "    metrics = ['mae']\n",
        ")\n",
        "\n",
        "# Fit a Model\n",
        "\n",
        "model.fit(tf.expand_dims(val1, axis=1), val2 , epochs=8)\n"
      ],
      "execution_count": 21,
      "outputs": [
        {
          "output_type": "stream",
          "name": "stdout",
          "text": [
            "Epoch 1/8\n",
            "1/1 [==============================] - 0s 319ms/step - loss: 4.3140 - mae: 4.3140\n",
            "Epoch 2/8\n",
            "1/1 [==============================] - 0s 7ms/step - loss: 4.3120 - mae: 4.3120\n",
            "Epoch 3/8\n",
            "1/1 [==============================] - 0s 13ms/step - loss: 4.3100 - mae: 4.3100\n",
            "Epoch 4/8\n",
            "1/1 [==============================] - 0s 6ms/step - loss: 4.3080 - mae: 4.3080\n",
            "Epoch 5/8\n",
            "1/1 [==============================] - 0s 11ms/step - loss: 4.3060 - mae: 4.3060\n",
            "Epoch 6/8\n",
            "1/1 [==============================] - 0s 10ms/step - loss: 4.3040 - mae: 4.3040\n",
            "Epoch 7/8\n",
            "1/1 [==============================] - 0s 13ms/step - loss: 4.3020 - mae: 4.3020\n",
            "Epoch 8/8\n",
            "1/1 [==============================] - 0s 5ms/step - loss: 4.3000 - mae: 4.3000\n"
          ]
        },
        {
          "output_type": "execute_result",
          "data": {
            "text/plain": [
              "<keras.callbacks.History at 0x7faca6bbead0>"
            ]
          },
          "metadata": {},
          "execution_count": 21
        }
      ]
    },
    {
      "cell_type": "code",
      "metadata": {
        "colab": {
          "base_uri": "https://localhost:8080/"
        },
        "id": "Qi2UwXAMrSdS",
        "outputId": "02106c3b-06f7-4df2-e6b4-0252f01132ae"
      },
      "source": [
        "model.predict([23])"
      ],
      "execution_count": 22,
      "outputs": [
        {
          "output_type": "execute_result",
          "data": {
            "text/plain": [
              "array([[12.775382]], dtype=float32)"
            ]
          },
          "metadata": {},
          "execution_count": 22
        }
      ]
    },
    {
      "cell_type": "code",
      "metadata": {
        "id": "CYHJYP18rXij"
      },
      "source": [
        ""
      ],
      "execution_count": null,
      "outputs": []
    }
  ]
}