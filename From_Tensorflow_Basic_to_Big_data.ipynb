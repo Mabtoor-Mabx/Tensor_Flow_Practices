{
  "nbformat": 4,
  "nbformat_minor": 0,
  "metadata": {
    "colab": {
      "name": "From_Tensorflow_Basic_to_Big_data.ipynb",
      "provenance": [],
      "collapsed_sections": [],
      "toc_visible": true
    },
    "kernelspec": {
      "name": "python3",
      "display_name": "Python 3"
    },
    "language_info": {
      "name": "python"
    }
  },
  "cells": [
    {
      "cell_type": "markdown",
      "metadata": {
        "id": "ynH7zwNN9yBm"
      },
      "source": [
        "# **Importing Libraries**\n",
        "\n",
        "\n",
        "\n"
      ]
    },
    {
      "cell_type": "code",
      "metadata": {
        "id": "dh-twIjr9opE"
      },
      "source": [
        "import tensorflow as tf\n",
        "import numpy as np\n",
        "import pandas as pd\n",
        "import matplotlib.pyplot as plt\n",
        "from tensorflow.keras.utils import plot_model"
      ],
      "execution_count": 1,
      "outputs": []
    },
    {
      "cell_type": "markdown",
      "metadata": {
        "id": "si_ig_Ea-Cqy"
      },
      "source": [
        "# Constant"
      ]
    },
    {
      "cell_type": "code",
      "metadata": {
        "colab": {
          "base_uri": "https://localhost:8080/"
        },
        "id": "7fUQ6Bfz-Brn",
        "outputId": "0e6fed05-34f0-4268-814e-fea78c76282f"
      },
      "source": [
        "scalar = tf.constant(4,5)\n",
        "scalar"
      ],
      "execution_count": 2,
      "outputs": [
        {
          "output_type": "execute_result",
          "data": {
            "text/plain": [
              "<tf.Tensor: shape=(), dtype=int16, numpy=4>"
            ]
          },
          "metadata": {},
          "execution_count": 2
        }
      ]
    },
    {
      "cell_type": "code",
      "metadata": {
        "colab": {
          "base_uri": "https://localhost:8080/"
        },
        "id": "W0jh8-N9-JYZ",
        "outputId": "7003fbf0-8f69-41dd-b61d-422c88d6e88e"
      },
      "source": [
        "vector = tf.constant([3,5])\n",
        "vector"
      ],
      "execution_count": 3,
      "outputs": [
        {
          "output_type": "execute_result",
          "data": {
            "text/plain": [
              "<tf.Tensor: shape=(2,), dtype=int32, numpy=array([3, 5], dtype=int32)>"
            ]
          },
          "metadata": {},
          "execution_count": 3
        }
      ]
    },
    {
      "cell_type": "code",
      "metadata": {
        "id": "5Ozn8PAM-MYK"
      },
      "source": [
        "matrix = tf.constant([\n",
        "                      [3,6],[7,3]\n",
        "])\n"
      ],
      "execution_count": 4,
      "outputs": []
    },
    {
      "cell_type": "code",
      "metadata": {
        "colab": {
          "base_uri": "https://localhost:8080/"
        },
        "id": "dE-3wsRa-RkQ",
        "outputId": "32eb57e2-bf9e-401b-ffa5-f371083e0a86"
      },
      "source": [
        "matrix"
      ],
      "execution_count": 5,
      "outputs": [
        {
          "output_type": "execute_result",
          "data": {
            "text/plain": [
              "<tf.Tensor: shape=(2, 2), dtype=int32, numpy=\n",
              "array([[3, 6],\n",
              "       [7, 3]], dtype=int32)>"
            ]
          },
          "metadata": {},
          "execution_count": 5
        }
      ]
    },
    {
      "cell_type": "code",
      "metadata": {
        "colab": {
          "base_uri": "https://localhost:8080/"
        },
        "id": "PkP0T0Ki-SPh",
        "outputId": "174c21f5-4c4b-4e57-9e44-fa42f09a32cd"
      },
      "source": [
        "tensor = tf.constant([\n",
        "                      [4,7],[5,3],[3,4],[7,3],[2,7]\n",
        "])\n",
        "tensor"
      ],
      "execution_count": 6,
      "outputs": [
        {
          "output_type": "execute_result",
          "data": {
            "text/plain": [
              "<tf.Tensor: shape=(5, 2), dtype=int32, numpy=\n",
              "array([[4, 7],\n",
              "       [5, 3],\n",
              "       [3, 4],\n",
              "       [7, 3],\n",
              "       [2, 7]], dtype=int32)>"
            ]
          },
          "metadata": {},
          "execution_count": 6
        }
      ]
    },
    {
      "cell_type": "code",
      "metadata": {
        "colab": {
          "base_uri": "https://localhost:8080/"
        },
        "id": "2HNRkjsj-aAy",
        "outputId": "ced3c99d-61d0-4b0b-87cd-2cbaf272ec5f"
      },
      "source": [
        "scalar.ndim"
      ],
      "execution_count": 7,
      "outputs": [
        {
          "output_type": "execute_result",
          "data": {
            "text/plain": [
              "0"
            ]
          },
          "metadata": {},
          "execution_count": 7
        }
      ]
    },
    {
      "cell_type": "code",
      "metadata": {
        "colab": {
          "base_uri": "https://localhost:8080/"
        },
        "id": "_CyM0DNs-csy",
        "outputId": "1b8ca4c0-d6e1-44b7-aa5f-7739f3c3f421"
      },
      "source": [
        "vector.ndim"
      ],
      "execution_count": 8,
      "outputs": [
        {
          "output_type": "execute_result",
          "data": {
            "text/plain": [
              "1"
            ]
          },
          "metadata": {},
          "execution_count": 8
        }
      ]
    },
    {
      "cell_type": "code",
      "metadata": {
        "colab": {
          "base_uri": "https://localhost:8080/"
        },
        "id": "qwUqnsUW-dpR",
        "outputId": "b0fc10f4-a108-4bbe-b23f-e8641d4bf3a8"
      },
      "source": [
        "matrix.ndim"
      ],
      "execution_count": 9,
      "outputs": [
        {
          "output_type": "execute_result",
          "data": {
            "text/plain": [
              "2"
            ]
          },
          "metadata": {},
          "execution_count": 9
        }
      ]
    },
    {
      "cell_type": "code",
      "metadata": {
        "colab": {
          "base_uri": "https://localhost:8080/"
        },
        "id": "ry0GvEqN-e1G",
        "outputId": "c7c19e59-6ce4-44a0-dbd6-f767b43245a2"
      },
      "source": [
        "tensor.ndim"
      ],
      "execution_count": 10,
      "outputs": [
        {
          "output_type": "execute_result",
          "data": {
            "text/plain": [
              "2"
            ]
          },
          "metadata": {},
          "execution_count": 10
        }
      ]
    },
    {
      "cell_type": "markdown",
      "metadata": {
        "id": "4jE-hsXW-k6K"
      },
      "source": [
        "# Variable"
      ]
    },
    {
      "cell_type": "code",
      "metadata": {
        "colab": {
          "base_uri": "https://localhost:8080/"
        },
        "id": "eAm5hytl-fr5",
        "outputId": "91ba938c-e35d-47a3-c879-91ea2f1e87ca"
      },
      "source": [
        "variable = tf.Variable([4,6])\n",
        "variable"
      ],
      "execution_count": 11,
      "outputs": [
        {
          "output_type": "execute_result",
          "data": {
            "text/plain": [
              "<tf.Variable 'Variable:0' shape=(2,) dtype=int32, numpy=array([4, 6], dtype=int32)>"
            ]
          },
          "metadata": {},
          "execution_count": 11
        }
      ]
    },
    {
      "cell_type": "code",
      "metadata": {
        "colab": {
          "base_uri": "https://localhost:8080/"
        },
        "id": "2VmCTmKN-qIp",
        "outputId": "0250551f-72ef-4245-9e99-820427e933b2"
      },
      "source": [
        "variable[0].assign(3)"
      ],
      "execution_count": 12,
      "outputs": [
        {
          "output_type": "execute_result",
          "data": {
            "text/plain": [
              "<tf.Variable 'UnreadVariable' shape=(2,) dtype=int32, numpy=array([3, 6], dtype=int32)>"
            ]
          },
          "metadata": {},
          "execution_count": 12
        }
      ]
    },
    {
      "cell_type": "code",
      "metadata": {
        "colab": {
          "base_uri": "https://localhost:8080/"
        },
        "id": "YnEbhim4-scU",
        "outputId": "d8b3da54-db10-445f-ccf2-a53c6c8c2c01"
      },
      "source": [
        "variable"
      ],
      "execution_count": 13,
      "outputs": [
        {
          "output_type": "execute_result",
          "data": {
            "text/plain": [
              "<tf.Variable 'Variable:0' shape=(2,) dtype=int32, numpy=array([3, 6], dtype=int32)>"
            ]
          },
          "metadata": {},
          "execution_count": 13
        }
      ]
    },
    {
      "cell_type": "code",
      "metadata": {
        "id": "Yn-FaqO9-tGD"
      },
      "source": [
        "variable2 = tf.Variable(3,6)"
      ],
      "execution_count": 14,
      "outputs": []
    },
    {
      "cell_type": "code",
      "metadata": {
        "colab": {
          "base_uri": "https://localhost:8080/"
        },
        "id": "q9rfsdf0-w7D",
        "outputId": "0f4a157e-e71d-4251-8b0c-03d23be09e7c"
      },
      "source": [
        "variable2.assign(2)"
      ],
      "execution_count": 15,
      "outputs": [
        {
          "output_type": "execute_result",
          "data": {
            "text/plain": [
              "<tf.Variable 'UnreadVariable' shape=() dtype=int32, numpy=2>"
            ]
          },
          "metadata": {},
          "execution_count": 15
        }
      ]
    },
    {
      "cell_type": "code",
      "metadata": {
        "colab": {
          "base_uri": "https://localhost:8080/"
        },
        "id": "akuLDDGZ-ytx",
        "outputId": "03b39c66-4fd5-4034-f9b7-e39939ca6db1"
      },
      "source": [
        "variable2"
      ],
      "execution_count": 16,
      "outputs": [
        {
          "output_type": "execute_result",
          "data": {
            "text/plain": [
              "<tf.Variable 'Variable:0' shape=() dtype=int32, numpy=2>"
            ]
          },
          "metadata": {},
          "execution_count": 16
        }
      ]
    },
    {
      "cell_type": "markdown",
      "metadata": {
        "id": "1C6_y1oY-1Ec"
      },
      "source": [
        "# Random"
      ]
    },
    {
      "cell_type": "code",
      "metadata": {
        "colab": {
          "base_uri": "https://localhost:8080/"
        },
        "id": "1j72DEUq-0V-",
        "outputId": "2da37133-51f6-48b1-d23c-27206a8c610b"
      },
      "source": [
        "rand1 = tf.random.Generator.from_seed(42)\n",
        "rand1 = rand1.normal(shape=(2,3))\n",
        "rand1"
      ],
      "execution_count": 17,
      "outputs": [
        {
          "output_type": "execute_result",
          "data": {
            "text/plain": [
              "<tf.Tensor: shape=(2, 3), dtype=float32, numpy=\n",
              "array([[-0.7565803 , -0.06854702,  0.07595026],\n",
              "       [-1.2573844 , -0.23193763, -1.8107855 ]], dtype=float32)>"
            ]
          },
          "metadata": {},
          "execution_count": 17
        }
      ]
    },
    {
      "cell_type": "code",
      "metadata": {
        "colab": {
          "base_uri": "https://localhost:8080/"
        },
        "id": "hs5h80jL--p4",
        "outputId": "519292d4-15cd-4b8e-96f2-a7b7aa71786b"
      },
      "source": [
        "rand2 = tf.random.Generator.from_seed(42)\n",
        "rand2 = rand2.uniform(shape=(2,3))\n",
        "rand2"
      ],
      "execution_count": 18,
      "outputs": [
        {
          "output_type": "execute_result",
          "data": {
            "text/plain": [
              "<tf.Tensor: shape=(2, 3), dtype=float32, numpy=\n",
              "array([[0.7493447 , 0.73561966, 0.45230794],\n",
              "       [0.49039817, 0.1889317 , 0.52027524]], dtype=float32)>"
            ]
          },
          "metadata": {},
          "execution_count": 18
        }
      ]
    },
    {
      "cell_type": "code",
      "metadata": {
        "colab": {
          "base_uri": "https://localhost:8080/"
        },
        "id": "J0an1Mvl_HsU",
        "outputId": "be4764fa-f888-45f8-b1c2-f514d4cb7a36"
      },
      "source": [
        "rand1==rand2"
      ],
      "execution_count": 19,
      "outputs": [
        {
          "output_type": "execute_result",
          "data": {
            "text/plain": [
              "<tf.Tensor: shape=(2, 3), dtype=bool, numpy=\n",
              "array([[False, False, False],\n",
              "       [False, False, False]])>"
            ]
          },
          "metadata": {},
          "execution_count": 19
        }
      ]
    },
    {
      "cell_type": "markdown",
      "metadata": {
        "id": "b5hXZgO5_LQi"
      },
      "source": [
        "# Shuffle"
      ]
    },
    {
      "cell_type": "code",
      "metadata": {
        "id": "HeHqT2pj_JAA"
      },
      "source": [
        "not_shuffled = tf.constant([\n",
        "                            [4,6],[6,3],[3,1],[6,7],[6,4]\n",
        "])\n"
      ],
      "execution_count": 20,
      "outputs": []
    },
    {
      "cell_type": "code",
      "metadata": {
        "colab": {
          "base_uri": "https://localhost:8080/"
        },
        "id": "rWKIc79t_USs",
        "outputId": "f401bb83-46f5-47a4-9924-d9c0edea47d3"
      },
      "source": [
        "tf.random.shuffle(not_shuffled)"
      ],
      "execution_count": 24,
      "outputs": [
        {
          "output_type": "execute_result",
          "data": {
            "text/plain": [
              "<tf.Tensor: shape=(5, 2), dtype=int32, numpy=\n",
              "array([[3, 1],\n",
              "       [6, 4],\n",
              "       [4, 6],\n",
              "       [6, 3],\n",
              "       [6, 7]], dtype=int32)>"
            ]
          },
          "metadata": {},
          "execution_count": 24
        }
      ]
    },
    {
      "cell_type": "code",
      "metadata": {
        "colab": {
          "base_uri": "https://localhost:8080/"
        },
        "id": "CN5JwUdn_XkA",
        "outputId": "a62ff2dc-5495-41be-9ad0-886098711928"
      },
      "source": [
        "tf.random.shuffle(not_shuffled, seed=42)"
      ],
      "execution_count": 27,
      "outputs": [
        {
          "output_type": "execute_result",
          "data": {
            "text/plain": [
              "<tf.Tensor: shape=(5, 2), dtype=int32, numpy=\n",
              "array([[4, 6],\n",
              "       [6, 7],\n",
              "       [6, 4],\n",
              "       [3, 1],\n",
              "       [6, 3]], dtype=int32)>"
            ]
          },
          "metadata": {},
          "execution_count": 27
        }
      ]
    },
    {
      "cell_type": "code",
      "metadata": {
        "colab": {
          "base_uri": "https://localhost:8080/"
        },
        "id": "13F7Yw6l_dbv",
        "outputId": "149b7ed3-29e4-4585-804b-c51bc303c103"
      },
      "source": [
        "tf.random.set_seed(42)\n",
        "\n",
        "tf.random.shuffle(not_shuffled, seed=42)"
      ],
      "execution_count": 31,
      "outputs": [
        {
          "output_type": "execute_result",
          "data": {
            "text/plain": [
              "<tf.Tensor: shape=(5, 2), dtype=int32, numpy=\n",
              "array([[6, 7],\n",
              "       [4, 6],\n",
              "       [6, 3],\n",
              "       [3, 1],\n",
              "       [6, 4]], dtype=int32)>"
            ]
          },
          "metadata": {},
          "execution_count": 31
        }
      ]
    },
    {
      "cell_type": "markdown",
      "metadata": {
        "id": "9-KIGDzK_pyt"
      },
      "source": [
        "# Numpy"
      ]
    },
    {
      "cell_type": "code",
      "metadata": {
        "colab": {
          "base_uri": "https://localhost:8080/"
        },
        "id": "dBKDEFZ-_nvU",
        "outputId": "8b3ccd77-497b-48dc-90fc-af54d4bc7b5e"
      },
      "source": [
        "np.ones((3,4))"
      ],
      "execution_count": 32,
      "outputs": [
        {
          "output_type": "execute_result",
          "data": {
            "text/plain": [
              "array([[1., 1., 1., 1.],\n",
              "       [1., 1., 1., 1.],\n",
              "       [1., 1., 1., 1.]])"
            ]
          },
          "metadata": {},
          "execution_count": 32
        }
      ]
    },
    {
      "cell_type": "code",
      "metadata": {
        "colab": {
          "base_uri": "https://localhost:8080/"
        },
        "id": "QNSkVPMb_s8z",
        "outputId": "38f3ddcd-a300-430d-a148-785f88751080"
      },
      "source": [
        "np.zeros((2,3))"
      ],
      "execution_count": 33,
      "outputs": [
        {
          "output_type": "execute_result",
          "data": {
            "text/plain": [
              "array([[0., 0., 0.],\n",
              "       [0., 0., 0.]])"
            ]
          },
          "metadata": {},
          "execution_count": 33
        }
      ]
    },
    {
      "cell_type": "code",
      "metadata": {
        "id": "hLXyeH6o_zQA"
      },
      "source": [
        "numpy_A = np.arange(1,30,dtype= np.float32)"
      ],
      "execution_count": 34,
      "outputs": []
    },
    {
      "cell_type": "code",
      "metadata": {
        "colab": {
          "base_uri": "https://localhost:8080/"
        },
        "id": "YlnTuY1F_4qy",
        "outputId": "c9dfd00f-386e-4694-fa09-65da03401208"
      },
      "source": [
        "numpy_A"
      ],
      "execution_count": 35,
      "outputs": [
        {
          "output_type": "execute_result",
          "data": {
            "text/plain": [
              "array([ 1.,  2.,  3.,  4.,  5.,  6.,  7.,  8.,  9., 10., 11., 12., 13.,\n",
              "       14., 15., 16., 17., 18., 19., 20., 21., 22., 23., 24., 25., 26.,\n",
              "       27., 28., 29.], dtype=float32)"
            ]
          },
          "metadata": {},
          "execution_count": 35
        }
      ]
    },
    {
      "cell_type": "code",
      "metadata": {
        "id": "aUWBgi_8_5wI"
      },
      "source": [
        "tensor_A =  tf.constant(numpy_A)"
      ],
      "execution_count": 36,
      "outputs": []
    },
    {
      "cell_type": "code",
      "metadata": {
        "colab": {
          "base_uri": "https://localhost:8080/"
        },
        "id": "9GO9mMuG_-Jt",
        "outputId": "c1199f04-3f61-44c2-e443-650569958073"
      },
      "source": [
        "tensor_A"
      ],
      "execution_count": 37,
      "outputs": [
        {
          "output_type": "execute_result",
          "data": {
            "text/plain": [
              "<tf.Tensor: shape=(29,), dtype=float32, numpy=\n",
              "array([ 1.,  2.,  3.,  4.,  5.,  6.,  7.,  8.,  9., 10., 11., 12., 13.,\n",
              "       14., 15., 16., 17., 18., 19., 20., 21., 22., 23., 24., 25., 26.,\n",
              "       27., 28., 29.], dtype=float32)>"
            ]
          },
          "metadata": {},
          "execution_count": 37
        }
      ]
    },
    {
      "cell_type": "code",
      "metadata": {
        "colab": {
          "base_uri": "https://localhost:8080/"
        },
        "id": "kZ2ONVCV__Wz",
        "outputId": "e5dbec9b-8307-47b2-b85b-c38d0fa25dc6"
      },
      "source": [
        "tensor_A == numpy_A"
      ],
      "execution_count": 38,
      "outputs": [
        {
          "output_type": "execute_result",
          "data": {
            "text/plain": [
              "<tf.Tensor: shape=(29,), dtype=bool, numpy=\n",
              "array([ True,  True,  True,  True,  True,  True,  True,  True,  True,\n",
              "        True,  True,  True,  True,  True,  True,  True,  True,  True,\n",
              "        True,  True,  True,  True,  True,  True,  True,  True,  True,\n",
              "        True,  True])>"
            ]
          },
          "metadata": {},
          "execution_count": 38
        }
      ]
    },
    {
      "cell_type": "markdown",
      "metadata": {
        "id": "oJNZLW6UADAm"
      },
      "source": [
        "# Gathering Information"
      ]
    },
    {
      "cell_type": "code",
      "metadata": {
        "colab": {
          "base_uri": "https://localhost:8080/"
        },
        "id": "18_MPL4RABVi",
        "outputId": "c498f805-019c-4bb3-fd57-ce6adab04558"
      },
      "source": [
        "tensor_A"
      ],
      "execution_count": 39,
      "outputs": [
        {
          "output_type": "execute_result",
          "data": {
            "text/plain": [
              "<tf.Tensor: shape=(29,), dtype=float32, numpy=\n",
              "array([ 1.,  2.,  3.,  4.,  5.,  6.,  7.,  8.,  9., 10., 11., 12., 13.,\n",
              "       14., 15., 16., 17., 18., 19., 20., 21., 22., 23., 24., 25., 26.,\n",
              "       27., 28., 29.], dtype=float32)>"
            ]
          },
          "metadata": {},
          "execution_count": 39
        }
      ]
    },
    {
      "cell_type": "code",
      "metadata": {
        "id": "ve1m_Mk7AY0q"
      },
      "source": [
        "tensor_A = not_shuffled"
      ],
      "execution_count": 41,
      "outputs": []
    },
    {
      "cell_type": "code",
      "metadata": {
        "colab": {
          "base_uri": "https://localhost:8080/"
        },
        "id": "7WLEvH2tAhK3",
        "outputId": "7de0842d-801e-4ee1-f937-374b60f7dc94"
      },
      "source": [
        "tensor_A"
      ],
      "execution_count": 42,
      "outputs": [
        {
          "output_type": "execute_result",
          "data": {
            "text/plain": [
              "<tf.Tensor: shape=(5, 2), dtype=int32, numpy=\n",
              "array([[4, 6],\n",
              "       [6, 3],\n",
              "       [3, 1],\n",
              "       [6, 7],\n",
              "       [6, 4]], dtype=int32)>"
            ]
          },
          "metadata": {},
          "execution_count": 42
        }
      ]
    },
    {
      "cell_type": "code",
      "metadata": {
        "colab": {
          "base_uri": "https://localhost:8080/"
        },
        "id": "HujwN3tUAkb2",
        "outputId": "b90c2a72-1592-4daa-b25d-4dae75096612"
      },
      "source": [
        "print(tensor_A.dtype)\n",
        "print(tensor_A.ndim)\n",
        "print(tensor_A.shape)\n",
        "print(tensor_A.shape[0])\n",
        "print(tensor_A.shape[-1])\n",
        "print(tf.size(tensor_A))\n",
        "print(tf.size(tensor_A).numpy())\n"
      ],
      "execution_count": 45,
      "outputs": [
        {
          "output_type": "stream",
          "name": "stdout",
          "text": [
            "<dtype: 'int32'>\n",
            "2\n",
            "(5, 2)\n",
            "5\n",
            "2\n",
            "tf.Tensor(10, shape=(), dtype=int32)\n",
            "10\n"
          ]
        }
      ]
    },
    {
      "cell_type": "markdown",
      "metadata": {
        "id": "tX84XZ_hA8XT"
      },
      "source": [
        "# Indexing"
      ]
    },
    {
      "cell_type": "code",
      "metadata": {
        "colab": {
          "base_uri": "https://localhost:8080/"
        },
        "id": "AZFOotLBA3ST",
        "outputId": "7e9a0364-9c47-4f09-e872-2a6f763d67e6"
      },
      "source": [
        "tensor_A"
      ],
      "execution_count": 46,
      "outputs": [
        {
          "output_type": "execute_result",
          "data": {
            "text/plain": [
              "<tf.Tensor: shape=(5, 2), dtype=int32, numpy=\n",
              "array([[4, 6],\n",
              "       [6, 3],\n",
              "       [3, 1],\n",
              "       [6, 7],\n",
              "       [6, 4]], dtype=int32)>"
            ]
          },
          "metadata": {},
          "execution_count": 46
        }
      ]
    },
    {
      "cell_type": "code",
      "metadata": {
        "colab": {
          "base_uri": "https://localhost:8080/"
        },
        "id": "rYYb1yGMA_oy",
        "outputId": "1f809992-622a-4e0a-de2b-e93e131fbb64"
      },
      "source": [
        "numpy_A"
      ],
      "execution_count": 47,
      "outputs": [
        {
          "output_type": "execute_result",
          "data": {
            "text/plain": [
              "array([ 1.,  2.,  3.,  4.,  5.,  6.,  7.,  8.,  9., 10., 11., 12., 13.,\n",
              "       14., 15., 16., 17., 18., 19., 20., 21., 22., 23., 24., 25., 26.,\n",
              "       27., 28., 29.], dtype=float32)"
            ]
          },
          "metadata": {},
          "execution_count": 47
        }
      ]
    },
    {
      "cell_type": "code",
      "metadata": {
        "id": "1r4FnWX4BCtd"
      },
      "source": [
        "tensor_A = tf.constant(numpy_A)"
      ],
      "execution_count": 48,
      "outputs": []
    },
    {
      "cell_type": "code",
      "metadata": {
        "colab": {
          "base_uri": "https://localhost:8080/"
        },
        "id": "2os23dvyBH8w",
        "outputId": "4f66872d-02c8-48f0-b351-14a09366b01e"
      },
      "source": [
        "tensor_A[2:5]"
      ],
      "execution_count": 49,
      "outputs": [
        {
          "output_type": "execute_result",
          "data": {
            "text/plain": [
              "<tf.Tensor: shape=(3,), dtype=float32, numpy=array([3., 4., 5.], dtype=float32)>"
            ]
          },
          "metadata": {},
          "execution_count": 49
        }
      ]
    },
    {
      "cell_type": "code",
      "metadata": {
        "colab": {
          "base_uri": "https://localhost:8080/"
        },
        "id": "rwsGRitcBJ_Q",
        "outputId": "9f8b2145-fbbb-4303-d020-3463df49dbe6"
      },
      "source": [
        "tensor_A[3:]"
      ],
      "execution_count": 50,
      "outputs": [
        {
          "output_type": "execute_result",
          "data": {
            "text/plain": [
              "<tf.Tensor: shape=(26,), dtype=float32, numpy=\n",
              "array([ 4.,  5.,  6.,  7.,  8.,  9., 10., 11., 12., 13., 14., 15., 16.,\n",
              "       17., 18., 19., 20., 21., 22., 23., 24., 25., 26., 27., 28., 29.],\n",
              "      dtype=float32)>"
            ]
          },
          "metadata": {},
          "execution_count": 50
        }
      ]
    },
    {
      "cell_type": "code",
      "metadata": {
        "colab": {
          "base_uri": "https://localhost:8080/"
        },
        "id": "IOCpPudqBLwN",
        "outputId": "2304a945-fdfd-4e33-92ab-95d7e364e4e8"
      },
      "source": [
        "tensor_A[:10]"
      ],
      "execution_count": 51,
      "outputs": [
        {
          "output_type": "execute_result",
          "data": {
            "text/plain": [
              "<tf.Tensor: shape=(10,), dtype=float32, numpy=array([ 1.,  2.,  3.,  4.,  5.,  6.,  7.,  8.,  9., 10.], dtype=float32)>"
            ]
          },
          "metadata": {},
          "execution_count": 51
        }
      ]
    },
    {
      "cell_type": "code",
      "metadata": {
        "colab": {
          "base_uri": "https://localhost:8080/"
        },
        "id": "e05eEYOBBN_A",
        "outputId": "63897697-f14e-4faf-f66f-53a11fafb707"
      },
      "source": [
        "tensor_A[2:29:2]"
      ],
      "execution_count": 52,
      "outputs": [
        {
          "output_type": "execute_result",
          "data": {
            "text/plain": [
              "<tf.Tensor: shape=(14,), dtype=float32, numpy=\n",
              "array([ 3.,  5.,  7.,  9., 11., 13., 15., 17., 19., 21., 23., 25., 27.,\n",
              "       29.], dtype=float32)>"
            ]
          },
          "metadata": {},
          "execution_count": 52
        }
      ]
    },
    {
      "cell_type": "markdown",
      "metadata": {
        "id": "hUC3Rx8SBSha"
      },
      "source": [
        "# New Axis"
      ]
    },
    {
      "cell_type": "code",
      "metadata": {
        "id": "E82Q5HdgBRBj"
      },
      "source": [
        "tensor_B = tensor_A[..., tf.newaxis]"
      ],
      "execution_count": 53,
      "outputs": []
    },
    {
      "cell_type": "code",
      "metadata": {
        "colab": {
          "base_uri": "https://localhost:8080/"
        },
        "id": "_Vd2snteBZEI",
        "outputId": "d9db391c-2834-48eb-cf2a-cddc1d0bb51a"
      },
      "source": [
        "tensor_B"
      ],
      "execution_count": 55,
      "outputs": [
        {
          "output_type": "execute_result",
          "data": {
            "text/plain": [
              "<tf.Tensor: shape=(29, 1), dtype=float32, numpy=\n",
              "array([[ 1.],\n",
              "       [ 2.],\n",
              "       [ 3.],\n",
              "       [ 4.],\n",
              "       [ 5.],\n",
              "       [ 6.],\n",
              "       [ 7.],\n",
              "       [ 8.],\n",
              "       [ 9.],\n",
              "       [10.],\n",
              "       [11.],\n",
              "       [12.],\n",
              "       [13.],\n",
              "       [14.],\n",
              "       [15.],\n",
              "       [16.],\n",
              "       [17.],\n",
              "       [18.],\n",
              "       [19.],\n",
              "       [20.],\n",
              "       [21.],\n",
              "       [22.],\n",
              "       [23.],\n",
              "       [24.],\n",
              "       [25.],\n",
              "       [26.],\n",
              "       [27.],\n",
              "       [28.],\n",
              "       [29.]], dtype=float32)>"
            ]
          },
          "metadata": {},
          "execution_count": 55
        }
      ]
    },
    {
      "cell_type": "markdown",
      "metadata": {
        "id": "_E8JSgE4BcjC"
      },
      "source": [
        "# Expand Dims"
      ]
    },
    {
      "cell_type": "code",
      "metadata": {
        "id": "rPHkSFVpBZ_7"
      },
      "source": [
        "tensor_C= tf.expand_dims(tensor_A, axis=1) "
      ],
      "execution_count": 56,
      "outputs": []
    },
    {
      "cell_type": "code",
      "metadata": {
        "colab": {
          "base_uri": "https://localhost:8080/"
        },
        "id": "6pNEMwXxBlrF",
        "outputId": "9bda8446-3835-4c74-f25f-0bcb11465234"
      },
      "source": [
        "tensor_C"
      ],
      "execution_count": 57,
      "outputs": [
        {
          "output_type": "execute_result",
          "data": {
            "text/plain": [
              "<tf.Tensor: shape=(29, 1), dtype=float32, numpy=\n",
              "array([[ 1.],\n",
              "       [ 2.],\n",
              "       [ 3.],\n",
              "       [ 4.],\n",
              "       [ 5.],\n",
              "       [ 6.],\n",
              "       [ 7.],\n",
              "       [ 8.],\n",
              "       [ 9.],\n",
              "       [10.],\n",
              "       [11.],\n",
              "       [12.],\n",
              "       [13.],\n",
              "       [14.],\n",
              "       [15.],\n",
              "       [16.],\n",
              "       [17.],\n",
              "       [18.],\n",
              "       [19.],\n",
              "       [20.],\n",
              "       [21.],\n",
              "       [22.],\n",
              "       [23.],\n",
              "       [24.],\n",
              "       [25.],\n",
              "       [26.],\n",
              "       [27.],\n",
              "       [28.],\n",
              "       [29.]], dtype=float32)>"
            ]
          },
          "metadata": {},
          "execution_count": 57
        }
      ]
    },
    {
      "cell_type": "code",
      "metadata": {
        "colab": {
          "base_uri": "https://localhost:8080/"
        },
        "id": "uJPo2093Bm9K",
        "outputId": "afe3ab22-99a1-45ab-8bff-ff61fdd254f7"
      },
      "source": [
        "tensor_B == tensor_C"
      ],
      "execution_count": 58,
      "outputs": [
        {
          "output_type": "execute_result",
          "data": {
            "text/plain": [
              "<tf.Tensor: shape=(29, 1), dtype=bool, numpy=\n",
              "array([[ True],\n",
              "       [ True],\n",
              "       [ True],\n",
              "       [ True],\n",
              "       [ True],\n",
              "       [ True],\n",
              "       [ True],\n",
              "       [ True],\n",
              "       [ True],\n",
              "       [ True],\n",
              "       [ True],\n",
              "       [ True],\n",
              "       [ True],\n",
              "       [ True],\n",
              "       [ True],\n",
              "       [ True],\n",
              "       [ True],\n",
              "       [ True],\n",
              "       [ True],\n",
              "       [ True],\n",
              "       [ True],\n",
              "       [ True],\n",
              "       [ True],\n",
              "       [ True],\n",
              "       [ True],\n",
              "       [ True],\n",
              "       [ True],\n",
              "       [ True],\n",
              "       [ True]])>"
            ]
          },
          "metadata": {},
          "execution_count": 58
        }
      ]
    },
    {
      "cell_type": "markdown",
      "metadata": {
        "id": "HMeaSaAaBqsT"
      },
      "source": [
        "# Mathematics Manipulations"
      ]
    },
    {
      "cell_type": "code",
      "metadata": {
        "colab": {
          "base_uri": "https://localhost:8080/"
        },
        "id": "RWJz84QsBonZ",
        "outputId": "bc6783c7-b18e-4961-89e5-cbd6d58aae26"
      },
      "source": [
        "print(tensor_A + 10)\n",
        "print(tensor_A - 10)\n",
        "print(tensor_A * 10)\n",
        "print(tensor_A / 10)\n",
        "print(tensor_A ** 10)\n",
        "print(tensor_A % 10)\n",
        "print(tf.math.add(tensor_A, 10))\n",
        "print(tf.math.subtract(tensor_A, 10))\n",
        "print(tf.math.multiply(tensor_A, 10))\n",
        "print(tf.math.divide(tensor_A, 10))\n"
      ],
      "execution_count": 59,
      "outputs": [
        {
          "output_type": "stream",
          "name": "stdout",
          "text": [
            "tf.Tensor(\n",
            "[11. 12. 13. 14. 15. 16. 17. 18. 19. 20. 21. 22. 23. 24. 25. 26. 27. 28.\n",
            " 29. 30. 31. 32. 33. 34. 35. 36. 37. 38. 39.], shape=(29,), dtype=float32)\n",
            "tf.Tensor(\n",
            "[-9. -8. -7. -6. -5. -4. -3. -2. -1.  0.  1.  2.  3.  4.  5.  6.  7.  8.\n",
            "  9. 10. 11. 12. 13. 14. 15. 16. 17. 18. 19.], shape=(29,), dtype=float32)\n",
            "tf.Tensor(\n",
            "[ 10.  20.  30.  40.  50.  60.  70.  80.  90. 100. 110. 120. 130. 140.\n",
            " 150. 160. 170. 180. 190. 200. 210. 220. 230. 240. 250. 260. 270. 280.\n",
            " 290.], shape=(29,), dtype=float32)\n",
            "tf.Tensor(\n",
            "[0.1 0.2 0.3 0.4 0.5 0.6 0.7 0.8 0.9 1.  1.1 1.2 1.3 1.4 1.5 1.6 1.7 1.8\n",
            " 1.9 2.  2.1 2.2 2.3 2.4 2.5 2.6 2.7 2.8 2.9], shape=(29,), dtype=float32)\n",
            "tf.Tensor(\n",
            "[1.0000000e+00 1.0240000e+03 5.9049008e+04 1.0485760e+06 9.7656260e+06\n",
            " 6.0466184e+07 2.8247526e+08 1.0737418e+09 3.4867845e+09 1.0000001e+10\n",
            " 2.5937428e+10 6.1917372e+10 1.3785850e+11 2.8925467e+11 5.7665041e+11\n",
            " 1.0995116e+12 2.0159939e+12 3.5704673e+12 6.1310663e+12 1.0240001e+13\n",
            " 1.6679880e+13 2.6559927e+13 4.1426511e+13 6.3403389e+13 9.5367434e+13\n",
            " 1.4116710e+14 2.0589114e+14 2.9619678e+14 4.2070725e+14], shape=(29,), dtype=float32)\n",
            "tf.Tensor(\n",
            "[1. 2. 3. 4. 5. 6. 7. 8. 9. 0. 1. 2. 3. 4. 5. 6. 7. 8. 9. 0. 1. 2. 3. 4.\n",
            " 5. 6. 7. 8. 9.], shape=(29,), dtype=float32)\n",
            "tf.Tensor(\n",
            "[11. 12. 13. 14. 15. 16. 17. 18. 19. 20. 21. 22. 23. 24. 25. 26. 27. 28.\n",
            " 29. 30. 31. 32. 33. 34. 35. 36. 37. 38. 39.], shape=(29,), dtype=float32)\n",
            "tf.Tensor(\n",
            "[-9. -8. -7. -6. -5. -4. -3. -2. -1.  0.  1.  2.  3.  4.  5.  6.  7.  8.\n",
            "  9. 10. 11. 12. 13. 14. 15. 16. 17. 18. 19.], shape=(29,), dtype=float32)\n",
            "tf.Tensor(\n",
            "[ 10.  20.  30.  40.  50.  60.  70.  80.  90. 100. 110. 120. 130. 140.\n",
            " 150. 160. 170. 180. 190. 200. 210. 220. 230. 240. 250. 260. 270. 280.\n",
            " 290.], shape=(29,), dtype=float32)\n",
            "tf.Tensor(\n",
            "[0.1 0.2 0.3 0.4 0.5 0.6 0.7 0.8 0.9 1.  1.1 1.2 1.3 1.4 1.5 1.6 1.7 1.8\n",
            " 1.9 2.  2.1 2.2 2.3 2.4 2.5 2.6 2.7 2.8 2.9], shape=(29,), dtype=float32)\n"
          ]
        }
      ]
    },
    {
      "cell_type": "markdown",
      "metadata": {
        "id": "NjicybsECGRy"
      },
      "source": [
        "# Reduces Values"
      ]
    },
    {
      "cell_type": "code",
      "metadata": {
        "colab": {
          "base_uri": "https://localhost:8080/"
        },
        "id": "dxmRhP3LCEuP",
        "outputId": "ffbb8ee3-da29-457d-a135-d8368012c581"
      },
      "source": [
        "print(tf.reduce_max(tensor_A))\n",
        "print(tf.reduce_min(tensor_A))\n",
        "print(tf.reduce_mean(tensor_A))"
      ],
      "execution_count": 60,
      "outputs": [
        {
          "output_type": "stream",
          "name": "stdout",
          "text": [
            "tf.Tensor(29.0, shape=(), dtype=float32)\n",
            "tf.Tensor(1.0, shape=(), dtype=float32)\n",
            "tf.Tensor(15.0, shape=(), dtype=float32)\n"
          ]
        }
      ]
    },
    {
      "cell_type": "markdown",
      "metadata": {
        "id": "EUmWnsraCVQD"
      },
      "source": [
        "# Matrix Manipulations"
      ]
    },
    {
      "cell_type": "code",
      "metadata": {
        "colab": {
          "base_uri": "https://localhost:8080/"
        },
        "id": "_CVbbOunCUR8",
        "outputId": "4ca934f4-3e2e-486c-b559-827dca887b8c"
      },
      "source": [
        "matrix1 = tf.constant([\n",
        "                       [3,6],[5,2],[5,8]\n",
        "])\n",
        "matrix1"
      ],
      "execution_count": 61,
      "outputs": [
        {
          "output_type": "execute_result",
          "data": {
            "text/plain": [
              "<tf.Tensor: shape=(3, 2), dtype=int32, numpy=\n",
              "array([[3, 6],\n",
              "       [5, 2],\n",
              "       [5, 8]], dtype=int32)>"
            ]
          },
          "metadata": {},
          "execution_count": 61
        }
      ]
    },
    {
      "cell_type": "code",
      "metadata": {
        "colab": {
          "base_uri": "https://localhost:8080/"
        },
        "id": "gNLSiS1ECf9M",
        "outputId": "56e5f5a2-3587-468c-c62a-79e4b13928d2"
      },
      "source": [
        "matrix2 = tf.constant([\n",
        "                       [8,5],[2,4],[7,4]\n",
        "])\n",
        "matrix2"
      ],
      "execution_count": 62,
      "outputs": [
        {
          "output_type": "execute_result",
          "data": {
            "text/plain": [
              "<tf.Tensor: shape=(3, 2), dtype=int32, numpy=\n",
              "array([[8, 5],\n",
              "       [2, 4],\n",
              "       [7, 4]], dtype=int32)>"
            ]
          },
          "metadata": {},
          "execution_count": 62
        }
      ]
    },
    {
      "cell_type": "code",
      "metadata": {
        "id": "TZzHfrbwCkEr"
      },
      "source": [
        "# tf.matmul(matrix1, matrix2)"
      ],
      "execution_count": 64,
      "outputs": []
    },
    {
      "cell_type": "code",
      "metadata": {
        "colab": {
          "base_uri": "https://localhost:8080/"
        },
        "id": "dTUS5JoWCnpE",
        "outputId": "1d4069f2-bc9c-4221-ac2a-bc6d47659e37"
      },
      "source": [
        "tf.matmul(tf.transpose(matrix1), matrix2)"
      ],
      "execution_count": 66,
      "outputs": [
        {
          "output_type": "execute_result",
          "data": {
            "text/plain": [
              "<tf.Tensor: shape=(2, 2), dtype=int32, numpy=\n",
              "array([[ 69,  55],\n",
              "       [108,  70]], dtype=int32)>"
            ]
          },
          "metadata": {},
          "execution_count": 66
        }
      ]
    },
    {
      "cell_type": "code",
      "metadata": {
        "colab": {
          "base_uri": "https://localhost:8080/"
        },
        "id": "uyzyOVvNCuhy",
        "outputId": "49ec2575-8782-442e-cb69-565c7030ca94"
      },
      "source": [
        "tf.matmul(matrix1,tf.transpose(matrix2))"
      ],
      "execution_count": 68,
      "outputs": [
        {
          "output_type": "execute_result",
          "data": {
            "text/plain": [
              "<tf.Tensor: shape=(3, 3), dtype=int32, numpy=\n",
              "array([[54, 30, 45],\n",
              "       [50, 18, 43],\n",
              "       [80, 42, 67]], dtype=int32)>"
            ]
          },
          "metadata": {},
          "execution_count": 68
        }
      ]
    },
    {
      "cell_type": "markdown",
      "metadata": {
        "id": "gA2Dji7dDJi-"
      },
      "source": [
        "# Change Data Type"
      ]
    },
    {
      "cell_type": "code",
      "metadata": {
        "colab": {
          "base_uri": "https://localhost:8080/"
        },
        "id": "Nh8PSNnoC1gz",
        "outputId": "0243c23c-157f-452c-bdb9-e52c799b0af2"
      },
      "source": [
        "tensor_A"
      ],
      "execution_count": 71,
      "outputs": [
        {
          "output_type": "execute_result",
          "data": {
            "text/plain": [
              "<tf.Tensor: shape=(29,), dtype=float32, numpy=\n",
              "array([ 1.,  2.,  3.,  4.,  5.,  6.,  7.,  8.,  9., 10., 11., 12., 13.,\n",
              "       14., 15., 16., 17., 18., 19., 20., 21., 22., 23., 24., 25., 26.,\n",
              "       27., 28., 29.], dtype=float32)>"
            ]
          },
          "metadata": {},
          "execution_count": 71
        }
      ]
    },
    {
      "cell_type": "code",
      "metadata": {
        "colab": {
          "base_uri": "https://localhost:8080/"
        },
        "id": "XHCwBqyxC8ic",
        "outputId": "e88a20e4-b072-406d-a72b-2bed75d02c8e"
      },
      "source": [
        "tf.cast(tensor_A, dtype= tf.int32)"
      ],
      "execution_count": 72,
      "outputs": [
        {
          "output_type": "execute_result",
          "data": {
            "text/plain": [
              "<tf.Tensor: shape=(29,), dtype=int32, numpy=\n",
              "array([ 1,  2,  3,  4,  5,  6,  7,  8,  9, 10, 11, 12, 13, 14, 15, 16, 17,\n",
              "       18, 19, 20, 21, 22, 23, 24, 25, 26, 27, 28, 29], dtype=int32)>"
            ]
          },
          "metadata": {},
          "execution_count": 72
        }
      ]
    },
    {
      "cell_type": "code",
      "metadata": {
        "colab": {
          "base_uri": "https://localhost:8080/"
        },
        "id": "2HJwciRmDSEa",
        "outputId": "b9e2dba8-e0a5-4fc9-fca4-d56bac67e2c3"
      },
      "source": [
        "tf.cast(tensor_A, dtype = tf.int16)"
      ],
      "execution_count": 73,
      "outputs": [
        {
          "output_type": "execute_result",
          "data": {
            "text/plain": [
              "<tf.Tensor: shape=(29,), dtype=int16, numpy=\n",
              "array([ 1,  2,  3,  4,  5,  6,  7,  8,  9, 10, 11, 12, 13, 14, 15, 16, 17,\n",
              "       18, 19, 20, 21, 22, 23, 24, 25, 26, 27, 28, 29], dtype=int16)>"
            ]
          },
          "metadata": {},
          "execution_count": 73
        }
      ]
    },
    {
      "cell_type": "markdown",
      "metadata": {
        "id": "qPn_QcjXDYK3"
      },
      "source": [
        "# Variance and Standard Deviation"
      ]
    },
    {
      "cell_type": "code",
      "metadata": {
        "colab": {
          "base_uri": "https://localhost:8080/"
        },
        "id": "oDm-hz3HDXT5",
        "outputId": "7982608c-e492-40c8-efcb-fa09b28a563d"
      },
      "source": [
        "tf.math.reduce_variance(tensor_A)"
      ],
      "execution_count": 74,
      "outputs": [
        {
          "output_type": "execute_result",
          "data": {
            "text/plain": [
              "<tf.Tensor: shape=(), dtype=float32, numpy=70.0>"
            ]
          },
          "metadata": {},
          "execution_count": 74
        }
      ]
    },
    {
      "cell_type": "code",
      "metadata": {
        "colab": {
          "base_uri": "https://localhost:8080/"
        },
        "id": "nvWFZrpuDiEI",
        "outputId": "a769bd88-cef5-4cd5-8785-320be1e44ffe"
      },
      "source": [
        "tf.math.reduce_std(tensor_A)"
      ],
      "execution_count": 75,
      "outputs": [
        {
          "output_type": "execute_result",
          "data": {
            "text/plain": [
              "<tf.Tensor: shape=(), dtype=float32, numpy=8.3666>"
            ]
          },
          "metadata": {},
          "execution_count": 75
        }
      ]
    },
    {
      "cell_type": "markdown",
      "metadata": {
        "id": "xkJIOyXiDmrp"
      },
      "source": [
        "# Argmax and Argmin"
      ]
    },
    {
      "cell_type": "code",
      "metadata": {
        "colab": {
          "base_uri": "https://localhost:8080/"
        },
        "id": "gQO2zg_tDlTu",
        "outputId": "46147c21-ef43-4637-9adb-dd465c29cb2f"
      },
      "source": [
        "tf.argmax(tensor_A)"
      ],
      "execution_count": 76,
      "outputs": [
        {
          "output_type": "execute_result",
          "data": {
            "text/plain": [
              "<tf.Tensor: shape=(), dtype=int64, numpy=28>"
            ]
          },
          "metadata": {},
          "execution_count": 76
        }
      ]
    },
    {
      "cell_type": "code",
      "metadata": {
        "colab": {
          "base_uri": "https://localhost:8080/"
        },
        "id": "GU84JsNIDqyT",
        "outputId": "91431315-bac7-429c-aff9-ac1b321d21cc"
      },
      "source": [
        "tf.argmin(tensor_A)"
      ],
      "execution_count": 77,
      "outputs": [
        {
          "output_type": "execute_result",
          "data": {
            "text/plain": [
              "<tf.Tensor: shape=(), dtype=int64, numpy=0>"
            ]
          },
          "metadata": {},
          "execution_count": 77
        }
      ]
    },
    {
      "cell_type": "code",
      "metadata": {
        "colab": {
          "base_uri": "https://localhost:8080/"
        },
        "id": "iKIiMC2yDtQZ",
        "outputId": "aa2ca376-8aeb-4c5a-e5f2-c0ec70d6e864"
      },
      "source": [
        "tf.argsort(tensor_A)"
      ],
      "execution_count": 79,
      "outputs": [
        {
          "output_type": "execute_result",
          "data": {
            "text/plain": [
              "<tf.Tensor: shape=(29,), dtype=int32, numpy=\n",
              "array([ 0,  1,  2,  3,  4,  5,  6,  7,  8,  9, 10, 11, 12, 13, 14, 15, 16,\n",
              "       17, 18, 19, 20, 21, 22, 23, 24, 25, 26, 27, 28], dtype=int32)>"
            ]
          },
          "metadata": {},
          "execution_count": 79
        }
      ]
    },
    {
      "cell_type": "markdown",
      "metadata": {
        "id": "J172XXt5Dz4A"
      },
      "source": [
        "# Squueze"
      ]
    },
    {
      "cell_type": "code",
      "metadata": {
        "id": "wXzWnnonDwsS"
      },
      "source": [
        "not_Squeezed = tf.constant(tf.random.normal(shape=[20]), shape=(1,1,1,1,20))\n"
      ],
      "execution_count": 82,
      "outputs": []
    },
    {
      "cell_type": "code",
      "metadata": {
        "colab": {
          "base_uri": "https://localhost:8080/"
        },
        "id": "mCNlYJk0EBAK",
        "outputId": "589e8935-7f09-467b-f374-769cc1adabbc"
      },
      "source": [
        "not_Squeezed"
      ],
      "execution_count": 83,
      "outputs": [
        {
          "output_type": "execute_result",
          "data": {
            "text/plain": [
              "<tf.Tensor: shape=(1, 1, 1, 1, 20), dtype=float32, numpy=\n",
              "array([[[[[ 0.3274685 , -0.8426258 ,  0.3194337 , -1.4075519 ,\n",
              "           -2.3880599 , -1.0392479 , -0.5573232 ,  0.539707  ,\n",
              "            1.6994323 ,  0.28893656, -1.5066116 , -0.26454744,\n",
              "           -0.59722406, -1.9171132 , -0.62044144,  0.8504023 ,\n",
              "           -0.40604794, -3.0258412 ,  0.9058464 ,  0.29855987]]]]],\n",
              "      dtype=float32)>"
            ]
          },
          "metadata": {},
          "execution_count": 83
        }
      ]
    },
    {
      "cell_type": "code",
      "metadata": {
        "id": "DtRokkoNEPOL"
      },
      "source": [
        "squeezed_value = tf.squeeze(not_Squeezed)"
      ],
      "execution_count": 85,
      "outputs": []
    },
    {
      "cell_type": "markdown",
      "metadata": {
        "id": "Fdyn8GenEe1U"
      },
      "source": [
        "# One Hot Function"
      ]
    },
    {
      "cell_type": "code",
      "metadata": {
        "colab": {
          "base_uri": "https://localhost:8080/"
        },
        "id": "aSGhWnKNEbyK",
        "outputId": "108cc1d3-b877-4628-ccc2-c9cf65bfee82"
      },
      "source": [
        "value1 = tf.constant([\n",
        "                      [2,4],[5,6],[7,4]\n",
        "])\n",
        "\n",
        "value1"
      ],
      "execution_count": 86,
      "outputs": [
        {
          "output_type": "execute_result",
          "data": {
            "text/plain": [
              "<tf.Tensor: shape=(3, 2), dtype=int32, numpy=\n",
              "array([[2, 4],\n",
              "       [5, 6],\n",
              "       [7, 4]], dtype=int32)>"
            ]
          },
          "metadata": {},
          "execution_count": 86
        }
      ]
    },
    {
      "cell_type": "code",
      "metadata": {
        "colab": {
          "base_uri": "https://localhost:8080/"
        },
        "id": "cdJDJUD-FN3z",
        "outputId": "d74dc17a-0680-4871-d082-b8e616d4cd86"
      },
      "source": [
        "tf.one_hot(value1, depth=3)"
      ],
      "execution_count": 87,
      "outputs": [
        {
          "output_type": "execute_result",
          "data": {
            "text/plain": [
              "<tf.Tensor: shape=(3, 2, 3), dtype=float32, numpy=\n",
              "array([[[0., 0., 1.],\n",
              "        [0., 0., 0.]],\n",
              "\n",
              "       [[0., 0., 0.],\n",
              "        [0., 0., 0.]],\n",
              "\n",
              "       [[0., 0., 0.],\n",
              "        [0., 0., 0.]]], dtype=float32)>"
            ]
          },
          "metadata": {},
          "execution_count": 87
        }
      ]
    },
    {
      "cell_type": "code",
      "metadata": {
        "colab": {
          "base_uri": "https://localhost:8080/"
        },
        "id": "KshV42ZLFTBJ",
        "outputId": "c769443f-f461-4ecd-d735-bc6e39d92892"
      },
      "source": [
        "tf.one_hot(value1, depth=4, on_value='I am On Value' , off_value='I am off value' )"
      ],
      "execution_count": 90,
      "outputs": [
        {
          "output_type": "execute_result",
          "data": {
            "text/plain": [
              "<tf.Tensor: shape=(3, 2, 4), dtype=string, numpy=\n",
              "array([[[b'I am off value', b'I am off value', b'I am On Value',\n",
              "         b'I am off value'],\n",
              "        [b'I am off value', b'I am off value', b'I am off value',\n",
              "         b'I am off value']],\n",
              "\n",
              "       [[b'I am off value', b'I am off value', b'I am off value',\n",
              "         b'I am off value'],\n",
              "        [b'I am off value', b'I am off value', b'I am off value',\n",
              "         b'I am off value']],\n",
              "\n",
              "       [[b'I am off value', b'I am off value', b'I am off value',\n",
              "         b'I am off value'],\n",
              "        [b'I am off value', b'I am off value', b'I am off value',\n",
              "         b'I am off value']]], dtype=object)>"
            ]
          },
          "metadata": {},
          "execution_count": 90
        }
      ]
    },
    {
      "cell_type": "markdown",
      "metadata": {
        "id": "S11c5fmHFp1v"
      },
      "source": [
        "# More Mathematics"
      ]
    },
    {
      "cell_type": "code",
      "metadata": {
        "colab": {
          "base_uri": "https://localhost:8080/"
        },
        "id": "TEvMOQtwFhWE",
        "outputId": "6fc829dd-5fad-4911-b0f4-4e4cf269321a"
      },
      "source": [
        "tensor_A"
      ],
      "execution_count": 91,
      "outputs": [
        {
          "output_type": "execute_result",
          "data": {
            "text/plain": [
              "<tf.Tensor: shape=(29,), dtype=float32, numpy=\n",
              "array([ 1.,  2.,  3.,  4.,  5.,  6.,  7.,  8.,  9., 10., 11., 12., 13.,\n",
              "       14., 15., 16., 17., 18., 19., 20., 21., 22., 23., 24., 25., 26.,\n",
              "       27., 28., 29.], dtype=float32)>"
            ]
          },
          "metadata": {},
          "execution_count": 91
        }
      ]
    },
    {
      "cell_type": "code",
      "metadata": {
        "colab": {
          "base_uri": "https://localhost:8080/"
        },
        "id": "D4T2THMxFs7D",
        "outputId": "e6c06d1e-de81-4278-8160-ab284f4eea41"
      },
      "source": [
        "tf.range(1,30)"
      ],
      "execution_count": 92,
      "outputs": [
        {
          "output_type": "execute_result",
          "data": {
            "text/plain": [
              "<tf.Tensor: shape=(29,), dtype=int32, numpy=\n",
              "array([ 1,  2,  3,  4,  5,  6,  7,  8,  9, 10, 11, 12, 13, 14, 15, 16, 17,\n",
              "       18, 19, 20, 21, 22, 23, 24, 25, 26, 27, 28, 29], dtype=int32)>"
            ]
          },
          "metadata": {},
          "execution_count": 92
        }
      ]
    },
    {
      "cell_type": "code",
      "metadata": {
        "colab": {
          "base_uri": "https://localhost:8080/"
        },
        "id": "nS4WRGolFunp",
        "outputId": "792fb631-c24c-48c3-a6df-bd17850ab69c"
      },
      "source": [
        "tf.square(tensor_A)"
      ],
      "execution_count": 93,
      "outputs": [
        {
          "output_type": "execute_result",
          "data": {
            "text/plain": [
              "<tf.Tensor: shape=(29,), dtype=float32, numpy=\n",
              "array([  1.,   4.,   9.,  16.,  25.,  36.,  49.,  64.,  81., 100., 121.,\n",
              "       144., 169., 196., 225., 256., 289., 324., 361., 400., 441., 484.,\n",
              "       529., 576., 625., 676., 729., 784., 841.], dtype=float32)>"
            ]
          },
          "metadata": {},
          "execution_count": 93
        }
      ]
    },
    {
      "cell_type": "code",
      "metadata": {
        "colab": {
          "base_uri": "https://localhost:8080/"
        },
        "id": "snbX6yRUFxDZ",
        "outputId": "e5789795-9b02-41b1-d513-376fb67e8822"
      },
      "source": [
        "tf.sqrt(tf.cast(tensor_A, dtype=tf.float32))"
      ],
      "execution_count": 96,
      "outputs": [
        {
          "output_type": "execute_result",
          "data": {
            "text/plain": [
              "<tf.Tensor: shape=(29,), dtype=float32, numpy=\n",
              "array([0.99999994, 1.4142134 , 1.7320508 , 1.9999999 , 2.236068  ,\n",
              "       2.4494896 , 2.6457512 , 2.8284268 , 2.9999998 , 3.1622777 ,\n",
              "       3.3166244 , 3.4641016 , 3.6055508 , 3.7416573 , 3.8729832 ,\n",
              "       3.9999998 , 4.1231055 , 4.2426405 , 4.3588986 , 4.472136  ,\n",
              "       4.5825753 , 4.6904154 , 4.795831  , 4.898979  , 5.        ,\n",
              "       5.0990195 , 5.196152  , 5.2915025 , 5.3851647 ], dtype=float32)>"
            ]
          },
          "metadata": {},
          "execution_count": 96
        }
      ]
    },
    {
      "cell_type": "code",
      "metadata": {
        "colab": {
          "base_uri": "https://localhost:8080/"
        },
        "id": "nBQUSTC3F0ZK",
        "outputId": "d0d118a8-0b58-4808-ba44-ab076bc0efa5"
      },
      "source": [
        "tf.math.log(tf.cast(tensor_A, dtype=tf.float32))"
      ],
      "execution_count": 97,
      "outputs": [
        {
          "output_type": "execute_result",
          "data": {
            "text/plain": [
              "<tf.Tensor: shape=(29,), dtype=float32, numpy=\n",
              "array([0.       , 0.6931472, 1.0986123, 1.3862944, 1.609438 , 1.7917595,\n",
              "       1.9459102, 2.0794415, 2.1972246, 2.3025851, 2.3978953, 2.4849067,\n",
              "       2.5649493, 2.6390574, 2.7080503, 2.7725887, 2.8332133, 2.8903718,\n",
              "       2.944439 , 2.9957323, 3.0445225, 3.0910425, 3.1354942, 3.1780539,\n",
              "       3.218876 , 3.2580965, 3.295837 , 3.3322046, 3.3672957],\n",
              "      dtype=float32)>"
            ]
          },
          "metadata": {},
          "execution_count": 97
        }
      ]
    },
    {
      "cell_type": "markdown",
      "metadata": {
        "id": "lmm7yc7MGIwd"
      },
      "source": [
        "# Tensor To Numpy and Vice Versa"
      ]
    },
    {
      "cell_type": "code",
      "metadata": {
        "colab": {
          "base_uri": "https://localhost:8080/"
        },
        "id": "JO7tdna5GD1y",
        "outputId": "c2447a64-afa4-4bf2-a48c-e5ad43ad3c51"
      },
      "source": [
        "tensor_1 = tf.constant(np.array([\n",
        "                                 [2,3],[5,3],[5,2],[1,4]\n",
        "]))\n",
        "tensor_1"
      ],
      "execution_count": 98,
      "outputs": [
        {
          "output_type": "execute_result",
          "data": {
            "text/plain": [
              "<tf.Tensor: shape=(4, 2), dtype=int64, numpy=\n",
              "array([[2, 3],\n",
              "       [5, 3],\n",
              "       [5, 2],\n",
              "       [1, 4]])>"
            ]
          },
          "metadata": {},
          "execution_count": 98
        }
      ]
    },
    {
      "cell_type": "code",
      "metadata": {
        "colab": {
          "base_uri": "https://localhost:8080/"
        },
        "id": "Llm18CDZGWpi",
        "outputId": "b8d4a0b2-61db-4b48-ba79-a5f0ec18f84b"
      },
      "source": [
        "tensor_2 = tf.constant([\n",
        "                        [2,3],[5,3],[5,2],[1,4]\n",
        "])\n",
        "tensor_2"
      ],
      "execution_count": 99,
      "outputs": [
        {
          "output_type": "execute_result",
          "data": {
            "text/plain": [
              "<tf.Tensor: shape=(4, 2), dtype=int32, numpy=\n",
              "array([[2, 3],\n",
              "       [5, 3],\n",
              "       [5, 2],\n",
              "       [1, 4]], dtype=int32)>"
            ]
          },
          "metadata": {},
          "execution_count": 99
        }
      ]
    },
    {
      "cell_type": "code",
      "metadata": {
        "colab": {
          "base_uri": "https://localhost:8080/"
        },
        "id": "WK6J9LJUGbgP",
        "outputId": "6e1a1b85-9964-44d4-f700-57af63f7b6a1"
      },
      "source": [
        "tensor_1.dtype, tensor_2.dtype"
      ],
      "execution_count": 101,
      "outputs": [
        {
          "output_type": "execute_result",
          "data": {
            "text/plain": [
              "(tf.int64, tf.int32)"
            ]
          },
          "metadata": {},
          "execution_count": 101
        }
      ]
    },
    {
      "cell_type": "code",
      "metadata": {
        "id": "db8Lbw3hGdfN"
      },
      "source": [
        "tensor_3 = np.array(tensor_2)"
      ],
      "execution_count": 103,
      "outputs": []
    },
    {
      "cell_type": "code",
      "metadata": {
        "id": "6NTNutK2GuAD"
      },
      "source": [
        "tensor_4 = tf.constant(tensor_1)"
      ],
      "execution_count": 104,
      "outputs": []
    },
    {
      "cell_type": "code",
      "metadata": {
        "colab": {
          "base_uri": "https://localhost:8080/"
        },
        "id": "IJWW3qK9G1Ag",
        "outputId": "3a7bf5e7-e08c-4b89-88f9-0d7a4924361e"
      },
      "source": [
        "tensor_3 == tensor_4"
      ],
      "execution_count": 105,
      "outputs": [
        {
          "output_type": "execute_result",
          "data": {
            "text/plain": [
              "<tf.Tensor: shape=(4, 2), dtype=bool, numpy=\n",
              "array([[ True,  True],\n",
              "       [ True,  True],\n",
              "       [ True,  True],\n",
              "       [ True,  True]])>"
            ]
          },
          "metadata": {},
          "execution_count": 105
        }
      ]
    },
    {
      "cell_type": "markdown",
      "metadata": {
        "id": "fZG7NAfeG6Xu"
      },
      "source": [
        "# **Regression Analysis And Working With Models**"
      ]
    },
    {
      "cell_type": "markdown",
      "metadata": {
        "id": "NZTbLCVlHC0u"
      },
      "source": [
        "# Model 1"
      ]
    },
    {
      "cell_type": "code",
      "metadata": {
        "id": "xuQqYmATHe7n"
      },
      "source": [
        "X = tf.constant([3,6,9,12,15,18,21])\n",
        "y = tf.constant([6,12,18,24,30,36,42])"
      ],
      "execution_count": 112,
      "outputs": []
    },
    {
      "cell_type": "code",
      "metadata": {
        "id": "6NIhM4rfG3Bw"
      },
      "source": [
        "tf.random.set_seed(42)\n",
        "\n",
        "model_1 =  tf.keras.Sequential([\n",
        "                     tf.keras.layers.Dense(1)\n",
        "])\n",
        "\n",
        "model_1.compile(\n",
        "    loss = tf.keras.losses.mae,\n",
        "    optimizer = tf.keras.optimizers.SGD(),\n",
        "    metrics=['mae']\n",
        ")\n",
        "\n"
      ],
      "execution_count": 113,
      "outputs": []
    },
    {
      "cell_type": "code",
      "metadata": {
        "colab": {
          "base_uri": "https://localhost:8080/"
        },
        "id": "fjrpwLXmHwp_",
        "outputId": "32e499db-55c6-4645-8665-c074a221dd7a"
      },
      "source": [
        "model_1.fit(tf.expand_dims(X, axis=1), y, epochs=5)"
      ],
      "execution_count": 114,
      "outputs": [
        {
          "output_type": "stream",
          "name": "stdout",
          "text": [
            "Epoch 1/5\n",
            "1/1 [==============================] - 0s 482ms/step - loss: 17.1593 - mae: 17.1593\n",
            "Epoch 2/5\n",
            "1/1 [==============================] - 0s 7ms/step - loss: 15.7093 - mae: 15.7093\n",
            "Epoch 3/5\n",
            "1/1 [==============================] - 0s 17ms/step - loss: 14.2593 - mae: 14.2593\n",
            "Epoch 4/5\n",
            "1/1 [==============================] - 0s 8ms/step - loss: 12.8093 - mae: 12.8093\n",
            "Epoch 5/5\n",
            "1/1 [==============================] - 0s 6ms/step - loss: 11.3593 - mae: 11.3593\n"
          ]
        },
        {
          "output_type": "execute_result",
          "data": {
            "text/plain": [
              "<keras.callbacks.History at 0x7fb9c5f6bbd0>"
            ]
          },
          "metadata": {},
          "execution_count": 114
        }
      ]
    },
    {
      "cell_type": "code",
      "metadata": {
        "colab": {
          "base_uri": "https://localhost:8080/"
        },
        "id": "pZ6mf41GII40",
        "outputId": "c5b6da5d-3fcc-4b51-e716-44eb815b0d8e"
      },
      "source": [
        "X,y"
      ],
      "execution_count": 115,
      "outputs": [
        {
          "output_type": "execute_result",
          "data": {
            "text/plain": [
              "(<tf.Tensor: shape=(7,), dtype=int32, numpy=array([ 3,  6,  9, 12, 15, 18, 21], dtype=int32)>,\n",
              " <tf.Tensor: shape=(7,), dtype=int32, numpy=array([ 6, 12, 18, 24, 30, 36, 42], dtype=int32)>)"
            ]
          },
          "metadata": {},
          "execution_count": 115
        }
      ]
    },
    {
      "cell_type": "code",
      "metadata": {
        "colab": {
          "base_uri": "https://localhost:8080/"
        },
        "id": "tL310TZmIV1A",
        "outputId": "7a75bfc6-264a-4de4-b8db-13ffa4afaae0"
      },
      "source": [
        "model_1.predict([24])"
      ],
      "execution_count": 116,
      "outputs": [
        {
          "output_type": "execute_result",
          "data": {
            "text/plain": [
              "array([[28.131437]], dtype=float32)"
            ]
          },
          "metadata": {},
          "execution_count": 116
        }
      ]
    },
    {
      "cell_type": "markdown",
      "metadata": {
        "id": "79begfbaIe17"
      },
      "source": [
        "# Model 2"
      ]
    },
    {
      "cell_type": "code",
      "metadata": {
        "colab": {
          "base_uri": "https://localhost:8080/"
        },
        "id": "YAo2LRKdIc6N",
        "outputId": "ee3b1d86-43eb-4679-fd62-924c3d7985fd"
      },
      "source": [
        "tf.random.set_seed(42)\n",
        "\n",
        "model_2 = tf.keras.Sequential([\n",
        "                               tf.keras.layers.Dense(1)\n",
        "])\n",
        "\n",
        "model_2.compile(\n",
        "    loss  = tf.keras.losses.mae,\n",
        "    optimizer = tf.keras.optimizers.SGD(),\n",
        "    metrics=['mae']\n",
        ")\n",
        "\n",
        "model_2.fit(tf.expand_dims(X, axis=1), y, epochs=100)"
      ],
      "execution_count": 117,
      "outputs": [
        {
          "output_type": "stream",
          "name": "stdout",
          "text": [
            "Epoch 1/100\n",
            "1/1 [==============================] - 0s 292ms/step - loss: 17.1593 - mae: 17.1593\n",
            "Epoch 2/100\n",
            "1/1 [==============================] - 0s 6ms/step - loss: 15.7093 - mae: 15.7093\n",
            "Epoch 3/100\n",
            "1/1 [==============================] - 0s 8ms/step - loss: 14.2593 - mae: 14.2593\n",
            "Epoch 4/100\n",
            "1/1 [==============================] - 0s 6ms/step - loss: 12.8093 - mae: 12.8093\n",
            "Epoch 5/100\n",
            "1/1 [==============================] - 0s 5ms/step - loss: 11.3593 - mae: 11.3593\n",
            "Epoch 6/100\n",
            "1/1 [==============================] - 0s 5ms/step - loss: 9.9093 - mae: 9.9093\n",
            "Epoch 7/100\n",
            "1/1 [==============================] - 0s 6ms/step - loss: 8.4593 - mae: 8.4593\n",
            "Epoch 8/100\n",
            "1/1 [==============================] - 0s 5ms/step - loss: 7.0093 - mae: 7.0093\n",
            "Epoch 9/100\n",
            "1/1 [==============================] - 0s 6ms/step - loss: 5.5593 - mae: 5.5593\n",
            "Epoch 10/100\n",
            "1/1 [==============================] - 0s 6ms/step - loss: 4.1093 - mae: 4.1093\n",
            "Epoch 11/100\n",
            "1/1 [==============================] - 0s 6ms/step - loss: 2.6593 - mae: 2.6593\n",
            "Epoch 12/100\n",
            "1/1 [==============================] - 0s 6ms/step - loss: 1.2093 - mae: 1.2093\n",
            "Epoch 13/100\n",
            "1/1 [==============================] - 0s 6ms/step - loss: 0.2407 - mae: 0.2407\n",
            "Epoch 14/100\n",
            "1/1 [==============================] - 0s 7ms/step - loss: 1.2093 - mae: 1.2093\n",
            "Epoch 15/100\n",
            "1/1 [==============================] - 0s 10ms/step - loss: 0.2407 - mae: 0.2407\n",
            "Epoch 16/100\n",
            "1/1 [==============================] - 0s 7ms/step - loss: 1.2093 - mae: 1.2093\n",
            "Epoch 17/100\n",
            "1/1 [==============================] - 0s 17ms/step - loss: 0.2407 - mae: 0.2407\n",
            "Epoch 18/100\n",
            "1/1 [==============================] - 0s 12ms/step - loss: 1.2093 - mae: 1.2093\n",
            "Epoch 19/100\n",
            "1/1 [==============================] - 0s 5ms/step - loss: 0.2407 - mae: 0.2407\n",
            "Epoch 20/100\n",
            "1/1 [==============================] - 0s 5ms/step - loss: 1.2093 - mae: 1.2093\n",
            "Epoch 21/100\n",
            "1/1 [==============================] - 0s 11ms/step - loss: 0.2407 - mae: 0.2407\n",
            "Epoch 22/100\n",
            "1/1 [==============================] - 0s 8ms/step - loss: 1.2093 - mae: 1.2093\n",
            "Epoch 23/100\n",
            "1/1 [==============================] - 0s 9ms/step - loss: 0.2407 - mae: 0.2407\n",
            "Epoch 24/100\n",
            "1/1 [==============================] - 0s 7ms/step - loss: 1.2093 - mae: 1.2093\n",
            "Epoch 25/100\n",
            "1/1 [==============================] - 0s 8ms/step - loss: 0.2407 - mae: 0.2407\n",
            "Epoch 26/100\n",
            "1/1 [==============================] - 0s 8ms/step - loss: 1.2093 - mae: 1.2093\n",
            "Epoch 27/100\n",
            "1/1 [==============================] - 0s 9ms/step - loss: 0.2407 - mae: 0.2407\n",
            "Epoch 28/100\n",
            "1/1 [==============================] - 0s 9ms/step - loss: 1.2093 - mae: 1.2093\n",
            "Epoch 29/100\n",
            "1/1 [==============================] - 0s 7ms/step - loss: 0.2407 - mae: 0.2407\n",
            "Epoch 30/100\n",
            "1/1 [==============================] - 0s 10ms/step - loss: 1.2093 - mae: 1.2093\n",
            "Epoch 31/100\n",
            "1/1 [==============================] - 0s 7ms/step - loss: 0.2407 - mae: 0.2407\n",
            "Epoch 32/100\n",
            "1/1 [==============================] - 0s 5ms/step - loss: 1.2093 - mae: 1.2093\n",
            "Epoch 33/100\n",
            "1/1 [==============================] - 0s 11ms/step - loss: 0.2407 - mae: 0.2407\n",
            "Epoch 34/100\n",
            "1/1 [==============================] - 0s 8ms/step - loss: 1.2093 - mae: 1.2093\n",
            "Epoch 35/100\n",
            "1/1 [==============================] - 0s 8ms/step - loss: 0.2407 - mae: 0.2407\n",
            "Epoch 36/100\n",
            "1/1 [==============================] - 0s 8ms/step - loss: 1.2093 - mae: 1.2093\n",
            "Epoch 37/100\n",
            "1/1 [==============================] - 0s 9ms/step - loss: 0.2407 - mae: 0.2407\n",
            "Epoch 38/100\n",
            "1/1 [==============================] - 0s 10ms/step - loss: 1.2093 - mae: 1.2093\n",
            "Epoch 39/100\n",
            "1/1 [==============================] - 0s 11ms/step - loss: 0.2407 - mae: 0.2407\n",
            "Epoch 40/100\n",
            "1/1 [==============================] - 0s 11ms/step - loss: 1.2093 - mae: 1.2093\n",
            "Epoch 41/100\n",
            "1/1 [==============================] - 0s 11ms/step - loss: 0.2407 - mae: 0.2407\n",
            "Epoch 42/100\n",
            "1/1 [==============================] - 0s 23ms/step - loss: 1.2093 - mae: 1.2093\n",
            "Epoch 43/100\n",
            "1/1 [==============================] - 0s 12ms/step - loss: 0.2407 - mae: 0.2407\n",
            "Epoch 44/100\n",
            "1/1 [==============================] - 0s 12ms/step - loss: 1.2093 - mae: 1.2093\n",
            "Epoch 45/100\n",
            "1/1 [==============================] - 0s 8ms/step - loss: 0.2407 - mae: 0.2407\n",
            "Epoch 46/100\n",
            "1/1 [==============================] - 0s 6ms/step - loss: 1.2093 - mae: 1.2093\n",
            "Epoch 47/100\n",
            "1/1 [==============================] - 0s 7ms/step - loss: 0.2407 - mae: 0.2407\n",
            "Epoch 48/100\n",
            "1/1 [==============================] - 0s 9ms/step - loss: 1.2093 - mae: 1.2093\n",
            "Epoch 49/100\n",
            "1/1 [==============================] - 0s 6ms/step - loss: 0.2407 - mae: 0.2407\n",
            "Epoch 50/100\n",
            "1/1 [==============================] - 0s 8ms/step - loss: 1.2093 - mae: 1.2093\n",
            "Epoch 51/100\n",
            "1/1 [==============================] - 0s 10ms/step - loss: 0.2407 - mae: 0.2407\n",
            "Epoch 52/100\n",
            "1/1 [==============================] - 0s 6ms/step - loss: 1.2093 - mae: 1.2093\n",
            "Epoch 53/100\n",
            "1/1 [==============================] - 0s 6ms/step - loss: 0.2407 - mae: 0.2407\n",
            "Epoch 54/100\n",
            "1/1 [==============================] - 0s 12ms/step - loss: 1.2093 - mae: 1.2093\n",
            "Epoch 55/100\n",
            "1/1 [==============================] - 0s 12ms/step - loss: 0.2407 - mae: 0.2407\n",
            "Epoch 56/100\n",
            "1/1 [==============================] - 0s 12ms/step - loss: 1.2093 - mae: 1.2093\n",
            "Epoch 57/100\n",
            "1/1 [==============================] - 0s 8ms/step - loss: 0.2407 - mae: 0.2407\n",
            "Epoch 58/100\n",
            "1/1 [==============================] - 0s 11ms/step - loss: 1.2093 - mae: 1.2093\n",
            "Epoch 59/100\n",
            "1/1 [==============================] - 0s 12ms/step - loss: 0.2407 - mae: 0.2407\n",
            "Epoch 60/100\n",
            "1/1 [==============================] - 0s 7ms/step - loss: 1.2093 - mae: 1.2093\n",
            "Epoch 61/100\n",
            "1/1 [==============================] - 0s 10ms/step - loss: 0.2407 - mae: 0.2407\n",
            "Epoch 62/100\n",
            "1/1 [==============================] - 0s 11ms/step - loss: 1.2093 - mae: 1.2093\n",
            "Epoch 63/100\n",
            "1/1 [==============================] - 0s 10ms/step - loss: 0.2407 - mae: 0.2407\n",
            "Epoch 64/100\n",
            "1/1 [==============================] - 0s 14ms/step - loss: 1.2093 - mae: 1.2093\n",
            "Epoch 65/100\n",
            "1/1 [==============================] - 0s 8ms/step - loss: 0.2407 - mae: 0.2407\n",
            "Epoch 66/100\n",
            "1/1 [==============================] - 0s 12ms/step - loss: 1.2093 - mae: 1.2093\n",
            "Epoch 67/100\n",
            "1/1 [==============================] - 0s 11ms/step - loss: 0.2407 - mae: 0.2407\n",
            "Epoch 68/100\n",
            "1/1 [==============================] - 0s 10ms/step - loss: 1.2093 - mae: 1.2093\n",
            "Epoch 69/100\n",
            "1/1 [==============================] - 0s 12ms/step - loss: 0.2407 - mae: 0.2407\n",
            "Epoch 70/100\n",
            "1/1 [==============================] - 0s 16ms/step - loss: 1.2093 - mae: 1.2093\n",
            "Epoch 71/100\n",
            "1/1 [==============================] - 0s 13ms/step - loss: 0.2407 - mae: 0.2407\n",
            "Epoch 72/100\n",
            "1/1 [==============================] - 0s 10ms/step - loss: 1.2093 - mae: 1.2093\n",
            "Epoch 73/100\n",
            "1/1 [==============================] - 0s 17ms/step - loss: 0.2407 - mae: 0.2407\n",
            "Epoch 74/100\n",
            "1/1 [==============================] - 0s 10ms/step - loss: 1.2093 - mae: 1.2093\n",
            "Epoch 75/100\n",
            "1/1 [==============================] - 0s 12ms/step - loss: 0.2407 - mae: 0.2407\n",
            "Epoch 76/100\n",
            "1/1 [==============================] - 0s 8ms/step - loss: 1.2093 - mae: 1.2093\n",
            "Epoch 77/100\n",
            "1/1 [==============================] - 0s 10ms/step - loss: 0.2407 - mae: 0.2407\n",
            "Epoch 78/100\n",
            "1/1 [==============================] - 0s 12ms/step - loss: 1.2093 - mae: 1.2093\n",
            "Epoch 79/100\n",
            "1/1 [==============================] - 0s 8ms/step - loss: 0.2407 - mae: 0.2407\n",
            "Epoch 80/100\n",
            "1/1 [==============================] - 0s 7ms/step - loss: 1.2093 - mae: 1.2093\n",
            "Epoch 81/100\n",
            "1/1 [==============================] - 0s 12ms/step - loss: 0.2407 - mae: 0.2407\n",
            "Epoch 82/100\n",
            "1/1 [==============================] - 0s 10ms/step - loss: 1.2093 - mae: 1.2093\n",
            "Epoch 83/100\n",
            "1/1 [==============================] - 0s 19ms/step - loss: 0.2407 - mae: 0.2407\n",
            "Epoch 84/100\n",
            "1/1 [==============================] - 0s 13ms/step - loss: 1.2093 - mae: 1.2093\n",
            "Epoch 85/100\n",
            "1/1 [==============================] - 0s 16ms/step - loss: 0.2407 - mae: 0.2407\n",
            "Epoch 86/100\n",
            "1/1 [==============================] - 0s 9ms/step - loss: 1.2093 - mae: 1.2093\n",
            "Epoch 87/100\n",
            "1/1 [==============================] - 0s 6ms/step - loss: 0.2407 - mae: 0.2407\n",
            "Epoch 88/100\n",
            "1/1 [==============================] - 0s 9ms/step - loss: 1.2093 - mae: 1.2093\n",
            "Epoch 89/100\n",
            "1/1 [==============================] - 0s 9ms/step - loss: 0.2407 - mae: 0.2407\n",
            "Epoch 90/100\n",
            "1/1 [==============================] - 0s 11ms/step - loss: 1.2093 - mae: 1.2093\n",
            "Epoch 91/100\n",
            "1/1 [==============================] - 0s 11ms/step - loss: 0.2407 - mae: 0.2407\n",
            "Epoch 92/100\n",
            "1/1 [==============================] - 0s 6ms/step - loss: 1.2093 - mae: 1.2093\n",
            "Epoch 93/100\n",
            "1/1 [==============================] - 0s 12ms/step - loss: 0.2407 - mae: 0.2407\n",
            "Epoch 94/100\n",
            "1/1 [==============================] - 0s 6ms/step - loss: 1.2093 - mae: 1.2093\n",
            "Epoch 95/100\n",
            "1/1 [==============================] - 0s 11ms/step - loss: 0.2407 - mae: 0.2407\n",
            "Epoch 96/100\n",
            "1/1 [==============================] - 0s 5ms/step - loss: 1.2093 - mae: 1.2093\n",
            "Epoch 97/100\n",
            "1/1 [==============================] - 0s 8ms/step - loss: 0.2407 - mae: 0.2407\n",
            "Epoch 98/100\n",
            "1/1 [==============================] - 0s 10ms/step - loss: 1.2093 - mae: 1.2093\n",
            "Epoch 99/100\n",
            "1/1 [==============================] - 0s 6ms/step - loss: 0.2407 - mae: 0.2407\n",
            "Epoch 100/100\n",
            "1/1 [==============================] - 0s 13ms/step - loss: 1.2093 - mae: 1.2093\n"
          ]
        },
        {
          "output_type": "execute_result",
          "data": {
            "text/plain": [
              "<keras.callbacks.History at 0x7fb9c59cecd0>"
            ]
          },
          "metadata": {},
          "execution_count": 117
        }
      ]
    },
    {
      "cell_type": "code",
      "metadata": {
        "colab": {
          "base_uri": "https://localhost:8080/"
        },
        "id": "puIj6TcEI4Rr",
        "outputId": "f1d41cdc-e116-44fc-d87f-2565875b0595"
      },
      "source": [
        "X,y"
      ],
      "execution_count": 118,
      "outputs": [
        {
          "output_type": "execute_result",
          "data": {
            "text/plain": [
              "(<tf.Tensor: shape=(7,), dtype=int32, numpy=array([ 3,  6,  9, 12, 15, 18, 21], dtype=int32)>,\n",
              " <tf.Tensor: shape=(7,), dtype=int32, numpy=array([ 6, 12, 18, 24, 30, 36, 42], dtype=int32)>)"
            ]
          },
          "metadata": {},
          "execution_count": 118
        }
      ]
    },
    {
      "cell_type": "code",
      "metadata": {
        "colab": {
          "base_uri": "https://localhost:8080/"
        },
        "id": "_iYz0vVnI51M",
        "outputId": "457f07fe-3cff-46a1-d23d-657edcb59f35"
      },
      "source": [
        "model_2.predict([24])"
      ],
      "execution_count": 119,
      "outputs": [
        {
          "output_type": "execute_result",
          "data": {
            "text/plain": [
              "array([[48.361435]], dtype=float32)"
            ]
          },
          "metadata": {},
          "execution_count": 119
        }
      ]
    },
    {
      "cell_type": "markdown",
      "metadata": {
        "id": "Kg_AhKkfJBxs"
      },
      "source": [
        "# Model 3"
      ]
    },
    {
      "cell_type": "code",
      "metadata": {
        "colab": {
          "base_uri": "https://localhost:8080/"
        },
        "id": "JzyBbOh-I-AC",
        "outputId": "622cca35-6527-4838-be19-6f698093371e"
      },
      "source": [
        "tf.random.set_seed(42)\n",
        "\n",
        "model_3 = tf.keras.Sequential([\n",
        "                               tf.keras.layers.Dense(100, activation='relu'),\n",
        "                               tf.keras.layers.Dense(1)\n",
        "])\n",
        "\n",
        "model_3.compile(\n",
        "    loss = tf.keras.losses.mae,\n",
        "    optimizer = tf.keras.optimizers.SGD(),\n",
        "    metrics=['mae']\n",
        ")\n",
        "\n",
        "model_3.fit(tf.expand_dims(X,axis=1), y, epochs=100)"
      ],
      "execution_count": 120,
      "outputs": [
        {
          "output_type": "stream",
          "name": "stdout",
          "text": [
            "Epoch 1/100\n",
            "1/1 [==============================] - 0s 348ms/step - loss: 21.4605 - mae: 21.4605\n",
            "Epoch 2/100\n",
            "1/1 [==============================] - 0s 5ms/step - loss: 18.6057 - mae: 18.6057\n",
            "Epoch 3/100\n",
            "1/1 [==============================] - 0s 4ms/step - loss: 15.5884 - mae: 15.5884\n",
            "Epoch 4/100\n",
            "1/1 [==============================] - 0s 5ms/step - loss: 12.1729 - mae: 12.1729\n",
            "Epoch 5/100\n",
            "1/1 [==============================] - 0s 4ms/step - loss: 8.2563 - mae: 8.2563\n",
            "Epoch 6/100\n",
            "1/1 [==============================] - 0s 5ms/step - loss: 3.5682 - mae: 3.5682\n",
            "Epoch 7/100\n",
            "1/1 [==============================] - 0s 6ms/step - loss: 2.1631 - mae: 2.1631\n",
            "Epoch 8/100\n",
            "1/1 [==============================] - 0s 6ms/step - loss: 4.1550 - mae: 4.1550\n",
            "Epoch 9/100\n",
            "1/1 [==============================] - 0s 6ms/step - loss: 1.4116 - mae: 1.4116\n",
            "Epoch 10/100\n",
            "1/1 [==============================] - 0s 6ms/step - loss: 4.7249 - mae: 4.7249\n",
            "Epoch 11/100\n",
            "1/1 [==============================] - 0s 7ms/step - loss: 0.6817 - mae: 0.6817\n",
            "Epoch 12/100\n",
            "1/1 [==============================] - 0s 10ms/step - loss: 5.2784 - mae: 5.2784\n",
            "Epoch 13/100\n",
            "1/1 [==============================] - 0s 8ms/step - loss: 0.0788 - mae: 0.0788\n",
            "Epoch 14/100\n",
            "1/1 [==============================] - 0s 6ms/step - loss: 3.5645 - mae: 3.5645\n",
            "Epoch 15/100\n",
            "1/1 [==============================] - 0s 8ms/step - loss: 2.9677 - mae: 2.9677\n",
            "Epoch 16/100\n",
            "1/1 [==============================] - 0s 10ms/step - loss: 2.7727 - mae: 2.7727\n",
            "Epoch 17/100\n",
            "1/1 [==============================] - 0s 5ms/step - loss: 3.5717 - mae: 3.5717\n",
            "Epoch 18/100\n",
            "1/1 [==============================] - 0s 6ms/step - loss: 2.0037 - mae: 2.0037\n",
            "Epoch 19/100\n",
            "1/1 [==============================] - 0s 10ms/step - loss: 4.1583 - mae: 4.1583\n",
            "Epoch 20/100\n",
            "1/1 [==============================] - 0s 8ms/step - loss: 1.2568 - mae: 1.2568\n",
            "Epoch 21/100\n",
            "1/1 [==============================] - 0s 5ms/step - loss: 4.7281 - mae: 4.7281\n",
            "Epoch 22/100\n",
            "1/1 [==============================] - 0s 6ms/step - loss: 0.5314 - mae: 0.5314\n",
            "Epoch 23/100\n",
            "1/1 [==============================] - 0s 5ms/step - loss: 5.2815 - mae: 5.2815\n",
            "Epoch 24/100\n",
            "1/1 [==============================] - 0s 4ms/step - loss: 0.1901 - mae: 0.1901\n",
            "Epoch 25/100\n",
            "1/1 [==============================] - 0s 5ms/step - loss: 5.6719 - mae: 5.6719\n",
            "Epoch 26/100\n",
            "1/1 [==============================] - 0s 5ms/step - loss: 1.2262 - mae: 1.2262\n",
            "Epoch 27/100\n",
            "1/1 [==============================] - 0s 5ms/step - loss: 4.8197 - mae: 4.8197\n",
            "Epoch 28/100\n",
            "1/1 [==============================] - 0s 7ms/step - loss: 1.8802 - mae: 1.8802\n",
            "Epoch 29/100\n",
            "1/1 [==============================] - 0s 6ms/step - loss: 3.9919 - mae: 3.9919\n",
            "Epoch 30/100\n",
            "1/1 [==============================] - 0s 7ms/step - loss: 2.5153 - mae: 2.5153\n",
            "Epoch 31/100\n",
            "1/1 [==============================] - 0s 5ms/step - loss: 3.1880 - mae: 3.1880\n",
            "Epoch 32/100\n",
            "1/1 [==============================] - 0s 5ms/step - loss: 3.1322 - mae: 3.1322\n",
            "Epoch 33/100\n",
            "1/1 [==============================] - 0s 6ms/step - loss: 2.4073 - mae: 2.4073\n",
            "Epoch 34/100\n",
            "1/1 [==============================] - 0s 4ms/step - loss: 3.7313 - mae: 3.7313\n",
            "Epoch 35/100\n",
            "1/1 [==============================] - 0s 5ms/step - loss: 1.6490 - mae: 1.6490\n",
            "Epoch 36/100\n",
            "1/1 [==============================] - 0s 5ms/step - loss: 4.3131 - mae: 4.3131\n",
            "Epoch 37/100\n",
            "1/1 [==============================] - 0s 6ms/step - loss: 0.9125 - mae: 0.9125\n",
            "Epoch 38/100\n",
            "1/1 [==============================] - 0s 5ms/step - loss: 4.8782 - mae: 4.8782\n",
            "Epoch 39/100\n",
            "1/1 [==============================] - 0s 6ms/step - loss: 0.1973 - mae: 0.1973\n",
            "Epoch 40/100\n",
            "1/1 [==============================] - 0s 6ms/step - loss: 5.4270 - mae: 5.4270\n",
            "Epoch 41/100\n",
            "1/1 [==============================] - 0s 4ms/step - loss: 0.4974 - mae: 0.4974\n",
            "Epoch 42/100\n",
            "1/1 [==============================] - 0s 5ms/step - loss: 5.6449 - mae: 5.6449\n",
            "Epoch 43/100\n",
            "1/1 [==============================] - 0s 6ms/step - loss: 1.1721 - mae: 1.1721\n",
            "Epoch 44/100\n",
            "1/1 [==============================] - 0s 5ms/step - loss: 4.7937 - mae: 4.7937\n",
            "Epoch 45/100\n",
            "1/1 [==============================] - 0s 5ms/step - loss: 1.8273 - mae: 1.8273\n",
            "Epoch 46/100\n",
            "1/1 [==============================] - 0s 5ms/step - loss: 3.9670 - mae: 3.9670\n",
            "Epoch 47/100\n",
            "1/1 [==============================] - 0s 5ms/step - loss: 2.4637 - mae: 2.4637\n",
            "Epoch 48/100\n",
            "1/1 [==============================] - 0s 6ms/step - loss: 3.1641 - mae: 3.1641\n",
            "Epoch 49/100\n",
            "1/1 [==============================] - 0s 4ms/step - loss: 3.0817 - mae: 3.0817\n",
            "Epoch 50/100\n",
            "1/1 [==============================] - 0s 6ms/step - loss: 2.3843 - mae: 2.3843\n",
            "Epoch 51/100\n",
            "1/1 [==============================] - 0s 8ms/step - loss: 3.6820 - mae: 3.6820\n",
            "Epoch 52/100\n",
            "1/1 [==============================] - 0s 6ms/step - loss: 1.6269 - mae: 1.6269\n",
            "Epoch 53/100\n",
            "1/1 [==============================] - 0s 6ms/step - loss: 4.2650 - mae: 4.2650\n",
            "Epoch 54/100\n",
            "1/1 [==============================] - 0s 7ms/step - loss: 0.8914 - mae: 0.8914\n",
            "Epoch 55/100\n",
            "1/1 [==============================] - 0s 8ms/step - loss: 4.8311 - mae: 4.8311\n",
            "Epoch 56/100\n",
            "1/1 [==============================] - 0s 5ms/step - loss: 0.1771 - mae: 0.1771\n",
            "Epoch 57/100\n",
            "1/1 [==============================] - 0s 7ms/step - loss: 5.3810 - mae: 5.3810\n",
            "Epoch 58/100\n",
            "1/1 [==============================] - 0s 6ms/step - loss: 0.5167 - mae: 0.5167\n",
            "Epoch 59/100\n",
            "1/1 [==============================] - 0s 11ms/step - loss: 5.5604 - mae: 5.5604\n",
            "Epoch 60/100\n",
            "1/1 [==============================] - 0s 8ms/step - loss: 1.1906 - mae: 1.1906\n",
            "Epoch 61/100\n",
            "1/1 [==============================] - 0s 8ms/step - loss: 4.7119 - mae: 4.7119\n",
            "Epoch 62/100\n",
            "1/1 [==============================] - 0s 6ms/step - loss: 1.8450 - mae: 1.8450\n",
            "Epoch 63/100\n",
            "1/1 [==============================] - 0s 8ms/step - loss: 3.8878 - mae: 3.8878\n",
            "Epoch 64/100\n",
            "1/1 [==============================] - 0s 5ms/step - loss: 2.4805 - mae: 2.4805\n",
            "Epoch 65/100\n",
            "1/1 [==============================] - 0s 10ms/step - loss: 3.0875 - mae: 3.0875\n",
            "Epoch 66/100\n",
            "1/1 [==============================] - 0s 8ms/step - loss: 3.0978 - mae: 3.0978\n",
            "Epoch 67/100\n",
            "1/1 [==============================] - 0s 6ms/step - loss: 2.3102 - mae: 2.3102\n",
            "Epoch 68/100\n",
            "1/1 [==============================] - 0s 7ms/step - loss: 3.6973 - mae: 3.6973\n",
            "Epoch 69/100\n",
            "1/1 [==============================] - 0s 17ms/step - loss: 1.5553 - mae: 1.5553\n",
            "Epoch 70/100\n",
            "1/1 [==============================] - 0s 7ms/step - loss: 4.2796 - mae: 4.2796\n",
            "Epoch 71/100\n",
            "1/1 [==============================] - 0s 7ms/step - loss: 0.8221 - mae: 0.8221\n",
            "Epoch 72/100\n",
            "1/1 [==============================] - 0s 5ms/step - loss: 4.8451 - mae: 4.8451\n",
            "Epoch 73/100\n",
            "1/1 [==============================] - 0s 8ms/step - loss: 0.1100 - mae: 0.1100\n",
            "Epoch 74/100\n",
            "1/1 [==============================] - 0s 16ms/step - loss: 5.3943 - mae: 5.3943\n",
            "Epoch 75/100\n",
            "1/1 [==============================] - 0s 10ms/step - loss: 0.5815 - mae: 0.5815\n",
            "Epoch 76/100\n",
            "1/1 [==============================] - 0s 9ms/step - loss: 5.4411 - mae: 5.4411\n",
            "Epoch 77/100\n",
            "1/1 [==============================] - 0s 6ms/step - loss: 1.2532 - mae: 1.2532\n",
            "Epoch 78/100\n",
            "1/1 [==============================] - 0s 7ms/step - loss: 4.5964 - mae: 4.5964\n",
            "Epoch 79/100\n",
            "1/1 [==============================] - 0s 7ms/step - loss: 1.9055 - mae: 1.9055\n",
            "Epoch 80/100\n",
            "1/1 [==============================] - 0s 8ms/step - loss: 3.7759 - mae: 3.7759\n",
            "Epoch 81/100\n",
            "1/1 [==============================] - 0s 8ms/step - loss: 2.5391 - mae: 2.5391\n",
            "Epoch 82/100\n",
            "1/1 [==============================] - 0s 15ms/step - loss: 2.9791 - mae: 2.9791\n",
            "Epoch 83/100\n",
            "1/1 [==============================] - 0s 8ms/step - loss: 3.1544 - mae: 3.1544\n",
            "Epoch 84/100\n",
            "1/1 [==============================] - 0s 10ms/step - loss: 2.2052 - mae: 2.2052\n",
            "Epoch 85/100\n",
            "1/1 [==============================] - 0s 6ms/step - loss: 3.7520 - mae: 3.7520\n",
            "Epoch 86/100\n",
            "1/1 [==============================] - 0s 8ms/step - loss: 1.4536 - mae: 1.4536\n",
            "Epoch 87/100\n",
            "1/1 [==============================] - 0s 7ms/step - loss: 4.3324 - mae: 4.3324\n",
            "Epoch 88/100\n",
            "1/1 [==============================] - 0s 10ms/step - loss: 0.7236 - mae: 0.7236\n",
            "Epoch 89/100\n",
            "1/1 [==============================] - 0s 12ms/step - loss: 4.8960 - mae: 4.8960\n",
            "Epoch 90/100\n",
            "1/1 [==============================] - 0s 14ms/step - loss: 0.0666 - mae: 0.0666\n",
            "Epoch 91/100\n",
            "1/1 [==============================] - 0s 13ms/step - loss: 1.6852 - mae: 1.6852\n",
            "Epoch 92/100\n",
            "1/1 [==============================] - 0s 8ms/step - loss: 4.1490 - mae: 4.1490\n",
            "Epoch 93/100\n",
            "1/1 [==============================] - 0s 11ms/step - loss: 0.9485 - mae: 0.9485\n",
            "Epoch 94/100\n",
            "1/1 [==============================] - 0s 11ms/step - loss: 4.7180 - mae: 4.7180\n",
            "Epoch 95/100\n",
            "1/1 [==============================] - 0s 9ms/step - loss: 0.2330 - mae: 0.2330\n",
            "Epoch 96/100\n",
            "1/1 [==============================] - 0s 8ms/step - loss: 5.2706 - mae: 5.2706\n",
            "Epoch 97/100\n",
            "1/1 [==============================] - 0s 9ms/step - loss: 0.4618 - mae: 0.4618\n",
            "Epoch 98/100\n",
            "1/1 [==============================] - 0s 8ms/step - loss: 5.5634 - mae: 5.5634\n",
            "Epoch 99/100\n",
            "1/1 [==============================] - 0s 6ms/step - loss: 1.1367 - mae: 1.1367\n",
            "Epoch 100/100\n",
            "1/1 [==============================] - 0s 8ms/step - loss: 4.7154 - mae: 4.7154\n"
          ]
        },
        {
          "output_type": "execute_result",
          "data": {
            "text/plain": [
              "<keras.callbacks.History at 0x7fb9c5867910>"
            ]
          },
          "metadata": {},
          "execution_count": 120
        }
      ]
    },
    {
      "cell_type": "code",
      "metadata": {
        "colab": {
          "base_uri": "https://localhost:8080/"
        },
        "id": "xtsdU0kpJjvR",
        "outputId": "ff746a2a-9c13-4617-8cb9-7a96e66bbd3e"
      },
      "source": [
        "X,y"
      ],
      "execution_count": 121,
      "outputs": [
        {
          "output_type": "execute_result",
          "data": {
            "text/plain": [
              "(<tf.Tensor: shape=(7,), dtype=int32, numpy=array([ 3,  6,  9, 12, 15, 18, 21], dtype=int32)>,\n",
              " <tf.Tensor: shape=(7,), dtype=int32, numpy=array([ 6, 12, 18, 24, 30, 36, 42], dtype=int32)>)"
            ]
          },
          "metadata": {},
          "execution_count": 121
        }
      ]
    },
    {
      "cell_type": "code",
      "metadata": {
        "colab": {
          "base_uri": "https://localhost:8080/"
        },
        "id": "dWUuhLl9JkUd",
        "outputId": "00783c9e-9740-44e7-bf42-67a37f0e11cc"
      },
      "source": [
        "model_3.predict([24])"
      ],
      "execution_count": 122,
      "outputs": [
        {
          "output_type": "execute_result",
          "data": {
            "text/plain": [
              "array([[44.269005]], dtype=float32)"
            ]
          },
          "metadata": {},
          "execution_count": 122
        }
      ]
    },
    {
      "cell_type": "markdown",
      "metadata": {
        "id": "CarZps5yJqZc"
      },
      "source": [
        "# Model 4"
      ]
    },
    {
      "cell_type": "code",
      "metadata": {
        "colab": {
          "base_uri": "https://localhost:8080/"
        },
        "id": "NyxCPYRIJo_E",
        "outputId": "04ce0d42-ef0a-49c8-e748-533a9a6f5709"
      },
      "source": [
        "tf.random.set_seed(42)\n",
        "\n",
        "model_4 = tf.keras.Sequential([\n",
        "                               tf.keras.layers.Dense(100, activation='relu'),\n",
        "                               tf.keras.layers.Dense(1)\n",
        "])\n",
        "\n",
        "model_4.compile(\n",
        "    loss = tf.keras.losses.mae,\n",
        "    optimizer = tf.keras.optimizers.Adam(learning_rate=0.01),\n",
        "    metrics=['mae']\n",
        ")\n",
        "\n",
        "model_4.fit(tf.expand_dims(X, axis=1), y, epochs=100)"
      ],
      "execution_count": 132,
      "outputs": [
        {
          "output_type": "stream",
          "name": "stdout",
          "text": [
            "Epoch 1/100\n",
            "1/1 [==============================] - 0s 390ms/step - loss: 21.4605 - mae: 21.4605\n",
            "Epoch 2/100\n",
            "1/1 [==============================] - 0s 5ms/step - loss: 19.8758 - mae: 19.8758\n",
            "Epoch 3/100\n",
            "1/1 [==============================] - 0s 7ms/step - loss: 18.2683 - mae: 18.2683\n",
            "Epoch 4/100\n",
            "1/1 [==============================] - 0s 5ms/step - loss: 16.6324 - mae: 16.6324\n",
            "Epoch 5/100\n",
            "1/1 [==============================] - 0s 11ms/step - loss: 14.9452 - mae: 14.9452\n",
            "Epoch 6/100\n",
            "1/1 [==============================] - 0s 7ms/step - loss: 13.2018 - mae: 13.2018\n",
            "Epoch 7/100\n",
            "1/1 [==============================] - 0s 7ms/step - loss: 11.4079 - mae: 11.4079\n",
            "Epoch 8/100\n",
            "1/1 [==============================] - 0s 10ms/step - loss: 9.5489 - mae: 9.5489\n",
            "Epoch 9/100\n",
            "1/1 [==============================] - 0s 8ms/step - loss: 7.6189 - mae: 7.6189\n",
            "Epoch 10/100\n",
            "1/1 [==============================] - 0s 7ms/step - loss: 5.6069 - mae: 5.6069\n",
            "Epoch 11/100\n",
            "1/1 [==============================] - 0s 7ms/step - loss: 3.5005 - mae: 3.5005\n",
            "Epoch 12/100\n",
            "1/1 [==============================] - 0s 7ms/step - loss: 1.4234 - mae: 1.4234\n",
            "Epoch 13/100\n",
            "1/1 [==============================] - 0s 5ms/step - loss: 1.0040 - mae: 1.0040\n",
            "Epoch 14/100\n",
            "1/1 [==============================] - 0s 8ms/step - loss: 2.5793 - mae: 2.5793\n",
            "Epoch 15/100\n",
            "1/1 [==============================] - 0s 5ms/step - loss: 3.5307 - mae: 3.5307\n",
            "Epoch 16/100\n",
            "1/1 [==============================] - 0s 7ms/step - loss: 3.9572 - mae: 3.9572\n",
            "Epoch 17/100\n",
            "1/1 [==============================] - 0s 7ms/step - loss: 3.9494 - mae: 3.9494\n",
            "Epoch 18/100\n",
            "1/1 [==============================] - 0s 7ms/step - loss: 3.5876 - mae: 3.5876\n",
            "Epoch 19/100\n",
            "1/1 [==============================] - 0s 7ms/step - loss: 2.9415 - mae: 2.9415\n",
            "Epoch 20/100\n",
            "1/1 [==============================] - 0s 9ms/step - loss: 2.0710 - mae: 2.0710\n",
            "Epoch 21/100\n",
            "1/1 [==============================] - 0s 7ms/step - loss: 1.0271 - mae: 1.0271\n",
            "Epoch 22/100\n",
            "1/1 [==============================] - 0s 8ms/step - loss: 0.5377 - mae: 0.5377\n",
            "Epoch 23/100\n",
            "1/1 [==============================] - 0s 10ms/step - loss: 1.1763 - mae: 1.1763\n",
            "Epoch 24/100\n",
            "1/1 [==============================] - 0s 6ms/step - loss: 1.6748 - mae: 1.6748\n",
            "Epoch 25/100\n",
            "1/1 [==============================] - 0s 7ms/step - loss: 1.9092 - mae: 1.9092\n",
            "Epoch 26/100\n",
            "1/1 [==============================] - 0s 10ms/step - loss: 1.9161 - mae: 1.9161\n",
            "Epoch 27/100\n",
            "1/1 [==============================] - 0s 6ms/step - loss: 1.7225 - mae: 1.7225\n",
            "Epoch 28/100\n",
            "1/1 [==============================] - 0s 8ms/step - loss: 1.3481 - mae: 1.3481\n",
            "Epoch 29/100\n",
            "1/1 [==============================] - 0s 7ms/step - loss: 0.8516 - mae: 0.8516\n",
            "Epoch 30/100\n",
            "1/1 [==============================] - 0s 10ms/step - loss: 0.4018 - mae: 0.4018\n",
            "Epoch 31/100\n",
            "1/1 [==============================] - 0s 6ms/step - loss: 0.8119 - mae: 0.8119\n",
            "Epoch 32/100\n",
            "1/1 [==============================] - 0s 7ms/step - loss: 1.2117 - mae: 1.2117\n",
            "Epoch 33/100\n",
            "1/1 [==============================] - 0s 10ms/step - loss: 1.3072 - mae: 1.3072\n",
            "Epoch 34/100\n",
            "1/1 [==============================] - 0s 7ms/step - loss: 1.1324 - mae: 1.1324\n",
            "Epoch 35/100\n",
            "1/1 [==============================] - 0s 8ms/step - loss: 0.7224 - mae: 0.7224\n",
            "Epoch 36/100\n",
            "1/1 [==============================] - 0s 10ms/step - loss: 0.3544 - mae: 0.3544\n",
            "Epoch 37/100\n",
            "1/1 [==============================] - 0s 9ms/step - loss: 0.5999 - mae: 0.5999\n",
            "Epoch 38/100\n",
            "1/1 [==============================] - 0s 9ms/step - loss: 0.7847 - mae: 0.7847\n",
            "Epoch 39/100\n",
            "1/1 [==============================] - 0s 7ms/step - loss: 0.8098 - mae: 0.8098\n",
            "Epoch 40/100\n",
            "1/1 [==============================] - 0s 11ms/step - loss: 0.6915 - mae: 0.6915\n",
            "Epoch 41/100\n",
            "1/1 [==============================] - 0s 8ms/step - loss: 0.4544 - mae: 0.4544\n",
            "Epoch 42/100\n",
            "1/1 [==============================] - 0s 12ms/step - loss: 0.2963 - mae: 0.2963\n",
            "Epoch 43/100\n",
            "1/1 [==============================] - 0s 11ms/step - loss: 0.5811 - mae: 0.5811\n",
            "Epoch 44/100\n",
            "1/1 [==============================] - 0s 6ms/step - loss: 0.6533 - mae: 0.6533\n",
            "Epoch 45/100\n",
            "1/1 [==============================] - 0s 8ms/step - loss: 0.4651 - mae: 0.4651\n",
            "Epoch 46/100\n",
            "1/1 [==============================] - 0s 10ms/step - loss: 0.2784 - mae: 0.2784\n",
            "Epoch 47/100\n",
            "1/1 [==============================] - 0s 12ms/step - loss: 0.4356 - mae: 0.4356\n",
            "Epoch 48/100\n",
            "1/1 [==============================] - 0s 13ms/step - loss: 0.4969 - mae: 0.4969\n",
            "Epoch 49/100\n",
            "1/1 [==============================] - 0s 14ms/step - loss: 0.4073 - mae: 0.4073\n",
            "Epoch 50/100\n",
            "1/1 [==============================] - 0s 11ms/step - loss: 0.2384 - mae: 0.2384\n",
            "Epoch 51/100\n",
            "1/1 [==============================] - 0s 11ms/step - loss: 0.3598 - mae: 0.3598\n",
            "Epoch 52/100\n",
            "1/1 [==============================] - 0s 7ms/step - loss: 0.3987 - mae: 0.3987\n",
            "Epoch 53/100\n",
            "1/1 [==============================] - 0s 8ms/step - loss: 0.1990 - mae: 0.1990\n",
            "Epoch 54/100\n",
            "1/1 [==============================] - 0s 8ms/step - loss: 0.2797 - mae: 0.2797\n",
            "Epoch 55/100\n",
            "1/1 [==============================] - 0s 7ms/step - loss: 0.3863 - mae: 0.3863\n",
            "Epoch 56/100\n",
            "1/1 [==============================] - 0s 16ms/step - loss: 0.3369 - mae: 0.3369\n",
            "Epoch 57/100\n",
            "1/1 [==============================] - 0s 9ms/step - loss: 0.1691 - mae: 0.1691\n",
            "Epoch 58/100\n",
            "1/1 [==============================] - 0s 6ms/step - loss: 0.3478 - mae: 0.3478\n",
            "Epoch 59/100\n",
            "1/1 [==============================] - 0s 10ms/step - loss: 0.4121 - mae: 0.4121\n",
            "Epoch 60/100\n",
            "1/1 [==============================] - 0s 9ms/step - loss: 0.2152 - mae: 0.2152\n",
            "Epoch 61/100\n",
            "1/1 [==============================] - 0s 5ms/step - loss: 0.2604 - mae: 0.2604\n",
            "Epoch 62/100\n",
            "1/1 [==============================] - 0s 8ms/step - loss: 0.4247 - mae: 0.4247\n",
            "Epoch 63/100\n",
            "1/1 [==============================] - 0s 6ms/step - loss: 0.3702 - mae: 0.3702\n",
            "Epoch 64/100\n",
            "1/1 [==============================] - 0s 21ms/step - loss: 0.1284 - mae: 0.1284\n",
            "Epoch 65/100\n",
            "1/1 [==============================] - 0s 12ms/step - loss: 0.3669 - mae: 0.3669\n",
            "Epoch 66/100\n",
            "1/1 [==============================] - 0s 16ms/step - loss: 0.5124 - mae: 0.5124\n",
            "Epoch 67/100\n",
            "1/1 [==============================] - 0s 7ms/step - loss: 0.3896 - mae: 0.3896\n",
            "Epoch 68/100\n",
            "1/1 [==============================] - 0s 10ms/step - loss: 0.0393 - mae: 0.0393\n",
            "Epoch 69/100\n",
            "1/1 [==============================] - 0s 8ms/step - loss: 0.3162 - mae: 0.3162\n",
            "Epoch 70/100\n",
            "1/1 [==============================] - 0s 8ms/step - loss: 0.3803 - mae: 0.3803\n",
            "Epoch 71/100\n",
            "1/1 [==============================] - 0s 7ms/step - loss: 0.1937 - mae: 0.1937\n",
            "Epoch 72/100\n",
            "1/1 [==============================] - 0s 7ms/step - loss: 0.2210 - mae: 0.2210\n",
            "Epoch 73/100\n",
            "1/1 [==============================] - 0s 10ms/step - loss: 0.3464 - mae: 0.3464\n",
            "Epoch 74/100\n",
            "1/1 [==============================] - 0s 9ms/step - loss: 0.2098 - mae: 0.2098\n",
            "Epoch 75/100\n",
            "1/1 [==============================] - 0s 23ms/step - loss: 0.1584 - mae: 0.1584\n",
            "Epoch 76/100\n",
            "1/1 [==============================] - 0s 14ms/step - loss: 0.2448 - mae: 0.2448\n",
            "Epoch 77/100\n",
            "1/1 [==============================] - 0s 11ms/step - loss: 0.0807 - mae: 0.0807\n",
            "Epoch 78/100\n",
            "1/1 [==============================] - 0s 26ms/step - loss: 0.3112 - mae: 0.3112\n",
            "Epoch 79/100\n",
            "1/1 [==============================] - 0s 11ms/step - loss: 0.4185 - mae: 0.4185\n",
            "Epoch 80/100\n",
            "1/1 [==============================] - 0s 15ms/step - loss: 0.2686 - mae: 0.2686\n",
            "Epoch 81/100\n",
            "1/1 [==============================] - 0s 12ms/step - loss: 0.1087 - mae: 0.1087\n",
            "Epoch 82/100\n",
            "1/1 [==============================] - 0s 12ms/step - loss: 0.2061 - mae: 0.2061\n",
            "Epoch 83/100\n",
            "1/1 [==============================] - 0s 12ms/step - loss: 0.0546 - mae: 0.0546\n",
            "Epoch 84/100\n",
            "1/1 [==============================] - 0s 15ms/step - loss: 0.3228 - mae: 0.3228\n",
            "Epoch 85/100\n",
            "1/1 [==============================] - 0s 8ms/step - loss: 0.4202 - mae: 0.4202\n",
            "Epoch 86/100\n",
            "1/1 [==============================] - 0s 6ms/step - loss: 0.2643 - mae: 0.2643\n",
            "Epoch 87/100\n",
            "1/1 [==============================] - 0s 7ms/step - loss: 0.1154 - mae: 0.1154\n",
            "Epoch 88/100\n",
            "1/1 [==============================] - 0s 12ms/step - loss: 0.2178 - mae: 0.2178\n",
            "Epoch 89/100\n",
            "1/1 [==============================] - 0s 5ms/step - loss: 0.0739 - mae: 0.0739\n",
            "Epoch 90/100\n",
            "1/1 [==============================] - 0s 5ms/step - loss: 0.2939 - mae: 0.2939\n",
            "Epoch 91/100\n",
            "1/1 [==============================] - 0s 7ms/step - loss: 0.3856 - mae: 0.3856\n",
            "Epoch 92/100\n",
            "1/1 [==============================] - 0s 6ms/step - loss: 0.2276 - mae: 0.2276\n",
            "Epoch 93/100\n",
            "1/1 [==============================] - 0s 8ms/step - loss: 0.1512 - mae: 0.1512\n",
            "Epoch 94/100\n",
            "1/1 [==============================] - 0s 5ms/step - loss: 0.2557 - mae: 0.2557\n",
            "Epoch 95/100\n",
            "1/1 [==============================] - 0s 6ms/step - loss: 0.1163 - mae: 0.1163\n",
            "Epoch 96/100\n",
            "1/1 [==============================] - 0s 6ms/step - loss: 0.2446 - mae: 0.2446\n",
            "Epoch 97/100\n",
            "1/1 [==============================] - 0s 6ms/step - loss: 0.3328 - mae: 0.3328\n",
            "Epoch 98/100\n",
            "1/1 [==============================] - 0s 6ms/step - loss: 0.1792 - mae: 0.1792\n",
            "Epoch 99/100\n",
            "1/1 [==============================] - 0s 10ms/step - loss: 0.1837 - mae: 0.1837\n",
            "Epoch 100/100\n",
            "1/1 [==============================] - 0s 5ms/step - loss: 0.2721 - mae: 0.2721\n"
          ]
        },
        {
          "output_type": "execute_result",
          "data": {
            "text/plain": [
              "<keras.callbacks.History at 0x7fb9c547a350>"
            ]
          },
          "metadata": {},
          "execution_count": 132
        }
      ]
    },
    {
      "cell_type": "code",
      "metadata": {
        "colab": {
          "base_uri": "https://localhost:8080/"
        },
        "id": "yG47QTs-KL2p",
        "outputId": "1b5b3eda-fcd8-4bd4-a594-bf530cfa85e6"
      },
      "source": [
        "X,y"
      ],
      "execution_count": 133,
      "outputs": [
        {
          "output_type": "execute_result",
          "data": {
            "text/plain": [
              "(<tf.Tensor: shape=(7,), dtype=int32, numpy=array([ 3,  6,  9, 12, 15, 18, 21], dtype=int32)>,\n",
              " <tf.Tensor: shape=(7,), dtype=int32, numpy=array([ 6, 12, 18, 24, 30, 36, 42], dtype=int32)>)"
            ]
          },
          "metadata": {},
          "execution_count": 133
        }
      ]
    },
    {
      "cell_type": "code",
      "metadata": {
        "colab": {
          "base_uri": "https://localhost:8080/"
        },
        "id": "2lDynIecKba_",
        "outputId": "b7d098e9-cb96-4acf-e53a-76d2fdda6804"
      },
      "source": [
        "model_4.predict([24])"
      ],
      "execution_count": 134,
      "outputs": [
        {
          "output_type": "stream",
          "name": "stdout",
          "text": [
            "WARNING:tensorflow:6 out of the last 6 calls to <function Model.make_predict_function.<locals>.predict_function at 0x7fb9c53b47a0> triggered tf.function retracing. Tracing is expensive and the excessive number of tracings could be due to (1) creating @tf.function repeatedly in a loop, (2) passing tensors with different shapes, (3) passing Python objects instead of tensors. For (1), please define your @tf.function outside of the loop. For (2), @tf.function has experimental_relax_shapes=True option that relaxes argument shapes that can avoid unnecessary retracing. For (3), please refer to https://www.tensorflow.org/guide/function#controlling_retracing and https://www.tensorflow.org/api_docs/python/tf/function for  more details.\n"
          ]
        },
        {
          "output_type": "execute_result",
          "data": {
            "text/plain": [
              "array([[47.856773]], dtype=float32)"
            ]
          },
          "metadata": {},
          "execution_count": 134
        }
      ]
    },
    {
      "cell_type": "markdown",
      "metadata": {
        "id": "wVohO5oPKr-h"
      },
      "source": [
        "# Three Data Set"
      ]
    },
    {
      "cell_type": "code",
      "metadata": {
        "id": "nSOizM6-KdZ0"
      },
      "source": [
        "X = tf.range(-100,100,4)"
      ],
      "execution_count": 135,
      "outputs": []
    },
    {
      "cell_type": "code",
      "metadata": {
        "colab": {
          "base_uri": "https://localhost:8080/"
        },
        "id": "rP2bXzUjK2Dp",
        "outputId": "58e8d793-7d94-4da4-9b70-00d4865bf5d9"
      },
      "source": [
        "X"
      ],
      "execution_count": 136,
      "outputs": [
        {
          "output_type": "execute_result",
          "data": {
            "text/plain": [
              "<tf.Tensor: shape=(50,), dtype=int32, numpy=\n",
              "array([-100,  -96,  -92,  -88,  -84,  -80,  -76,  -72,  -68,  -64,  -60,\n",
              "        -56,  -52,  -48,  -44,  -40,  -36,  -32,  -28,  -24,  -20,  -16,\n",
              "        -12,   -8,   -4,    0,    4,    8,   12,   16,   20,   24,   28,\n",
              "         32,   36,   40,   44,   48,   52,   56,   60,   64,   68,   72,\n",
              "         76,   80,   84,   88,   92,   96], dtype=int32)>"
            ]
          },
          "metadata": {},
          "execution_count": 136
        }
      ]
    },
    {
      "cell_type": "code",
      "metadata": {
        "id": "84yOAKFlK2XZ"
      },
      "source": [
        "y = X + 10"
      ],
      "execution_count": 137,
      "outputs": []
    },
    {
      "cell_type": "code",
      "metadata": {
        "colab": {
          "base_uri": "https://localhost:8080/"
        },
        "id": "k76nK5jtK5d4",
        "outputId": "bf4ad92d-629b-43a1-d89d-0f3e4e38a9ff"
      },
      "source": [
        "y"
      ],
      "execution_count": 138,
      "outputs": [
        {
          "output_type": "execute_result",
          "data": {
            "text/plain": [
              "<tf.Tensor: shape=(50,), dtype=int32, numpy=\n",
              "array([-90, -86, -82, -78, -74, -70, -66, -62, -58, -54, -50, -46, -42,\n",
              "       -38, -34, -30, -26, -22, -18, -14, -10,  -6,  -2,   2,   6,  10,\n",
              "        14,  18,  22,  26,  30,  34,  38,  42,  46,  50,  54,  58,  62,\n",
              "        66,  70,  74,  78,  82,  86,  90,  94,  98, 102, 106], dtype=int32)>"
            ]
          },
          "metadata": {},
          "execution_count": 138
        }
      ]
    },
    {
      "cell_type": "code",
      "metadata": {
        "id": "8TjmkZ2_K6Ls"
      },
      "source": [
        "X_train = X[:40]\n",
        "X_test = X[40:]\n",
        "Y_train = y[:40]\n",
        "Y_test = y[40:]"
      ],
      "execution_count": 141,
      "outputs": []
    },
    {
      "cell_type": "code",
      "metadata": {
        "colab": {
          "base_uri": "https://localhost:8080/",
          "height": 281
        },
        "id": "08wvmNA5LDJh",
        "outputId": "deddaed5-0b73-4222-cef9-34f00b6d574c"
      },
      "source": [
        "plt.scatter(X_train, Y_train, color='red', label='Train Values')\n",
        "plt.scatter(X_test, Y_test, color='green', label='Test Values')\n",
        "plt.legend()\n",
        "plt.title('Train and Test Values')\n",
        "plt.show()\n"
      ],
      "execution_count": 142,
      "outputs": [
        {
          "output_type": "display_data",
          "data": {
            "image/png": "[encoded data removed]",
            "text/plain": [
              "<Figure size 432x288 with 1 Axes>"
            ]
          },
          "metadata": {
            "needs_background": "light"
          }
        }
      ]
    },
    {
      "cell_type": "markdown",
      "metadata": {
        "id": "rfP5yPFjL15k"
      },
      "source": [
        "# Model . Summary"
      ]
    },
    {
      "cell_type": "code",
      "metadata": {
        "id": "S8W4mFM3LgIK"
      },
      "source": [
        "tf.random.set_seed(42)\n",
        "\n",
        "model_summary = tf.keras.Sequential([\n",
        "                                     tf.keras.layers.Dense(10, input_shape=[1]),\n",
        "                                     tf.keras.layers.Dense(1)\n",
        "])\n",
        "\n",
        "model_summary.compile(\n",
        "    loss = tf.keras.losses.mae,\n",
        "    optimizer = tf.keras.optimizers.Adam(learning_rate=0.1),\n",
        "    metrics=['mae']\n",
        ")\n",
        "\n"
      ],
      "execution_count": 159,
      "outputs": []
    },
    {
      "cell_type": "code",
      "metadata": {
        "colab": {
          "base_uri": "https://localhost:8080/"
        },
        "id": "0RsIqh2nMbYD",
        "outputId": "a9b7a776-51a5-43da-88b1-0eb47bdb4053"
      },
      "source": [
        "model_summary.summary()"
      ],
      "execution_count": 160,
      "outputs": [
        {
          "output_type": "stream",
          "name": "stdout",
          "text": [
            "Model: \"sequential_12\"\n",
            "_________________________________________________________________\n",
            " Layer (type)                Output Shape              Param #   \n",
            "=================================================================\n",
            " dense_19 (Dense)            (None, 10)                20        \n",
            "                                                                 \n",
            " dense_20 (Dense)            (None, 1)                 11        \n",
            "                                                                 \n",
            "=================================================================\n",
            "Total params: 31\n",
            "Trainable params: 31\n",
            "Non-trainable params: 0\n",
            "_________________________________________________________________\n"
          ]
        }
      ]
    },
    {
      "cell_type": "code",
      "metadata": {
        "colab": {
          "base_uri": "https://localhost:8080/"
        },
        "id": "mOXm-M4UMfQr",
        "outputId": "9ed5fe1a-ee25-496e-adba-27291db05ea5"
      },
      "source": [
        "model_summary.fit(tf.expand_dims(X, axis=1), y, epochs=100, verbose=0)"
      ],
      "execution_count": 161,
      "outputs": [
        {
          "output_type": "execute_result",
          "data": {
            "text/plain": [
              "<keras.callbacks.History at 0x7fb9c48ed150>"
            ]
          },
          "metadata": {},
          "execution_count": 161
        }
      ]
    },
    {
      "cell_type": "code",
      "metadata": {
        "colab": {
          "base_uri": "https://localhost:8080/",
          "height": 272
        },
        "id": "EVeyOsVAMu8a",
        "outputId": "001b8d36-3cc8-47f4-a6da-556a119fc58c"
      },
      "source": [
        "plot_model(model=model_summary)"
      ],
      "execution_count": 162,
      "outputs": [
        {
          "output_type": "execute_result",
          "data": {
            "image/png": "[encoded data removed]",
            "text/plain": [
              "<IPython.core.display.Image object>"
            ]
          },
          "metadata": {},
          "execution_count": 162
        }
      ]
    },
    {
      "cell_type": "code",
      "metadata": {
        "colab": {
          "base_uri": "https://localhost:8080/",
          "height": 312
        },
        "id": "ZYvz61kxM3tB",
        "outputId": "bf78d0c4-eb0b-4585-9452-47d6a0134a21"
      },
      "source": [
        "plot_model(model= model_summary, show_shapes=True)"
      ],
      "execution_count": 163,
      "outputs": [
        {
          "output_type": "execute_result",
          "data": {
            "image/png": "[encoded data removed]",
            "text/plain": [
              "<IPython.core.display.Image object>"
            ]
          },
          "metadata": {},
          "execution_count": 163
        }
      ]
    },
    {
      "cell_type": "code",
      "metadata": {
        "id": "wzBqqtBANCO3"
      },
      "source": [
        "Y_pred = model_summary.predict(X_test)"
      ],
      "execution_count": 164,
      "outputs": []
    },
    {
      "cell_type": "code",
      "metadata": {
        "colab": {
          "base_uri": "https://localhost:8080/"
        },
        "id": "2pPS_FGbNICS",
        "outputId": "84c26840-5057-4509-e0dc-76ca4d479524"
      },
      "source": [
        "Y_pred"
      ],
      "execution_count": 165,
      "outputs": [
        {
          "output_type": "execute_result",
          "data": {
            "text/plain": [
              "array([[ 70.23379 ],\n",
              "       [ 74.24999 ],\n",
              "       [ 78.2662  ],\n",
              "       [ 82.28241 ],\n",
              "       [ 86.29862 ],\n",
              "       [ 90.31483 ],\n",
              "       [ 94.33103 ],\n",
              "       [ 98.347244],\n",
              "       [102.36345 ],\n",
              "       [106.37966 ]], dtype=float32)"
            ]
          },
          "metadata": {},
          "execution_count": 165
        }
      ]
    },
    {
      "cell_type": "code",
      "metadata": {
        "colab": {
          "base_uri": "https://localhost:8080/"
        },
        "id": "RLmE2yKANJhf",
        "outputId": "c432f420-6beb-4752-e766-f2ae8105373a"
      },
      "source": [
        "Y_pred.shape, X_test.shape"
      ],
      "execution_count": 166,
      "outputs": [
        {
          "output_type": "execute_result",
          "data": {
            "text/plain": [
              "((10, 1), TensorShape([10]))"
            ]
          },
          "metadata": {},
          "execution_count": 166
        }
      ]
    },
    {
      "cell_type": "code",
      "metadata": {
        "id": "Sn0hVs3TNNKs"
      },
      "source": [
        "Y_pred_squeeze = tf.squeeze(Y_pred)"
      ],
      "execution_count": 167,
      "outputs": []
    },
    {
      "cell_type": "code",
      "metadata": {
        "colab": {
          "base_uri": "https://localhost:8080/"
        },
        "id": "V-VVFI4BNSdx",
        "outputId": "87b2aa87-ccaf-4441-a562-80ed77fe3dfb"
      },
      "source": [
        "Y_pred_squeeze.shape, X_test.shape"
      ],
      "execution_count": 168,
      "outputs": [
        {
          "output_type": "execute_result",
          "data": {
            "text/plain": [
              "(TensorShape([10]), TensorShape([10]))"
            ]
          },
          "metadata": {},
          "execution_count": 168
        }
      ]
    },
    {
      "cell_type": "markdown",
      "metadata": {
        "id": "vnl_Y32MNctb"
      },
      "source": [
        "# Visualizing Predictions"
      ]
    },
    {
      "cell_type": "code",
      "metadata": {
        "id": "xoBj7rCQNZ2N"
      },
      "source": [
        "def plot_predictions(\n",
        "    train_data = X_train,\n",
        "    train_label = Y_train,\n",
        "    test_data = X_test,\n",
        "    test_label = Y_test,\n",
        "    predictions = Y_pred_squeeze):\n",
        "  \n",
        "    plt.scatter(train_data, train_label, color='red', label='Train Values')\n",
        "    plt.scatter(test_data, test_label, color='blue', label='Test Values')\n",
        "    plt.scatter(predictions, test_data, color='green', label='Predictions With X Value')\n",
        "    plt.legend()\n",
        "    plt.title('Train and Test Values With Predictions')\n",
        "    "
      ],
      "execution_count": 169,
      "outputs": []
    },
    {
      "cell_type": "code",
      "metadata": {
        "colab": {
          "base_uri": "https://localhost:8080/",
          "height": 281
        },
        "id": "-Qka04y5Nsjs",
        "outputId": "ca7067a1-cd9d-41e8-c548-6c7b7ced5e8d"
      },
      "source": [
        "plot_predictions();"
      ],
      "execution_count": 170,
      "outputs": [
        {
          "output_type": "display_data",
          "data": {
            "image/png": "[encoded data removed]",
            "text/plain": [
              "<Figure size 432x288 with 1 Axes>"
            ]
          },
          "metadata": {
            "needs_background": "light"
          }
        }
      ]
    },
    {
      "cell_type": "code",
      "metadata": {
        "id": "h_2aT1gtOcMC"
      },
      "source": [
        "def mae(y_true, y_pred):\n",
        "  return tf.metrics.mean_absolute_error(y_true= Y_test, y_pred= Y_pred_squeeze)"
      ],
      "execution_count": 171,
      "outputs": []
    },
    {
      "cell_type": "code",
      "metadata": {
        "id": "TRyMi4u8O39Y"
      },
      "source": [
        "def mse(y_true, y_pred):\n",
        "  return tf.metrics.mean_squared_error(y_true = Y_test, y_pred= Y_pred_squeeze)"
      ],
      "execution_count": 172,
      "outputs": []
    },
    {
      "cell_type": "markdown",
      "metadata": {
        "id": "Ok6y_8_1PEJK"
      },
      "source": [
        "# Modelling Experiments"
      ]
    },
    {
      "cell_type": "markdown",
      "metadata": {
        "id": "Rz9Iunh_PJX_"
      },
      "source": [
        "# Model A"
      ]
    },
    {
      "cell_type": "code",
      "metadata": {
        "colab": {
          "base_uri": "https://localhost:8080/"
        },
        "id": "d0Lu_VKXPBHa",
        "outputId": "2b1d78f3-e3ed-43ad-c301-37ac47ee7ea3"
      },
      "source": [
        "tf.random.set_seed(42)\n",
        "\n",
        "model_A = tf.keras.Sequential([\n",
        "                               tf.keras.layers.Dense(1)\n",
        "])\n",
        "model_A.compile(\n",
        "    loss = tf.keras.losses.mae,\n",
        "    optimizer = tf.keras.optimizers.SGD(),\n",
        "    metrics=['mae']\n",
        ")\n",
        "\n",
        "model_A.fit(tf.expand_dims(X_train, axis=1), Y_train, epochs=5)"
      ],
      "execution_count": 179,
      "outputs": [
        {
          "output_type": "stream",
          "name": "stdout",
          "text": [
            "Epoch 1/5\n",
            "2/2 [==============================] - 0s 6ms/step - loss: 15.9024 - mae: 15.9024\n",
            "Epoch 2/5\n",
            "2/2 [==============================] - 0s 6ms/step - loss: 11.2837 - mae: 11.2837\n",
            "Epoch 3/5\n",
            "2/2 [==============================] - 0s 7ms/step - loss: 11.1074 - mae: 11.1074\n",
            "Epoch 4/5\n",
            "2/2 [==============================] - 0s 6ms/step - loss: 9.2991 - mae: 9.2991\n",
            "Epoch 5/5\n",
            "2/2 [==============================] - 0s 8ms/step - loss: 10.1677 - mae: 10.1677\n"
          ]
        },
        {
          "output_type": "execute_result",
          "data": {
            "text/plain": [
              "<keras.callbacks.History at 0x7fba42aac450>"
            ]
          },
          "metadata": {},
          "execution_count": 179
        }
      ]
    },
    {
      "cell_type": "code",
      "metadata": {
        "colab": {
          "base_uri": "https://localhost:8080/"
        },
        "id": "0wW7Q6AWPrNC",
        "outputId": "759f6d7f-96a6-4611-b1d2-04c911742045"
      },
      "source": [
        "model_A.evaluate(X_train,Y_train)"
      ],
      "execution_count": 181,
      "outputs": [
        {
          "output_type": "stream",
          "name": "stdout",
          "text": [
            "2/2 [==============================] - 0s 8ms/step - loss: 9.7169 - mae: 9.7169\n"
          ]
        },
        {
          "output_type": "execute_result",
          "data": {
            "text/plain": [
              "[9.71694278717041, 9.71694278717041]"
            ]
          },
          "metadata": {},
          "execution_count": 181
        }
      ]
    },
    {
      "cell_type": "code",
      "metadata": {
        "id": "B9hUoYQePvO7"
      },
      "source": [
        "y_pred_1 = model_A.predict(X_test)"
      ],
      "execution_count": 182,
      "outputs": []
    },
    {
      "cell_type": "code",
      "metadata": {
        "id": "5gdZ1e7LSBDi"
      },
      "source": [
        "mae_1 = mae(Y_test,y_pred_1 )"
      ],
      "execution_count": 192,
      "outputs": []
    },
    {
      "cell_type": "code",
      "metadata": {
        "id": "BMtLQKcZSG37"
      },
      "source": [
        "mse_1 = mse(Y_test, y_pred_1)"
      ],
      "execution_count": 193,
      "outputs": []
    },
    {
      "cell_type": "code",
      "metadata": {
        "colab": {
          "base_uri": "https://localhost:8080/",
          "height": 281
        },
        "id": "s-oGufz8P0gp",
        "outputId": "65125974-3487-42f5-f94f-0c3c1b3044b4"
      },
      "source": [
        "plot_predictions(predictions=y_pred_1)"
      ],
      "execution_count": 183,
      "outputs": [
        {
          "output_type": "display_data",
          "data": {
            "image/png": "[encoded data removed]",
            "text/plain": [
              "<Figure size 432x288 with 1 Axes>"
            ]
          },
          "metadata": {
            "needs_background": "light"
          }
        }
      ]
    },
    {
      "cell_type": "markdown",
      "metadata": {
        "id": "o5POqZj-P_HE"
      },
      "source": [
        "# Model No B"
      ]
    },
    {
      "cell_type": "code",
      "metadata": {
        "colab": {
          "base_uri": "https://localhost:8080/"
        },
        "id": "8_JmcSzlP7Nd",
        "outputId": "61199fbe-b24d-462b-acd4-02301b7e67aa"
      },
      "source": [
        "tf.random.set_seed(42)\n",
        "\n",
        "model_B = tf.keras.Sequential([\n",
        "                               tf.keras.layers.Dense(10),\n",
        "                               tf.keras.layers.Dense(1)\n",
        "])\n",
        "\n",
        "model_B.compile(\n",
        "    loss = tf.keras.losses.mae,\n",
        "    optimizer = tf.keras.optimizers.SGD(),\n",
        "    metrics=['mae']\n",
        ")\n",
        "\n",
        "model_B.fit(tf.expand_dims(X_train, axis=1), Y_train, epochs=100)"
      ],
      "execution_count": 184,
      "outputs": [
        {
          "output_type": "stream",
          "name": "stdout",
          "text": [
            "Epoch 1/100\n",
            "2/2 [==============================] - 0s 6ms/step - loss: 27.4058 - mae: 27.4058\n",
            "Epoch 2/100\n",
            "2/2 [==============================] - 0s 5ms/step - loss: 24.6339 - mae: 24.6339\n",
            "Epoch 3/100\n",
            "2/2 [==============================] - 0s 7ms/step - loss: 29.8935 - mae: 29.8935\n",
            "Epoch 4/100\n",
            "2/2 [==============================] - 0s 6ms/step - loss: 27.4055 - mae: 27.4055\n",
            "Epoch 5/100\n",
            "2/2 [==============================] - 0s 7ms/step - loss: 14.9463 - mae: 14.9463\n",
            "Epoch 6/100\n",
            "2/2 [==============================] - 0s 15ms/step - loss: 11.8819 - mae: 11.8819\n",
            "Epoch 7/100\n",
            "2/2 [==============================] - 0s 7ms/step - loss: 11.1988 - mae: 11.1988\n",
            "Epoch 8/100\n",
            "2/2 [==============================] - 0s 11ms/step - loss: 11.0910 - mae: 11.0910\n",
            "Epoch 9/100\n",
            "2/2 [==============================] - 0s 7ms/step - loss: 40.4763 - mae: 40.4763\n",
            "Epoch 10/100\n",
            "2/2 [==============================] - 0s 16ms/step - loss: 27.8688 - mae: 27.8688\n",
            "Epoch 11/100\n",
            "2/2 [==============================] - 0s 6ms/step - loss: 10.2473 - mae: 10.2473\n",
            "Epoch 12/100\n",
            "2/2 [==============================] - 0s 7ms/step - loss: 25.2803 - mae: 25.2803\n",
            "Epoch 13/100\n",
            "2/2 [==============================] - 0s 9ms/step - loss: 16.9897 - mae: 16.9897\n",
            "Epoch 14/100\n",
            "2/2 [==============================] - 0s 9ms/step - loss: 25.9217 - mae: 25.9217\n",
            "Epoch 15/100\n",
            "2/2 [==============================] - 0s 8ms/step - loss: 17.9948 - mae: 17.9948\n",
            "Epoch 16/100\n",
            "2/2 [==============================] - 0s 7ms/step - loss: 7.3510 - mae: 7.3510\n",
            "Epoch 17/100\n",
            "2/2 [==============================] - 0s 8ms/step - loss: 10.8636 - mae: 10.8636\n",
            "Epoch 18/100\n",
            "2/2 [==============================] - 0s 9ms/step - loss: 19.5304 - mae: 19.5304\n",
            "Epoch 19/100\n",
            "2/2 [==============================] - 0s 10ms/step - loss: 10.3469 - mae: 10.3469\n",
            "Epoch 20/100\n",
            "2/2 [==============================] - 0s 8ms/step - loss: 17.6985 - mae: 17.6985\n",
            "Epoch 21/100\n",
            "2/2 [==============================] - 0s 8ms/step - loss: 15.8984 - mae: 15.8984\n",
            "Epoch 22/100\n",
            "2/2 [==============================] - 0s 7ms/step - loss: 14.1991 - mae: 14.1991\n",
            "Epoch 23/100\n",
            "2/2 [==============================] - 0s 11ms/step - loss: 8.7720 - mae: 8.7720\n",
            "Epoch 24/100\n",
            "2/2 [==============================] - 0s 8ms/step - loss: 11.0570 - mae: 11.0570\n",
            "Epoch 25/100\n",
            "2/2 [==============================] - 0s 13ms/step - loss: 12.6838 - mae: 12.6838\n",
            "Epoch 26/100\n",
            "2/2 [==============================] - 0s 11ms/step - loss: 26.1877 - mae: 26.1877\n",
            "Epoch 27/100\n",
            "2/2 [==============================] - 0s 9ms/step - loss: 11.7432 - mae: 11.7432\n",
            "Epoch 28/100\n",
            "2/2 [==============================] - 0s 8ms/step - loss: 22.8730 - mae: 22.8730\n",
            "Epoch 29/100\n",
            "2/2 [==============================] - 0s 9ms/step - loss: 9.2459 - mae: 9.2459\n",
            "Epoch 30/100\n",
            "2/2 [==============================] - 0s 11ms/step - loss: 29.2641 - mae: 29.2641\n",
            "Epoch 31/100\n",
            "2/2 [==============================] - 0s 7ms/step - loss: 53.0225 - mae: 53.0225\n",
            "Epoch 32/100\n",
            "2/2 [==============================] - 0s 8ms/step - loss: 11.9951 - mae: 11.9951\n",
            "Epoch 33/100\n",
            "2/2 [==============================] - 0s 6ms/step - loss: 15.6357 - mae: 15.6357\n",
            "Epoch 34/100\n",
            "2/2 [==============================] - 0s 5ms/step - loss: 12.6925 - mae: 12.6925\n",
            "Epoch 35/100\n",
            "2/2 [==============================] - 0s 5ms/step - loss: 9.2398 - mae: 9.2398\n",
            "Epoch 36/100\n",
            "2/2 [==============================] - 0s 7ms/step - loss: 16.6497 - mae: 16.6497\n",
            "Epoch 37/100\n",
            "2/2 [==============================] - 0s 8ms/step - loss: 11.0382 - mae: 11.0382\n",
            "Epoch 38/100\n",
            "2/2 [==============================] - 0s 11ms/step - loss: 18.1634 - mae: 18.1634\n",
            "Epoch 39/100\n",
            "2/2 [==============================] - 0s 8ms/step - loss: 19.1013 - mae: 19.1013\n",
            "Epoch 40/100\n",
            "2/2 [==============================] - 0s 9ms/step - loss: 20.4324 - mae: 20.4324\n",
            "Epoch 41/100\n",
            "2/2 [==============================] - 0s 7ms/step - loss: 14.9102 - mae: 14.9102\n",
            "Epoch 42/100\n",
            "2/2 [==============================] - 0s 7ms/step - loss: 12.2809 - mae: 12.2809\n",
            "Epoch 43/100\n",
            "2/2 [==============================] - 0s 7ms/step - loss: 10.7333 - mae: 10.7333\n",
            "Epoch 44/100\n",
            "2/2 [==============================] - 0s 7ms/step - loss: 23.0260 - mae: 23.0260\n",
            "Epoch 45/100\n",
            "2/2 [==============================] - 0s 9ms/step - loss: 10.3897 - mae: 10.3897\n",
            "Epoch 46/100\n",
            "2/2 [==============================] - 0s 7ms/step - loss: 11.7904 - mae: 11.7904\n",
            "Epoch 47/100\n",
            "2/2 [==============================] - 0s 7ms/step - loss: 9.6438 - mae: 9.6438\n",
            "Epoch 48/100\n",
            "2/2 [==============================] - 0s 8ms/step - loss: 17.2335 - mae: 17.2335\n",
            "Epoch 49/100\n",
            "2/2 [==============================] - 0s 7ms/step - loss: 9.5729 - mae: 9.5729\n",
            "Epoch 50/100\n",
            "2/2 [==============================] - 0s 7ms/step - loss: 13.8185 - mae: 13.8185\n",
            "Epoch 51/100\n",
            "2/2 [==============================] - 0s 9ms/step - loss: 11.5958 - mae: 11.5958\n",
            "Epoch 52/100\n",
            "2/2 [==============================] - 0s 7ms/step - loss: 30.5538 - mae: 30.5538\n",
            "Epoch 53/100\n",
            "2/2 [==============================] - 0s 6ms/step - loss: 14.3541 - mae: 14.3541\n",
            "Epoch 54/100\n",
            "2/2 [==============================] - 0s 7ms/step - loss: 23.9713 - mae: 23.9713\n",
            "Epoch 55/100\n",
            "2/2 [==============================] - 0s 8ms/step - loss: 23.1938 - mae: 23.1938\n",
            "Epoch 56/100\n",
            "2/2 [==============================] - 0s 9ms/step - loss: 10.8837 - mae: 10.8837\n",
            "Epoch 57/100\n",
            "2/2 [==============================] - 0s 9ms/step - loss: 12.7445 - mae: 12.7445\n",
            "Epoch 58/100\n",
            "2/2 [==============================] - 0s 11ms/step - loss: 9.5995 - mae: 9.5995\n",
            "Epoch 59/100\n",
            "2/2 [==============================] - 0s 11ms/step - loss: 12.5172 - mae: 12.5172\n",
            "Epoch 60/100\n",
            "2/2 [==============================] - 0s 11ms/step - loss: 12.3200 - mae: 12.3200\n",
            "Epoch 61/100\n",
            "2/2 [==============================] - 0s 9ms/step - loss: 17.4604 - mae: 17.4604\n",
            "Epoch 62/100\n",
            "2/2 [==============================] - 0s 7ms/step - loss: 10.6052 - mae: 10.6052\n",
            "Epoch 63/100\n",
            "2/2 [==============================] - 0s 10ms/step - loss: 10.4893 - mae: 10.4893\n",
            "Epoch 64/100\n",
            "2/2 [==============================] - 0s 10ms/step - loss: 24.8450 - mae: 24.8450\n",
            "Epoch 65/100\n",
            "2/2 [==============================] - 0s 8ms/step - loss: 10.6761 - mae: 10.6761\n",
            "Epoch 66/100\n",
            "2/2 [==============================] - 0s 8ms/step - loss: 21.7809 - mae: 21.7809\n",
            "Epoch 67/100\n",
            "2/2 [==============================] - 0s 10ms/step - loss: 10.7136 - mae: 10.7136\n",
            "Epoch 68/100\n",
            "2/2 [==============================] - 0s 9ms/step - loss: 10.6397 - mae: 10.6397\n",
            "Epoch 69/100\n",
            "2/2 [==============================] - 0s 10ms/step - loss: 22.6914 - mae: 22.6914\n",
            "Epoch 70/100\n",
            "2/2 [==============================] - 0s 8ms/step - loss: 9.3316 - mae: 9.3316\n",
            "Epoch 71/100\n",
            "2/2 [==============================] - 0s 17ms/step - loss: 15.4355 - mae: 15.4355\n",
            "Epoch 72/100\n",
            "2/2 [==============================] - 0s 11ms/step - loss: 6.7437 - mae: 6.7437\n",
            "Epoch 73/100\n",
            "2/2 [==============================] - 0s 8ms/step - loss: 11.6891 - mae: 11.6891\n",
            "Epoch 74/100\n",
            "2/2 [==============================] - 0s 5ms/step - loss: 24.0400 - mae: 24.0400\n",
            "Epoch 75/100\n",
            "2/2 [==============================] - 0s 9ms/step - loss: 9.5896 - mae: 9.5896\n",
            "Epoch 76/100\n",
            "2/2 [==============================] - 0s 9ms/step - loss: 12.4371 - mae: 12.4371\n",
            "Epoch 77/100\n",
            "2/2 [==============================] - 0s 12ms/step - loss: 16.6489 - mae: 16.6489\n",
            "Epoch 78/100\n",
            "2/2 [==============================] - 0s 10ms/step - loss: 9.0614 - mae: 9.0614\n",
            "Epoch 79/100\n",
            "2/2 [==============================] - 0s 10ms/step - loss: 23.9675 - mae: 23.9675\n",
            "Epoch 80/100\n",
            "2/2 [==============================] - 0s 11ms/step - loss: 26.7463 - mae: 26.7463\n",
            "Epoch 81/100\n",
            "2/2 [==============================] - 0s 8ms/step - loss: 11.6714 - mae: 11.6714\n",
            "Epoch 82/100\n",
            "2/2 [==============================] - 0s 12ms/step - loss: 12.0228 - mae: 12.0228\n",
            "Epoch 83/100\n",
            "2/2 [==============================] - 0s 8ms/step - loss: 17.4218 - mae: 17.4218\n",
            "Epoch 84/100\n",
            "2/2 [==============================] - 0s 8ms/step - loss: 7.2629 - mae: 7.2629\n",
            "Epoch 85/100\n",
            "2/2 [==============================] - 0s 11ms/step - loss: 14.9650 - mae: 14.9650\n",
            "Epoch 86/100\n",
            "2/2 [==============================] - 0s 9ms/step - loss: 15.2862 - mae: 15.2862\n",
            "Epoch 87/100\n",
            "2/2 [==============================] - 0s 10ms/step - loss: 19.1086 - mae: 19.1086\n",
            "Epoch 88/100\n",
            "2/2 [==============================] - 0s 10ms/step - loss: 29.8229 - mae: 29.8229\n",
            "Epoch 89/100\n",
            "2/2 [==============================] - 0s 11ms/step - loss: 10.1742 - mae: 10.1742\n",
            "Epoch 90/100\n",
            "2/2 [==============================] - 0s 7ms/step - loss: 21.5240 - mae: 21.5240\n",
            "Epoch 91/100\n",
            "2/2 [==============================] - 0s 13ms/step - loss: 10.5716 - mae: 10.5716\n",
            "Epoch 92/100\n",
            "2/2 [==============================] - 0s 10ms/step - loss: 18.3977 - mae: 18.3977\n",
            "Epoch 93/100\n",
            "2/2 [==============================] - 0s 10ms/step - loss: 7.4138 - mae: 7.4138\n",
            "Epoch 94/100\n",
            "2/2 [==============================] - 0s 8ms/step - loss: 17.7380 - mae: 17.7380\n",
            "Epoch 95/100\n",
            "2/2 [==============================] - 0s 8ms/step - loss: 11.1144 - mae: 11.1144\n",
            "Epoch 96/100\n",
            "2/2 [==============================] - 0s 13ms/step - loss: 19.4346 - mae: 19.4346\n",
            "Epoch 97/100\n",
            "2/2 [==============================] - 0s 14ms/step - loss: 12.1593 - mae: 12.1593\n",
            "Epoch 98/100\n",
            "2/2 [==============================] - 0s 8ms/step - loss: 11.5653 - mae: 11.5653\n",
            "Epoch 99/100\n",
            "2/2 [==============================] - 0s 10ms/step - loss: 13.8827 - mae: 13.8827\n",
            "Epoch 100/100\n",
            "2/2 [==============================] - 0s 10ms/step - loss: 20.2277 - mae: 20.2277\n"
          ]
        },
        {
          "output_type": "execute_result",
          "data": {
            "text/plain": [
              "<keras.callbacks.History at 0x7fba428bb390>"
            ]
          },
          "metadata": {},
          "execution_count": 184
        }
      ]
    },
    {
      "cell_type": "code",
      "metadata": {
        "colab": {
          "base_uri": "https://localhost:8080/"
        },
        "id": "dMODbSwuQXK5",
        "outputId": "2fb05c2d-da56-492b-8d79-a55eab68f72a"
      },
      "source": [
        "model_B.evaluate(X_train,Y_train)"
      ],
      "execution_count": 185,
      "outputs": [
        {
          "output_type": "stream",
          "name": "stdout",
          "text": [
            "2/2 [==============================] - 0s 8ms/step - loss: 11.4961 - mae: 11.4961\n"
          ]
        },
        {
          "output_type": "execute_result",
          "data": {
            "text/plain": [
              "[11.496147155761719, 11.496147155761719]"
            ]
          },
          "metadata": {},
          "execution_count": 185
        }
      ]
    },
    {
      "cell_type": "code",
      "metadata": {
        "id": "ma75FNOTQ1Bw"
      },
      "source": [
        "y_pred_2 = model_B.predict(X_test)\n"
      ],
      "execution_count": 186,
      "outputs": []
    },
    {
      "cell_type": "code",
      "metadata": {
        "id": "yJ4crUAQSMwm"
      },
      "source": [
        "mae_2 = mae(Y_test, y_pred_2)"
      ],
      "execution_count": 194,
      "outputs": []
    },
    {
      "cell_type": "code",
      "metadata": {
        "id": "CwnEoqLNSRwt"
      },
      "source": [
        "mse_2 = mse(Y_test, y_pred_2)"
      ],
      "execution_count": 195,
      "outputs": []
    },
    {
      "cell_type": "code",
      "metadata": {
        "colab": {
          "base_uri": "https://localhost:8080/",
          "height": 281
        },
        "id": "OOky4I8mQ8Ap",
        "outputId": "381e3662-cc21-42b7-8e2c-f5fe508ed422"
      },
      "source": [
        "plot_predictions(predictions= y_pred_2)"
      ],
      "execution_count": 187,
      "outputs": [
        {
          "output_type": "display_data",
          "data": {
            "image/png": "[encoded data removed]",
            "text/plain": [
              "<Figure size 432x288 with 1 Axes>"
            ]
          },
          "metadata": {
            "needs_background": "light"
          }
        }
      ]
    },
    {
      "cell_type": "markdown",
      "metadata": {
        "id": "w-P-GRdiRBF9"
      },
      "source": [
        "# Model No C"
      ]
    },
    {
      "cell_type": "code",
      "metadata": {
        "colab": {
          "base_uri": "https://localhost:8080/"
        },
        "id": "wpLdedSDQ_4Y",
        "outputId": "dcc66bef-90f5-431d-f764-5d5a47d6efc2"
      },
      "source": [
        "tf.random.set_seed(42)\n",
        "\n",
        "model_C = tf.keras.Sequential([\n",
        "                               tf.keras.layers.Dense(10),\n",
        "                               tf.keras.layers.Dense(1)\n",
        "])\n",
        "\n",
        "model_C.compile(\n",
        "    loss = tf.keras.losses.mae,\n",
        "    optimizer = tf.keras.optimizers.Adam(learning_rate=0.1)\n",
        ")\n",
        "model_C.fit(tf.expand_dims(X_train, axis=1), Y_train, epochs=500)\n",
        "\n"
      ],
      "execution_count": 188,
      "outputs": [
        {
          "output_type": "stream",
          "name": "stdout",
          "text": [
            "Epoch 1/500\n",
            "2/2 [==============================] - 0s 9ms/step - loss: 23.1334\n",
            "Epoch 2/500\n",
            "2/2 [==============================] - 0s 8ms/step - loss: 13.8879\n",
            "Epoch 3/500\n",
            "2/2 [==============================] - 0s 8ms/step - loss: 11.2354\n",
            "Epoch 4/500\n",
            "2/2 [==============================] - 0s 5ms/step - loss: 9.9052\n",
            "Epoch 5/500\n",
            "2/2 [==============================] - 0s 9ms/step - loss: 11.6202\n",
            "Epoch 6/500\n",
            "2/2 [==============================] - 0s 7ms/step - loss: 13.3254\n",
            "Epoch 7/500\n",
            "2/2 [==============================] - 0s 8ms/step - loss: 6.4085\n",
            "Epoch 8/500\n",
            "2/2 [==============================] - 0s 5ms/step - loss: 12.4448\n",
            "Epoch 9/500\n",
            "2/2 [==============================] - 0s 9ms/step - loss: 8.3798\n",
            "Epoch 10/500\n",
            "2/2 [==============================] - 0s 9ms/step - loss: 7.1615\n",
            "Epoch 11/500\n",
            "2/2 [==============================] - 0s 8ms/step - loss: 11.3141\n",
            "Epoch 12/500\n",
            "2/2 [==============================] - 0s 5ms/step - loss: 5.8087\n",
            "Epoch 13/500\n",
            "2/2 [==============================] - 0s 6ms/step - loss: 7.3715\n",
            "Epoch 14/500\n",
            "2/2 [==============================] - 0s 9ms/step - loss: 6.4812\n",
            "Epoch 15/500\n",
            "2/2 [==============================] - 0s 7ms/step - loss: 4.5382\n",
            "Epoch 16/500\n",
            "2/2 [==============================] - 0s 9ms/step - loss: 7.1655\n",
            "Epoch 17/500\n",
            "2/2 [==============================] - 0s 6ms/step - loss: 3.1583\n",
            "Epoch 18/500\n",
            "2/2 [==============================] - 0s 8ms/step - loss: 6.5485\n",
            "Epoch 19/500\n",
            "2/2 [==============================] - 0s 7ms/step - loss: 3.4809\n",
            "Epoch 20/500\n",
            "2/2 [==============================] - 0s 12ms/step - loss: 3.3694\n",
            "Epoch 21/500\n",
            "2/2 [==============================] - 0s 8ms/step - loss: 0.9583\n",
            "Epoch 22/500\n",
            "2/2 [==============================] - 0s 9ms/step - loss: 3.8311\n",
            "Epoch 23/500\n",
            "2/2 [==============================] - 0s 6ms/step - loss: 1.0017\n",
            "Epoch 24/500\n",
            "2/2 [==============================] - 0s 6ms/step - loss: 1.1192\n",
            "Epoch 25/500\n",
            "2/2 [==============================] - 0s 6ms/step - loss: 1.4279\n",
            "Epoch 26/500\n",
            "2/2 [==============================] - 0s 11ms/step - loss: 2.6687\n",
            "Epoch 27/500\n",
            "2/2 [==============================] - 0s 10ms/step - loss: 1.0154\n",
            "Epoch 28/500\n",
            "2/2 [==============================] - 0s 7ms/step - loss: 3.7084\n",
            "Epoch 29/500\n",
            "2/2 [==============================] - 0s 7ms/step - loss: 1.5156\n",
            "Epoch 30/500\n",
            "2/2 [==============================] - 0s 6ms/step - loss: 1.4539\n",
            "Epoch 31/500\n",
            "2/2 [==============================] - 0s 6ms/step - loss: 0.8656\n",
            "Epoch 32/500\n",
            "2/2 [==============================] - 0s 5ms/step - loss: 0.5269\n",
            "Epoch 33/500\n",
            "2/2 [==============================] - 0s 5ms/step - loss: 0.6120\n",
            "Epoch 34/500\n",
            "2/2 [==============================] - 0s 8ms/step - loss: 1.0395\n",
            "Epoch 35/500\n",
            "2/2 [==============================] - 0s 9ms/step - loss: 0.9427\n",
            "Epoch 36/500\n",
            "2/2 [==============================] - 0s 5ms/step - loss: 0.6392\n",
            "Epoch 37/500\n",
            "2/2 [==============================] - 0s 5ms/step - loss: 1.0779\n",
            "Epoch 38/500\n",
            "2/2 [==============================] - 0s 8ms/step - loss: 0.6690\n",
            "Epoch 39/500\n",
            "2/2 [==============================] - 0s 9ms/step - loss: 1.4951\n",
            "Epoch 40/500\n",
            "2/2 [==============================] - 0s 8ms/step - loss: 0.6381\n",
            "Epoch 41/500\n",
            "2/2 [==============================] - 0s 10ms/step - loss: 0.3789\n",
            "Epoch 42/500\n",
            "2/2 [==============================] - 0s 11ms/step - loss: 0.7730\n",
            "Epoch 43/500\n",
            "2/2 [==============================] - 0s 9ms/step - loss: 3.0366\n",
            "Epoch 44/500\n",
            "2/2 [==============================] - 0s 9ms/step - loss: 0.8952\n",
            "Epoch 45/500\n",
            "2/2 [==============================] - 0s 14ms/step - loss: 0.9240\n",
            "Epoch 46/500\n",
            "2/2 [==============================] - 0s 9ms/step - loss: 2.5373\n",
            "Epoch 47/500\n",
            "2/2 [==============================] - 0s 6ms/step - loss: 1.1345\n",
            "Epoch 48/500\n",
            "2/2 [==============================] - 0s 10ms/step - loss: 0.3896\n",
            "Epoch 49/500\n",
            "2/2 [==============================] - 0s 6ms/step - loss: 0.5909\n",
            "Epoch 50/500\n",
            "2/2 [==============================] - 0s 8ms/step - loss: 0.7337\n",
            "Epoch 51/500\n",
            "2/2 [==============================] - 0s 10ms/step - loss: 1.9027\n",
            "Epoch 52/500\n",
            "2/2 [==============================] - 0s 7ms/step - loss: 2.9193\n",
            "Epoch 53/500\n",
            "2/2 [==============================] - 0s 14ms/step - loss: 2.3779\n",
            "Epoch 54/500\n",
            "2/2 [==============================] - 0s 13ms/step - loss: 4.9908\n",
            "Epoch 55/500\n",
            "2/2 [==============================] - 0s 7ms/step - loss: 6.8626\n",
            "Epoch 56/500\n",
            "2/2 [==============================] - 0s 10ms/step - loss: 2.7196\n",
            "Epoch 57/500\n",
            "2/2 [==============================] - 0s 10ms/step - loss: 3.3302\n",
            "Epoch 58/500\n",
            "2/2 [==============================] - 0s 12ms/step - loss: 1.4603\n",
            "Epoch 59/500\n",
            "2/2 [==============================] - 0s 4ms/step - loss: 3.7541\n",
            "Epoch 60/500\n",
            "2/2 [==============================] - 0s 5ms/step - loss: 1.6879\n",
            "Epoch 61/500\n",
            "2/2 [==============================] - 0s 7ms/step - loss: 3.3641\n",
            "Epoch 62/500\n",
            "2/2 [==============================] - 0s 8ms/step - loss: 0.9718\n",
            "Epoch 63/500\n",
            "2/2 [==============================] - 0s 5ms/step - loss: 3.8960\n",
            "Epoch 64/500\n",
            "2/2 [==============================] - 0s 5ms/step - loss: 1.4545\n",
            "Epoch 65/500\n",
            "2/2 [==============================] - 0s 9ms/step - loss: 4.1731\n",
            "Epoch 66/500\n",
            "2/2 [==============================] - 0s 5ms/step - loss: 1.4872\n",
            "Epoch 67/500\n",
            "2/2 [==============================] - 0s 5ms/step - loss: 4.7152\n",
            "Epoch 68/500\n",
            "2/2 [==============================] - 0s 5ms/step - loss: 2.4089\n",
            "Epoch 69/500\n",
            "2/2 [==============================] - 0s 5ms/step - loss: 1.6996\n",
            "Epoch 70/500\n",
            "2/2 [==============================] - 0s 8ms/step - loss: 1.1621\n",
            "Epoch 71/500\n",
            "2/2 [==============================] - 0s 8ms/step - loss: 0.3776\n",
            "Epoch 72/500\n",
            "2/2 [==============================] - 0s 9ms/step - loss: 1.6692\n",
            "Epoch 73/500\n",
            "2/2 [==============================] - 0s 9ms/step - loss: 0.4670\n",
            "Epoch 74/500\n",
            "2/2 [==============================] - 0s 9ms/step - loss: 1.9667\n",
            "Epoch 75/500\n",
            "2/2 [==============================] - 0s 6ms/step - loss: 1.1964\n",
            "Epoch 76/500\n",
            "2/2 [==============================] - 0s 7ms/step - loss: 2.0503\n",
            "Epoch 77/500\n",
            "2/2 [==============================] - 0s 7ms/step - loss: 2.0874\n",
            "Epoch 78/500\n",
            "2/2 [==============================] - 0s 8ms/step - loss: 1.7045\n",
            "Epoch 79/500\n",
            "2/2 [==============================] - 0s 8ms/step - loss: 0.7143\n",
            "Epoch 80/500\n",
            "2/2 [==============================] - 0s 7ms/step - loss: 2.8918\n",
            "Epoch 81/500\n",
            "2/2 [==============================] - 0s 5ms/step - loss: 2.7584\n",
            "Epoch 82/500\n",
            "2/2 [==============================] - 0s 9ms/step - loss: 2.3550\n",
            "Epoch 83/500\n",
            "2/2 [==============================] - 0s 8ms/step - loss: 1.6897\n",
            "Epoch 84/500\n",
            "2/2 [==============================] - 0s 8ms/step - loss: 2.3662\n",
            "Epoch 85/500\n",
            "2/2 [==============================] - 0s 6ms/step - loss: 0.5722\n",
            "Epoch 86/500\n",
            "2/2 [==============================] - 0s 6ms/step - loss: 0.9298\n",
            "Epoch 87/500\n",
            "2/2 [==============================] - 0s 6ms/step - loss: 1.4221\n",
            "Epoch 88/500\n",
            "2/2 [==============================] - 0s 5ms/step - loss: 2.9401\n",
            "Epoch 89/500\n",
            "2/2 [==============================] - 0s 9ms/step - loss: 2.7561\n",
            "Epoch 90/500\n",
            "2/2 [==============================] - 0s 7ms/step - loss: 3.1482\n",
            "Epoch 91/500\n",
            "2/2 [==============================] - 0s 7ms/step - loss: 4.4432\n",
            "Epoch 92/500\n",
            "2/2 [==============================] - 0s 6ms/step - loss: 1.1456\n",
            "Epoch 93/500\n",
            "2/2 [==============================] - 0s 6ms/step - loss: 6.6054\n",
            "Epoch 94/500\n",
            "2/2 [==============================] - 0s 6ms/step - loss: 4.5127\n",
            "Epoch 95/500\n",
            "2/2 [==============================] - 0s 7ms/step - loss: 3.6564\n",
            "Epoch 96/500\n",
            "2/2 [==============================] - 0s 6ms/step - loss: 5.7582\n",
            "Epoch 97/500\n",
            "2/2 [==============================] - 0s 9ms/step - loss: 1.7908\n",
            "Epoch 98/500\n",
            "2/2 [==============================] - 0s 5ms/step - loss: 4.6822\n",
            "Epoch 99/500\n",
            "2/2 [==============================] - 0s 6ms/step - loss: 1.3383\n",
            "Epoch 100/500\n",
            "2/2 [==============================] - 0s 10ms/step - loss: 1.7356\n",
            "Epoch 101/500\n",
            "2/2 [==============================] - 0s 8ms/step - loss: 3.9730\n",
            "Epoch 102/500\n",
            "2/2 [==============================] - 0s 6ms/step - loss: 2.4727\n",
            "Epoch 103/500\n",
            "2/2 [==============================] - 0s 10ms/step - loss: 1.7375\n",
            "Epoch 104/500\n",
            "2/2 [==============================] - 0s 8ms/step - loss: 2.5345\n",
            "Epoch 105/500\n",
            "2/2 [==============================] - 0s 12ms/step - loss: 2.8654\n",
            "Epoch 106/500\n",
            "2/2 [==============================] - 0s 11ms/step - loss: 2.5733\n",
            "Epoch 107/500\n",
            "2/2 [==============================] - 0s 8ms/step - loss: 3.5434\n",
            "Epoch 108/500\n",
            "2/2 [==============================] - 0s 11ms/step - loss: 3.9486\n",
            "Epoch 109/500\n",
            "2/2 [==============================] - 0s 7ms/step - loss: 2.1581\n",
            "Epoch 110/500\n",
            "2/2 [==============================] - 0s 9ms/step - loss: 3.2153\n",
            "Epoch 111/500\n",
            "2/2 [==============================] - 0s 7ms/step - loss: 1.9737\n",
            "Epoch 112/500\n",
            "2/2 [==============================] - 0s 6ms/step - loss: 1.7759\n",
            "Epoch 113/500\n",
            "2/2 [==============================] - 0s 8ms/step - loss: 0.5558\n",
            "Epoch 114/500\n",
            "2/2 [==============================] - 0s 6ms/step - loss: 0.1012\n",
            "Epoch 115/500\n",
            "2/2 [==============================] - 0s 6ms/step - loss: 1.0258\n",
            "Epoch 116/500\n",
            "2/2 [==============================] - 0s 7ms/step - loss: 1.3690\n",
            "Epoch 117/500\n",
            "2/2 [==============================] - 0s 6ms/step - loss: 0.5548\n",
            "Epoch 118/500\n",
            "2/2 [==============================] - 0s 9ms/step - loss: 2.8186\n",
            "Epoch 119/500\n",
            "2/2 [==============================] - 0s 9ms/step - loss: 0.4093\n",
            "Epoch 120/500\n",
            "2/2 [==============================] - 0s 9ms/step - loss: 0.6501\n",
            "Epoch 121/500\n",
            "2/2 [==============================] - 0s 5ms/step - loss: 0.8948\n",
            "Epoch 122/500\n",
            "2/2 [==============================] - 0s 7ms/step - loss: 1.5836\n",
            "Epoch 123/500\n",
            "2/2 [==============================] - 0s 7ms/step - loss: 0.9237\n",
            "Epoch 124/500\n",
            "2/2 [==============================] - 0s 6ms/step - loss: 3.1374\n",
            "Epoch 125/500\n",
            "2/2 [==============================] - 0s 7ms/step - loss: 0.3044\n",
            "Epoch 126/500\n",
            "2/2 [==============================] - 0s 7ms/step - loss: 0.9548\n",
            "Epoch 127/500\n",
            "2/2 [==============================] - 0s 6ms/step - loss: 0.7603\n",
            "Epoch 128/500\n",
            "2/2 [==============================] - 0s 6ms/step - loss: 0.5610\n",
            "Epoch 129/500\n",
            "2/2 [==============================] - 0s 7ms/step - loss: 0.8428\n",
            "Epoch 130/500\n",
            "2/2 [==============================] - 0s 8ms/step - loss: 0.8472\n",
            "Epoch 131/500\n",
            "2/2 [==============================] - 0s 6ms/step - loss: 0.6070\n",
            "Epoch 132/500\n",
            "2/2 [==============================] - 0s 8ms/step - loss: 0.6488\n",
            "Epoch 133/500\n",
            "2/2 [==============================] - 0s 6ms/step - loss: 1.0929\n",
            "Epoch 134/500\n",
            "2/2 [==============================] - 0s 6ms/step - loss: 0.4190\n",
            "Epoch 135/500\n",
            "2/2 [==============================] - 0s 8ms/step - loss: 0.2869\n",
            "Epoch 136/500\n",
            "2/2 [==============================] - 0s 6ms/step - loss: 0.7044\n",
            "Epoch 137/500\n",
            "2/2 [==============================] - 0s 11ms/step - loss: 1.9124\n",
            "Epoch 138/500\n",
            "2/2 [==============================] - 0s 10ms/step - loss: 1.4269\n",
            "Epoch 139/500\n",
            "2/2 [==============================] - 0s 8ms/step - loss: 1.9439\n",
            "Epoch 140/500\n",
            "2/2 [==============================] - 0s 8ms/step - loss: 1.0730\n",
            "Epoch 141/500\n",
            "2/2 [==============================] - 0s 7ms/step - loss: 0.8463\n",
            "Epoch 142/500\n",
            "2/2 [==============================] - 0s 8ms/step - loss: 1.1907\n",
            "Epoch 143/500\n",
            "2/2 [==============================] - 0s 8ms/step - loss: 0.3073\n",
            "Epoch 144/500\n",
            "2/2 [==============================] - 0s 13ms/step - loss: 0.8662\n",
            "Epoch 145/500\n",
            "2/2 [==============================] - 0s 7ms/step - loss: 0.6766\n",
            "Epoch 146/500\n",
            "2/2 [==============================] - 0s 7ms/step - loss: 0.8241\n",
            "Epoch 147/500\n",
            "2/2 [==============================] - 0s 7ms/step - loss: 1.3380\n",
            "Epoch 148/500\n",
            "2/2 [==============================] - 0s 11ms/step - loss: 1.8934\n",
            "Epoch 149/500\n",
            "2/2 [==============================] - 0s 7ms/step - loss: 1.4125\n",
            "Epoch 150/500\n",
            "2/2 [==============================] - 0s 6ms/step - loss: 1.7630\n",
            "Epoch 151/500\n",
            "2/2 [==============================] - 0s 7ms/step - loss: 0.7199\n",
            "Epoch 152/500\n",
            "2/2 [==============================] - 0s 12ms/step - loss: 0.2311\n",
            "Epoch 153/500\n",
            "2/2 [==============================] - 0s 8ms/step - loss: 1.0484\n",
            "Epoch 154/500\n",
            "2/2 [==============================] - 0s 7ms/step - loss: 0.8361\n",
            "Epoch 155/500\n",
            "2/2 [==============================] - 0s 6ms/step - loss: 0.9512\n",
            "Epoch 156/500\n",
            "2/2 [==============================] - 0s 11ms/step - loss: 1.0220\n",
            "Epoch 157/500\n",
            "2/2 [==============================] - 0s 12ms/step - loss: 0.5526\n",
            "Epoch 158/500\n",
            "2/2 [==============================] - 0s 10ms/step - loss: 0.6247\n",
            "Epoch 159/500\n",
            "2/2 [==============================] - 0s 12ms/step - loss: 1.2398\n",
            "Epoch 160/500\n",
            "2/2 [==============================] - 0s 15ms/step - loss: 0.6524\n",
            "Epoch 161/500\n",
            "2/2 [==============================] - 0s 7ms/step - loss: 0.7603\n",
            "Epoch 162/500\n",
            "2/2 [==============================] - 0s 10ms/step - loss: 1.1605\n",
            "Epoch 163/500\n",
            "2/2 [==============================] - 0s 7ms/step - loss: 0.4973\n",
            "Epoch 164/500\n",
            "2/2 [==============================] - 0s 7ms/step - loss: 0.8565\n",
            "Epoch 165/500\n",
            "2/2 [==============================] - 0s 9ms/step - loss: 0.5505\n",
            "Epoch 166/500\n",
            "2/2 [==============================] - 0s 8ms/step - loss: 1.4940\n",
            "Epoch 167/500\n",
            "2/2 [==============================] - 0s 21ms/step - loss: 0.3039\n",
            "Epoch 168/500\n",
            "2/2 [==============================] - 0s 9ms/step - loss: 0.2161\n",
            "Epoch 169/500\n",
            "2/2 [==============================] - 0s 19ms/step - loss: 0.5893\n",
            "Epoch 170/500\n",
            "2/2 [==============================] - 0s 10ms/step - loss: 0.9200\n",
            "Epoch 171/500\n",
            "2/2 [==============================] - 0s 11ms/step - loss: 1.5133\n",
            "Epoch 172/500\n",
            "2/2 [==============================] - 0s 10ms/step - loss: 0.7140\n",
            "Epoch 173/500\n",
            "2/2 [==============================] - 0s 5ms/step - loss: 2.9632\n",
            "Epoch 174/500\n",
            "2/2 [==============================] - 0s 10ms/step - loss: 1.0070\n",
            "Epoch 175/500\n",
            "2/2 [==============================] - 0s 8ms/step - loss: 3.5110\n",
            "Epoch 176/500\n",
            "2/2 [==============================] - 0s 10ms/step - loss: 0.8990\n",
            "Epoch 177/500\n",
            "2/2 [==============================] - 0s 11ms/step - loss: 5.1320\n",
            "Epoch 178/500\n",
            "2/2 [==============================] - 0s 7ms/step - loss: 4.2358\n",
            "Epoch 179/500\n",
            "2/2 [==============================] - 0s 13ms/step - loss: 1.2589\n",
            "Epoch 180/500\n",
            "2/2 [==============================] - 0s 8ms/step - loss: 2.2982\n",
            "Epoch 181/500\n",
            "2/2 [==============================] - 0s 15ms/step - loss: 2.0695\n",
            "Epoch 182/500\n",
            "2/2 [==============================] - 0s 12ms/step - loss: 1.8058\n",
            "Epoch 183/500\n",
            "2/2 [==============================] - 0s 8ms/step - loss: 2.0195\n",
            "Epoch 184/500\n",
            "2/2 [==============================] - 0s 5ms/step - loss: 0.2394\n",
            "Epoch 185/500\n",
            "2/2 [==============================] - 0s 9ms/step - loss: 0.3743\n",
            "Epoch 186/500\n",
            "2/2 [==============================] - 0s 7ms/step - loss: 0.6927\n",
            "Epoch 187/500\n",
            "2/2 [==============================] - 0s 6ms/step - loss: 1.9253\n",
            "Epoch 188/500\n",
            "2/2 [==============================] - 0s 12ms/step - loss: 1.5287\n",
            "Epoch 189/500\n",
            "2/2 [==============================] - 0s 6ms/step - loss: 1.4226\n",
            "Epoch 190/500\n",
            "2/2 [==============================] - 0s 5ms/step - loss: 0.6074\n",
            "Epoch 191/500\n",
            "2/2 [==============================] - 0s 7ms/step - loss: 0.3723\n",
            "Epoch 192/500\n",
            "2/2 [==============================] - 0s 5ms/step - loss: 0.9538\n",
            "Epoch 193/500\n",
            "2/2 [==============================] - 0s 5ms/step - loss: 0.5312\n",
            "Epoch 194/500\n",
            "2/2 [==============================] - 0s 9ms/step - loss: 0.5042\n",
            "Epoch 195/500\n",
            "2/2 [==============================] - 0s 8ms/step - loss: 1.6903\n",
            "Epoch 196/500\n",
            "2/2 [==============================] - 0s 9ms/step - loss: 1.6940\n",
            "Epoch 197/500\n",
            "2/2 [==============================] - 0s 7ms/step - loss: 1.3609\n",
            "Epoch 198/500\n",
            "2/2 [==============================] - 0s 6ms/step - loss: 0.7857\n",
            "Epoch 199/500\n",
            "2/2 [==============================] - 0s 9ms/step - loss: 0.4352\n",
            "Epoch 200/500\n",
            "2/2 [==============================] - 0s 10ms/step - loss: 0.3399\n",
            "Epoch 201/500\n",
            "2/2 [==============================] - 0s 9ms/step - loss: 0.8245\n",
            "Epoch 202/500\n",
            "2/2 [==============================] - 0s 10ms/step - loss: 1.0405\n",
            "Epoch 203/500\n",
            "2/2 [==============================] - 0s 6ms/step - loss: 0.4963\n",
            "Epoch 204/500\n",
            "2/2 [==============================] - 0s 6ms/step - loss: 0.3177\n",
            "Epoch 205/500\n",
            "2/2 [==============================] - 0s 9ms/step - loss: 0.7402\n",
            "Epoch 206/500\n",
            "2/2 [==============================] - 0s 9ms/step - loss: 1.8559\n",
            "Epoch 207/500\n",
            "2/2 [==============================] - 0s 11ms/step - loss: 1.2303\n",
            "Epoch 208/500\n",
            "2/2 [==============================] - 0s 8ms/step - loss: 1.7523\n",
            "Epoch 209/500\n",
            "2/2 [==============================] - 0s 9ms/step - loss: 2.1269\n",
            "Epoch 210/500\n",
            "2/2 [==============================] - 0s 16ms/step - loss: 1.6756\n",
            "Epoch 211/500\n",
            "2/2 [==============================] - 0s 10ms/step - loss: 1.5011\n",
            "Epoch 212/500\n",
            "2/2 [==============================] - 0s 10ms/step - loss: 0.9734\n",
            "Epoch 213/500\n",
            "2/2 [==============================] - 0s 13ms/step - loss: 0.7946\n",
            "Epoch 214/500\n",
            "2/2 [==============================] - 0s 8ms/step - loss: 1.6222\n",
            "Epoch 215/500\n",
            "2/2 [==============================] - 0s 10ms/step - loss: 2.0636\n",
            "Epoch 216/500\n",
            "2/2 [==============================] - 0s 14ms/step - loss: 2.2615\n",
            "Epoch 217/500\n",
            "2/2 [==============================] - 0s 10ms/step - loss: 2.1225\n",
            "Epoch 218/500\n",
            "2/2 [==============================] - 0s 20ms/step - loss: 3.1178\n",
            "Epoch 219/500\n",
            "2/2 [==============================] - 0s 17ms/step - loss: 0.6150\n",
            "Epoch 220/500\n",
            "2/2 [==============================] - 0s 12ms/step - loss: 0.7348\n",
            "Epoch 221/500\n",
            "2/2 [==============================] - 0s 10ms/step - loss: 0.9150\n",
            "Epoch 222/500\n",
            "2/2 [==============================] - 0s 13ms/step - loss: 0.7294\n",
            "Epoch 223/500\n",
            "2/2 [==============================] - 0s 9ms/step - loss: 1.6913\n",
            "Epoch 224/500\n",
            "2/2 [==============================] - 0s 9ms/step - loss: 1.5676\n",
            "Epoch 225/500\n",
            "2/2 [==============================] - 0s 9ms/step - loss: 0.8917\n",
            "Epoch 226/500\n",
            "2/2 [==============================] - 0s 6ms/step - loss: 3.1661\n",
            "Epoch 227/500\n",
            "2/2 [==============================] - 0s 7ms/step - loss: 1.0723\n",
            "Epoch 228/500\n",
            "2/2 [==============================] - 0s 9ms/step - loss: 4.2400\n",
            "Epoch 229/500\n",
            "2/2 [==============================] - 0s 11ms/step - loss: 2.6996\n",
            "Epoch 230/500\n",
            "2/2 [==============================] - 0s 8ms/step - loss: 3.5490\n",
            "Epoch 231/500\n",
            "2/2 [==============================] - 0s 10ms/step - loss: 4.4955\n",
            "Epoch 232/500\n",
            "2/2 [==============================] - 0s 6ms/step - loss: 0.7127\n",
            "Epoch 233/500\n",
            "2/2 [==============================] - 0s 10ms/step - loss: 1.5284\n",
            "Epoch 234/500\n",
            "2/2 [==============================] - 0s 14ms/step - loss: 0.7620\n",
            "Epoch 235/500\n",
            "2/2 [==============================] - 0s 5ms/step - loss: 0.5136\n",
            "Epoch 236/500\n",
            "2/2 [==============================] - 0s 7ms/step - loss: 1.4660\n",
            "Epoch 237/500\n",
            "2/2 [==============================] - 0s 12ms/step - loss: 1.9157\n",
            "Epoch 238/500\n",
            "2/2 [==============================] - 0s 18ms/step - loss: 1.5629\n",
            "Epoch 239/500\n",
            "2/2 [==============================] - 0s 15ms/step - loss: 0.7153\n",
            "Epoch 240/500\n",
            "2/2 [==============================] - 0s 10ms/step - loss: 2.6324\n",
            "Epoch 241/500\n",
            "2/2 [==============================] - 0s 7ms/step - loss: 0.9548\n",
            "Epoch 242/500\n",
            "2/2 [==============================] - 0s 7ms/step - loss: 0.7923\n",
            "Epoch 243/500\n",
            "2/2 [==============================] - 0s 8ms/step - loss: 2.7510\n",
            "Epoch 244/500\n",
            "2/2 [==============================] - 0s 13ms/step - loss: 0.2231\n",
            "Epoch 245/500\n",
            "2/2 [==============================] - 0s 9ms/step - loss: 0.7544\n",
            "Epoch 246/500\n",
            "2/2 [==============================] - 0s 7ms/step - loss: 1.4835\n",
            "Epoch 247/500\n",
            "2/2 [==============================] - 0s 7ms/step - loss: 0.1402\n",
            "Epoch 248/500\n",
            "2/2 [==============================] - 0s 10ms/step - loss: 0.8173\n",
            "Epoch 249/500\n",
            "2/2 [==============================] - 0s 6ms/step - loss: 1.5013\n",
            "Epoch 250/500\n",
            "2/2 [==============================] - 0s 10ms/step - loss: 0.5681\n",
            "Epoch 251/500\n",
            "2/2 [==============================] - 0s 7ms/step - loss: 4.3318\n",
            "Epoch 252/500\n",
            "2/2 [==============================] - 0s 6ms/step - loss: 1.7919\n",
            "Epoch 253/500\n",
            "2/2 [==============================] - 0s 11ms/step - loss: 3.3301\n",
            "Epoch 254/500\n",
            "2/2 [==============================] - 0s 7ms/step - loss: 1.6704\n",
            "Epoch 255/500\n",
            "2/2 [==============================] - 0s 11ms/step - loss: 1.2958\n",
            "Epoch 256/500\n",
            "2/2 [==============================] - 0s 11ms/step - loss: 2.8398\n",
            "Epoch 257/500\n",
            "2/2 [==============================] - 0s 12ms/step - loss: 2.5913\n",
            "Epoch 258/500\n",
            "2/2 [==============================] - 0s 7ms/step - loss: 2.6939\n",
            "Epoch 259/500\n",
            "2/2 [==============================] - 0s 6ms/step - loss: 2.9060\n",
            "Epoch 260/500\n",
            "2/2 [==============================] - 0s 11ms/step - loss: 2.5099\n",
            "Epoch 261/500\n",
            "2/2 [==============================] - 0s 14ms/step - loss: 4.3257\n",
            "Epoch 262/500\n",
            "2/2 [==============================] - 0s 10ms/step - loss: 1.5743\n",
            "Epoch 263/500\n",
            "2/2 [==============================] - 0s 7ms/step - loss: 4.4567\n",
            "Epoch 264/500\n",
            "2/2 [==============================] - 0s 8ms/step - loss: 2.0131\n",
            "Epoch 265/500\n",
            "2/2 [==============================] - 0s 7ms/step - loss: 3.1745\n",
            "Epoch 266/500\n",
            "2/2 [==============================] - 0s 7ms/step - loss: 1.0980\n",
            "Epoch 267/500\n",
            "2/2 [==============================] - 0s 8ms/step - loss: 6.1204\n",
            "Epoch 268/500\n",
            "2/2 [==============================] - 0s 13ms/step - loss: 2.2511\n",
            "Epoch 269/500\n",
            "2/2 [==============================] - 0s 10ms/step - loss: 3.6357\n",
            "Epoch 270/500\n",
            "2/2 [==============================] - 0s 14ms/step - loss: 0.5673\n",
            "Epoch 271/500\n",
            "2/2 [==============================] - 0s 11ms/step - loss: 6.1167\n",
            "Epoch 272/500\n",
            "2/2 [==============================] - 0s 9ms/step - loss: 2.8689\n",
            "Epoch 273/500\n",
            "2/2 [==============================] - 0s 10ms/step - loss: 5.8700\n",
            "Epoch 274/500\n",
            "2/2 [==============================] - 0s 6ms/step - loss: 1.6506\n",
            "Epoch 275/500\n",
            "2/2 [==============================] - 0s 11ms/step - loss: 4.3797\n",
            "Epoch 276/500\n",
            "2/2 [==============================] - 0s 8ms/step - loss: 0.9880\n",
            "Epoch 277/500\n",
            "2/2 [==============================] - 0s 11ms/step - loss: 2.7242\n",
            "Epoch 278/500\n",
            "2/2 [==============================] - 0s 11ms/step - loss: 2.0970\n",
            "Epoch 279/500\n",
            "2/2 [==============================] - 0s 9ms/step - loss: 1.5857\n",
            "Epoch 280/500\n",
            "2/2 [==============================] - 0s 10ms/step - loss: 0.5545\n",
            "Epoch 281/500\n",
            "2/2 [==============================] - 0s 12ms/step - loss: 0.7129\n",
            "Epoch 282/500\n",
            "2/2 [==============================] - 0s 7ms/step - loss: 0.9471\n",
            "Epoch 283/500\n",
            "2/2 [==============================] - 0s 7ms/step - loss: 0.4586\n",
            "Epoch 284/500\n",
            "2/2 [==============================] - 0s 10ms/step - loss: 0.5672\n",
            "Epoch 285/500\n",
            "2/2 [==============================] - 0s 8ms/step - loss: 1.5558\n",
            "Epoch 286/500\n",
            "2/2 [==============================] - 0s 9ms/step - loss: 2.5234\n",
            "Epoch 287/500\n",
            "2/2 [==============================] - 0s 7ms/step - loss: 2.2000\n",
            "Epoch 288/500\n",
            "2/2 [==============================] - 0s 6ms/step - loss: 2.8477\n",
            "Epoch 289/500\n",
            "2/2 [==============================] - 0s 11ms/step - loss: 3.9106\n",
            "Epoch 290/500\n",
            "2/2 [==============================] - 0s 14ms/step - loss: 0.6334\n",
            "Epoch 291/500\n",
            "2/2 [==============================] - 0s 11ms/step - loss: 1.2691\n",
            "Epoch 292/500\n",
            "2/2 [==============================] - 0s 11ms/step - loss: 0.7430\n",
            "Epoch 293/500\n",
            "2/2 [==============================] - 0s 13ms/step - loss: 0.6118\n",
            "Epoch 294/500\n",
            "2/2 [==============================] - 0s 6ms/step - loss: 0.6080\n",
            "Epoch 295/500\n",
            "2/2 [==============================] - 0s 6ms/step - loss: 0.7758\n",
            "Epoch 296/500\n",
            "2/2 [==============================] - 0s 8ms/step - loss: 0.5776\n",
            "Epoch 297/500\n",
            "2/2 [==============================] - 0s 6ms/step - loss: 1.7977\n",
            "Epoch 298/500\n",
            "2/2 [==============================] - 0s 6ms/step - loss: 0.9657\n",
            "Epoch 299/500\n",
            "2/2 [==============================] - 0s 9ms/step - loss: 0.7860\n",
            "Epoch 300/500\n",
            "2/2 [==============================] - 0s 9ms/step - loss: 1.8690\n",
            "Epoch 301/500\n",
            "2/2 [==============================] - 0s 11ms/step - loss: 1.3193\n",
            "Epoch 302/500\n",
            "2/2 [==============================] - 0s 7ms/step - loss: 0.9789\n",
            "Epoch 303/500\n",
            "2/2 [==============================] - 0s 9ms/step - loss: 1.6148\n",
            "Epoch 304/500\n",
            "2/2 [==============================] - 0s 19ms/step - loss: 1.4778\n",
            "Epoch 305/500\n",
            "2/2 [==============================] - 0s 5ms/step - loss: 1.1207\n",
            "Epoch 306/500\n",
            "2/2 [==============================] - 0s 8ms/step - loss: 1.0938\n",
            "Epoch 307/500\n",
            "2/2 [==============================] - 0s 13ms/step - loss: 1.1144\n",
            "Epoch 308/500\n",
            "2/2 [==============================] - 0s 7ms/step - loss: 0.8193\n",
            "Epoch 309/500\n",
            "2/2 [==============================] - 0s 15ms/step - loss: 0.2082\n",
            "Epoch 310/500\n",
            "2/2 [==============================] - 0s 9ms/step - loss: 0.4811\n",
            "Epoch 311/500\n",
            "2/2 [==============================] - 0s 10ms/step - loss: 0.6354\n",
            "Epoch 312/500\n",
            "2/2 [==============================] - 0s 12ms/step - loss: 0.1955\n",
            "Epoch 313/500\n",
            "2/2 [==============================] - 0s 15ms/step - loss: 1.0662\n",
            "Epoch 314/500\n",
            "2/2 [==============================] - 0s 14ms/step - loss: 0.3868\n",
            "Epoch 315/500\n",
            "2/2 [==============================] - 0s 11ms/step - loss: 1.5540\n",
            "Epoch 316/500\n",
            "2/2 [==============================] - 0s 9ms/step - loss: 0.8717\n",
            "Epoch 317/500\n",
            "2/2 [==============================] - 0s 11ms/step - loss: 1.2010\n",
            "Epoch 318/500\n",
            "2/2 [==============================] - 0s 11ms/step - loss: 2.9319\n",
            "Epoch 319/500\n",
            "2/2 [==============================] - 0s 12ms/step - loss: 3.4105\n",
            "Epoch 320/500\n",
            "2/2 [==============================] - 0s 6ms/step - loss: 0.6449\n",
            "Epoch 321/500\n",
            "2/2 [==============================] - 0s 10ms/step - loss: 1.1467\n",
            "Epoch 322/500\n",
            "2/2 [==============================] - 0s 10ms/step - loss: 0.7902\n",
            "Epoch 323/500\n",
            "2/2 [==============================] - 0s 14ms/step - loss: 1.9329\n",
            "Epoch 324/500\n",
            "2/2 [==============================] - 0s 13ms/step - loss: 1.0973\n",
            "Epoch 325/500\n",
            "2/2 [==============================] - 0s 6ms/step - loss: 2.2547\n",
            "Epoch 326/500\n",
            "2/2 [==============================] - 0s 7ms/step - loss: 0.6415\n",
            "Epoch 327/500\n",
            "2/2 [==============================] - 0s 7ms/step - loss: 3.1506\n",
            "Epoch 328/500\n",
            "2/2 [==============================] - 0s 6ms/step - loss: 0.9349\n",
            "Epoch 329/500\n",
            "2/2 [==============================] - 0s 7ms/step - loss: 3.5917\n",
            "Epoch 330/500\n",
            "2/2 [==============================] - 0s 16ms/step - loss: 1.7723\n",
            "Epoch 331/500\n",
            "2/2 [==============================] - 0s 9ms/step - loss: 1.0921\n",
            "Epoch 332/500\n",
            "2/2 [==============================] - 0s 10ms/step - loss: 1.2791\n",
            "Epoch 333/500\n",
            "2/2 [==============================] - 0s 7ms/step - loss: 0.7056\n",
            "Epoch 334/500\n",
            "2/2 [==============================] - 0s 10ms/step - loss: 3.1089\n",
            "Epoch 335/500\n",
            "2/2 [==============================] - 0s 6ms/step - loss: 1.1922\n",
            "Epoch 336/500\n",
            "2/2 [==============================] - 0s 15ms/step - loss: 1.8553\n",
            "Epoch 337/500\n",
            "2/2 [==============================] - 0s 10ms/step - loss: 1.4204\n",
            "Epoch 338/500\n",
            "2/2 [==============================] - 0s 11ms/step - loss: 1.2246\n",
            "Epoch 339/500\n",
            "2/2 [==============================] - 0s 13ms/step - loss: 0.8159\n",
            "Epoch 340/500\n",
            "2/2 [==============================] - 0s 9ms/step - loss: 1.0325\n",
            "Epoch 341/500\n",
            "2/2 [==============================] - 0s 6ms/step - loss: 1.4470\n",
            "Epoch 342/500\n",
            "2/2 [==============================] - 0s 11ms/step - loss: 1.2623\n",
            "Epoch 343/500\n",
            "2/2 [==============================] - 0s 11ms/step - loss: 1.6317\n",
            "Epoch 344/500\n",
            "2/2 [==============================] - 0s 10ms/step - loss: 0.2868\n",
            "Epoch 345/500\n",
            "2/2 [==============================] - 0s 10ms/step - loss: 1.4583\n",
            "Epoch 346/500\n",
            "2/2 [==============================] - 0s 22ms/step - loss: 0.8041\n",
            "Epoch 347/500\n",
            "2/2 [==============================] - 0s 13ms/step - loss: 1.0825\n",
            "Epoch 348/500\n",
            "2/2 [==============================] - 0s 8ms/step - loss: 0.9746\n",
            "Epoch 349/500\n",
            "2/2 [==============================] - 0s 10ms/step - loss: 0.7313\n",
            "Epoch 350/500\n",
            "2/2 [==============================] - 0s 8ms/step - loss: 1.2025\n",
            "Epoch 351/500\n",
            "2/2 [==============================] - 0s 5ms/step - loss: 0.5831\n",
            "Epoch 352/500\n",
            "2/2 [==============================] - 0s 12ms/step - loss: 0.6887\n",
            "Epoch 353/500\n",
            "2/2 [==============================] - 0s 14ms/step - loss: 0.9575\n",
            "Epoch 354/500\n",
            "2/2 [==============================] - 0s 15ms/step - loss: 0.4151\n",
            "Epoch 355/500\n",
            "2/2 [==============================] - 0s 9ms/step - loss: 0.6029\n",
            "Epoch 356/500\n",
            "2/2 [==============================] - 0s 8ms/step - loss: 1.7481\n",
            "Epoch 357/500\n",
            "2/2 [==============================] - 0s 8ms/step - loss: 1.4904\n",
            "Epoch 358/500\n",
            "2/2 [==============================] - 0s 9ms/step - loss: 1.1597\n",
            "Epoch 359/500\n",
            "2/2 [==============================] - 0s 7ms/step - loss: 1.8554\n",
            "Epoch 360/500\n",
            "2/2 [==============================] - 0s 19ms/step - loss: 0.5479\n",
            "Epoch 361/500\n",
            "2/2 [==============================] - 0s 17ms/step - loss: 0.5546\n",
            "Epoch 362/500\n",
            "2/2 [==============================] - 0s 7ms/step - loss: 1.5601\n",
            "Epoch 363/500\n",
            "2/2 [==============================] - 0s 7ms/step - loss: 2.0310\n",
            "Epoch 364/500\n",
            "2/2 [==============================] - 0s 8ms/step - loss: 1.5086\n",
            "Epoch 365/500\n",
            "2/2 [==============================] - 0s 8ms/step - loss: 1.4178\n",
            "Epoch 366/500\n",
            "2/2 [==============================] - 0s 21ms/step - loss: 0.7399\n",
            "Epoch 367/500\n",
            "2/2 [==============================] - 0s 9ms/step - loss: 0.7732\n",
            "Epoch 368/500\n",
            "2/2 [==============================] - 0s 10ms/step - loss: 0.4036\n",
            "Epoch 369/500\n",
            "2/2 [==============================] - 0s 6ms/step - loss: 1.3518\n",
            "Epoch 370/500\n",
            "2/2 [==============================] - 0s 8ms/step - loss: 2.1538\n",
            "Epoch 371/500\n",
            "2/2 [==============================] - 0s 7ms/step - loss: 1.7846\n",
            "Epoch 372/500\n",
            "2/2 [==============================] - 0s 9ms/step - loss: 1.7181\n",
            "Epoch 373/500\n",
            "2/2 [==============================] - 0s 15ms/step - loss: 0.7081\n",
            "Epoch 374/500\n",
            "2/2 [==============================] - 0s 10ms/step - loss: 3.6445\n",
            "Epoch 375/500\n",
            "2/2 [==============================] - 0s 13ms/step - loss: 2.1847\n",
            "Epoch 376/500\n",
            "2/2 [==============================] - 0s 8ms/step - loss: 2.9755\n",
            "Epoch 377/500\n",
            "2/2 [==============================] - 0s 11ms/step - loss: 3.7806\n",
            "Epoch 378/500\n",
            "2/2 [==============================] - 0s 11ms/step - loss: 0.3972\n",
            "Epoch 379/500\n",
            "2/2 [==============================] - 0s 10ms/step - loss: 0.7321\n",
            "Epoch 380/500\n",
            "2/2 [==============================] - 0s 10ms/step - loss: 1.2250\n",
            "Epoch 381/500\n",
            "2/2 [==============================] - 0s 9ms/step - loss: 0.4827\n",
            "Epoch 382/500\n",
            "2/2 [==============================] - 0s 9ms/step - loss: 0.5051\n",
            "Epoch 383/500\n",
            "2/2 [==============================] - 0s 5ms/step - loss: 1.5298\n",
            "Epoch 384/500\n",
            "2/2 [==============================] - 0s 9ms/step - loss: 1.4896\n",
            "Epoch 385/500\n",
            "2/2 [==============================] - 0s 9ms/step - loss: 0.9750\n",
            "Epoch 386/500\n",
            "2/2 [==============================] - 0s 6ms/step - loss: 0.9627\n",
            "Epoch 387/500\n",
            "2/2 [==============================] - 0s 8ms/step - loss: 0.4697\n",
            "Epoch 388/500\n",
            "2/2 [==============================] - 0s 9ms/step - loss: 0.3451\n",
            "Epoch 389/500\n",
            "2/2 [==============================] - 0s 6ms/step - loss: 0.2255\n",
            "Epoch 390/500\n",
            "2/2 [==============================] - 0s 6ms/step - loss: 0.5191\n",
            "Epoch 391/500\n",
            "2/2 [==============================] - 0s 6ms/step - loss: 1.8546\n",
            "Epoch 392/500\n",
            "2/2 [==============================] - 0s 6ms/step - loss: 0.9936\n",
            "Epoch 393/500\n",
            "2/2 [==============================] - 0s 6ms/step - loss: 0.6782\n",
            "Epoch 394/500\n",
            "2/2 [==============================] - 0s 7ms/step - loss: 2.4923\n",
            "Epoch 395/500\n",
            "2/2 [==============================] - 0s 10ms/step - loss: 0.7927\n",
            "Epoch 396/500\n",
            "2/2 [==============================] - 0s 12ms/step - loss: 3.8113\n",
            "Epoch 397/500\n",
            "2/2 [==============================] - 0s 6ms/step - loss: 1.5657\n",
            "Epoch 398/500\n",
            "2/2 [==============================] - 0s 10ms/step - loss: 2.0944\n",
            "Epoch 399/500\n",
            "2/2 [==============================] - 0s 8ms/step - loss: 0.7960\n",
            "Epoch 400/500\n",
            "2/2 [==============================] - 0s 9ms/step - loss: 2.8336\n",
            "Epoch 401/500\n",
            "2/2 [==============================] - 0s 13ms/step - loss: 0.3444\n",
            "Epoch 402/500\n",
            "2/2 [==============================] - 0s 5ms/step - loss: 0.4174\n",
            "Epoch 403/500\n",
            "2/2 [==============================] - 0s 12ms/step - loss: 1.3125\n",
            "Epoch 404/500\n",
            "2/2 [==============================] - 0s 13ms/step - loss: 0.3653\n",
            "Epoch 405/500\n",
            "2/2 [==============================] - 0s 15ms/step - loss: 0.5695\n",
            "Epoch 406/500\n",
            "2/2 [==============================] - 0s 8ms/step - loss: 1.3513\n",
            "Epoch 407/500\n",
            "2/2 [==============================] - 0s 14ms/step - loss: 0.1560\n",
            "Epoch 408/500\n",
            "2/2 [==============================] - 0s 10ms/step - loss: 1.1902\n",
            "Epoch 409/500\n",
            "2/2 [==============================] - 0s 14ms/step - loss: 0.5078\n",
            "Epoch 410/500\n",
            "2/2 [==============================] - 0s 12ms/step - loss: 0.2981\n",
            "Epoch 411/500\n",
            "2/2 [==============================] - 0s 8ms/step - loss: 0.4511\n",
            "Epoch 412/500\n",
            "2/2 [==============================] - 0s 11ms/step - loss: 0.3727\n",
            "Epoch 413/500\n",
            "2/2 [==============================] - 0s 7ms/step - loss: 0.5156\n",
            "Epoch 414/500\n",
            "2/2 [==============================] - 0s 7ms/step - loss: 0.5121\n",
            "Epoch 415/500\n",
            "2/2 [==============================] - 0s 9ms/step - loss: 0.6864\n",
            "Epoch 416/500\n",
            "2/2 [==============================] - 0s 14ms/step - loss: 0.3457\n",
            "Epoch 417/500\n",
            "2/2 [==============================] - 0s 12ms/step - loss: 0.4834\n",
            "Epoch 418/500\n",
            "2/2 [==============================] - 0s 13ms/step - loss: 0.5579\n",
            "Epoch 419/500\n",
            "2/2 [==============================] - 0s 6ms/step - loss: 0.4504\n",
            "Epoch 420/500\n",
            "2/2 [==============================] - 0s 5ms/step - loss: 0.1838\n",
            "Epoch 421/500\n",
            "2/2 [==============================] - 0s 12ms/step - loss: 0.4120\n",
            "Epoch 422/500\n",
            "2/2 [==============================] - 0s 7ms/step - loss: 0.3716\n",
            "Epoch 423/500\n",
            "2/2 [==============================] - 0s 8ms/step - loss: 0.3700\n",
            "Epoch 424/500\n",
            "2/2 [==============================] - 0s 9ms/step - loss: 1.2820\n",
            "Epoch 425/500\n",
            "2/2 [==============================] - 0s 9ms/step - loss: 2.4121\n",
            "Epoch 426/500\n",
            "2/2 [==============================] - 0s 16ms/step - loss: 2.5606\n",
            "Epoch 427/500\n",
            "2/2 [==============================] - 0s 13ms/step - loss: 1.5961\n",
            "Epoch 428/500\n",
            "2/2 [==============================] - 0s 6ms/step - loss: 1.7953\n",
            "Epoch 429/500\n",
            "2/2 [==============================] - 0s 6ms/step - loss: 2.7237\n",
            "Epoch 430/500\n",
            "2/2 [==============================] - 0s 10ms/step - loss: 3.4160\n",
            "Epoch 431/500\n",
            "2/2 [==============================] - 0s 13ms/step - loss: 0.4853\n",
            "Epoch 432/500\n",
            "2/2 [==============================] - 0s 8ms/step - loss: 0.8823\n",
            "Epoch 433/500\n",
            "2/2 [==============================] - 0s 7ms/step - loss: 1.0791\n",
            "Epoch 434/500\n",
            "2/2 [==============================] - 0s 7ms/step - loss: 2.3267\n",
            "Epoch 435/500\n",
            "2/2 [==============================] - 0s 22ms/step - loss: 2.2751\n",
            "Epoch 436/500\n",
            "2/2 [==============================] - 0s 8ms/step - loss: 2.2736\n",
            "Epoch 437/500\n",
            "2/2 [==============================] - 0s 16ms/step - loss: 3.8959\n",
            "Epoch 438/500\n",
            "2/2 [==============================] - 0s 8ms/step - loss: 1.4602\n",
            "Epoch 439/500\n",
            "2/2 [==============================] - 0s 9ms/step - loss: 1.3978\n",
            "Epoch 440/500\n",
            "2/2 [==============================] - 0s 13ms/step - loss: 2.4460\n",
            "Epoch 441/500\n",
            "2/2 [==============================] - 0s 9ms/step - loss: 1.8209\n",
            "Epoch 442/500\n",
            "2/2 [==============================] - 0s 23ms/step - loss: 0.7899\n",
            "Epoch 443/500\n",
            "2/2 [==============================] - 0s 5ms/step - loss: 0.7883\n",
            "Epoch 444/500\n",
            "2/2 [==============================] - 0s 9ms/step - loss: 1.1967\n",
            "Epoch 445/500\n",
            "2/2 [==============================] - 0s 9ms/step - loss: 2.2550\n",
            "Epoch 446/500\n",
            "2/2 [==============================] - 0s 11ms/step - loss: 0.3075\n",
            "Epoch 447/500\n",
            "2/2 [==============================] - 0s 7ms/step - loss: 0.4310\n",
            "Epoch 448/500\n",
            "2/2 [==============================] - 0s 6ms/step - loss: 2.5706\n",
            "Epoch 449/500\n",
            "2/2 [==============================] - 0s 6ms/step - loss: 0.9161\n",
            "Epoch 450/500\n",
            "2/2 [==============================] - 0s 11ms/step - loss: 3.5702\n",
            "Epoch 451/500\n",
            "2/2 [==============================] - 0s 7ms/step - loss: 1.3168\n",
            "Epoch 452/500\n",
            "2/2 [==============================] - 0s 13ms/step - loss: 1.7877\n",
            "Epoch 453/500\n",
            "2/2 [==============================] - 0s 24ms/step - loss: 1.5893\n",
            "Epoch 454/500\n",
            "2/2 [==============================] - 0s 13ms/step - loss: 1.1062\n",
            "Epoch 455/500\n",
            "2/2 [==============================] - 0s 12ms/step - loss: 1.8976\n",
            "Epoch 456/500\n",
            "2/2 [==============================] - 0s 6ms/step - loss: 0.5533\n",
            "Epoch 457/500\n",
            "2/2 [==============================] - 0s 14ms/step - loss: 0.4829\n",
            "Epoch 458/500\n",
            "2/2 [==============================] - 0s 23ms/step - loss: 1.9348\n",
            "Epoch 459/500\n",
            "2/2 [==============================] - 0s 15ms/step - loss: 1.2199\n",
            "Epoch 460/500\n",
            "2/2 [==============================] - 0s 9ms/step - loss: 1.1616\n",
            "Epoch 461/500\n",
            "2/2 [==============================] - 0s 8ms/step - loss: 1.6261\n",
            "Epoch 462/500\n",
            "2/2 [==============================] - 0s 13ms/step - loss: 0.4194\n",
            "Epoch 463/500\n",
            "2/2 [==============================] - 0s 11ms/step - loss: 0.6519\n",
            "Epoch 464/500\n",
            "2/2 [==============================] - 0s 5ms/step - loss: 0.6732\n",
            "Epoch 465/500\n",
            "2/2 [==============================] - 0s 9ms/step - loss: 1.0136\n",
            "Epoch 466/500\n",
            "2/2 [==============================] - 0s 9ms/step - loss: 0.4075\n",
            "Epoch 467/500\n",
            "2/2 [==============================] - 0s 8ms/step - loss: 0.3596\n",
            "Epoch 468/500\n",
            "2/2 [==============================] - 0s 7ms/step - loss: 0.1337\n",
            "Epoch 469/500\n",
            "2/2 [==============================] - 0s 6ms/step - loss: 1.0417\n",
            "Epoch 470/500\n",
            "2/2 [==============================] - 0s 9ms/step - loss: 0.4056\n",
            "Epoch 471/500\n",
            "2/2 [==============================] - 0s 9ms/step - loss: 0.7389\n",
            "Epoch 472/500\n",
            "2/2 [==============================] - 0s 8ms/step - loss: 0.1774\n",
            "Epoch 473/500\n",
            "2/2 [==============================] - 0s 7ms/step - loss: 0.4467\n",
            "Epoch 474/500\n",
            "2/2 [==============================] - 0s 7ms/step - loss: 1.0678\n",
            "Epoch 475/500\n",
            "2/2 [==============================] - 0s 8ms/step - loss: 0.3284\n",
            "Epoch 476/500\n",
            "2/2 [==============================] - 0s 7ms/step - loss: 0.3126\n",
            "Epoch 477/500\n",
            "2/2 [==============================] - 0s 11ms/step - loss: 0.5727\n",
            "Epoch 478/500\n",
            "2/2 [==============================] - 0s 7ms/step - loss: 1.1476\n",
            "Epoch 479/500\n",
            "2/2 [==============================] - 0s 8ms/step - loss: 0.4607\n",
            "Epoch 480/500\n",
            "2/2 [==============================] - 0s 8ms/step - loss: 1.1066\n",
            "Epoch 481/500\n",
            "2/2 [==============================] - 0s 8ms/step - loss: 1.8489\n",
            "Epoch 482/500\n",
            "2/2 [==============================] - 0s 7ms/step - loss: 1.1457\n",
            "Epoch 483/500\n",
            "2/2 [==============================] - 0s 6ms/step - loss: 1.5485\n",
            "Epoch 484/500\n",
            "2/2 [==============================] - 0s 6ms/step - loss: 1.1491\n",
            "Epoch 485/500\n",
            "2/2 [==============================] - 0s 6ms/step - loss: 1.0082\n",
            "Epoch 486/500\n",
            "2/2 [==============================] - 0s 7ms/step - loss: 1.1459\n",
            "Epoch 487/500\n",
            "2/2 [==============================] - 0s 9ms/step - loss: 1.0224\n",
            "Epoch 488/500\n",
            "2/2 [==============================] - 0s 17ms/step - loss: 0.5149\n",
            "Epoch 489/500\n",
            "2/2 [==============================] - 0s 15ms/step - loss: 0.2021\n",
            "Epoch 490/500\n",
            "2/2 [==============================] - 0s 10ms/step - loss: 0.4524\n",
            "Epoch 491/500\n",
            "2/2 [==============================] - 0s 12ms/step - loss: 0.5944\n",
            "Epoch 492/500\n",
            "2/2 [==============================] - 0s 20ms/step - loss: 1.3064\n",
            "Epoch 493/500\n",
            "2/2 [==============================] - 0s 10ms/step - loss: 1.6267\n",
            "Epoch 494/500\n",
            "2/2 [==============================] - 0s 10ms/step - loss: 1.3259\n",
            "Epoch 495/500\n",
            "2/2 [==============================] - 0s 15ms/step - loss: 0.9778\n",
            "Epoch 496/500\n",
            "2/2 [==============================] - 0s 10ms/step - loss: 1.0713\n",
            "Epoch 497/500\n",
            "2/2 [==============================] - 0s 7ms/step - loss: 0.1125\n",
            "Epoch 498/500\n",
            "2/2 [==============================] - 0s 29ms/step - loss: 1.4062\n",
            "Epoch 499/500\n",
            "2/2 [==============================] - 0s 17ms/step - loss: 0.3780\n",
            "Epoch 500/500\n",
            "2/2 [==============================] - 0s 22ms/step - loss: 3.2504\n"
          ]
        },
        {
          "output_type": "execute_result",
          "data": {
            "text/plain": [
              "<keras.callbacks.History at 0x7fba427b6690>"
            ]
          },
          "metadata": {},
          "execution_count": 188
        }
      ]
    },
    {
      "cell_type": "code",
      "metadata": {
        "colab": {
          "base_uri": "https://localhost:8080/"
        },
        "id": "4kw3z7BYRfLK",
        "outputId": "957d0ab2-9d75-4d7e-a919-f3baa1e0bb49"
      },
      "source": [
        "model_C.evaluate(X_train, Y_train)"
      ],
      "execution_count": 189,
      "outputs": [
        {
          "output_type": "stream",
          "name": "stdout",
          "text": [
            "2/2 [==============================] - 0s 8ms/step - loss: 1.7757\n"
          ]
        },
        {
          "output_type": "execute_result",
          "data": {
            "text/plain": [
              "1.7756770849227905"
            ]
          },
          "metadata": {},
          "execution_count": 189
        }
      ]
    },
    {
      "cell_type": "code",
      "metadata": {
        "id": "pRbEBepxRkZH"
      },
      "source": [
        "y_pred_3 = model_C.predict(X_test)"
      ],
      "execution_count": 190,
      "outputs": []
    },
    {
      "cell_type": "code",
      "metadata": {
        "id": "dp93S0zPSWa-"
      },
      "source": [
        "mae_3 = mae(Y_test, y_pred_3)"
      ],
      "execution_count": 197,
      "outputs": []
    },
    {
      "cell_type": "code",
      "metadata": {
        "id": "TTbfoj6ISZ_1"
      },
      "source": [
        "mse_3 = mse(Y_test, y_pred_3)"
      ],
      "execution_count": 198,
      "outputs": []
    },
    {
      "cell_type": "code",
      "metadata": {
        "colab": {
          "base_uri": "https://localhost:8080/",
          "height": 281
        },
        "id": "9bhkX1XPRqo4",
        "outputId": "2caf4aad-2c35-4cc4-c04a-66fe156e59ee"
      },
      "source": [
        "plot_predictions(predictions=y_pred_3)"
      ],
      "execution_count": 191,
      "outputs": [
        {
          "output_type": "display_data",
          "data": {
            "image/png": "[encoded data removed]",
            "text/plain": [
              "<Figure size 432x288 with 1 Axes>"
            ]
          },
          "metadata": {
            "needs_background": "light"
          }
        }
      ]
    },
    {
      "cell_type": "markdown",
      "metadata": {
        "id": "dLLFgzuHR1vO"
      },
      "source": [
        "# Importing and Tracking Results"
      ]
    },
    {
      "cell_type": "code",
      "metadata": {
        "id": "uejSYnzsRuZD"
      },
      "source": [
        "model_results = [\n",
        "                 ['model_A', mae_1.numpy(), mse_1.numpy()],\n",
        "                 ['model_B', mae_2.numpy(), mse_2.numpy()],\n",
        "                 ['model_C', mae_3.numpy(), mse_3.numpy()]\n",
        "]"
      ],
      "execution_count": 203,
      "outputs": []
    },
    {
      "cell_type": "code",
      "metadata": {
        "colab": {
          "base_uri": "https://localhost:8080/"
        },
        "id": "zEVZ9ImzSrYM",
        "outputId": "4a7696e8-90d3-4f45-bd9b-86f418838b0b"
      },
      "source": [
        "model_results"
      ],
      "execution_count": 204,
      "outputs": [
        {
          "output_type": "execute_result",
          "data": {
            "text/plain": [
              "[['model_A', 0.30672225, 0.09624589],\n",
              " ['model_B', 0.30672225, 0.09624589],\n",
              " ['model_C', 0.30672225, 0.09624589]]"
            ]
          },
          "metadata": {},
          "execution_count": 204
        }
      ]
    },
    {
      "cell_type": "code",
      "metadata": {
        "id": "FTnGKUcbSzFZ"
      },
      "source": [
        "all_results = pd.DataFrame(model_results, columns=['model', mae,mse])"
      ],
      "execution_count": 205,
      "outputs": []
    },
    {
      "cell_type": "code",
      "metadata": {
        "colab": {
          "base_uri": "https://localhost:8080/",
          "height": 143
        },
        "id": "B9U2u1UUS9Xa",
        "outputId": "dfae3611-8f13-4c41-cf26-ffbff7cf0c5b"
      },
      "source": [
        "all_results"
      ],
      "execution_count": 206,
      "outputs": [
        {
          "output_type": "execute_result",
          "data": {
            "text/html": [
              "<div>\n",
              "<style scoped>\n",
              "    .dataframe tbody tr th:only-of-type {\n",
              "        vertical-align: middle;\n",
              "    }\n",
              "\n",
              "    .dataframe tbody tr th {\n",
              "        vertical-align: top;\n",
              "    }\n",
              "\n",
              "    .dataframe thead th {\n",
              "        text-align: right;\n",
              "    }\n",
              "</style>\n",
              "<table border=\"1\" class=\"dataframe\">\n",
              "  <thead>\n",
              "    <tr style=\"text-align: right;\">\n",
              "      <th></th>\n",
              "      <th>model</th>\n",
              "      <th>&lt;function mae at 0x7fb9c417f320&gt;</th>\n",
              "      <th>&lt;function mse at 0x7fb9c55a0290&gt;</th>\n",
              "    </tr>\n",
              "  </thead>\n",
              "  <tbody>\n",
              "    <tr>\n",
              "      <th>0</th>\n",
              "      <td>model_A</td>\n",
              "      <td>0.306722</td>\n",
              "      <td>0.096246</td>\n",
              "    </tr>\n",
              "    <tr>\n",
              "      <th>1</th>\n",
              "      <td>model_B</td>\n",
              "      <td>0.306722</td>\n",
              "      <td>0.096246</td>\n",
              "    </tr>\n",
              "    <tr>\n",
              "      <th>2</th>\n",
              "      <td>model_C</td>\n",
              "      <td>0.306722</td>\n",
              "      <td>0.096246</td>\n",
              "    </tr>\n",
              "  </tbody>\n",
              "</table>\n",
              "</div>"
            ],
            "text/plain": [
              "     model  <function mae at 0x7fb9c417f320>  <function mse at 0x7fb9c55a0290>\n",
              "0  model_A                          0.306722                          0.096246\n",
              "1  model_B                          0.306722                          0.096246\n",
              "2  model_C                          0.306722                          0.096246"
            ]
          },
          "metadata": {},
          "execution_count": 206
        }
      ]
    },
    {
      "cell_type": "markdown",
      "metadata": {
        "id": "wkV0AM3zTVi3"
      },
      "source": [
        "# Saving Our Models"
      ]
    },
    {
      "cell_type": "code",
      "metadata": {
        "colab": {
          "base_uri": "https://localhost:8080/"
        },
        "id": "qdwhC-RnS_e5",
        "outputId": "432c4105-5f36-4f0a-d024-161b354a7de7"
      },
      "source": [
        "model_2.save('saving_our_model')"
      ],
      "execution_count": 207,
      "outputs": [
        {
          "output_type": "stream",
          "name": "stdout",
          "text": [
            "INFO:tensorflow:Assets written to: saving_our_model/assets\n"
          ]
        }
      ]
    },
    {
      "cell_type": "code",
      "metadata": {
        "id": "G3cYnejmTbf8"
      },
      "source": [
        "model_B.save('Model_B.h5')"
      ],
      "execution_count": 208,
      "outputs": []
    },
    {
      "cell_type": "markdown",
      "metadata": {
        "id": "DctLWD7uTvYX"
      },
      "source": [
        "# Loading a Model"
      ]
    },
    {
      "cell_type": "code",
      "metadata": {
        "id": "0KHNVnW1Tham"
      },
      "source": [
        "load_format = tf.keras.models.load_model('saving_our_model')"
      ],
      "execution_count": 209,
      "outputs": []
    },
    {
      "cell_type": "code",
      "metadata": {
        "colab": {
          "base_uri": "https://localhost:8080/"
        },
        "id": "QRI8p_vmT57L",
        "outputId": "5897e78b-8503-4234-b780-c4cbdc26e0c5"
      },
      "source": [
        "load_format"
      ],
      "execution_count": 210,
      "outputs": [
        {
          "output_type": "execute_result",
          "data": {
            "text/plain": [
              "<keras.engine.sequential.Sequential at 0x7fb9ce7df090>"
            ]
          },
          "metadata": {},
          "execution_count": 210
        }
      ]
    },
    {
      "cell_type": "code",
      "metadata": {
        "colab": {
          "base_uri": "https://localhost:8080/"
        },
        "id": "G0ejj1RuT7Hw",
        "outputId": "2a44292d-a161-436d-819d-a84f7f6587a8"
      },
      "source": [
        "model_2.predict(X_test).dtype, load_format.predict(X_test).dtype"
      ],
      "execution_count": 212,
      "outputs": [
        {
          "output_type": "execute_result",
          "data": {
            "text/plain": [
              "(dtype('float32'), dtype('float32'))"
            ]
          },
          "metadata": {},
          "execution_count": 212
        }
      ]
    },
    {
      "cell_type": "markdown",
      "metadata": {
        "id": "xB5LK7fCUOKJ"
      },
      "source": [
        "# Downloading File From Collab"
      ]
    },
    {
      "cell_type": "code",
      "metadata": {
        "id": "wMJ6vJn1UDi_"
      },
      "source": [
        "from google.colab import files"
      ],
      "execution_count": 214,
      "outputs": []
    },
    {
      "cell_type": "code",
      "metadata": {
        "colab": {
          "base_uri": "https://localhost:8080/",
          "height": 17
        },
        "id": "Ox2vFiOKUUfG",
        "outputId": "3c4f97b5-fa76-4e1a-8d4e-930146e01fb4"
      },
      "source": [
        "files.download('model.png')"
      ],
      "execution_count": 217,
      "outputs": [
        {
          "output_type": "display_data",
          "data": {
            "application/javascript": [
              "\n",
              "    async function download(id, filename, size) {\n",
              "      if (!google.colab.kernel.accessAllowed) {\n",
              "        return;\n",
              "      }\n",
              "      const div = document.createElement('div');\n",
              "      const label = document.createElement('label');\n",
              "      label.textContent = `Downloading \"${filename}\": `;\n",
              "      div.appendChild(label);\n",
              "      const progress = document.createElement('progress');\n",
              "      progress.max = size;\n",
              "      div.appendChild(progress);\n",
              "      document.body.appendChild(div);\n",
              "\n",
              "      const buffers = [];\n",
              "      let downloaded = 0;\n",
              "\n",
              "      const channel = await google.colab.kernel.comms.open(id);\n",
              "      // Send a message to notify the kernel that we're ready.\n",
              "      channel.send({})\n",
              "\n",
              "      for await (const message of channel.messages) {\n",
              "        // Send a message to notify the kernel that we're ready.\n",
              "        channel.send({})\n",
              "        if (message.buffers) {\n",
              "          for (const buffer of message.buffers) {\n",
              "            buffers.push(buffer);\n",
              "            downloaded += buffer.byteLength;\n",
              "            progress.value = downloaded;\n",
              "          }\n",
              "        }\n",
              "      }\n",
              "      const blob = new Blob(buffers, {type: 'application/binary'});\n",
              "      const a = document.createElement('a');\n",
              "      a.href = window.URL.createObjectURL(blob);\n",
              "      a.download = filename;\n",
              "      div.appendChild(a);\n",
              "      a.click();\n",
              "      div.remove();\n",
              "    }\n",
              "  "
            ],
            "text/plain": [
              "<IPython.core.display.Javascript object>"
            ]
          },
          "metadata": {}
        },
        {
          "output_type": "display_data",
          "data": {
            "application/javascript": [
              "download(\"download_7f3a0032-165d-4049-b020-63b39e6c2a0b\", \"model.png\", 19828)"
            ],
            "text/plain": [
              "<IPython.core.display.Javascript object>"
            ]
          },
          "metadata": {}
        }
      ]
    },
    {
      "cell_type": "markdown",
      "metadata": {
        "id": "IaCy8wXDUgxm"
      },
      "source": [
        ""
      ]
    },
    {
      "cell_type": "code",
      "metadata": {
        "id": "bTx78gONUZKa"
      },
      "source": [
        ""
      ],
      "execution_count": null,
      "outputs": []
    }
  ]
}