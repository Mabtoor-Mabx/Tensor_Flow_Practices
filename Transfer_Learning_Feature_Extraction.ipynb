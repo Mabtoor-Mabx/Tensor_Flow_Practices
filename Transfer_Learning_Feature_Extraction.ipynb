{
  "nbformat": 4,
  "nbformat_minor": 0,
  "metadata": {
    "colab": {
      "name": "Transfer_Learning_Feature_Extraction.ipynb",
      "provenance": []
    },
    "kernelspec": {
      "name": "python3",
      "display_name": "Python 3"
    },
    "language_info": {
      "name": "python"
    },
    "accelerator": "GPU"
  },
  "cells": [
    {
      "cell_type": "code",
      "execution_count": 1,
      "metadata": {
        "id": "jOnYP3kUw6uh"
      },
      "outputs": [],
      "source": [
        "import tensorflow as tf\n",
        "import pandas as pd\n",
        "import numpy as np\n",
        "import matplotlib.pyplot as plt"
      ]
    },
    {
      "cell_type": "markdown",
      "source": [
        "# **Transfer Learning**\n",
        "\n",
        "**Transfer Learning is Leverage a Working model's Existing Architecture and Learned Patterns for our own Problem**\n",
        "\n",
        "# **Why Transfer Learning**\n",
        "\n",
        "\n",
        "\n",
        "*  Can Leverage Existing Neural Network Architecture Similar to our own\n",
        "*   Can Leverage Working Network Architecture Which Already Learned Pattern On Same Data.\n",
        "\n",
        "\n",
        "# **Applications**\n",
        "1- Computer Vision\n",
        "\n",
        "2- NLP( Natural language Processing)\n",
        "\n",
        "\n",
        "\n"
      ],
      "metadata": {
        "id": "YC1HLpE3xVVA"
      }
    },
    {
      "cell_type": "code",
      "source": [
        "# Download And Become One With data\n",
        "\n",
        "import zipfile\n",
        "!wget https://storage.googleapis.com/ztm_tf_course/food_vision/10_food_classes_10_percent.zip\n",
        "\n",
        "#Unzip The File\n",
        "\n",
        "zip_ref = zipfile.ZipFile('10_food_classes_10_percent.zip')\n",
        "zip_ref.extractall()\n",
        "zip_ref.close()"
      ],
      "metadata": {
        "colab": {
          "base_uri": "https://localhost:8080/"
        },
        "id": "mTEnx4ABxMzt",
        "outputId": "fe1e3cb1-d5e2-481a-d2d0-32209f70f83f"
      },
      "execution_count": 2,
      "outputs": [
        {
          "output_type": "stream",
          "name": "stdout",
          "text": [
            "--2022-02-05 16:50:52--  https://storage.googleapis.com/ztm_tf_course/food_vision/10_food_classes_10_percent.zip\n",
            "Resolving storage.googleapis.com (storage.googleapis.com)... 74.125.204.128, 64.233.189.128, 108.177.97.128, ...\n",
            "Connecting to storage.googleapis.com (storage.googleapis.com)|74.125.204.128|:443... connected.\n",
            "HTTP request sent, awaiting response... 200 OK\n",
            "Length: 168546183 (161M) [application/zip]\n",
            "Saving to: ‘10_food_classes_10_percent.zip’\n",
            "\n",
            "10_food_classes_10_ 100%[===================>] 160.74M  45.1MB/s    in 3.6s    \n",
            "\n",
            "2022-02-05 16:50:56 (45.1 MB/s) - ‘10_food_classes_10_percent.zip’ saved [168546183/168546183]\n",
            "\n"
          ]
        }
      ]
    },
    {
      "cell_type": "code",
      "source": [
        "# How Many Images in Each Folder\n",
        "\n",
        "import os \n",
        "\n",
        "for dirpath, dirnames, filenames in os.walk(\"10_food_classes_10_percent\"):\n",
        "  print(f\"There are {len(dirnames)} Directories and {len(filenames)} Images in {dirpath} \")"
      ],
      "metadata": {
        "colab": {
          "base_uri": "https://localhost:8080/"
        },
        "id": "Zit4wtKny6RY",
        "outputId": "50dc3139-b0ca-4fd9-e3ab-d157b04e8c51"
      },
      "execution_count": 6,
      "outputs": [
        {
          "output_type": "stream",
          "name": "stdout",
          "text": [
            "There are 2 Directories and 0 Images in 10_food_classes_10_percent \n",
            "There are 10 Directories and 0 Images in 10_food_classes_10_percent/test \n",
            "There are 0 Directories and 250 Images in 10_food_classes_10_percent/test/fried_rice \n",
            "There are 0 Directories and 250 Images in 10_food_classes_10_percent/test/sushi \n",
            "There are 0 Directories and 250 Images in 10_food_classes_10_percent/test/pizza \n",
            "There are 0 Directories and 250 Images in 10_food_classes_10_percent/test/ramen \n",
            "There are 0 Directories and 250 Images in 10_food_classes_10_percent/test/chicken_curry \n",
            "There are 0 Directories and 250 Images in 10_food_classes_10_percent/test/hamburger \n",
            "There are 0 Directories and 250 Images in 10_food_classes_10_percent/test/grilled_salmon \n",
            "There are 0 Directories and 250 Images in 10_food_classes_10_percent/test/ice_cream \n",
            "There are 0 Directories and 250 Images in 10_food_classes_10_percent/test/chicken_wings \n",
            "There are 0 Directories and 250 Images in 10_food_classes_10_percent/test/steak \n",
            "There are 10 Directories and 0 Images in 10_food_classes_10_percent/train \n",
            "There are 0 Directories and 75 Images in 10_food_classes_10_percent/train/fried_rice \n",
            "There are 0 Directories and 75 Images in 10_food_classes_10_percent/train/sushi \n",
            "There are 0 Directories and 75 Images in 10_food_classes_10_percent/train/pizza \n",
            "There are 0 Directories and 75 Images in 10_food_classes_10_percent/train/ramen \n",
            "There are 0 Directories and 75 Images in 10_food_classes_10_percent/train/chicken_curry \n",
            "There are 0 Directories and 75 Images in 10_food_classes_10_percent/train/hamburger \n",
            "There are 0 Directories and 75 Images in 10_food_classes_10_percent/train/grilled_salmon \n",
            "There are 0 Directories and 75 Images in 10_food_classes_10_percent/train/ice_cream \n",
            "There are 0 Directories and 75 Images in 10_food_classes_10_percent/train/chicken_wings \n",
            "There are 0 Directories and 75 Images in 10_food_classes_10_percent/train/steak \n"
          ]
        }
      ]
    },
    {
      "cell_type": "code",
      "source": [
        "# Create Data Loader (Prepare The Data)\n",
        "\n",
        "\n",
        "from tensorflow.keras.preprocessing.image import ImageDataGenerator\n",
        "\n",
        "IMAGE_SHAPE = (224,224)\n",
        "BATCH_SIZE = 32               # THESE WORDS IN CAPITAL FORM REPRESENT THAT IT IS HYPERPARAMETERS\n",
        "\n",
        "train_dir = '10_food_classes_10_percent/train'\n",
        "test_dir = '10_food_classes_10_percent/test'\n",
        "\n",
        "train_datagen = ImageDataGenerator(rescale=1/255.)\n",
        "test_datagen = ImageDataGenerator(rescale=1/255.)\n",
        "\n",
        "print('Training Images')\n",
        "\n",
        "train_data_10_percent = train_datagen.flow_from_directory(train_dir,\n",
        "                                                          target_size =IMAGE_SHAPE,\n",
        "                                                          batch_size = BATCH_SIZE,\n",
        "                                                          class_mode = 'categorical')\n",
        "\n",
        "\n",
        "test_data_10_percent = test_datagen.flow_from_directory(test_dir,\n",
        "                                                        target_size = IMAGE_SHAPE,\n",
        "                                                        batch_size= BATCH_SIZE,\n",
        "                                                        class_mode = 'categorical')"
      ],
      "metadata": {
        "colab": {
          "base_uri": "https://localhost:8080/"
        },
        "id": "ZQGwQ4xOzZI3",
        "outputId": "691d737f-4d35-479c-fc9e-2a45490f5484"
      },
      "execution_count": 8,
      "outputs": [
        {
          "output_type": "stream",
          "name": "stdout",
          "text": [
            "Training Images\n",
            "Found 750 images belonging to 10 classes.\n",
            "Found 2500 images belonging to 10 classes.\n"
          ]
        }
      ]
    },
    {
      "cell_type": "markdown",
      "source": [
        "# **Introducing CallBacks**\n",
        "\n",
        "**Call Backs are Extra Functionality You can add to you can add  to your model during Or after Training**\n",
        "\n",
        "**Important Call Backs**\n",
        "\n",
        "*   Tracking Experiments With Tensorboard Callback\n",
        "*   Model Checkpoint With Checkpoint Callback\n",
        "*   Shopping A model From Train (Early Stopping) \n",
        "\n",
        "**It is Basically a tool which can add helpful functionality to your model During Training**\n",
        "\n"
      ],
      "metadata": {
        "id": "Knh5snUe1HZo"
      }
    },
    {
      "cell_type": "code",
      "source": [
        "# Create Tensorboard Callback\n",
        "\n",
        "\n",
        "\n",
        "import datetime\n",
        "def create_tensorboard_callback(dir_name, experiment_name):\n",
        "  log_dir = dir_name + \"/\" + experiment_name + \"/\" + datetime.datetime.now().strftime(\"%Y%m%d-%H%M%S\")\n",
        "  tensorboard_callback = tf.keras.callbacks.TensorBoard(\n",
        "      log_dir=log_dir\n",
        "  )\n",
        "  print(f\"Saving TensorBoard log files to: {log_dir}\")\n",
        "  return tensorboard_callback\n"
      ],
      "metadata": {
        "id": "JIjO-XKU1AI9"
      },
      "execution_count": 16,
      "outputs": []
    },
    {
      "cell_type": "markdown",
      "source": [
        "# **Exploring Tensorflow Hub**\n",
        "\n",
        "\n",
        "**Tensorflow Hub is Repository of Tensorflow trained mod.In the past W Used Tensorflow to create our own model from very scratch. Now We can Access Pretrained Model**\n",
        "\n",
        "\n",
        "\n",
        "**Image Net is Image Database . This is Huge Database Platform**"
      ],
      "metadata": {
        "id": "IrJ-04K03n8R"
      }
    },
    {
      "cell_type": "markdown",
      "source": [
        "# **Building and Compiling Tensorflow Hub**"
      ],
      "metadata": {
        "id": "Ymue_Nek51ol"
      }
    },
    {
      "cell_type": "code",
      "source": [
        "# Lets Compare two model \n",
        "\n",
        "resnet_url = 'https://tfhub.dev/google/imagenet/resnet_v2_50/feature_vector/4'\n",
        "efficientnet_url = 'https://tfhub.dev/tensorflow/efficientnet/b0/feature-vector/1'\n"
      ],
      "metadata": {
        "id": "XPSmCs8y53oP"
      },
      "execution_count": 17,
      "outputs": []
    },
    {
      "cell_type": "code",
      "source": [
        "# Import Dependencies\n",
        "\n",
        "import tensorflow as tf\n",
        "import tensorflow_hub as hub\n",
        "from tensorflow.keras import layers"
      ],
      "metadata": {
        "id": "PTayA8rO6VG_"
      },
      "execution_count": 18,
      "outputs": []
    },
    {
      "cell_type": "code",
      "source": [
        "# Lets Make a Create Model\n",
        "\n",
        "def create_model(model_url, num_classes=10):\n",
        "  '''\n",
        "  Takes  A Tensorflow Hub and Create Keras Sequential\n",
        "\n",
        "  Args:\n",
        "\n",
        "  model_url (str) : Tensorflow Hub Feature Extraction\n",
        "  num_classes (int) :   Number Of Output Neurons\n",
        "\n",
        "  Returns :\n",
        "\n",
        "  An Uncompiled Keras Sequential Model With Model_url as Feature Extraction \n",
        "  '''\n",
        "\n",
        "  # Download Pretrained Model\n",
        "\n",
        "  feature_extractor_layer = hub.KerasLayer(model_url, trainable=False, input_shape = IMAGE_SHAPE+(3,)) # Because of Freeze Already Learned patterns\n",
        "\n",
        "  # Create Our Own Model\n",
        "\n",
        "  model= tf.keras.Sequential([\n",
        "                              feature_extractor_layer, \n",
        "                              layers.Dense(num_classes,activation='softmax',name= 'output_layer'\n",
        "                              )])\n",
        "  \n",
        "  return model\n",
        "\n",
        "\n",
        "\n"
      ],
      "metadata": {
        "id": "LNpzHXPo6jnR"
      },
      "execution_count": 19,
      "outputs": []
    },
    {
      "cell_type": "markdown",
      "source": [
        "# **Creating and Testing Resnet Tensorflow Hub**"
      ],
      "metadata": {
        "id": "XQbq-lBo8ojj"
      }
    },
    {
      "cell_type": "code",
      "source": [
        "# Create Resnet Model\n",
        "\n",
        "resnet_model = create_model(resnet_url, num_classes= train_data_10_percent.num_classes)\n",
        "\n",
        "# Compile Resnet Model\n",
        "\n",
        "resnet_model.compile(\n",
        "    loss = 'categorical_crossentropy',\n",
        "    optimizer = tf.keras.optimizers.Adam(),\n",
        "    metrics=['accuracy']\n",
        ")\n",
        "\n"
      ],
      "metadata": {
        "id": "4R-azFDw8m48"
      },
      "execution_count": 33,
      "outputs": []
    },
    {
      "cell_type": "markdown",
      "source": [
        "# **Build Our Previous Model Out Of Water**"
      ],
      "metadata": {
        "id": "z7LSGtJ79Vie"
      }
    },
    {
      "cell_type": "code",
      "source": [
        "# Lets Fit our Resnet Model of Data\n",
        "\n",
        "resnet_history = resnet_model.fit(train_data_10_percent,\n",
        "                                  epochs=5, \n",
        "                                  steps_per_epoch= len(train_data_10_percent),\n",
        "                                  validation_data = test_data_10_percent,\n",
        "                                  validation_steps = len(test_data_10_percent),\n",
        "                                  callbacks = [create_tensorboard_callback(dir_name= 'Tensorflow_hub',\n",
        "                                                                            experiment_name = 'resnet50V2')] \n",
        "                                  )"
      ],
      "metadata": {
        "colab": {
          "base_uri": "https://localhost:8080/"
        },
        "id": "nSVrP6E39Ov3",
        "outputId": "c29ef34c-0293-4764-c8b4-f685507ee597"
      },
      "execution_count": 34,
      "outputs": [
        {
          "output_type": "stream",
          "name": "stdout",
          "text": [
            "Saving TensorBoard log files to: Tensorflow_hub/resnet50V2/20220205-180608\n",
            "Epoch 1/5\n",
            "24/24 [==============================] - 27s 962ms/step - loss: 1.9671 - accuracy: 0.3320 - val_loss: 1.1759 - val_accuracy: 0.6392\n",
            "Epoch 2/5\n",
            "24/24 [==============================] - 22s 932ms/step - loss: 0.8942 - accuracy: 0.7253 - val_loss: 0.8283 - val_accuracy: 0.7324\n",
            "Epoch 3/5\n",
            "24/24 [==============================] - 22s 929ms/step - loss: 0.6040 - accuracy: 0.8253 - val_loss: 0.7310 - val_accuracy: 0.7616\n",
            "Epoch 4/5\n",
            "24/24 [==============================] - 21s 918ms/step - loss: 0.4671 - accuracy: 0.8853 - val_loss: 0.6786 - val_accuracy: 0.7820\n",
            "Epoch 5/5\n",
            "24/24 [==============================] - 21s 917ms/step - loss: 0.3742 - accuracy: 0.9213 - val_loss: 0.6454 - val_accuracy: 0.7852\n"
          ]
        }
      ]
    },
    {
      "cell_type": "code",
      "source": [
        "# Changes Same Shapes As Number Of Classes \n",
        "\n",
        "# WOW! That is Incredible . Our Transfer Learning Feature Extractor Model out Performed all of The Previous Model"
      ],
      "metadata": {
        "id": "8TRtzYmj-SY0"
      },
      "execution_count": 35,
      "outputs": []
    },
    {
      "cell_type": "markdown",
      "source": [
        "# **Plot The Loss Curves**"
      ],
      "metadata": {
        "id": "BNJQ61UNBJF4"
      }
    },
    {
      "cell_type": "code",
      "source": [
        "# Tidbit : You Could Put A Function Like This into A Script Called \"Helper.py\" and Import It into Colab"
      ],
      "metadata": {
        "id": "ZWuz_oufBFX9"
      },
      "execution_count": 36,
      "outputs": []
    },
    {
      "cell_type": "code",
      "source": [
        "# Plot The Loss Curves \n",
        "\n",
        "import matplotlib.pyplot as plt\n",
        "\n",
        "def plot_loss_curves(history):\n",
        "\n",
        "  '''\n",
        "  Return Seperate Loss Curves Of Training & Validation Metrics.\n",
        "\n",
        "  Args:\n",
        "  History : Tensorflow history object\n",
        "\n",
        "  Return :\n",
        "  Plot Of Training/ Validation Loss and Accuracy Metrics\n",
        "  '''\n",
        "\n",
        "\n",
        "  loss = history.history['loss']\n",
        "  val_loss = history.history['val_loss']\n",
        "\n",
        "  accuracy = history.history['accuracy']\n",
        "  val_accuracy= history.history['val_accuracy']\n",
        "  epochs = range(len(history.history['loss']))\n",
        "\n",
        "\n",
        "  # Plot Loss \n",
        "  plt.plot(epochs,loss, label='Training_loss')\n",
        "  plt.plot(epochs, val_loss, label ='Val_loss')\n",
        "  plt.title('Loss')\n",
        "  plt.xlabel('Epochs')\n",
        "  plt.legend()\n",
        "\n",
        "\n",
        "  # Plot Accuracy\n",
        "  plt.figure()\n",
        "  plt.plot(epochs, accuracy, label='Training_accuracy')\n",
        "  plt.plot(epochs, val_accuracy, label='Val_accuracy')\n",
        "  plt.title('Accuracy')\n",
        "  plt.xlabel('Epochs')\n",
        "  plt.legend();"
      ],
      "metadata": {
        "id": "ViofEWe7BZH6"
      },
      "execution_count": 39,
      "outputs": []
    },
    {
      "cell_type": "code",
      "source": [
        "plot_loss_curves(resnet_history)"
      ],
      "metadata": {
        "colab": {
          "base_uri": "https://localhost:8080/",
          "height": 573
        },
        "id": "_g6S6MEDDIoL",
        "outputId": "a2cd938d-1118-4df6-9a8d-092817178b39"
      },
      "execution_count": 40,
      "outputs": [
        {
          "output_type": "display_data",
          "data": {
            "image/png": "[encoded data removed]",
            "text/plain": [
              "<Figure size 432x288 with 1 Axes>"
            ]
          },
          "metadata": {
            "needs_background": "light"
          }
        },
        {
          "output_type": "display_data",
          "data": {
            "image/png": "[encoded data removed]",
            "text/plain": [
              "<Figure size 432x288 with 1 Axes>"
            ]
          },
          "metadata": {
            "needs_background": "light"
          }
        }
      ]
    },
    {
      "cell_type": "markdown",
      "source": [
        "# **Creating and Testing Efficient NetB0 Tensorflow Hub Feature Extraction Model**"
      ],
      "metadata": {
        "id": "i46rc050Gw7j"
      }
    },
    {
      "cell_type": "code",
      "source": [
        "# Create EfficientNetB0 Feature Extraction\n",
        "\n",
        "efficientnet_model = create_model(model_url = efficientnet_url, num_classes= train_data_10_percent.num_classes)\n",
        "\n",
        "# Compile EfficientNetB0 Model \n",
        "\n",
        "efficientnet_model.compile(\n",
        "    loss = 'categorical_crossentropy',\n",
        "    optimizer = tf.keras.optimizers.Adam(),\n",
        "    metrics=['accuracy']\n",
        ")\n",
        "\n",
        "\n",
        "# Fit The EfficientNet Model to 10% of Training Data\n",
        "\n",
        "efficientnet_history = efficientnet_model.fit(\n",
        "    train_data_10_percent,\n",
        "    epochs=5, steps_per_epoch = len(train_data_10_percent),\n",
        "    validation_data = train_data_10_percent,\n",
        "    validation_steps = len(train_data_10_percent),\n",
        "    callbacks = [create_tensorboard_callback(dir_name='tensorflow_hub', experiment_name='efficientnetb0')]\n",
        ")"
      ],
      "metadata": {
        "colab": {
          "base_uri": "https://localhost:8080/"
        },
        "id": "CWiCRwogDU_i",
        "outputId": "1bbe48f8-4aa9-4937-c1e3-c0db029529d7"
      },
      "execution_count": 41,
      "outputs": [
        {
          "output_type": "stream",
          "name": "stdout",
          "text": [
            "Saving TensorBoard log files to: tensorflow_hub/efficientnetb0/20220205-182607\n",
            "Epoch 1/5\n",
            "24/24 [==============================] - 23s 477ms/step - loss: 1.8424 - accuracy: 0.4080 - val_loss: 1.2757 - val_accuracy: 0.7453\n",
            "Epoch 2/5\n",
            "24/24 [==============================] - 9s 382ms/step - loss: 1.0442 - accuracy: 0.7813 - val_loss: 0.8280 - val_accuracy: 0.8333\n",
            "Epoch 3/5\n",
            "24/24 [==============================] - 9s 382ms/step - loss: 0.7452 - accuracy: 0.8413 - val_loss: 0.6370 - val_accuracy: 0.8667\n",
            "Epoch 4/5\n",
            "24/24 [==============================] - 9s 382ms/step - loss: 0.5992 - accuracy: 0.8747 - val_loss: 0.5275 - val_accuracy: 0.8947\n",
            "Epoch 5/5\n",
            "24/24 [==============================] - 9s 383ms/step - loss: 0.5047 - accuracy: 0.8947 - val_loss: 0.4533 - val_accuracy: 0.9080\n"
          ]
        }
      ]
    },
    {
      "cell_type": "code",
      "source": [
        "plot_loss_curves(efficientnet_history)"
      ],
      "metadata": {
        "colab": {
          "base_uri": "https://localhost:8080/",
          "height": 573
        },
        "id": "fOMLKoo1Ipi9",
        "outputId": "2f2f4ac3-0f38-4251-e596-ec7bd055d257"
      },
      "execution_count": 42,
      "outputs": [
        {
          "output_type": "display_data",
          "data": {
            "image/png": "[encoded data removed]",
            "text/plain": [
              "<Figure size 432x288 with 1 Axes>"
            ]
          },
          "metadata": {
            "needs_background": "light"
          }
        },
        {
          "output_type": "display_data",
          "data": {
            "image/png": "[encoded data removed]",
            "text/plain": [
              "<Figure size 432x288 with 1 Axes>"
            ]
          },
          "metadata": {
            "needs_background": "light"
          }
        }
      ]
    },
    {
      "cell_type": "markdown",
      "source": [
        "# **Types Of Transfer Learning**\n",
        "\n",
        "* \"As-is\" Transfer Learning - Using An Existing Model With no Changes So far.\n",
        "\n",
        "* \"Feature-Extraction\" Transfer Learning - Use The Prelearned Patterns Of Existing Model\n",
        "\n",
        "* \"Fine-Tuning\" Transfer Learning - Use The Prelearned Patterns of Existing Model and \"Fine-Tuning\" Many or All The Underlaying Layer \n",
        "(Including New Output Layer)"
      ],
      "metadata": {
        "id": "dWCSDyy1JIca"
      }
    },
    {
      "cell_type": "code",
      "source": [
        "# Tidbit : Fine Tuning Require More Data Then Feature Extraction"
      ],
      "metadata": {
        "id": "XiC9L7PYJGQq"
      },
      "execution_count": 43,
      "outputs": []
    },
    {
      "cell_type": "markdown",
      "source": [
        "# **Compare Our Model Extraction**\n",
        "\n",
        "**TensorBoard:**\n",
        "\n",
        "**A way to Visualize Explore Your Machine Learning Model Performance and Intervals**\n",
        "\n",
        "**- Provide Visualization**\n",
        "**Tidbit : When You upload things to Tensorboard.dev , Your Experiment is Public. If You Are Running Private Experiment then don't upload them to tensorBoard.dev**"
      ],
      "metadata": {
        "id": "Idneo6xCKBQf"
      }
    },
    {
      "cell_type": "code",
      "source": [
        "# Upload TensorBoard dev records\n",
        "!tensorboard dev upload --logdir ./tensorflow_hub/ \\\n",
        "  --name \"EfficientNetB0 vs. ResNet50V2\" \\\n",
        "  --description \"Comparing two different TF Hub feature extraction models architectures using 10% of training images\" \\\n",
        "  --one_shot"
      ],
      "metadata": {
        "colab": {
          "base_uri": "https://localhost:8080/"
        },
        "id": "kPL5GIU2KAVe",
        "outputId": "9cc9ce76-7857-475a-ecf0-de4037a1deb6"
      },
      "execution_count": 45,
      "outputs": [
        {
          "output_type": "stream",
          "name": "stdout",
          "text": [
            "\n",
            "***** TensorBoard Uploader *****\n",
            "\n",
            "This will upload your TensorBoard logs to https://tensorboard.dev/ from\n",
            "the following directory:\n",
            "\n",
            "./tensorflow_hub/\n",
            "\n",
            "This TensorBoard will be visible to everyone. Do not upload sensitive\n",
            "data.\n",
            "\n",
            "Your use of this service is subject to Google's Terms of Service\n",
            "<https://policies.google.com/terms> and Privacy Policy\n",
            "<https://policies.google.com/privacy>, and TensorBoard.dev's Terms of Service\n",
            "<https://tensorboard.dev/policy/terms/>.\n",
            "\n",
            "This notice will not be shown again while you are logged into the uploader.\n",
            "To log out, run `tensorboard dev auth revoke`.\n",
            "\n",
            "Continue? (yes/NO) yes\n",
            "\n",
            "Please visit this URL to authorize this application: https://accounts.google.com/o/oauth2/auth?response_type=code&client_id=373649185512-8v619h5kft38l4456nm2dj4ubeqsrvh6.apps.googleusercontent.com&redirect_uri=urn%3Aietf%3Awg%3Aoauth%3A2.0%3Aoob&scope=openid+https%3A%2F%2Fwww.googleapis.com%2Fauth%2Fuserinfo.email&state=3MwjQEbTFur0eFHY6Ie7O1FQwnDnUB&prompt=consent&access_type=offline\n",
            "Enter the authorization code: 4/1AX4XfWgbaSKAgbh1AgeHPwIfuCCuTXUZYryn0p7fXfC7u6h6Knfz7nown04\n",
            "\n",
            "\n",
            "New experiment created. View your TensorBoard at: https://tensorboard.dev/experiment/phJqa6n1SOKnyon9LO8KHQ/\n",
            "\n",
            "\u001b[1m[2022-02-05T18:39:39]\u001b[0m Started scanning logdir.\n",
            "\u001b[1m[2022-02-05T18:39:41]\u001b[0m Total uploaded: 30 scalars, 0 tensors, 1 binary objects (3.9 MB)\n",
            "\u001b[1m[2022-02-05T18:39:41]\u001b[0m Done scanning logdir.\n",
            "\n",
            "\n",
            "Done. View your TensorBoard at https://tensorboard.dev/experiment/phJqa6n1SOKnyon9LO8KHQ/\n"
          ]
        }
      ]
    },
    {
      "cell_type": "markdown",
      "source": [
        "**After That Click Yes, Enter Secret Code(You can get from your Google Account)**\n",
        "\n",
        "**And Your Data Will Be Public**"
      ],
      "metadata": {
        "id": "OBzfy5VIMkPM"
      }
    },
    {
      "cell_type": "code",
      "source": [
        "!tensorboard dev list"
      ],
      "metadata": {
        "colab": {
          "base_uri": "https://localhost:8080/"
        },
        "id": "AmHU2CvlLPzz",
        "outputId": "7d5fb4b3-d0c1-47cf-c9fd-94f8bf05589d"
      },
      "execution_count": 46,
      "outputs": [
        {
          "output_type": "stream",
          "name": "stdout",
          "text": [
            "https://tensorboard.dev/experiment/phJqa6n1SOKnyon9LO8KHQ/\n",
            "\tName                 EfficientNetB0 vs. ResNet50V2\n",
            "\tDescription          Comparing two different TF Hub feature extraction models architectures using 10% of training images\n",
            "\tId                   phJqa6n1SOKnyon9LO8KHQ\n",
            "\tCreated              2022-02-05 18:39:39 (4 minutes ago)\n",
            "\tUpdated              2022-02-05 18:39:41 (4 minutes ago)\n",
            "\tRuns                 2\n",
            "\tTags                 5\n",
            "\tScalars              30\n",
            "\tTensor bytes         0\n",
            "\tBinary object bytes  4059082\n",
            "Total: 1 experiment(s)\n"
          ]
        }
      ]
    },
    {
      "cell_type": "code",
      "source": [
        "!tensorboard dev list"
      ],
      "metadata": {
        "colab": {
          "base_uri": "https://localhost:8080/"
        },
        "id": "DHizCJASM4pv",
        "outputId": "808db576-8c38-418a-8020-c09be49517c0"
      },
      "execution_count": 47,
      "outputs": [
        {
          "output_type": "stream",
          "name": "stdout",
          "text": [
            "https://tensorboard.dev/experiment/phJqa6n1SOKnyon9LO8KHQ/\n",
            "\tName                 EfficientNetB0 vs. ResNet50V2\n",
            "\tDescription          Comparing two different TF Hub feature extraction models architectures using 10% of training images\n",
            "\tId                   phJqa6n1SOKnyon9LO8KHQ\n",
            "\tCreated              2022-02-05 18:39:39 (5 minutes ago)\n",
            "\tUpdated              2022-02-05 18:39:41 (5 minutes ago)\n",
            "\tRuns                 2\n",
            "\tTags                 5\n",
            "\tScalars              30\n",
            "\tTensor bytes         0\n",
            "\tBinary object bytes  4059082\n",
            "Total: 1 experiment(s)\n"
          ]
        }
      ]
    },
    {
      "cell_type": "code",
      "source": [
        ""
      ],
      "metadata": {
        "id": "Q9ZRuMCsNBhy"
      },
      "execution_count": null,
      "outputs": []
    }
  ]
}