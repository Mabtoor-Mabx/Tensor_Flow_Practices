{
  "nbformat": 4,
  "nbformat_minor": 0,
  "metadata": {
    "colab": {
      "name": "Transfer_Learning_Feature_Extraction.ipynb",
      "provenance": []
    },
    "kernelspec": {
      "name": "python3",
      "display_name": "Python 3"
    },
    "language_info": {
      "name": "python"
    },
    "accelerator": "GPU"
  },
  "cells": [
    {
      "cell_type": "markdown",
      "source": [
        "# **Import Libraries**"
      ],
      "metadata": {
        "id": "OqOtBrIsE-85"
      }
    },
    {
      "cell_type": "code",
      "execution_count": 1,
      "metadata": {
        "id": "BxEZXnO4E2O8"
      },
      "outputs": [],
      "source": [
        "import tensorflow as tf\n",
        "import numpy as np\n",
        "import pandas as pd\n",
        "import matplotlib.pyplot as plt"
      ]
    },
    {
      "cell_type": "markdown",
      "source": [
        "# **Transfer Learning**\n",
        "\n",
        "**Transfer Learning is Leveraging A Working Model Existing Architecture and Learned pattern For Our Own Problem**\n",
        "\n",
        "# **Why Transfer Learning**\n",
        "\n",
        "**Can Leverage Existing Neural Network Architecture Similar to own data**\n",
        "\n",
        "**Can Leverage Working Network Architecture Which Already Learned Pattern on Similar Data**\n",
        "\n",
        "# **Applications**\n",
        "\n",
        "**1-Computer Vision**\n",
        "\n",
        "**2- NLP (Natural language Processing)**"
      ],
      "metadata": {
        "id": "l6r_I6X2FPy2"
      }
    },
    {
      "cell_type": "code",
      "source": [
        "# Download And Become With Data\n",
        "\n",
        "import zipfile\n",
        "\n",
        "!wget https://storage.googleapis.com/ztm_tf_course/food_vision/10_food_classes_10_percent.zip\n",
        "\n",
        "# Unzip The File\n",
        "\n",
        "zip_ref = zipfile.ZipFile('10_food_classes_10_percent.zip')\n",
        "zip_ref.extractall()\n",
        "zip_ref.close()"
      ],
      "metadata": {
        "colab": {
          "base_uri": "https://localhost:8080/"
        },
        "id": "RwYSE_pRFOdz",
        "outputId": "dbce2591-726d-4d4d-cb89-eb259002c43a"
      },
      "execution_count": 2,
      "outputs": [
        {
          "output_type": "stream",
          "name": "stdout",
          "text": [
            "--2022-02-18 10:26:14--  https://storage.googleapis.com/ztm_tf_course/food_vision/10_food_classes_10_percent.zip\n",
            "Resolving storage.googleapis.com (storage.googleapis.com)... 142.250.81.208, 172.253.122.128, 142.250.188.48, ...\n",
            "Connecting to storage.googleapis.com (storage.googleapis.com)|142.250.81.208|:443... connected.\n",
            "HTTP request sent, awaiting response... 200 OK\n",
            "Length: 168546183 (161M) [application/zip]\n",
            "Saving to: ‘10_food_classes_10_percent.zip’\n",
            "\n",
            "10_food_classes_10_ 100%[===================>] 160.74M  54.8MB/s    in 2.9s    \n",
            "\n",
            "2022-02-18 10:26:17 (54.8 MB/s) - ‘10_food_classes_10_percent.zip’ saved [168546183/168546183]\n",
            "\n"
          ]
        }
      ]
    },
    {
      "cell_type": "code",
      "source": [
        "# How Many Images In Each Folder\n",
        "\n",
        "import os \n",
        "\n",
        "for dirpath, dirname , filename in os.walk('10_food_classes_10_percent'):\n",
        "  print(f\"There are {len(dirname)} Directories and {len(filename)} Images in '{dirpath}'\")"
      ],
      "metadata": {
        "colab": {
          "base_uri": "https://localhost:8080/"
        },
        "id": "2ohieOajGQ5Q",
        "outputId": "1f1e615c-b2bf-49a8-d4af-6b46170b15a4"
      },
      "execution_count": 3,
      "outputs": [
        {
          "output_type": "stream",
          "name": "stdout",
          "text": [
            "There are 2 Directories and 0 Images in '10_food_classes_10_percent'\n",
            "There are 10 Directories and 0 Images in '10_food_classes_10_percent/test'\n",
            "There are 0 Directories and 250 Images in '10_food_classes_10_percent/test/ramen'\n",
            "There are 0 Directories and 250 Images in '10_food_classes_10_percent/test/fried_rice'\n",
            "There are 0 Directories and 250 Images in '10_food_classes_10_percent/test/hamburger'\n",
            "There are 0 Directories and 250 Images in '10_food_classes_10_percent/test/ice_cream'\n",
            "There are 0 Directories and 250 Images in '10_food_classes_10_percent/test/chicken_wings'\n",
            "There are 0 Directories and 250 Images in '10_food_classes_10_percent/test/steak'\n",
            "There are 0 Directories and 250 Images in '10_food_classes_10_percent/test/pizza'\n",
            "There are 0 Directories and 250 Images in '10_food_classes_10_percent/test/grilled_salmon'\n",
            "There are 0 Directories and 250 Images in '10_food_classes_10_percent/test/sushi'\n",
            "There are 0 Directories and 250 Images in '10_food_classes_10_percent/test/chicken_curry'\n",
            "There are 10 Directories and 0 Images in '10_food_classes_10_percent/train'\n",
            "There are 0 Directories and 75 Images in '10_food_classes_10_percent/train/ramen'\n",
            "There are 0 Directories and 75 Images in '10_food_classes_10_percent/train/fried_rice'\n",
            "There are 0 Directories and 75 Images in '10_food_classes_10_percent/train/hamburger'\n",
            "There are 0 Directories and 75 Images in '10_food_classes_10_percent/train/ice_cream'\n",
            "There are 0 Directories and 75 Images in '10_food_classes_10_percent/train/chicken_wings'\n",
            "There are 0 Directories and 75 Images in '10_food_classes_10_percent/train/steak'\n",
            "There are 0 Directories and 75 Images in '10_food_classes_10_percent/train/pizza'\n",
            "There are 0 Directories and 75 Images in '10_food_classes_10_percent/train/grilled_salmon'\n",
            "There are 0 Directories and 75 Images in '10_food_classes_10_percent/train/sushi'\n",
            "There are 0 Directories and 75 Images in '10_food_classes_10_percent/train/chicken_curry'\n"
          ]
        }
      ]
    },
    {
      "cell_type": "code",
      "source": [
        "# Create Data Loader (Prepare The Data)\n",
        "\n",
        "from tensorflow.keras.preprocessing.image import ImageDataGenerator"
      ],
      "metadata": {
        "id": "2LfOEr0aG3dT"
      },
      "execution_count": 4,
      "outputs": []
    },
    {
      "cell_type": "code",
      "source": [
        "IMAGE_SHAPE=(224,224)\n",
        "BATCH_SIZE=32 # CAPITAL WORDS REPRESENTS THAT THESE ARE HYPER PARAMETERS\n",
        "\n",
        "train_dir = '10_food_classes_10_percent/train'\n",
        "test_dir = '10_food_classes_10_percent/test'"
      ],
      "metadata": {
        "id": "ddHsTsgtHJt5"
      },
      "execution_count": 5,
      "outputs": []
    },
    {
      "cell_type": "code",
      "source": [
        "train_datagen = ImageDataGenerator(rescale=1./255)\n",
        "test_datagen = ImageDataGenerator(rescale=1./255)\n",
        "print('Training Images')"
      ],
      "metadata": {
        "colab": {
          "base_uri": "https://localhost:8080/"
        },
        "id": "ytgpgxe-HY7i",
        "outputId": "d639e45d-12b4-46fa-a917-45344515a83a"
      },
      "execution_count": 6,
      "outputs": [
        {
          "output_type": "stream",
          "name": "stdout",
          "text": [
            "Training Images\n"
          ]
        }
      ]
    },
    {
      "cell_type": "code",
      "source": [
        "train_data_10_percent = train_datagen.flow_from_directory(train_dir,\n",
        "                                                          target_size = IMAGE_SHAPE,\n",
        "                                                          batch_size= BATCH_SIZE,\n",
        "                                                          class_mode='categorical')\n",
        "\n",
        "test_data_10_percent = test_datagen.flow_from_directory(test_dir,\n",
        "                                                        target_size= IMAGE_SHAPE,\n",
        "                                                        batch_size= BATCH_SIZE,\n",
        "                                                        class_mode = 'categorical')"
      ],
      "metadata": {
        "colab": {
          "base_uri": "https://localhost:8080/"
        },
        "id": "ZuuHu-ehHr6f",
        "outputId": "d0d09d46-9d52-42ed-edf0-dec4f89d397b"
      },
      "execution_count": 7,
      "outputs": [
        {
          "output_type": "stream",
          "name": "stdout",
          "text": [
            "Found 750 images belonging to 10 classes.\n",
            "Found 2500 images belonging to 10 classes.\n"
          ]
        }
      ]
    },
    {
      "cell_type": "markdown",
      "source": [
        "# **Introducing CallBacks**\n",
        "\n",
        "**CallBacks Are Extra Functionality you can add to your model during or after training**\n",
        "\n",
        "**Important CallBacks**\n",
        "\n",
        "**1- Tracking Experiments With Tensorboard Callbacks**\n",
        "\n",
        "**2- Model CheckPoint With Checkpoint Callbacks**\n",
        "\n",
        "**3- Stopping Model From Train(Early Stopping)**\n",
        "\n",
        "**Tool Which Can Add Helpful Functionality to your model During Training**\n",
        "\n"
      ],
      "metadata": {
        "id": "9uDgaz3RIXd3"
      }
    },
    {
      "cell_type": "code",
      "source": [
        "# Create Tensorboard Callback\n",
        "\n",
        "import datetime\n",
        "def create_tensorboard_callback(dir_name, experiment_name):\n",
        "  log_dir = dir_name + '/' + experiment_name + '/' + datetime.datetime.now().strftime('%Y&m&d-%H%M%S')\n",
        "  tensorboard_callback = tf.keras.callbacks.TensorBoard(log_dir = log_dir)\n",
        "  print(f\"Saving Tensorboard log Files To {log_dir}\")\n",
        "  return tensorboard_callback"
      ],
      "metadata": {
        "id": "AnNsg-DeIJlO"
      },
      "execution_count": 8,
      "outputs": []
    },
    {
      "cell_type": "markdown",
      "source": [
        "# **Exploring Tensorflow Hub**\n",
        "\n",
        "**Tensorflow Hub is Bit Repository Of Tensorflow Trained Model**\n",
        "\n",
        "**In The Past, We Used Tensorflow To Create Our own Model From Very Scratch. Now we Can Acceess Pretrained Model**\n",
        "\n",
        "**Image Net is Image DataBase. This is Huge Database Platform**\n",
        "\n",
        "# **Paper With Code.com**\n",
        "\n",
        "**RESNET_V2_50/feature_vetor**\n",
        "\n",
        "**EfficientNetB0/feature_vector**\n",
        "\n",
        "**Spend 10 Minutes To Explore Tensorflow Hub**\n",
        "\n",
        "**The Higher The Number , The Complex Your Model**\n"
      ],
      "metadata": {
        "id": "1-LF4CsbJu56"
      }
    },
    {
      "cell_type": "markdown",
      "source": [
        "# **Building and Compiling Tensorflow Hub**\n"
      ],
      "metadata": {
        "id": "PNHrlZBJKzzI"
      }
    },
    {
      "cell_type": "code",
      "source": [
        "# Lets Compare The Following Two Model\n",
        "\n",
        "efficientnet_url = 'https://tfhub.dev/tensorflow/efficientnet/b0/feature-vector/1'\n",
        "resnet_url = 'https://tfhub.dev/google/imagenet/resnet_v2_50/feature_vector/5'\n",
        "\n",
        "\n",
        "# Import Dependencies\n",
        "\n",
        "import tensorflow as tf\n",
        "import tensorflow_hub as hub\n",
        "from tensorflow.keras import layers "
      ],
      "metadata": {
        "id": "72fHe4OuJt0O"
      },
      "execution_count": 9,
      "outputs": []
    },
    {
      "cell_type": "code",
      "source": [
        "# Lets Make as Create Model\n",
        "\n",
        "def create_model(model_url, num_classes=10):\n",
        "\n",
        "  '''\n",
        "  Takes a Tensorflow Hub and Create Keras Sequential\n",
        "  \n",
        "  Args:\n",
        "  Model_url(str): Tensorflow Hub Feature Extraction\n",
        "  Num_classes(int) : Number of Output Neurons \n",
        "\n",
        "  Returns :\n",
        "  An Uncompiled Keras Sequential Model With Model Url As Feature Extraction\n",
        "  '''\n",
        "\n",
        "\n",
        "  # Download Pretrained Model\n",
        "\n",
        "  feature_extractor_layer = hub.KerasLayer(model_url, trainable=False,\n",
        "                                           input_shape=IMAGE_SHAPE+(3,)) # Freeze Already  Learned Patterns\n",
        "\n",
        "  # Create Our Own Model \n",
        "\n",
        "  model = tf.keras.Sequential([\n",
        "                               feature_extractor_layer,\n",
        "                               layers.Dense(num_classes, activation ='softmax', name = 'output_layer')\n",
        "\n",
        "  ])\n",
        "\n",
        "  return model"
      ],
      "metadata": {
        "id": "vGq6H1lYLlnW"
      },
      "execution_count": 10,
      "outputs": []
    },
    {
      "cell_type": "markdown",
      "source": [
        "# **Creating and Testing ResNet Tensorflow Hub**"
      ],
      "metadata": {
        "id": "BGK0IPmlNFbn"
      }
    },
    {
      "cell_type": "code",
      "source": [
        "# Create Resnet Model\n",
        "\n",
        "resnet_model = create_model(resnet_url,num_classes = train_data_10_percent.num_classes)\n",
        "\n",
        "# Compile The Model\n",
        "\n",
        "resnet_model.compile(\n",
        "    loss = 'categorical_crossentropy',\n",
        "    optimizer = tf.keras.optimizers.Adam(),\n",
        "    metrics=['accuracy']\n",
        ")\n",
        "\n"
      ],
      "metadata": {
        "id": "IClyiccpNETO"
      },
      "execution_count": 11,
      "outputs": []
    },
    {
      "cell_type": "markdown",
      "source": [
        "# **Bring Our Previous Model Out Of Water**"
      ],
      "metadata": {
        "id": "FLeAZ3uvNoqI"
      }
    },
    {
      "cell_type": "code",
      "source": [
        "# Lets Fit Our Resnet Model To Data\n",
        "\n",
        "resnet_history = resnet_model.fit(train_data_10_percent, \n",
        "                                  epochs=5,\n",
        "                                  steps_per_epoch= len(train_data_10_percent),\n",
        "                                  validation_data= test_data_10_percent,\n",
        "                                  validation_steps = len(test_data_10_percent),\n",
        "                                  callbacks = [create_tensorboard_callback(\n",
        "                                      dir_name= 'tensorflow_hub',\n",
        "                                      experiment_name = 'Resnet50V2'\n",
        "                                  )])"
      ],
      "metadata": {
        "colab": {
          "base_uri": "https://localhost:8080/"
        },
        "id": "xP4etv8YNlyH",
        "outputId": "98f2a8af-256f-49d8-cb07-93301c1296dd"
      },
      "execution_count": 12,
      "outputs": [
        {
          "output_type": "stream",
          "name": "stdout",
          "text": [
            "Saving Tensorboard log Files To tensorflow_hub/Resnet50V2/2022&m&d-102628\n",
            "Epoch 1/5\n",
            "24/24 [==============================] - 386s 16s/step - loss: 1.9346 - accuracy: 0.3547 - val_loss: 1.1887 - val_accuracy: 0.6396\n",
            "Epoch 2/5\n",
            "24/24 [==============================] - 382s 16s/step - loss: 0.8996 - accuracy: 0.7253 - val_loss: 0.8457 - val_accuracy: 0.7256\n",
            "Epoch 3/5\n",
            "24/24 [==============================] - 379s 16s/step - loss: 0.6186 - accuracy: 0.8307 - val_loss: 0.7493 - val_accuracy: 0.7516\n",
            "Epoch 4/5\n",
            "24/24 [==============================] - 379s 16s/step - loss: 0.4700 - accuracy: 0.8813 - val_loss: 0.7032 - val_accuracy: 0.7696\n",
            "Epoch 5/5\n",
            "24/24 [==============================] - 410s 18s/step - loss: 0.3802 - accuracy: 0.9080 - val_loss: 0.6780 - val_accuracy: 0.7880\n"
          ]
        }
      ]
    },
    {
      "cell_type": "markdown",
      "source": [
        "**Changes Some Shapes As Number Of Classes. WoW! Thats is Incredible. Our Transfer Learning Feature Extraction Model is out Performed all of the Previous Model**"
      ],
      "metadata": {
        "id": "2xSv5WgFOW7y"
      }
    },
    {
      "cell_type": "markdown",
      "source": [
        "# **Plot Loss Curves**\n",
        "\n",
        "**Tidbit: You Could Put A function Like This Into Script called Helper.py and Import it into Colab** "
      ],
      "metadata": {
        "id": "aiVt81CjOrdv"
      }
    },
    {
      "cell_type": "code",
      "source": [
        "# Create Function To Plot Loss Curves\n",
        "\n",
        "import matplotlib.pyplot as plt\n",
        "\n",
        "def plot_loss_curves(history):\n",
        "\n",
        "  '''\n",
        "  Return Seperate Loss Curves Of Training and Validation Metrics .\n",
        "\n",
        "  Args:\n",
        "  History : Tensorflow History Object\n",
        "\n",
        "  Return :\n",
        "\n",
        "  Plot Of Training / Validation Loss and Accuracy Metrics\n",
        "  '''\n",
        "\n",
        "  loss = history.history['loss']\n",
        "  val_loss = history.history['val_loss']\n",
        "\n",
        "  accuracy  = history.history['accuracy']\n",
        "  val_accuracy = history.history['val_accuracy']\n",
        "\n",
        "  epochs = range(len(history.history['loss']))\n",
        "\n",
        "  # Plot Loss\n",
        "\n",
        "  plt.plot(epochs,loss,label='Training loss')\n",
        "  plt.plot(epochs,val_loss, label='Val_loss')\n",
        "  plt.title('loss')\n",
        "  plt.xlabel('Epochs')\n",
        "  plt.legend()\n",
        "\n",
        "\n",
        "  # Plot Accuracy\n",
        "\n",
        "  plt.plot(epochs,accuracy, label='training_accuracy')\n",
        "  plt.plot(epochs,val_accuracy, label='val_accuracy')\n",
        "  plt.title('Accuracy')\n",
        "  plt.xlabel('Epochs')\n",
        "  plt.legend();\n",
        "\n",
        "\n",
        "\n"
      ],
      "metadata": {
        "id": "c6ZxJA2fORfm"
      },
      "execution_count": 13,
      "outputs": []
    },
    {
      "cell_type": "code",
      "source": [
        "plot_loss_curves(resnet_history)"
      ],
      "metadata": {
        "colab": {
          "base_uri": "https://localhost:8080/",
          "height": 295
        },
        "id": "-nHIGkotQOqG",
        "outputId": "ac0bea85-8ec9-4242-b2a6-46e404e02afc"
      },
      "execution_count": 14,
      "outputs": [
        {
          "output_type": "display_data",
          "data": {
            "image/png": "[encoded data removed]",
            "text/plain": [
              "<Figure size 432x288 with 1 Axes>"
            ]
          },
          "metadata": {
            "needs_background": "light"
          }
        }
      ]
    },
    {
      "cell_type": "markdown",
      "source": [
        "# **Creating and Testing Efficient Net B0 Tensorflow Hub Feature Extraction Model**"
      ],
      "metadata": {
        "id": "wC2EoJk9QViz"
      }
    },
    {
      "cell_type": "code",
      "source": [
        "# Create Efficient Net B0 Feature Extractor\n",
        "\n",
        "efficientnet_model = create_model(model_url = efficientnet_url,\n",
        "                                  num_classes= train_data_10_percent.num_classes)\n",
        "\n",
        "#  Compare Efficient Net Model\n",
        "\n",
        "efficientnet_model.compile(\n",
        "    loss = 'categorical_crossentropy',\n",
        "    optimizer = tf.keras.optimizers.Adam(),\n",
        "    metrics=['accuracy']\n",
        ")\n",
        "\n",
        "\n",
        "# Fit The Efficient Net Model To 10% Of Training Data\n",
        "\n",
        "efficientnet_history = efficientnet_model.fit(train_data_10_percent,\n",
        "                                              epochs=5,\n",
        "                                              steps_per_epoch = len(train_data_10_percent),\n",
        "                                              validation_data = test_data_10_percent,\n",
        "                                              validation_steps = len(test_data_10_percent),\n",
        "                                              callbacks = [create_tensorboard_callback(\n",
        "                                                  dir_name = 'Tensorflow Hub',\n",
        "                                                  experiment_name = 'efficientNetb0'\n",
        "                                              )])"
      ],
      "metadata": {
        "colab": {
          "base_uri": "https://localhost:8080/"
        },
        "id": "3BkITcEeQSCD",
        "outputId": "1cee71be-b850-443f-be38-82a41dd9a3e4"
      },
      "execution_count": 15,
      "outputs": [
        {
          "output_type": "stream",
          "name": "stdout",
          "text": [
            "Saving Tensorboard log Files To Tensorflow Hub/efficientNetb0/2022&m&d-110134\n",
            "Epoch 1/5\n",
            "24/24 [==============================] - 184s 8s/step - loss: 1.9232 - accuracy: 0.3800 - val_loss: 1.3291 - val_accuracy: 0.7208\n",
            "Epoch 2/5\n",
            "24/24 [==============================] - 174s 7s/step - loss: 1.0973 - accuracy: 0.7773 - val_loss: 0.8821 - val_accuracy: 0.8168\n",
            "Epoch 3/5\n",
            "24/24 [==============================] - 137s 6s/step - loss: 0.7743 - accuracy: 0.8347 - val_loss: 0.7054 - val_accuracy: 0.8440\n",
            "Epoch 4/5\n",
            "24/24 [==============================] - 136s 6s/step - loss: 0.6227 - accuracy: 0.8640 - val_loss: 0.6147 - val_accuracy: 0.8576\n",
            "Epoch 5/5\n",
            "24/24 [==============================] - 174s 7s/step - loss: 0.5247 - accuracy: 0.8920 - val_loss: 0.5623 - val_accuracy: 0.8604\n"
          ]
        }
      ]
    },
    {
      "cell_type": "markdown",
      "source": [
        "**Plot Loss Curves**"
      ],
      "metadata": {
        "id": "UgswzK21SgNm"
      }
    },
    {
      "cell_type": "code",
      "source": [
        "plot_loss_curves(efficientnet_history)"
      ],
      "metadata": {
        "colab": {
          "base_uri": "https://localhost:8080/",
          "height": 295
        },
        "id": "T5Z7ID1pSX7T",
        "outputId": "4b76cab1-873c-4d9e-9129-3534cad5d814"
      },
      "execution_count": 16,
      "outputs": [
        {
          "output_type": "display_data",
          "data": {
            "image/png": "[encoded data removed]",
            "text/plain": [
              "<Figure size 432x288 with 1 Axes>"
            ]
          },
          "metadata": {
            "needs_background": "light"
          }
        }
      ]
    },
    {
      "cell_type": "markdown",
      "source": [
        "# **Types Of Transfer Learning**\n",
        "\n",
        "**As-is Transfer Learning :- Using Existing Model with no Changes So Ever**\n",
        "\n",
        "**Feature_Extraction Transfer Learning: Use The Pretrained Patterns Of Existing Model**\n",
        "\n",
        "**Fine_Tuning Transfer Learning: Use The Prelearned Pattern Of Existing model and `Fine-Tune`Many or all The Underlying Layer (Including The Input layer)**\n",
        "\n",
        "\n",
        "**Tidbit: Fine Tuning Required More Data Than Feature Extraction**\n",
        "\n"
      ],
      "metadata": {
        "id": "K4GlDqReTdHZ"
      }
    },
    {
      "cell_type": "markdown",
      "source": [
        "# **Compare Model Result**\n",
        "\n",
        "**Tensorboard : A way To Visuallizing Explore Your Machine Learning Models Performance And Internals**\n",
        "\n",
        "**Provide Visualization**\n",
        "\n",
        "**Tidbit : When You Upload Things To TensorBoard Dev, Your Experiment Is Public. If You are Running Private Experiment Then Don't Upload Them to tensorboard Dev**"
      ],
      "metadata": {
        "id": "C-zQKDJOUWeX"
      }
    },
    {
      "cell_type": "code",
      "source": [
        "# Upload TensorBoard Dev Records\n",
        "\n",
        "! tensorboard dev upload --logdir ./tensorflow_hub/ \\\n",
        "  --name 'EfficientNetB0 vs ResNet50V2'\\\n",
        "  --description \"Compairing Two Different Tf Hub Feature Extraction Model Architecture Using 10% of Model Data\"\\\n",
        "  --one_shot\n"
      ],
      "metadata": {
        "colab": {
          "base_uri": "https://localhost:8080/"
        },
        "id": "zaai4SRITbWe",
        "outputId": "8c1c6026-e69e-4332-9b53-9f49e8102b3e"
      },
      "execution_count": 17,
      "outputs": [
        {
          "output_type": "stream",
          "name": "stdout",
          "text": [
            "2022-02-18 11:15:40.659754: E tensorflow/stream_executor/cuda/cuda_driver.cc:271] failed call to cuInit: CUDA_ERROR_NO_DEVICE: no CUDA-capable device is detected\n",
            "\n",
            "New experiment created. View your TensorBoard at: https://tensorboard.dev/experiment/xOocZTZGTJ26yQckH7qSEQ/\n",
            "\n",
            "\u001b[1m[2022-02-18T11:15:40]\u001b[0m Started scanning logdir.\n",
            "\u001b[1m[2022-02-18T11:15:41]\u001b[0m Total uploaded: 30 scalars, 0 tensors, 1 binary objects (1.6 MB)\n",
            "\u001b[1m[2022-02-18T11:15:41]\u001b[0m Done scanning logdir.\n",
            "\n",
            "\n",
            "Done. View your TensorBoard at https://tensorboard.dev/experiment/xOocZTZGTJ26yQckH7qSEQ/\n"
          ]
        }
      ]
    },
    {
      "cell_type": "markdown",
      "source": [
        " **After Yes! Enter Your Secret Code (You will get This Code From Google Colab). and Your Data Will Be Public**"
      ],
      "metadata": {
        "id": "2tCuU9gUWbGy"
      }
    },
    {
      "cell_type": "code",
      "source": [
        "! tensorboard dev list"
      ],
      "metadata": {
        "colab": {
          "base_uri": "https://localhost:8080/"
        },
        "id": "uw7luoBLVikl",
        "outputId": "499019f6-3e6e-4f8e-a5af-be07bd1bf36e"
      },
      "execution_count": 18,
      "outputs": [
        {
          "output_type": "stream",
          "name": "stdout",
          "text": [
            "2022-02-18 11:15:46.079839: E tensorflow/stream_executor/cuda/cuda_driver.cc:271] failed call to cuInit: CUDA_ERROR_NO_DEVICE: no CUDA-capable device is detected\n",
            "https://tensorboard.dev/experiment/xOocZTZGTJ26yQckH7qSEQ/\n",
            "\tName                 EfficientNetB0 vs ResNet50V2\n",
            "\tDescription          Compairing Two Different Tf Hub Feature Extraction Model Architecture Using 10% of Model Data\n",
            "\tId                   xOocZTZGTJ26yQckH7qSEQ\n",
            "\tCreated              2022-02-18 11:15:40 (13 seconds ago)\n",
            "\tUpdated              2022-02-18 11:15:41 (12 seconds ago)\n",
            "\tRuns                 2\n",
            "\tTags                 5\n",
            "\tScalars              30\n",
            "\tTensor bytes         0\n",
            "\tBinary object bytes  1705304\n",
            "https://tensorboard.dev/experiment/awAecgu5QOapJv9mjGw51Q/\n",
            "\tName                 EfficientNetB0 vs ResNet50V2\n",
            "\tDescription          Compairing Two Different Tf Hub Feature Extraction Model Architecture Using 10% of Model Data\n",
            "\tId                   awAecgu5QOapJv9mjGw51Q\n",
            "\tCreated              2022-02-18 10:20:47 (55 minutes ago)\n",
            "\tUpdated              2022-02-18 10:20:48 (55 minutes ago)\n",
            "\tRuns                 2\n",
            "\tTags                 5\n",
            "\tScalars              30\n",
            "\tTensor bytes         0\n",
            "\tBinary object bytes  1705322\n",
            "https://tensorboard.dev/experiment/phJqa6n1SOKnyon9LO8KHQ/\n",
            "\tName                 EfficientNetB0 vs. ResNet50V2\n",
            "\tDescription          Comparing two different TF Hub feature extraction models architectures using 10% of training images\n",
            "\tId                   phJqa6n1SOKnyon9LO8KHQ\n",
            "\tCreated              2022-02-05 18:39:39\n",
            "\tUpdated              2022-02-05 18:39:41\n",
            "\tRuns                 2\n",
            "\tTags                 5\n",
            "\tScalars              30\n",
            "\tTensor bytes         0\n",
            "\tBinary object bytes  4059082\n",
            "Total: 3 experiment(s)\n"
          ]
        }
      ]
    },
    {
      "cell_type": "markdown",
      "source": [
        "# **So This Is End Of Transfer Learning By Feature Extarction**"
      ],
      "metadata": {
        "id": "lKO_H_qaW-SH"
      }
    },
    {
      "cell_type": "code",
      "source": [
        ""
      ],
      "metadata": {
        "id": "2WtCxeUKWyze"
      },
      "execution_count": 18,
      "outputs": []
    }
  ]
}