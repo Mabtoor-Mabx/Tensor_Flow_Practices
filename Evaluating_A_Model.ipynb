{
  "nbformat": 4,
  "nbformat_minor": 0,
  "metadata": {
    "colab": {
      "name": "Evaluating_A_Model.ipynb",
      "provenance": [],
      "collapsed_sections": []
    },
    "kernelspec": {
      "name": "python3",
      "display_name": "Python 3"
    },
    "language_info": {
      "name": "python"
    }
  },
  "cells": [
    {
      "cell_type": "code",
      "metadata": {
        "id": "NkHMl1_4hjM2"
      },
      "source": [
        "import tensorflow as tf\n",
        "import numpy as np\n",
        "import pandas as pd\n",
        "import matplotlib.pyplot as plt"
      ],
      "execution_count": 1,
      "outputs": []
    },
    {
      "cell_type": "code",
      "metadata": {
        "colab": {
          "base_uri": "https://localhost:8080/"
        },
        "id": "KdWjoAbtwScB",
        "outputId": "9d3d20fe-1348-4924-8a14-9b095de426aa"
      },
      "source": [
        "X = tf.range(-100,100,4)\n",
        "X"
      ],
      "execution_count": 2,
      "outputs": [
        {
          "output_type": "execute_result",
          "data": {
            "text/plain": [
              "<tf.Tensor: shape=(50,), dtype=int32, numpy=\n",
              "array([-100,  -96,  -92,  -88,  -84,  -80,  -76,  -72,  -68,  -64,  -60,\n",
              "        -56,  -52,  -48,  -44,  -40,  -36,  -32,  -28,  -24,  -20,  -16,\n",
              "        -12,   -8,   -4,    0,    4,    8,   12,   16,   20,   24,   28,\n",
              "         32,   36,   40,   44,   48,   52,   56,   60,   64,   68,   72,\n",
              "         76,   80,   84,   88,   92,   96], dtype=int32)>"
            ]
          },
          "metadata": {},
          "execution_count": 2
        }
      ]
    },
    {
      "cell_type": "code",
      "metadata": {
        "colab": {
          "base_uri": "https://localhost:8080/"
        },
        "id": "SfYfPNFbw3hb",
        "outputId": "fd60e046-54b5-4ed1-c48c-2cfea1a5efb4"
      },
      "source": [
        "y = X + 10\n",
        "y"
      ],
      "execution_count": 4,
      "outputs": [
        {
          "output_type": "execute_result",
          "data": {
            "text/plain": [
              "<tf.Tensor: shape=(50,), dtype=int32, numpy=\n",
              "array([-90, -86, -82, -78, -74, -70, -66, -62, -58, -54, -50, -46, -42,\n",
              "       -38, -34, -30, -26, -22, -18, -14, -10,  -6,  -2,   2,   6,  10,\n",
              "        14,  18,  22,  26,  30,  34,  38,  42,  46,  50,  54,  58,  62,\n",
              "        66,  70,  74,  78,  82,  86,  90,  94,  98, 102, 106], dtype=int32)>"
            ]
          },
          "metadata": {},
          "execution_count": 4
        }
      ]
    },
    {
      "cell_type": "code",
      "metadata": {
        "colab": {
          "base_uri": "https://localhost:8080/"
        },
        "id": "Io21ieGew6Ym",
        "outputId": "23521355-6185-4a3a-9e53-e8e7ca456551"
      },
      "source": [
        "X_train = X[:40]\n",
        "X_train"
      ],
      "execution_count": 6,
      "outputs": [
        {
          "output_type": "execute_result",
          "data": {
            "text/plain": [
              "<tf.Tensor: shape=(40,), dtype=int32, numpy=\n",
              "array([-100,  -96,  -92,  -88,  -84,  -80,  -76,  -72,  -68,  -64,  -60,\n",
              "        -56,  -52,  -48,  -44,  -40,  -36,  -32,  -28,  -24,  -20,  -16,\n",
              "        -12,   -8,   -4,    0,    4,    8,   12,   16,   20,   24,   28,\n",
              "         32,   36,   40,   44,   48,   52,   56], dtype=int32)>"
            ]
          },
          "metadata": {},
          "execution_count": 6
        }
      ]
    },
    {
      "cell_type": "code",
      "metadata": {
        "colab": {
          "base_uri": "https://localhost:8080/"
        },
        "id": "kWuxpXdZxB_F",
        "outputId": "f24d2635-440a-4862-f540-e364692fb975"
      },
      "source": [
        "y_train = y[:40]\n",
        "y_train"
      ],
      "execution_count": 17,
      "outputs": [
        {
          "output_type": "execute_result",
          "data": {
            "text/plain": [
              "<tf.Tensor: shape=(40,), dtype=int32, numpy=\n",
              "array([-90, -86, -82, -78, -74, -70, -66, -62, -58, -54, -50, -46, -42,\n",
              "       -38, -34, -30, -26, -22, -18, -14, -10,  -6,  -2,   2,   6,  10,\n",
              "        14,  18,  22,  26,  30,  34,  38,  42,  46,  50,  54,  58,  62,\n",
              "        66], dtype=int32)>"
            ]
          },
          "metadata": {},
          "execution_count": 17
        }
      ]
    },
    {
      "cell_type": "code",
      "metadata": {
        "colab": {
          "base_uri": "https://localhost:8080/"
        },
        "id": "uhoUcXiAxNgQ",
        "outputId": "9d7c301c-18ed-4a42-eb1c-bb9a77c8d86e"
      },
      "source": [
        "X_test = X[40:]\n",
        "X_test"
      ],
      "execution_count": 19,
      "outputs": [
        {
          "output_type": "execute_result",
          "data": {
            "text/plain": [
              "<tf.Tensor: shape=(10,), dtype=int32, numpy=array([60, 64, 68, 72, 76, 80, 84, 88, 92, 96], dtype=int32)>"
            ]
          },
          "metadata": {},
          "execution_count": 19
        }
      ]
    },
    {
      "cell_type": "code",
      "metadata": {
        "colab": {
          "base_uri": "https://localhost:8080/"
        },
        "id": "0kQObIGrxTSM",
        "outputId": "bc0292bf-32a8-4377-922b-1210dc38d7b3"
      },
      "source": [
        "y_test = y[40:]\n",
        "y_test"
      ],
      "execution_count": 13,
      "outputs": [
        {
          "output_type": "execute_result",
          "data": {
            "text/plain": [
              "<tf.Tensor: shape=(10,), dtype=int32, numpy=array([ 70,  74,  78,  82,  86,  90,  94,  98, 102, 106], dtype=int32)>"
            ]
          },
          "metadata": {},
          "execution_count": 13
        }
      ]
    },
    {
      "cell_type": "code",
      "metadata": {
        "colab": {
          "base_uri": "https://localhost:8080/"
        },
        "id": "cRy_T9BcxZD1",
        "outputId": "f744481b-d694-4b20-bb7e-454519147c7b"
      },
      "source": [
        "X_train.shape, X_test.shape"
      ],
      "execution_count": 15,
      "outputs": [
        {
          "output_type": "execute_result",
          "data": {
            "text/plain": [
              "(TensorShape([40]), TensorShape([40]))"
            ]
          },
          "metadata": {},
          "execution_count": 15
        }
      ]
    },
    {
      "cell_type": "code",
      "metadata": {
        "colab": {
          "base_uri": "https://localhost:8080/"
        },
        "id": "BdTHCmVkxeGa",
        "outputId": "e9516056-ad73-49b7-d3db-865cba19326b"
      },
      "source": [
        "y_train.shape, y_test.shape"
      ],
      "execution_count": 14,
      "outputs": [
        {
          "output_type": "execute_result",
          "data": {
            "text/plain": [
              "(TensorShape([10]), TensorShape([10]))"
            ]
          },
          "metadata": {},
          "execution_count": 14
        }
      ]
    },
    {
      "cell_type": "code",
      "metadata": {
        "colab": {
          "base_uri": "https://localhost:8080/",
          "height": 445
        },
        "id": "ludgELq3xjK8",
        "outputId": "579aa235-36e2-43e6-f2e4-fd1ff4f0b606"
      },
      "source": [
        "plt.figure(figsize=(10,7))\n",
        "plt.scatter(X_train, y_train, c='r', label='Train Data')\n",
        "plt.scatter(X_test, y_test, c='g', label='Test Data')\n",
        "plt.legend()"
      ],
      "execution_count": 20,
      "outputs": [
        {
          "output_type": "execute_result",
          "data": {
            "text/plain": [
              "<matplotlib.legend.Legend at 0x7ff41b5d1fd0>"
            ]
          },
          "metadata": {},
          "execution_count": 20
        },
        {
          "output_type": "display_data",
          "data": {
            "image/png": "[encoded data removed]",
            "text/plain": [
              "<Figure size 720x504 with 1 Axes>"
            ]
          },
          "metadata": {
            "needs_background": "light"
          }
        }
      ]
    },
    {
      "cell_type": "code",
      "metadata": {
        "id": "PbMHgJWPyRSM"
      },
      "source": [
        "tf.random.set_seed(42)\n",
        "\n",
        "model = tf.keras.Sequential([\n",
        "                             tf.keras.layers.Dense(4, input_shape=[1])\n",
        "])\n",
        "\n",
        "model.compile(\n",
        "\n",
        "  loss=tf.keras.losses.mae,\n",
        "  optimizer= tf.keras.optimizers.SGD(),\n",
        "  metrics=['mae']\n",
        ")\n"
      ],
      "execution_count": 27,
      "outputs": []
    },
    {
      "cell_type": "code",
      "metadata": {
        "colab": {
          "base_uri": "https://localhost:8080/"
        },
        "id": "zgxdIZwo9zAI",
        "outputId": "4a03bd6e-ed22-4c70-886d-d15d5e4ea083"
      },
      "source": [
        "model.summary()"
      ],
      "execution_count": 28,
      "outputs": [
        {
          "output_type": "stream",
          "name": "stdout",
          "text": [
            "Model: \"sequential_2\"\n",
            "_________________________________________________________________\n",
            " Layer (type)                Output Shape              Param #   \n",
            "=================================================================\n",
            " dense_2 (Dense)             (None, 4)                 8         \n",
            "                                                                 \n",
            "=================================================================\n",
            "Total params: 8\n",
            "Trainable params: 8\n",
            "Non-trainable params: 0\n",
            "_________________________________________________________________\n"
          ]
        }
      ]
    },
    {
      "cell_type": "code",
      "metadata": {
        "colab": {
          "base_uri": "https://localhost:8080/"
        },
        "id": "SeR6o1Cc93HK",
        "outputId": "591246bd-183d-4f49-e9f3-a6f08402c6a0"
      },
      "source": [
        "model.fit(tf.expand_dims(X_train, axis=1),y_train, epochs=100, verbose=1)"
      ],
      "execution_count": 26,
      "outputs": [
        {
          "output_type": "stream",
          "name": "stdout",
          "text": [
            "Epoch 1/100\n",
            "2/2 [==============================] - 0s 5ms/step - loss: 7.4494 - mae: 7.4494\n",
            "Epoch 2/100\n",
            "2/2 [==============================] - 0s 6ms/step - loss: 9.2391 - mae: 9.2391\n",
            "Epoch 3/100\n",
            "2/2 [==============================] - 0s 4ms/step - loss: 9.6116 - mae: 9.6116\n",
            "Epoch 4/100\n",
            "2/2 [==============================] - 0s 4ms/step - loss: 8.7602 - mae: 8.7602\n",
            "Epoch 5/100\n",
            "2/2 [==============================] - 0s 14ms/step - loss: 9.7251 - mae: 9.7251\n",
            "Epoch 6/100\n",
            "2/2 [==============================] - 0s 7ms/step - loss: 8.9002 - mae: 8.9002\n",
            "Epoch 7/100\n",
            "2/2 [==============================] - 0s 6ms/step - loss: 8.0002 - mae: 8.0002\n",
            "Epoch 8/100\n",
            "2/2 [==============================] - 0s 6ms/step - loss: 8.1138 - mae: 8.1138\n",
            "Epoch 9/100\n",
            "2/2 [==============================] - 0s 7ms/step - loss: 19.0986 - mae: 19.0986\n",
            "Epoch 10/100\n",
            "2/2 [==============================] - 0s 5ms/step - loss: 9.3698 - mae: 9.3698\n",
            "Epoch 11/100\n",
            "2/2 [==============================] - 0s 5ms/step - loss: 7.5493 - mae: 7.5493\n",
            "Epoch 12/100\n",
            "2/2 [==============================] - 0s 5ms/step - loss: 9.8866 - mae: 9.8866\n",
            "Epoch 13/100\n",
            "2/2 [==============================] - 0s 5ms/step - loss: 8.9273 - mae: 8.9273\n",
            "Epoch 14/100\n",
            "2/2 [==============================] - 0s 6ms/step - loss: 10.9891 - mae: 10.9891\n",
            "Epoch 15/100\n",
            "2/2 [==============================] - 0s 7ms/step - loss: 12.6094 - mae: 12.6094\n",
            "Epoch 16/100\n",
            "2/2 [==============================] - 0s 6ms/step - loss: 6.4175 - mae: 6.4175\n",
            "Epoch 17/100\n",
            "2/2 [==============================] - 0s 5ms/step - loss: 7.6479 - mae: 7.6479\n",
            "Epoch 18/100\n",
            "2/2 [==============================] - 0s 4ms/step - loss: 10.2152 - mae: 10.2152\n",
            "Epoch 19/100\n",
            "2/2 [==============================] - 0s 5ms/step - loss: 18.3227 - mae: 18.3227\n",
            "Epoch 20/100\n",
            "2/2 [==============================] - 0s 5ms/step - loss: 15.0241 - mae: 15.0241\n",
            "Epoch 21/100\n",
            "2/2 [==============================] - 0s 10ms/step - loss: 10.5285 - mae: 10.5285\n",
            "Epoch 22/100\n",
            "2/2 [==============================] - 0s 6ms/step - loss: 7.0450 - mae: 7.0450\n",
            "Epoch 23/100\n",
            "2/2 [==============================] - 0s 6ms/step - loss: 8.7253 - mae: 8.7253\n",
            "Epoch 24/100\n",
            "2/2 [==============================] - 0s 5ms/step - loss: 7.5994 - mae: 7.5994\n",
            "Epoch 25/100\n",
            "2/2 [==============================] - 0s 6ms/step - loss: 10.1121 - mae: 10.1121\n",
            "Epoch 26/100\n",
            "2/2 [==============================] - 0s 6ms/step - loss: 16.3869 - mae: 16.3869\n",
            "Epoch 27/100\n",
            "2/2 [==============================] - 0s 6ms/step - loss: 12.5856 - mae: 12.5856\n",
            "Epoch 28/100\n",
            "2/2 [==============================] - 0s 3ms/step - loss: 13.7632 - mae: 13.7632\n",
            "Epoch 29/100\n",
            "2/2 [==============================] - 0s 7ms/step - loss: 9.0995 - mae: 9.0995\n",
            "Epoch 30/100\n",
            "2/2 [==============================] - 0s 8ms/step - loss: 15.4324 - mae: 15.4324\n",
            "Epoch 31/100\n",
            "2/2 [==============================] - 0s 5ms/step - loss: 23.7275 - mae: 23.7275\n",
            "Epoch 32/100\n",
            "2/2 [==============================] - 0s 5ms/step - loss: 6.6583 - mae: 6.6583\n",
            "Epoch 33/100\n",
            "2/2 [==============================] - 0s 10ms/step - loss: 9.3521 - mae: 9.3521\n",
            "Epoch 34/100\n",
            "2/2 [==============================] - 0s 7ms/step - loss: 8.9275 - mae: 8.9275\n",
            "Epoch 35/100\n",
            "2/2 [==============================] - 0s 8ms/step - loss: 7.0428 - mae: 7.0428\n",
            "Epoch 36/100\n",
            "2/2 [==============================] - 0s 7ms/step - loss: 8.9966 - mae: 8.9966\n",
            "Epoch 37/100\n",
            "2/2 [==============================] - 0s 6ms/step - loss: 8.7731 - mae: 8.7731\n",
            "Epoch 38/100\n",
            "2/2 [==============================] - 0s 4ms/step - loss: 9.5648 - mae: 9.5648\n",
            "Epoch 39/100\n",
            "2/2 [==============================] - 0s 5ms/step - loss: 15.0424 - mae: 15.0424\n",
            "Epoch 40/100\n",
            "2/2 [==============================] - 0s 5ms/step - loss: 12.7918 - mae: 12.7918\n",
            "Epoch 41/100\n",
            "2/2 [==============================] - 0s 5ms/step - loss: 8.5635 - mae: 8.5635\n",
            "Epoch 42/100\n",
            "2/2 [==============================] - 0s 3ms/step - loss: 10.4069 - mae: 10.4069\n",
            "Epoch 43/100\n",
            "2/2 [==============================] - 0s 5ms/step - loss: 10.9575 - mae: 10.9575\n",
            "Epoch 44/100\n",
            "2/2 [==============================] - 0s 5ms/step - loss: 15.4550 - mae: 15.4550\n",
            "Epoch 45/100\n",
            "2/2 [==============================] - 0s 4ms/step - loss: 11.1913 - mae: 11.1913\n",
            "Epoch 46/100\n",
            "2/2 [==============================] - 0s 6ms/step - loss: 6.3175 - mae: 6.3175\n",
            "Epoch 47/100\n",
            "2/2 [==============================] - 0s 12ms/step - loss: 8.4750 - mae: 8.4750\n",
            "Epoch 48/100\n",
            "2/2 [==============================] - 0s 7ms/step - loss: 8.0104 - mae: 8.0104\n",
            "Epoch 49/100\n",
            "2/2 [==============================] - 0s 8ms/step - loss: 6.8868 - mae: 6.8868\n",
            "Epoch 50/100\n",
            "2/2 [==============================] - 0s 6ms/step - loss: 8.6688 - mae: 8.6688\n",
            "Epoch 51/100\n",
            "2/2 [==============================] - 0s 3ms/step - loss: 8.6195 - mae: 8.6195\n",
            "Epoch 52/100\n",
            "2/2 [==============================] - 0s 12ms/step - loss: 10.3668 - mae: 10.3668\n",
            "Epoch 53/100\n",
            "2/2 [==============================] - 0s 3ms/step - loss: 11.7298 - mae: 11.7298\n",
            "Epoch 54/100\n",
            "2/2 [==============================] - 0s 9ms/step - loss: 17.4147 - mae: 17.4147\n",
            "Epoch 55/100\n",
            "2/2 [==============================] - 0s 4ms/step - loss: 15.1775 - mae: 15.1775\n",
            "Epoch 56/100\n",
            "2/2 [==============================] - 0s 7ms/step - loss: 10.3830 - mae: 10.3830\n",
            "Epoch 57/100\n",
            "2/2 [==============================] - 0s 9ms/step - loss: 8.7312 - mae: 8.7312\n",
            "Epoch 58/100\n",
            "2/2 [==============================] - 0s 9ms/step - loss: 8.0396 - mae: 8.0396\n",
            "Epoch 59/100\n",
            "2/2 [==============================] - 0s 6ms/step - loss: 9.2555 - mae: 9.2555\n",
            "Epoch 60/100\n",
            "2/2 [==============================] - 0s 8ms/step - loss: 7.4949 - mae: 7.4949\n",
            "Epoch 61/100\n",
            "2/2 [==============================] - 0s 8ms/step - loss: 8.3574 - mae: 8.3574\n",
            "Epoch 62/100\n",
            "2/2 [==============================] - 0s 6ms/step - loss: 6.3038 - mae: 6.3038\n",
            "Epoch 63/100\n",
            "2/2 [==============================] - 0s 5ms/step - loss: 7.2954 - mae: 7.2954\n",
            "Epoch 64/100\n",
            "2/2 [==============================] - 0s 10ms/step - loss: 12.0381 - mae: 12.0381\n",
            "Epoch 65/100\n",
            "2/2 [==============================] - 0s 9ms/step - loss: 9.1088 - mae: 9.1088\n",
            "Epoch 66/100\n",
            "2/2 [==============================] - 0s 7ms/step - loss: 15.5762 - mae: 15.5762\n",
            "Epoch 67/100\n",
            "2/2 [==============================] - 0s 7ms/step - loss: 9.4988 - mae: 9.4988\n",
            "Epoch 68/100\n",
            "2/2 [==============================] - 0s 5ms/step - loss: 7.3459 - mae: 7.3459\n",
            "Epoch 69/100\n",
            "2/2 [==============================] - 0s 5ms/step - loss: 13.3723 - mae: 13.3723\n",
            "Epoch 70/100\n",
            "2/2 [==============================] - 0s 4ms/step - loss: 6.1456 - mae: 6.1456\n",
            "Epoch 71/100\n",
            "2/2 [==============================] - 0s 3ms/step - loss: 12.7084 - mae: 12.7084\n",
            "Epoch 72/100\n",
            "2/2 [==============================] - 0s 4ms/step - loss: 8.6625 - mae: 8.6625\n",
            "Epoch 73/100\n",
            "2/2 [==============================] - 0s 4ms/step - loss: 10.7664 - mae: 10.7664\n",
            "Epoch 74/100\n",
            "2/2 [==============================] - 0s 4ms/step - loss: 11.6373 - mae: 11.6373\n",
            "Epoch 75/100\n",
            "2/2 [==============================] - 0s 4ms/step - loss: 6.3771 - mae: 6.3771\n",
            "Epoch 76/100\n",
            "2/2 [==============================] - 0s 7ms/step - loss: 10.1117 - mae: 10.1117\n",
            "Epoch 77/100\n",
            "2/2 [==============================] - 0s 4ms/step - loss: 10.0869 - mae: 10.0869\n",
            "Epoch 78/100\n",
            "2/2 [==============================] - 0s 3ms/step - loss: 11.7024 - mae: 11.7024\n",
            "Epoch 79/100\n",
            "2/2 [==============================] - 0s 4ms/step - loss: 14.6771 - mae: 14.6771\n",
            "Epoch 80/100\n",
            "2/2 [==============================] - 0s 4ms/step - loss: 11.0129 - mae: 11.0129\n",
            "Epoch 81/100\n",
            "2/2 [==============================] - 0s 4ms/step - loss: 10.1555 - mae: 10.1555\n",
            "Epoch 82/100\n",
            "2/2 [==============================] - 0s 3ms/step - loss: 7.1339 - mae: 7.1339\n",
            "Epoch 83/100\n",
            "2/2 [==============================] - 0s 4ms/step - loss: 8.0773 - mae: 8.0773\n",
            "Epoch 84/100\n",
            "2/2 [==============================] - 0s 4ms/step - loss: 6.7051 - mae: 6.7051\n",
            "Epoch 85/100\n",
            "2/2 [==============================] - 0s 6ms/step - loss: 16.1770 - mae: 16.1770\n",
            "Epoch 86/100\n",
            "2/2 [==============================] - 0s 7ms/step - loss: 11.5961 - mae: 11.5961\n",
            "Epoch 87/100\n",
            "2/2 [==============================] - 0s 4ms/step - loss: 11.4825 - mae: 11.4825\n",
            "Epoch 88/100\n",
            "2/2 [==============================] - 0s 3ms/step - loss: 9.5590 - mae: 9.5590\n",
            "Epoch 89/100\n",
            "2/2 [==============================] - 0s 4ms/step - loss: 6.0280 - mae: 6.0280\n",
            "Epoch 90/100\n",
            "2/2 [==============================] - 0s 3ms/step - loss: 12.9257 - mae: 12.9257\n",
            "Epoch 91/100\n",
            "2/2 [==============================] - 0s 3ms/step - loss: 6.8810 - mae: 6.8810\n",
            "Epoch 92/100\n",
            "2/2 [==============================] - 0s 3ms/step - loss: 7.1209 - mae: 7.1209\n",
            "Epoch 93/100\n",
            "2/2 [==============================] - 0s 3ms/step - loss: 8.5510 - mae: 8.5510\n",
            "Epoch 94/100\n",
            "2/2 [==============================] - 0s 4ms/step - loss: 7.8979 - mae: 7.8979\n",
            "Epoch 95/100\n",
            "2/2 [==============================] - 0s 4ms/step - loss: 11.3865 - mae: 11.3865\n",
            "Epoch 96/100\n",
            "2/2 [==============================] - 0s 5ms/step - loss: 8.4120 - mae: 8.4120\n",
            "Epoch 97/100\n",
            "2/2 [==============================] - 0s 4ms/step - loss: 12.1666 - mae: 12.1666\n",
            "Epoch 98/100\n",
            "2/2 [==============================] - 0s 3ms/step - loss: 7.4770 - mae: 7.4770\n",
            "Epoch 99/100\n",
            "2/2 [==============================] - 0s 4ms/step - loss: 8.2216 - mae: 8.2216\n",
            "Epoch 100/100\n",
            "2/2 [==============================] - 0s 3ms/step - loss: 9.6944 - mae: 9.6944\n"
          ]
        },
        {
          "output_type": "execute_result",
          "data": {
            "text/plain": [
              "<keras.callbacks.History at 0x7ff41a3403d0>"
            ]
          },
          "metadata": {},
          "execution_count": 26
        }
      ]
    },
    {
      "cell_type": "code",
      "metadata": {
        "colab": {
          "base_uri": "https://localhost:8080/",
          "height": 265
        },
        "id": "bRiOLnwa-TZ5",
        "outputId": "0a64c065-589c-4949-e446-5d22b3597c54"
      },
      "source": [
        "plt.scatter(X_test,y_test, c='b',label='Test values')\n",
        "plt.scatter(X_train, y_train, c='g', label='Train Values')\n",
        "plt.legend()\n",
        "plt.show()"
      ],
      "execution_count": 30,
      "outputs": [
        {
          "output_type": "display_data",
          "data": {
            "image/png": "[encoded data removed]",
            "text/plain": [
              "<Figure size 432x288 with 1 Axes>"
            ]
          },
          "metadata": {
            "needs_background": "light"
          }
        }
      ]
    },
    {
      "cell_type": "code",
      "metadata": {
        "id": "o6JvvOui_fT_"
      },
      "source": [
        ""
      ],
      "execution_count": null,
      "outputs": []
    }
  ]
}