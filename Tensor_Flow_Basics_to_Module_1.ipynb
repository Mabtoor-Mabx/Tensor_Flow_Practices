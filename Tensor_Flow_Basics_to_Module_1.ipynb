{
  "nbformat": 4,
  "nbformat_minor": 0,
  "metadata": {
    "colab": {
      "name": "Tensor_Flow_Basics_to_Module_1.ipynb",
      "provenance": [],
      "collapsed_sections": []
    },
    "kernelspec": {
      "name": "python3",
      "display_name": "Python 3"
    },
    "language_info": {
      "name": "python"
    }
  },
  "cells": [
    {
      "cell_type": "markdown",
      "metadata": {
        "id": "tw-qM8ArAps8"
      },
      "source": [
        "# **Tensor Flow Basic Section**"
      ]
    },
    {
      "cell_type": "code",
      "metadata": {
        "id": "1uK2Ky6jAhGh"
      },
      "source": [
        "import tensorflow as tf\n",
        "import numpy as np\n",
        "import pandas as pd\n",
        "import matplotlib.pyplot as plt\n",
        "from tensorflow.keras.utils import plot_model"
      ],
      "execution_count": 1,
      "outputs": []
    },
    {
      "cell_type": "markdown",
      "metadata": {
        "id": "wN6-aZtyA7Og"
      },
      "source": [
        "# Constant"
      ]
    },
    {
      "cell_type": "code",
      "metadata": {
        "id": "wtAPZIIiA56c"
      },
      "source": [
        "scalar = tf.constant(10,4)"
      ],
      "execution_count": 3,
      "outputs": []
    },
    {
      "cell_type": "code",
      "metadata": {
        "colab": {
          "base_uri": "https://localhost:8080/"
        },
        "id": "50kVQ4qBBAgw",
        "outputId": "79b167dd-4942-47d7-fa49-314ef969c3e0"
      },
      "source": [
        "scalar"
      ],
      "execution_count": 4,
      "outputs": [
        {
          "output_type": "execute_result",
          "data": {
            "text/plain": [
              "<tf.Tensor: shape=(), dtype=uint8, numpy=10>"
            ]
          },
          "metadata": {},
          "execution_count": 4
        }
      ]
    },
    {
      "cell_type": "code",
      "metadata": {
        "colab": {
          "base_uri": "https://localhost:8080/"
        },
        "id": "UO3nVGUHBCxI",
        "outputId": "8d9613d9-f899-48dc-b507-85d4371d2701"
      },
      "source": [
        "scalar.ndim"
      ],
      "execution_count": 5,
      "outputs": [
        {
          "output_type": "execute_result",
          "data": {
            "text/plain": [
              "0"
            ]
          },
          "metadata": {},
          "execution_count": 5
        }
      ]
    },
    {
      "cell_type": "code",
      "metadata": {
        "colab": {
          "base_uri": "https://localhost:8080/"
        },
        "id": "WzPuGrxKBD8T",
        "outputId": "acd4bd8e-972c-438b-968d-0cd4b6a26d91"
      },
      "source": [
        "vector = tf.constant([10,4])\n",
        "vector"
      ],
      "execution_count": 6,
      "outputs": [
        {
          "output_type": "execute_result",
          "data": {
            "text/plain": [
              "<tf.Tensor: shape=(2,), dtype=int32, numpy=array([10,  4], dtype=int32)>"
            ]
          },
          "metadata": {},
          "execution_count": 6
        }
      ]
    },
    {
      "cell_type": "code",
      "metadata": {
        "colab": {
          "base_uri": "https://localhost:8080/"
        },
        "id": "BbqAFHUlBHgr",
        "outputId": "32459084-85a8-4d43-baba-a0597f9cd9e8"
      },
      "source": [
        "vector.ndim"
      ],
      "execution_count": 7,
      "outputs": [
        {
          "output_type": "execute_result",
          "data": {
            "text/plain": [
              "1"
            ]
          },
          "metadata": {},
          "execution_count": 7
        }
      ]
    },
    {
      "cell_type": "code",
      "metadata": {
        "colab": {
          "base_uri": "https://localhost:8080/"
        },
        "id": "X5ngbic6BJsU",
        "outputId": "219acb3d-e176-4e12-fe17-b64d9402126e"
      },
      "source": [
        "matrix = tf.constant([[10,3],[6,3]])\n",
        "matrix"
      ],
      "execution_count": 9,
      "outputs": [
        {
          "output_type": "execute_result",
          "data": {
            "text/plain": [
              "<tf.Tensor: shape=(2, 2), dtype=int32, numpy=\n",
              "array([[10,  3],\n",
              "       [ 6,  3]], dtype=int32)>"
            ]
          },
          "metadata": {},
          "execution_count": 9
        }
      ]
    },
    {
      "cell_type": "code",
      "metadata": {
        "colab": {
          "base_uri": "https://localhost:8080/"
        },
        "id": "DYbXMBDhBNbb",
        "outputId": "656dee11-ade3-406c-c78b-b3c54fb68a87"
      },
      "source": [
        "matrix.ndim"
      ],
      "execution_count": 10,
      "outputs": [
        {
          "output_type": "execute_result",
          "data": {
            "text/plain": [
              "2"
            ]
          },
          "metadata": {},
          "execution_count": 10
        }
      ]
    },
    {
      "cell_type": "code",
      "metadata": {
        "colab": {
          "base_uri": "https://localhost:8080/"
        },
        "id": "Xa3Drm1aBRwM",
        "outputId": "ea72381b-06a2-4f01-e191-39e60176e045"
      },
      "source": [
        "tensors=  tf.constant([[4,5],[7,5]])\n",
        "tensors"
      ],
      "execution_count": 11,
      "outputs": [
        {
          "output_type": "execute_result",
          "data": {
            "text/plain": [
              "<tf.Tensor: shape=(2, 2), dtype=int32, numpy=\n",
              "array([[4, 5],\n",
              "       [7, 5]], dtype=int32)>"
            ]
          },
          "metadata": {},
          "execution_count": 11
        }
      ]
    },
    {
      "cell_type": "code",
      "metadata": {
        "colab": {
          "base_uri": "https://localhost:8080/"
        },
        "id": "hRL9uNhXBWYR",
        "outputId": "68f769f7-daef-4b62-e649-db4e39e752fe"
      },
      "source": [
        "tensors.ndim"
      ],
      "execution_count": 12,
      "outputs": [
        {
          "output_type": "execute_result",
          "data": {
            "text/plain": [
              "2"
            ]
          },
          "metadata": {},
          "execution_count": 12
        }
      ]
    },
    {
      "cell_type": "markdown",
      "metadata": {
        "id": "92dvW1eFBY6R"
      },
      "source": [
        "# Vector"
      ]
    },
    {
      "cell_type": "code",
      "metadata": {
        "colab": {
          "base_uri": "https://localhost:8080/"
        },
        "id": "rGjWtUy4BX3S",
        "outputId": "325635ab-2460-42e9-93d2-282534d564d8"
      },
      "source": [
        "variable = tf.Variable([1,5])\n",
        "variable"
      ],
      "execution_count": 14,
      "outputs": [
        {
          "output_type": "execute_result",
          "data": {
            "text/plain": [
              "<tf.Variable 'Variable:0' shape=(2,) dtype=int32, numpy=array([1, 5], dtype=int32)>"
            ]
          },
          "metadata": {},
          "execution_count": 14
        }
      ]
    },
    {
      "cell_type": "code",
      "metadata": {
        "colab": {
          "base_uri": "https://localhost:8080/"
        },
        "id": "aPwQRDUqBePR",
        "outputId": "5e661124-4fb9-4d1d-9e5a-930308e6e7a0"
      },
      "source": [
        "variable[0].assign(4)"
      ],
      "execution_count": 15,
      "outputs": [
        {
          "output_type": "execute_result",
          "data": {
            "text/plain": [
              "<tf.Variable 'UnreadVariable' shape=(2,) dtype=int32, numpy=array([4, 5], dtype=int32)>"
            ]
          },
          "metadata": {},
          "execution_count": 15
        }
      ]
    },
    {
      "cell_type": "code",
      "metadata": {
        "colab": {
          "base_uri": "https://localhost:8080/"
        },
        "id": "XmFq2wXDBh3l",
        "outputId": "dbf1ed48-76d5-493d-c906-fae203713997"
      },
      "source": [
        "variable"
      ],
      "execution_count": 16,
      "outputs": [
        {
          "output_type": "execute_result",
          "data": {
            "text/plain": [
              "<tf.Variable 'Variable:0' shape=(2,) dtype=int32, numpy=array([4, 5], dtype=int32)>"
            ]
          },
          "metadata": {},
          "execution_count": 16
        }
      ]
    },
    {
      "cell_type": "code",
      "metadata": {
        "colab": {
          "base_uri": "https://localhost:8080/"
        },
        "id": "T_WqOVL_BicJ",
        "outputId": "81a0bb30-1880-4f0c-969d-ab332b3e6c35"
      },
      "source": [
        "variable2= tf.Variable(2,4)\n",
        "variable2"
      ],
      "execution_count": 17,
      "outputs": [
        {
          "output_type": "execute_result",
          "data": {
            "text/plain": [
              "<tf.Variable 'Variable:0' shape=() dtype=int32, numpy=2>"
            ]
          },
          "metadata": {},
          "execution_count": 17
        }
      ]
    },
    {
      "cell_type": "code",
      "metadata": {
        "colab": {
          "base_uri": "https://localhost:8080/"
        },
        "id": "uQ7dXB6hBnos",
        "outputId": "adedbaa8-15b9-4631-95ba-4c69a9205a32"
      },
      "source": [
        "variable2.assign(5)"
      ],
      "execution_count": 18,
      "outputs": [
        {
          "output_type": "execute_result",
          "data": {
            "text/plain": [
              "<tf.Variable 'UnreadVariable' shape=() dtype=int32, numpy=5>"
            ]
          },
          "metadata": {},
          "execution_count": 18
        }
      ]
    },
    {
      "cell_type": "code",
      "metadata": {
        "colab": {
          "base_uri": "https://localhost:8080/"
        },
        "id": "uciQ7Tu4BqgZ",
        "outputId": "ef94c26e-1b15-4db4-ed84-aada7168ea22"
      },
      "source": [
        "variable2"
      ],
      "execution_count": 19,
      "outputs": [
        {
          "output_type": "execute_result",
          "data": {
            "text/plain": [
              "<tf.Variable 'Variable:0' shape=() dtype=int32, numpy=5>"
            ]
          },
          "metadata": {},
          "execution_count": 19
        }
      ]
    },
    {
      "cell_type": "markdown",
      "metadata": {
        "id": "G5u01URvBr9C"
      },
      "source": [
        "# Random"
      ]
    },
    {
      "cell_type": "code",
      "metadata": {
        "colab": {
          "base_uri": "https://localhost:8080/"
        },
        "id": "gDJ8GJxkBrFS",
        "outputId": "d8743a74-d860-47d5-c2f3-ce7e297c47fd"
      },
      "source": [
        "random_1= tf.random.Generator.from_seed(42)\n",
        "random_1 = random_1.normal(shape=(3,4))\n",
        "random_1"
      ],
      "execution_count": 20,
      "outputs": [
        {
          "output_type": "execute_result",
          "data": {
            "text/plain": [
              "<tf.Tensor: shape=(3, 4), dtype=float32, numpy=\n",
              "array([[-0.7565803 , -0.06854702,  0.07595026, -1.2573844 ],\n",
              "       [-0.23193763, -1.8107855 ,  0.09988727, -0.50998646],\n",
              "       [-0.7535805 , -0.57166284,  0.1480774 , -0.23362993]],\n",
              "      dtype=float32)>"
            ]
          },
          "metadata": {},
          "execution_count": 20
        }
      ]
    },
    {
      "cell_type": "code",
      "metadata": {
        "colab": {
          "base_uri": "https://localhost:8080/"
        },
        "id": "S5h3YskkB87m",
        "outputId": "2a2985f8-341b-45e5-8430-a33e7a6013e3"
      },
      "source": [
        "random_2 = tf.random.Generator.from_seed(42)\n",
        "random_2 = random_2.uniform(shape=(3,4))\n",
        "random_2"
      ],
      "execution_count": 21,
      "outputs": [
        {
          "output_type": "execute_result",
          "data": {
            "text/plain": [
              "<tf.Tensor: shape=(3, 4), dtype=float32, numpy=\n",
              "array([[0.7493447 , 0.73561966, 0.45230794, 0.49039817],\n",
              "       [0.1889317 , 0.52027524, 0.8736881 , 0.46921718],\n",
              "       [0.63932586, 0.6467117 , 0.96246755, 0.41009164]], dtype=float32)>"
            ]
          },
          "metadata": {},
          "execution_count": 21
        }
      ]
    },
    {
      "cell_type": "code",
      "metadata": {
        "colab": {
          "base_uri": "https://localhost:8080/"
        },
        "id": "vNQ1LL8qCHW9",
        "outputId": "d0c6eb2e-fd4a-4190-895f-6f612f2a5870"
      },
      "source": [
        "random_1==random_2"
      ],
      "execution_count": 22,
      "outputs": [
        {
          "output_type": "execute_result",
          "data": {
            "text/plain": [
              "<tf.Tensor: shape=(3, 4), dtype=bool, numpy=\n",
              "array([[False, False, False, False],\n",
              "       [False, False, False, False],\n",
              "       [False, False, False, False]])>"
            ]
          },
          "metadata": {},
          "execution_count": 22
        }
      ]
    },
    {
      "cell_type": "markdown",
      "metadata": {
        "id": "VijORoD0CLV2"
      },
      "source": [
        "# Shuffle"
      ]
    },
    {
      "cell_type": "code",
      "metadata": {
        "colab": {
          "base_uri": "https://localhost:8080/"
        },
        "id": "KX5koztfCJwu",
        "outputId": "99a29323-0416-444c-e2c2-d951299fcae9"
      },
      "source": [
        "not_shuffled = tf.constant([\n",
        "                            [5,6],[7,2],[6,3],[7,9]\n",
        "])\n",
        "not_shuffled"
      ],
      "execution_count": 23,
      "outputs": [
        {
          "output_type": "execute_result",
          "data": {
            "text/plain": [
              "<tf.Tensor: shape=(4, 2), dtype=int32, numpy=\n",
              "array([[5, 6],\n",
              "       [7, 2],\n",
              "       [6, 3],\n",
              "       [7, 9]], dtype=int32)>"
            ]
          },
          "metadata": {},
          "execution_count": 23
        }
      ]
    },
    {
      "cell_type": "code",
      "metadata": {
        "colab": {
          "base_uri": "https://localhost:8080/"
        },
        "id": "wSa3PDM6CVHr",
        "outputId": "4af86bf5-6e78-4663-a308-81e43fe9494f"
      },
      "source": [
        "tf.random.shuffle(not_shuffled)"
      ],
      "execution_count": 26,
      "outputs": [
        {
          "output_type": "execute_result",
          "data": {
            "text/plain": [
              "<tf.Tensor: shape=(4, 2), dtype=int32, numpy=\n",
              "array([[6, 3],\n",
              "       [7, 2],\n",
              "       [7, 9],\n",
              "       [5, 6]], dtype=int32)>"
            ]
          },
          "metadata": {},
          "execution_count": 26
        }
      ]
    },
    {
      "cell_type": "code",
      "metadata": {
        "colab": {
          "base_uri": "https://localhost:8080/"
        },
        "id": "URg9EZbeCYJa",
        "outputId": "97384e3d-1bdd-4b28-81b5-eacc9ee54299"
      },
      "source": [
        "tf.random.shuffle(not_shuffled, seed=42)"
      ],
      "execution_count": 29,
      "outputs": [
        {
          "output_type": "execute_result",
          "data": {
            "text/plain": [
              "<tf.Tensor: shape=(4, 2), dtype=int32, numpy=\n",
              "array([[7, 2],\n",
              "       [6, 3],\n",
              "       [5, 6],\n",
              "       [7, 9]], dtype=int32)>"
            ]
          },
          "metadata": {},
          "execution_count": 29
        }
      ]
    },
    {
      "cell_type": "code",
      "metadata": {
        "colab": {
          "base_uri": "https://localhost:8080/"
        },
        "id": "YmA_uy4oCeTE",
        "outputId": "2df72a3e-7525-47ea-bc3d-909acd3f83c9"
      },
      "source": [
        "tf.random.set_seed(42)\n",
        "tf.random.shuffle(not_shuffled, seed=42)"
      ],
      "execution_count": 32,
      "outputs": [
        {
          "output_type": "execute_result",
          "data": {
            "text/plain": [
              "<tf.Tensor: shape=(4, 2), dtype=int32, numpy=\n",
              "array([[7, 2],\n",
              "       [6, 3],\n",
              "       [5, 6],\n",
              "       [7, 9]], dtype=int32)>"
            ]
          },
          "metadata": {},
          "execution_count": 32
        }
      ]
    },
    {
      "cell_type": "markdown",
      "metadata": {
        "id": "8ji0LeEsCncL"
      },
      "source": [
        "# Numpy Section In Tensorflow"
      ]
    },
    {
      "cell_type": "code",
      "metadata": {
        "colab": {
          "base_uri": "https://localhost:8080/"
        },
        "id": "pCK1cBAsClIL",
        "outputId": "7787b8c6-acd7-4037-d184-99f690ceaf98"
      },
      "source": [
        "np.ones((2,2))"
      ],
      "execution_count": 33,
      "outputs": [
        {
          "output_type": "execute_result",
          "data": {
            "text/plain": [
              "array([[1., 1.],\n",
              "       [1., 1.]])"
            ]
          },
          "metadata": {},
          "execution_count": 33
        }
      ]
    },
    {
      "cell_type": "code",
      "metadata": {
        "colab": {
          "base_uri": "https://localhost:8080/"
        },
        "id": "KpyveIteCwfg",
        "outputId": "e0597099-3a07-450d-a6e0-9b1368550d04"
      },
      "source": [
        "np.zeros((4,5))"
      ],
      "execution_count": 34,
      "outputs": [
        {
          "output_type": "execute_result",
          "data": {
            "text/plain": [
              "array([[0., 0., 0., 0., 0.],\n",
              "       [0., 0., 0., 0., 0.],\n",
              "       [0., 0., 0., 0., 0.],\n",
              "       [0., 0., 0., 0., 0.]])"
            ]
          },
          "metadata": {},
          "execution_count": 34
        }
      ]
    },
    {
      "cell_type": "code",
      "metadata": {
        "id": "K-u0AbFrCxxQ"
      },
      "source": [
        "numpy_A = np.arange(1,23, dtype=np.int16)"
      ],
      "execution_count": 35,
      "outputs": []
    },
    {
      "cell_type": "code",
      "metadata": {
        "colab": {
          "base_uri": "https://localhost:8080/"
        },
        "id": "rYP3kyyRC3b4",
        "outputId": "34a0c83f-962d-420a-9049-b947879da5b6"
      },
      "source": [
        "numpy_A"
      ],
      "execution_count": 36,
      "outputs": [
        {
          "output_type": "execute_result",
          "data": {
            "text/plain": [
              "array([ 1,  2,  3,  4,  5,  6,  7,  8,  9, 10, 11, 12, 13, 14, 15, 16, 17,\n",
              "       18, 19, 20, 21, 22], dtype=int16)"
            ]
          },
          "metadata": {},
          "execution_count": 36
        }
      ]
    },
    {
      "cell_type": "code",
      "metadata": {
        "id": "hiA5fP7TC4pA"
      },
      "source": [
        "tensor_A = tf.constant(numpy_A)"
      ],
      "execution_count": 37,
      "outputs": []
    },
    {
      "cell_type": "code",
      "metadata": {
        "colab": {
          "base_uri": "https://localhost:8080/"
        },
        "id": "Ipn5OVPjC8vd",
        "outputId": "1f26a011-4f90-480f-b650-2f7d10d048db"
      },
      "source": [
        "tensor_A"
      ],
      "execution_count": 38,
      "outputs": [
        {
          "output_type": "execute_result",
          "data": {
            "text/plain": [
              "<tf.Tensor: shape=(22,), dtype=int16, numpy=\n",
              "array([ 1,  2,  3,  4,  5,  6,  7,  8,  9, 10, 11, 12, 13, 14, 15, 16, 17,\n",
              "       18, 19, 20, 21, 22], dtype=int16)>"
            ]
          },
          "metadata": {},
          "execution_count": 38
        }
      ]
    },
    {
      "cell_type": "code",
      "metadata": {
        "colab": {
          "base_uri": "https://localhost:8080/"
        },
        "id": "5SeNJVE-C-EP",
        "outputId": "a1b531cd-9313-4262-cd5b-c0e346bdedaa"
      },
      "source": [
        "numpy_A == tensor_A"
      ],
      "execution_count": 39,
      "outputs": [
        {
          "output_type": "execute_result",
          "data": {
            "text/plain": [
              "<tf.Tensor: shape=(22,), dtype=bool, numpy=\n",
              "array([ True,  True,  True,  True,  True,  True,  True,  True,  True,\n",
              "        True,  True,  True,  True,  True,  True,  True,  True,  True,\n",
              "        True,  True,  True,  True])>"
            ]
          },
          "metadata": {},
          "execution_count": 39
        }
      ]
    },
    {
      "cell_type": "code",
      "metadata": {
        "colab": {
          "base_uri": "https://localhost:8080/"
        },
        "id": "fXkbRj5VDAjR",
        "outputId": "65c9288f-65b1-45fd-99e7-e3a078b2ae87"
      },
      "source": [
        "np.random.rand(2,3)"
      ],
      "execution_count": 40,
      "outputs": [
        {
          "output_type": "execute_result",
          "data": {
            "text/plain": [
              "array([[0.95151401, 0.23654356, 0.52174386],\n",
              "       [0.33875359, 0.72012163, 0.07084071]])"
            ]
          },
          "metadata": {},
          "execution_count": 40
        }
      ]
    },
    {
      "cell_type": "code",
      "metadata": {
        "colab": {
          "base_uri": "https://localhost:8080/"
        },
        "id": "_1POnomfDDdU",
        "outputId": "0f0cdd89-f633-4c3f-ff63-0db55471f605"
      },
      "source": [
        "np.random.randint(2,76)"
      ],
      "execution_count": 41,
      "outputs": [
        {
          "output_type": "execute_result",
          "data": {
            "text/plain": [
              "7"
            ]
          },
          "metadata": {},
          "execution_count": 41
        }
      ]
    },
    {
      "cell_type": "code",
      "metadata": {
        "colab": {
          "base_uri": "https://localhost:8080/"
        },
        "id": "dw-OB62oDHb-",
        "outputId": "cc79f2ed-2046-4a84-ddc7-d0d90c846af9"
      },
      "source": [
        "np.random.random_sample((2,8))"
      ],
      "execution_count": 43,
      "outputs": [
        {
          "output_type": "execute_result",
          "data": {
            "text/plain": [
              "array([[0.63603318, 0.42652118, 0.26510924, 0.71165615, 0.74365245,\n",
              "        0.37770412, 0.05049524, 0.87449824],\n",
              "       [0.85823351, 0.0322944 , 0.50104682, 0.01558102, 0.87493704,\n",
              "        0.85844378, 0.8653756 , 0.50814132]])"
            ]
          },
          "metadata": {},
          "execution_count": 43
        }
      ]
    },
    {
      "cell_type": "markdown",
      "metadata": {
        "id": "rgOUBuObDQTE"
      },
      "source": [
        "# Indexing"
      ]
    },
    {
      "cell_type": "code",
      "metadata": {
        "colab": {
          "base_uri": "https://localhost:8080/"
        },
        "id": "3a9p7CAUDLRF",
        "outputId": "f665d511-ed4b-4f61-ef21-c062ecf4fb71"
      },
      "source": [
        "numpy_A"
      ],
      "execution_count": 44,
      "outputs": [
        {
          "output_type": "execute_result",
          "data": {
            "text/plain": [
              "array([ 1,  2,  3,  4,  5,  6,  7,  8,  9, 10, 11, 12, 13, 14, 15, 16, 17,\n",
              "       18, 19, 20, 21, 22], dtype=int16)"
            ]
          },
          "metadata": {},
          "execution_count": 44
        }
      ]
    },
    {
      "cell_type": "code",
      "metadata": {
        "colab": {
          "base_uri": "https://localhost:8080/"
        },
        "id": "P_VxEkr9DSv1",
        "outputId": "feaa93e9-b062-463e-8d4f-2f77ebf177c5"
      },
      "source": [
        "numpy_A[4:7]"
      ],
      "execution_count": 45,
      "outputs": [
        {
          "output_type": "execute_result",
          "data": {
            "text/plain": [
              "array([5, 6, 7], dtype=int16)"
            ]
          },
          "metadata": {},
          "execution_count": 45
        }
      ]
    },
    {
      "cell_type": "code",
      "metadata": {
        "colab": {
          "base_uri": "https://localhost:8080/"
        },
        "id": "Q4O9mgNKDVe0",
        "outputId": "e2775cc9-4fc7-4d5f-9479-444068a853aa"
      },
      "source": [
        "numpy_A[2:]"
      ],
      "execution_count": 46,
      "outputs": [
        {
          "output_type": "execute_result",
          "data": {
            "text/plain": [
              "array([ 3,  4,  5,  6,  7,  8,  9, 10, 11, 12, 13, 14, 15, 16, 17, 18, 19,\n",
              "       20, 21, 22], dtype=int16)"
            ]
          },
          "metadata": {},
          "execution_count": 46
        }
      ]
    },
    {
      "cell_type": "code",
      "metadata": {
        "colab": {
          "base_uri": "https://localhost:8080/"
        },
        "id": "NxtxKorwDYaG",
        "outputId": "e1ff80c9-661f-4dd2-bd3e-c895a389788a"
      },
      "source": [
        "numpy_A[:8]"
      ],
      "execution_count": 47,
      "outputs": [
        {
          "output_type": "execute_result",
          "data": {
            "text/plain": [
              "array([1, 2, 3, 4, 5, 6, 7, 8], dtype=int16)"
            ]
          },
          "metadata": {},
          "execution_count": 47
        }
      ]
    },
    {
      "cell_type": "code",
      "metadata": {
        "colab": {
          "base_uri": "https://localhost:8080/"
        },
        "id": "_q1HwkesDa-_",
        "outputId": "e26f09e8-ab3c-4aca-905a-0a6ef2d1e448"
      },
      "source": [
        "numpy_A[2:20:2]"
      ],
      "execution_count": 48,
      "outputs": [
        {
          "output_type": "execute_result",
          "data": {
            "text/plain": [
              "array([ 3,  5,  7,  9, 11, 13, 15, 17, 19], dtype=int16)"
            ]
          },
          "metadata": {},
          "execution_count": 48
        }
      ]
    },
    {
      "cell_type": "code",
      "metadata": {
        "colab": {
          "base_uri": "https://localhost:8080/"
        },
        "id": "tHcMj7sRLQe2",
        "outputId": "b0482975-c4dd-47c0-9c45-0c627ada140b"
      },
      "source": [
        "numpy_B = numpy_A[..., tf.newaxis]\n",
        "numpy_B"
      ],
      "execution_count": 125,
      "outputs": [
        {
          "output_type": "execute_result",
          "data": {
            "text/plain": [
              "<tf.Tensor: shape=(3, 2, 1), dtype=int64, numpy=\n",
              "array([[[2],\n",
              "        [4]],\n",
              "\n",
              "       [[4],\n",
              "        [5]],\n",
              "\n",
              "       [[6],\n",
              "        [2]]])>"
            ]
          },
          "metadata": {},
          "execution_count": 125
        }
      ]
    },
    {
      "cell_type": "code",
      "metadata": {
        "colab": {
          "base_uri": "https://localhost:8080/"
        },
        "id": "VLYGl9fTLdVh",
        "outputId": "6690acf0-c252-4767-c2e9-72af3a87a6e1"
      },
      "source": [
        "numpy_C = tf.expand_dims(numpy_A, axis=1)\n",
        "numpy_C"
      ],
      "execution_count": 126,
      "outputs": [
        {
          "output_type": "execute_result",
          "data": {
            "text/plain": [
              "<tf.Tensor: shape=(3, 1, 2), dtype=int64, numpy=\n",
              "array([[[2, 4]],\n",
              "\n",
              "       [[4, 5]],\n",
              "\n",
              "       [[6, 2]]])>"
            ]
          },
          "metadata": {},
          "execution_count": 126
        }
      ]
    },
    {
      "cell_type": "markdown",
      "metadata": {
        "id": "aGv_8UEWDk17"
      },
      "source": [
        "# Mathematic Manipulation & gathering Information\n"
      ]
    },
    {
      "cell_type": "code",
      "metadata": {
        "colab": {
          "base_uri": "https://localhost:8080/"
        },
        "id": "Z71kH5dDDfWO",
        "outputId": "83fb5767-a1e9-489b-b0f0-5638b42ab80a"
      },
      "source": [
        "tensor_A"
      ],
      "execution_count": 50,
      "outputs": [
        {
          "output_type": "execute_result",
          "data": {
            "text/plain": [
              "<tf.Tensor: shape=(22,), dtype=int16, numpy=\n",
              "array([ 1,  2,  3,  4,  5,  6,  7,  8,  9, 10, 11, 12, 13, 14, 15, 16, 17,\n",
              "       18, 19, 20, 21, 22], dtype=int16)>"
            ]
          },
          "metadata": {},
          "execution_count": 50
        }
      ]
    },
    {
      "cell_type": "code",
      "metadata": {
        "colab": {
          "base_uri": "https://localhost:8080/"
        },
        "id": "QuKfFUlUDwRj",
        "outputId": "155aee8f-1c3e-42a5-b963-305e8689a4da"
      },
      "source": [
        "print(tensor_A.ndim)\n",
        "print(tensor_A.dtype)\n",
        "print(tensor_A.shape)\n",
        "print(tensor_A.shape[0])\n",
        "print(tensor_A.shape[-1])\n",
        "print(tf.size(tensor_A))\n",
        "print(tf.size(tensor_A))\n",
        "print(tf.math.add(tensor_A,10))\n",
        "print(tf.math.subtract(tensor_A,10))\n",
        "print(tf.math.multiply(tensor_A,10))\n",
        "print(tf.math.divide(tensor_A,10))\n"
      ],
      "execution_count": 56,
      "outputs": [
        {
          "output_type": "stream",
          "name": "stdout",
          "text": [
            "1\n",
            "<dtype: 'int16'>\n",
            "(22,)\n",
            "22\n",
            "22\n",
            "tf.Tensor(22, shape=(), dtype=int32)\n",
            "tf.Tensor(22, shape=(), dtype=int32)\n",
            "tf.Tensor([11 12 13 14 15 16 17 18 19 20 21 22 23 24 25 26 27 28 29 30 31 32], shape=(22,), dtype=int16)\n",
            "tf.Tensor([-9 -8 -7 -6 -5 -4 -3 -2 -1  0  1  2  3  4  5  6  7  8  9 10 11 12], shape=(22,), dtype=int16)\n",
            "tf.Tensor(\n",
            "[ 10  20  30  40  50  60  70  80  90 100 110 120 130 140 150 160 170 180\n",
            " 190 200 210 220], shape=(22,), dtype=int16)\n",
            "tf.Tensor(\n",
            "[0.1 0.2 0.3 0.4 0.5 0.6 0.7 0.8 0.9 1.  1.1 1.2 1.3 1.4 1.5 1.6 1.7 1.8\n",
            " 1.9 2.  2.1 2.2], shape=(22,), dtype=float32)\n"
          ]
        }
      ]
    },
    {
      "cell_type": "markdown",
      "metadata": {
        "id": "NbyUPEn7EqvF"
      },
      "source": [
        "# Matrix Manipulation"
      ]
    },
    {
      "cell_type": "code",
      "metadata": {
        "colab": {
          "base_uri": "https://localhost:8080/"
        },
        "id": "U10o-cSXEe7p",
        "outputId": "7a72d55a-f18d-4a6d-8e5c-95fb3567ab73"
      },
      "source": [
        "matrix_1 = tf.constant([\n",
        "                        [4,6],[7,4],[4,2]\n",
        "])\n",
        "matrix_1"
      ],
      "execution_count": 57,
      "outputs": [
        {
          "output_type": "execute_result",
          "data": {
            "text/plain": [
              "<tf.Tensor: shape=(3, 2), dtype=int32, numpy=\n",
              "array([[4, 6],\n",
              "       [7, 4],\n",
              "       [4, 2]], dtype=int32)>"
            ]
          },
          "metadata": {},
          "execution_count": 57
        }
      ]
    },
    {
      "cell_type": "code",
      "metadata": {
        "colab": {
          "base_uri": "https://localhost:8080/"
        },
        "id": "uv4IzwSbE-PT",
        "outputId": "15e9d2e6-4445-438a-c6e0-942300dc65e7"
      },
      "source": [
        "matrix_2 = tf.constant([\n",
        "                         [5,7],[8,3],[5,8]\n",
        "])\n",
        "matrix_2"
      ],
      "execution_count": 60,
      "outputs": [
        {
          "output_type": "execute_result",
          "data": {
            "text/plain": [
              "<tf.Tensor: shape=(3, 2), dtype=int32, numpy=\n",
              "array([[5, 7],\n",
              "       [8, 3],\n",
              "       [5, 8]], dtype=int32)>"
            ]
          },
          "metadata": {},
          "execution_count": 60
        }
      ]
    },
    {
      "cell_type": "code",
      "metadata": {
        "colab": {
          "base_uri": "https://localhost:8080/"
        },
        "id": "8Yc0r9-oFDyV",
        "outputId": "e041cdbd-6cc5-4224-efc1-858824334ae5"
      },
      "source": [
        "# tf.matmul(matrix_1, matrix_2)\n",
        "tf.matmul(tf.transpose(matrix_1), matrix_2)"
      ],
      "execution_count": 62,
      "outputs": [
        {
          "output_type": "execute_result",
          "data": {
            "text/plain": [
              "<tf.Tensor: shape=(2, 2), dtype=int32, numpy=\n",
              "array([[96, 81],\n",
              "       [72, 70]], dtype=int32)>"
            ]
          },
          "metadata": {},
          "execution_count": 62
        }
      ]
    },
    {
      "cell_type": "code",
      "metadata": {
        "colab": {
          "base_uri": "https://localhost:8080/"
        },
        "id": "ZxfjMa43FMbt",
        "outputId": "5ae4a0be-a4a3-4d7f-c295-d1e2f7f6326d"
      },
      "source": [
        "tf.matmul(matrix_1, tf.transpose(matrix_2))"
      ],
      "execution_count": 63,
      "outputs": [
        {
          "output_type": "execute_result",
          "data": {
            "text/plain": [
              "<tf.Tensor: shape=(3, 3), dtype=int32, numpy=\n",
              "array([[62, 50, 68],\n",
              "       [63, 68, 67],\n",
              "       [34, 38, 36]], dtype=int32)>"
            ]
          },
          "metadata": {},
          "execution_count": 63
        }
      ]
    },
    {
      "cell_type": "markdown",
      "metadata": {
        "id": "1m_tPCUYF5sC"
      },
      "source": [
        "# Change Data Type"
      ]
    },
    {
      "cell_type": "code",
      "metadata": {
        "colab": {
          "base_uri": "https://localhost:8080/"
        },
        "id": "sO5-fsNSFeTl",
        "outputId": "414fb865-3cdd-4286-e3a1-0bbd301d3d82"
      },
      "source": [
        "numpy_A"
      ],
      "execution_count": 67,
      "outputs": [
        {
          "output_type": "execute_result",
          "data": {
            "text/plain": [
              "array([ 1,  2,  3,  4,  5,  6,  7,  8,  9, 10, 11, 12, 13, 14, 15, 16, 17,\n",
              "       18, 19, 20, 21, 22], dtype=int16)"
            ]
          },
          "metadata": {},
          "execution_count": 67
        }
      ]
    },
    {
      "cell_type": "code",
      "metadata": {
        "colab": {
          "base_uri": "https://localhost:8080/"
        },
        "id": "I_kVsxf_FlEg",
        "outputId": "dd55c4b6-105e-457f-a38a-5a204d09e669"
      },
      "source": [
        "tf.cast(numpy_A, dtype=np.float32)"
      ],
      "execution_count": 68,
      "outputs": [
        {
          "output_type": "execute_result",
          "data": {
            "text/plain": [
              "<tf.Tensor: shape=(22,), dtype=float32, numpy=\n",
              "array([ 1.,  2.,  3.,  4.,  5.,  6.,  7.,  8.,  9., 10., 11., 12., 13.,\n",
              "       14., 15., 16., 17., 18., 19., 20., 21., 22.], dtype=float32)>"
            ]
          },
          "metadata": {},
          "execution_count": 68
        }
      ]
    },
    {
      "cell_type": "code",
      "metadata": {
        "colab": {
          "base_uri": "https://localhost:8080/"
        },
        "id": "6YbDk7EAGEyI",
        "outputId": "76806f35-d22b-49c9-ece9-1553bbdc8033"
      },
      "source": [
        "tensor_A"
      ],
      "execution_count": 69,
      "outputs": [
        {
          "output_type": "execute_result",
          "data": {
            "text/plain": [
              "<tf.Tensor: shape=(22,), dtype=int16, numpy=\n",
              "array([ 1,  2,  3,  4,  5,  6,  7,  8,  9, 10, 11, 12, 13, 14, 15, 16, 17,\n",
              "       18, 19, 20, 21, 22], dtype=int16)>"
            ]
          },
          "metadata": {},
          "execution_count": 69
        }
      ]
    },
    {
      "cell_type": "code",
      "metadata": {
        "colab": {
          "base_uri": "https://localhost:8080/"
        },
        "id": "NGlqFLc4GHSp",
        "outputId": "c8edbafa-4124-4bdd-b5b9-b56564759656"
      },
      "source": [
        "tf.cast(tensor_A, dtype=tf.float64)"
      ],
      "execution_count": 70,
      "outputs": [
        {
          "output_type": "execute_result",
          "data": {
            "text/plain": [
              "<tf.Tensor: shape=(22,), dtype=float64, numpy=\n",
              "array([ 1.,  2.,  3.,  4.,  5.,  6.,  7.,  8.,  9., 10., 11., 12., 13.,\n",
              "       14., 15., 16., 17., 18., 19., 20., 21., 22.])>"
            ]
          },
          "metadata": {},
          "execution_count": 70
        }
      ]
    },
    {
      "cell_type": "markdown",
      "metadata": {
        "id": "YVsui5yEGTt3"
      },
      "source": [
        "# Aggregate"
      ]
    },
    {
      "cell_type": "code",
      "metadata": {
        "colab": {
          "base_uri": "https://localhost:8080/"
        },
        "id": "0TVPwhWGGLqL",
        "outputId": "10397c6a-5714-4743-a83a-7d884c172e96"
      },
      "source": [
        "tensor_B = tf.constant([\n",
        "                        [-4,-5],[-6,-3],[-1,-5]\n",
        "])\n",
        "tensor_B"
      ],
      "execution_count": 72,
      "outputs": [
        {
          "output_type": "execute_result",
          "data": {
            "text/plain": [
              "<tf.Tensor: shape=(3, 2), dtype=int32, numpy=\n",
              "array([[-4, -5],\n",
              "       [-6, -3],\n",
              "       [-1, -5]], dtype=int32)>"
            ]
          },
          "metadata": {},
          "execution_count": 72
        }
      ]
    },
    {
      "cell_type": "code",
      "metadata": {
        "colab": {
          "base_uri": "https://localhost:8080/"
        },
        "id": "w5zONIr4GcwH",
        "outputId": "406041e4-b275-4592-d739-9963e34e4df0"
      },
      "source": [
        "tf.abs(tensor_B)"
      ],
      "execution_count": 73,
      "outputs": [
        {
          "output_type": "execute_result",
          "data": {
            "text/plain": [
              "<tf.Tensor: shape=(3, 2), dtype=int32, numpy=\n",
              "array([[4, 5],\n",
              "       [6, 3],\n",
              "       [1, 5]], dtype=int32)>"
            ]
          },
          "metadata": {},
          "execution_count": 73
        }
      ]
    },
    {
      "cell_type": "code",
      "metadata": {
        "colab": {
          "base_uri": "https://localhost:8080/"
        },
        "id": "rwGBU3xiGi6l",
        "outputId": "e61c77f3-4e6b-4f1a-b96c-936d99aed453"
      },
      "source": [
        "tf.math.reduce_min(tensor_B)"
      ],
      "execution_count": 75,
      "outputs": [
        {
          "output_type": "execute_result",
          "data": {
            "text/plain": [
              "<tf.Tensor: shape=(), dtype=int32, numpy=-6>"
            ]
          },
          "metadata": {},
          "execution_count": 75
        }
      ]
    },
    {
      "cell_type": "code",
      "metadata": {
        "colab": {
          "base_uri": "https://localhost:8080/"
        },
        "id": "9ifhJ4qkGldQ",
        "outputId": "7eb06e76-c635-4632-be08-e6f9041cf2e4"
      },
      "source": [
        "tf.math.reduce_max(tensor_B)"
      ],
      "execution_count": 76,
      "outputs": [
        {
          "output_type": "execute_result",
          "data": {
            "text/plain": [
              "<tf.Tensor: shape=(), dtype=int32, numpy=-1>"
            ]
          },
          "metadata": {},
          "execution_count": 76
        }
      ]
    },
    {
      "cell_type": "code",
      "metadata": {
        "colab": {
          "base_uri": "https://localhost:8080/"
        },
        "id": "hXDr1dH3GusI",
        "outputId": "14e57862-23b0-4764-e61b-c32f72e8bda5"
      },
      "source": [
        "tf.math.reduce_mean(tensor_B)"
      ],
      "execution_count": 77,
      "outputs": [
        {
          "output_type": "execute_result",
          "data": {
            "text/plain": [
              "<tf.Tensor: shape=(), dtype=int32, numpy=-4>"
            ]
          },
          "metadata": {},
          "execution_count": 77
        }
      ]
    },
    {
      "cell_type": "code",
      "metadata": {
        "colab": {
          "base_uri": "https://localhost:8080/"
        },
        "id": "CavZI3f2GzMo",
        "outputId": "791eecde-2931-4c1e-de43-8fe59ae0a741"
      },
      "source": [
        "tf.math.reduce_sum(tensor_B)"
      ],
      "execution_count": 78,
      "outputs": [
        {
          "output_type": "execute_result",
          "data": {
            "text/plain": [
              "<tf.Tensor: shape=(), dtype=int32, numpy=-24>"
            ]
          },
          "metadata": {},
          "execution_count": 78
        }
      ]
    },
    {
      "cell_type": "markdown",
      "metadata": {
        "id": "tcCaNZ3oG5S0"
      },
      "source": [
        "# Variance and Standard Deviation"
      ]
    },
    {
      "cell_type": "code",
      "metadata": {
        "colab": {
          "base_uri": "https://localhost:8080/"
        },
        "id": "6gtSYibqG3sX",
        "outputId": "3c003eb0-a92b-4448-ea85-9ceb2d20928f"
      },
      "source": [
        "tensor_B\n"
      ],
      "execution_count": 80,
      "outputs": [
        {
          "output_type": "execute_result",
          "data": {
            "text/plain": [
              "<tf.Tensor: shape=(3, 2), dtype=int32, numpy=\n",
              "array([[-4, -5],\n",
              "       [-6, -3],\n",
              "       [-1, -5]], dtype=int32)>"
            ]
          },
          "metadata": {},
          "execution_count": 80
        }
      ]
    },
    {
      "cell_type": "code",
      "metadata": {
        "colab": {
          "base_uri": "https://localhost:8080/"
        },
        "id": "lNASuzAfG_E_",
        "outputId": "04d997a6-e807-4186-a64f-bb9e51c97564"
      },
      "source": [
        "tf.math.reduce_variance(tf.cast(tensor_B , dtype=tf.float32))"
      ],
      "execution_count": 84,
      "outputs": [
        {
          "output_type": "execute_result",
          "data": {
            "text/plain": [
              "<tf.Tensor: shape=(), dtype=float32, numpy=2.6666667>"
            ]
          },
          "metadata": {},
          "execution_count": 84
        }
      ]
    },
    {
      "cell_type": "code",
      "metadata": {
        "colab": {
          "base_uri": "https://localhost:8080/"
        },
        "id": "EyIwIH5MHFMY",
        "outputId": "80122944-07c0-4386-c2f9-b7d225e273d0"
      },
      "source": [
        "tf.math.reduce_std(tf.cast(tensor_B, dtype=tf.float32))"
      ],
      "execution_count": 85,
      "outputs": [
        {
          "output_type": "execute_result",
          "data": {
            "text/plain": [
              "<tf.Tensor: shape=(), dtype=float32, numpy=1.6329932>"
            ]
          },
          "metadata": {},
          "execution_count": 85
        }
      ]
    },
    {
      "cell_type": "markdown",
      "metadata": {
        "id": "L1KtbarrHdta"
      },
      "source": [
        "# Argmax And Argmin"
      ]
    },
    {
      "cell_type": "code",
      "metadata": {
        "colab": {
          "base_uri": "https://localhost:8080/"
        },
        "id": "h-fp9tv0HbEs",
        "outputId": "3e85f9ec-8636-4fe2-fb86-bcaed1f443d0"
      },
      "source": [
        "tensor_A"
      ],
      "execution_count": 86,
      "outputs": [
        {
          "output_type": "execute_result",
          "data": {
            "text/plain": [
              "<tf.Tensor: shape=(22,), dtype=int16, numpy=\n",
              "array([ 1,  2,  3,  4,  5,  6,  7,  8,  9, 10, 11, 12, 13, 14, 15, 16, 17,\n",
              "       18, 19, 20, 21, 22], dtype=int16)>"
            ]
          },
          "metadata": {},
          "execution_count": 86
        }
      ]
    },
    {
      "cell_type": "code",
      "metadata": {
        "colab": {
          "base_uri": "https://localhost:8080/"
        },
        "id": "nelc81EGHlL0",
        "outputId": "82ad5304-3751-49a3-f672-b9fdd9889ecc"
      },
      "source": [
        "tf.argmax(tensor_A)"
      ],
      "execution_count": 87,
      "outputs": [
        {
          "output_type": "execute_result",
          "data": {
            "text/plain": [
              "<tf.Tensor: shape=(), dtype=int64, numpy=21>"
            ]
          },
          "metadata": {},
          "execution_count": 87
        }
      ]
    },
    {
      "cell_type": "code",
      "metadata": {
        "colab": {
          "base_uri": "https://localhost:8080/"
        },
        "id": "TKOPW6YVHn3m",
        "outputId": "d533abb7-3afa-490d-89f8-5e8fc971accd"
      },
      "source": [
        "tf.argmin(tensor_A)"
      ],
      "execution_count": 88,
      "outputs": [
        {
          "output_type": "execute_result",
          "data": {
            "text/plain": [
              "<tf.Tensor: shape=(), dtype=int64, numpy=0>"
            ]
          },
          "metadata": {},
          "execution_count": 88
        }
      ]
    },
    {
      "cell_type": "code",
      "metadata": {
        "colab": {
          "base_uri": "https://localhost:8080/"
        },
        "id": "-5FGwtzsHpfD",
        "outputId": "32b746eb-00e0-45bb-df98-f1ff508b8e14"
      },
      "source": [
        "tf.argsort(tensor_A)"
      ],
      "execution_count": 89,
      "outputs": [
        {
          "output_type": "execute_result",
          "data": {
            "text/plain": [
              "<tf.Tensor: shape=(22,), dtype=int32, numpy=\n",
              "array([ 0,  1,  2,  3,  4,  5,  6,  7,  8,  9, 10, 11, 12, 13, 14, 15, 16,\n",
              "       17, 18, 19, 20, 21], dtype=int32)>"
            ]
          },
          "metadata": {},
          "execution_count": 89
        }
      ]
    },
    {
      "cell_type": "markdown",
      "metadata": {
        "id": "7PLSBwsdHtQw"
      },
      "source": [
        "# Squueze"
      ]
    },
    {
      "cell_type": "code",
      "metadata": {
        "colab": {
          "base_uri": "https://localhost:8080/"
        },
        "id": "wBlAKq82HsFP",
        "outputId": "da33f9b8-f1b5-4ea0-f3b4-f435dd65e16c"
      },
      "source": [
        "not_squeezed = tf.constant(tf.random.uniform(shape=[12]), shape=(1,1,1,1,12))\n",
        "not_squeezed"
      ],
      "execution_count": 98,
      "outputs": [
        {
          "output_type": "execute_result",
          "data": {
            "text/plain": [
              "<tf.Tensor: shape=(1, 1, 1, 1, 12), dtype=float32, numpy=\n",
              "array([[[[[0.68789124, 0.48447883, 0.9309944 , 0.252187  , 0.73115396,\n",
              "           0.89256823, 0.94674826, 0.7493341 , 0.34925628, 0.54718256,\n",
              "           0.26160395, 0.69734323]]]]], dtype=float32)>"
            ]
          },
          "metadata": {},
          "execution_count": 98
        }
      ]
    },
    {
      "cell_type": "code",
      "metadata": {
        "colab": {
          "base_uri": "https://localhost:8080/"
        },
        "id": "ueWmm-S8H4bn",
        "outputId": "c13b7e30-162c-4ad4-eccc-9945ba32c6a2"
      },
      "source": [
        "tf.squeeze(not_squeezed)"
      ],
      "execution_count": 99,
      "outputs": [
        {
          "output_type": "execute_result",
          "data": {
            "text/plain": [
              "<tf.Tensor: shape=(12,), dtype=float32, numpy=\n",
              "array([0.68789124, 0.48447883, 0.9309944 , 0.252187  , 0.73115396,\n",
              "       0.89256823, 0.94674826, 0.7493341 , 0.34925628, 0.54718256,\n",
              "       0.26160395, 0.69734323], dtype=float32)>"
            ]
          },
          "metadata": {},
          "execution_count": 99
        }
      ]
    },
    {
      "cell_type": "markdown",
      "metadata": {
        "id": "F4NF6zefIVIY"
      },
      "source": [
        "# One_Hot_Function"
      ]
    },
    {
      "cell_type": "code",
      "metadata": {
        "colab": {
          "base_uri": "https://localhost:8080/"
        },
        "id": "pdEkEyPsITd7",
        "outputId": "6fc6a953-099a-42b0-f920-53406df5cbde"
      },
      "source": [
        "values = tf.constant([\n",
        "                      [4,6,4],[7,3,6]\n",
        "])\n",
        "values"
      ],
      "execution_count": 106,
      "outputs": [
        {
          "output_type": "execute_result",
          "data": {
            "text/plain": [
              "<tf.Tensor: shape=(2, 3), dtype=int32, numpy=\n",
              "array([[4, 6, 4],\n",
              "       [7, 3, 6]], dtype=int32)>"
            ]
          },
          "metadata": {},
          "execution_count": 106
        }
      ]
    },
    {
      "cell_type": "code",
      "metadata": {
        "colab": {
          "base_uri": "https://localhost:8080/"
        },
        "id": "dfcmppLaIdaK",
        "outputId": "baae3a1a-c9f3-4288-f298-c67ee1b2f0af"
      },
      "source": [
        "tf.one_hot(values, depth=1)"
      ],
      "execution_count": 107,
      "outputs": [
        {
          "output_type": "execute_result",
          "data": {
            "text/plain": [
              "<tf.Tensor: shape=(2, 3, 1), dtype=float32, numpy=\n",
              "array([[[0.],\n",
              "        [0.],\n",
              "        [0.]],\n",
              "\n",
              "       [[0.],\n",
              "        [0.],\n",
              "        [0.]]], dtype=float32)>"
            ]
          },
          "metadata": {},
          "execution_count": 107
        }
      ]
    },
    {
      "cell_type": "code",
      "metadata": {
        "colab": {
          "base_uri": "https://localhost:8080/"
        },
        "id": "bESoIcVlIg6c",
        "outputId": "4e2e6baa-ece7-4104-95b9-a486a23eeb87"
      },
      "source": [
        "tf.one_hot(values, depth=3, on_value='I am on', off_value='I am off')"
      ],
      "execution_count": 108,
      "outputs": [
        {
          "output_type": "execute_result",
          "data": {
            "text/plain": [
              "<tf.Tensor: shape=(2, 3, 3), dtype=string, numpy=\n",
              "array([[[b'I am off', b'I am off', b'I am off'],\n",
              "        [b'I am off', b'I am off', b'I am off'],\n",
              "        [b'I am off', b'I am off', b'I am off']],\n",
              "\n",
              "       [[b'I am off', b'I am off', b'I am off'],\n",
              "        [b'I am off', b'I am off', b'I am off'],\n",
              "        [b'I am off', b'I am off', b'I am off']]], dtype=object)>"
            ]
          },
          "metadata": {},
          "execution_count": 108
        }
      ]
    },
    {
      "cell_type": "markdown",
      "metadata": {
        "id": "0A2bzo2fI07c"
      },
      "source": [
        "# More Mathematics"
      ]
    },
    {
      "cell_type": "code",
      "metadata": {
        "colab": {
          "base_uri": "https://localhost:8080/"
        },
        "id": "7MdLMLfxIuU4",
        "outputId": "adff4d7b-6817-45b9-8349-570c69d95cd2"
      },
      "source": [
        "tf.range(1,20)"
      ],
      "execution_count": 110,
      "outputs": [
        {
          "output_type": "execute_result",
          "data": {
            "text/plain": [
              "<tf.Tensor: shape=(19,), dtype=int32, numpy=\n",
              "array([ 1,  2,  3,  4,  5,  6,  7,  8,  9, 10, 11, 12, 13, 14, 15, 16, 17,\n",
              "       18, 19], dtype=int32)>"
            ]
          },
          "metadata": {},
          "execution_count": 110
        }
      ]
    },
    {
      "cell_type": "code",
      "metadata": {
        "colab": {
          "base_uri": "https://localhost:8080/"
        },
        "id": "W3OMepfhI6JM",
        "outputId": "85ff7335-d330-43b6-d194-950f1f3a3ad7"
      },
      "source": [
        "tf.square(matrix_1)"
      ],
      "execution_count": 112,
      "outputs": [
        {
          "output_type": "execute_result",
          "data": {
            "text/plain": [
              "<tf.Tensor: shape=(3, 2), dtype=int32, numpy=\n",
              "array([[16, 36],\n",
              "       [49, 16],\n",
              "       [16,  4]], dtype=int32)>"
            ]
          },
          "metadata": {},
          "execution_count": 112
        }
      ]
    },
    {
      "cell_type": "code",
      "metadata": {
        "colab": {
          "base_uri": "https://localhost:8080/"
        },
        "id": "URXV7sA8JAKj",
        "outputId": "949d7b1b-243d-4fc4-b56e-155dd736d1fa"
      },
      "source": [
        "tf.sqrt(tf.cast(matrix_1, dtype=tf.float32))"
      ],
      "execution_count": 113,
      "outputs": [
        {
          "output_type": "execute_result",
          "data": {
            "text/plain": [
              "<tf.Tensor: shape=(3, 2), dtype=float32, numpy=\n",
              "array([[2.       , 2.4494898],\n",
              "       [2.6457512, 2.       ],\n",
              "       [2.       , 1.4142135]], dtype=float32)>"
            ]
          },
          "metadata": {},
          "execution_count": 113
        }
      ]
    },
    {
      "cell_type": "code",
      "metadata": {
        "colab": {
          "base_uri": "https://localhost:8080/"
        },
        "id": "Ajt7p6RMJLPR",
        "outputId": "624b4947-4e4d-4f09-c75c-3b9f168781cc"
      },
      "source": [
        "tf.math.log(tf.cast(matrix_1, dtype=tf.float32))"
      ],
      "execution_count": 114,
      "outputs": [
        {
          "output_type": "execute_result",
          "data": {
            "text/plain": [
              "<tf.Tensor: shape=(3, 2), dtype=float32, numpy=\n",
              "array([[1.3862944, 1.7917595],\n",
              "       [1.9459101, 1.3862944],\n",
              "       [1.3862944, 0.6931472]], dtype=float32)>"
            ]
          },
          "metadata": {},
          "execution_count": 114
        }
      ]
    },
    {
      "cell_type": "markdown",
      "metadata": {
        "id": "EzB-6OyeJT1o"
      },
      "source": [
        "# Tensors to Numpy and Vice Versa"
      ]
    },
    {
      "cell_type": "code",
      "metadata": {
        "id": "Q45Tzo1hJR3L"
      },
      "source": [
        "numpy_A = tf.constant(np.array([\n",
        "                                [2,4],[4,5],[6,2]\n",
        "]))\n",
        "\n",
        "tensor_A = tf.constant([\n",
        "                        [2,4],[4,5],[6,2]\n",
        "])\n"
      ],
      "execution_count": 115,
      "outputs": []
    },
    {
      "cell_type": "code",
      "metadata": {
        "colab": {
          "base_uri": "https://localhost:8080/"
        },
        "id": "PMI1h51YJlZt",
        "outputId": "a5144b63-a623-4082-e041-93f117baa4c2"
      },
      "source": [
        "numpy_A, tensor_A"
      ],
      "execution_count": 116,
      "outputs": [
        {
          "output_type": "execute_result",
          "data": {
            "text/plain": [
              "(<tf.Tensor: shape=(3, 2), dtype=int64, numpy=\n",
              " array([[2, 4],\n",
              "        [4, 5],\n",
              "        [6, 2]])>, <tf.Tensor: shape=(3, 2), dtype=int32, numpy=\n",
              " array([[2, 4],\n",
              "        [4, 5],\n",
              "        [6, 2]], dtype=int32)>)"
            ]
          },
          "metadata": {},
          "execution_count": 116
        }
      ]
    },
    {
      "cell_type": "code",
      "metadata": {
        "colab": {
          "base_uri": "https://localhost:8080/"
        },
        "id": "Mxce8uxBJnGx",
        "outputId": "08dc13eb-e636-4a26-ee77-6927bb7963ad"
      },
      "source": [
        "numpy_A.dtype, tensor_A.dtype"
      ],
      "execution_count": 117,
      "outputs": [
        {
          "output_type": "execute_result",
          "data": {
            "text/plain": [
              "(tf.int64, tf.int32)"
            ]
          },
          "metadata": {},
          "execution_count": 117
        }
      ]
    },
    {
      "cell_type": "code",
      "metadata": {
        "id": "1R324P6rJyeu"
      },
      "source": [
        "tensor_B = tf.constant(numpy_A)"
      ],
      "execution_count": 118,
      "outputs": []
    },
    {
      "cell_type": "code",
      "metadata": {
        "id": "vauO2sqcJ2oj"
      },
      "source": [
        "numpy_B = np.array(tensor_A)"
      ],
      "execution_count": 119,
      "outputs": []
    },
    {
      "cell_type": "code",
      "metadata": {
        "colab": {
          "base_uri": "https://localhost:8080/"
        },
        "id": "f0-AmK6HJ55Y",
        "outputId": "9cde31ed-ee9e-4987-cdc9-991d9f1aaa69"
      },
      "source": [
        "tensor_B.dtype, numpy_B.dtype"
      ],
      "execution_count": 120,
      "outputs": [
        {
          "output_type": "execute_result",
          "data": {
            "text/plain": [
              "(tf.int64, dtype('int32'))"
            ]
          },
          "metadata": {},
          "execution_count": 120
        }
      ]
    },
    {
      "cell_type": "markdown",
      "metadata": {
        "id": "-O_dlQMHKS6W"
      },
      "source": [
        "# **Module 1**"
      ]
    },
    {
      "cell_type": "markdown",
      "metadata": {
        "id": "5AGesN3BKWWi"
      },
      "source": [
        "# Model 1"
      ]
    },
    {
      "cell_type": "code",
      "metadata": {
        "id": "gnGA9sAQKeHl"
      },
      "source": [
        "X= tf.constant([1,2,3,4,5,6,7,8])\n",
        "Y= tf.constant([2,4,6,8,10,12,14,16])"
      ],
      "execution_count": 121,
      "outputs": []
    },
    {
      "cell_type": "code",
      "metadata": {
        "colab": {
          "base_uri": "https://localhost:8080/"
        },
        "id": "POAqtRaiJ9ZA",
        "outputId": "d12549aa-ca16-4eb0-fec8-85bbca9624e8"
      },
      "source": [
        "tf.random.set_seed(42)\n",
        "model = tf.keras.Sequential([\n",
        "                             tf.keras.layers.Dense(1)\n",
        "])\n",
        "\n",
        "model.compile(\n",
        "    loss= tf.keras.losses.mae,\n",
        "    optimizer = tf.keras.optimizers.SGD(),\n",
        "    metrics=['mae']\n",
        ")\n",
        "\n",
        "model.fit(tf.expand_dims(X, axis=1), Y, epochs=5)\n",
        "\n",
        "model.evaluate(X,Y)"
      ],
      "execution_count": 123,
      "outputs": [
        {
          "output_type": "stream",
          "name": "stdout",
          "text": [
            "Epoch 1/5\n",
            "1/1 [==============================] - 1s 513ms/step - loss: 6.4347 - mae: 6.4347\n",
            "Epoch 2/5\n",
            "1/1 [==============================] - 0s 7ms/step - loss: 6.2222 - mae: 6.2222\n",
            "Epoch 3/5\n",
            "1/1 [==============================] - 0s 7ms/step - loss: 6.0097 - mae: 6.0097\n",
            "Epoch 4/5\n",
            "1/1 [==============================] - 0s 7ms/step - loss: 5.7972 - mae: 5.7972\n",
            "Epoch 5/5\n",
            "1/1 [==============================] - 0s 7ms/step - loss: 5.5847 - mae: 5.5847\n",
            "1/1 [==============================] - 0s 139ms/step - loss: 5.3722 - mae: 5.3722\n"
          ]
        },
        {
          "output_type": "execute_result",
          "data": {
            "text/plain": [
              "[5.372230052947998, 5.372230052947998]"
            ]
          },
          "metadata": {},
          "execution_count": 123
        }
      ]
    },
    {
      "cell_type": "code",
      "metadata": {
        "colab": {
          "base_uri": "https://localhost:8080/"
        },
        "id": "cTrMhBwJLGM8",
        "outputId": "3973f245-6f73-4cfa-c676-52db4c755e81"
      },
      "source": [
        "X,Y"
      ],
      "execution_count": 127,
      "outputs": [
        {
          "output_type": "execute_result",
          "data": {
            "text/plain": [
              "(<tf.Tensor: shape=(8,), dtype=int32, numpy=array([1, 2, 3, 4, 5, 6, 7, 8], dtype=int32)>,\n",
              " <tf.Tensor: shape=(8,), dtype=int32, numpy=array([ 2,  4,  6,  8, 10, 12, 14, 16], dtype=int32)>)"
            ]
          },
          "metadata": {},
          "execution_count": 127
        }
      ]
    },
    {
      "cell_type": "code",
      "metadata": {
        "colab": {
          "base_uri": "https://localhost:8080/"
        },
        "id": "DBn29XQkLqIx",
        "outputId": "8fe3e187-51c6-419b-cea0-b49f3a0e9c76"
      },
      "source": [
        "model.predict([9])"
      ],
      "execution_count": 128,
      "outputs": [
        {
          "output_type": "execute_result",
          "data": {
            "text/plain": [
              "array([[7.20554]], dtype=float32)"
            ]
          },
          "metadata": {},
          "execution_count": 128
        }
      ]
    },
    {
      "cell_type": "markdown",
      "metadata": {
        "id": "l2m67gCOLutP"
      },
      "source": [
        "# Model No 2"
      ]
    },
    {
      "cell_type": "code",
      "metadata": {
        "colab": {
          "base_uri": "https://localhost:8080/"
        },
        "id": "DTBeIFXxLtKa",
        "outputId": "859117bd-4369-40c1-b51d-bd8b25728d1a"
      },
      "source": [
        "tf.random.set_seed(42)\n",
        "model = tf.keras.Sequential([\n",
        "                           tf.keras.layers.Dense(1)\n",
        "])\n",
        "\n",
        "model.compile(\n",
        "    loss= tf.keras.losses.mae,\n",
        "    optimizer = tf.keras.optimizers.SGD(),\n",
        "    metrics=['mae']\n",
        ")\n",
        "\n",
        "model.fit(tf.expand_dims(X, axis=1), Y , epochs=100)\n",
        "\n",
        "model.evaluate(X, Y)"
      ],
      "execution_count": 129,
      "outputs": [
        {
          "output_type": "stream",
          "name": "stdout",
          "text": [
            "Epoch 1/100\n",
            "1/1 [==============================] - 0s 295ms/step - loss: 6.4347 - mae: 6.4347\n",
            "Epoch 2/100\n",
            "1/1 [==============================] - 0s 8ms/step - loss: 6.2222 - mae: 6.2222\n",
            "Epoch 3/100\n",
            "1/1 [==============================] - 0s 6ms/step - loss: 6.0097 - mae: 6.0097\n",
            "Epoch 4/100\n",
            "1/1 [==============================] - 0s 10ms/step - loss: 5.7972 - mae: 5.7972\n",
            "Epoch 5/100\n",
            "1/1 [==============================] - 0s 10ms/step - loss: 5.5847 - mae: 5.5847\n",
            "Epoch 6/100\n",
            "1/1 [==============================] - 0s 14ms/step - loss: 5.3722 - mae: 5.3722\n",
            "Epoch 7/100\n",
            "1/1 [==============================] - 0s 5ms/step - loss: 5.1597 - mae: 5.1597\n",
            "Epoch 8/100\n",
            "1/1 [==============================] - 0s 7ms/step - loss: 4.9472 - mae: 4.9472\n",
            "Epoch 9/100\n",
            "1/1 [==============================] - 0s 8ms/step - loss: 4.7347 - mae: 4.7347\n",
            "Epoch 10/100\n",
            "1/1 [==============================] - 0s 4ms/step - loss: 4.5222 - mae: 4.5222\n",
            "Epoch 11/100\n",
            "1/1 [==============================] - 0s 8ms/step - loss: 4.3097 - mae: 4.3097\n",
            "Epoch 12/100\n",
            "1/1 [==============================] - 0s 5ms/step - loss: 4.0972 - mae: 4.0972\n",
            "Epoch 13/100\n",
            "1/1 [==============================] - 0s 8ms/step - loss: 3.8847 - mae: 3.8847\n",
            "Epoch 14/100\n",
            "1/1 [==============================] - 0s 4ms/step - loss: 3.6722 - mae: 3.6722\n",
            "Epoch 15/100\n",
            "1/1 [==============================] - 0s 8ms/step - loss: 3.4597 - mae: 3.4597\n",
            "Epoch 16/100\n",
            "1/1 [==============================] - 0s 5ms/step - loss: 3.2472 - mae: 3.2472\n",
            "Epoch 17/100\n",
            "1/1 [==============================] - 0s 6ms/step - loss: 3.0347 - mae: 3.0347\n",
            "Epoch 18/100\n",
            "1/1 [==============================] - 0s 8ms/step - loss: 2.8222 - mae: 2.8222\n",
            "Epoch 19/100\n",
            "1/1 [==============================] - 0s 6ms/step - loss: 2.6097 - mae: 2.6097\n",
            "Epoch 20/100\n",
            "1/1 [==============================] - 0s 5ms/step - loss: 2.3972 - mae: 2.3972\n",
            "Epoch 21/100\n",
            "1/1 [==============================] - 0s 6ms/step - loss: 2.1847 - mae: 2.1847\n",
            "Epoch 22/100\n",
            "1/1 [==============================] - 0s 8ms/step - loss: 1.9722 - mae: 1.9722\n",
            "Epoch 23/100\n",
            "1/1 [==============================] - 0s 10ms/step - loss: 1.7597 - mae: 1.7597\n",
            "Epoch 24/100\n",
            "1/1 [==============================] - 0s 6ms/step - loss: 1.5472 - mae: 1.5472\n",
            "Epoch 25/100\n",
            "1/1 [==============================] - 0s 6ms/step - loss: 1.3347 - mae: 1.3347\n",
            "Epoch 26/100\n",
            "1/1 [==============================] - 0s 6ms/step - loss: 1.1222 - mae: 1.1222\n",
            "Epoch 27/100\n",
            "1/1 [==============================] - 0s 7ms/step - loss: 0.9097 - mae: 0.9097\n",
            "Epoch 28/100\n",
            "1/1 [==============================] - 0s 5ms/step - loss: 0.7235 - mae: 0.7235\n",
            "Epoch 29/100\n",
            "1/1 [==============================] - 0s 7ms/step - loss: 0.5372 - mae: 0.5372\n",
            "Epoch 30/100\n",
            "1/1 [==============================] - 0s 6ms/step - loss: 0.3554 - mae: 0.3554\n",
            "Epoch 31/100\n",
            "1/1 [==============================] - 0s 7ms/step - loss: 0.2129 - mae: 0.2129\n",
            "Epoch 32/100\n",
            "1/1 [==============================] - 0s 5ms/step - loss: 0.1299 - mae: 0.1299\n",
            "Epoch 33/100\n",
            "1/1 [==============================] - 0s 6ms/step - loss: 0.1113 - mae: 0.1113\n",
            "Epoch 34/100\n",
            "1/1 [==============================] - 0s 7ms/step - loss: 0.1106 - mae: 0.1106\n",
            "Epoch 35/100\n",
            "1/1 [==============================] - 0s 7ms/step - loss: 0.1075 - mae: 0.1075\n",
            "Epoch 36/100\n",
            "1/1 [==============================] - 0s 6ms/step - loss: 0.1087 - mae: 0.1087\n",
            "Epoch 37/100\n",
            "1/1 [==============================] - 0s 8ms/step - loss: 0.1038 - mae: 0.1038\n",
            "Epoch 38/100\n",
            "1/1 [==============================] - 0s 7ms/step - loss: 0.1068 - mae: 0.1068\n",
            "Epoch 39/100\n",
            "1/1 [==============================] - 0s 6ms/step - loss: 0.1006 - mae: 0.1006\n",
            "Epoch 40/100\n",
            "1/1 [==============================] - 0s 7ms/step - loss: 0.1051 - mae: 0.1051\n",
            "Epoch 41/100\n",
            "1/1 [==============================] - 0s 8ms/step - loss: 0.1249 - mae: 0.1249\n",
            "Epoch 42/100\n",
            "1/1 [==============================] - 0s 7ms/step - loss: 0.0969 - mae: 0.0969\n",
            "Epoch 43/100\n",
            "1/1 [==============================] - 0s 5ms/step - loss: 0.1006 - mae: 0.1006\n",
            "Epoch 44/100\n",
            "1/1 [==============================] - 0s 7ms/step - loss: 0.0943 - mae: 0.0943\n",
            "Epoch 45/100\n",
            "1/1 [==============================] - 0s 7ms/step - loss: 0.0983 - mae: 0.0983\n",
            "Epoch 46/100\n",
            "1/1 [==============================] - 0s 10ms/step - loss: 0.1199 - mae: 0.1199\n",
            "Epoch 47/100\n",
            "1/1 [==============================] - 0s 9ms/step - loss: 0.0900 - mae: 0.0900\n",
            "Epoch 48/100\n",
            "1/1 [==============================] - 0s 9ms/step - loss: 0.0949 - mae: 0.0949\n",
            "Epoch 49/100\n",
            "1/1 [==============================] - 0s 10ms/step - loss: 0.1115 - mae: 0.1115\n",
            "Epoch 50/100\n",
            "1/1 [==============================] - 0s 7ms/step - loss: 0.1611 - mae: 0.1611\n",
            "Epoch 51/100\n",
            "1/1 [==============================] - 0s 8ms/step - loss: 0.0887 - mae: 0.0887\n",
            "Epoch 52/100\n",
            "1/1 [==============================] - 0s 9ms/step - loss: 0.0863 - mae: 0.0863\n",
            "Epoch 53/100\n",
            "1/1 [==============================] - 0s 6ms/step - loss: 0.0868 - mae: 0.0868\n",
            "Epoch 54/100\n",
            "1/1 [==============================] - 0s 7ms/step - loss: 0.0825 - mae: 0.0825\n",
            "Epoch 55/100\n",
            "1/1 [==============================] - 0s 8ms/step - loss: 0.0850 - mae: 0.0850\n",
            "Epoch 56/100\n",
            "1/1 [==============================] - 0s 7ms/step - loss: 0.0788 - mae: 0.0788\n",
            "Epoch 57/100\n",
            "1/1 [==============================] - 0s 9ms/step - loss: 0.0849 - mae: 0.0849\n",
            "Epoch 58/100\n",
            "1/1 [==============================] - 0s 9ms/step - loss: 0.1040 - mae: 0.1040\n",
            "Epoch 59/100\n",
            "1/1 [==============================] - 0s 8ms/step - loss: 0.1554 - mae: 0.1554\n",
            "Epoch 60/100\n",
            "1/1 [==============================] - 0s 13ms/step - loss: 0.0775 - mae: 0.0775\n",
            "Epoch 61/100\n",
            "1/1 [==============================] - 0s 20ms/step - loss: 0.0768 - mae: 0.0768\n",
            "Epoch 62/100\n",
            "1/1 [==============================] - 0s 18ms/step - loss: 0.0738 - mae: 0.0738\n",
            "Epoch 63/100\n",
            "1/1 [==============================] - 0s 6ms/step - loss: 0.0750 - mae: 0.0750\n",
            "Epoch 64/100\n",
            "1/1 [==============================] - 0s 10ms/step - loss: 0.0700 - mae: 0.0700\n",
            "Epoch 65/100\n",
            "1/1 [==============================] - 0s 5ms/step - loss: 0.0749 - mae: 0.0749\n",
            "Epoch 66/100\n",
            "1/1 [==============================] - 0s 7ms/step - loss: 0.1015 - mae: 0.1015\n",
            "Epoch 67/100\n",
            "1/1 [==============================] - 0s 10ms/step - loss: 0.1492 - mae: 0.1492\n",
            "Epoch 68/100\n",
            "1/1 [==============================] - 0s 11ms/step - loss: 0.0689 - mae: 0.0689\n",
            "Epoch 69/100\n",
            "1/1 [==============================] - 0s 6ms/step - loss: 0.1079 - mae: 0.1079\n",
            "Epoch 70/100\n",
            "1/1 [==============================] - 0s 5ms/step - loss: 0.0803 - mae: 0.0803\n",
            "Epoch 71/100\n",
            "1/1 [==============================] - 0s 8ms/step - loss: 0.1635 - mae: 0.1635\n",
            "Epoch 72/100\n",
            "1/1 [==============================] - 0s 5ms/step - loss: 0.0619 - mae: 0.0619\n",
            "Epoch 73/100\n",
            "1/1 [==============================] - 0s 7ms/step - loss: 0.0699 - mae: 0.0699\n",
            "Epoch 74/100\n",
            "1/1 [==============================] - 0s 8ms/step - loss: 0.0928 - mae: 0.0928\n",
            "Epoch 75/100\n",
            "1/1 [==============================] - 0s 6ms/step - loss: 0.1498 - mae: 0.1498\n",
            "Epoch 76/100\n",
            "1/1 [==============================] - 0s 6ms/step - loss: 0.0607 - mae: 0.0607\n",
            "Epoch 77/100\n",
            "1/1 [==============================] - 0s 6ms/step - loss: 0.0600 - mae: 0.0600\n",
            "Epoch 78/100\n",
            "1/1 [==============================] - 0s 7ms/step - loss: 0.0569 - mae: 0.0569\n",
            "Epoch 79/100\n",
            "1/1 [==============================] - 0s 5ms/step - loss: 0.0599 - mae: 0.0599\n",
            "Epoch 80/100\n",
            "1/1 [==============================] - 0s 8ms/step - loss: 0.0978 - mae: 0.0978\n",
            "Epoch 81/100\n",
            "1/1 [==============================] - 0s 7ms/step - loss: 0.1398 - mae: 0.1398\n",
            "Epoch 82/100\n",
            "1/1 [==============================] - 0s 5ms/step - loss: 0.0595 - mae: 0.0595\n",
            "Epoch 83/100\n",
            "1/1 [==============================] - 0s 5ms/step - loss: 0.0948 - mae: 0.0948\n",
            "Epoch 84/100\n",
            "1/1 [==============================] - 0s 8ms/step - loss: 0.0765 - mae: 0.0765\n",
            "Epoch 85/100\n",
            "1/1 [==============================] - 0s 6ms/step - loss: 0.1542 - mae: 0.1542\n",
            "Epoch 86/100\n",
            "1/1 [==============================] - 0s 7ms/step - loss: 0.0488 - mae: 0.0488\n",
            "Epoch 87/100\n",
            "1/1 [==============================] - 0s 6ms/step - loss: 0.0549 - mae: 0.0549\n",
            "Epoch 88/100\n",
            "1/1 [==============================] - 0s 8ms/step - loss: 0.0890 - mae: 0.0890\n",
            "Epoch 89/100\n",
            "1/1 [==============================] - 0s 9ms/step - loss: 0.1404 - mae: 0.1404\n",
            "Epoch 90/100\n",
            "1/1 [==============================] - 0s 8ms/step - loss: 0.0508 - mae: 0.0508\n",
            "Epoch 91/100\n",
            "1/1 [==============================] - 0s 7ms/step - loss: 0.0948 - mae: 0.0948\n",
            "Epoch 92/100\n",
            "1/1 [==============================] - 0s 6ms/step - loss: 0.1040 - mae: 0.1040\n",
            "Epoch 93/100\n",
            "1/1 [==============================] - 0s 6ms/step - loss: 0.1254 - mae: 0.1254\n",
            "Epoch 94/100\n",
            "1/1 [==============================] - 0s 9ms/step - loss: 0.0653 - mae: 0.0653\n",
            "Epoch 95/100\n",
            "1/1 [==============================] - 0s 10ms/step - loss: 0.1585 - mae: 0.1585\n",
            "Epoch 96/100\n",
            "1/1 [==============================] - 0s 8ms/step - loss: 0.0515 - mae: 0.0515\n",
            "Epoch 97/100\n",
            "1/1 [==============================] - 0s 7ms/step - loss: 0.1710 - mae: 0.1710\n",
            "Epoch 98/100\n",
            "1/1 [==============================] - 0s 7ms/step - loss: 0.0414 - mae: 0.0414\n",
            "Epoch 99/100\n",
            "1/1 [==============================] - 0s 6ms/step - loss: 0.1010 - mae: 0.1010\n",
            "Epoch 100/100\n",
            "1/1 [==============================] - 0s 6ms/step - loss: 0.0915 - mae: 0.0915\n",
            "1/1 [==============================] - 0s 93ms/step - loss: 0.1322 - mae: 0.1322\n"
          ]
        },
        {
          "output_type": "execute_result",
          "data": {
            "text/plain": [
              "[0.13224530220031738, 0.13224530220031738]"
            ]
          },
          "metadata": {},
          "execution_count": 129
        }
      ]
    },
    {
      "cell_type": "code",
      "metadata": {
        "colab": {
          "base_uri": "https://localhost:8080/"
        },
        "id": "D4T_f5lfMSyH",
        "outputId": "5153a1f9-bf63-42b3-dfdf-3c58c3439fa4"
      },
      "source": [
        "X, Y"
      ],
      "execution_count": 130,
      "outputs": [
        {
          "output_type": "execute_result",
          "data": {
            "text/plain": [
              "(<tf.Tensor: shape=(8,), dtype=int32, numpy=array([1, 2, 3, 4, 5, 6, 7, 8], dtype=int32)>,\n",
              " <tf.Tensor: shape=(8,), dtype=int32, numpy=array([ 2,  4,  6,  8, 10, 12, 14, 16], dtype=int32)>)"
            ]
          },
          "metadata": {},
          "execution_count": 130
        }
      ]
    },
    {
      "cell_type": "code",
      "metadata": {
        "colab": {
          "base_uri": "https://localhost:8080/"
        },
        "id": "crkY9vuIMYjx",
        "outputId": "105933dd-2769-4bf0-b82c-74621a4943c9"
      },
      "source": [
        "model.predict([9])"
      ],
      "execution_count": 131,
      "outputs": [
        {
          "output_type": "execute_result",
          "data": {
            "text/plain": [
              "array([[17.66554]], dtype=float32)"
            ]
          },
          "metadata": {},
          "execution_count": 131
        }
      ]
    },
    {
      "cell_type": "markdown",
      "metadata": {
        "id": "EOOPVGKdMduX"
      },
      "source": [
        "# Model No 3"
      ]
    },
    {
      "cell_type": "code",
      "metadata": {
        "colab": {
          "base_uri": "https://localhost:8080/"
        },
        "id": "bFEOnMrRMa6I",
        "outputId": "07a53c0e-f90e-41b5-ebf8-4621282ad9b9"
      },
      "source": [
        "tf.random.set_seed(42)\n",
        "model = tf.keras.Sequential([\n",
        "                             tf.keras.layers.Dense(100, activation='relu'),\n",
        "                             tf.keras.layers.Dense(1)\n",
        "])\n",
        "model.compile(\n",
        "    loss = tf.keras.losses.mae,\n",
        "    optimizer = tf.keras.optimizers.SGD(),\n",
        "    metrics=['mae']\n",
        ")\n",
        "model.fit(tf.expand_dims(X, axis=1), Y, epochs=100)\n",
        "\n",
        "model.evaluate(X,Y)"
      ],
      "execution_count": 132,
      "outputs": [
        {
          "output_type": "stream",
          "name": "stdout",
          "text": [
            "Epoch 1/100\n",
            "1/1 [==============================] - 0s 365ms/step - loss: 8.0477 - mae: 8.0477\n",
            "Epoch 2/100\n",
            "1/1 [==============================] - 0s 11ms/step - loss: 7.6294 - mae: 7.6294\n",
            "Epoch 3/100\n",
            "1/1 [==============================] - 0s 7ms/step - loss: 7.2045 - mae: 7.2045\n",
            "Epoch 4/100\n",
            "1/1 [==============================] - 0s 9ms/step - loss: 6.7714 - mae: 6.7714\n",
            "Epoch 5/100\n",
            "1/1 [==============================] - 0s 6ms/step - loss: 6.3254 - mae: 6.3254\n",
            "Epoch 6/100\n",
            "1/1 [==============================] - 0s 6ms/step - loss: 5.8589 - mae: 5.8589\n",
            "Epoch 7/100\n",
            "1/1 [==============================] - 0s 6ms/step - loss: 5.3681 - mae: 5.3681\n",
            "Epoch 8/100\n",
            "1/1 [==============================] - 0s 10ms/step - loss: 4.8490 - mae: 4.8490\n",
            "Epoch 9/100\n",
            "1/1 [==============================] - 0s 6ms/step - loss: 4.2986 - mae: 4.2986\n",
            "Epoch 10/100\n",
            "1/1 [==============================] - 0s 7ms/step - loss: 3.7208 - mae: 3.7208\n",
            "Epoch 11/100\n",
            "1/1 [==============================] - 0s 11ms/step - loss: 3.1065 - mae: 3.1065\n",
            "Epoch 12/100\n",
            "1/1 [==============================] - 0s 10ms/step - loss: 2.4458 - mae: 2.4458\n",
            "Epoch 13/100\n",
            "1/1 [==============================] - 0s 9ms/step - loss: 1.7331 - mae: 1.7331\n",
            "Epoch 14/100\n",
            "1/1 [==============================] - 0s 6ms/step - loss: 0.9723 - mae: 0.9723\n",
            "Epoch 15/100\n",
            "1/1 [==============================] - 0s 13ms/step - loss: 0.2704 - mae: 0.2704\n",
            "Epoch 16/100\n",
            "1/1 [==============================] - 0s 10ms/step - loss: 0.5516 - mae: 0.5516\n",
            "Epoch 17/100\n",
            "1/1 [==============================] - 0s 9ms/step - loss: 0.4219 - mae: 0.4219\n",
            "Epoch 18/100\n",
            "1/1 [==============================] - 0s 10ms/step - loss: 0.3493 - mae: 0.3493\n",
            "Epoch 19/100\n",
            "1/1 [==============================] - 0s 6ms/step - loss: 0.5884 - mae: 0.5884\n",
            "Epoch 20/100\n",
            "1/1 [==============================] - 0s 6ms/step - loss: 0.2538 - mae: 0.2538\n",
            "Epoch 21/100\n",
            "1/1 [==============================] - 0s 7ms/step - loss: 0.6689 - mae: 0.6689\n",
            "Epoch 22/100\n",
            "1/1 [==============================] - 0s 7ms/step - loss: 0.1593 - mae: 0.1593\n",
            "Epoch 23/100\n",
            "1/1 [==============================] - 0s 7ms/step - loss: 0.7487 - mae: 0.7487\n",
            "Epoch 24/100\n",
            "1/1 [==============================] - 0s 8ms/step - loss: 0.1264 - mae: 0.1264\n",
            "Epoch 25/100\n",
            "1/1 [==============================] - 0s 7ms/step - loss: 0.2002 - mae: 0.2002\n",
            "Epoch 26/100\n",
            "1/1 [==============================] - 0s 7ms/step - loss: 0.7097 - mae: 0.7097\n",
            "Epoch 27/100\n",
            "1/1 [==============================] - 0s 7ms/step - loss: 0.1223 - mae: 0.1223\n",
            "Epoch 28/100\n",
            "1/1 [==============================] - 0s 5ms/step - loss: 0.1610 - mae: 0.1610\n",
            "Epoch 29/100\n",
            "1/1 [==============================] - 0s 6ms/step - loss: 0.5301 - mae: 0.5301\n",
            "Epoch 30/100\n",
            "1/1 [==============================] - 0s 6ms/step - loss: 0.4199 - mae: 0.4199\n",
            "Epoch 31/100\n",
            "1/1 [==============================] - 0s 7ms/step - loss: 0.4338 - mae: 0.4338\n",
            "Epoch 32/100\n",
            "1/1 [==============================] - 0s 7ms/step - loss: 0.5005 - mae: 0.5005\n",
            "Epoch 33/100\n",
            "1/1 [==============================] - 0s 6ms/step - loss: 0.3382 - mae: 0.3382\n",
            "Epoch 34/100\n",
            "1/1 [==============================] - 0s 6ms/step - loss: 0.5794 - mae: 0.5794\n",
            "Epoch 35/100\n",
            "1/1 [==============================] - 0s 6ms/step - loss: 0.2433 - mae: 0.2433\n",
            "Epoch 36/100\n",
            "1/1 [==============================] - 0s 7ms/step - loss: 0.6595 - mae: 0.6595\n",
            "Epoch 37/100\n",
            "1/1 [==============================] - 0s 7ms/step - loss: 0.1493 - mae: 0.1493\n",
            "Epoch 38/100\n",
            "1/1 [==============================] - 0s 12ms/step - loss: 0.7389 - mae: 0.7389\n",
            "Epoch 39/100\n",
            "1/1 [==============================] - 0s 9ms/step - loss: 0.0991 - mae: 0.0991\n",
            "Epoch 40/100\n",
            "1/1 [==============================] - 0s 6ms/step - loss: 0.1904 - mae: 0.1904\n",
            "Epoch 41/100\n",
            "1/1 [==============================] - 0s 4ms/step - loss: 0.7002 - mae: 0.7002\n",
            "Epoch 42/100\n",
            "1/1 [==============================] - 0s 7ms/step - loss: 0.1014 - mae: 0.1014\n",
            "Epoch 43/100\n",
            "1/1 [==============================] - 0s 4ms/step - loss: 0.4230 - mae: 0.4230\n",
            "Epoch 44/100\n",
            "1/1 [==============================] - 0s 7ms/step - loss: 0.4144 - mae: 0.4144\n",
            "Epoch 45/100\n",
            "1/1 [==============================] - 0s 5ms/step - loss: 0.5043 - mae: 0.5043\n",
            "Epoch 46/100\n",
            "1/1 [==============================] - 0s 10ms/step - loss: 0.3190 - mae: 0.3190\n",
            "Epoch 47/100\n",
            "1/1 [==============================] - 0s 4ms/step - loss: 0.5849 - mae: 0.5849\n",
            "Epoch 48/100\n",
            "1/1 [==============================] - 0s 7ms/step - loss: 0.2246 - mae: 0.2246\n",
            "Epoch 49/100\n",
            "1/1 [==============================] - 0s 10ms/step - loss: 0.6646 - mae: 0.6646\n",
            "Epoch 50/100\n",
            "1/1 [==============================] - 0s 16ms/step - loss: 0.1311 - mae: 0.1311\n",
            "Epoch 51/100\n",
            "1/1 [==============================] - 0s 6ms/step - loss: 0.7496 - mae: 0.7496\n",
            "Epoch 52/100\n",
            "1/1 [==============================] - 0s 7ms/step - loss: 0.0937 - mae: 0.0937\n",
            "Epoch 53/100\n",
            "1/1 [==============================] - 0s 8ms/step - loss: 0.4207 - mae: 0.4207\n",
            "Epoch 54/100\n",
            "1/1 [==============================] - 0s 11ms/step - loss: 0.4097 - mae: 0.4097\n",
            "Epoch 55/100\n",
            "1/1 [==============================] - 0s 5ms/step - loss: 0.5018 - mae: 0.5018\n",
            "Epoch 56/100\n",
            "1/1 [==============================] - 0s 10ms/step - loss: 0.3146 - mae: 0.3146\n",
            "Epoch 57/100\n",
            "1/1 [==============================] - 0s 5ms/step - loss: 0.5822 - mae: 0.5822\n",
            "Epoch 58/100\n",
            "1/1 [==============================] - 0s 10ms/step - loss: 0.2204 - mae: 0.2204\n",
            "Epoch 59/100\n",
            "1/1 [==============================] - 0s 5ms/step - loss: 0.6665 - mae: 0.6665\n",
            "Epoch 60/100\n",
            "1/1 [==============================] - 0s 5ms/step - loss: 0.1816 - mae: 0.1816\n",
            "Epoch 61/100\n",
            "1/1 [==============================] - 0s 6ms/step - loss: 0.7016 - mae: 0.7016\n",
            "Epoch 62/100\n",
            "1/1 [==============================] - 0s 10ms/step - loss: 0.1430 - mae: 0.1430\n",
            "Epoch 63/100\n",
            "1/1 [==============================] - 0s 9ms/step - loss: 0.7364 - mae: 0.7364\n",
            "Epoch 64/100\n",
            "1/1 [==============================] - 0s 7ms/step - loss: 0.1046 - mae: 0.1046\n",
            "Epoch 65/100\n",
            "1/1 [==============================] - 0s 7ms/step - loss: 0.7712 - mae: 0.7712\n",
            "Epoch 66/100\n",
            "1/1 [==============================] - 0s 8ms/step - loss: 0.0762 - mae: 0.0762\n",
            "Epoch 67/100\n",
            "1/1 [==============================] - 0s 5ms/step - loss: 0.1374 - mae: 0.1374\n",
            "Epoch 68/100\n",
            "1/1 [==============================] - 0s 7ms/step - loss: 0.6398 - mae: 0.6398\n",
            "Epoch 69/100\n",
            "1/1 [==============================] - 0s 7ms/step - loss: 0.2968 - mae: 0.2968\n",
            "Epoch 70/100\n",
            "1/1 [==============================] - 0s 9ms/step - loss: 0.5428 - mae: 0.5428\n",
            "Epoch 71/100\n",
            "1/1 [==============================] - 0s 8ms/step - loss: 0.3787 - mae: 0.3787\n",
            "Epoch 72/100\n",
            "1/1 [==============================] - 0s 5ms/step - loss: 0.4468 - mae: 0.4468\n",
            "Epoch 73/100\n",
            "1/1 [==============================] - 0s 8ms/step - loss: 0.4598 - mae: 0.4598\n",
            "Epoch 74/100\n",
            "1/1 [==============================] - 0s 8ms/step - loss: 0.3517 - mae: 0.3517\n",
            "Epoch 75/100\n",
            "1/1 [==============================] - 0s 5ms/step - loss: 0.5438 - mae: 0.5438\n",
            "Epoch 76/100\n",
            "1/1 [==============================] - 0s 7ms/step - loss: 0.3123 - mae: 0.3123\n",
            "Epoch 77/100\n",
            "1/1 [==============================] - 0s 9ms/step - loss: 0.5794 - mae: 0.5794\n",
            "Epoch 78/100\n",
            "1/1 [==============================] - 0s 9ms/step - loss: 0.2731 - mae: 0.2731\n",
            "Epoch 79/100\n",
            "1/1 [==============================] - 0s 5ms/step - loss: 0.6148 - mae: 0.6148\n",
            "Epoch 80/100\n",
            "1/1 [==============================] - 0s 9ms/step - loss: 0.2341 - mae: 0.2341\n",
            "Epoch 81/100\n",
            "1/1 [==============================] - 0s 6ms/step - loss: 0.6501 - mae: 0.6501\n",
            "Epoch 82/100\n",
            "1/1 [==============================] - 0s 9ms/step - loss: 0.1953 - mae: 0.1953\n",
            "Epoch 83/100\n",
            "1/1 [==============================] - 0s 9ms/step - loss: 0.6852 - mae: 0.6852\n",
            "Epoch 84/100\n",
            "1/1 [==============================] - 0s 6ms/step - loss: 0.1566 - mae: 0.1566\n",
            "Epoch 85/100\n",
            "1/1 [==============================] - 0s 8ms/step - loss: 0.7202 - mae: 0.7202\n",
            "Epoch 86/100\n",
            "1/1 [==============================] - 0s 5ms/step - loss: 0.1181 - mae: 0.1181\n",
            "Epoch 87/100\n",
            "1/1 [==============================] - 0s 9ms/step - loss: 0.7550 - mae: 0.7550\n",
            "Epoch 88/100\n",
            "1/1 [==============================] - 0s 5ms/step - loss: 0.0797 - mae: 0.0797\n",
            "Epoch 89/100\n",
            "1/1 [==============================] - 0s 8ms/step - loss: 0.7897 - mae: 0.7897\n",
            "Epoch 90/100\n",
            "1/1 [==============================] - 0s 5ms/step - loss: 0.0609 - mae: 0.0609\n",
            "Epoch 91/100\n",
            "1/1 [==============================] - 0s 9ms/step - loss: 0.1457 - mae: 0.1457\n",
            "Epoch 92/100\n",
            "1/1 [==============================] - 0s 5ms/step - loss: 0.6116 - mae: 0.6116\n",
            "Epoch 93/100\n",
            "1/1 [==============================] - 0s 9ms/step - loss: 0.3109 - mae: 0.3109\n",
            "Epoch 94/100\n",
            "1/1 [==============================] - 0s 11ms/step - loss: 0.5154 - mae: 0.5154\n",
            "Epoch 95/100\n",
            "1/1 [==============================] - 0s 10ms/step - loss: 0.3922 - mae: 0.3922\n",
            "Epoch 96/100\n",
            "1/1 [==============================] - 0s 6ms/step - loss: 0.4200 - mae: 0.4200\n",
            "Epoch 97/100\n",
            "1/1 [==============================] - 0s 11ms/step - loss: 0.4774 - mae: 0.4774\n",
            "Epoch 98/100\n",
            "1/1 [==============================] - 0s 5ms/step - loss: 0.3804 - mae: 0.3804\n",
            "Epoch 99/100\n",
            "1/1 [==============================] - 0s 10ms/step - loss: 0.5133 - mae: 0.5133\n",
            "Epoch 100/100\n",
            "1/1 [==============================] - 0s 5ms/step - loss: 0.3409 - mae: 0.3409\n",
            "1/1 [==============================] - 0s 110ms/step - loss: 0.5491 - mae: 0.5491\n"
          ]
        },
        {
          "output_type": "execute_result",
          "data": {
            "text/plain": [
              "[0.5490556955337524, 0.5490556955337524]"
            ]
          },
          "metadata": {},
          "execution_count": 132
        }
      ]
    },
    {
      "cell_type": "code",
      "metadata": {
        "colab": {
          "base_uri": "https://localhost:8080/"
        },
        "id": "cZdstE9nNDZS",
        "outputId": "8cb1326e-eed9-441f-cd59-9f69c1e7791e"
      },
      "source": [
        "X,Y"
      ],
      "execution_count": 133,
      "outputs": [
        {
          "output_type": "execute_result",
          "data": {
            "text/plain": [
              "(<tf.Tensor: shape=(8,), dtype=int32, numpy=array([1, 2, 3, 4, 5, 6, 7, 8], dtype=int32)>,\n",
              " <tf.Tensor: shape=(8,), dtype=int32, numpy=array([ 2,  4,  6,  8, 10, 12, 14, 16], dtype=int32)>)"
            ]
          },
          "metadata": {},
          "execution_count": 133
        }
      ]
    },
    {
      "cell_type": "code",
      "metadata": {
        "colab": {
          "base_uri": "https://localhost:8080/"
        },
        "id": "8M8xM22kNExF",
        "outputId": "9caeb55e-b961-43d7-a23b-31e1de955d9b"
      },
      "source": [
        "model.predict([9])"
      ],
      "execution_count": 134,
      "outputs": [
        {
          "output_type": "execute_result",
          "data": {
            "text/plain": [
              "array([[16.791193]], dtype=float32)"
            ]
          },
          "metadata": {},
          "execution_count": 134
        }
      ]
    },
    {
      "cell_type": "markdown",
      "metadata": {
        "id": "wtGs96I_NJMB"
      },
      "source": [
        "# Model No 4"
      ]
    },
    {
      "cell_type": "code",
      "metadata": {
        "colab": {
          "base_uri": "https://localhost:8080/"
        },
        "id": "fYVjaSEdNG3e",
        "outputId": "c1dbf5be-5fba-4a90-803b-68f7013faa90"
      },
      "source": [
        "tf.random.set_seed(42)\n",
        "\n",
        "model = tf.keras.Sequential([\n",
        "                             tf.keras.layers.Dense(100, activation='relu'),\n",
        "                             tf.keras.layers.Dense(1)\n",
        "])\n",
        "\n",
        "model.compile(\n",
        "    loss = tf.keras.losses.mae,\n",
        "    optimizer = tf.keras.optimizers.Adam(lr=0.01),\n",
        "    metrics=['mae']\n",
        ")\n",
        "\n",
        "model.fit(tf.expand_dims(X, axis=1), Y, epochs=100)\n",
        "\n",
        "model.evaluate(X,Y)\n",
        "\n"
      ],
      "execution_count": 135,
      "outputs": [
        {
          "output_type": "stream",
          "name": "stderr",
          "text": [
            "/usr/local/lib/python3.7/dist-packages/keras/optimizer_v2/adam.py:105: UserWarning: The `lr` argument is deprecated, use `learning_rate` instead.\n",
            "  super(Adam, self).__init__(name, **kwargs)\n"
          ]
        },
        {
          "output_type": "stream",
          "name": "stdout",
          "text": [
            "Epoch 1/100\n",
            "1/1 [==============================] - 0s 383ms/step - loss: 8.0477 - mae: 8.0477\n",
            "Epoch 2/100\n",
            "1/1 [==============================] - 0s 6ms/step - loss: 7.4063 - mae: 7.4063\n",
            "Epoch 3/100\n",
            "1/1 [==============================] - 0s 17ms/step - loss: 6.7558 - mae: 6.7558\n",
            "Epoch 4/100\n",
            "1/1 [==============================] - 0s 10ms/step - loss: 6.0927 - mae: 6.0927\n",
            "Epoch 5/100\n",
            "1/1 [==============================] - 0s 8ms/step - loss: 5.4077 - mae: 5.4077\n",
            "Epoch 6/100\n",
            "1/1 [==============================] - 0s 6ms/step - loss: 4.7017 - mae: 4.7017\n",
            "Epoch 7/100\n",
            "1/1 [==============================] - 0s 6ms/step - loss: 3.9738 - mae: 3.9738\n",
            "Epoch 8/100\n",
            "1/1 [==============================] - 0s 12ms/step - loss: 3.2179 - mae: 3.2179\n",
            "Epoch 9/100\n",
            "1/1 [==============================] - 0s 6ms/step - loss: 2.4321 - mae: 2.4321\n",
            "Epoch 10/100\n",
            "1/1 [==============================] - 0s 7ms/step - loss: 1.6717 - mae: 1.6717\n",
            "Epoch 11/100\n",
            "1/1 [==============================] - 0s 6ms/step - loss: 0.9242 - mae: 0.9242\n",
            "Epoch 12/100\n",
            "1/1 [==============================] - 0s 5ms/step - loss: 0.4023 - mae: 0.4023\n",
            "Epoch 13/100\n",
            "1/1 [==============================] - 0s 6ms/step - loss: 0.9919 - mae: 0.9919\n",
            "Epoch 14/100\n",
            "1/1 [==============================] - 0s 6ms/step - loss: 1.5271 - mae: 1.5271\n",
            "Epoch 15/100\n",
            "1/1 [==============================] - 0s 8ms/step - loss: 1.8031 - mae: 1.8031\n",
            "Epoch 16/100\n",
            "1/1 [==============================] - 0s 10ms/step - loss: 1.8690 - mae: 1.8690\n",
            "Epoch 17/100\n",
            "1/1 [==============================] - 0s 7ms/step - loss: 1.7667 - mae: 1.7667\n",
            "Epoch 18/100\n",
            "1/1 [==============================] - 0s 6ms/step - loss: 1.5314 - mae: 1.5314\n",
            "Epoch 19/100\n",
            "1/1 [==============================] - 0s 8ms/step - loss: 1.1927 - mae: 1.1927\n",
            "Epoch 20/100\n",
            "1/1 [==============================] - 0s 7ms/step - loss: 0.7751 - mae: 0.7751\n",
            "Epoch 21/100\n",
            "1/1 [==============================] - 0s 7ms/step - loss: 0.3714 - mae: 0.3714\n",
            "Epoch 22/100\n",
            "1/1 [==============================] - 0s 8ms/step - loss: 0.4720 - mae: 0.4720\n",
            "Epoch 23/100\n",
            "1/1 [==============================] - 0s 8ms/step - loss: 0.6734 - mae: 0.6734\n",
            "Epoch 24/100\n",
            "1/1 [==============================] - 0s 8ms/step - loss: 0.8279 - mae: 0.8279\n",
            "Epoch 25/100\n",
            "1/1 [==============================] - 0s 9ms/step - loss: 0.9007 - mae: 0.9007\n",
            "Epoch 26/100\n",
            "1/1 [==============================] - 0s 14ms/step - loss: 0.9030 - mae: 0.9030\n",
            "Epoch 27/100\n",
            "1/1 [==============================] - 0s 6ms/step - loss: 0.8432 - mae: 0.8432\n",
            "Epoch 28/100\n",
            "1/1 [==============================] - 0s 8ms/step - loss: 0.7272 - mae: 0.7272\n",
            "Epoch 29/100\n",
            "1/1 [==============================] - 0s 9ms/step - loss: 0.5622 - mae: 0.5622\n",
            "Epoch 30/100\n",
            "1/1 [==============================] - 0s 8ms/step - loss: 0.4013 - mae: 0.4013\n",
            "Epoch 31/100\n",
            "1/1 [==============================] - 0s 8ms/step - loss: 0.3023 - mae: 0.3023\n",
            "Epoch 32/100\n",
            "1/1 [==============================] - 0s 8ms/step - loss: 0.4623 - mae: 0.4623\n",
            "Epoch 33/100\n",
            "1/1 [==============================] - 0s 11ms/step - loss: 0.6033 - mae: 0.6033\n",
            "Epoch 34/100\n",
            "1/1 [==============================] - 0s 13ms/step - loss: 0.6165 - mae: 0.6165\n",
            "Epoch 35/100\n",
            "1/1 [==============================] - 0s 6ms/step - loss: 0.5173 - mae: 0.5173\n",
            "Epoch 36/100\n",
            "1/1 [==============================] - 0s 9ms/step - loss: 0.3216 - mae: 0.3216\n",
            "Epoch 37/100\n",
            "1/1 [==============================] - 0s 8ms/step - loss: 0.2699 - mae: 0.2699\n",
            "Epoch 38/100\n",
            "1/1 [==============================] - 0s 14ms/step - loss: 0.3614 - mae: 0.3614\n",
            "Epoch 39/100\n",
            "1/1 [==============================] - 0s 11ms/step - loss: 0.4305 - mae: 0.4305\n",
            "Epoch 40/100\n",
            "1/1 [==============================] - 0s 11ms/step - loss: 0.4500 - mae: 0.4500\n",
            "Epoch 41/100\n",
            "1/1 [==============================] - 0s 17ms/step - loss: 0.4050 - mae: 0.4050\n",
            "Epoch 42/100\n",
            "1/1 [==============================] - 0s 8ms/step - loss: 0.3181 - mae: 0.3181\n",
            "Epoch 43/100\n",
            "1/1 [==============================] - 0s 10ms/step - loss: 0.2197 - mae: 0.2197\n",
            "Epoch 44/100\n",
            "1/1 [==============================] - 0s 10ms/step - loss: 0.2185 - mae: 0.2185\n",
            "Epoch 45/100\n",
            "1/1 [==============================] - 0s 9ms/step - loss: 0.3340 - mae: 0.3340\n",
            "Epoch 46/100\n",
            "1/1 [==============================] - 0s 11ms/step - loss: 0.3326 - mae: 0.3326\n",
            "Epoch 47/100\n",
            "1/1 [==============================] - 0s 9ms/step - loss: 0.2248 - mae: 0.2248\n",
            "Epoch 48/100\n",
            "1/1 [==============================] - 0s 19ms/step - loss: 0.1606 - mae: 0.1606\n",
            "Epoch 49/100\n",
            "1/1 [==============================] - 0s 10ms/step - loss: 0.2205 - mae: 0.2205\n",
            "Epoch 50/100\n",
            "1/1 [==============================] - 0s 11ms/step - loss: 0.2528 - mae: 0.2528\n",
            "Epoch 51/100\n",
            "1/1 [==============================] - 0s 12ms/step - loss: 0.2256 - mae: 0.2256\n",
            "Epoch 52/100\n",
            "1/1 [==============================] - 0s 10ms/step - loss: 0.1493 - mae: 0.1493\n",
            "Epoch 53/100\n",
            "1/1 [==============================] - 0s 13ms/step - loss: 0.1072 - mae: 0.1072\n",
            "Epoch 54/100\n",
            "1/1 [==============================] - 0s 10ms/step - loss: 0.1835 - mae: 0.1835\n",
            "Epoch 55/100\n",
            "1/1 [==============================] - 0s 8ms/step - loss: 0.1498 - mae: 0.1498\n",
            "Epoch 56/100\n",
            "1/1 [==============================] - 0s 15ms/step - loss: 0.0690 - mae: 0.0690\n",
            "Epoch 57/100\n",
            "1/1 [==============================] - 0s 8ms/step - loss: 0.1009 - mae: 0.1009\n",
            "Epoch 58/100\n",
            "1/1 [==============================] - 0s 6ms/step - loss: 0.0842 - mae: 0.0842\n",
            "Epoch 59/100\n",
            "1/1 [==============================] - 0s 9ms/step - loss: 0.0356 - mae: 0.0356\n",
            "Epoch 60/100\n",
            "1/1 [==============================] - 0s 6ms/step - loss: 0.0561 - mae: 0.0561\n",
            "Epoch 61/100\n",
            "1/1 [==============================] - 0s 9ms/step - loss: 0.0359 - mae: 0.0359\n",
            "Epoch 62/100\n",
            "1/1 [==============================] - 0s 11ms/step - loss: 0.0134 - mae: 0.0134\n",
            "Epoch 63/100\n",
            "1/1 [==============================] - 0s 8ms/step - loss: 0.1031 - mae: 0.1031\n",
            "Epoch 64/100\n",
            "1/1 [==============================] - 0s 11ms/step - loss: 0.1003 - mae: 0.1003\n",
            "Epoch 65/100\n",
            "1/1 [==============================] - 0s 12ms/step - loss: 0.0264 - mae: 0.0264\n",
            "Epoch 66/100\n",
            "1/1 [==============================] - 0s 6ms/step - loss: 0.1148 - mae: 0.1148\n",
            "Epoch 67/100\n",
            "1/1 [==============================] - 0s 11ms/step - loss: 0.1095 - mae: 0.1095\n",
            "Epoch 68/100\n",
            "1/1 [==============================] - 0s 17ms/step - loss: 0.0432 - mae: 0.0432\n",
            "Epoch 69/100\n",
            "1/1 [==============================] - 0s 7ms/step - loss: 0.0756 - mae: 0.0756\n",
            "Epoch 70/100\n",
            "1/1 [==============================] - 0s 6ms/step - loss: 0.0663 - mae: 0.0663\n",
            "Epoch 71/100\n",
            "1/1 [==============================] - 0s 8ms/step - loss: 0.0411 - mae: 0.0411\n",
            "Epoch 72/100\n",
            "1/1 [==============================] - 0s 8ms/step - loss: 0.0477 - mae: 0.0477\n",
            "Epoch 73/100\n",
            "1/1 [==============================] - 0s 21ms/step - loss: 0.0624 - mae: 0.0624\n",
            "Epoch 74/100\n",
            "1/1 [==============================] - 0s 8ms/step - loss: 0.0609 - mae: 0.0609\n",
            "Epoch 75/100\n",
            "1/1 [==============================] - 0s 8ms/step - loss: 0.0310 - mae: 0.0310\n",
            "Epoch 76/100\n",
            "1/1 [==============================] - 0s 9ms/step - loss: 0.0200 - mae: 0.0200\n",
            "Epoch 77/100\n",
            "1/1 [==============================] - 0s 9ms/step - loss: 0.0138 - mae: 0.0138\n",
            "Epoch 78/100\n",
            "1/1 [==============================] - 0s 9ms/step - loss: 0.0354 - mae: 0.0354\n",
            "Epoch 79/100\n",
            "1/1 [==============================] - 0s 15ms/step - loss: 0.0266 - mae: 0.0266\n",
            "Epoch 80/100\n",
            "1/1 [==============================] - 0s 21ms/step - loss: 0.0155 - mae: 0.0155\n",
            "Epoch 81/100\n",
            "1/1 [==============================] - 0s 11ms/step - loss: 0.0542 - mae: 0.0542\n",
            "Epoch 82/100\n",
            "1/1 [==============================] - 0s 19ms/step - loss: 0.0251 - mae: 0.0251\n",
            "Epoch 83/100\n",
            "1/1 [==============================] - 0s 11ms/step - loss: 0.0970 - mae: 0.0970\n",
            "Epoch 84/100\n",
            "1/1 [==============================] - 0s 14ms/step - loss: 0.0953 - mae: 0.0953\n",
            "Epoch 85/100\n",
            "1/1 [==============================] - 0s 11ms/step - loss: 0.0225 - mae: 0.0225\n",
            "Epoch 86/100\n",
            "1/1 [==============================] - 0s 9ms/step - loss: 0.0459 - mae: 0.0459\n",
            "Epoch 87/100\n",
            "1/1 [==============================] - 0s 9ms/step - loss: 0.0264 - mae: 0.0264\n",
            "Epoch 88/100\n",
            "1/1 [==============================] - 0s 13ms/step - loss: 0.0230 - mae: 0.0230\n",
            "Epoch 89/100\n",
            "1/1 [==============================] - 0s 7ms/step - loss: 0.0265 - mae: 0.0265\n",
            "Epoch 90/100\n",
            "1/1 [==============================] - 0s 15ms/step - loss: 0.0385 - mae: 0.0385\n",
            "Epoch 91/100\n",
            "1/1 [==============================] - 0s 10ms/step - loss: 0.0034 - mae: 0.0034\n",
            "Epoch 92/100\n",
            "1/1 [==============================] - 0s 8ms/step - loss: 0.1258 - mae: 0.1258\n",
            "Epoch 93/100\n",
            "1/1 [==============================] - 0s 13ms/step - loss: 0.1373 - mae: 0.1373\n",
            "Epoch 94/100\n",
            "1/1 [==============================] - 0s 11ms/step - loss: 0.0454 - mae: 0.0454\n",
            "Epoch 95/100\n",
            "1/1 [==============================] - 0s 10ms/step - loss: 0.1372 - mae: 0.1372\n",
            "Epoch 96/100\n",
            "1/1 [==============================] - 0s 7ms/step - loss: 0.2012 - mae: 0.2012\n",
            "Epoch 97/100\n",
            "1/1 [==============================] - 0s 10ms/step - loss: 0.1607 - mae: 0.1607\n",
            "Epoch 98/100\n",
            "1/1 [==============================] - 0s 6ms/step - loss: 0.0256 - mae: 0.0256\n",
            "Epoch 99/100\n",
            "1/1 [==============================] - 0s 11ms/step - loss: 0.1971 - mae: 0.1971\n",
            "Epoch 100/100\n",
            "1/1 [==============================] - 0s 7ms/step - loss: 0.2969 - mae: 0.2969\n",
            "1/1 [==============================] - 0s 120ms/step - loss: 0.2840 - mae: 0.2840\n"
          ]
        },
        {
          "output_type": "execute_result",
          "data": {
            "text/plain": [
              "[0.28398582339286804, 0.28398582339286804]"
            ]
          },
          "metadata": {},
          "execution_count": 135
        }
      ]
    },
    {
      "cell_type": "code",
      "metadata": {
        "colab": {
          "base_uri": "https://localhost:8080/"
        },
        "id": "Hgs7Ues8N82j",
        "outputId": "5c13c6d6-b9a8-4ffd-bbab-b08df3daca69"
      },
      "source": [
        "X,Y"
      ],
      "execution_count": 136,
      "outputs": [
        {
          "output_type": "execute_result",
          "data": {
            "text/plain": [
              "(<tf.Tensor: shape=(8,), dtype=int32, numpy=array([1, 2, 3, 4, 5, 6, 7, 8], dtype=int32)>,\n",
              " <tf.Tensor: shape=(8,), dtype=int32, numpy=array([ 2,  4,  6,  8, 10, 12, 14, 16], dtype=int32)>)"
            ]
          },
          "metadata": {},
          "execution_count": 136
        }
      ]
    },
    {
      "cell_type": "code",
      "metadata": {
        "colab": {
          "base_uri": "https://localhost:8080/"
        },
        "id": "eZ5U5-AbN9bN",
        "outputId": "15b2b99a-2f46-4236-caa2-63d0b8a7fc07"
      },
      "source": [
        "model.predict([9])"
      ],
      "execution_count": 137,
      "outputs": [
        {
          "output_type": "execute_result",
          "data": {
            "text/plain": [
              "array([[18.598576]], dtype=float32)"
            ]
          },
          "metadata": {},
          "execution_count": 137
        }
      ]
    },
    {
      "cell_type": "markdown",
      "metadata": {
        "id": "lhGvj_Z1OGr4"
      },
      "source": [
        "# Evaluating a Model"
      ]
    },
    {
      "cell_type": "code",
      "metadata": {
        "colab": {
          "base_uri": "https://localhost:8080/"
        },
        "id": "4w73vdxjOA3R",
        "outputId": "56db1069-6cf2-4a83-fabe-f168e6437dda"
      },
      "source": [
        "X = tf.range(-100,100,4)\n",
        "X"
      ],
      "execution_count": 138,
      "outputs": [
        {
          "output_type": "execute_result",
          "data": {
            "text/plain": [
              "<tf.Tensor: shape=(50,), dtype=int32, numpy=\n",
              "array([-100,  -96,  -92,  -88,  -84,  -80,  -76,  -72,  -68,  -64,  -60,\n",
              "        -56,  -52,  -48,  -44,  -40,  -36,  -32,  -28,  -24,  -20,  -16,\n",
              "        -12,   -8,   -4,    0,    4,    8,   12,   16,   20,   24,   28,\n",
              "         32,   36,   40,   44,   48,   52,   56,   60,   64,   68,   72,\n",
              "         76,   80,   84,   88,   92,   96], dtype=int32)>"
            ]
          },
          "metadata": {},
          "execution_count": 138
        }
      ]
    },
    {
      "cell_type": "code",
      "metadata": {
        "colab": {
          "base_uri": "https://localhost:8080/"
        },
        "id": "EVUy3uQzORle",
        "outputId": "ab09606c-63fe-45a8-d0b7-26bcfe75f79c"
      },
      "source": [
        "Y = X+10\n",
        "Y"
      ],
      "execution_count": 140,
      "outputs": [
        {
          "output_type": "execute_result",
          "data": {
            "text/plain": [
              "<tf.Tensor: shape=(50,), dtype=int32, numpy=\n",
              "array([-90, -86, -82, -78, -74, -70, -66, -62, -58, -54, -50, -46, -42,\n",
              "       -38, -34, -30, -26, -22, -18, -14, -10,  -6,  -2,   2,   6,  10,\n",
              "        14,  18,  22,  26,  30,  34,  38,  42,  46,  50,  54,  58,  62,\n",
              "        66,  70,  74,  78,  82,  86,  90,  94,  98, 102, 106], dtype=int32)>"
            ]
          },
          "metadata": {},
          "execution_count": 140
        }
      ]
    },
    {
      "cell_type": "code",
      "metadata": {
        "id": "C2eLn1gUOUAN"
      },
      "source": [
        "X_train= X[:40]\n",
        "X_test = X[40:]\n",
        "Y_train= Y[:40]\n",
        "Y_test = Y[40:]\n"
      ],
      "execution_count": 141,
      "outputs": []
    },
    {
      "cell_type": "code",
      "metadata": {
        "colab": {
          "base_uri": "https://localhost:8080/",
          "height": 295
        },
        "id": "VJmpiVadOj4Z",
        "outputId": "c6cca08d-a657-4782-b2ea-dab2fc82a5a7"
      },
      "source": [
        "plt.scatter(X_train, Y_train, color='red', label='The Train Values')\n",
        "plt.scatter(X_test, Y_test, color='blue', label='The Test Values')\n",
        "plt.legend()\n",
        "plt.title('Train and Test values')\n",
        "plt.xlabel('Train Values')\n",
        "plt.ylabel('Test Values')\n",
        "plt.show()"
      ],
      "execution_count": 143,
      "outputs": [
        {
          "output_type": "display_data",
          "data": {
            "image/png": "[encoded data removed]",
            "text/plain": [
              "<Figure size 432x288 with 1 Axes>"
            ]
          },
          "metadata": {
            "needs_background": "light"
          }
        }
      ]
    },
    {
      "cell_type": "markdown",
      "metadata": {
        "id": "rqhwfETYPKk-"
      },
      "source": [
        "# Model Summary"
      ]
    },
    {
      "cell_type": "code",
      "metadata": {
        "id": "6PkBHwdVPAB0"
      },
      "source": [
        "tf.random.set_seed(42)\n",
        "\n",
        "model  = tf.keras.Sequential([\n",
        "                               tf.keras.layers.Dense(1, activation='relu', input_shape=[1] ,name='No_1_Value'),\n",
        "                               tf.keras.layers.Dense(2, activation='relu', input_shape=[1] ,name='No_2_Value'),\n",
        "                               tf.keras.layers.Dense(3, activation='relu', input_shape=[1] ,name='No_3_Value'),\n",
        "                               tf.keras.layers.Dense(4, activation='relu', input_shape=[1] ,name='No_4_Value'),\n",
        "                               tf.keras.layers.Dense(5, activation='relu', input_shape=[1] ,name='No_5_Value')\n",
        "], name='Model_Summary_Value')\n",
        "\n",
        "model.compile(\n",
        "    loss=tf.keras.losses.mae,\n",
        "    optimizer = tf.keras.optimizers.SGD(),\n",
        "    metrics=['mae']\n",
        ")"
      ],
      "execution_count": 148,
      "outputs": []
    },
    {
      "cell_type": "code",
      "metadata": {
        "colab": {
          "base_uri": "https://localhost:8080/"
        },
        "id": "Zjjd3FPUP8gN",
        "outputId": "bf36d163-564c-4a3a-a56f-aa929bb03662"
      },
      "source": [
        "model.summary()"
      ],
      "execution_count": 149,
      "outputs": [
        {
          "output_type": "stream",
          "name": "stdout",
          "text": [
            "Model: \"Model_Summary_Value\"\n",
            "_________________________________________________________________\n",
            " Layer (type)                Output Shape              Param #   \n",
            "=================================================================\n",
            " No_1_Value (Dense)          (None, 1)                 2         \n",
            "                                                                 \n",
            " No_2_Value (Dense)          (None, 2)                 4         \n",
            "                                                                 \n",
            " No_3_Value (Dense)          (None, 3)                 9         \n",
            "                                                                 \n",
            " No_4_Value (Dense)          (None, 4)                 16        \n",
            "                                                                 \n",
            " No_5_Value (Dense)          (None, 5)                 25        \n",
            "                                                                 \n",
            "=================================================================\n",
            "Total params: 56\n",
            "Trainable params: 56\n",
            "Non-trainable params: 0\n",
            "_________________________________________________________________\n"
          ]
        }
      ]
    },
    {
      "cell_type": "code",
      "metadata": {
        "colab": {
          "base_uri": "https://localhost:8080/"
        },
        "id": "6ptnOMO7P--w",
        "outputId": "b3f1d476-0ec8-4e0a-f845-d880edd312c4"
      },
      "source": [
        "model.fit(tf.expand_dims(X, axis=1),Y, epochs=100)\n"
      ],
      "execution_count": 150,
      "outputs": [
        {
          "output_type": "stream",
          "name": "stdout",
          "text": [
            "Epoch 1/100\n",
            "2/2 [==============================] - 0s 9ms/step - loss: 49.7541 - mae: 49.7541\n",
            "Epoch 2/100\n",
            "2/2 [==============================] - 0s 5ms/step - loss: 49.6162 - mae: 49.6162\n",
            "Epoch 3/100\n",
            "2/2 [==============================] - 0s 8ms/step - loss: 49.4309 - mae: 49.4309\n",
            "Epoch 4/100\n",
            "2/2 [==============================] - 0s 6ms/step - loss: 49.1730 - mae: 49.1730\n",
            "Epoch 5/100\n",
            "2/2 [==============================] - 0s 6ms/step - loss: 48.7977 - mae: 48.7977\n",
            "Epoch 6/100\n",
            "2/2 [==============================] - 0s 5ms/step - loss: 48.1696 - mae: 48.1696\n",
            "Epoch 7/100\n",
            "2/2 [==============================] - 0s 6ms/step - loss: 46.9711 - mae: 46.9711\n",
            "Epoch 8/100\n",
            "2/2 [==============================] - 0s 9ms/step - loss: 44.1994 - mae: 44.1994\n",
            "Epoch 9/100\n",
            "2/2 [==============================] - 0s 9ms/step - loss: 38.2458 - mae: 38.2458\n",
            "Epoch 10/100\n",
            "2/2 [==============================] - 0s 6ms/step - loss: 36.3381 - mae: 36.3381\n",
            "Epoch 11/100\n",
            "2/2 [==============================] - 0s 9ms/step - loss: 37.3999 - mae: 37.3999\n",
            "Epoch 12/100\n",
            "2/2 [==============================] - 0s 10ms/step - loss: 38.2990 - mae: 38.2990\n",
            "Epoch 13/100\n",
            "2/2 [==============================] - 0s 7ms/step - loss: 38.0496 - mae: 38.0496\n",
            "Epoch 14/100\n",
            "2/2 [==============================] - 0s 6ms/step - loss: 34.7625 - mae: 34.7625\n",
            "Epoch 15/100\n",
            "2/2 [==============================] - 0s 5ms/step - loss: 35.5942 - mae: 35.5942\n",
            "Epoch 16/100\n",
            "2/2 [==============================] - 0s 7ms/step - loss: 35.6455 - mae: 35.6455\n",
            "Epoch 17/100\n",
            "2/2 [==============================] - 0s 8ms/step - loss: 39.3757 - mae: 39.3757\n",
            "Epoch 18/100\n",
            "2/2 [==============================] - 0s 10ms/step - loss: 37.7605 - mae: 37.7605\n",
            "Epoch 19/100\n",
            "2/2 [==============================] - 0s 7ms/step - loss: 37.7245 - mae: 37.7245\n",
            "Epoch 20/100\n",
            "2/2 [==============================] - 0s 8ms/step - loss: 37.9802 - mae: 37.9802\n",
            "Epoch 21/100\n",
            "2/2 [==============================] - 0s 9ms/step - loss: 37.7548 - mae: 37.7548\n",
            "Epoch 22/100\n",
            "2/2 [==============================] - 0s 8ms/step - loss: 40.6749 - mae: 40.6749\n",
            "Epoch 23/100\n",
            "2/2 [==============================] - 0s 6ms/step - loss: 38.2239 - mae: 38.2239\n",
            "Epoch 24/100\n",
            "2/2 [==============================] - 0s 7ms/step - loss: 37.6427 - mae: 37.6427\n",
            "Epoch 25/100\n",
            "2/2 [==============================] - 0s 6ms/step - loss: 38.4566 - mae: 38.4566\n",
            "Epoch 26/100\n",
            "2/2 [==============================] - 0s 7ms/step - loss: 36.9882 - mae: 36.9882\n",
            "Epoch 27/100\n",
            "2/2 [==============================] - 0s 11ms/step - loss: 38.4696 - mae: 38.4696\n",
            "Epoch 28/100\n",
            "2/2 [==============================] - 0s 5ms/step - loss: 37.6721 - mae: 37.6721\n",
            "Epoch 29/100\n",
            "2/2 [==============================] - 0s 7ms/step - loss: 40.7022 - mae: 40.7022\n",
            "Epoch 30/100\n",
            "2/2 [==============================] - 0s 14ms/step - loss: 38.1250 - mae: 38.1250\n",
            "Epoch 31/100\n",
            "2/2 [==============================] - 0s 8ms/step - loss: 36.8199 - mae: 36.8199\n",
            "Epoch 32/100\n",
            "2/2 [==============================] - 0s 5ms/step - loss: 40.8595 - mae: 40.8595\n",
            "Epoch 33/100\n",
            "2/2 [==============================] - 0s 8ms/step - loss: 37.6520 - mae: 37.6520\n",
            "Epoch 34/100\n",
            "2/2 [==============================] - 0s 6ms/step - loss: 37.7152 - mae: 37.7152\n",
            "Epoch 35/100\n",
            "2/2 [==============================] - 0s 6ms/step - loss: 37.7262 - mae: 37.7262\n",
            "Epoch 36/100\n",
            "2/2 [==============================] - 0s 7ms/step - loss: 37.8070 - mae: 37.8070\n",
            "Epoch 37/100\n",
            "2/2 [==============================] - 0s 7ms/step - loss: 37.6294 - mae: 37.6294\n",
            "Epoch 38/100\n",
            "2/2 [==============================] - 0s 6ms/step - loss: 37.4069 - mae: 37.4069\n",
            "Epoch 39/100\n",
            "2/2 [==============================] - 0s 8ms/step - loss: 38.6305 - mae: 38.6305\n",
            "Epoch 40/100\n",
            "2/2 [==============================] - 0s 10ms/step - loss: 34.7145 - mae: 34.7145\n",
            "Epoch 41/100\n",
            "2/2 [==============================] - 0s 11ms/step - loss: 41.8157 - mae: 41.8157\n",
            "Epoch 42/100\n",
            "2/2 [==============================] - 0s 11ms/step - loss: 43.2253 - mae: 43.2253\n",
            "Epoch 43/100\n",
            "2/2 [==============================] - 0s 9ms/step - loss: 37.6302 - mae: 37.6302\n",
            "Epoch 44/100\n",
            "2/2 [==============================] - 0s 5ms/step - loss: 37.3094 - mae: 37.3094\n",
            "Epoch 45/100\n",
            "2/2 [==============================] - 0s 4ms/step - loss: 38.0729 - mae: 38.0729\n",
            "Epoch 46/100\n",
            "2/2 [==============================] - 0s 4ms/step - loss: 37.4400 - mae: 37.4400\n",
            "Epoch 47/100\n",
            "2/2 [==============================] - 0s 7ms/step - loss: 37.9917 - mae: 37.9917\n",
            "Epoch 48/100\n",
            "2/2 [==============================] - 0s 8ms/step - loss: 36.6882 - mae: 36.6882\n",
            "Epoch 49/100\n",
            "2/2 [==============================] - 0s 5ms/step - loss: 36.6836 - mae: 36.6836\n",
            "Epoch 50/100\n",
            "2/2 [==============================] - 0s 6ms/step - loss: 51.7949 - mae: 51.7949\n",
            "Epoch 51/100\n",
            "2/2 [==============================] - 0s 7ms/step - loss: 37.4979 - mae: 37.4979\n",
            "Epoch 52/100\n",
            "2/2 [==============================] - 0s 7ms/step - loss: 40.3375 - mae: 40.3375\n",
            "Epoch 53/100\n",
            "2/2 [==============================] - 0s 4ms/step - loss: 37.2595 - mae: 37.2595\n",
            "Epoch 54/100\n",
            "2/2 [==============================] - 0s 7ms/step - loss: 41.2863 - mae: 41.2863\n",
            "Epoch 55/100\n",
            "2/2 [==============================] - 0s 5ms/step - loss: 36.4451 - mae: 36.4451\n",
            "Epoch 56/100\n",
            "2/2 [==============================] - 0s 5ms/step - loss: 38.0441 - mae: 38.0441\n",
            "Epoch 57/100\n",
            "2/2 [==============================] - 0s 5ms/step - loss: 39.2606 - mae: 39.2606\n",
            "Epoch 58/100\n",
            "2/2 [==============================] - 0s 4ms/step - loss: 38.0596 - mae: 38.0596\n",
            "Epoch 59/100\n",
            "2/2 [==============================] - 0s 7ms/step - loss: 38.1128 - mae: 38.1128\n",
            "Epoch 60/100\n",
            "2/2 [==============================] - 0s 7ms/step - loss: 37.9800 - mae: 37.9800\n",
            "Epoch 61/100\n",
            "2/2 [==============================] - 0s 6ms/step - loss: 37.5533 - mae: 37.5533\n",
            "Epoch 62/100\n",
            "2/2 [==============================] - 0s 5ms/step - loss: 34.5202 - mae: 34.5202\n",
            "Epoch 63/100\n",
            "2/2 [==============================] - 0s 6ms/step - loss: 46.2550 - mae: 46.2550\n",
            "Epoch 64/100\n",
            "2/2 [==============================] - 0s 6ms/step - loss: 37.0382 - mae: 37.0382\n",
            "Epoch 65/100\n",
            "2/2 [==============================] - 0s 6ms/step - loss: 38.2755 - mae: 38.2755\n",
            "Epoch 66/100\n",
            "2/2 [==============================] - 0s 6ms/step - loss: 37.7938 - mae: 37.7938\n",
            "Epoch 67/100\n",
            "2/2 [==============================] - 0s 7ms/step - loss: 37.6660 - mae: 37.6660\n",
            "Epoch 68/100\n",
            "2/2 [==============================] - 0s 5ms/step - loss: 37.1120 - mae: 37.1120\n",
            "Epoch 69/100\n",
            "2/2 [==============================] - 0s 6ms/step - loss: 40.0051 - mae: 40.0051\n",
            "Epoch 70/100\n",
            "2/2 [==============================] - 0s 7ms/step - loss: 39.8331 - mae: 39.8331\n",
            "Epoch 71/100\n",
            "2/2 [==============================] - 0s 7ms/step - loss: 39.6804 - mae: 39.6804\n",
            "Epoch 72/100\n",
            "2/2 [==============================] - 0s 5ms/step - loss: 38.5385 - mae: 38.5385\n",
            "Epoch 73/100\n",
            "2/2 [==============================] - 0s 13ms/step - loss: 39.0669 - mae: 39.0669\n",
            "Epoch 74/100\n",
            "2/2 [==============================] - 0s 7ms/step - loss: 34.8977 - mae: 34.8977\n",
            "Epoch 75/100\n",
            "2/2 [==============================] - 0s 9ms/step - loss: 42.7386 - mae: 42.7386\n",
            "Epoch 76/100\n",
            "2/2 [==============================] - 0s 18ms/step - loss: 38.3250 - mae: 38.3250\n",
            "Epoch 77/100\n",
            "2/2 [==============================] - 0s 8ms/step - loss: 37.1050 - mae: 37.1050\n",
            "Epoch 78/100\n",
            "2/2 [==============================] - 0s 7ms/step - loss: 40.7330 - mae: 40.7330\n",
            "Epoch 79/100\n",
            "2/2 [==============================] - 0s 8ms/step - loss: 37.3030 - mae: 37.3030\n",
            "Epoch 80/100\n",
            "2/2 [==============================] - 0s 14ms/step - loss: 37.5983 - mae: 37.5983\n",
            "Epoch 81/100\n",
            "2/2 [==============================] - 0s 8ms/step - loss: 38.5676 - mae: 38.5676\n",
            "Epoch 82/100\n",
            "2/2 [==============================] - 0s 9ms/step - loss: 38.0174 - mae: 38.0174\n",
            "Epoch 83/100\n",
            "2/2 [==============================] - 0s 5ms/step - loss: 37.5067 - mae: 37.5067\n",
            "Epoch 84/100\n",
            "2/2 [==============================] - 0s 7ms/step - loss: 37.6241 - mae: 37.6241\n",
            "Epoch 85/100\n",
            "2/2 [==============================] - 0s 5ms/step - loss: 39.3793 - mae: 39.3793\n",
            "Epoch 86/100\n",
            "2/2 [==============================] - 0s 6ms/step - loss: 39.5593 - mae: 39.5593\n",
            "Epoch 87/100\n",
            "2/2 [==============================] - 0s 12ms/step - loss: 38.5858 - mae: 38.5858\n",
            "Epoch 88/100\n",
            "2/2 [==============================] - 0s 6ms/step - loss: 36.5632 - mae: 36.5632\n",
            "Epoch 89/100\n",
            "2/2 [==============================] - 0s 9ms/step - loss: 35.9139 - mae: 35.9139\n",
            "Epoch 90/100\n",
            "2/2 [==============================] - 0s 8ms/step - loss: 41.1091 - mae: 41.1091\n",
            "Epoch 91/100\n",
            "2/2 [==============================] - 0s 8ms/step - loss: 34.6983 - mae: 34.6983\n",
            "Epoch 92/100\n",
            "2/2 [==============================] - 0s 8ms/step - loss: 41.6961 - mae: 41.6961\n",
            "Epoch 93/100\n",
            "2/2 [==============================] - 0s 12ms/step - loss: 36.8298 - mae: 36.8298\n",
            "Epoch 94/100\n",
            "2/2 [==============================] - 0s 7ms/step - loss: 37.7083 - mae: 37.7083\n",
            "Epoch 95/100\n",
            "2/2 [==============================] - 0s 8ms/step - loss: 38.8633 - mae: 38.8633\n",
            "Epoch 96/100\n",
            "2/2 [==============================] - 0s 18ms/step - loss: 40.9221 - mae: 40.9221\n",
            "Epoch 97/100\n",
            "2/2 [==============================] - 0s 7ms/step - loss: 38.0568 - mae: 38.0568\n",
            "Epoch 98/100\n",
            "2/2 [==============================] - 0s 5ms/step - loss: 40.9763 - mae: 40.9763\n",
            "Epoch 99/100\n",
            "2/2 [==============================] - 0s 5ms/step - loss: 36.3803 - mae: 36.3803\n",
            "Epoch 100/100\n",
            "2/2 [==============================] - 0s 6ms/step - loss: 36.8393 - mae: 36.8393\n"
          ]
        },
        {
          "output_type": "execute_result",
          "data": {
            "text/plain": [
              "<keras.callbacks.History at 0x7f9b48091650>"
            ]
          },
          "metadata": {},
          "execution_count": 150
        }
      ]
    },
    {
      "cell_type": "code",
      "metadata": {
        "colab": {
          "base_uri": "https://localhost:8080/"
        },
        "id": "H1zzoK7iQWGR",
        "outputId": "4959c98c-f650-4828-984e-cff3208833dd"
      },
      "source": [
        "model.summary()"
      ],
      "execution_count": 151,
      "outputs": [
        {
          "output_type": "stream",
          "name": "stdout",
          "text": [
            "Model: \"Model_Summary_Value\"\n",
            "_________________________________________________________________\n",
            " Layer (type)                Output Shape              Param #   \n",
            "=================================================================\n",
            " No_1_Value (Dense)          (None, 1)                 2         \n",
            "                                                                 \n",
            " No_2_Value (Dense)          (None, 2)                 4         \n",
            "                                                                 \n",
            " No_3_Value (Dense)          (None, 3)                 9         \n",
            "                                                                 \n",
            " No_4_Value (Dense)          (None, 4)                 16        \n",
            "                                                                 \n",
            " No_5_Value (Dense)          (None, 5)                 25        \n",
            "                                                                 \n",
            "=================================================================\n",
            "Total params: 56\n",
            "Trainable params: 56\n",
            "Non-trainable params: 0\n",
            "_________________________________________________________________\n"
          ]
        }
      ]
    },
    {
      "cell_type": "code",
      "metadata": {
        "colab": {
          "base_uri": "https://localhost:8080/",
          "height": 295
        },
        "id": "Xcu4S_wFQZGX",
        "outputId": "37f18fee-5971-451f-c2c3-963df7a3912e"
      },
      "source": [
        "plt.scatter(X_train, Y_train, color='red', label='The Train Values')\n",
        "plt.scatter(X_test, Y_test, color='blue', label='The Test Values')\n",
        "plt.scatter(X,Y, color='green', label='X and Y values')\n",
        "plt.legend()\n",
        "plt.title('Train and Test values')\n",
        "plt.xlabel('Train Values')\n",
        "plt.ylabel('Test Values')\n",
        "plt.show()"
      ],
      "execution_count": 153,
      "outputs": [
        {
          "output_type": "display_data",
          "data": {
            "image/png": "[encoded data removed]",
            "text/plain": [
              "<Figure size 432x288 with 1 Axes>"
            ]
          },
          "metadata": {
            "needs_background": "light"
          }
        }
      ]
    },
    {
      "cell_type": "code",
      "metadata": {
        "colab": {
          "base_uri": "https://localhost:8080/",
          "height": 564
        },
        "id": "rBnFy-FVQsLt",
        "outputId": "91e213f6-d90d-4a0a-f0ae-c7001baa3741"
      },
      "source": [
        "plot_model(model=model)"
      ],
      "execution_count": 154,
      "outputs": [
        {
          "output_type": "execute_result",
          "data": {
            "image/png": "[encoded data removed]",
            "text/plain": [
              "<IPython.core.display.Image object>"
            ]
          },
          "metadata": {},
          "execution_count": 154
        }
      ]
    },
    {
      "cell_type": "code",
      "metadata": {
        "colab": {
          "base_uri": "https://localhost:8080/",
          "height": 644
        },
        "id": "FW4O-zrmQ4ox",
        "outputId": "325ca582-97db-41ed-f2f3-0c86b423c49d"
      },
      "source": [
        "plot_model(model=model, show_shapes=True)"
      ],
      "execution_count": 155,
      "outputs": [
        {
          "output_type": "execute_result",
          "data": {
            "image/png": "[encoded data removed]",
            "text/plain": [
              "<IPython.core.display.Image object>"
            ]
          },
          "metadata": {},
          "execution_count": 155
        }
      ]
    },
    {
      "cell_type": "markdown",
      "metadata": {
        "id": "o5rvjeMyRZgf"
      },
      "source": [
        "# Visualizing Predictions"
      ]
    },
    {
      "cell_type": "code",
      "metadata": {
        "colab": {
          "base_uri": "https://localhost:8080/"
        },
        "id": "3wHNCpZ2Q-Rf",
        "outputId": "74130bbf-5fb3-40be-9857-829706968ebb"
      },
      "source": [
        "y_pred = model.predict([X_test])\n",
        "y_pred\n",
        "\n"
      ],
      "execution_count": 171,
      "outputs": [
        {
          "output_type": "stream",
          "name": "stdout",
          "text": [
            "WARNING:tensorflow:6 out of the last 7 calls to <function Model.make_predict_function.<locals>.predict_function at 0x7f9b489f3050> triggered tf.function retracing. Tracing is expensive and the excessive number of tracings could be due to (1) creating @tf.function repeatedly in a loop, (2) passing tensors with different shapes, (3) passing Python objects instead of tensors. For (1), please define your @tf.function outside of the loop. For (2), @tf.function has experimental_relax_shapes=True option that relaxes argument shapes that can avoid unnecessary retracing. For (3), please refer to https://www.tensorflow.org/guide/function#controlling_retracing and https://www.tensorflow.org/api_docs/python/tf/function for  more details.\n"
          ]
        },
        {
          "output_type": "execute_result",
          "data": {
            "text/plain": [
              "array([[ 76.77564 ,   0.      ,  76.25844 ,  76.24887 ,   0.      ],\n",
              "       [ 81.88509 ,   0.      ,  81.33347 ,  81.32327 ,   0.      ],\n",
              "       [ 86.99454 ,   0.      ,  86.40849 ,  86.39767 ,   0.      ],\n",
              "       [ 92.104   ,   0.      ,  91.483536,  91.472084,   0.      ],\n",
              "       [ 97.21345 ,   0.      ,  96.55856 ,  96.546486,   0.      ],\n",
              "       [102.3229  ,   0.      , 101.6336  , 101.620895,   0.      ],\n",
              "       [107.43234 ,   0.      , 106.70861 , 106.69528 ,   0.      ],\n",
              "       [112.541794,   0.      , 111.78365 , 111.769684,   0.      ],\n",
              "       [117.65124 ,   0.      , 116.858665, 116.84407 ,   0.      ],\n",
              "       [122.76069 ,   0.      , 121.9337  , 121.91849 ,   0.      ]],\n",
              "      dtype=float32)"
            ]
          },
          "metadata": {},
          "execution_count": 171
        }
      ]
    },
    {
      "cell_type": "code",
      "metadata": {
        "colab": {
          "base_uri": "https://localhost:8080/",
          "height": 295
        },
        "id": "HCten_rNRgzH",
        "outputId": "61c8bf53-54dc-4c1c-934a-75f297bf66cc"
      },
      "source": [
        "def plot_prediction(\n",
        "    train_data = X_train,\n",
        "    train_label = Y_train,\n",
        "    test_data = X_test,\n",
        "    test_label = Y_test,\n",
        "    prediction = y_pred):\n",
        "  \n",
        "  plt.scatter(train_data,train_label, c='g',label='Train Values')\n",
        "  plt.scatter(test_data, test_label,c='b', label='Test Values')\n",
        "  # plt.scatter(test_label, prediction , c='orange', label='Prediction With test data')\n",
        "  plt.title('Train and Test Data With Predictions')\n",
        "  plt.xlabel('Train Data')\n",
        "  plt.ylabel('Test Data')\n",
        "  plt.legend();\n",
        "  plt.show();\n",
        "\n",
        "\n",
        "plot_prediction();\n"
      ],
      "execution_count": 165,
      "outputs": [
        {
          "output_type": "display_data",
          "data": {
            "image/png": "[encoded data removed]",
            "text/plain": [
              "<Figure size 432x288 with 1 Axes>"
            ]
          },
          "metadata": {
            "needs_background": "light"
          }
        }
      ]
    },
    {
      "cell_type": "code",
      "metadata": {
        "colab": {
          "base_uri": "https://localhost:8080/"
        },
        "id": "HXQ4h4l1SiaD",
        "outputId": "8e863934-0416-4bbe-8f4b-438f68d90368"
      },
      "source": [
        "y_pred.shape, X_test.shape"
      ],
      "execution_count": 172,
      "outputs": [
        {
          "output_type": "execute_result",
          "data": {
            "text/plain": [
              "((10, 5), TensorShape([10]))"
            ]
          },
          "metadata": {},
          "execution_count": 172
        }
      ]
    },
    {
      "cell_type": "markdown",
      "metadata": {
        "id": "tw_JOurDTmPt"
      },
      "source": [
        "# Regression Evaluation Metrics"
      ]
    },
    {
      "cell_type": "code",
      "metadata": {
        "id": "SF5IKRiOTBcA"
      },
      "source": [
        "mae = tf.metrics.mean_absolute_error(y_true=Y_test, y_pred=X_test)"
      ],
      "execution_count": 175,
      "outputs": []
    },
    {
      "cell_type": "code",
      "metadata": {
        "colab": {
          "base_uri": "https://localhost:8080/"
        },
        "id": "6zVAgac-TNXQ",
        "outputId": "29ecd5ba-9d66-4193-e157-4eff6f916598"
      },
      "source": [
        "mae"
      ],
      "execution_count": 176,
      "outputs": [
        {
          "output_type": "execute_result",
          "data": {
            "text/plain": [
              "<tf.Tensor: shape=(), dtype=int32, numpy=10>"
            ]
          },
          "metadata": {},
          "execution_count": 176
        }
      ]
    },
    {
      "cell_type": "code",
      "metadata": {
        "colab": {
          "base_uri": "https://localhost:8080/"
        },
        "id": "jGGg-249T8j4",
        "outputId": "c5c374d7-d936-489d-b7e5-ffade9f9587f"
      },
      "source": [
        "mse = tf.metrics.mean_squared_error(y_true=Y_test, y_pred=X_test)\n",
        "mse"
      ],
      "execution_count": 177,
      "outputs": [
        {
          "output_type": "execute_result",
          "data": {
            "text/plain": [
              "<tf.Tensor: shape=(), dtype=int32, numpy=100>"
            ]
          },
          "metadata": {},
          "execution_count": 177
        }
      ]
    },
    {
      "cell_type": "code",
      "metadata": {
        "colab": {
          "base_uri": "https://localhost:8080/"
        },
        "id": "5ta5sVvUUGer",
        "outputId": "7cd30444-4753-4154-c233-0d79763e3bf4"
      },
      "source": [
        "mae==mse"
      ],
      "execution_count": 178,
      "outputs": [
        {
          "output_type": "execute_result",
          "data": {
            "text/plain": [
              "<tf.Tensor: shape=(), dtype=bool, numpy=False>"
            ]
          },
          "metadata": {},
          "execution_count": 178
        }
      ]
    },
    {
      "cell_type": "code",
      "metadata": {
        "id": "7g48IY-ZUIVs"
      },
      "source": [
        "\n",
        "def mae(y_true, y_pred):\n",
        "  return tf.metrics.mean_absolute_error(y_true=Y_test, y_pred=X_test)\n",
        "\n",
        "  "
      ],
      "execution_count": 179,
      "outputs": []
    },
    {
      "cell_type": "code",
      "metadata": {
        "id": "kh60dsKSUZMH"
      },
      "source": [
        "def mse(y_true, y_pred):\n",
        "  return tf.metrics.mean_squared_error(y_true=Y_test, y_pred=X_test)"
      ],
      "execution_count": 180,
      "outputs": []
    },
    {
      "cell_type": "code",
      "metadata": {
        "colab": {
          "base_uri": "https://localhost:8080/"
        },
        "id": "c3qRiSyOUj9M",
        "outputId": "706322d5-5d2d-4883-fe05-6b4a40b5afbd"
      },
      "source": [
        "mae(2,4)\n"
      ],
      "execution_count": 183,
      "outputs": [
        {
          "output_type": "execute_result",
          "data": {
            "text/plain": [
              "<tf.Tensor: shape=(), dtype=int32, numpy=10>"
            ]
          },
          "metadata": {},
          "execution_count": 183
        }
      ]
    },
    {
      "cell_type": "code",
      "metadata": {
        "colab": {
          "base_uri": "https://localhost:8080/"
        },
        "id": "Yio8QQMHUl3w",
        "outputId": "349f761a-f924-4449-b469-085f4d903ac4"
      },
      "source": [
        "mse(3,7)"
      ],
      "execution_count": 184,
      "outputs": [
        {
          "output_type": "execute_result",
          "data": {
            "text/plain": [
              "<tf.Tensor: shape=(), dtype=int32, numpy=100>"
            ]
          },
          "metadata": {},
          "execution_count": 184
        }
      ]
    },
    {
      "cell_type": "markdown",
      "metadata": {
        "id": "GG8vXpBRUv8J"
      },
      "source": [
        "# This Is Not End! In Fact , This is the start of New Journey! Thank You✈✈✈"
      ]
    },
    {
      "cell_type": "code",
      "metadata": {
        "id": "jQVSup3LUsCo"
      },
      "source": [
        ""
      ],
      "execution_count": null,
      "outputs": []
    }
  ]
}