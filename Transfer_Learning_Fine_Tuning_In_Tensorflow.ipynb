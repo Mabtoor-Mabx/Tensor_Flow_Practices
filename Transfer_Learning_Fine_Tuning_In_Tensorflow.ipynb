{
  "nbformat": 4,
  "nbformat_minor": 0,
  "metadata": {
    "colab": {
      "name": "Transfer_Learning_Fine_Tuning_In_Tensorflow.ipynb",
      "provenance": [],
      "collapsed_sections": []
    },
    "kernelspec": {
      "name": "python3",
      "display_name": "Python 3"
    },
    "language_info": {
      "name": "python"
    },
    "accelerator": "GPU"
  },
  "cells": [
    {
      "cell_type": "code",
      "execution_count": 1,
      "metadata": {
        "id": "1TyOflsHfnDT"
      },
      "outputs": [],
      "source": [
        "import tensorflow as tf\n",
        "import numpy as np\n",
        "import pandas as pd\n",
        "import matplotlib.pyplot as plt"
      ]
    },
    {
      "cell_type": "markdown",
      "source": [
        "# **Tranfer Learning**\n",
        "\n",
        "**Surely Someone Spend Time For Crafting The Right Module**\n",
        "\n",
        "# **Why:**\n",
        "\n",
        "**Leverage Existing Neural Network Architecture**\n",
        "\n",
        "**Leverage The Working Neural Network Architecture**\n",
        "\n",
        "**In Fine Tuning, Top Layers Got Unfrozen and Fine Tuned On Custom Data**\n",
        "\n",
        "**Fine Tuning Usually Require More Data Than Feature Extraction** "
      ],
      "metadata": {
        "id": "i0uH8-49f_p8"
      }
    },
    {
      "cell_type": "code",
      "source": [
        "!nvidia-smi  # (To Check Whether We Used GPU or Not)"
      ],
      "metadata": {
        "colab": {
          "base_uri": "https://localhost:8080/"
        },
        "id": "qHXWPwyrf43Y",
        "outputId": "1290d5bb-8865-4411-f45a-523e10241587"
      },
      "execution_count": 2,
      "outputs": [
        {
          "output_type": "stream",
          "name": "stdout",
          "text": [
            "Tue Feb 22 17:41:09 2022       \n",
            "+-----------------------------------------------------------------------------+\n",
            "| NVIDIA-SMI 460.32.03    Driver Version: 460.32.03    CUDA Version: 11.2     |\n",
            "|-------------------------------+----------------------+----------------------+\n",
            "| GPU  Name        Persistence-M| Bus-Id        Disp.A | Volatile Uncorr. ECC |\n",
            "| Fan  Temp  Perf  Pwr:Usage/Cap|         Memory-Usage | GPU-Util  Compute M. |\n",
            "|                               |                      |               MIG M. |\n",
            "|===============================+======================+======================|\n",
            "|   0  Tesla T4            Off  | 00000000:00:04.0 Off |                    0 |\n",
            "| N/A   34C    P8     9W /  70W |      0MiB / 15109MiB |      0%      Default |\n",
            "|                               |                      |                  N/A |\n",
            "+-------------------------------+----------------------+----------------------+\n",
            "                                                                               \n",
            "+-----------------------------------------------------------------------------+\n",
            "| Processes:                                                                  |\n",
            "|  GPU   GI   CI        PID   Type   Process name                  GPU Memory |\n",
            "|        ID   ID                                                   Usage      |\n",
            "|=============================================================================|\n",
            "|  No running processes found                                                 |\n",
            "+-----------------------------------------------------------------------------+\n"
          ]
        }
      ]
    },
    {
      "cell_type": "markdown",
      "source": [
        "# **Import Script Of Helper Function**\n",
        "\n",
        "**Goto Github Extras Folder and Here we get Previous Helper Functions**"
      ],
      "metadata": {
        "id": "dIH45jGPg7X3"
      }
    },
    {
      "cell_type": "code",
      "source": [
        "!wget https://raw.githubusercontent.com/mrdbourke/tensorflow-deep-learning/main/extras/helper_functions.py"
      ],
      "metadata": {
        "colab": {
          "base_uri": "https://localhost:8080/"
        },
        "id": "VN_-YYjugz3A",
        "outputId": "0b5bfaae-691c-4a63-c1e4-aac3cfeabcd5"
      },
      "execution_count": 3,
      "outputs": [
        {
          "output_type": "stream",
          "name": "stdout",
          "text": [
            "--2022-02-22 17:41:10--  https://raw.githubusercontent.com/mrdbourke/tensorflow-deep-learning/main/extras/helper_functions.py\n",
            "Resolving raw.githubusercontent.com (raw.githubusercontent.com)... 185.199.108.133, 185.199.109.133, 185.199.110.133, ...\n",
            "Connecting to raw.githubusercontent.com (raw.githubusercontent.com)|185.199.108.133|:443... connected.\n",
            "HTTP request sent, awaiting response... 200 OK\n",
            "Length: 10246 (10K) [text/plain]\n",
            "Saving to: ‘helper_functions.py’\n",
            "\n",
            "helper_functions.py 100%[===================>]  10.01K  --.-KB/s    in 0s      \n",
            "\n",
            "2022-02-22 17:41:10 (80.3 MB/s) - ‘helper_functions.py’ saved [10246/10246]\n",
            "\n"
          ]
        }
      ]
    },
    {
      "cell_type": "code",
      "source": [
        "# Instead Of Rewriting The Function, Just Download or Import The Function\n",
        "from helper_functions import create_tensorboard_callback, plot_loss_curves, unzip_data, walk_through_dir"
      ],
      "metadata": {
        "id": "fZtUtuUlhn21"
      },
      "execution_count": 4,
      "outputs": []
    },
    {
      "cell_type": "markdown",
      "source": [
        "# **Download & Turning Images**\n",
        "\n",
        "**We Used Pretrained Model Using Tf.keras.application and Apply Them To our Own model Problem** "
      ],
      "metadata": {
        "id": "X-0U1ATKiAMq"
      }
    },
    {
      "cell_type": "code",
      "source": [
        "!wget https://storage.googleapis.com/ztm_tf_course/food_vision/10_food_classes_10_percent.zip\n",
        "\n",
        "unzip_data('10_food_classes_10_percent.zip')"
      ],
      "metadata": {
        "colab": {
          "base_uri": "https://localhost:8080/"
        },
        "id": "z94f-i1Ih-yM",
        "outputId": "b3b7c40d-48aa-464b-f419-dd5c5767ba7a"
      },
      "execution_count": 5,
      "outputs": [
        {
          "output_type": "stream",
          "name": "stdout",
          "text": [
            "--2022-02-22 17:41:10--  https://storage.googleapis.com/ztm_tf_course/food_vision/10_food_classes_10_percent.zip\n",
            "Resolving storage.googleapis.com (storage.googleapis.com)... 172.217.2.112, 142.251.16.128, 142.250.73.208, ...\n",
            "Connecting to storage.googleapis.com (storage.googleapis.com)|172.217.2.112|:443... connected.\n",
            "HTTP request sent, awaiting response... 200 OK\n",
            "Length: 168546183 (161M) [application/zip]\n",
            "Saving to: ‘10_food_classes_10_percent.zip’\n",
            "\n",
            "10_food_classes_10_ 100%[===================>] 160.74M  71.9MB/s    in 2.2s    \n",
            "\n",
            "2022-02-22 17:41:12 (71.9 MB/s) - ‘10_food_classes_10_percent.zip’ saved [168546183/168546183]\n",
            "\n"
          ]
        }
      ]
    },
    {
      "cell_type": "code",
      "source": [
        "# Check Out Image & Subdirectories\n",
        "\n",
        "walk_through_dir('10_food_classes_10_percent')"
      ],
      "metadata": {
        "colab": {
          "base_uri": "https://localhost:8080/"
        },
        "id": "hXF8pQQVihAq",
        "outputId": "3a067f32-4429-488d-d42c-b8e93c39c4e5"
      },
      "execution_count": 6,
      "outputs": [
        {
          "output_type": "stream",
          "name": "stdout",
          "text": [
            "There are 2 directories and 0 images in '10_food_classes_10_percent'.\n",
            "There are 10 directories and 0 images in '10_food_classes_10_percent/train'.\n",
            "There are 0 directories and 75 images in '10_food_classes_10_percent/train/chicken_wings'.\n",
            "There are 0 directories and 75 images in '10_food_classes_10_percent/train/hamburger'.\n",
            "There are 0 directories and 75 images in '10_food_classes_10_percent/train/ice_cream'.\n",
            "There are 0 directories and 75 images in '10_food_classes_10_percent/train/pizza'.\n",
            "There are 0 directories and 75 images in '10_food_classes_10_percent/train/ramen'.\n",
            "There are 0 directories and 75 images in '10_food_classes_10_percent/train/grilled_salmon'.\n",
            "There are 0 directories and 75 images in '10_food_classes_10_percent/train/sushi'.\n",
            "There are 0 directories and 75 images in '10_food_classes_10_percent/train/fried_rice'.\n",
            "There are 0 directories and 75 images in '10_food_classes_10_percent/train/steak'.\n",
            "There are 0 directories and 75 images in '10_food_classes_10_percent/train/chicken_curry'.\n",
            "There are 10 directories and 0 images in '10_food_classes_10_percent/test'.\n",
            "There are 0 directories and 250 images in '10_food_classes_10_percent/test/chicken_wings'.\n",
            "There are 0 directories and 250 images in '10_food_classes_10_percent/test/hamburger'.\n",
            "There are 0 directories and 250 images in '10_food_classes_10_percent/test/ice_cream'.\n",
            "There are 0 directories and 250 images in '10_food_classes_10_percent/test/pizza'.\n",
            "There are 0 directories and 250 images in '10_food_classes_10_percent/test/ramen'.\n",
            "There are 0 directories and 250 images in '10_food_classes_10_percent/test/grilled_salmon'.\n",
            "There are 0 directories and 250 images in '10_food_classes_10_percent/test/sushi'.\n",
            "There are 0 directories and 250 images in '10_food_classes_10_percent/test/fried_rice'.\n",
            "There are 0 directories and 250 images in '10_food_classes_10_percent/test/steak'.\n",
            "There are 0 directories and 250 images in '10_food_classes_10_percent/test/chicken_curry'.\n"
          ]
        }
      ]
    },
    {
      "cell_type": "code",
      "source": [
        "# Create training and test directories\n",
        "train_dir_10_percent = \"10_food_classes_10_percent/train/\"\n",
        "test_dir = \"10_food_classes_10_percent/test/\""
      ],
      "metadata": {
        "id": "5Kru_hHMislQ"
      },
      "execution_count": 7,
      "outputs": []
    },
    {
      "cell_type": "code",
      "source": [
        "# Create data inputs\n",
        "import tensorflow as tf\n",
        "IMG_SIZE = (224, 224) # define image size\n",
        "train_data_10_percent = tf.keras.preprocessing.image_dataset_from_directory(directory=train_dir_10_percent,\n",
        "                                                                            image_size=IMG_SIZE,\n",
        "                                                                            label_mode=\"categorical\",\n",
        "                                                                            batch_size=32) \n",
        "test_data = tf.keras.preprocessing.image_dataset_from_directory(directory=test_dir,\n",
        "                                                                           image_size=IMG_SIZE,\n",
        "                                                                           label_mode=\"categorical\")\n"
      ],
      "metadata": {
        "colab": {
          "base_uri": "https://localhost:8080/"
        },
        "id": "sFf7INLvi23S",
        "outputId": "fdf0eb6b-2d8f-4a31-d82f-8332e4b2c527"
      },
      "execution_count": 8,
      "outputs": [
        {
          "output_type": "stream",
          "name": "stdout",
          "text": [
            "Found 750 files belonging to 10 classes.\n",
            "Found 2500 files belonging to 10 classes.\n"
          ]
        }
      ]
    },
    {
      "cell_type": "code",
      "source": [
        "train_dir_10_percent"
      ],
      "metadata": {
        "colab": {
          "base_uri": "https://localhost:8080/",
          "height": 35
        },
        "id": "Zcggs3Dmj5W5",
        "outputId": "7cf3f7a4-0fe7-4f47-9870-0701ce9ad86b"
      },
      "execution_count": 9,
      "outputs": [
        {
          "output_type": "execute_result",
          "data": {
            "application/vnd.google.colaboratory.intrinsic+json": {
              "type": "string"
            },
            "text/plain": [
              "'10_food_classes_10_percent/train/'"
            ]
          },
          "metadata": {},
          "execution_count": 9
        }
      ]
    },
    {
      "cell_type": "code",
      "source": [
        "# Check Out Class Names\n",
        "\n",
        "train_data_10_percent.class_names"
      ],
      "metadata": {
        "colab": {
          "base_uri": "https://localhost:8080/"
        },
        "id": "sQrD6HuYj7-C",
        "outputId": "e423f75d-cde5-41d1-ce75-03b4f02f3462"
      },
      "execution_count": 10,
      "outputs": [
        {
          "output_type": "execute_result",
          "data": {
            "text/plain": [
              "['chicken_curry',\n",
              " 'chicken_wings',\n",
              " 'fried_rice',\n",
              " 'grilled_salmon',\n",
              " 'hamburger',\n",
              " 'ice_cream',\n",
              " 'pizza',\n",
              " 'ramen',\n",
              " 'steak',\n",
              " 'sushi']"
            ]
          },
          "metadata": {},
          "execution_count": 10
        }
      ]
    },
    {
      "cell_type": "code",
      "source": [
        "# See An Example Of Batch Of Data\n",
        "\n",
        "for images, labels in train_data_10_percent.take(1):\n",
        "  print(images,labels)"
      ],
      "metadata": {
        "colab": {
          "base_uri": "https://localhost:8080/"
        },
        "id": "0x7z3h0ikEEq",
        "outputId": "dc973f25-b8dd-4b28-e453-f24de03b3b78"
      },
      "execution_count": 11,
      "outputs": [
        {
          "output_type": "stream",
          "name": "stdout",
          "text": [
            "tf.Tensor(\n",
            "[[[[1.00000000e+00 1.00000000e+00 1.00000000e+00]\n",
            "   [1.00000000e+00 1.00000000e+00 1.00000000e+00]\n",
            "   [2.00000000e+00 2.00000000e+00 2.00000000e+00]\n",
            "   ...\n",
            "   [1.03877735e+01 8.10205936e+00 1.38777375e+00]\n",
            "   [1.05714283e+01 8.28571415e+00 1.59184039e+00]\n",
            "   [9.35710812e+00 7.07139349e+00 9.48974550e-01]]\n",
            "\n",
            "  [[1.00000000e+00 1.00000000e+00 1.00000000e+00]\n",
            "   [1.00000000e+00 1.00000000e+00 1.00000000e+00]\n",
            "   [2.00000000e+00 2.00000000e+00 2.00000000e+00]\n",
            "   ...\n",
            "   [6.37754154e+00 1.01836548e+01 5.33674383e+00]\n",
            "   [6.28571415e+00 1.00000000e+01 6.42859745e+00]\n",
            "   [6.51018429e+00 1.02244701e+01 8.51018429e+00]]\n",
            "\n",
            "  [[1.00000000e+00 1.00000000e+00 1.00000000e+00]\n",
            "   [1.00000000e+00 1.00000000e+00 1.00000000e+00]\n",
            "   [2.00000000e+00 2.00000000e+00 2.00000000e+00]\n",
            "   ...\n",
            "   [9.92854881e+00 1.17040539e+01 1.80611372e+00]\n",
            "   [9.05102921e+00 1.07142859e+01 4.62248516e+00]\n",
            "   [1.07142849e+01 1.17142859e+01 8.39798450e+00]]\n",
            "\n",
            "  ...\n",
            "\n",
            "  [[3.79286156e+01 2.79286156e+01 1.59286156e+01]\n",
            "   [3.07449150e+01 2.20714626e+01 1.08367777e+01]\n",
            "   [2.66326160e+01 1.80612049e+01 6.77549982e+00]\n",
            "   ...\n",
            "   [5.92754211e+01 3.45306320e+01 2.13979130e+01]\n",
            "   [5.44796181e+01 3.64184418e+01 1.88266201e+01]\n",
            "   [5.28264809e+01 3.64591637e+01 2.18469181e+01]]\n",
            "\n",
            "  [[3.20714989e+01 2.20714989e+01 1.00714979e+01]\n",
            "   [2.96224365e+01 1.96224365e+01 7.62243652e+00]\n",
            "   [3.22550240e+01 2.22550220e+01 1.02550230e+01]\n",
            "   ...\n",
            "   [6.19998779e+01 3.55713501e+01 2.29998779e+01]\n",
            "   [5.42244682e+01 3.22449455e+01 1.59286194e+01]\n",
            "   [5.42243729e+01 3.61632195e+01 2.27244930e+01]]\n",
            "\n",
            "  [[2.91938725e+01 1.98061199e+01 7.49999571e+00]\n",
            "   [3.15204163e+01 2.15204163e+01 9.52041721e+00]\n",
            "   [3.59285812e+01 2.62347050e+01 1.18469372e+01]\n",
            "   ...\n",
            "   [6.46938782e+01 3.71020203e+01 2.52040386e+01]\n",
            "   [5.93673820e+01 3.64388237e+01 2.21735306e+01]\n",
            "   [5.60304527e+01 3.67753220e+01 2.37958336e+01]]]\n",
            "\n",
            "\n",
            " [[[2.54000000e+02 2.55000000e+02 2.47000000e+02]\n",
            "   [2.54000000e+02 2.55000000e+02 2.47000000e+02]\n",
            "   [2.54000000e+02 2.55000000e+02 2.47000000e+02]\n",
            "   ...\n",
            "   [1.29994049e+02 1.08565529e+02 1.25351265e+02]\n",
            "   [8.93520279e+01 6.91581650e+01 8.85612335e+01]\n",
            "   [9.18929443e+01 7.40664597e+01 9.34796982e+01]]\n",
            "\n",
            "  [[2.54000000e+02 2.55000000e+02 2.47000000e+02]\n",
            "   [2.54000000e+02 2.55000000e+02 2.47000000e+02]\n",
            "   [2.54000000e+02 2.55000000e+02 2.47000000e+02]\n",
            "   ...\n",
            "   [1.60672684e+02 1.37871643e+02 1.53387009e+02]\n",
            "   [9.97906189e+01 7.70763626e+01 9.69385910e+01]\n",
            "   [9.32197113e+01 7.30258942e+01 9.20973206e+01]]\n",
            "\n",
            "  [[2.54000000e+02 2.55000000e+02 2.47000000e+02]\n",
            "   [2.54000000e+02 2.55000000e+02 2.47000000e+02]\n",
            "   [2.54000000e+02 2.55000000e+02 2.47000000e+02]\n",
            "   ...\n",
            "   [1.96029953e+02 1.71601379e+02 1.85218750e+02]\n",
            "   [1.12632362e+02 8.80915680e+01 1.03861969e+02]\n",
            "   [8.71530762e+01 6.46531448e+01 8.11530380e+01]]\n",
            "\n",
            "  ...\n",
            "\n",
            "  [[2.44775467e+02 2.19066254e+02 1.22137741e+02]\n",
            "   [2.50388031e+02 2.19148285e+02 1.25633026e+02]\n",
            "   [2.38290573e+02 2.04341660e+02 1.11770256e+02]\n",
            "   ...\n",
            "   [2.37122452e+02 1.76974594e+02 1.62928680e+02]\n",
            "   [2.32556107e+02 1.72173492e+02 1.60729660e+02]\n",
            "   [2.39275650e+02 1.80051208e+02 1.68127777e+02]]\n",
            "\n",
            "  [[2.45163239e+02 2.14357086e+02 1.27045929e+02]\n",
            "   [2.40249863e+02 2.13096802e+02 1.24459106e+02]\n",
            "   [2.45724579e+02 2.22653198e+02 1.32653244e+02]\n",
            "   ...\n",
            "   [2.36510117e+02 1.76112213e+02 1.65897949e+02]\n",
            "   [2.37362305e+02 1.79290863e+02 1.68505188e+02]\n",
            "   [2.36545898e+02 1.77877548e+02 1.68882568e+02]]\n",
            "\n",
            "  [[2.35520401e+02 2.01448975e+02 1.23520470e+02]\n",
            "   [2.40474777e+02 2.13163544e+02 1.32974838e+02]\n",
            "   [2.53438858e+02 2.37433884e+02 1.53857422e+02]\n",
            "   ...\n",
            "   [2.40510422e+02 1.80791061e+02 1.72362534e+02]\n",
            "   [2.42091843e+02 1.83091843e+02 1.77091843e+02]\n",
            "   [2.43255157e+02 1.86255157e+02 1.79255157e+02]]]\n",
            "\n",
            "\n",
            " [[[7.46428604e+01 4.26428566e+01 1.76428566e+01]\n",
            "   [7.39030609e+01 4.19030609e+01 1.89030609e+01]\n",
            "   [7.35714264e+01 4.15714302e+01 1.90000000e+01]\n",
            "   ...\n",
            "   [4.53112297e+01 3.19540215e+01 2.31122923e+00]\n",
            "   [4.96633987e+01 3.36633987e+01 8.80628300e+00]\n",
            "   [6.35814018e+01 4.55814018e+01 2.55814037e+01]]\n",
            "\n",
            "  [[7.07602081e+01 3.87602043e+01 1.57602043e+01]\n",
            "   [7.37908173e+01 4.17908134e+01 1.87908173e+01]\n",
            "   [7.41275558e+01 4.21275520e+01 1.95561218e+01]\n",
            "   ...\n",
            "   [4.48416405e+01 3.38416405e+01 5.44372320e+00]\n",
            "   [4.22041435e+01 2.62704716e+01 1.54600525e+00]\n",
            "   [5.50510597e+01 3.80510597e+01 1.80510597e+01]]\n",
            "\n",
            "  [[7.32091827e+01 4.12091866e+01 1.82091827e+01]\n",
            "   [7.46428604e+01 4.26428566e+01 1.96428585e+01]\n",
            "   [7.14285736e+01 3.94285698e+01 1.68571434e+01]\n",
            "   ...\n",
            "   [4.19182968e+01 3.17040100e+01 4.48972416e+00]\n",
            "   [4.17296219e+01 2.89030571e+01 5.17347527e+00]\n",
            "   [4.81531105e+01 3.27245407e+01 1.19388247e+01]]\n",
            "\n",
            "  ...\n",
            "\n",
            "  [[6.85717773e+00 5.85717773e+00 3.85717773e+00]\n",
            "   [8.80105591e+00 7.15817261e+00 3.37246728e+00]\n",
            "   [1.07653198e+01 8.61734009e+00 5.00000000e+00]\n",
            "   ...\n",
            "   [1.12739792e+02 8.07397919e+01 6.97397919e+01]\n",
            "   [1.14785706e+02 8.27857056e+01 7.17857056e+01]\n",
            "   [1.14505066e+02 8.25050659e+01 7.15050659e+01]]\n",
            "\n",
            "  [[1.18571777e+01 1.08571777e+01 8.85717773e+00]\n",
            "   [1.29285889e+01 8.92858887e+00 5.92858887e+00]\n",
            "   [1.21989832e+01 8.19898319e+00 5.19898367e+00]\n",
            "   ...\n",
            "   [1.10857147e+02 7.88571472e+01 6.78571472e+01]\n",
            "   [1.11214233e+02 7.92142334e+01 6.82142334e+01]\n",
            "   [1.12474495e+02 8.04744949e+01 6.94744949e+01]]\n",
            "\n",
            "  [[1.00714417e+01 6.07144165e+00 5.07144165e+00]\n",
            "   [1.13112297e+01 7.31122923e+00 4.31122923e+00]\n",
            "   [1.48571386e+01 1.08571386e+01 7.85713863e+00]\n",
            "   ...\n",
            "   [1.13576553e+02 8.15765533e+01 7.05765533e+01]\n",
            "   [1.12239777e+02 8.02397766e+01 6.92397766e+01]\n",
            "   [1.13229645e+02 8.12296448e+01 7.02296448e+01]]]\n",
            "\n",
            "\n",
            " ...\n",
            "\n",
            "\n",
            " [[[1.18000000e+02 8.10000000e+01 5.50000000e+01]\n",
            "   [1.30806122e+02 9.08061218e+01 6.58061218e+01]\n",
            "   [1.42219391e+02 9.97908173e+01 7.55765305e+01]\n",
            "   ...\n",
            "   [1.86377201e+01 1.62091923e+01 1.70561466e+01]\n",
            "   [1.51683464e+01 1.53112297e+01 1.52397881e+01]\n",
            "   [1.61275978e+01 1.71275978e+01 1.91275978e+01]]\n",
            "\n",
            "  [[1.12168365e+02 7.61683655e+01 5.21683655e+01]\n",
            "   [1.23923470e+02 8.57244949e+01 6.27908173e+01]\n",
            "   [1.37214294e+02 9.45867386e+01 7.07704163e+01]\n",
            "   ...\n",
            "   [2.19591808e+01 1.71275520e+01 2.10714283e+01]\n",
            "   [1.78571301e+01 1.61326637e+01 1.89948978e+01]\n",
            "   [1.69540844e+01 1.60969410e+01 2.10255127e+01]]\n",
            "\n",
            "  [[1.05790817e+02 6.92959137e+01 4.88571434e+01]\n",
            "   [1.16500000e+02 7.85000000e+01 5.75306129e+01]\n",
            "   [1.28642868e+02 8.60000000e+01 6.42142868e+01]\n",
            "   ...\n",
            "   [3.28316307e+01 1.95459156e+01 2.23520718e+01]\n",
            "   [3.24999886e+01 2.05714417e+01 2.36428566e+01]\n",
            "   [2.91325340e+01 2.01326389e+01 2.19183178e+01]]\n",
            "\n",
            "  ...\n",
            "\n",
            "  [[1.32142639e+01 1.32142639e+01 1.32142639e+01]\n",
            "   [1.20153046e+01 1.20153046e+01 1.20153046e+01]\n",
            "   [1.28316498e+01 1.28316498e+01 1.28316498e+01]\n",
            "   ...\n",
            "   [1.31658371e+02 1.05587059e+02 5.04441147e+01]\n",
            "   [1.44107025e+02 1.23821388e+02 6.48519363e+01]\n",
            "   [1.31943115e+02 1.15667641e+02 5.36676407e+01]]\n",
            "\n",
            "  [[1.30000000e+01 1.30000000e+01 1.30000000e+01]\n",
            "   [1.40000134e+01 1.40000134e+01 1.40000134e+01]\n",
            "   [1.52704182e+01 1.52704182e+01 1.52704182e+01]\n",
            "   ...\n",
            "   [1.00346893e+02 8.90203629e+01 3.08775406e+01]\n",
            "   [1.13489700e+02 9.87550507e+01 3.96887131e+01]\n",
            "   [1.12091789e+02 9.74234543e+01 3.78519783e+01]]\n",
            "\n",
            "  [[1.28724365e+01 1.28724365e+01 1.28724365e+01]\n",
            "   [1.49285717e+01 1.49285717e+01 1.49285717e+01]\n",
            "   [1.49234619e+01 1.49234619e+01 1.49234619e+01]\n",
            "   ...\n",
            "   [8.58879547e+01 8.27400131e+01 2.62451019e+01]\n",
            "   [1.04418739e+02 9.40361328e+01 3.76126251e+01]\n",
            "   [1.39042511e+02 1.24042503e+02 6.85833054e+01]]]\n",
            "\n",
            "\n",
            " [[[2.92267208e+01 2.92267208e+01 1.92267208e+01]\n",
            "   [3.09285717e+01 3.09285717e+01 2.09285717e+01]\n",
            "   [3.24913902e+01 3.24913902e+01 2.24913902e+01]\n",
            "   ...\n",
            "   [3.00000000e+00 1.40000000e+01 0.00000000e+00]\n",
            "   [2.67251730e+00 1.36725178e+01 0.00000000e+00]\n",
            "   [3.77329040e+00 1.47732906e+01 0.00000000e+00]]\n",
            "\n",
            "  [[3.00580368e+01 3.00580368e+01 2.00580368e+01]\n",
            "   [3.19327164e+01 3.19327164e+01 2.19327164e+01]\n",
            "   [3.32723236e+01 3.32723236e+01 2.32723236e+01]\n",
            "   ...\n",
            "   [3.01243496e+00 1.40124350e+01 0.00000000e+00]\n",
            "   [2.12533140e+00 1.31253309e+01 0.00000000e+00]\n",
            "   [3.00000000e+00 1.40000000e+01 0.00000000e+00]]\n",
            "\n",
            "  [[3.10000000e+01 3.10000000e+01 2.10000000e+01]\n",
            "   [3.27088661e+01 3.27088661e+01 2.27088642e+01]\n",
            "   [3.42142868e+01 3.42142868e+01 2.42142868e+01]\n",
            "   ...\n",
            "   [3.97765684e+00 1.49776573e+01 9.26960468e-01]\n",
            "   [3.00000000e+00 1.40000000e+01 0.00000000e+00]\n",
            "   [3.00000000e+00 1.40000000e+01 0.00000000e+00]]\n",
            "\n",
            "  ...\n",
            "\n",
            "  [[0.00000000e+00 9.21371841e+00 1.52234769e+00]\n",
            "   [0.00000000e+00 6.69299746e+00 0.00000000e+00]\n",
            "   [2.71485376e+00 7.72574377e+00 9.81472075e-01]\n",
            "   ...\n",
            "   [1.28532700e+02 1.36005966e+02 1.17296066e+02]\n",
            "   [1.25856049e+02 1.33092682e+02 1.14382782e+02]\n",
            "   [1.21102478e+02 1.26049011e+02 1.08102478e+02]]\n",
            "\n",
            "  [[0.00000000e+00 1.25641241e+01 2.62213778e+00]\n",
            "   [0.00000000e+00 9.87055779e+00 0.00000000e+00]\n",
            "   [3.72946858e-02 6.26401186e+00 0.00000000e+00]\n",
            "   ...\n",
            "   [1.19990875e+02 1.28990875e+02 1.07990875e+02]\n",
            "   [1.16263214e+02 1.24263214e+02 1.03263214e+02]\n",
            "   [1.11028198e+02 1.19028198e+02 9.80281982e+01]]\n",
            "\n",
            "  [[0.00000000e+00 9.58385372e+00 5.83853543e-01]\n",
            "   [0.00000000e+00 1.05759106e+01 6.01100564e-01]\n",
            "   [9.24769998e-01 7.21876717e+00 0.00000000e+00]\n",
            "   ...\n",
            "   [1.18075562e+02 1.28504089e+02 1.04504089e+02]\n",
            "   [1.13504456e+02 1.23504456e+02 9.95044556e+01]\n",
            "   [1.08285645e+02 1.18285645e+02 9.42856445e+01]]]\n",
            "\n",
            "\n",
            " [[[1.80000000e+01 1.10000000e+01 1.80000000e+01]\n",
            "   [1.77857132e+01 1.07857141e+01 1.77857132e+01]\n",
            "   [1.60765305e+01 9.50510216e+00 1.62908173e+01]\n",
            "   ...\n",
            "   [3.65714073e+01 3.45714073e+01 3.59999352e+01]\n",
            "   [4.03316269e+01 3.63316269e+01 3.73316269e+01]\n",
            "   [3.72856445e+01 3.32856445e+01 3.42856445e+01]]\n",
            "\n",
            "  [[1.91887760e+01 1.21887760e+01 1.91887760e+01]\n",
            "   [1.80000000e+01 1.10000000e+01 1.80000000e+01]\n",
            "   [1.76581631e+01 1.10867357e+01 1.78724499e+01]\n",
            "   ...\n",
            "   [3.67857361e+01 3.47857361e+01 3.62142639e+01]\n",
            "   [4.10000000e+01 3.70000000e+01 3.80000000e+01]\n",
            "   [4.04999657e+01 3.64999657e+01 3.74999657e+01]]\n",
            "\n",
            "  [[2.30714264e+01 1.60714283e+01 2.30714264e+01]\n",
            "   [2.06275501e+01 1.36275501e+01 2.06275501e+01]\n",
            "   [2.05714283e+01 1.40000000e+01 2.07857132e+01]\n",
            "   ...\n",
            "   [3.93571854e+01 3.73571854e+01 3.87857132e+01]\n",
            "   [4.17704048e+01 3.77704048e+01 3.87704048e+01]\n",
            "   [4.17857132e+01 3.77857132e+01 3.87857132e+01]]\n",
            "\n",
            "  ...\n",
            "\n",
            "  [[2.14846077e+01 1.21990252e+01 1.04132891e+01]\n",
            "   [2.40353107e+01 1.47497272e+01 1.29639912e+01]\n",
            "   [2.04690647e+01 8.84673691e+00 1.00151091e+01]\n",
            "   ...\n",
            "   [2.54000000e+02 2.54000000e+02 2.54000000e+02]\n",
            "   [2.54984695e+02 2.54984695e+02 2.54984695e+02]\n",
            "   [2.54709213e+02 2.54709213e+02 2.54709213e+02]]\n",
            "\n",
            "  [[1.53163185e+01 9.23977375e+00 1.12652893e+01]\n",
            "   [1.85662880e+01 1.44234037e+01 1.54948454e+01]\n",
            "   [1.89846916e+01 1.30969563e+01 1.50714417e+01]\n",
            "   ...\n",
            "   [2.55000000e+02 2.55000000e+02 2.55000000e+02]\n",
            "   [2.54066345e+02 2.54066345e+02 2.54066345e+02]\n",
            "   [2.49520126e+02 2.49520126e+02 2.49520126e+02]]\n",
            "\n",
            "  [[1.86581860e+01 6.94383001e+00 1.33010082e+01]\n",
            "   [1.81684055e+01 9.02554893e+00 1.40969772e+01]\n",
            "   [1.78570728e+01 1.20713587e+01 1.60713577e+01]\n",
            "   ...\n",
            "   [2.55000000e+02 2.55000000e+02 2.55000000e+02]\n",
            "   [2.55000000e+02 2.55000000e+02 2.55000000e+02]\n",
            "   [2.43300644e+02 2.43300644e+02 2.43300644e+02]]]], shape=(32, 224, 224, 3), dtype=float32) tf.Tensor(\n",
            "[[0. 0. 0. 0. 0. 0. 0. 0. 0. 1.]\n",
            " [0. 1. 0. 0. 0. 0. 0. 0. 0. 0.]\n",
            " [0. 0. 0. 0. 0. 0. 1. 0. 0. 0.]\n",
            " [0. 0. 0. 0. 0. 0. 0. 0. 1. 0.]\n",
            " [0. 0. 0. 0. 0. 0. 0. 1. 0. 0.]\n",
            " [1. 0. 0. 0. 0. 0. 0. 0. 0. 0.]\n",
            " [1. 0. 0. 0. 0. 0. 0. 0. 0. 0.]\n",
            " [1. 0. 0. 0. 0. 0. 0. 0. 0. 0.]\n",
            " [0. 0. 0. 0. 0. 0. 0. 0. 0. 1.]\n",
            " [0. 0. 0. 0. 0. 0. 0. 0. 1. 0.]\n",
            " [0. 0. 0. 0. 0. 0. 0. 0. 1. 0.]\n",
            " [0. 0. 0. 0. 0. 0. 0. 1. 0. 0.]\n",
            " [0. 0. 0. 0. 0. 0. 1. 0. 0. 0.]\n",
            " [0. 0. 0. 0. 0. 1. 0. 0. 0. 0.]\n",
            " [1. 0. 0. 0. 0. 0. 0. 0. 0. 0.]\n",
            " [0. 0. 0. 0. 0. 1. 0. 0. 0. 0.]\n",
            " [0. 0. 1. 0. 0. 0. 0. 0. 0. 0.]\n",
            " [0. 0. 0. 0. 0. 0. 0. 1. 0. 0.]\n",
            " [0. 0. 0. 0. 0. 0. 0. 0. 0. 1.]\n",
            " [0. 0. 0. 0. 0. 1. 0. 0. 0. 0.]\n",
            " [0. 0. 0. 0. 0. 0. 0. 1. 0. 0.]\n",
            " [0. 0. 0. 0. 1. 0. 0. 0. 0. 0.]\n",
            " [0. 0. 0. 1. 0. 0. 0. 0. 0. 0.]\n",
            " [1. 0. 0. 0. 0. 0. 0. 0. 0. 0.]\n",
            " [0. 0. 0. 0. 0. 0. 1. 0. 0. 0.]\n",
            " [0. 0. 0. 1. 0. 0. 0. 0. 0. 0.]\n",
            " [0. 0. 0. 0. 0. 0. 0. 0. 1. 0.]\n",
            " [0. 0. 0. 0. 0. 0. 0. 0. 1. 0.]\n",
            " [0. 0. 0. 0. 0. 0. 0. 0. 1. 0.]\n",
            " [0. 0. 1. 0. 0. 0. 0. 0. 0. 0.]\n",
            " [0. 0. 0. 0. 0. 0. 0. 0. 1. 0.]\n",
            " [0. 0. 0. 0. 0. 0. 0. 0. 1. 0.]], shape=(32, 10), dtype=float32)\n"
          ]
        }
      ]
    },
    {
      "cell_type": "markdown",
      "source": [
        "# **Discussing Model Experiments**\n",
        "\n",
        "**We Work Through 5 Different Models With Different Data, Preprocessing & Models**"
      ],
      "metadata": {
        "id": "4m-1wFTxkj-D"
      }
    },
    {
      "cell_type": "markdown",
      "source": [
        "# **Keras Sequential vs Functional API**\n",
        "\n",
        "**These Are Similarities in compiling , Fitting & Evaluating.**\n",
        "\n",
        "**The Difference Is Model Construction(Fundamental API is More Flexible)**\n",
        "\n",
        "**Building Tranfer Learning Model Using Keras (Feature Extraction) Functional API**\n",
        "\n",
        "**Functional API gives us More Flexibility Then Our Model**\n"
      ],
      "metadata": {
        "id": "hMJUtARMk11Z"
      }
    },
    {
      "cell_type": "code",
      "source": [
        "# 1- Create Base Model With Tf keras Applications\n",
        "\n",
        "base_model = tf.keras.applications.EfficientNetB0(include_top=False)\n",
        "\n",
        "\n",
        "# 2- Freeze The Base Model (Because Of Feature Extraction)\n",
        "\n",
        "base_model.trainable = False\n",
        "\n",
        "# 3- Create Input Into Our Model \n",
        "\n",
        "inputs = tf.keras.layers.Input(shape=(224,224,3),\n",
        "                               name='input_layer')\n",
        "\n",
        "#4- If You Are Using RESNET 50 V2 , You Need to Normalize Inputs (Not For Efficient Net)\n",
        "\n",
        "# x = tf.keras.layers.Experimental.preprocessing.Rescaling(1./255) (inputs)\n",
        "\n",
        "# 5- Pass The Inputs To The Base Model\n",
        "\n",
        "x = base_model(inputs)\n",
        "print(f\"Shape After Passing Inputs Through Base Model : {x.shape}\")\n",
        "\n",
        "# 6- Average Pool The Output of the Base Model\n",
        "\n",
        "x = tf.keras.layers.GlobalAveragePooling2D(name= 'global_average_pooling_layer') (x)\n",
        "\n",
        "# 7- Create Output Activation Layer\n",
        "\n",
        "outputs = tf.keras.layers.Dense(10, activation='softmax',\n",
        "                                name = 'output_layer') (x)\n",
        "\n",
        "\n",
        "# 8- Combine The Inputs With Outputs A Model\n",
        "\n",
        "model_0 = tf.keras.Model(inputs, outputs)\n",
        "\n",
        "# 9- Compile For Model\n",
        "\n",
        "model_0.compile(loss = 'categorical_crossentropy',\n",
        "                optimizer = tf.keras.optimizers.Adam(),\n",
        "                metrics=['accuracy'])\n",
        "\n",
        "# 10- Fit The Model\n",
        "\n",
        "history_10_percent = model_0.fit(train_data_10_percent,\n",
        "                                 epochs=5,\n",
        "                                 steps_per_epoch = len(train_data_10_percent),\n",
        "                                 validation_data = test_data,\n",
        "                                 validation_steps = int(0.25 * len(test_data)),\n",
        "                                 callbacks = [create_tensorboard_callback(dir_name='Transfer_Learning',\n",
        "                                                                          experiment_name = '10_percent_feature_extraction')])"
      ],
      "metadata": {
        "colab": {
          "base_uri": "https://localhost:8080/"
        },
        "id": "1SbleNkKkb95",
        "outputId": "20add96c-f839-436a-a8a6-4f17fcafe952"
      },
      "execution_count": 12,
      "outputs": [
        {
          "output_type": "stream",
          "name": "stdout",
          "text": [
            "Downloading data from https://storage.googleapis.com/keras-applications/efficientnetb0_notop.h5\n",
            "16711680/16705208 [==============================] - 0s 0us/step\n",
            "16719872/16705208 [==============================] - 0s 0us/step\n",
            "Shape After Passing Inputs Through Base Model : (None, 7, 7, 1280)\n",
            "Saving TensorBoard log files to: Transfer_Learning/10_percent_feature_extraction/20220222-174127\n",
            "Epoch 1/5\n",
            "24/24 [==============================] - 21s 221ms/step - loss: 1.8876 - accuracy: 0.3840 - val_loss: 1.3356 - val_accuracy: 0.7204\n",
            "Epoch 2/5\n",
            "24/24 [==============================] - 4s 149ms/step - loss: 1.1450 - accuracy: 0.7453 - val_loss: 0.9009 - val_accuracy: 0.8158\n",
            "Epoch 3/5\n",
            "24/24 [==============================] - 5s 183ms/step - loss: 0.8314 - accuracy: 0.8213 - val_loss: 0.7568 - val_accuracy: 0.8191\n",
            "Epoch 4/5\n",
            "24/24 [==============================] - 5s 183ms/step - loss: 0.6838 - accuracy: 0.8413 - val_loss: 0.6647 - val_accuracy: 0.8289\n",
            "Epoch 5/5\n",
            "24/24 [==============================] - 5s 182ms/step - loss: 0.5870 - accuracy: 0.8573 - val_loss: 0.6130 - val_accuracy: 0.8388\n"
          ]
        }
      ]
    },
    {
      "cell_type": "code",
      "source": [
        "# Evaluate The Full Test Dataset\n",
        "\n",
        "model_0.evaluate(test_data)"
      ],
      "metadata": {
        "colab": {
          "base_uri": "https://localhost:8080/"
        },
        "id": "tDCje1fHq2Ke",
        "outputId": "b1ca0fb5-9209-46e7-ab67-33bf39c46983"
      },
      "execution_count": 13,
      "outputs": [
        {
          "output_type": "stream",
          "name": "stdout",
          "text": [
            "79/79 [==============================] - 6s 74ms/step - loss: 0.6079 - accuracy: 0.8372\n"
          ]
        },
        {
          "output_type": "execute_result",
          "data": {
            "text/plain": [
              "[0.6079081296920776, 0.8371999859809875]"
            ]
          },
          "metadata": {},
          "execution_count": 13
        }
      ]
    },
    {
      "cell_type": "code",
      "source": [
        "# Check The layers On Our Base Model\n",
        "\n",
        "for layer_number, layer in enumerate(base_model.layers):\n",
        "  print(layer_number,layer)"
      ],
      "metadata": {
        "colab": {
          "base_uri": "https://localhost:8080/"
        },
        "id": "bJ5Z6OkWr7hW",
        "outputId": "4bc96b54-94ba-441d-ebf9-d38d9d8c2516"
      },
      "execution_count": 14,
      "outputs": [
        {
          "output_type": "stream",
          "name": "stdout",
          "text": [
            "0 <keras.engine.input_layer.InputLayer object at 0x7f103a51eb10>\n",
            "1 <keras.layers.preprocessing.image_preprocessing.Rescaling object at 0x7f1038c67710>\n",
            "2 <keras.layers.preprocessing.normalization.Normalization object at 0x7f1038cf3250>\n",
            "3 <keras.layers.convolutional.ZeroPadding2D object at 0x7f1038c67c90>\n",
            "4 <keras.layers.convolutional.Conv2D object at 0x7f1038caa190>\n",
            "5 <keras.layers.normalization.batch_normalization.BatchNormalization object at 0x7f1038cc1d90>\n",
            "6 <keras.layers.core.activation.Activation object at 0x7f1038caa310>\n",
            "7 <keras.layers.convolutional.DepthwiseConv2D object at 0x7f1038bafc10>\n",
            "8 <keras.layers.normalization.batch_normalization.BatchNormalization object at 0x7f1037e22310>\n",
            "9 <keras.layers.core.activation.Activation object at 0x7f1037e30f50>\n",
            "10 <keras.layers.pooling.GlobalAveragePooling2D object at 0x7f1037e36c50>\n",
            "11 <keras.layers.core.reshape.Reshape object at 0x7f1037e3b4d0>\n",
            "12 <keras.layers.convolutional.Conv2D object at 0x7f1037e40110>\n",
            "13 <keras.layers.convolutional.Conv2D object at 0x7f1037dd3c10>\n",
            "14 <keras.layers.merge.Multiply object at 0x7f1037dc9750>\n",
            "15 <keras.layers.convolutional.Conv2D object at 0x7f1037e40b50>\n",
            "16 <keras.layers.normalization.batch_normalization.BatchNormalization object at 0x7f1037ddf9d0>\n",
            "17 <keras.layers.convolutional.Conv2D object at 0x7f1037ddff90>\n",
            "18 <keras.layers.normalization.batch_normalization.BatchNormalization object at 0x7f1037dda890>\n",
            "19 <keras.layers.core.activation.Activation object at 0x7f1037deeb90>\n",
            "20 <keras.layers.convolutional.ZeroPadding2D object at 0x7f1039032610>\n",
            "21 <keras.layers.convolutional.DepthwiseConv2D object at 0x7f1037e03390>\n",
            "22 <keras.layers.normalization.batch_normalization.BatchNormalization object at 0x7f1037e63410>\n",
            "23 <keras.layers.core.activation.Activation object at 0x7f1037e036d0>\n",
            "24 <keras.layers.pooling.GlobalAveragePooling2D object at 0x7f1037d89f90>\n",
            "25 <keras.layers.core.reshape.Reshape object at 0x7f1037d9d4d0>\n",
            "26 <keras.layers.convolutional.Conv2D object at 0x7f1037d99650>\n",
            "27 <keras.layers.convolutional.Conv2D object at 0x7f1037da6410>\n",
            "28 <keras.layers.merge.Multiply object at 0x7f1037e221d0>\n",
            "29 <keras.layers.convolutional.Conv2D object at 0x7f1037e22190>\n",
            "30 <keras.layers.normalization.batch_normalization.BatchNormalization object at 0x7f1037db7e50>\n",
            "31 <keras.layers.convolutional.Conv2D object at 0x7f1037db0d10>\n",
            "32 <keras.layers.normalization.batch_normalization.BatchNormalization object at 0x7f1037d90910>\n",
            "33 <keras.layers.core.activation.Activation object at 0x7f1037e40c50>\n",
            "34 <keras.layers.convolutional.DepthwiseConv2D object at 0x7f1038d54150>\n",
            "35 <keras.layers.normalization.batch_normalization.BatchNormalization object at 0x7f1037d44550>\n",
            "36 <keras.layers.core.activation.Activation object at 0x7f1037d4c590>\n",
            "37 <keras.layers.pooling.GlobalAveragePooling2D object at 0x7f1037d4cb50>\n",
            "38 <keras.layers.core.reshape.Reshape object at 0x7f1037d56610>\n",
            "39 <keras.layers.convolutional.Conv2D object at 0x7f1037d62450>\n",
            "40 <keras.layers.convolutional.Conv2D object at 0x7f1037d5e210>\n",
            "41 <keras.layers.merge.Multiply object at 0x7f1037d71ad0>\n",
            "42 <keras.layers.convolutional.Conv2D object at 0x7f1037d78550>\n",
            "43 <keras.layers.normalization.batch_normalization.BatchNormalization object at 0x7f1037d7e210>\n",
            "44 <keras.layers.core.dropout.Dropout object at 0x7f1037d828d0>\n",
            "45 <keras.layers.merge.Add object at 0x7f1037d0b790>\n",
            "46 <keras.layers.convolutional.Conv2D object at 0x7f1037d0bb90>\n",
            "47 <keras.layers.normalization.batch_normalization.BatchNormalization object at 0x7f1037d115d0>\n",
            "48 <keras.layers.core.activation.Activation object at 0x7f1037d17b10>\n",
            "49 <keras.layers.convolutional.ZeroPadding2D object at 0x7f1037d1c910>\n",
            "50 <keras.layers.convolutional.DepthwiseConv2D object at 0x7f1037d20d50>\n",
            "51 <keras.layers.normalization.batch_normalization.BatchNormalization object at 0x7f1037d2c150>\n",
            "52 <keras.layers.core.activation.Activation object at 0x7f1037d08e50>\n",
            "53 <keras.layers.pooling.GlobalAveragePooling2D object at 0x7f1037d34910>\n",
            "54 <keras.layers.core.reshape.Reshape object at 0x7f1037d3ab50>\n",
            "55 <keras.layers.convolutional.Conv2D object at 0x7f1037d41e90>\n",
            "56 <keras.layers.convolutional.Conv2D object at 0x7f1037cce690>\n",
            "57 <keras.layers.merge.Multiply object at 0x7f1037cda310>\n",
            "58 <keras.layers.convolutional.Conv2D object at 0x7f1037cdaf90>\n",
            "59 <keras.layers.normalization.batch_normalization.BatchNormalization object at 0x7f1037ce52d0>\n",
            "60 <keras.layers.convolutional.Conv2D object at 0x7f1037ce9110>\n",
            "61 <keras.layers.normalization.batch_normalization.BatchNormalization object at 0x7f1037cf7110>\n",
            "62 <keras.layers.core.activation.Activation object at 0x7f1037cf2c10>\n",
            "63 <keras.layers.convolutional.DepthwiseConv2D object at 0x7f1037cf7410>\n",
            "64 <keras.layers.normalization.batch_normalization.BatchNormalization object at 0x7f1037c8d3d0>\n",
            "65 <keras.layers.core.activation.Activation object at 0x7f1037cfa7d0>\n",
            "66 <keras.layers.pooling.GlobalAveragePooling2D object at 0x7f1037c91a90>\n",
            "67 <keras.layers.core.reshape.Reshape object at 0x7f1037ca1190>\n",
            "68 <keras.layers.convolutional.Conv2D object at 0x7f1037c99a50>\n",
            "69 <keras.layers.convolutional.Conv2D object at 0x7f1037ceed90>\n",
            "70 <keras.layers.merge.Multiply object at 0x7f1037d3a590>\n",
            "71 <keras.layers.convolutional.Conv2D object at 0x7f1037d36690>\n",
            "72 <keras.layers.normalization.batch_normalization.BatchNormalization object at 0x7f1037d17e50>\n",
            "73 <keras.layers.core.dropout.Dropout object at 0x7f1037d56050>\n",
            "74 <keras.layers.merge.Add object at 0x7f1037d514d0>\n",
            "75 <keras.layers.convolutional.Conv2D object at 0x7f1037d0bd90>\n",
            "76 <keras.layers.normalization.batch_normalization.BatchNormalization object at 0x7f1037ca5ad0>\n",
            "77 <keras.layers.core.activation.Activation object at 0x7f1037ca9dd0>\n",
            "78 <keras.layers.convolutional.ZeroPadding2D object at 0x7f1037cac710>\n",
            "79 <keras.layers.convolutional.DepthwiseConv2D object at 0x7f1037caf450>\n",
            "80 <keras.layers.normalization.batch_normalization.BatchNormalization object at 0x7f1037cb3c50>\n",
            "81 <keras.layers.core.activation.Activation object at 0x7f1037cb3050>\n",
            "82 <keras.layers.pooling.GlobalAveragePooling2D object at 0x7f1037caa0d0>\n",
            "83 <keras.layers.core.reshape.Reshape object at 0x7f1037c44810>\n",
            "84 <keras.layers.convolutional.Conv2D object at 0x7f1037c4e650>\n",
            "85 <keras.layers.convolutional.Conv2D object at 0x7f1037c599d0>\n",
            "86 <keras.layers.merge.Multiply object at 0x7f1037c5fcd0>\n",
            "87 <keras.layers.convolutional.Conv2D object at 0x7f1037c657d0>\n",
            "88 <keras.layers.normalization.batch_normalization.BatchNormalization object at 0x7f1037c6a4d0>\n",
            "89 <keras.layers.convolutional.Conv2D object at 0x7f1037c6e090>\n",
            "90 <keras.layers.normalization.batch_normalization.BatchNormalization object at 0x7f1037c6e690>\n",
            "91 <keras.layers.core.activation.Activation object at 0x7f1037c783d0>\n",
            "92 <keras.layers.convolutional.DepthwiseConv2D object at 0x7f1037c7d5d0>\n",
            "93 <keras.layers.normalization.batch_normalization.BatchNormalization object at 0x7f1037c78f90>\n",
            "94 <keras.layers.core.activation.Activation object at 0x7f1037c11650>\n",
            "95 <keras.layers.pooling.GlobalAveragePooling2D object at 0x7f1037c18790>\n",
            "96 <keras.layers.core.reshape.Reshape object at 0x7f1037c27450>\n",
            "97 <keras.layers.convolutional.Conv2D object at 0x7f1037c20310>\n",
            "98 <keras.layers.convolutional.Conv2D object at 0x7f1037c2c910>\n",
            "99 <keras.layers.merge.Multiply object at 0x7f1037c39650>\n",
            "100 <keras.layers.convolutional.Conv2D object at 0x7f1037c2c190>\n",
            "101 <keras.layers.normalization.batch_normalization.BatchNormalization object at 0x7f1037bc4c10>\n",
            "102 <keras.layers.core.dropout.Dropout object at 0x7f1037bd3a90>\n",
            "103 <keras.layers.merge.Add object at 0x7f1037bcef10>\n",
            "104 <keras.layers.convolutional.Conv2D object at 0x7f1037bd90d0>\n",
            "105 <keras.layers.normalization.batch_normalization.BatchNormalization object at 0x7f1037bdfd50>\n",
            "106 <keras.layers.core.activation.Activation object at 0x7f1037be8150>\n",
            "107 <keras.layers.convolutional.DepthwiseConv2D object at 0x7f1037be1ad0>\n",
            "108 <keras.layers.normalization.batch_normalization.BatchNormalization object at 0x7f1037c3c850>\n",
            "109 <keras.layers.core.activation.Activation object at 0x7f1037c6ef10>\n",
            "110 <keras.layers.pooling.GlobalAveragePooling2D object at 0x7f1037c78790>\n",
            "111 <keras.layers.core.reshape.Reshape object at 0x7f1037c44250>\n",
            "112 <keras.layers.convolutional.Conv2D object at 0x7f1037cbcd10>\n",
            "113 <keras.layers.convolutional.Conv2D object at 0x7f1037d4cd10>\n",
            "114 <keras.layers.merge.Multiply object at 0x7f1037d20450>\n",
            "115 <keras.layers.convolutional.Conv2D object at 0x7f1037beba50>\n",
            "116 <keras.layers.normalization.batch_normalization.BatchNormalization object at 0x7f1037bf2e10>\n",
            "117 <keras.layers.core.dropout.Dropout object at 0x7f1037bee550>\n",
            "118 <keras.layers.merge.Add object at 0x7f1037bf4090>\n",
            "119 <keras.layers.convolutional.Conv2D object at 0x7f1037bf7ed0>\n",
            "120 <keras.layers.normalization.batch_normalization.BatchNormalization object at 0x7f1037bfd650>\n",
            "121 <keras.layers.core.activation.Activation object at 0x7f1037bf7cd0>\n",
            "122 <keras.layers.convolutional.DepthwiseConv2D object at 0x7f1037bf4a50>\n",
            "123 <keras.layers.normalization.batch_normalization.BatchNormalization object at 0x7f1037b8a750>\n",
            "124 <keras.layers.core.activation.Activation object at 0x7f1037b85a50>\n",
            "125 <keras.layers.pooling.GlobalAveragePooling2D object at 0x7f1037b94f90>\n",
            "126 <keras.layers.core.reshape.Reshape object at 0x7f1037ba0cd0>\n",
            "127 <keras.layers.convolutional.Conv2D object at 0x7f1037b9cd50>\n",
            "128 <keras.layers.convolutional.Conv2D object at 0x7f1037bad7d0>\n",
            "129 <keras.layers.merge.Multiply object at 0x7f1037bbd550>\n",
            "130 <keras.layers.convolutional.Conv2D object at 0x7f1037b9cd10>\n",
            "131 <keras.layers.normalization.batch_normalization.BatchNormalization object at 0x7f1037b45b10>\n",
            "132 <keras.layers.convolutional.Conv2D object at 0x7f1037b510d0>\n",
            "133 <keras.layers.normalization.batch_normalization.BatchNormalization object at 0x7f1037b561d0>\n",
            "134 <keras.layers.core.activation.Activation object at 0x7f1037b58d50>\n",
            "135 <keras.layers.convolutional.DepthwiseConv2D object at 0x7f1037b64b50>\n",
            "136 <keras.layers.normalization.batch_normalization.BatchNormalization object at 0x7f1037b5ed10>\n",
            "137 <keras.layers.core.activation.Activation object at 0x7f1037b70450>\n",
            "138 <keras.layers.pooling.GlobalAveragePooling2D object at 0x7f1037b75990>\n",
            "139 <keras.layers.core.reshape.Reshape object at 0x7f1037b77c90>\n",
            "140 <keras.layers.convolutional.Conv2D object at 0x7f1037b70110>\n",
            "141 <keras.layers.convolutional.Conv2D object at 0x7f1037b05410>\n",
            "142 <keras.layers.merge.Multiply object at 0x7f1037b0a090>\n",
            "143 <keras.layers.convolutional.Conv2D object at 0x7f1037b6c8d0>\n",
            "144 <keras.layers.normalization.batch_normalization.BatchNormalization object at 0x7f1037b1aed0>\n",
            "145 <keras.layers.core.dropout.Dropout object at 0x7f1037b23510>\n",
            "146 <keras.layers.merge.Add object at 0x7f1037b1dd90>\n",
            "147 <keras.layers.convolutional.Conv2D object at 0x7f1037b4ac50>\n",
            "148 <keras.layers.normalization.batch_normalization.BatchNormalization object at 0x7f1037bc2910>\n",
            "149 <keras.layers.core.activation.Activation object at 0x7f1037b85f10>\n",
            "150 <keras.layers.convolutional.DepthwiseConv2D object at 0x7f1037b94710>\n",
            "151 <keras.layers.normalization.batch_normalization.BatchNormalization object at 0x7f1037c27a50>\n",
            "152 <keras.layers.core.activation.Activation object at 0x7f1037b2ec50>\n",
            "153 <keras.layers.pooling.GlobalAveragePooling2D object at 0x7f1037b2e0d0>\n",
            "154 <keras.layers.core.reshape.Reshape object at 0x7f1037b33190>\n",
            "155 <keras.layers.convolutional.Conv2D object at 0x7f1037b3c2d0>\n",
            "156 <keras.layers.convolutional.Conv2D object at 0x7f1037b36c10>\n",
            "157 <keras.layers.merge.Multiply object at 0x7f1037acb650>\n",
            "158 <keras.layers.convolutional.Conv2D object at 0x7f1037ad0cd0>\n",
            "159 <keras.layers.normalization.batch_normalization.BatchNormalization object at 0x7f1037aced10>\n",
            "160 <keras.layers.core.dropout.Dropout object at 0x7f1037adc390>\n",
            "161 <keras.layers.merge.Add object at 0x7f1037ae69d0>\n",
            "162 <keras.layers.convolutional.Conv2D object at 0x7f1037ae6a50>\n",
            "163 <keras.layers.normalization.batch_normalization.BatchNormalization object at 0x7f1037aec6d0>\n",
            "164 <keras.layers.core.activation.Activation object at 0x7f1037af1610>\n",
            "165 <keras.layers.convolutional.ZeroPadding2D object at 0x7f1037af54d0>\n",
            "166 <keras.layers.convolutional.DepthwiseConv2D object at 0x7f1037b00590>\n",
            "167 <keras.layers.normalization.batch_normalization.BatchNormalization object at 0x7f1020032dd0>\n",
            "168 <keras.layers.core.activation.Activation object at 0x7f1020037d50>\n",
            "169 <keras.layers.pooling.GlobalAveragePooling2D object at 0x7f102003b210>\n",
            "170 <keras.layers.core.reshape.Reshape object at 0x7f1020045890>\n",
            "171 <keras.layers.convolutional.Conv2D object at 0x7f1020055fd0>\n",
            "172 <keras.layers.convolutional.Conv2D object at 0x7f1020064990>\n",
            "173 <keras.layers.merge.Multiply object at 0x7f1020069c90>\n",
            "174 <keras.layers.convolutional.Conv2D object at 0x7f0fba6d7550>\n",
            "175 <keras.layers.normalization.batch_normalization.BatchNormalization object at 0x7f0fba6df4d0>\n",
            "176 <keras.layers.convolutional.Conv2D object at 0x7f0fba6ec190>\n",
            "177 <keras.layers.normalization.batch_normalization.BatchNormalization object at 0x7f0fba6df810>\n",
            "178 <keras.layers.core.activation.Activation object at 0x7f0fba6f2710>\n",
            "179 <keras.layers.convolutional.DepthwiseConv2D object at 0x7f0fba6f9510>\n",
            "180 <keras.layers.normalization.batch_normalization.BatchNormalization object at 0x7f0fba6fd850>\n",
            "181 <keras.layers.core.activation.Activation object at 0x7f0fba708d90>\n",
            "182 <keras.layers.pooling.GlobalAveragePooling2D object at 0x7f0fba710410>\n",
            "183 <keras.layers.core.reshape.Reshape object at 0x7f0fba70c910>\n",
            "184 <keras.layers.convolutional.Conv2D object at 0x7f0fba6eca10>\n",
            "185 <keras.layers.convolutional.Conv2D object at 0x7f10200559d0>\n",
            "186 <keras.layers.merge.Multiply object at 0x7f0fba6d7b10>\n",
            "187 <keras.layers.convolutional.Conv2D object at 0x7f0fba6dcd90>\n",
            "188 <keras.layers.normalization.batch_normalization.BatchNormalization object at 0x7f1037ad0b90>\n",
            "189 <keras.layers.core.dropout.Dropout object at 0x7f1037b313d0>\n",
            "190 <keras.layers.merge.Add object at 0x7f1037b3cb10>\n",
            "191 <keras.layers.convolutional.Conv2D object at 0x7f1037b30a50>\n",
            "192 <keras.layers.normalization.batch_normalization.BatchNormalization object at 0x7f1037bad190>\n",
            "193 <keras.layers.core.activation.Activation object at 0x7f1037bf7b50>\n",
            "194 <keras.layers.convolutional.DepthwiseConv2D object at 0x7f0fba715d90>\n",
            "195 <keras.layers.normalization.batch_normalization.BatchNormalization object at 0x7f0fba6a0110>\n",
            "196 <keras.layers.core.activation.Activation object at 0x7f0fba6a0350>\n",
            "197 <keras.layers.pooling.GlobalAveragePooling2D object at 0x7f0fba6a4210>\n",
            "198 <keras.layers.core.reshape.Reshape object at 0x7f0fba6b2390>\n",
            "199 <keras.layers.convolutional.Conv2D object at 0x7f0fba6b8ed0>\n",
            "200 <keras.layers.convolutional.Conv2D object at 0x7f0fba6bc390>\n",
            "201 <keras.layers.merge.Multiply object at 0x7f0fba6ca850>\n",
            "202 <keras.layers.convolutional.Conv2D object at 0x7f1037bf74d0>\n",
            "203 <keras.layers.normalization.batch_normalization.BatchNormalization object at 0x7f0fba6a0810>\n",
            "204 <keras.layers.core.dropout.Dropout object at 0x7f0fba6597d0>\n",
            "205 <keras.layers.merge.Add object at 0x7f0fba65da10>\n",
            "206 <keras.layers.convolutional.Conv2D object at 0x7f0fba659ad0>\n",
            "207 <keras.layers.normalization.batch_normalization.BatchNormalization object at 0x7f0fba6c89d0>\n",
            "208 <keras.layers.core.activation.Activation object at 0x7f0fba6640d0>\n",
            "209 <keras.layers.convolutional.DepthwiseConv2D object at 0x7f0fba671490>\n",
            "210 <keras.layers.normalization.batch_normalization.BatchNormalization object at 0x7f0fba6a0610>\n",
            "211 <keras.layers.core.activation.Activation object at 0x7f0fba671d50>\n",
            "212 <keras.layers.pooling.GlobalAveragePooling2D object at 0x7f0fba689f50>\n",
            "213 <keras.layers.core.reshape.Reshape object at 0x7f0fba689110>\n",
            "214 <keras.layers.convolutional.Conv2D object at 0x7f0fba689b10>\n",
            "215 <keras.layers.convolutional.Conv2D object at 0x7f0fba65d590>\n",
            "216 <keras.layers.merge.Multiply object at 0x7f0fba620290>\n",
            "217 <keras.layers.convolutional.Conv2D object at 0x7f0fba61a5d0>\n",
            "218 <keras.layers.normalization.batch_normalization.BatchNormalization object at 0x7f0fba679c90>\n",
            "219 <keras.layers.core.dropout.Dropout object at 0x7f0fba629610>\n",
            "220 <keras.layers.merge.Add object at 0x7f0fba683190>\n",
            "221 <keras.layers.convolutional.Conv2D object at 0x7f0fba62c690>\n",
            "222 <keras.layers.normalization.batch_normalization.BatchNormalization object at 0x7f0fba693bd0>\n",
            "223 <keras.layers.core.activation.Activation object at 0x7f0fba647590>\n",
            "224 <keras.layers.convolutional.DepthwiseConv2D object at 0x7f0fba647890>\n",
            "225 <keras.layers.normalization.batch_normalization.BatchNormalization object at 0x7f0fba678990>\n",
            "226 <keras.layers.core.activation.Activation object at 0x7f0fba6bcd10>\n",
            "227 <keras.layers.pooling.GlobalAveragePooling2D object at 0x7f0fba6425d0>\n",
            "228 <keras.layers.core.reshape.Reshape object at 0x7f0fba62c250>\n",
            "229 <keras.layers.convolutional.Conv2D object at 0x7f0fba6ec950>\n",
            "230 <keras.layers.convolutional.Conv2D object at 0x7f0fba693850>\n",
            "231 <keras.layers.merge.Multiply object at 0x7f0fba65d8d0>\n",
            "232 <keras.layers.convolutional.Conv2D object at 0x7f0fba64eb90>\n",
            "233 <keras.layers.normalization.batch_normalization.BatchNormalization object at 0x7f1037b31b90>\n",
            "234 <keras.layers.convolutional.Conv2D object at 0x7f1038c93910>\n",
            "235 <keras.layers.normalization.batch_normalization.BatchNormalization object at 0x7f0fba650050>\n",
            "236 <keras.layers.core.activation.Activation object at 0x7f0fba5de4d0>\n"
          ]
        }
      ]
    },
    {
      "cell_type": "code",
      "source": [
        "# Summary Of Base Model\n",
        "base_model.summary()"
      ],
      "metadata": {
        "colab": {
          "base_uri": "https://localhost:8080/"
        },
        "id": "0bAAtErPsPLk",
        "outputId": "d858ec21-9199-436d-c587-b6b9db24d1cf"
      },
      "execution_count": 15,
      "outputs": [
        {
          "output_type": "stream",
          "name": "stdout",
          "text": [
            "Model: \"efficientnetb0\"\n",
            "__________________________________________________________________________________________________\n",
            " Layer (type)                   Output Shape         Param #     Connected to                     \n",
            "==================================================================================================\n",
            " input_1 (InputLayer)           [(None, None, None,  0           []                               \n",
            "                                 3)]                                                              \n",
            "                                                                                                  \n",
            " rescaling (Rescaling)          (None, None, None,   0           ['input_1[0][0]']                \n",
            "                                3)                                                                \n",
            "                                                                                                  \n",
            " normalization (Normalization)  (None, None, None,   7           ['rescaling[0][0]']              \n",
            "                                3)                                                                \n",
            "                                                                                                  \n",
            " stem_conv_pad (ZeroPadding2D)  (None, None, None,   0           ['normalization[0][0]']          \n",
            "                                3)                                                                \n",
            "                                                                                                  \n",
            " stem_conv (Conv2D)             (None, None, None,   864         ['stem_conv_pad[0][0]']          \n",
            "                                32)                                                               \n",
            "                                                                                                  \n",
            " stem_bn (BatchNormalization)   (None, None, None,   128         ['stem_conv[0][0]']              \n",
            "                                32)                                                               \n",
            "                                                                                                  \n",
            " stem_activation (Activation)   (None, None, None,   0           ['stem_bn[0][0]']                \n",
            "                                32)                                                               \n",
            "                                                                                                  \n",
            " block1a_dwconv (DepthwiseConv2  (None, None, None,   288        ['stem_activation[0][0]']        \n",
            " D)                             32)                                                               \n",
            "                                                                                                  \n",
            " block1a_bn (BatchNormalization  (None, None, None,   128        ['block1a_dwconv[0][0]']         \n",
            " )                              32)                                                               \n",
            "                                                                                                  \n",
            " block1a_activation (Activation  (None, None, None,   0          ['block1a_bn[0][0]']             \n",
            " )                              32)                                                               \n",
            "                                                                                                  \n",
            " block1a_se_squeeze (GlobalAver  (None, 32)          0           ['block1a_activation[0][0]']     \n",
            " agePooling2D)                                                                                    \n",
            "                                                                                                  \n",
            " block1a_se_reshape (Reshape)   (None, 1, 1, 32)     0           ['block1a_se_squeeze[0][0]']     \n",
            "                                                                                                  \n",
            " block1a_se_reduce (Conv2D)     (None, 1, 1, 8)      264         ['block1a_se_reshape[0][0]']     \n",
            "                                                                                                  \n",
            " block1a_se_expand (Conv2D)     (None, 1, 1, 32)     288         ['block1a_se_reduce[0][0]']      \n",
            "                                                                                                  \n",
            " block1a_se_excite (Multiply)   (None, None, None,   0           ['block1a_activation[0][0]',     \n",
            "                                32)                               'block1a_se_expand[0][0]']      \n",
            "                                                                                                  \n",
            " block1a_project_conv (Conv2D)  (None, None, None,   512         ['block1a_se_excite[0][0]']      \n",
            "                                16)                                                               \n",
            "                                                                                                  \n",
            " block1a_project_bn (BatchNorma  (None, None, None,   64         ['block1a_project_conv[0][0]']   \n",
            " lization)                      16)                                                               \n",
            "                                                                                                  \n",
            " block2a_expand_conv (Conv2D)   (None, None, None,   1536        ['block1a_project_bn[0][0]']     \n",
            "                                96)                                                               \n",
            "                                                                                                  \n",
            " block2a_expand_bn (BatchNormal  (None, None, None,   384        ['block2a_expand_conv[0][0]']    \n",
            " ization)                       96)                                                               \n",
            "                                                                                                  \n",
            " block2a_expand_activation (Act  (None, None, None,   0          ['block2a_expand_bn[0][0]']      \n",
            " ivation)                       96)                                                               \n",
            "                                                                                                  \n",
            " block2a_dwconv_pad (ZeroPaddin  (None, None, None,   0          ['block2a_expand_activation[0][0]\n",
            " g2D)                           96)                              ']                               \n",
            "                                                                                                  \n",
            " block2a_dwconv (DepthwiseConv2  (None, None, None,   864        ['block2a_dwconv_pad[0][0]']     \n",
            " D)                             96)                                                               \n",
            "                                                                                                  \n",
            " block2a_bn (BatchNormalization  (None, None, None,   384        ['block2a_dwconv[0][0]']         \n",
            " )                              96)                                                               \n",
            "                                                                                                  \n",
            " block2a_activation (Activation  (None, None, None,   0          ['block2a_bn[0][0]']             \n",
            " )                              96)                                                               \n",
            "                                                                                                  \n",
            " block2a_se_squeeze (GlobalAver  (None, 96)          0           ['block2a_activation[0][0]']     \n",
            " agePooling2D)                                                                                    \n",
            "                                                                                                  \n",
            " block2a_se_reshape (Reshape)   (None, 1, 1, 96)     0           ['block2a_se_squeeze[0][0]']     \n",
            "                                                                                                  \n",
            " block2a_se_reduce (Conv2D)     (None, 1, 1, 4)      388         ['block2a_se_reshape[0][0]']     \n",
            "                                                                                                  \n",
            " block2a_se_expand (Conv2D)     (None, 1, 1, 96)     480         ['block2a_se_reduce[0][0]']      \n",
            "                                                                                                  \n",
            " block2a_se_excite (Multiply)   (None, None, None,   0           ['block2a_activation[0][0]',     \n",
            "                                96)                               'block2a_se_expand[0][0]']      \n",
            "                                                                                                  \n",
            " block2a_project_conv (Conv2D)  (None, None, None,   2304        ['block2a_se_excite[0][0]']      \n",
            "                                24)                                                               \n",
            "                                                                                                  \n",
            " block2a_project_bn (BatchNorma  (None, None, None,   96         ['block2a_project_conv[0][0]']   \n",
            " lization)                      24)                                                               \n",
            "                                                                                                  \n",
            " block2b_expand_conv (Conv2D)   (None, None, None,   3456        ['block2a_project_bn[0][0]']     \n",
            "                                144)                                                              \n",
            "                                                                                                  \n",
            " block2b_expand_bn (BatchNormal  (None, None, None,   576        ['block2b_expand_conv[0][0]']    \n",
            " ization)                       144)                                                              \n",
            "                                                                                                  \n",
            " block2b_expand_activation (Act  (None, None, None,   0          ['block2b_expand_bn[0][0]']      \n",
            " ivation)                       144)                                                              \n",
            "                                                                                                  \n",
            " block2b_dwconv (DepthwiseConv2  (None, None, None,   1296       ['block2b_expand_activation[0][0]\n",
            " D)                             144)                             ']                               \n",
            "                                                                                                  \n",
            " block2b_bn (BatchNormalization  (None, None, None,   576        ['block2b_dwconv[0][0]']         \n",
            " )                              144)                                                              \n",
            "                                                                                                  \n",
            " block2b_activation (Activation  (None, None, None,   0          ['block2b_bn[0][0]']             \n",
            " )                              144)                                                              \n",
            "                                                                                                  \n",
            " block2b_se_squeeze (GlobalAver  (None, 144)         0           ['block2b_activation[0][0]']     \n",
            " agePooling2D)                                                                                    \n",
            "                                                                                                  \n",
            " block2b_se_reshape (Reshape)   (None, 1, 1, 144)    0           ['block2b_se_squeeze[0][0]']     \n",
            "                                                                                                  \n",
            " block2b_se_reduce (Conv2D)     (None, 1, 1, 6)      870         ['block2b_se_reshape[0][0]']     \n",
            "                                                                                                  \n",
            " block2b_se_expand (Conv2D)     (None, 1, 1, 144)    1008        ['block2b_se_reduce[0][0]']      \n",
            "                                                                                                  \n",
            " block2b_se_excite (Multiply)   (None, None, None,   0           ['block2b_activation[0][0]',     \n",
            "                                144)                              'block2b_se_expand[0][0]']      \n",
            "                                                                                                  \n",
            " block2b_project_conv (Conv2D)  (None, None, None,   3456        ['block2b_se_excite[0][0]']      \n",
            "                                24)                                                               \n",
            "                                                                                                  \n",
            " block2b_project_bn (BatchNorma  (None, None, None,   96         ['block2b_project_conv[0][0]']   \n",
            " lization)                      24)                                                               \n",
            "                                                                                                  \n",
            " block2b_drop (Dropout)         (None, None, None,   0           ['block2b_project_bn[0][0]']     \n",
            "                                24)                                                               \n",
            "                                                                                                  \n",
            " block2b_add (Add)              (None, None, None,   0           ['block2b_drop[0][0]',           \n",
            "                                24)                               'block2a_project_bn[0][0]']     \n",
            "                                                                                                  \n",
            " block3a_expand_conv (Conv2D)   (None, None, None,   3456        ['block2b_add[0][0]']            \n",
            "                                144)                                                              \n",
            "                                                                                                  \n",
            " block3a_expand_bn (BatchNormal  (None, None, None,   576        ['block3a_expand_conv[0][0]']    \n",
            " ization)                       144)                                                              \n",
            "                                                                                                  \n",
            " block3a_expand_activation (Act  (None, None, None,   0          ['block3a_expand_bn[0][0]']      \n",
            " ivation)                       144)                                                              \n",
            "                                                                                                  \n",
            " block3a_dwconv_pad (ZeroPaddin  (None, None, None,   0          ['block3a_expand_activation[0][0]\n",
            " g2D)                           144)                             ']                               \n",
            "                                                                                                  \n",
            " block3a_dwconv (DepthwiseConv2  (None, None, None,   3600       ['block3a_dwconv_pad[0][0]']     \n",
            " D)                             144)                                                              \n",
            "                                                                                                  \n",
            " block3a_bn (BatchNormalization  (None, None, None,   576        ['block3a_dwconv[0][0]']         \n",
            " )                              144)                                                              \n",
            "                                                                                                  \n",
            " block3a_activation (Activation  (None, None, None,   0          ['block3a_bn[0][0]']             \n",
            " )                              144)                                                              \n",
            "                                                                                                  \n",
            " block3a_se_squeeze (GlobalAver  (None, 144)         0           ['block3a_activation[0][0]']     \n",
            " agePooling2D)                                                                                    \n",
            "                                                                                                  \n",
            " block3a_se_reshape (Reshape)   (None, 1, 1, 144)    0           ['block3a_se_squeeze[0][0]']     \n",
            "                                                                                                  \n",
            " block3a_se_reduce (Conv2D)     (None, 1, 1, 6)      870         ['block3a_se_reshape[0][0]']     \n",
            "                                                                                                  \n",
            " block3a_se_expand (Conv2D)     (None, 1, 1, 144)    1008        ['block3a_se_reduce[0][0]']      \n",
            "                                                                                                  \n",
            " block3a_se_excite (Multiply)   (None, None, None,   0           ['block3a_activation[0][0]',     \n",
            "                                144)                              'block3a_se_expand[0][0]']      \n",
            "                                                                                                  \n",
            " block3a_project_conv (Conv2D)  (None, None, None,   5760        ['block3a_se_excite[0][0]']      \n",
            "                                40)                                                               \n",
            "                                                                                                  \n",
            " block3a_project_bn (BatchNorma  (None, None, None,   160        ['block3a_project_conv[0][0]']   \n",
            " lization)                      40)                                                               \n",
            "                                                                                                  \n",
            " block3b_expand_conv (Conv2D)   (None, None, None,   9600        ['block3a_project_bn[0][0]']     \n",
            "                                240)                                                              \n",
            "                                                                                                  \n",
            " block3b_expand_bn (BatchNormal  (None, None, None,   960        ['block3b_expand_conv[0][0]']    \n",
            " ization)                       240)                                                              \n",
            "                                                                                                  \n",
            " block3b_expand_activation (Act  (None, None, None,   0          ['block3b_expand_bn[0][0]']      \n",
            " ivation)                       240)                                                              \n",
            "                                                                                                  \n",
            " block3b_dwconv (DepthwiseConv2  (None, None, None,   6000       ['block3b_expand_activation[0][0]\n",
            " D)                             240)                             ']                               \n",
            "                                                                                                  \n",
            " block3b_bn (BatchNormalization  (None, None, None,   960        ['block3b_dwconv[0][0]']         \n",
            " )                              240)                                                              \n",
            "                                                                                                  \n",
            " block3b_activation (Activation  (None, None, None,   0          ['block3b_bn[0][0]']             \n",
            " )                              240)                                                              \n",
            "                                                                                                  \n",
            " block3b_se_squeeze (GlobalAver  (None, 240)         0           ['block3b_activation[0][0]']     \n",
            " agePooling2D)                                                                                    \n",
            "                                                                                                  \n",
            " block3b_se_reshape (Reshape)   (None, 1, 1, 240)    0           ['block3b_se_squeeze[0][0]']     \n",
            "                                                                                                  \n",
            " block3b_se_reduce (Conv2D)     (None, 1, 1, 10)     2410        ['block3b_se_reshape[0][0]']     \n",
            "                                                                                                  \n",
            " block3b_se_expand (Conv2D)     (None, 1, 1, 240)    2640        ['block3b_se_reduce[0][0]']      \n",
            "                                                                                                  \n",
            " block3b_se_excite (Multiply)   (None, None, None,   0           ['block3b_activation[0][0]',     \n",
            "                                240)                              'block3b_se_expand[0][0]']      \n",
            "                                                                                                  \n",
            " block3b_project_conv (Conv2D)  (None, None, None,   9600        ['block3b_se_excite[0][0]']      \n",
            "                                40)                                                               \n",
            "                                                                                                  \n",
            " block3b_project_bn (BatchNorma  (None, None, None,   160        ['block3b_project_conv[0][0]']   \n",
            " lization)                      40)                                                               \n",
            "                                                                                                  \n",
            " block3b_drop (Dropout)         (None, None, None,   0           ['block3b_project_bn[0][0]']     \n",
            "                                40)                                                               \n",
            "                                                                                                  \n",
            " block3b_add (Add)              (None, None, None,   0           ['block3b_drop[0][0]',           \n",
            "                                40)                               'block3a_project_bn[0][0]']     \n",
            "                                                                                                  \n",
            " block4a_expand_conv (Conv2D)   (None, None, None,   9600        ['block3b_add[0][0]']            \n",
            "                                240)                                                              \n",
            "                                                                                                  \n",
            " block4a_expand_bn (BatchNormal  (None, None, None,   960        ['block4a_expand_conv[0][0]']    \n",
            " ization)                       240)                                                              \n",
            "                                                                                                  \n",
            " block4a_expand_activation (Act  (None, None, None,   0          ['block4a_expand_bn[0][0]']      \n",
            " ivation)                       240)                                                              \n",
            "                                                                                                  \n",
            " block4a_dwconv_pad (ZeroPaddin  (None, None, None,   0          ['block4a_expand_activation[0][0]\n",
            " g2D)                           240)                             ']                               \n",
            "                                                                                                  \n",
            " block4a_dwconv (DepthwiseConv2  (None, None, None,   2160       ['block4a_dwconv_pad[0][0]']     \n",
            " D)                             240)                                                              \n",
            "                                                                                                  \n",
            " block4a_bn (BatchNormalization  (None, None, None,   960        ['block4a_dwconv[0][0]']         \n",
            " )                              240)                                                              \n",
            "                                                                                                  \n",
            " block4a_activation (Activation  (None, None, None,   0          ['block4a_bn[0][0]']             \n",
            " )                              240)                                                              \n",
            "                                                                                                  \n",
            " block4a_se_squeeze (GlobalAver  (None, 240)         0           ['block4a_activation[0][0]']     \n",
            " agePooling2D)                                                                                    \n",
            "                                                                                                  \n",
            " block4a_se_reshape (Reshape)   (None, 1, 1, 240)    0           ['block4a_se_squeeze[0][0]']     \n",
            "                                                                                                  \n",
            " block4a_se_reduce (Conv2D)     (None, 1, 1, 10)     2410        ['block4a_se_reshape[0][0]']     \n",
            "                                                                                                  \n",
            " block4a_se_expand (Conv2D)     (None, 1, 1, 240)    2640        ['block4a_se_reduce[0][0]']      \n",
            "                                                                                                  \n",
            " block4a_se_excite (Multiply)   (None, None, None,   0           ['block4a_activation[0][0]',     \n",
            "                                240)                              'block4a_se_expand[0][0]']      \n",
            "                                                                                                  \n",
            " block4a_project_conv (Conv2D)  (None, None, None,   19200       ['block4a_se_excite[0][0]']      \n",
            "                                80)                                                               \n",
            "                                                                                                  \n",
            " block4a_project_bn (BatchNorma  (None, None, None,   320        ['block4a_project_conv[0][0]']   \n",
            " lization)                      80)                                                               \n",
            "                                                                                                  \n",
            " block4b_expand_conv (Conv2D)   (None, None, None,   38400       ['block4a_project_bn[0][0]']     \n",
            "                                480)                                                              \n",
            "                                                                                                  \n",
            " block4b_expand_bn (BatchNormal  (None, None, None,   1920       ['block4b_expand_conv[0][0]']    \n",
            " ization)                       480)                                                              \n",
            "                                                                                                  \n",
            " block4b_expand_activation (Act  (None, None, None,   0          ['block4b_expand_bn[0][0]']      \n",
            " ivation)                       480)                                                              \n",
            "                                                                                                  \n",
            " block4b_dwconv (DepthwiseConv2  (None, None, None,   4320       ['block4b_expand_activation[0][0]\n",
            " D)                             480)                             ']                               \n",
            "                                                                                                  \n",
            " block4b_bn (BatchNormalization  (None, None, None,   1920       ['block4b_dwconv[0][0]']         \n",
            " )                              480)                                                              \n",
            "                                                                                                  \n",
            " block4b_activation (Activation  (None, None, None,   0          ['block4b_bn[0][0]']             \n",
            " )                              480)                                                              \n",
            "                                                                                                  \n",
            " block4b_se_squeeze (GlobalAver  (None, 480)         0           ['block4b_activation[0][0]']     \n",
            " agePooling2D)                                                                                    \n",
            "                                                                                                  \n",
            " block4b_se_reshape (Reshape)   (None, 1, 1, 480)    0           ['block4b_se_squeeze[0][0]']     \n",
            "                                                                                                  \n",
            " block4b_se_reduce (Conv2D)     (None, 1, 1, 20)     9620        ['block4b_se_reshape[0][0]']     \n",
            "                                                                                                  \n",
            " block4b_se_expand (Conv2D)     (None, 1, 1, 480)    10080       ['block4b_se_reduce[0][0]']      \n",
            "                                                                                                  \n",
            " block4b_se_excite (Multiply)   (None, None, None,   0           ['block4b_activation[0][0]',     \n",
            "                                480)                              'block4b_se_expand[0][0]']      \n",
            "                                                                                                  \n",
            " block4b_project_conv (Conv2D)  (None, None, None,   38400       ['block4b_se_excite[0][0]']      \n",
            "                                80)                                                               \n",
            "                                                                                                  \n",
            " block4b_project_bn (BatchNorma  (None, None, None,   320        ['block4b_project_conv[0][0]']   \n",
            " lization)                      80)                                                               \n",
            "                                                                                                  \n",
            " block4b_drop (Dropout)         (None, None, None,   0           ['block4b_project_bn[0][0]']     \n",
            "                                80)                                                               \n",
            "                                                                                                  \n",
            " block4b_add (Add)              (None, None, None,   0           ['block4b_drop[0][0]',           \n",
            "                                80)                               'block4a_project_bn[0][0]']     \n",
            "                                                                                                  \n",
            " block4c_expand_conv (Conv2D)   (None, None, None,   38400       ['block4b_add[0][0]']            \n",
            "                                480)                                                              \n",
            "                                                                                                  \n",
            " block4c_expand_bn (BatchNormal  (None, None, None,   1920       ['block4c_expand_conv[0][0]']    \n",
            " ization)                       480)                                                              \n",
            "                                                                                                  \n",
            " block4c_expand_activation (Act  (None, None, None,   0          ['block4c_expand_bn[0][0]']      \n",
            " ivation)                       480)                                                              \n",
            "                                                                                                  \n",
            " block4c_dwconv (DepthwiseConv2  (None, None, None,   4320       ['block4c_expand_activation[0][0]\n",
            " D)                             480)                             ']                               \n",
            "                                                                                                  \n",
            " block4c_bn (BatchNormalization  (None, None, None,   1920       ['block4c_dwconv[0][0]']         \n",
            " )                              480)                                                              \n",
            "                                                                                                  \n",
            " block4c_activation (Activation  (None, None, None,   0          ['block4c_bn[0][0]']             \n",
            " )                              480)                                                              \n",
            "                                                                                                  \n",
            " block4c_se_squeeze (GlobalAver  (None, 480)         0           ['block4c_activation[0][0]']     \n",
            " agePooling2D)                                                                                    \n",
            "                                                                                                  \n",
            " block4c_se_reshape (Reshape)   (None, 1, 1, 480)    0           ['block4c_se_squeeze[0][0]']     \n",
            "                                                                                                  \n",
            " block4c_se_reduce (Conv2D)     (None, 1, 1, 20)     9620        ['block4c_se_reshape[0][0]']     \n",
            "                                                                                                  \n",
            " block4c_se_expand (Conv2D)     (None, 1, 1, 480)    10080       ['block4c_se_reduce[0][0]']      \n",
            "                                                                                                  \n",
            " block4c_se_excite (Multiply)   (None, None, None,   0           ['block4c_activation[0][0]',     \n",
            "                                480)                              'block4c_se_expand[0][0]']      \n",
            "                                                                                                  \n",
            " block4c_project_conv (Conv2D)  (None, None, None,   38400       ['block4c_se_excite[0][0]']      \n",
            "                                80)                                                               \n",
            "                                                                                                  \n",
            " block4c_project_bn (BatchNorma  (None, None, None,   320        ['block4c_project_conv[0][0]']   \n",
            " lization)                      80)                                                               \n",
            "                                                                                                  \n",
            " block4c_drop (Dropout)         (None, None, None,   0           ['block4c_project_bn[0][0]']     \n",
            "                                80)                                                               \n",
            "                                                                                                  \n",
            " block4c_add (Add)              (None, None, None,   0           ['block4c_drop[0][0]',           \n",
            "                                80)                               'block4b_add[0][0]']            \n",
            "                                                                                                  \n",
            " block5a_expand_conv (Conv2D)   (None, None, None,   38400       ['block4c_add[0][0]']            \n",
            "                                480)                                                              \n",
            "                                                                                                  \n",
            " block5a_expand_bn (BatchNormal  (None, None, None,   1920       ['block5a_expand_conv[0][0]']    \n",
            " ization)                       480)                                                              \n",
            "                                                                                                  \n",
            " block5a_expand_activation (Act  (None, None, None,   0          ['block5a_expand_bn[0][0]']      \n",
            " ivation)                       480)                                                              \n",
            "                                                                                                  \n",
            " block5a_dwconv (DepthwiseConv2  (None, None, None,   12000      ['block5a_expand_activation[0][0]\n",
            " D)                             480)                             ']                               \n",
            "                                                                                                  \n",
            " block5a_bn (BatchNormalization  (None, None, None,   1920       ['block5a_dwconv[0][0]']         \n",
            " )                              480)                                                              \n",
            "                                                                                                  \n",
            " block5a_activation (Activation  (None, None, None,   0          ['block5a_bn[0][0]']             \n",
            " )                              480)                                                              \n",
            "                                                                                                  \n",
            " block5a_se_squeeze (GlobalAver  (None, 480)         0           ['block5a_activation[0][0]']     \n",
            " agePooling2D)                                                                                    \n",
            "                                                                                                  \n",
            " block5a_se_reshape (Reshape)   (None, 1, 1, 480)    0           ['block5a_se_squeeze[0][0]']     \n",
            "                                                                                                  \n",
            " block5a_se_reduce (Conv2D)     (None, 1, 1, 20)     9620        ['block5a_se_reshape[0][0]']     \n",
            "                                                                                                  \n",
            " block5a_se_expand (Conv2D)     (None, 1, 1, 480)    10080       ['block5a_se_reduce[0][0]']      \n",
            "                                                                                                  \n",
            " block5a_se_excite (Multiply)   (None, None, None,   0           ['block5a_activation[0][0]',     \n",
            "                                480)                              'block5a_se_expand[0][0]']      \n",
            "                                                                                                  \n",
            " block5a_project_conv (Conv2D)  (None, None, None,   53760       ['block5a_se_excite[0][0]']      \n",
            "                                112)                                                              \n",
            "                                                                                                  \n",
            " block5a_project_bn (BatchNorma  (None, None, None,   448        ['block5a_project_conv[0][0]']   \n",
            " lization)                      112)                                                              \n",
            "                                                                                                  \n",
            " block5b_expand_conv (Conv2D)   (None, None, None,   75264       ['block5a_project_bn[0][0]']     \n",
            "                                672)                                                              \n",
            "                                                                                                  \n",
            " block5b_expand_bn (BatchNormal  (None, None, None,   2688       ['block5b_expand_conv[0][0]']    \n",
            " ization)                       672)                                                              \n",
            "                                                                                                  \n",
            " block5b_expand_activation (Act  (None, None, None,   0          ['block5b_expand_bn[0][0]']      \n",
            " ivation)                       672)                                                              \n",
            "                                                                                                  \n",
            " block5b_dwconv (DepthwiseConv2  (None, None, None,   16800      ['block5b_expand_activation[0][0]\n",
            " D)                             672)                             ']                               \n",
            "                                                                                                  \n",
            " block5b_bn (BatchNormalization  (None, None, None,   2688       ['block5b_dwconv[0][0]']         \n",
            " )                              672)                                                              \n",
            "                                                                                                  \n",
            " block5b_activation (Activation  (None, None, None,   0          ['block5b_bn[0][0]']             \n",
            " )                              672)                                                              \n",
            "                                                                                                  \n",
            " block5b_se_squeeze (GlobalAver  (None, 672)         0           ['block5b_activation[0][0]']     \n",
            " agePooling2D)                                                                                    \n",
            "                                                                                                  \n",
            " block5b_se_reshape (Reshape)   (None, 1, 1, 672)    0           ['block5b_se_squeeze[0][0]']     \n",
            "                                                                                                  \n",
            " block5b_se_reduce (Conv2D)     (None, 1, 1, 28)     18844       ['block5b_se_reshape[0][0]']     \n",
            "                                                                                                  \n",
            " block5b_se_expand (Conv2D)     (None, 1, 1, 672)    19488       ['block5b_se_reduce[0][0]']      \n",
            "                                                                                                  \n",
            " block5b_se_excite (Multiply)   (None, None, None,   0           ['block5b_activation[0][0]',     \n",
            "                                672)                              'block5b_se_expand[0][0]']      \n",
            "                                                                                                  \n",
            " block5b_project_conv (Conv2D)  (None, None, None,   75264       ['block5b_se_excite[0][0]']      \n",
            "                                112)                                                              \n",
            "                                                                                                  \n",
            " block5b_project_bn (BatchNorma  (None, None, None,   448        ['block5b_project_conv[0][0]']   \n",
            " lization)                      112)                                                              \n",
            "                                                                                                  \n",
            " block5b_drop (Dropout)         (None, None, None,   0           ['block5b_project_bn[0][0]']     \n",
            "                                112)                                                              \n",
            "                                                                                                  \n",
            " block5b_add (Add)              (None, None, None,   0           ['block5b_drop[0][0]',           \n",
            "                                112)                              'block5a_project_bn[0][0]']     \n",
            "                                                                                                  \n",
            " block5c_expand_conv (Conv2D)   (None, None, None,   75264       ['block5b_add[0][0]']            \n",
            "                                672)                                                              \n",
            "                                                                                                  \n",
            " block5c_expand_bn (BatchNormal  (None, None, None,   2688       ['block5c_expand_conv[0][0]']    \n",
            " ization)                       672)                                                              \n",
            "                                                                                                  \n",
            " block5c_expand_activation (Act  (None, None, None,   0          ['block5c_expand_bn[0][0]']      \n",
            " ivation)                       672)                                                              \n",
            "                                                                                                  \n",
            " block5c_dwconv (DepthwiseConv2  (None, None, None,   16800      ['block5c_expand_activation[0][0]\n",
            " D)                             672)                             ']                               \n",
            "                                                                                                  \n",
            " block5c_bn (BatchNormalization  (None, None, None,   2688       ['block5c_dwconv[0][0]']         \n",
            " )                              672)                                                              \n",
            "                                                                                                  \n",
            " block5c_activation (Activation  (None, None, None,   0          ['block5c_bn[0][0]']             \n",
            " )                              672)                                                              \n",
            "                                                                                                  \n",
            " block5c_se_squeeze (GlobalAver  (None, 672)         0           ['block5c_activation[0][0]']     \n",
            " agePooling2D)                                                                                    \n",
            "                                                                                                  \n",
            " block5c_se_reshape (Reshape)   (None, 1, 1, 672)    0           ['block5c_se_squeeze[0][0]']     \n",
            "                                                                                                  \n",
            " block5c_se_reduce (Conv2D)     (None, 1, 1, 28)     18844       ['block5c_se_reshape[0][0]']     \n",
            "                                                                                                  \n",
            " block5c_se_expand (Conv2D)     (None, 1, 1, 672)    19488       ['block5c_se_reduce[0][0]']      \n",
            "                                                                                                  \n",
            " block5c_se_excite (Multiply)   (None, None, None,   0           ['block5c_activation[0][0]',     \n",
            "                                672)                              'block5c_se_expand[0][0]']      \n",
            "                                                                                                  \n",
            " block5c_project_conv (Conv2D)  (None, None, None,   75264       ['block5c_se_excite[0][0]']      \n",
            "                                112)                                                              \n",
            "                                                                                                  \n",
            " block5c_project_bn (BatchNorma  (None, None, None,   448        ['block5c_project_conv[0][0]']   \n",
            " lization)                      112)                                                              \n",
            "                                                                                                  \n",
            " block5c_drop (Dropout)         (None, None, None,   0           ['block5c_project_bn[0][0]']     \n",
            "                                112)                                                              \n",
            "                                                                                                  \n",
            " block5c_add (Add)              (None, None, None,   0           ['block5c_drop[0][0]',           \n",
            "                                112)                              'block5b_add[0][0]']            \n",
            "                                                                                                  \n",
            " block6a_expand_conv (Conv2D)   (None, None, None,   75264       ['block5c_add[0][0]']            \n",
            "                                672)                                                              \n",
            "                                                                                                  \n",
            " block6a_expand_bn (BatchNormal  (None, None, None,   2688       ['block6a_expand_conv[0][0]']    \n",
            " ization)                       672)                                                              \n",
            "                                                                                                  \n",
            " block6a_expand_activation (Act  (None, None, None,   0          ['block6a_expand_bn[0][0]']      \n",
            " ivation)                       672)                                                              \n",
            "                                                                                                  \n",
            " block6a_dwconv_pad (ZeroPaddin  (None, None, None,   0          ['block6a_expand_activation[0][0]\n",
            " g2D)                           672)                             ']                               \n",
            "                                                                                                  \n",
            " block6a_dwconv (DepthwiseConv2  (None, None, None,   16800      ['block6a_dwconv_pad[0][0]']     \n",
            " D)                             672)                                                              \n",
            "                                                                                                  \n",
            " block6a_bn (BatchNormalization  (None, None, None,   2688       ['block6a_dwconv[0][0]']         \n",
            " )                              672)                                                              \n",
            "                                                                                                  \n",
            " block6a_activation (Activation  (None, None, None,   0          ['block6a_bn[0][0]']             \n",
            " )                              672)                                                              \n",
            "                                                                                                  \n",
            " block6a_se_squeeze (GlobalAver  (None, 672)         0           ['block6a_activation[0][0]']     \n",
            " agePooling2D)                                                                                    \n",
            "                                                                                                  \n",
            " block6a_se_reshape (Reshape)   (None, 1, 1, 672)    0           ['block6a_se_squeeze[0][0]']     \n",
            "                                                                                                  \n",
            " block6a_se_reduce (Conv2D)     (None, 1, 1, 28)     18844       ['block6a_se_reshape[0][0]']     \n",
            "                                                                                                  \n",
            " block6a_se_expand (Conv2D)     (None, 1, 1, 672)    19488       ['block6a_se_reduce[0][0]']      \n",
            "                                                                                                  \n",
            " block6a_se_excite (Multiply)   (None, None, None,   0           ['block6a_activation[0][0]',     \n",
            "                                672)                              'block6a_se_expand[0][0]']      \n",
            "                                                                                                  \n",
            " block6a_project_conv (Conv2D)  (None, None, None,   129024      ['block6a_se_excite[0][0]']      \n",
            "                                192)                                                              \n",
            "                                                                                                  \n",
            " block6a_project_bn (BatchNorma  (None, None, None,   768        ['block6a_project_conv[0][0]']   \n",
            " lization)                      192)                                                              \n",
            "                                                                                                  \n",
            " block6b_expand_conv (Conv2D)   (None, None, None,   221184      ['block6a_project_bn[0][0]']     \n",
            "                                1152)                                                             \n",
            "                                                                                                  \n",
            " block6b_expand_bn (BatchNormal  (None, None, None,   4608       ['block6b_expand_conv[0][0]']    \n",
            " ization)                       1152)                                                             \n",
            "                                                                                                  \n",
            " block6b_expand_activation (Act  (None, None, None,   0          ['block6b_expand_bn[0][0]']      \n",
            " ivation)                       1152)                                                             \n",
            "                                                                                                  \n",
            " block6b_dwconv (DepthwiseConv2  (None, None, None,   28800      ['block6b_expand_activation[0][0]\n",
            " D)                             1152)                            ']                               \n",
            "                                                                                                  \n",
            " block6b_bn (BatchNormalization  (None, None, None,   4608       ['block6b_dwconv[0][0]']         \n",
            " )                              1152)                                                             \n",
            "                                                                                                  \n",
            " block6b_activation (Activation  (None, None, None,   0          ['block6b_bn[0][0]']             \n",
            " )                              1152)                                                             \n",
            "                                                                                                  \n",
            " block6b_se_squeeze (GlobalAver  (None, 1152)        0           ['block6b_activation[0][0]']     \n",
            " agePooling2D)                                                                                    \n",
            "                                                                                                  \n",
            " block6b_se_reshape (Reshape)   (None, 1, 1, 1152)   0           ['block6b_se_squeeze[0][0]']     \n",
            "                                                                                                  \n",
            " block6b_se_reduce (Conv2D)     (None, 1, 1, 48)     55344       ['block6b_se_reshape[0][0]']     \n",
            "                                                                                                  \n",
            " block6b_se_expand (Conv2D)     (None, 1, 1, 1152)   56448       ['block6b_se_reduce[0][0]']      \n",
            "                                                                                                  \n",
            " block6b_se_excite (Multiply)   (None, None, None,   0           ['block6b_activation[0][0]',     \n",
            "                                1152)                             'block6b_se_expand[0][0]']      \n",
            "                                                                                                  \n",
            " block6b_project_conv (Conv2D)  (None, None, None,   221184      ['block6b_se_excite[0][0]']      \n",
            "                                192)                                                              \n",
            "                                                                                                  \n",
            " block6b_project_bn (BatchNorma  (None, None, None,   768        ['block6b_project_conv[0][0]']   \n",
            " lization)                      192)                                                              \n",
            "                                                                                                  \n",
            " block6b_drop (Dropout)         (None, None, None,   0           ['block6b_project_bn[0][0]']     \n",
            "                                192)                                                              \n",
            "                                                                                                  \n",
            " block6b_add (Add)              (None, None, None,   0           ['block6b_drop[0][0]',           \n",
            "                                192)                              'block6a_project_bn[0][0]']     \n",
            "                                                                                                  \n",
            " block6c_expand_conv (Conv2D)   (None, None, None,   221184      ['block6b_add[0][0]']            \n",
            "                                1152)                                                             \n",
            "                                                                                                  \n",
            " block6c_expand_bn (BatchNormal  (None, None, None,   4608       ['block6c_expand_conv[0][0]']    \n",
            " ization)                       1152)                                                             \n",
            "                                                                                                  \n",
            " block6c_expand_activation (Act  (None, None, None,   0          ['block6c_expand_bn[0][0]']      \n",
            " ivation)                       1152)                                                             \n",
            "                                                                                                  \n",
            " block6c_dwconv (DepthwiseConv2  (None, None, None,   28800      ['block6c_expand_activation[0][0]\n",
            " D)                             1152)                            ']                               \n",
            "                                                                                                  \n",
            " block6c_bn (BatchNormalization  (None, None, None,   4608       ['block6c_dwconv[0][0]']         \n",
            " )                              1152)                                                             \n",
            "                                                                                                  \n",
            " block6c_activation (Activation  (None, None, None,   0          ['block6c_bn[0][0]']             \n",
            " )                              1152)                                                             \n",
            "                                                                                                  \n",
            " block6c_se_squeeze (GlobalAver  (None, 1152)        0           ['block6c_activation[0][0]']     \n",
            " agePooling2D)                                                                                    \n",
            "                                                                                                  \n",
            " block6c_se_reshape (Reshape)   (None, 1, 1, 1152)   0           ['block6c_se_squeeze[0][0]']     \n",
            "                                                                                                  \n",
            " block6c_se_reduce (Conv2D)     (None, 1, 1, 48)     55344       ['block6c_se_reshape[0][0]']     \n",
            "                                                                                                  \n",
            " block6c_se_expand (Conv2D)     (None, 1, 1, 1152)   56448       ['block6c_se_reduce[0][0]']      \n",
            "                                                                                                  \n",
            " block6c_se_excite (Multiply)   (None, None, None,   0           ['block6c_activation[0][0]',     \n",
            "                                1152)                             'block6c_se_expand[0][0]']      \n",
            "                                                                                                  \n",
            " block6c_project_conv (Conv2D)  (None, None, None,   221184      ['block6c_se_excite[0][0]']      \n",
            "                                192)                                                              \n",
            "                                                                                                  \n",
            " block6c_project_bn (BatchNorma  (None, None, None,   768        ['block6c_project_conv[0][0]']   \n",
            " lization)                      192)                                                              \n",
            "                                                                                                  \n",
            " block6c_drop (Dropout)         (None, None, None,   0           ['block6c_project_bn[0][0]']     \n",
            "                                192)                                                              \n",
            "                                                                                                  \n",
            " block6c_add (Add)              (None, None, None,   0           ['block6c_drop[0][0]',           \n",
            "                                192)                              'block6b_add[0][0]']            \n",
            "                                                                                                  \n",
            " block6d_expand_conv (Conv2D)   (None, None, None,   221184      ['block6c_add[0][0]']            \n",
            "                                1152)                                                             \n",
            "                                                                                                  \n",
            " block6d_expand_bn (BatchNormal  (None, None, None,   4608       ['block6d_expand_conv[0][0]']    \n",
            " ization)                       1152)                                                             \n",
            "                                                                                                  \n",
            " block6d_expand_activation (Act  (None, None, None,   0          ['block6d_expand_bn[0][0]']      \n",
            " ivation)                       1152)                                                             \n",
            "                                                                                                  \n",
            " block6d_dwconv (DepthwiseConv2  (None, None, None,   28800      ['block6d_expand_activation[0][0]\n",
            " D)                             1152)                            ']                               \n",
            "                                                                                                  \n",
            " block6d_bn (BatchNormalization  (None, None, None,   4608       ['block6d_dwconv[0][0]']         \n",
            " )                              1152)                                                             \n",
            "                                                                                                  \n",
            " block6d_activation (Activation  (None, None, None,   0          ['block6d_bn[0][0]']             \n",
            " )                              1152)                                                             \n",
            "                                                                                                  \n",
            " block6d_se_squeeze (GlobalAver  (None, 1152)        0           ['block6d_activation[0][0]']     \n",
            " agePooling2D)                                                                                    \n",
            "                                                                                                  \n",
            " block6d_se_reshape (Reshape)   (None, 1, 1, 1152)   0           ['block6d_se_squeeze[0][0]']     \n",
            "                                                                                                  \n",
            " block6d_se_reduce (Conv2D)     (None, 1, 1, 48)     55344       ['block6d_se_reshape[0][0]']     \n",
            "                                                                                                  \n",
            " block6d_se_expand (Conv2D)     (None, 1, 1, 1152)   56448       ['block6d_se_reduce[0][0]']      \n",
            "                                                                                                  \n",
            " block6d_se_excite (Multiply)   (None, None, None,   0           ['block6d_activation[0][0]',     \n",
            "                                1152)                             'block6d_se_expand[0][0]']      \n",
            "                                                                                                  \n",
            " block6d_project_conv (Conv2D)  (None, None, None,   221184      ['block6d_se_excite[0][0]']      \n",
            "                                192)                                                              \n",
            "                                                                                                  \n",
            " block6d_project_bn (BatchNorma  (None, None, None,   768        ['block6d_project_conv[0][0]']   \n",
            " lization)                      192)                                                              \n",
            "                                                                                                  \n",
            " block6d_drop (Dropout)         (None, None, None,   0           ['block6d_project_bn[0][0]']     \n",
            "                                192)                                                              \n",
            "                                                                                                  \n",
            " block6d_add (Add)              (None, None, None,   0           ['block6d_drop[0][0]',           \n",
            "                                192)                              'block6c_add[0][0]']            \n",
            "                                                                                                  \n",
            " block7a_expand_conv (Conv2D)   (None, None, None,   221184      ['block6d_add[0][0]']            \n",
            "                                1152)                                                             \n",
            "                                                                                                  \n",
            " block7a_expand_bn (BatchNormal  (None, None, None,   4608       ['block7a_expand_conv[0][0]']    \n",
            " ization)                       1152)                                                             \n",
            "                                                                                                  \n",
            " block7a_expand_activation (Act  (None, None, None,   0          ['block7a_expand_bn[0][0]']      \n",
            " ivation)                       1152)                                                             \n",
            "                                                                                                  \n",
            " block7a_dwconv (DepthwiseConv2  (None, None, None,   10368      ['block7a_expand_activation[0][0]\n",
            " D)                             1152)                            ']                               \n",
            "                                                                                                  \n",
            " block7a_bn (BatchNormalization  (None, None, None,   4608       ['block7a_dwconv[0][0]']         \n",
            " )                              1152)                                                             \n",
            "                                                                                                  \n",
            " block7a_activation (Activation  (None, None, None,   0          ['block7a_bn[0][0]']             \n",
            " )                              1152)                                                             \n",
            "                                                                                                  \n",
            " block7a_se_squeeze (GlobalAver  (None, 1152)        0           ['block7a_activation[0][0]']     \n",
            " agePooling2D)                                                                                    \n",
            "                                                                                                  \n",
            " block7a_se_reshape (Reshape)   (None, 1, 1, 1152)   0           ['block7a_se_squeeze[0][0]']     \n",
            "                                                                                                  \n",
            " block7a_se_reduce (Conv2D)     (None, 1, 1, 48)     55344       ['block7a_se_reshape[0][0]']     \n",
            "                                                                                                  \n",
            " block7a_se_expand (Conv2D)     (None, 1, 1, 1152)   56448       ['block7a_se_reduce[0][0]']      \n",
            "                                                                                                  \n",
            " block7a_se_excite (Multiply)   (None, None, None,   0           ['block7a_activation[0][0]',     \n",
            "                                1152)                             'block7a_se_expand[0][0]']      \n",
            "                                                                                                  \n",
            " block7a_project_conv (Conv2D)  (None, None, None,   368640      ['block7a_se_excite[0][0]']      \n",
            "                                320)                                                              \n",
            "                                                                                                  \n",
            " block7a_project_bn (BatchNorma  (None, None, None,   1280       ['block7a_project_conv[0][0]']   \n",
            " lization)                      320)                                                              \n",
            "                                                                                                  \n",
            " top_conv (Conv2D)              (None, None, None,   409600      ['block7a_project_bn[0][0]']     \n",
            "                                1280)                                                             \n",
            "                                                                                                  \n",
            " top_bn (BatchNormalization)    (None, None, None,   5120        ['top_conv[0][0]']               \n",
            "                                1280)                                                             \n",
            "                                                                                                  \n",
            " top_activation (Activation)    (None, None, None,   0           ['top_bn[0][0]']                 \n",
            "                                1280)                                                             \n",
            "                                                                                                  \n",
            "==================================================================================================\n",
            "Total params: 4,049,571\n",
            "Trainable params: 0\n",
            "Non-trainable params: 4,049,571\n",
            "__________________________________________________________________________________________________\n"
          ]
        }
      ]
    },
    {
      "cell_type": "code",
      "source": [
        "# Summary Of Our Own Model\n",
        "\n",
        "model_0.summary()"
      ],
      "metadata": {
        "colab": {
          "base_uri": "https://localhost:8080/"
        },
        "id": "BLDAF2X_sbCw",
        "outputId": "e8eee894-a3a7-45f6-ca06-cc5c3ca04c30"
      },
      "execution_count": 16,
      "outputs": [
        {
          "output_type": "stream",
          "name": "stdout",
          "text": [
            "Model: \"model\"\n",
            "_________________________________________________________________\n",
            " Layer (type)                Output Shape              Param #   \n",
            "=================================================================\n",
            " input_layer (InputLayer)    [(None, 224, 224, 3)]     0         \n",
            "                                                                 \n",
            " efficientnetb0 (Functional)  (None, None, None, 1280)  4049571  \n",
            "                                                                 \n",
            " global_average_pooling_laye  (None, 1280)             0         \n",
            " r (GlobalAveragePooling2D)                                      \n",
            "                                                                 \n",
            " output_layer (Dense)        (None, 10)                12810     \n",
            "                                                                 \n",
            "=================================================================\n",
            "Total params: 4,062,381\n",
            "Trainable params: 12,810\n",
            "Non-trainable params: 4,049,571\n",
            "_________________________________________________________________\n"
          ]
        }
      ]
    },
    {
      "cell_type": "code",
      "source": [
        "# Check Out Model's Training Curves\n",
        "\n",
        "plot_loss_curves(history_10_percent)"
      ],
      "metadata": {
        "colab": {
          "base_uri": "https://localhost:8080/",
          "height": 573
        },
        "id": "Qj2WZFGhs04f",
        "outputId": "399cd4e3-071e-4411-a0d8-1dae81eacfa0"
      },
      "execution_count": 17,
      "outputs": [
        {
          "output_type": "display_data",
          "data": {
            "image/png": "[encoded data removed]",
            "text/plain": [
              "<Figure size 432x288 with 1 Axes>"
            ]
          },
          "metadata": {
            "needs_background": "light"
          }
        },
        {
          "output_type": "display_data",
          "data": {
            "image/png": "[encoded data removed]",
            "text/plain": [
              "<Figure size 432x288 with 1 Axes>"
            ]
          },
          "metadata": {
            "needs_background": "light"
          }
        }
      ]
    },
    {
      "cell_type": "markdown",
      "source": [
        "# **Getting Feature Vector From Trained Model**\n",
        "\n",
        "\n",
        "**lets Demonstrate Global Pooling 2D layers:**\n",
        "\n",
        "**We Replicate (none,7,7,1280) to (none,1280)**\n",
        "\n",
        "**Lets Use Similar Shaped of (1,4,4,3) and Pass it Global Average Pooling 2D**\n"
      ],
      "metadata": {
        "id": "YqtIF6UEtF9T"
      }
    },
    {
      "cell_type": "code",
      "source": [
        "# Define input tensor shape (same number of dimensions as the output of efficientnetb0)\n",
        "input_shape = (1, 4, 4, 3)\n",
        "\n",
        "# Create a random tensor\n",
        "tf.random.set_seed(42)\n",
        "input_tensor = tf.random.normal(input_shape)\n",
        "print(f\"Random input tensor:\\n {input_tensor}\\n\")\n",
        "\n",
        "# Pass the random tensor through a global average pooling 2D layer\n",
        "global_average_pooled_tensor = tf.keras.layers.GlobalAveragePooling2D()(input_tensor)\n",
        "print(f\"2D global average pooled random tensor:\\n {global_average_pooled_tensor}\\n\")\n",
        "\n",
        "# Check the shapes of the different tensors\n",
        "print(f\"Shape of input tensor: {input_tensor.shape}\")\n",
        "print(f\"Shape of 2D global averaged pooled input tensor: {global_average_pooled_tensor.shape}\")"
      ],
      "metadata": {
        "colab": {
          "base_uri": "https://localhost:8080/"
        },
        "id": "nJeJV2fAtnj-",
        "outputId": "234ce42a-ce51-4e15-ebdd-889a2f470c42"
      },
      "execution_count": 18,
      "outputs": [
        {
          "output_type": "stream",
          "name": "stdout",
          "text": [
            "Random input tensor:\n",
            " [[[[ 0.3274685  -0.8426258   0.3194337 ]\n",
            "   [-1.4075519  -2.3880599  -1.0392479 ]\n",
            "   [-0.5573232   0.539707    1.6994323 ]\n",
            "   [ 0.28893656 -1.5066116  -0.2645474 ]]\n",
            "\n",
            "  [[-0.59722406 -1.9171132  -0.62044144]\n",
            "   [ 0.8504023  -0.40604794 -3.0258412 ]\n",
            "   [ 0.9058464   0.29855987 -0.22561555]\n",
            "   [-0.7616443  -1.8917141  -0.93847126]]\n",
            "\n",
            "  [[ 0.77852213 -0.47338897  0.97772694]\n",
            "   [ 0.24694404  0.20573747 -0.5256233 ]\n",
            "   [ 0.32410017  0.02545409 -0.10638497]\n",
            "   [-0.6369475   1.1603122   0.2507359 ]]\n",
            "\n",
            "  [[-0.41728503  0.4012578  -1.4145443 ]\n",
            "   [-0.5931857  -1.6617213   0.33567193]\n",
            "   [ 0.10815629  0.23479682 -0.56668764]\n",
            "   [-0.35819843  0.88698614  0.52744764]]]]\n",
            "\n",
            "2D global average pooled random tensor:\n",
            " [[-0.09368646 -0.45840448 -0.2885598 ]]\n",
            "\n",
            "Shape of input tensor: (1, 4, 4, 3)\n",
            "Shape of 2D global averaged pooled input tensor: (1, 3)\n"
          ]
        }
      ]
    },
    {
      "cell_type": "code",
      "source": [
        "tf.reduce_mean(input_tensor, axis=[1, 2])"
      ],
      "metadata": {
        "colab": {
          "base_uri": "https://localhost:8080/"
        },
        "id": "NL0T4__guu7F",
        "outputId": "4a5a2c53-4a3a-4643-81be-46e132ce22b3"
      },
      "execution_count": 19,
      "outputs": [
        {
          "output_type": "execute_result",
          "data": {
            "text/plain": [
              "<tf.Tensor: shape=(1, 3), dtype=float32, numpy=array([[-0.09368646, -0.45840448, -0.2885598 ]], dtype=float32)>"
            ]
          },
          "metadata": {},
          "execution_count": 19
        }
      ]
    },
    {
      "cell_type": "markdown",
      "source": [
        "# **Drilling Into Concept Of Feature Vector**\n",
        "\n",
        "**Feature Vector is Learned Representation Of Input Data (Compressed from Input Data)**\n",
        "\n"
      ],
      "metadata": {
        "id": "fqL9DUqXvVGB"
      }
    },
    {
      "cell_type": "markdown",
      "source": [
        "# **Downloading & Preparing Data For Model 1**\n",
        "\n",
        "**Running A Series Of Transfer Learning Experiment**\n",
        "\n",
        "**Model-1 Using Feature Extraction Transfer Learning with 1% of Transfer of Training Data With Data Augmentation**\n",
        "\n",
        "**Note:Throughout All Experiment The Same Dataset Will be Used To evaluate Our Model**\n",
        "\n",
        "**Model-2 : Use Feature Extraction Transfer Learning With 10% of Training Data With Data Augmentation**\n",
        "\n",
        "**Model-3 : Use Fine Tuning Transfer Learning on 10% of Training Data With Data Augmentation**\n",
        "\n",
        "**Model-4 : Use Fine Tuning Transfer Learning with 100% Of Training Data**\n"
      ],
      "metadata": {
        "id": "1ETZtQCWvkzK"
      }
    },
    {
      "cell_type": "code",
      "source": [
        "# Download and unzip data\n",
        "!wget https://storage.googleapis.com/ztm_tf_course/food_vision/10_food_classes_1_percent.zip\n",
        "unzip_data(\"10_food_classes_1_percent.zip\")\n",
        "\n",
        "# Create training and test dirs\n",
        "train_dir_1_percent = \"10_food_classes_1_percent/train/\"\n",
        "test_dir = \"10_food_classes_1_percent/test/\""
      ],
      "metadata": {
        "colab": {
          "base_uri": "https://localhost:8080/"
        },
        "id": "y8ElLXWvvNJU",
        "outputId": "914e990a-18b3-4d1f-cc45-02731b1ab15a"
      },
      "execution_count": 20,
      "outputs": [
        {
          "output_type": "stream",
          "name": "stdout",
          "text": [
            "--2022-02-22 17:42:21--  https://storage.googleapis.com/ztm_tf_course/food_vision/10_food_classes_1_percent.zip\n",
            "Resolving storage.googleapis.com (storage.googleapis.com)... 172.217.0.48, 172.217.1.208, 142.250.73.208, ...\n",
            "Connecting to storage.googleapis.com (storage.googleapis.com)|172.217.0.48|:443... connected.\n",
            "HTTP request sent, awaiting response... 200 OK\n",
            "Length: 133612354 (127M) [application/zip]\n",
            "Saving to: ‘10_food_classes_1_percent.zip’\n",
            "\n",
            "10_food_classes_1_p 100%[===================>] 127.42M  75.6MB/s    in 1.7s    \n",
            "\n",
            "2022-02-22 17:42:22 (75.6 MB/s) - ‘10_food_classes_1_percent.zip’ saved [133612354/133612354]\n",
            "\n"
          ]
        }
      ]
    },
    {
      "cell_type": "code",
      "source": [
        "# Walk through 1 percent data directory and list number of files\n",
        "walk_through_dir(\"10_food_classes_1_percent\")"
      ],
      "metadata": {
        "colab": {
          "base_uri": "https://localhost:8080/"
        },
        "id": "bbe4bM-Yxc4C",
        "outputId": "dc70de79-1be5-4bbb-b120-e988e471cc70"
      },
      "execution_count": 21,
      "outputs": [
        {
          "output_type": "stream",
          "name": "stdout",
          "text": [
            "There are 2 directories and 0 images in '10_food_classes_1_percent'.\n",
            "There are 10 directories and 0 images in '10_food_classes_1_percent/train'.\n",
            "There are 0 directories and 7 images in '10_food_classes_1_percent/train/chicken_wings'.\n",
            "There are 0 directories and 7 images in '10_food_classes_1_percent/train/hamburger'.\n",
            "There are 0 directories and 7 images in '10_food_classes_1_percent/train/ice_cream'.\n",
            "There are 0 directories and 7 images in '10_food_classes_1_percent/train/pizza'.\n",
            "There are 0 directories and 7 images in '10_food_classes_1_percent/train/ramen'.\n",
            "There are 0 directories and 7 images in '10_food_classes_1_percent/train/grilled_salmon'.\n",
            "There are 0 directories and 7 images in '10_food_classes_1_percent/train/sushi'.\n",
            "There are 0 directories and 7 images in '10_food_classes_1_percent/train/fried_rice'.\n",
            "There are 0 directories and 7 images in '10_food_classes_1_percent/train/steak'.\n",
            "There are 0 directories and 7 images in '10_food_classes_1_percent/train/chicken_curry'.\n",
            "There are 10 directories and 0 images in '10_food_classes_1_percent/test'.\n",
            "There are 0 directories and 250 images in '10_food_classes_1_percent/test/chicken_wings'.\n",
            "There are 0 directories and 250 images in '10_food_classes_1_percent/test/hamburger'.\n",
            "There are 0 directories and 250 images in '10_food_classes_1_percent/test/ice_cream'.\n",
            "There are 0 directories and 250 images in '10_food_classes_1_percent/test/pizza'.\n",
            "There are 0 directories and 250 images in '10_food_classes_1_percent/test/ramen'.\n",
            "There are 0 directories and 250 images in '10_food_classes_1_percent/test/grilled_salmon'.\n",
            "There are 0 directories and 250 images in '10_food_classes_1_percent/test/sushi'.\n",
            "There are 0 directories and 250 images in '10_food_classes_1_percent/test/fried_rice'.\n",
            "There are 0 directories and 250 images in '10_food_classes_1_percent/test/steak'.\n",
            "There are 0 directories and 250 images in '10_food_classes_1_percent/test/chicken_curry'.\n"
          ]
        }
      ]
    },
    {
      "cell_type": "code",
      "source": [
        "import tensorflow as tf\n",
        "IMG_SIZE = (224, 224)\n",
        "train_data_1_percent = tf.keras.preprocessing.image_dataset_from_directory(train_dir_1_percent,\n",
        "                                                                           label_mode=\"categorical\",\n",
        "                                                                           batch_size=32, # default\n",
        "                                                                           image_size=IMG_SIZE)\n",
        "test_data = tf.keras.preprocessing.image_dataset_from_directory(test_dir,\n",
        "                                                                label_mode=\"categorical\",\n",
        "                                                                image_size=IMG_SIZE)"
      ],
      "metadata": {
        "colab": {
          "base_uri": "https://localhost:8080/"
        },
        "id": "T0eVDToqxm_w",
        "outputId": "c9ca696d-81e8-424f-9d55-6253ad1843c7"
      },
      "execution_count": 22,
      "outputs": [
        {
          "output_type": "stream",
          "name": "stdout",
          "text": [
            "Found 70 files belonging to 10 classes.\n",
            "Found 2500 files belonging to 10 classes.\n"
          ]
        }
      ]
    },
    {
      "cell_type": "markdown",
      "source": [
        "# **Building Data Augmentation Layer**\n",
        "\n",
        "**To Add Data Augmentation Right Into Our Model, We Can Use The Layers Inside:**\n",
        "\n",
        "**tf.keras.layers.Experimental.Preprocessing()**\n"
      ],
      "metadata": {
        "id": "NPZe8rWkyg_v"
      }
    },
    {
      "cell_type": "code",
      "source": [
        "import tensorflow as tf\n",
        "from tensorflow import keras\n",
        "from tensorflow.keras import layers\n",
        "from tensorflow.keras.layers.experimental import preprocessing\n",
        "\n",
        "# Create a data augmentation stage with horizontal flipping, rotations, zooms\n",
        "data_augmentation = keras.Sequential([\n",
        "  preprocessing.RandomFlip(\"horizontal\"),\n",
        "  preprocessing.RandomRotation(0.2),\n",
        "  preprocessing.RandomZoom(0.2),\n",
        "  preprocessing.RandomHeight(0.2),\n",
        "  preprocessing.RandomWidth(0.2),\n",
        "  # preprocessing.Rescaling(1./255) # keep for ResNet50V2, remove for EfficientNetB0\n",
        "], name =\"data_augmentation\")"
      ],
      "metadata": {
        "id": "ou2NdqswyZV7"
      },
      "execution_count": 23,
      "outputs": []
    },
    {
      "cell_type": "markdown",
      "source": [
        "**Data Augmentation is Automatically Turned On Training Data But Turned Off On Test Data**\n"
      ],
      "metadata": {
        "id": "tlKNIpRW0sGz"
      }
    },
    {
      "cell_type": "markdown",
      "source": [
        "# **Visualize What Happens When Image Passes Through Data Augmentation Layer**\n"
      ],
      "metadata": {
        "id": "rN750Ad000x0"
      }
    },
    {
      "cell_type": "code",
      "source": [
        "# View a random image\n",
        "import matplotlib.pyplot as plt\n",
        "import matplotlib.image as mpimg\n",
        "import os\n",
        "import random\n",
        "target_class = random.choice(train_data_1_percent.class_names) # choose a random class\n",
        "target_dir = \"10_food_classes_1_percent/train/\" + target_class # create the target directory\n",
        "random_image = random.choice(os.listdir(target_dir)) # choose a random image from target directory\n",
        "random_image_path = target_dir + \"/\" + random_image # create the choosen random image path\n",
        "img = mpimg.imread(random_image_path) # read in the chosen target image\n",
        "plt.imshow(img) # plot the target image\n",
        "plt.title(f\"Original random image from class: {target_class}\")\n",
        "plt.axis(False); # turn off the axes\n",
        "\n",
        "# Augment the image\n",
        "augmented_img = data_augmentation(tf.expand_dims(img, axis=0)) # data augmentation model requires shape (None, height, width, 3)\n",
        "plt.figure()\n",
        "plt.imshow(tf.squeeze(augmented_img)/255.) # requires normalization after augmentation\n",
        "plt.title(f\"Augmented random image from class: {target_class}\")\n",
        "plt.axis(False);\n"
      ],
      "metadata": {
        "colab": {
          "base_uri": "https://localhost:8080/",
          "height": 511
        },
        "id": "vsI7pbr8zPW3",
        "outputId": "b1b2222d-314f-428f-df29-1a2f75ddfdf5"
      },
      "execution_count": 24,
      "outputs": [
        {
          "output_type": "display_data",
          "data": {
            "image/png": "[encoded data removed]",
            "text/plain": [
              "<Figure size 432x288 with 1 Axes>"
            ]
          },
          "metadata": {
            "needs_background": "light"
          }
        },
        {
          "output_type": "display_data",
          "data": {
            "image/png": "[encoded data removed]",
            "text/plain": [
              "<Figure size 432x288 with 1 Axes>"
            ]
          },
          "metadata": {
            "needs_background": "light"
          }
        }
      ]
    },
    {
      "cell_type": "code",
      "source": [
        ""
      ],
      "metadata": {
        "id": "vTJVdq-72zVM"
      },
      "execution_count": 24,
      "outputs": []
    },
    {
      "cell_type": "markdown",
      "source": [
        "# **Building Model No 1 (With data Augmented Layer)**"
      ],
      "metadata": {
        "id": "0fph1KrByy77"
      }
    },
    {
      "cell_type": "code",
      "source": [
        "# Setup Input Shape\n",
        "\n",
        "input_shape = (224,224,3)\n",
        "\n",
        "base_model = tf.keras.applications.EfficientNetB0(include_top=False)\n",
        "\n",
        "base_model.trainable = False\n",
        "\n",
        "# Create Input layer\n",
        "\n",
        "inputs - layers.Input(shape= input_shape, name = 'input_layer')\n",
        "\n",
        "# Add in Data Augmentation Sequential Model As layer\n",
        "\n",
        "x = data_augmentation(inputs)\n",
        "\n",
        "# Give Base Model The Input And Don't Train it\n",
        "\n",
        "x= base_model(x,training=False)\n",
        "\n",
        "# Pool Output Feature Of Base Model\n",
        "\n",
        "x= layers.GlobalAveragePooling2D()(x)\n",
        "\n",
        "# Put A Dense Layer On as The Output\n",
        "\n",
        "outputs = layers.Dense(10, activation='softmax', name='output_layer') (x)\n",
        "\n",
        "# Make A Model Using Inputs & Outputs \n",
        "\n",
        "model_1 = keras.Model(inputs, outputs)\n",
        "\n",
        "# Compile The Model\n",
        "\n",
        "model_1.compile(\n",
        "    loss = 'categorical_crossentropy',\n",
        "    optimizer = tf.keras.optimizers.Adam(),\n",
        "    metrics=['accuracy']\n",
        ")\n",
        "\n",
        "# Fit The Model\n",
        "\n",
        "history_1_percent = model_1.fit(train_data_1_percent,\n",
        "                                epochs=5,\n",
        "                                steps_per_epoch = len(train_data_1_percent),\n",
        "                                validation_data = test_data,\n",
        "                                validation_steps = int(0.25 * len(test_data)),\n",
        "                                callbacks = [create_tensorboard_callback(dir_name= 'Transfer_Learning',\n",
        "                                                                         experiment_name = '1_Percent_data_Aug')])"
      ],
      "metadata": {
        "colab": {
          "base_uri": "https://localhost:8080/"
        },
        "id": "5HZWzrBp7NCD",
        "outputId": "34677750-c4d4-4541-a552-d4c6d621feea"
      },
      "execution_count": 30,
      "outputs": [
        {
          "output_type": "stream",
          "name": "stdout",
          "text": [
            "Saving TensorBoard log files to: Transfer_Learning/1_Percent_data_Aug/20220222-174624\n",
            "Epoch 1/5\n",
            "3/3 [==============================] - 9s 2s/step - loss: 2.3233 - accuracy: 0.1857 - val_loss: 2.1700 - val_accuracy: 0.2516\n",
            "Epoch 2/5\n",
            "3/3 [==============================] - 3s 1s/step - loss: 2.0666 - accuracy: 0.3000 - val_loss: 2.0533 - val_accuracy: 0.3207\n",
            "Epoch 3/5\n",
            "3/3 [==============================] - 3s 1s/step - loss: 1.9521 - accuracy: 0.3714 - val_loss: 1.9421 - val_accuracy: 0.3898\n",
            "Epoch 4/5\n",
            "3/3 [==============================] - 3s 1s/step - loss: 1.6820 - accuracy: 0.6429 - val_loss: 1.8759 - val_accuracy: 0.4227\n",
            "Epoch 5/5\n",
            "3/3 [==============================] - 3s 1s/step - loss: 1.6176 - accuracy: 0.6143 - val_loss: 1.7851 - val_accuracy: 0.4770\n"
          ]
        }
      ]
    },
    {
      "cell_type": "code",
      "source": [
        "model_1.summary()"
      ],
      "metadata": {
        "colab": {
          "base_uri": "https://localhost:8080/"
        },
        "id": "R6uTOCNk09OM",
        "outputId": "0c7f74bc-ad1d-426b-b921-d0a70ed3bbcf"
      },
      "execution_count": 26,
      "outputs": [
        {
          "output_type": "stream",
          "name": "stdout",
          "text": [
            "Model: \"model_1\"\n",
            "_________________________________________________________________\n",
            " Layer (type)                Output Shape              Param #   \n",
            "=================================================================\n",
            " input_layer (InputLayer)    [(None, 224, 224, 3)]     0         \n",
            "                                                                 \n",
            " data_augmentation (Sequenti  (None, None, None, 3)    0         \n",
            " al)                                                             \n",
            "                                                                 \n",
            " efficientnetb0 (Functional)  (None, None, None, 1280)  4049571  \n",
            "                                                                 \n",
            " global_average_pooling2d_1   (None, 1280)             0         \n",
            " (GlobalAveragePooling2D)                                        \n",
            "                                                                 \n",
            " output_layer (Dense)        (None, 10)                12810     \n",
            "                                                                 \n",
            "=================================================================\n",
            "Total params: 4,062,381\n",
            "Trainable params: 12,810\n",
            "Non-trainable params: 4,049,571\n",
            "_________________________________________________________________\n"
          ]
        }
      ]
    },
    {
      "cell_type": "code",
      "source": [
        "# Evaluate On Full test Dataset \n",
        "\n",
        "result_1_percent_data_aug = model_1.evaluate(test_data)\n",
        "result_1_percent_data_aug"
      ],
      "metadata": {
        "colab": {
          "base_uri": "https://localhost:8080/"
        },
        "id": "82ngUNCNjXNi",
        "outputId": "b729cdcc-c27c-4a63-9608-d9a495a6b820"
      },
      "execution_count": 34,
      "outputs": [
        {
          "output_type": "stream",
          "name": "stdout",
          "text": [
            "79/79 [==============================] - 6s 71ms/step - loss: 1.7847 - accuracy: 0.4696\n"
          ]
        },
        {
          "output_type": "execute_result",
          "data": {
            "text/plain": [
              "[1.7846611738204956, 0.46959999203681946]"
            ]
          },
          "metadata": {},
          "execution_count": 34
        }
      ]
    },
    {
      "cell_type": "code",
      "source": [
        "# 1 % Of Loss Curves\n",
        "\n",
        "plot_loss_curves(history_1_percent)"
      ],
      "metadata": {
        "colab": {
          "base_uri": "https://localhost:8080/",
          "height": 573
        },
        "id": "DWMKytzqjXKW",
        "outputId": "119e7fc7-55ed-45f6-907d-2473a898a41d"
      },
      "execution_count": 35,
      "outputs": [
        {
          "output_type": "display_data",
          "data": {
            "image/png": "[encoded data removed]",
            "text/plain": [
              "<Figure size 432x288 with 1 Axes>"
            ]
          },
          "metadata": {
            "needs_background": "light"
          }
        },
        {
          "output_type": "display_data",
          "data": {
            "image/png": "[encoded data removed]",
            "text/plain": [
              "<Figure size 432x288 with 1 Axes>"
            ]
          },
          "metadata": {
            "needs_background": "light"
          }
        }
      ]
    },
    {
      "cell_type": "markdown",
      "source": [
        "# **Model No 2 : Feature Extraction With 10% Of Data**"
      ],
      "metadata": {
        "id": "IYJPaOFwh5rt"
      }
    },
    {
      "cell_type": "code",
      "source": [
        "# Get 10 % of Data\n",
        "\n",
        "# !wget https://storage.googleapis.com/ztm_tf_course/food_vision/10_food_classes_10_percent.zip\n",
        "\n",
        "# unzip_data('10_food_classes_10_percent')"
      ],
      "metadata": {
        "id": "CIe4ReYG2tsz"
      },
      "execution_count": 36,
      "outputs": []
    },
    {
      "cell_type": "code",
      "source": [
        "train_data_10_percent = '10_food_classes_10_percent/train'\n",
        "test_dir = '10_food_classes_10_percent/test'"
      ],
      "metadata": {
        "id": "5gRWHl9PjIrb"
      },
      "execution_count": 37,
      "outputs": []
    },
    {
      "cell_type": "code",
      "source": [
        "# Set Data Inputs\n",
        "\n",
        "import tensorflow as tf\n",
        "IMG_SIZE= (224,224)\n",
        "\n",
        "train_data_10_percent = tf.keras.preprocessing.image_dataset_from_directory(train_dir_10_percent,\n",
        "                                                                            label_mode='categorical',\n",
        "                                                                            image_size = IMG_SIZE\n",
        "                                                                            )\n",
        "\n",
        "test_data = tf.keras.preprocessing.image_dataset_from_directory(test_dir,\n",
        "                                                                label_mode='categorical',\n",
        "                                                                image_size = IMG_SIZE)"
      ],
      "metadata": {
        "colab": {
          "base_uri": "https://localhost:8080/"
        },
        "id": "Xc7T-uwJjK3T",
        "outputId": "4c9f8229-490b-492a-80b9-92da19c65427"
      },
      "execution_count": 38,
      "outputs": [
        {
          "output_type": "stream",
          "name": "stdout",
          "text": [
            "Found 750 files belonging to 10 classes.\n",
            "Found 2500 files belonging to 10 classes.\n"
          ]
        }
      ]
    },
    {
      "cell_type": "code",
      "source": [
        "data_augmentation.summary()"
      ],
      "metadata": {
        "colab": {
          "base_uri": "https://localhost:8080/"
        },
        "id": "khI0AlLZk_y3",
        "outputId": "d55e1276-c108-4f16-ee25-b3b5db4819c8"
      },
      "execution_count": 39,
      "outputs": [
        {
          "output_type": "stream",
          "name": "stdout",
          "text": [
            "Model: \"data_augmentation\"\n",
            "_________________________________________________________________\n",
            " Layer (type)                Output Shape              Param #   \n",
            "=================================================================\n",
            " random_flip (RandomFlip)    (None, None, None, 3)     0         \n",
            "                                                                 \n",
            " random_rotation (RandomRota  (None, None, None, 3)    0         \n",
            " tion)                                                           \n",
            "                                                                 \n",
            " random_zoom (RandomZoom)    (None, None, None, 3)     0         \n",
            "                                                                 \n",
            " random_height (RandomHeight  (None, None, None, 3)    0         \n",
            " )                                                               \n",
            "                                                                 \n",
            " random_width (RandomWidth)  (None, None, None, 3)     0         \n",
            "                                                                 \n",
            "=================================================================\n",
            "Total params: 0\n",
            "Trainable params: 0\n",
            "Non-trainable params: 0\n",
            "_________________________________________________________________\n"
          ]
        }
      ]
    },
    {
      "cell_type": "markdown",
      "source": [
        "# **Create Model No 2 With Data Augmentation Build In**"
      ],
      "metadata": {
        "id": "-nsC1_VOlGYl"
      }
    },
    {
      "cell_type": "code",
      "source": [
        "# Create a functional model with data augmentation\n",
        "import tensorflow as tf\n",
        "from tensorflow.keras import layers\n",
        "from tensorflow.keras.layers.experimental import preprocessing\n",
        "from tensorflow.keras.models import Sequential\n",
        "\n",
        "# Build data augmentation layer\n",
        "data_augmentation = Sequential([\n",
        "  preprocessing.RandomFlip('horizontal'),\n",
        "  preprocessing.RandomHeight(0.2),\n",
        "  preprocessing.RandomWidth(0.2),\n",
        "  preprocessing.RandomZoom(0.2),\n",
        "  preprocessing.RandomRotation(0.2),\n",
        "  # preprocessing.Rescaling(1./255) # keep for ResNet50V2, remove for EfficientNet                 \n",
        "], name=\"data_augmentation\")\n",
        "\n",
        "# Setup the input shape to our model\n",
        "input_shape = (224, 224, 3)\n",
        "\n",
        "# Create a frozen base model\n",
        "base_model = tf.keras.applications.EfficientNetB0(include_top=False)\n",
        "base_model.trainable = False\n",
        "\n",
        "# Create input and output layers\n",
        "inputs = layers.Input(shape=input_shape, name=\"input_layer\") # create input layer\n",
        "x = data_augmentation(inputs) # augment our training images\n",
        "x = base_model(x, training=False) # pass augmented images to base model but keep it in inference mode, so batchnorm layers don't get updated: https://keras.io/guides/transfer_learning/#build-a-model \n",
        "x = layers.GlobalAveragePooling2D(name=\"global_average_pooling_layer\")(x)\n",
        "outputs = layers.Dense(10, activation=\"softmax\", name=\"output_layer\")(x)\n",
        "model_2 = tf.keras.Model(inputs, outputs)\n",
        "\n",
        "# Compile\n",
        "model_2.compile(loss=\"categorical_crossentropy\",\n",
        "              optimizer=tf.keras.optimizers.Adam(lr=0.001), # use Adam optimizer with base learning rate\n",
        "              metrics=[\"accuracy\"])\n",
        "\n"
      ],
      "metadata": {
        "colab": {
          "base_uri": "https://localhost:8080/"
        },
        "id": "o2q241mrlEHl",
        "outputId": "4aa1f48f-5de2-40df-e360-1a9ec29311b6"
      },
      "execution_count": 60,
      "outputs": [
        {
          "output_type": "stream",
          "name": "stderr",
          "text": [
            "/usr/local/lib/python3.7/dist-packages/keras/optimizer_v2/adam.py:105: UserWarning: The `lr` argument is deprecated, use `learning_rate` instead.\n",
            "  super(Adam, self).__init__(name, **kwargs)\n"
          ]
        }
      ]
    },
    {
      "cell_type": "markdown",
      "source": [
        "# **Creating Model Checkpoint Callback**\n",
        "\n",
        "**Callback are tool which can add helpful functionality to your model During training**\n",
        "\n",
        "**A Model Checkpoint callback immediately saves our model during training. This is Useful to save our model**\n"
      ],
      "metadata": {
        "id": "lNp6v_0Rn-Y2"
      }
    },
    {
      "cell_type": "code",
      "source": [
        "# Setup checkpoint path\n",
        "checkpoint_path = \"ten_percent_model_checkpoints_weights/checkpoint.ckpt\" # note: remember saving directly to Colab is temporary\n",
        "\n",
        "# Create a ModelCheckpoint callback that saves the model's weights only\n",
        "checkpoint_callback = tf.keras.callbacks.ModelCheckpoint(filepath=checkpoint_path,\n",
        "                                                         save_weights_only=True, # set to False to save the entire model\n",
        "                                                         save_best_only=False, # set to True to save only the best model instead of a model every epoch \n",
        "                                                         save_freq=\"epoch\", # save every epoch\n",
        "                                                         verbose=1)"
      ],
      "metadata": {
        "id": "BW9DofuRmNCh"
      },
      "execution_count": 61,
      "outputs": []
    },
    {
      "cell_type": "markdown",
      "source": [
        "# **Fitting and Evaluating Model No 2**"
      ],
      "metadata": {
        "id": "4pRs8qKVrRLt"
      }
    },
    {
      "cell_type": "code",
      "source": [
        "# Fit the model saving checkpoints every epoch\n",
        "initial_epochs = 5\n",
        "history_10_percent_data_aug = model_2.fit(train_data_10_percent,\n",
        "                                          epochs=initial_epochs,\n",
        "                                          validation_data=test_data,\n",
        "                                          validation_steps=int(0.25 * len(test_data)), # do less steps per validation (quicker)\n",
        "                                          callbacks=[create_tensorboard_callback(\"Transfer_Learning\", \"10_percent_data_aug\"), \n",
        "                                                     checkpoint_callback])"
      ],
      "metadata": {
        "colab": {
          "base_uri": "https://localhost:8080/"
        },
        "id": "ZRr2vu12q8cq",
        "outputId": "a6e04e08-d03a-4aa5-e3b5-08f8850c330f"
      },
      "execution_count": 62,
      "outputs": [
        {
          "output_type": "stream",
          "name": "stdout",
          "text": [
            "Saving TensorBoard log files to: Transfer_Learning/10_percent_data_aug/20220222-183623\n",
            "Epoch 1/5\n",
            "24/24 [==============================] - ETA: 0s - loss: 2.0615 - accuracy: 0.2747\n",
            "Epoch 1: saving model to ten_percent_model_checkpoints_weights/checkpoint.ckpt\n",
            "24/24 [==============================] - 14s 359ms/step - loss: 2.0615 - accuracy: 0.2747 - val_loss: 1.5131 - val_accuracy: 0.6332\n",
            "Epoch 2/5\n",
            "24/24 [==============================] - ETA: 0s - loss: 1.3937 - accuracy: 0.6440\n",
            "Epoch 2: saving model to ten_percent_model_checkpoints_weights/checkpoint.ckpt\n",
            "24/24 [==============================] - 9s 349ms/step - loss: 1.3937 - accuracy: 0.6440 - val_loss: 1.0728 - val_accuracy: 0.7418\n",
            "Epoch 3/5\n",
            "24/24 [==============================] - ETA: 0s - loss: 1.0720 - accuracy: 0.7360\n",
            "Epoch 3: saving model to ten_percent_model_checkpoints_weights/checkpoint.ckpt\n",
            "24/24 [==============================] - 7s 271ms/step - loss: 1.0720 - accuracy: 0.7360 - val_loss: 0.8869 - val_accuracy: 0.7780\n",
            "Epoch 4/5\n",
            "24/24 [==============================] - ETA: 0s - loss: 0.9170 - accuracy: 0.7627\n",
            "Epoch 4: saving model to ten_percent_model_checkpoints_weights/checkpoint.ckpt\n",
            "24/24 [==============================] - 7s 299ms/step - loss: 0.9170 - accuracy: 0.7627 - val_loss: 0.7677 - val_accuracy: 0.8010\n",
            "Epoch 5/5\n",
            "24/24 [==============================] - ETA: 0s - loss: 0.8054 - accuracy: 0.7960\n",
            "Epoch 5: saving model to ten_percent_model_checkpoints_weights/checkpoint.ckpt\n",
            "24/24 [==============================] - 6s 244ms/step - loss: 0.8054 - accuracy: 0.7960 - val_loss: 0.7138 - val_accuracy: 0.8207\n"
          ]
        }
      ]
    },
    {
      "cell_type": "code",
      "source": [
        "# Check Model 2 Results on All test data\n",
        "\n",
        "result_10_percent_data_aug = model_2.evaluate(test_data)\n",
        "result_10_percent_data_aug"
      ],
      "metadata": {
        "colab": {
          "base_uri": "https://localhost:8080/"
        },
        "id": "HPYPxIWHsGKr",
        "outputId": "8ea1fd4e-dc0b-4d9e-c50e-193675b9ac8d"
      },
      "execution_count": 71,
      "outputs": [
        {
          "output_type": "stream",
          "name": "stdout",
          "text": [
            "79/79 [==============================] - 6s 70ms/step - loss: 0.6973 - accuracy: 0.8128\n"
          ]
        },
        {
          "output_type": "execute_result",
          "data": {
            "text/plain": [
              "[0.6973062753677368, 0.8127999901771545]"
            ]
          },
          "metadata": {},
          "execution_count": 71
        }
      ]
    },
    {
      "cell_type": "code",
      "source": [
        "# Plot Loss  Curves\n",
        "\n",
        "plot_loss_curves(history_10_percent_data_aug)"
      ],
      "metadata": {
        "colab": {
          "base_uri": "https://localhost:8080/",
          "height": 573
        },
        "id": "dP6FJP_QtBaH",
        "outputId": "1ac188fa-d65b-4dc7-b337-dec3a4aba62a"
      },
      "execution_count": 72,
      "outputs": [
        {
          "output_type": "display_data",
          "data": {
            "image/png": "[encoded data removed]",
            "text/plain": [
              "<Figure size 432x288 with 1 Axes>"
            ]
          },
          "metadata": {
            "needs_background": "light"
          }
        },
        {
          "output_type": "display_data",
          "data": {
            "image/png": "[encoded data removed]",
            "text/plain": [
              "<Figure size 432x288 with 1 Axes>"
            ]
          },
          "metadata": {
            "needs_background": "light"
          }
        }
      ]
    },
    {
      "cell_type": "markdown",
      "source": [
        "# **Loading and Compairing Saved Weights**\n",
        "\n",
        "**loading In Check Pointed Weights Return a model to specific Checkpoint**"
      ],
      "metadata": {
        "id": "PudXjeeWunW6"
      }
    },
    {
      "cell_type": "code",
      "source": [
        "# Evaluate Model Model 2 With Loaded Weights\n",
        "\n",
        "loaded_weights_model_result = model_2.evaluate(test_data)"
      ],
      "metadata": {
        "colab": {
          "base_uri": "https://localhost:8080/"
        },
        "id": "CL6VjJCvtKY0",
        "outputId": "785402d3-f740-4ef5-9f6a-149525a62bea"
      },
      "execution_count": 82,
      "outputs": [
        {
          "output_type": "stream",
          "name": "stdout",
          "text": [
            "79/79 [==============================] - 7s 77ms/step - loss: 0.6973 - accuracy: 0.8128\n"
          ]
        }
      ]
    },
    {
      "cell_type": "code",
      "source": [
        "result_10_percent_data_aug == loaded_weights_model_result"
      ],
      "metadata": {
        "colab": {
          "base_uri": "https://localhost:8080/"
        },
        "id": "SFnE7bYLvRWF",
        "outputId": "e493dc4d-46ed-49b1-b9fe-6e37708a7e97"
      },
      "execution_count": 74,
      "outputs": [
        {
          "output_type": "execute_result",
          "data": {
            "text/plain": [
              "False"
            ]
          },
          "metadata": {},
          "execution_count": 74
        }
      ]
    },
    {
      "cell_type": "code",
      "source": [
        "import numpy as np\n",
        "# Check to see if loaded model results are very close to native model results (should output True)\n",
        "np.isclose(np.array(result_10_percent_data_aug), np.array(loaded_weights_model_result))"
      ],
      "metadata": {
        "colab": {
          "base_uri": "https://localhost:8080/"
        },
        "id": "_QapP15xvYHq",
        "outputId": "14acc233-589e-4536-8a1f-617767a81402"
      },
      "execution_count": 83,
      "outputs": [
        {
          "output_type": "execute_result",
          "data": {
            "text/plain": [
              "array([ True,  True])"
            ]
          },
          "metadata": {},
          "execution_count": 83
        }
      ]
    },
    {
      "cell_type": "code",
      "source": [
        "print(np.array(result_10_percent_data_aug) - np.array(loaded_weights_model_result))\n"
      ],
      "metadata": {
        "colab": {
          "base_uri": "https://localhost:8080/"
        },
        "id": "NVpaLgszwPL0",
        "outputId": "e9a9a23b-e9bb-440a-d7b0-761fe6e781a4"
      },
      "execution_count": 84,
      "outputs": [
        {
          "output_type": "stream",
          "name": "stdout",
          "text": [
            "[5.96046448e-08 0.00000000e+00]\n"
          ]
        }
      ]
    },
    {
      "cell_type": "markdown",
      "source": [
        "# **Model No 3 (Fine Tuning With 10% Of Data)**\n",
        "\n",
        "**In Fine Tuning, We Unfrooze Few Layer. Fine Tuned On Custom data**\n",
        "\n",
        "**Fine Tuning Usually Works Best Offer Training Features Vectors**\n",
        "\n"
      ],
      "metadata": {
        "id": "PTEAwIczxILa"
      }
    },
    {
      "cell_type": "code",
      "source": [
        "# Layers In Loaded Model\n",
        "\n",
        "model_2.layers"
      ],
      "metadata": {
        "colab": {
          "base_uri": "https://localhost:8080/"
        },
        "id": "nh6yccFlwY4i",
        "outputId": "5480c948-630a-41a8-f107-48a0d3206785"
      },
      "execution_count": 85,
      "outputs": [
        {
          "output_type": "execute_result",
          "data": {
            "text/plain": [
              "[<keras.engine.input_layer.InputLayer at 0x7f0e908424d0>,\n",
              " <keras.engine.sequential.Sequential at 0x7f0e9082f350>,\n",
              " <keras.engine.functional.Functional at 0x7f0e91d2bb50>,\n",
              " <keras.layers.pooling.GlobalAveragePooling2D at 0x7f0e90839f50>,\n",
              " <keras.layers.core.dense.Dense at 0x7f0fa096ba50>]"
            ]
          },
          "metadata": {},
          "execution_count": 85
        }
      ]
    },
    {
      "cell_type": "code",
      "source": [
        "# Are These Layers Trainable\n",
        "\n",
        "for layer in model_2.layers:\n",
        "  print(layer, layer.trainable)"
      ],
      "metadata": {
        "colab": {
          "base_uri": "https://localhost:8080/"
        },
        "id": "Mj8Bx97cxhZY",
        "outputId": "2c339885-2b70-40d5-c339-a5f818ab4ce7"
      },
      "execution_count": 86,
      "outputs": [
        {
          "output_type": "stream",
          "name": "stdout",
          "text": [
            "<keras.engine.input_layer.InputLayer object at 0x7f0e908424d0> True\n",
            "<keras.engine.sequential.Sequential object at 0x7f0e9082f350> True\n",
            "<keras.engine.functional.Functional object at 0x7f0e91d2bb50> False\n",
            "<keras.layers.pooling.GlobalAveragePooling2D object at 0x7f0e90839f50> True\n",
            "<keras.layers.core.dense.Dense object at 0x7f0fa096ba50> True\n"
          ]
        }
      ]
    },
    {
      "cell_type": "code",
      "source": [
        "for i, layer in enumerate(model_2.layers[2].layers):\n",
        "  print(i,layer.name, layer.trainable) "
      ],
      "metadata": {
        "colab": {
          "base_uri": "https://localhost:8080/"
        },
        "id": "ufwnMAhAxsZv",
        "outputId": "a3cbe3c4-a834-415e-e46c-8cb7977f8494"
      },
      "execution_count": 87,
      "outputs": [
        {
          "output_type": "stream",
          "name": "stdout",
          "text": [
            "0 input_11 False\n",
            "1 rescaling_10 False\n",
            "2 normalization_10 False\n",
            "3 stem_conv_pad False\n",
            "4 stem_conv False\n",
            "5 stem_bn False\n",
            "6 stem_activation False\n",
            "7 block1a_dwconv False\n",
            "8 block1a_bn False\n",
            "9 block1a_activation False\n",
            "10 block1a_se_squeeze False\n",
            "11 block1a_se_reshape False\n",
            "12 block1a_se_reduce False\n",
            "13 block1a_se_expand False\n",
            "14 block1a_se_excite False\n",
            "15 block1a_project_conv False\n",
            "16 block1a_project_bn False\n",
            "17 block2a_expand_conv False\n",
            "18 block2a_expand_bn False\n",
            "19 block2a_expand_activation False\n",
            "20 block2a_dwconv_pad False\n",
            "21 block2a_dwconv False\n",
            "22 block2a_bn False\n",
            "23 block2a_activation False\n",
            "24 block2a_se_squeeze False\n",
            "25 block2a_se_reshape False\n",
            "26 block2a_se_reduce False\n",
            "27 block2a_se_expand False\n",
            "28 block2a_se_excite False\n",
            "29 block2a_project_conv False\n",
            "30 block2a_project_bn False\n",
            "31 block2b_expand_conv False\n",
            "32 block2b_expand_bn False\n",
            "33 block2b_expand_activation False\n",
            "34 block2b_dwconv False\n",
            "35 block2b_bn False\n",
            "36 block2b_activation False\n",
            "37 block2b_se_squeeze False\n",
            "38 block2b_se_reshape False\n",
            "39 block2b_se_reduce False\n",
            "40 block2b_se_expand False\n",
            "41 block2b_se_excite False\n",
            "42 block2b_project_conv False\n",
            "43 block2b_project_bn False\n",
            "44 block2b_drop False\n",
            "45 block2b_add False\n",
            "46 block3a_expand_conv False\n",
            "47 block3a_expand_bn False\n",
            "48 block3a_expand_activation False\n",
            "49 block3a_dwconv_pad False\n",
            "50 block3a_dwconv False\n",
            "51 block3a_bn False\n",
            "52 block3a_activation False\n",
            "53 block3a_se_squeeze False\n",
            "54 block3a_se_reshape False\n",
            "55 block3a_se_reduce False\n",
            "56 block3a_se_expand False\n",
            "57 block3a_se_excite False\n",
            "58 block3a_project_conv False\n",
            "59 block3a_project_bn False\n",
            "60 block3b_expand_conv False\n",
            "61 block3b_expand_bn False\n",
            "62 block3b_expand_activation False\n",
            "63 block3b_dwconv False\n",
            "64 block3b_bn False\n",
            "65 block3b_activation False\n",
            "66 block3b_se_squeeze False\n",
            "67 block3b_se_reshape False\n",
            "68 block3b_se_reduce False\n",
            "69 block3b_se_expand False\n",
            "70 block3b_se_excite False\n",
            "71 block3b_project_conv False\n",
            "72 block3b_project_bn False\n",
            "73 block3b_drop False\n",
            "74 block3b_add False\n",
            "75 block4a_expand_conv False\n",
            "76 block4a_expand_bn False\n",
            "77 block4a_expand_activation False\n",
            "78 block4a_dwconv_pad False\n",
            "79 block4a_dwconv False\n",
            "80 block4a_bn False\n",
            "81 block4a_activation False\n",
            "82 block4a_se_squeeze False\n",
            "83 block4a_se_reshape False\n",
            "84 block4a_se_reduce False\n",
            "85 block4a_se_expand False\n",
            "86 block4a_se_excite False\n",
            "87 block4a_project_conv False\n",
            "88 block4a_project_bn False\n",
            "89 block4b_expand_conv False\n",
            "90 block4b_expand_bn False\n",
            "91 block4b_expand_activation False\n",
            "92 block4b_dwconv False\n",
            "93 block4b_bn False\n",
            "94 block4b_activation False\n",
            "95 block4b_se_squeeze False\n",
            "96 block4b_se_reshape False\n",
            "97 block4b_se_reduce False\n",
            "98 block4b_se_expand False\n",
            "99 block4b_se_excite False\n",
            "100 block4b_project_conv False\n",
            "101 block4b_project_bn False\n",
            "102 block4b_drop False\n",
            "103 block4b_add False\n",
            "104 block4c_expand_conv False\n",
            "105 block4c_expand_bn False\n",
            "106 block4c_expand_activation False\n",
            "107 block4c_dwconv False\n",
            "108 block4c_bn False\n",
            "109 block4c_activation False\n",
            "110 block4c_se_squeeze False\n",
            "111 block4c_se_reshape False\n",
            "112 block4c_se_reduce False\n",
            "113 block4c_se_expand False\n",
            "114 block4c_se_excite False\n",
            "115 block4c_project_conv False\n",
            "116 block4c_project_bn False\n",
            "117 block4c_drop False\n",
            "118 block4c_add False\n",
            "119 block5a_expand_conv False\n",
            "120 block5a_expand_bn False\n",
            "121 block5a_expand_activation False\n",
            "122 block5a_dwconv False\n",
            "123 block5a_bn False\n",
            "124 block5a_activation False\n",
            "125 block5a_se_squeeze False\n",
            "126 block5a_se_reshape False\n",
            "127 block5a_se_reduce False\n",
            "128 block5a_se_expand False\n",
            "129 block5a_se_excite False\n",
            "130 block5a_project_conv False\n",
            "131 block5a_project_bn False\n",
            "132 block5b_expand_conv False\n",
            "133 block5b_expand_bn False\n",
            "134 block5b_expand_activation False\n",
            "135 block5b_dwconv False\n",
            "136 block5b_bn False\n",
            "137 block5b_activation False\n",
            "138 block5b_se_squeeze False\n",
            "139 block5b_se_reshape False\n",
            "140 block5b_se_reduce False\n",
            "141 block5b_se_expand False\n",
            "142 block5b_se_excite False\n",
            "143 block5b_project_conv False\n",
            "144 block5b_project_bn False\n",
            "145 block5b_drop False\n",
            "146 block5b_add False\n",
            "147 block5c_expand_conv False\n",
            "148 block5c_expand_bn False\n",
            "149 block5c_expand_activation False\n",
            "150 block5c_dwconv False\n",
            "151 block5c_bn False\n",
            "152 block5c_activation False\n",
            "153 block5c_se_squeeze False\n",
            "154 block5c_se_reshape False\n",
            "155 block5c_se_reduce False\n",
            "156 block5c_se_expand False\n",
            "157 block5c_se_excite False\n",
            "158 block5c_project_conv False\n",
            "159 block5c_project_bn False\n",
            "160 block5c_drop False\n",
            "161 block5c_add False\n",
            "162 block6a_expand_conv False\n",
            "163 block6a_expand_bn False\n",
            "164 block6a_expand_activation False\n",
            "165 block6a_dwconv_pad False\n",
            "166 block6a_dwconv False\n",
            "167 block6a_bn False\n",
            "168 block6a_activation False\n",
            "169 block6a_se_squeeze False\n",
            "170 block6a_se_reshape False\n",
            "171 block6a_se_reduce False\n",
            "172 block6a_se_expand False\n",
            "173 block6a_se_excite False\n",
            "174 block6a_project_conv False\n",
            "175 block6a_project_bn False\n",
            "176 block6b_expand_conv False\n",
            "177 block6b_expand_bn False\n",
            "178 block6b_expand_activation False\n",
            "179 block6b_dwconv False\n",
            "180 block6b_bn False\n",
            "181 block6b_activation False\n",
            "182 block6b_se_squeeze False\n",
            "183 block6b_se_reshape False\n",
            "184 block6b_se_reduce False\n",
            "185 block6b_se_expand False\n",
            "186 block6b_se_excite False\n",
            "187 block6b_project_conv False\n",
            "188 block6b_project_bn False\n",
            "189 block6b_drop False\n",
            "190 block6b_add False\n",
            "191 block6c_expand_conv False\n",
            "192 block6c_expand_bn False\n",
            "193 block6c_expand_activation False\n",
            "194 block6c_dwconv False\n",
            "195 block6c_bn False\n",
            "196 block6c_activation False\n",
            "197 block6c_se_squeeze False\n",
            "198 block6c_se_reshape False\n",
            "199 block6c_se_reduce False\n",
            "200 block6c_se_expand False\n",
            "201 block6c_se_excite False\n",
            "202 block6c_project_conv False\n",
            "203 block6c_project_bn False\n",
            "204 block6c_drop False\n",
            "205 block6c_add False\n",
            "206 block6d_expand_conv False\n",
            "207 block6d_expand_bn False\n",
            "208 block6d_expand_activation False\n",
            "209 block6d_dwconv False\n",
            "210 block6d_bn False\n",
            "211 block6d_activation False\n",
            "212 block6d_se_squeeze False\n",
            "213 block6d_se_reshape False\n",
            "214 block6d_se_reduce False\n",
            "215 block6d_se_expand False\n",
            "216 block6d_se_excite False\n",
            "217 block6d_project_conv False\n",
            "218 block6d_project_bn False\n",
            "219 block6d_drop False\n",
            "220 block6d_add False\n",
            "221 block7a_expand_conv False\n",
            "222 block7a_expand_bn False\n",
            "223 block7a_expand_activation False\n",
            "224 block7a_dwconv False\n",
            "225 block7a_bn False\n",
            "226 block7a_activation False\n",
            "227 block7a_se_squeeze False\n",
            "228 block7a_se_reshape False\n",
            "229 block7a_se_reduce False\n",
            "230 block7a_se_expand False\n",
            "231 block7a_se_excite False\n",
            "232 block7a_project_conv False\n",
            "233 block7a_project_bn False\n",
            "234 top_conv False\n",
            "235 top_bn False\n",
            "236 top_activation False\n"
          ]
        }
      ]
    },
    {
      "cell_type": "code",
      "source": [
        "# How Many Trainable Variables Are in Base Model?\n",
        "\n",
        "print(len(model_2.layers[2].trainable_variables))"
      ],
      "metadata": {
        "colab": {
          "base_uri": "https://localhost:8080/"
        },
        "id": "0RvC22wax38S",
        "outputId": "a75d4cb0-4cd3-4856-acb9-0126dc52aca7"
      },
      "execution_count": 88,
      "outputs": [
        {
          "output_type": "stream",
          "name": "stdout",
          "text": [
            "0\n"
          ]
        }
      ]
    },
    {
      "cell_type": "code",
      "source": [
        "# Summary of The Model\n",
        "\n",
        "model_2.summary()"
      ],
      "metadata": {
        "colab": {
          "base_uri": "https://localhost:8080/"
        },
        "id": "RbOaFi9qyHN2",
        "outputId": "9f8825cc-e578-4b4b-8fa5-a9143f8eef62"
      },
      "execution_count": 89,
      "outputs": [
        {
          "output_type": "stream",
          "name": "stdout",
          "text": [
            "Model: \"model_8\"\n",
            "_________________________________________________________________\n",
            " Layer (type)                Output Shape              Param #   \n",
            "=================================================================\n",
            " input_layer (InputLayer)    [(None, 224, 224, 3)]     0         \n",
            "                                                                 \n",
            " data_augmentation (Sequenti  (None, 224, 224, 3)      0         \n",
            " al)                                                             \n",
            "                                                                 \n",
            " efficientnetb0 (Functional)  (None, None, None, 1280)  4049571  \n",
            "                                                                 \n",
            " global_average_pooling_laye  (None, 1280)             0         \n",
            " r (GlobalAveragePooling2D)                                      \n",
            "                                                                 \n",
            " output_layer (Dense)        (None, 10)                12810     \n",
            "                                                                 \n",
            "=================================================================\n",
            "Total params: 4,062,381\n",
            "Trainable params: 12,810\n",
            "Non-trainable params: 4,049,571\n",
            "_________________________________________________________________\n"
          ]
        }
      ]
    },
    {
      "cell_type": "code",
      "source": [
        "# Check which layers are tuneable (trainable)\n",
        "for layer_number, layer in enumerate(base_model.layers):\n",
        "  print(layer_number, layer.name, layer.trainable)"
      ],
      "metadata": {
        "colab": {
          "base_uri": "https://localhost:8080/"
        },
        "id": "1dG_UYAgyPRd",
        "outputId": "eaf42acb-18a5-4518-d108-e3d1d6b1b3e9"
      },
      "execution_count": 90,
      "outputs": [
        {
          "output_type": "stream",
          "name": "stdout",
          "text": [
            "0 input_11 False\n",
            "1 rescaling_10 False\n",
            "2 normalization_10 False\n",
            "3 stem_conv_pad False\n",
            "4 stem_conv False\n",
            "5 stem_bn False\n",
            "6 stem_activation False\n",
            "7 block1a_dwconv False\n",
            "8 block1a_bn False\n",
            "9 block1a_activation False\n",
            "10 block1a_se_squeeze False\n",
            "11 block1a_se_reshape False\n",
            "12 block1a_se_reduce False\n",
            "13 block1a_se_expand False\n",
            "14 block1a_se_excite False\n",
            "15 block1a_project_conv False\n",
            "16 block1a_project_bn False\n",
            "17 block2a_expand_conv False\n",
            "18 block2a_expand_bn False\n",
            "19 block2a_expand_activation False\n",
            "20 block2a_dwconv_pad False\n",
            "21 block2a_dwconv False\n",
            "22 block2a_bn False\n",
            "23 block2a_activation False\n",
            "24 block2a_se_squeeze False\n",
            "25 block2a_se_reshape False\n",
            "26 block2a_se_reduce False\n",
            "27 block2a_se_expand False\n",
            "28 block2a_se_excite False\n",
            "29 block2a_project_conv False\n",
            "30 block2a_project_bn False\n",
            "31 block2b_expand_conv False\n",
            "32 block2b_expand_bn False\n",
            "33 block2b_expand_activation False\n",
            "34 block2b_dwconv False\n",
            "35 block2b_bn False\n",
            "36 block2b_activation False\n",
            "37 block2b_se_squeeze False\n",
            "38 block2b_se_reshape False\n",
            "39 block2b_se_reduce False\n",
            "40 block2b_se_expand False\n",
            "41 block2b_se_excite False\n",
            "42 block2b_project_conv False\n",
            "43 block2b_project_bn False\n",
            "44 block2b_drop False\n",
            "45 block2b_add False\n",
            "46 block3a_expand_conv False\n",
            "47 block3a_expand_bn False\n",
            "48 block3a_expand_activation False\n",
            "49 block3a_dwconv_pad False\n",
            "50 block3a_dwconv False\n",
            "51 block3a_bn False\n",
            "52 block3a_activation False\n",
            "53 block3a_se_squeeze False\n",
            "54 block3a_se_reshape False\n",
            "55 block3a_se_reduce False\n",
            "56 block3a_se_expand False\n",
            "57 block3a_se_excite False\n",
            "58 block3a_project_conv False\n",
            "59 block3a_project_bn False\n",
            "60 block3b_expand_conv False\n",
            "61 block3b_expand_bn False\n",
            "62 block3b_expand_activation False\n",
            "63 block3b_dwconv False\n",
            "64 block3b_bn False\n",
            "65 block3b_activation False\n",
            "66 block3b_se_squeeze False\n",
            "67 block3b_se_reshape False\n",
            "68 block3b_se_reduce False\n",
            "69 block3b_se_expand False\n",
            "70 block3b_se_excite False\n",
            "71 block3b_project_conv False\n",
            "72 block3b_project_bn False\n",
            "73 block3b_drop False\n",
            "74 block3b_add False\n",
            "75 block4a_expand_conv False\n",
            "76 block4a_expand_bn False\n",
            "77 block4a_expand_activation False\n",
            "78 block4a_dwconv_pad False\n",
            "79 block4a_dwconv False\n",
            "80 block4a_bn False\n",
            "81 block4a_activation False\n",
            "82 block4a_se_squeeze False\n",
            "83 block4a_se_reshape False\n",
            "84 block4a_se_reduce False\n",
            "85 block4a_se_expand False\n",
            "86 block4a_se_excite False\n",
            "87 block4a_project_conv False\n",
            "88 block4a_project_bn False\n",
            "89 block4b_expand_conv False\n",
            "90 block4b_expand_bn False\n",
            "91 block4b_expand_activation False\n",
            "92 block4b_dwconv False\n",
            "93 block4b_bn False\n",
            "94 block4b_activation False\n",
            "95 block4b_se_squeeze False\n",
            "96 block4b_se_reshape False\n",
            "97 block4b_se_reduce False\n",
            "98 block4b_se_expand False\n",
            "99 block4b_se_excite False\n",
            "100 block4b_project_conv False\n",
            "101 block4b_project_bn False\n",
            "102 block4b_drop False\n",
            "103 block4b_add False\n",
            "104 block4c_expand_conv False\n",
            "105 block4c_expand_bn False\n",
            "106 block4c_expand_activation False\n",
            "107 block4c_dwconv False\n",
            "108 block4c_bn False\n",
            "109 block4c_activation False\n",
            "110 block4c_se_squeeze False\n",
            "111 block4c_se_reshape False\n",
            "112 block4c_se_reduce False\n",
            "113 block4c_se_expand False\n",
            "114 block4c_se_excite False\n",
            "115 block4c_project_conv False\n",
            "116 block4c_project_bn False\n",
            "117 block4c_drop False\n",
            "118 block4c_add False\n",
            "119 block5a_expand_conv False\n",
            "120 block5a_expand_bn False\n",
            "121 block5a_expand_activation False\n",
            "122 block5a_dwconv False\n",
            "123 block5a_bn False\n",
            "124 block5a_activation False\n",
            "125 block5a_se_squeeze False\n",
            "126 block5a_se_reshape False\n",
            "127 block5a_se_reduce False\n",
            "128 block5a_se_expand False\n",
            "129 block5a_se_excite False\n",
            "130 block5a_project_conv False\n",
            "131 block5a_project_bn False\n",
            "132 block5b_expand_conv False\n",
            "133 block5b_expand_bn False\n",
            "134 block5b_expand_activation False\n",
            "135 block5b_dwconv False\n",
            "136 block5b_bn False\n",
            "137 block5b_activation False\n",
            "138 block5b_se_squeeze False\n",
            "139 block5b_se_reshape False\n",
            "140 block5b_se_reduce False\n",
            "141 block5b_se_expand False\n",
            "142 block5b_se_excite False\n",
            "143 block5b_project_conv False\n",
            "144 block5b_project_bn False\n",
            "145 block5b_drop False\n",
            "146 block5b_add False\n",
            "147 block5c_expand_conv False\n",
            "148 block5c_expand_bn False\n",
            "149 block5c_expand_activation False\n",
            "150 block5c_dwconv False\n",
            "151 block5c_bn False\n",
            "152 block5c_activation False\n",
            "153 block5c_se_squeeze False\n",
            "154 block5c_se_reshape False\n",
            "155 block5c_se_reduce False\n",
            "156 block5c_se_expand False\n",
            "157 block5c_se_excite False\n",
            "158 block5c_project_conv False\n",
            "159 block5c_project_bn False\n",
            "160 block5c_drop False\n",
            "161 block5c_add False\n",
            "162 block6a_expand_conv False\n",
            "163 block6a_expand_bn False\n",
            "164 block6a_expand_activation False\n",
            "165 block6a_dwconv_pad False\n",
            "166 block6a_dwconv False\n",
            "167 block6a_bn False\n",
            "168 block6a_activation False\n",
            "169 block6a_se_squeeze False\n",
            "170 block6a_se_reshape False\n",
            "171 block6a_se_reduce False\n",
            "172 block6a_se_expand False\n",
            "173 block6a_se_excite False\n",
            "174 block6a_project_conv False\n",
            "175 block6a_project_bn False\n",
            "176 block6b_expand_conv False\n",
            "177 block6b_expand_bn False\n",
            "178 block6b_expand_activation False\n",
            "179 block6b_dwconv False\n",
            "180 block6b_bn False\n",
            "181 block6b_activation False\n",
            "182 block6b_se_squeeze False\n",
            "183 block6b_se_reshape False\n",
            "184 block6b_se_reduce False\n",
            "185 block6b_se_expand False\n",
            "186 block6b_se_excite False\n",
            "187 block6b_project_conv False\n",
            "188 block6b_project_bn False\n",
            "189 block6b_drop False\n",
            "190 block6b_add False\n",
            "191 block6c_expand_conv False\n",
            "192 block6c_expand_bn False\n",
            "193 block6c_expand_activation False\n",
            "194 block6c_dwconv False\n",
            "195 block6c_bn False\n",
            "196 block6c_activation False\n",
            "197 block6c_se_squeeze False\n",
            "198 block6c_se_reshape False\n",
            "199 block6c_se_reduce False\n",
            "200 block6c_se_expand False\n",
            "201 block6c_se_excite False\n",
            "202 block6c_project_conv False\n",
            "203 block6c_project_bn False\n",
            "204 block6c_drop False\n",
            "205 block6c_add False\n",
            "206 block6d_expand_conv False\n",
            "207 block6d_expand_bn False\n",
            "208 block6d_expand_activation False\n",
            "209 block6d_dwconv False\n",
            "210 block6d_bn False\n",
            "211 block6d_activation False\n",
            "212 block6d_se_squeeze False\n",
            "213 block6d_se_reshape False\n",
            "214 block6d_se_reduce False\n",
            "215 block6d_se_expand False\n",
            "216 block6d_se_excite False\n",
            "217 block6d_project_conv False\n",
            "218 block6d_project_bn False\n",
            "219 block6d_drop False\n",
            "220 block6d_add False\n",
            "221 block7a_expand_conv False\n",
            "222 block7a_expand_bn False\n",
            "223 block7a_expand_activation False\n",
            "224 block7a_dwconv False\n",
            "225 block7a_bn False\n",
            "226 block7a_activation False\n",
            "227 block7a_se_squeeze False\n",
            "228 block7a_se_reshape False\n",
            "229 block7a_se_reduce False\n",
            "230 block7a_se_expand False\n",
            "231 block7a_se_excite False\n",
            "232 block7a_project_conv False\n",
            "233 block7a_project_bn False\n",
            "234 top_conv False\n",
            "235 top_bn False\n",
            "236 top_activation False\n"
          ]
        }
      ]
    },
    {
      "cell_type": "code",
      "source": [
        "base_model.trainable = True\n",
        "\n",
        "# Freeze all layers except for the\n",
        "for layer in base_model.layers[:-10]:\n",
        "  layer.trainable = False\n",
        "\n",
        "# Recompile the model (always recompile after any adjustments to a model)\n",
        "model_2.compile(loss=\"categorical_crossentropy\",\n",
        "              optimizer=tf.keras.optimizers.Adam(learning_rate=0.0001), # lr is 10x lower than before for fine-tuning\n",
        "              metrics=[\"accuracy\"])"
      ],
      "metadata": {
        "id": "-pgxs-yYyuX8"
      },
      "execution_count": 105,
      "outputs": []
    },
    {
      "cell_type": "code",
      "source": [
        "# Check Which Layer Are Tuneable (Trainable)\n",
        "\n",
        "for layer_number, layer in enumerate(model_2.layers[2].layers):\n",
        "  print(layer_number, layer.name, layer.trainable)"
      ],
      "metadata": {
        "colab": {
          "base_uri": "https://localhost:8080/"
        },
        "id": "8MvozAQQzhH5",
        "outputId": "5b12ee03-9094-4c41-f024-1834d925545c"
      },
      "execution_count": 106,
      "outputs": [
        {
          "output_type": "stream",
          "name": "stdout",
          "text": [
            "0 input_11 False\n",
            "1 rescaling_10 False\n",
            "2 normalization_10 False\n",
            "3 stem_conv_pad False\n",
            "4 stem_conv False\n",
            "5 stem_bn False\n",
            "6 stem_activation False\n",
            "7 block1a_dwconv False\n",
            "8 block1a_bn False\n",
            "9 block1a_activation False\n",
            "10 block1a_se_squeeze False\n",
            "11 block1a_se_reshape False\n",
            "12 block1a_se_reduce False\n",
            "13 block1a_se_expand False\n",
            "14 block1a_se_excite False\n",
            "15 block1a_project_conv False\n",
            "16 block1a_project_bn False\n",
            "17 block2a_expand_conv False\n",
            "18 block2a_expand_bn False\n",
            "19 block2a_expand_activation False\n",
            "20 block2a_dwconv_pad False\n",
            "21 block2a_dwconv False\n",
            "22 block2a_bn False\n",
            "23 block2a_activation False\n",
            "24 block2a_se_squeeze False\n",
            "25 block2a_se_reshape False\n",
            "26 block2a_se_reduce False\n",
            "27 block2a_se_expand False\n",
            "28 block2a_se_excite False\n",
            "29 block2a_project_conv False\n",
            "30 block2a_project_bn False\n",
            "31 block2b_expand_conv False\n",
            "32 block2b_expand_bn False\n",
            "33 block2b_expand_activation False\n",
            "34 block2b_dwconv False\n",
            "35 block2b_bn False\n",
            "36 block2b_activation False\n",
            "37 block2b_se_squeeze False\n",
            "38 block2b_se_reshape False\n",
            "39 block2b_se_reduce False\n",
            "40 block2b_se_expand False\n",
            "41 block2b_se_excite False\n",
            "42 block2b_project_conv False\n",
            "43 block2b_project_bn False\n",
            "44 block2b_drop False\n",
            "45 block2b_add False\n",
            "46 block3a_expand_conv False\n",
            "47 block3a_expand_bn False\n",
            "48 block3a_expand_activation False\n",
            "49 block3a_dwconv_pad False\n",
            "50 block3a_dwconv False\n",
            "51 block3a_bn False\n",
            "52 block3a_activation False\n",
            "53 block3a_se_squeeze False\n",
            "54 block3a_se_reshape False\n",
            "55 block3a_se_reduce False\n",
            "56 block3a_se_expand False\n",
            "57 block3a_se_excite False\n",
            "58 block3a_project_conv False\n",
            "59 block3a_project_bn False\n",
            "60 block3b_expand_conv False\n",
            "61 block3b_expand_bn False\n",
            "62 block3b_expand_activation False\n",
            "63 block3b_dwconv False\n",
            "64 block3b_bn False\n",
            "65 block3b_activation False\n",
            "66 block3b_se_squeeze False\n",
            "67 block3b_se_reshape False\n",
            "68 block3b_se_reduce False\n",
            "69 block3b_se_expand False\n",
            "70 block3b_se_excite False\n",
            "71 block3b_project_conv False\n",
            "72 block3b_project_bn False\n",
            "73 block3b_drop False\n",
            "74 block3b_add False\n",
            "75 block4a_expand_conv False\n",
            "76 block4a_expand_bn False\n",
            "77 block4a_expand_activation False\n",
            "78 block4a_dwconv_pad False\n",
            "79 block4a_dwconv False\n",
            "80 block4a_bn False\n",
            "81 block4a_activation False\n",
            "82 block4a_se_squeeze False\n",
            "83 block4a_se_reshape False\n",
            "84 block4a_se_reduce False\n",
            "85 block4a_se_expand False\n",
            "86 block4a_se_excite False\n",
            "87 block4a_project_conv False\n",
            "88 block4a_project_bn False\n",
            "89 block4b_expand_conv False\n",
            "90 block4b_expand_bn False\n",
            "91 block4b_expand_activation False\n",
            "92 block4b_dwconv False\n",
            "93 block4b_bn False\n",
            "94 block4b_activation False\n",
            "95 block4b_se_squeeze False\n",
            "96 block4b_se_reshape False\n",
            "97 block4b_se_reduce False\n",
            "98 block4b_se_expand False\n",
            "99 block4b_se_excite False\n",
            "100 block4b_project_conv False\n",
            "101 block4b_project_bn False\n",
            "102 block4b_drop False\n",
            "103 block4b_add False\n",
            "104 block4c_expand_conv False\n",
            "105 block4c_expand_bn False\n",
            "106 block4c_expand_activation False\n",
            "107 block4c_dwconv False\n",
            "108 block4c_bn False\n",
            "109 block4c_activation False\n",
            "110 block4c_se_squeeze False\n",
            "111 block4c_se_reshape False\n",
            "112 block4c_se_reduce False\n",
            "113 block4c_se_expand False\n",
            "114 block4c_se_excite False\n",
            "115 block4c_project_conv False\n",
            "116 block4c_project_bn False\n",
            "117 block4c_drop False\n",
            "118 block4c_add False\n",
            "119 block5a_expand_conv False\n",
            "120 block5a_expand_bn False\n",
            "121 block5a_expand_activation False\n",
            "122 block5a_dwconv False\n",
            "123 block5a_bn False\n",
            "124 block5a_activation False\n",
            "125 block5a_se_squeeze False\n",
            "126 block5a_se_reshape False\n",
            "127 block5a_se_reduce False\n",
            "128 block5a_se_expand False\n",
            "129 block5a_se_excite False\n",
            "130 block5a_project_conv False\n",
            "131 block5a_project_bn False\n",
            "132 block5b_expand_conv False\n",
            "133 block5b_expand_bn False\n",
            "134 block5b_expand_activation False\n",
            "135 block5b_dwconv False\n",
            "136 block5b_bn False\n",
            "137 block5b_activation False\n",
            "138 block5b_se_squeeze False\n",
            "139 block5b_se_reshape False\n",
            "140 block5b_se_reduce False\n",
            "141 block5b_se_expand False\n",
            "142 block5b_se_excite False\n",
            "143 block5b_project_conv False\n",
            "144 block5b_project_bn False\n",
            "145 block5b_drop False\n",
            "146 block5b_add False\n",
            "147 block5c_expand_conv False\n",
            "148 block5c_expand_bn False\n",
            "149 block5c_expand_activation False\n",
            "150 block5c_dwconv False\n",
            "151 block5c_bn False\n",
            "152 block5c_activation False\n",
            "153 block5c_se_squeeze False\n",
            "154 block5c_se_reshape False\n",
            "155 block5c_se_reduce False\n",
            "156 block5c_se_expand False\n",
            "157 block5c_se_excite False\n",
            "158 block5c_project_conv False\n",
            "159 block5c_project_bn False\n",
            "160 block5c_drop False\n",
            "161 block5c_add False\n",
            "162 block6a_expand_conv False\n",
            "163 block6a_expand_bn False\n",
            "164 block6a_expand_activation False\n",
            "165 block6a_dwconv_pad False\n",
            "166 block6a_dwconv False\n",
            "167 block6a_bn False\n",
            "168 block6a_activation False\n",
            "169 block6a_se_squeeze False\n",
            "170 block6a_se_reshape False\n",
            "171 block6a_se_reduce False\n",
            "172 block6a_se_expand False\n",
            "173 block6a_se_excite False\n",
            "174 block6a_project_conv False\n",
            "175 block6a_project_bn False\n",
            "176 block6b_expand_conv False\n",
            "177 block6b_expand_bn False\n",
            "178 block6b_expand_activation False\n",
            "179 block6b_dwconv False\n",
            "180 block6b_bn False\n",
            "181 block6b_activation False\n",
            "182 block6b_se_squeeze False\n",
            "183 block6b_se_reshape False\n",
            "184 block6b_se_reduce False\n",
            "185 block6b_se_expand False\n",
            "186 block6b_se_excite False\n",
            "187 block6b_project_conv False\n",
            "188 block6b_project_bn False\n",
            "189 block6b_drop False\n",
            "190 block6b_add False\n",
            "191 block6c_expand_conv False\n",
            "192 block6c_expand_bn False\n",
            "193 block6c_expand_activation False\n",
            "194 block6c_dwconv False\n",
            "195 block6c_bn False\n",
            "196 block6c_activation False\n",
            "197 block6c_se_squeeze False\n",
            "198 block6c_se_reshape False\n",
            "199 block6c_se_reduce False\n",
            "200 block6c_se_expand False\n",
            "201 block6c_se_excite False\n",
            "202 block6c_project_conv False\n",
            "203 block6c_project_bn False\n",
            "204 block6c_drop False\n",
            "205 block6c_add False\n",
            "206 block6d_expand_conv False\n",
            "207 block6d_expand_bn False\n",
            "208 block6d_expand_activation False\n",
            "209 block6d_dwconv False\n",
            "210 block6d_bn False\n",
            "211 block6d_activation False\n",
            "212 block6d_se_squeeze False\n",
            "213 block6d_se_reshape False\n",
            "214 block6d_se_reduce False\n",
            "215 block6d_se_expand False\n",
            "216 block6d_se_excite False\n",
            "217 block6d_project_conv False\n",
            "218 block6d_project_bn False\n",
            "219 block6d_drop False\n",
            "220 block6d_add False\n",
            "221 block7a_expand_conv False\n",
            "222 block7a_expand_bn False\n",
            "223 block7a_expand_activation False\n",
            "224 block7a_dwconv False\n",
            "225 block7a_bn False\n",
            "226 block7a_activation False\n",
            "227 block7a_se_squeeze True\n",
            "228 block7a_se_reshape True\n",
            "229 block7a_se_reduce True\n",
            "230 block7a_se_expand True\n",
            "231 block7a_se_excite True\n",
            "232 block7a_project_conv True\n",
            "233 block7a_project_bn True\n",
            "234 top_conv True\n",
            "235 top_bn True\n",
            "236 top_activation True\n"
          ]
        }
      ]
    },
    {
      "cell_type": "markdown",
      "source": [
        "**When You are Using Fine Tuning, Its Best Practice To Lower Your Learning rate By Some Amount. This is Hyperparameters You can tune But a Good Rule of thumb is at least 10x**\n",
        "\n",
        "\n",
        "**A Good Resource is ULMFIT Research Paper**\n",
        "\n"
      ],
      "metadata": {
        "id": "DHbKfFNWz8aZ"
      }
    },
    {
      "cell_type": "code",
      "source": [
        "print(len(model_2.trainable_variables))"
      ],
      "metadata": {
        "colab": {
          "base_uri": "https://localhost:8080/"
        },
        "id": "IYRA4izp0NIz",
        "outputId": "c5246565-4e9b-406e-871c-ca26fa4ad351"
      },
      "execution_count": 101,
      "outputs": [
        {
          "output_type": "stream",
          "name": "stdout",
          "text": [
            "12\n"
          ]
        }
      ]
    },
    {
      "cell_type": "code",
      "source": [
        "# Fine tune for another 5 epochs\n",
        "fine_tune_epochs = initial_epochs + 5\n",
        "\n",
        "# Refit the model (same as model_2 except with more trainable layers)\n",
        "history_fine_10_percent_data_aug = model_2.fit(train_data_10_percent,\n",
        "                                               epochs=fine_tune_epochs,\n",
        "                                               validation_data=test_data,\n",
        "                                               initial_epoch=history_10_percent_data_aug.epoch[-1], # start from previous last epoch\n",
        "                                               validation_steps=int(0.25 * len(test_data)),\n",
        "                                               callbacks=[create_tensorboard_callback(\"transfer_learning\", \"10_percent_fine_tune_last_10\")])"
      ],
      "metadata": {
        "colab": {
          "base_uri": "https://localhost:8080/"
        },
        "id": "antMWbM-0XaC",
        "outputId": "b2f8cc3c-b048-46ae-f4c1-aa98566d2370"
      },
      "execution_count": 109,
      "outputs": [
        {
          "output_type": "stream",
          "name": "stdout",
          "text": [
            "Saving TensorBoard log files to: transfer_learning/10_percent_fine_tune_last_10/20220222-191645\n",
            "Epoch 5/10\n",
            "24/24 [==============================] - 13s 308ms/step - loss: 0.2286 - accuracy: 0.9333 - val_loss: 0.5680 - val_accuracy: 0.8125\n",
            "Epoch 6/10\n",
            "24/24 [==============================] - 7s 301ms/step - loss: 0.2140 - accuracy: 0.9387 - val_loss: 0.4719 - val_accuracy: 0.8421\n",
            "Epoch 7/10\n",
            "24/24 [==============================] - 6s 222ms/step - loss: 0.1961 - accuracy: 0.9547 - val_loss: 0.5026 - val_accuracy: 0.8273\n",
            "Epoch 8/10\n",
            "24/24 [==============================] - 5s 213ms/step - loss: 0.1983 - accuracy: 0.9440 - val_loss: 0.4717 - val_accuracy: 0.8569\n",
            "Epoch 9/10\n",
            "24/24 [==============================] - 7s 288ms/step - loss: 0.1633 - accuracy: 0.9587 - val_loss: 0.4435 - val_accuracy: 0.8553\n",
            "Epoch 10/10\n",
            "24/24 [==============================] - 6s 214ms/step - loss: 0.1645 - accuracy: 0.9507 - val_loss: 0.4981 - val_accuracy: 0.8503\n"
          ]
        }
      ]
    },
    {
      "cell_type": "code",
      "source": [
        "# Evaluate The Fine Tuned Model\n",
        "\n",
        "result_fine_tune_10_percent = model_2.evaluate(test_data)\n",
        "result_10_percent_data_aug"
      ],
      "metadata": {
        "colab": {
          "base_uri": "https://localhost:8080/"
        },
        "id": "gvBRzYJx1ezj",
        "outputId": "6bbc756d-bda5-4a8a-bdca-1b550a5da7b1"
      },
      "execution_count": 110,
      "outputs": [
        {
          "output_type": "stream",
          "name": "stdout",
          "text": [
            "79/79 [==============================] - 6s 71ms/step - loss: 0.4808 - accuracy: 0.8464\n"
          ]
        },
        {
          "output_type": "execute_result",
          "data": {
            "text/plain": [
              "[0.6973062753677368, 0.8127999901771545]"
            ]
          },
          "metadata": {},
          "execution_count": 110
        }
      ]
    },
    {
      "cell_type": "markdown",
      "source": [
        "# **Compairing Our Model Results**\n",
        "\n",
        "**The Plot Loss Function Works Great With Model Which Have Only Been Fit once. However we want to compare one Series of Running Fit With Another**\n",
        "\n",
        "\n"
      ],
      "metadata": {
        "id": "a1V6S_rF2W6y"
      }
    },
    {
      "cell_type": "code",
      "source": [
        "# Lets Create Function To Compare Training Histories\n",
        "\n",
        "def compare_historys(original_history, new_history, inital_epochs):\n",
        "  '''\n",
        "  Compare Two Tensorflow History Objects\n",
        "  '''\n",
        "\n",
        "  # Get Original History Measurments\n",
        "\n",
        "  acc = original_history.history['accuracy']\n",
        "  loss = original_history.history['loss']\n",
        "  val_acc = original_history.history['val_accuracy']\n",
        "  val_loss = original_history.history['val_loss']\n",
        "\n",
        "\n",
        "  # Combine Original History Metrics With New History Metrics\n",
        "\n",
        "  total_acc = acc + new_history.history[\"accuracy\"]\n",
        "  total_loss = loss + new_history.history[\"loss\"]\n",
        "  total_val_acc = val_acc + new_history.history[\"val_accuracy\"]\n",
        "  total_val_loss = val_loss + new_history.history[\"val_loss\"]\n",
        "\n",
        "\n",
        "  # Make plots\n",
        "  plt.figure(figsize=(8, 8))\n",
        "  plt.subplot(2, 1, 1)\n",
        "  plt.plot(total_acc, label='Training Accuracy')\n",
        "  plt.plot(total_val_acc, label='Validation Accuracy')\n",
        "  plt.plot([initial_epochs-1, initial_epochs-1],\n",
        "              plt.ylim(), label='Start Fine Tuning') \n",
        "  plt.legend(loc='lower right')\n",
        "  plt.title('Training and Validation Accuracy')\n",
        "\n",
        "\n",
        "  plt.subplot(2, 1, 2)\n",
        "  plt.plot(total_loss, label='Training Loss')\n",
        "  plt.plot(total_val_loss, label='Validation Loss')\n",
        "  plt.plot([initial_epochs-1, initial_epochs-1],\n",
        "              plt.ylim(), label='Start Fine Tuning') \n",
        "  plt.legend(loc='upper right')\n",
        "  plt.title('Training and Validation Loss')\n",
        "  plt.xlabel('epoch')\n",
        "  plt.show()\n"
      ],
      "metadata": {
        "id": "t34-4PZ-31--"
      },
      "execution_count": 125,
      "outputs": []
    },
    {
      "cell_type": "code",
      "source": [
        "compare_historys(history_10_percent_data_aug, history_fine_10_percent_data_aug, inital_epochs=5)"
      ],
      "metadata": {
        "colab": {
          "base_uri": "https://localhost:8080/",
          "height": 513
        },
        "id": "XQOqnUSX65pX",
        "outputId": "78f08c48-d477-4877-8310-d1ac2f2b9470"
      },
      "execution_count": 126,
      "outputs": [
        {
          "output_type": "display_data",
          "data": {
            "image/png": "[encoded data removed]",
            "text/plain": [
              "<Figure size 576x576 with 2 Axes>"
            ]
          },
          "metadata": {
            "needs_background": "light"
          }
        }
      ]
    },
    {
      "cell_type": "markdown",
      "source": [
        "# **Model No 4. The Last  Model In Fine Tuning**"
      ],
      "metadata": {
        "id": "XpzkY65G87kL"
      }
    },
    {
      "cell_type": "code",
      "source": [
        "# Model No 4 Fine Tuning and  Existing Model Of All Data\n",
        "\n",
        "# Download & Unzip Data\n",
        "\n",
        "!wget https://storage.googleapis.com/ztm_tf_course/food_vision/10_food_classes_all_data.zip\n",
        "unzip_data('10_food_classes_all_data.zip')"
      ],
      "metadata": {
        "colab": {
          "base_uri": "https://localhost:8080/"
        },
        "id": "s4M9gftd7H8v",
        "outputId": "461a3770-5248-4f60-9034-aaef6ed80112"
      },
      "execution_count": 127,
      "outputs": [
        {
          "output_type": "stream",
          "name": "stdout",
          "text": [
            "--2022-02-22 20:21:28--  https://storage.googleapis.com/ztm_tf_course/food_vision/10_food_classes_all_data.zip\n",
            "Resolving storage.googleapis.com (storage.googleapis.com)... 142.251.45.16, 172.217.0.48, 172.217.1.208, ...\n",
            "Connecting to storage.googleapis.com (storage.googleapis.com)|142.251.45.16|:443... connected.\n",
            "HTTP request sent, awaiting response... 200 OK\n",
            "Length: 519183241 (495M) [application/zip]\n",
            "Saving to: ‘10_food_classes_all_data.zip’\n",
            "\n",
            "10_food_classes_all 100%[===================>] 495.13M  85.0MB/s    in 6.0s    \n",
            "\n",
            "2022-02-22 20:21:34 (83.0 MB/s) - ‘10_food_classes_all_data.zip’ saved [519183241/519183241]\n",
            "\n"
          ]
        }
      ]
    },
    {
      "cell_type": "code",
      "source": [
        "# Setup Training and Test Dir\n",
        "\n",
        "train_dir_all_data = '10_food_classes_all_data/train'\n",
        "test_dir = '10_food_classes_all_data/test'"
      ],
      "metadata": {
        "id": "EpxpBwUFGI2z"
      },
      "execution_count": 128,
      "outputs": []
    },
    {
      "cell_type": "code",
      "source": [
        "#How many Images Are We Working With\n",
        "\n",
        "walk_through_dir('10_food_classes_all_data')"
      ],
      "metadata": {
        "colab": {
          "base_uri": "https://localhost:8080/"
        },
        "id": "4u3BZQ_VGWtd",
        "outputId": "ce1468f2-c901-40d5-9d3d-894cbe1da48f"
      },
      "execution_count": 130,
      "outputs": [
        {
          "output_type": "stream",
          "name": "stdout",
          "text": [
            "There are 2 directories and 0 images in '10_food_classes_all_data'.\n",
            "There are 10 directories and 0 images in '10_food_classes_all_data/train'.\n",
            "There are 0 directories and 750 images in '10_food_classes_all_data/train/chicken_wings'.\n",
            "There are 0 directories and 750 images in '10_food_classes_all_data/train/hamburger'.\n",
            "There are 0 directories and 750 images in '10_food_classes_all_data/train/ice_cream'.\n",
            "There are 0 directories and 750 images in '10_food_classes_all_data/train/pizza'.\n",
            "There are 0 directories and 750 images in '10_food_classes_all_data/train/ramen'.\n",
            "There are 0 directories and 750 images in '10_food_classes_all_data/train/grilled_salmon'.\n",
            "There are 0 directories and 750 images in '10_food_classes_all_data/train/sushi'.\n",
            "There are 0 directories and 750 images in '10_food_classes_all_data/train/fried_rice'.\n",
            "There are 0 directories and 750 images in '10_food_classes_all_data/train/steak'.\n",
            "There are 0 directories and 750 images in '10_food_classes_all_data/train/chicken_curry'.\n",
            "There are 10 directories and 0 images in '10_food_classes_all_data/test'.\n",
            "There are 0 directories and 250 images in '10_food_classes_all_data/test/chicken_wings'.\n",
            "There are 0 directories and 250 images in '10_food_classes_all_data/test/hamburger'.\n",
            "There are 0 directories and 250 images in '10_food_classes_all_data/test/ice_cream'.\n",
            "There are 0 directories and 250 images in '10_food_classes_all_data/test/pizza'.\n",
            "There are 0 directories and 250 images in '10_food_classes_all_data/test/ramen'.\n",
            "There are 0 directories and 250 images in '10_food_classes_all_data/test/grilled_salmon'.\n",
            "There are 0 directories and 250 images in '10_food_classes_all_data/test/sushi'.\n",
            "There are 0 directories and 250 images in '10_food_classes_all_data/test/fried_rice'.\n",
            "There are 0 directories and 250 images in '10_food_classes_all_data/test/steak'.\n",
            "There are 0 directories and 250 images in '10_food_classes_all_data/test/chicken_curry'.\n"
          ]
        }
      ]
    },
    {
      "cell_type": "code",
      "source": [
        "#Setup Data Input \n",
        "\n",
        "import tensorflow as tf\n",
        "IMG_SIZE = (224,224)\n",
        "\n",
        "train_data_10_classes_full = tf.keras.preprocessing.image_dataset_from_directory(train_dir_all_data,\n",
        "                                                                                 label_mode='categorical',\n",
        "                                                                                 image_size= IMG_SIZE)\n",
        "\n",
        "test_data = tf.keras.preprocessing.image_dataset_from_directory(test_dir,\n",
        "                                                                label_mode ='categorical',\n",
        "                                                                image_size= IMG_SIZE)"
      ],
      "metadata": {
        "colab": {
          "base_uri": "https://localhost:8080/"
        },
        "id": "6Hr3ukGLGcdu",
        "outputId": "d6db2a3d-c954-4985-d3f2-53b2a1ff91db"
      },
      "execution_count": 131,
      "outputs": [
        {
          "output_type": "stream",
          "name": "stdout",
          "text": [
            "Found 7500 files belonging to 10 classes.\n",
            "Found 2500 files belonging to 10 classes.\n"
          ]
        }
      ]
    },
    {
      "cell_type": "markdown",
      "source": [
        "# **Prepraing Our Final Model Experiments**\n",
        "\n",
        "\n",
        "**Evaluate Model 2 (This is Fine-Tuned on 10 Percent of data Version)**"
      ],
      "metadata": {
        "id": "clUb5KADG_rl"
      }
    },
    {
      "cell_type": "code",
      "source": [
        "model_2.evaluate(test_data)"
      ],
      "metadata": {
        "colab": {
          "base_uri": "https://localhost:8080/"
        },
        "id": "IjresJv3G-Nm",
        "outputId": "afb4eea8-8e92-486c-ed96-e3cc9d2340e7"
      },
      "execution_count": 132,
      "outputs": [
        {
          "output_type": "stream",
          "name": "stdout",
          "text": [
            "79/79 [==============================] - 8s 88ms/step - loss: 0.4808 - accuracy: 0.8464\n"
          ]
        },
        {
          "output_type": "execute_result",
          "data": {
            "text/plain": [
              "[0.4808498024940491, 0.8464000225067139]"
            ]
          },
          "metadata": {},
          "execution_count": 132
        }
      ]
    },
    {
      "cell_type": "code",
      "source": [
        "result_fine_tune_10_percent"
      ],
      "metadata": {
        "colab": {
          "base_uri": "https://localhost:8080/"
        },
        "id": "i5PvdbIFHWCK",
        "outputId": "fe315167-326b-4e1f-f0fc-15a77bf4d6b3"
      },
      "execution_count": 133,
      "outputs": [
        {
          "output_type": "execute_result",
          "data": {
            "text/plain": [
              "[0.4808497130870819, 0.8464000225067139]"
            ]
          },
          "metadata": {},
          "execution_count": 133
        }
      ]
    },
    {
      "cell_type": "markdown",
      "source": [
        "**To Train Fine Tuning Model (Model_4) , We need To revert model 2 Back to its Feature Extraction We need to revert Model 2 Back To its Feature Extraction Weights**"
      ],
      "metadata": {
        "id": "i6XXjWbzHb47"
      }
    },
    {
      "cell_type": "code",
      "source": [
        "# Load Weights From Checkpoint\n",
        "\n",
        "model_2.load_weights(checkpoint_path)"
      ],
      "metadata": {
        "colab": {
          "base_uri": "https://localhost:8080/"
        },
        "id": "MLuH_xkWHZ50",
        "outputId": "8aff06b0-f696-459f-c2ac-525fbc9cc673"
      },
      "execution_count": 134,
      "outputs": [
        {
          "output_type": "execute_result",
          "data": {
            "text/plain": [
              "<tensorflow.python.training.tracking.util.CheckpointLoadStatus at 0x7f0dfdc9c810>"
            ]
          },
          "metadata": {},
          "execution_count": 134
        }
      ]
    },
    {
      "cell_type": "code",
      "source": [
        "# Lets Evaluate Model 2 now \n",
        "\n",
        "model_2.evaluate(test_data)"
      ],
      "metadata": {
        "colab": {
          "base_uri": "https://localhost:8080/"
        },
        "id": "DU_4i_dZIG4K",
        "outputId": "98f66522-256b-4d2e-e52d-85cc4eb66de0"
      },
      "execution_count": 135,
      "outputs": [
        {
          "output_type": "stream",
          "name": "stdout",
          "text": [
            "79/79 [==============================] - 7s 78ms/step - loss: 0.6973 - accuracy: 0.8128\n"
          ]
        },
        {
          "output_type": "execute_result",
          "data": {
            "text/plain": [
              "[0.6973060369491577, 0.8127999901771545]"
            ]
          },
          "metadata": {},
          "execution_count": 135
        }
      ]
    },
    {
      "cell_type": "code",
      "source": [
        "# Check To see if Our Model 2 Has Been Reverted Back to Feature Extraction Results\n",
        "\n",
        "result_10_percent_data_aug"
      ],
      "metadata": {
        "colab": {
          "base_uri": "https://localhost:8080/"
        },
        "id": "OTiFIuOKIO5B",
        "outputId": "2d1316cc-9936-4836-cdfb-d73cff5fc61f"
      },
      "execution_count": 136,
      "outputs": [
        {
          "output_type": "execute_result",
          "data": {
            "text/plain": [
              "[0.6973062753677368, 0.8127999901771545]"
            ]
          },
          "metadata": {},
          "execution_count": 136
        }
      ]
    },
    {
      "cell_type": "markdown",
      "source": [
        "# **Alright, The Previous Steps Might Seen Quite Confusing but all we have done is:**\n",
        "\n",
        "**1- Trained A Feature Extraction Transfer Learning Model For 5 Epochs on 10% of Data With data Augmentation (Model No 2) and We Saved Model's Weight Using Model Checkpoint Callback**\n",
        "\n",
        "**2- Fine Tuned The Same Model on the same 10% of Data For further 5 Epochs with top  layers of base model unfrozen (model_3)**\n",
        "\n",
        "**3- Saved The Results And Training logs each time**\n",
        "\n",
        "**4- Reloaded The Model From Step 1 to do the same steps as Step 2 except this time we are going to use all of data (model_4)**\n",
        "\n"
      ],
      "metadata": {
        "id": "V8kz-PobIb8c"
      }
    },
    {
      "cell_type": "code",
      "source": [
        "# Check which layers are tuneable in the base model\n",
        "for layer_number, layer in enumerate(base_model.layers):\n",
        "  print(layer_number, layer.name, layer.trainable)"
      ],
      "metadata": {
        "colab": {
          "base_uri": "https://localhost:8080/"
        },
        "id": "osQW7_amIYxS",
        "outputId": "4688021a-f132-41a9-e6a8-a758c864c608"
      },
      "execution_count": 138,
      "outputs": [
        {
          "output_type": "stream",
          "name": "stdout",
          "text": [
            "0 input_11 False\n",
            "1 rescaling_10 False\n",
            "2 normalization_10 False\n",
            "3 stem_conv_pad False\n",
            "4 stem_conv False\n",
            "5 stem_bn False\n",
            "6 stem_activation False\n",
            "7 block1a_dwconv False\n",
            "8 block1a_bn False\n",
            "9 block1a_activation False\n",
            "10 block1a_se_squeeze False\n",
            "11 block1a_se_reshape False\n",
            "12 block1a_se_reduce False\n",
            "13 block1a_se_expand False\n",
            "14 block1a_se_excite False\n",
            "15 block1a_project_conv False\n",
            "16 block1a_project_bn False\n",
            "17 block2a_expand_conv False\n",
            "18 block2a_expand_bn False\n",
            "19 block2a_expand_activation False\n",
            "20 block2a_dwconv_pad False\n",
            "21 block2a_dwconv False\n",
            "22 block2a_bn False\n",
            "23 block2a_activation False\n",
            "24 block2a_se_squeeze False\n",
            "25 block2a_se_reshape False\n",
            "26 block2a_se_reduce False\n",
            "27 block2a_se_expand False\n",
            "28 block2a_se_excite False\n",
            "29 block2a_project_conv False\n",
            "30 block2a_project_bn False\n",
            "31 block2b_expand_conv False\n",
            "32 block2b_expand_bn False\n",
            "33 block2b_expand_activation False\n",
            "34 block2b_dwconv False\n",
            "35 block2b_bn False\n",
            "36 block2b_activation False\n",
            "37 block2b_se_squeeze False\n",
            "38 block2b_se_reshape False\n",
            "39 block2b_se_reduce False\n",
            "40 block2b_se_expand False\n",
            "41 block2b_se_excite False\n",
            "42 block2b_project_conv False\n",
            "43 block2b_project_bn False\n",
            "44 block2b_drop False\n",
            "45 block2b_add False\n",
            "46 block3a_expand_conv False\n",
            "47 block3a_expand_bn False\n",
            "48 block3a_expand_activation False\n",
            "49 block3a_dwconv_pad False\n",
            "50 block3a_dwconv False\n",
            "51 block3a_bn False\n",
            "52 block3a_activation False\n",
            "53 block3a_se_squeeze False\n",
            "54 block3a_se_reshape False\n",
            "55 block3a_se_reduce False\n",
            "56 block3a_se_expand False\n",
            "57 block3a_se_excite False\n",
            "58 block3a_project_conv False\n",
            "59 block3a_project_bn False\n",
            "60 block3b_expand_conv False\n",
            "61 block3b_expand_bn False\n",
            "62 block3b_expand_activation False\n",
            "63 block3b_dwconv False\n",
            "64 block3b_bn False\n",
            "65 block3b_activation False\n",
            "66 block3b_se_squeeze False\n",
            "67 block3b_se_reshape False\n",
            "68 block3b_se_reduce False\n",
            "69 block3b_se_expand False\n",
            "70 block3b_se_excite False\n",
            "71 block3b_project_conv False\n",
            "72 block3b_project_bn False\n",
            "73 block3b_drop False\n",
            "74 block3b_add False\n",
            "75 block4a_expand_conv False\n",
            "76 block4a_expand_bn False\n",
            "77 block4a_expand_activation False\n",
            "78 block4a_dwconv_pad False\n",
            "79 block4a_dwconv False\n",
            "80 block4a_bn False\n",
            "81 block4a_activation False\n",
            "82 block4a_se_squeeze False\n",
            "83 block4a_se_reshape False\n",
            "84 block4a_se_reduce False\n",
            "85 block4a_se_expand False\n",
            "86 block4a_se_excite False\n",
            "87 block4a_project_conv False\n",
            "88 block4a_project_bn False\n",
            "89 block4b_expand_conv False\n",
            "90 block4b_expand_bn False\n",
            "91 block4b_expand_activation False\n",
            "92 block4b_dwconv False\n",
            "93 block4b_bn False\n",
            "94 block4b_activation False\n",
            "95 block4b_se_squeeze False\n",
            "96 block4b_se_reshape False\n",
            "97 block4b_se_reduce False\n",
            "98 block4b_se_expand False\n",
            "99 block4b_se_excite False\n",
            "100 block4b_project_conv False\n",
            "101 block4b_project_bn False\n",
            "102 block4b_drop False\n",
            "103 block4b_add False\n",
            "104 block4c_expand_conv False\n",
            "105 block4c_expand_bn False\n",
            "106 block4c_expand_activation False\n",
            "107 block4c_dwconv False\n",
            "108 block4c_bn False\n",
            "109 block4c_activation False\n",
            "110 block4c_se_squeeze False\n",
            "111 block4c_se_reshape False\n",
            "112 block4c_se_reduce False\n",
            "113 block4c_se_expand False\n",
            "114 block4c_se_excite False\n",
            "115 block4c_project_conv False\n",
            "116 block4c_project_bn False\n",
            "117 block4c_drop False\n",
            "118 block4c_add False\n",
            "119 block5a_expand_conv False\n",
            "120 block5a_expand_bn False\n",
            "121 block5a_expand_activation False\n",
            "122 block5a_dwconv False\n",
            "123 block5a_bn False\n",
            "124 block5a_activation False\n",
            "125 block5a_se_squeeze False\n",
            "126 block5a_se_reshape False\n",
            "127 block5a_se_reduce False\n",
            "128 block5a_se_expand False\n",
            "129 block5a_se_excite False\n",
            "130 block5a_project_conv False\n",
            "131 block5a_project_bn False\n",
            "132 block5b_expand_conv False\n",
            "133 block5b_expand_bn False\n",
            "134 block5b_expand_activation False\n",
            "135 block5b_dwconv False\n",
            "136 block5b_bn False\n",
            "137 block5b_activation False\n",
            "138 block5b_se_squeeze False\n",
            "139 block5b_se_reshape False\n",
            "140 block5b_se_reduce False\n",
            "141 block5b_se_expand False\n",
            "142 block5b_se_excite False\n",
            "143 block5b_project_conv False\n",
            "144 block5b_project_bn False\n",
            "145 block5b_drop False\n",
            "146 block5b_add False\n",
            "147 block5c_expand_conv False\n",
            "148 block5c_expand_bn False\n",
            "149 block5c_expand_activation False\n",
            "150 block5c_dwconv False\n",
            "151 block5c_bn False\n",
            "152 block5c_activation False\n",
            "153 block5c_se_squeeze False\n",
            "154 block5c_se_reshape False\n",
            "155 block5c_se_reduce False\n",
            "156 block5c_se_expand False\n",
            "157 block5c_se_excite False\n",
            "158 block5c_project_conv False\n",
            "159 block5c_project_bn False\n",
            "160 block5c_drop False\n",
            "161 block5c_add False\n",
            "162 block6a_expand_conv False\n",
            "163 block6a_expand_bn False\n",
            "164 block6a_expand_activation False\n",
            "165 block6a_dwconv_pad False\n",
            "166 block6a_dwconv False\n",
            "167 block6a_bn False\n",
            "168 block6a_activation False\n",
            "169 block6a_se_squeeze False\n",
            "170 block6a_se_reshape False\n",
            "171 block6a_se_reduce False\n",
            "172 block6a_se_expand False\n",
            "173 block6a_se_excite False\n",
            "174 block6a_project_conv False\n",
            "175 block6a_project_bn False\n",
            "176 block6b_expand_conv False\n",
            "177 block6b_expand_bn False\n",
            "178 block6b_expand_activation False\n",
            "179 block6b_dwconv False\n",
            "180 block6b_bn False\n",
            "181 block6b_activation False\n",
            "182 block6b_se_squeeze False\n",
            "183 block6b_se_reshape False\n",
            "184 block6b_se_reduce False\n",
            "185 block6b_se_expand False\n",
            "186 block6b_se_excite False\n",
            "187 block6b_project_conv False\n",
            "188 block6b_project_bn False\n",
            "189 block6b_drop False\n",
            "190 block6b_add False\n",
            "191 block6c_expand_conv False\n",
            "192 block6c_expand_bn False\n",
            "193 block6c_expand_activation False\n",
            "194 block6c_dwconv False\n",
            "195 block6c_bn False\n",
            "196 block6c_activation False\n",
            "197 block6c_se_squeeze False\n",
            "198 block6c_se_reshape False\n",
            "199 block6c_se_reduce False\n",
            "200 block6c_se_expand False\n",
            "201 block6c_se_excite False\n",
            "202 block6c_project_conv False\n",
            "203 block6c_project_bn False\n",
            "204 block6c_drop False\n",
            "205 block6c_add False\n",
            "206 block6d_expand_conv False\n",
            "207 block6d_expand_bn False\n",
            "208 block6d_expand_activation False\n",
            "209 block6d_dwconv False\n",
            "210 block6d_bn False\n",
            "211 block6d_activation False\n",
            "212 block6d_se_squeeze False\n",
            "213 block6d_se_reshape False\n",
            "214 block6d_se_reduce False\n",
            "215 block6d_se_expand False\n",
            "216 block6d_se_excite False\n",
            "217 block6d_project_conv False\n",
            "218 block6d_project_bn False\n",
            "219 block6d_drop False\n",
            "220 block6d_add False\n",
            "221 block7a_expand_conv False\n",
            "222 block7a_expand_bn False\n",
            "223 block7a_expand_activation False\n",
            "224 block7a_dwconv False\n",
            "225 block7a_bn False\n",
            "226 block7a_activation False\n",
            "227 block7a_se_squeeze True\n",
            "228 block7a_se_reshape True\n",
            "229 block7a_se_reduce True\n",
            "230 block7a_se_expand True\n",
            "231 block7a_se_excite True\n",
            "232 block7a_project_conv True\n",
            "233 block7a_project_bn True\n",
            "234 top_conv True\n",
            "235 top_bn True\n",
            "236 top_activation True\n"
          ]
        }
      ]
    },
    {
      "cell_type": "code",
      "source": [
        "# Lets Drill Into Our base Model\n",
        "\n",
        "for layer_number, layers in enumerate(model_2.layers[2].layers):\n",
        "  print(layer_number, layers.name, layer.trainable)"
      ],
      "metadata": {
        "colab": {
          "base_uri": "https://localhost:8080/"
        },
        "id": "4pS9PaeeJlLG",
        "outputId": "ea2d1942-3758-4da0-ca99-ff30ca92e710"
      },
      "execution_count": 143,
      "outputs": [
        {
          "output_type": "stream",
          "name": "stdout",
          "text": [
            "0 input_11 True\n",
            "1 rescaling_10 True\n",
            "2 normalization_10 True\n",
            "3 stem_conv_pad True\n",
            "4 stem_conv True\n",
            "5 stem_bn True\n",
            "6 stem_activation True\n",
            "7 block1a_dwconv True\n",
            "8 block1a_bn True\n",
            "9 block1a_activation True\n",
            "10 block1a_se_squeeze True\n",
            "11 block1a_se_reshape True\n",
            "12 block1a_se_reduce True\n",
            "13 block1a_se_expand True\n",
            "14 block1a_se_excite True\n",
            "15 block1a_project_conv True\n",
            "16 block1a_project_bn True\n",
            "17 block2a_expand_conv True\n",
            "18 block2a_expand_bn True\n",
            "19 block2a_expand_activation True\n",
            "20 block2a_dwconv_pad True\n",
            "21 block2a_dwconv True\n",
            "22 block2a_bn True\n",
            "23 block2a_activation True\n",
            "24 block2a_se_squeeze True\n",
            "25 block2a_se_reshape True\n",
            "26 block2a_se_reduce True\n",
            "27 block2a_se_expand True\n",
            "28 block2a_se_excite True\n",
            "29 block2a_project_conv True\n",
            "30 block2a_project_bn True\n",
            "31 block2b_expand_conv True\n",
            "32 block2b_expand_bn True\n",
            "33 block2b_expand_activation True\n",
            "34 block2b_dwconv True\n",
            "35 block2b_bn True\n",
            "36 block2b_activation True\n",
            "37 block2b_se_squeeze True\n",
            "38 block2b_se_reshape True\n",
            "39 block2b_se_reduce True\n",
            "40 block2b_se_expand True\n",
            "41 block2b_se_excite True\n",
            "42 block2b_project_conv True\n",
            "43 block2b_project_bn True\n",
            "44 block2b_drop True\n",
            "45 block2b_add True\n",
            "46 block3a_expand_conv True\n",
            "47 block3a_expand_bn True\n",
            "48 block3a_expand_activation True\n",
            "49 block3a_dwconv_pad True\n",
            "50 block3a_dwconv True\n",
            "51 block3a_bn True\n",
            "52 block3a_activation True\n",
            "53 block3a_se_squeeze True\n",
            "54 block3a_se_reshape True\n",
            "55 block3a_se_reduce True\n",
            "56 block3a_se_expand True\n",
            "57 block3a_se_excite True\n",
            "58 block3a_project_conv True\n",
            "59 block3a_project_bn True\n",
            "60 block3b_expand_conv True\n",
            "61 block3b_expand_bn True\n",
            "62 block3b_expand_activation True\n",
            "63 block3b_dwconv True\n",
            "64 block3b_bn True\n",
            "65 block3b_activation True\n",
            "66 block3b_se_squeeze True\n",
            "67 block3b_se_reshape True\n",
            "68 block3b_se_reduce True\n",
            "69 block3b_se_expand True\n",
            "70 block3b_se_excite True\n",
            "71 block3b_project_conv True\n",
            "72 block3b_project_bn True\n",
            "73 block3b_drop True\n",
            "74 block3b_add True\n",
            "75 block4a_expand_conv True\n",
            "76 block4a_expand_bn True\n",
            "77 block4a_expand_activation True\n",
            "78 block4a_dwconv_pad True\n",
            "79 block4a_dwconv True\n",
            "80 block4a_bn True\n",
            "81 block4a_activation True\n",
            "82 block4a_se_squeeze True\n",
            "83 block4a_se_reshape True\n",
            "84 block4a_se_reduce True\n",
            "85 block4a_se_expand True\n",
            "86 block4a_se_excite True\n",
            "87 block4a_project_conv True\n",
            "88 block4a_project_bn True\n",
            "89 block4b_expand_conv True\n",
            "90 block4b_expand_bn True\n",
            "91 block4b_expand_activation True\n",
            "92 block4b_dwconv True\n",
            "93 block4b_bn True\n",
            "94 block4b_activation True\n",
            "95 block4b_se_squeeze True\n",
            "96 block4b_se_reshape True\n",
            "97 block4b_se_reduce True\n",
            "98 block4b_se_expand True\n",
            "99 block4b_se_excite True\n",
            "100 block4b_project_conv True\n",
            "101 block4b_project_bn True\n",
            "102 block4b_drop True\n",
            "103 block4b_add True\n",
            "104 block4c_expand_conv True\n",
            "105 block4c_expand_bn True\n",
            "106 block4c_expand_activation True\n",
            "107 block4c_dwconv True\n",
            "108 block4c_bn True\n",
            "109 block4c_activation True\n",
            "110 block4c_se_squeeze True\n",
            "111 block4c_se_reshape True\n",
            "112 block4c_se_reduce True\n",
            "113 block4c_se_expand True\n",
            "114 block4c_se_excite True\n",
            "115 block4c_project_conv True\n",
            "116 block4c_project_bn True\n",
            "117 block4c_drop True\n",
            "118 block4c_add True\n",
            "119 block5a_expand_conv True\n",
            "120 block5a_expand_bn True\n",
            "121 block5a_expand_activation True\n",
            "122 block5a_dwconv True\n",
            "123 block5a_bn True\n",
            "124 block5a_activation True\n",
            "125 block5a_se_squeeze True\n",
            "126 block5a_se_reshape True\n",
            "127 block5a_se_reduce True\n",
            "128 block5a_se_expand True\n",
            "129 block5a_se_excite True\n",
            "130 block5a_project_conv True\n",
            "131 block5a_project_bn True\n",
            "132 block5b_expand_conv True\n",
            "133 block5b_expand_bn True\n",
            "134 block5b_expand_activation True\n",
            "135 block5b_dwconv True\n",
            "136 block5b_bn True\n",
            "137 block5b_activation True\n",
            "138 block5b_se_squeeze True\n",
            "139 block5b_se_reshape True\n",
            "140 block5b_se_reduce True\n",
            "141 block5b_se_expand True\n",
            "142 block5b_se_excite True\n",
            "143 block5b_project_conv True\n",
            "144 block5b_project_bn True\n",
            "145 block5b_drop True\n",
            "146 block5b_add True\n",
            "147 block5c_expand_conv True\n",
            "148 block5c_expand_bn True\n",
            "149 block5c_expand_activation True\n",
            "150 block5c_dwconv True\n",
            "151 block5c_bn True\n",
            "152 block5c_activation True\n",
            "153 block5c_se_squeeze True\n",
            "154 block5c_se_reshape True\n",
            "155 block5c_se_reduce True\n",
            "156 block5c_se_expand True\n",
            "157 block5c_se_excite True\n",
            "158 block5c_project_conv True\n",
            "159 block5c_project_bn True\n",
            "160 block5c_drop True\n",
            "161 block5c_add True\n",
            "162 block6a_expand_conv True\n",
            "163 block6a_expand_bn True\n",
            "164 block6a_expand_activation True\n",
            "165 block6a_dwconv_pad True\n",
            "166 block6a_dwconv True\n",
            "167 block6a_bn True\n",
            "168 block6a_activation True\n",
            "169 block6a_se_squeeze True\n",
            "170 block6a_se_reshape True\n",
            "171 block6a_se_reduce True\n",
            "172 block6a_se_expand True\n",
            "173 block6a_se_excite True\n",
            "174 block6a_project_conv True\n",
            "175 block6a_project_bn True\n",
            "176 block6b_expand_conv True\n",
            "177 block6b_expand_bn True\n",
            "178 block6b_expand_activation True\n",
            "179 block6b_dwconv True\n",
            "180 block6b_bn True\n",
            "181 block6b_activation True\n",
            "182 block6b_se_squeeze True\n",
            "183 block6b_se_reshape True\n",
            "184 block6b_se_reduce True\n",
            "185 block6b_se_expand True\n",
            "186 block6b_se_excite True\n",
            "187 block6b_project_conv True\n",
            "188 block6b_project_bn True\n",
            "189 block6b_drop True\n",
            "190 block6b_add True\n",
            "191 block6c_expand_conv True\n",
            "192 block6c_expand_bn True\n",
            "193 block6c_expand_activation True\n",
            "194 block6c_dwconv True\n",
            "195 block6c_bn True\n",
            "196 block6c_activation True\n",
            "197 block6c_se_squeeze True\n",
            "198 block6c_se_reshape True\n",
            "199 block6c_se_reduce True\n",
            "200 block6c_se_expand True\n",
            "201 block6c_se_excite True\n",
            "202 block6c_project_conv True\n",
            "203 block6c_project_bn True\n",
            "204 block6c_drop True\n",
            "205 block6c_add True\n",
            "206 block6d_expand_conv True\n",
            "207 block6d_expand_bn True\n",
            "208 block6d_expand_activation True\n",
            "209 block6d_dwconv True\n",
            "210 block6d_bn True\n",
            "211 block6d_activation True\n",
            "212 block6d_se_squeeze True\n",
            "213 block6d_se_reshape True\n",
            "214 block6d_se_reduce True\n",
            "215 block6d_se_expand True\n",
            "216 block6d_se_excite True\n",
            "217 block6d_project_conv True\n",
            "218 block6d_project_bn True\n",
            "219 block6d_drop True\n",
            "220 block6d_add True\n",
            "221 block7a_expand_conv True\n",
            "222 block7a_expand_bn True\n",
            "223 block7a_expand_activation True\n",
            "224 block7a_dwconv True\n",
            "225 block7a_bn True\n",
            "226 block7a_activation True\n",
            "227 block7a_se_squeeze True\n",
            "228 block7a_se_reshape True\n",
            "229 block7a_se_reduce True\n",
            "230 block7a_se_expand True\n",
            "231 block7a_se_excite True\n",
            "232 block7a_project_conv True\n",
            "233 block7a_project_bn True\n",
            "234 top_conv True\n",
            "235 top_bn True\n",
            "236 top_activation True\n"
          ]
        }
      ]
    },
    {
      "cell_type": "markdown",
      "source": [
        "# **Fine Tune Model No 4 With 100% Of Data**"
      ],
      "metadata": {
        "id": "MdD53_PzKOyl"
      }
    },
    {
      "cell_type": "code",
      "source": [
        "# Compile\n",
        "\n",
        "model_2.compile(\n",
        "    loss = 'categorical_crossentropy',\n",
        "    optimizer = tf.keras.optimizers.Adam(learning_rate=0.0001),\n",
        "    metrics=['accuracy']\n",
        ")"
      ],
      "metadata": {
        "id": "zKzu2TbJJ7FV"
      },
      "execution_count": 144,
      "outputs": []
    },
    {
      "cell_type": "code",
      "source": [
        "# Fit The Model\n",
        "\n",
        "fine_tune_epochs = initial_epochs + 5\n",
        "\n",
        "history_fine_10_classes_full = model_2.fit(train_data_10_classes_full,\n",
        "                                           epochs=fine_tune_epochs,\n",
        "                                           validation_data = test_data,\n",
        "                                           validation_steps = int(0.25 * len(test_data)),\n",
        "                                           initial_epoch = history_10_percent_data_aug.epoch[-1],\n",
        "                                           callbacks = [create_tensorboard_callback(dir_name = 'Transfer_Learning',\n",
        "                                                                                    experiment_name = 'full_10_classes_fine_tuning_last_10')])"
      ],
      "metadata": {
        "colab": {
          "base_uri": "https://localhost:8080/"
        },
        "id": "qudsDBJGKfIa",
        "outputId": "720da0f5-fdc3-4280-e1d4-d1311a5e701a"
      },
      "execution_count": 145,
      "outputs": [
        {
          "output_type": "stream",
          "name": "stdout",
          "text": [
            "Saving TensorBoard log files to: Transfer_Learning/full_10_classes_fine_tuning_last_10/20220222-204356\n",
            "Epoch 5/10\n",
            "235/235 [==============================] - 55s 205ms/step - loss: 0.7374 - accuracy: 0.7589 - val_loss: 0.3966 - val_accuracy: 0.8651\n",
            "Epoch 6/10\n",
            "235/235 [==============================] - 45s 190ms/step - loss: 0.6006 - accuracy: 0.8020 - val_loss: 0.3798 - val_accuracy: 0.8651\n",
            "Epoch 7/10\n",
            "235/235 [==============================] - 36s 151ms/step - loss: 0.5337 - accuracy: 0.8267 - val_loss: 0.3432 - val_accuracy: 0.8865\n",
            "Epoch 8/10\n",
            "235/235 [==============================] - 35s 145ms/step - loss: 0.4868 - accuracy: 0.8441 - val_loss: 0.3233 - val_accuracy: 0.8849\n",
            "Epoch 9/10\n",
            "235/235 [==============================] - 32s 136ms/step - loss: 0.4514 - accuracy: 0.8521 - val_loss: 0.3349 - val_accuracy: 0.8734\n",
            "Epoch 10/10\n",
            "235/235 [==============================] - 31s 130ms/step - loss: 0.4166 - accuracy: 0.8649 - val_loss: 0.3088 - val_accuracy: 0.8997\n"
          ]
        }
      ]
    },
    {
      "cell_type": "code",
      "source": [
        "# Lets Evaluate On All Test Data\n",
        "\n",
        "results_fine_tune_full_data = model_2.evaluate(test_data)\n",
        "results_fine_tune_full_data"
      ],
      "metadata": {
        "colab": {
          "base_uri": "https://localhost:8080/"
        },
        "id": "uXKIzqfpLR8M",
        "outputId": "fabb013a-cbfc-4fa7-ebb1-f67ca2cb47b8"
      },
      "execution_count": 146,
      "outputs": [
        {
          "output_type": "stream",
          "name": "stdout",
          "text": [
            "79/79 [==============================] - 6s 71ms/step - loss: 0.3123 - accuracy: 0.9020\n"
          ]
        },
        {
          "output_type": "execute_result",
          "data": {
            "text/plain": [
              "[0.3122684359550476, 0.9020000100135803]"
            ]
          },
          "metadata": {},
          "execution_count": 146
        }
      ]
    },
    {
      "cell_type": "code",
      "source": [
        "# how Did Fine Tuning Go With More Data\n",
        "\n",
        "compare_historys(original_history = history_10_percent_data_aug,\n",
        "                 new_history = history_fine_10_classes_full,\n",
        "                 inital_epochs=5\n",
        "                 )"
      ],
      "metadata": {
        "colab": {
          "base_uri": "https://localhost:8080/",
          "height": 513
        },
        "id": "lLh-cHeELf1h",
        "outputId": "30c5b441-8a30-496e-ce62-4f0d4f7547d6"
      },
      "execution_count": 150,
      "outputs": [
        {
          "output_type": "display_data",
          "data": {
            "image/png": "[encoded data removed]",
            "text/plain": [
              "<Figure size 576x576 with 2 Axes>"
            ]
          },
          "metadata": {
            "needs_background": "light"
          }
        }
      ]
    },
    {
      "cell_type": "markdown",
      "source": [
        "# **Comparing Our Model's Experiment Results**\n",
        "\n",
        "**Viewing On Experiment Data On TensorBoard**\n",
        "\n",
        "**Upload tensorBoard Records**\n"
      ],
      "metadata": {
        "id": "Bp7mLkWELyHl"
      }
    },
    {
      "cell_type": "code",
      "source": [
        "! tensorboard dev upload --logdir ./Transfer_Learning/ \\\n",
        "  --name 'Transfer Learning Experiments With 10 Food 101 Classes' \\\n",
        "  --description 'A Series Of Different Classes  Transfer Learning Experiments With Varying Amount of Data And Fine Tuning' \\\n",
        "  --one_shot"
      ],
      "metadata": {
        "colab": {
          "base_uri": "https://localhost:8080/"
        },
        "id": "ISlYSpwkLwz-",
        "outputId": "b422e7cb-224a-48bb-8003-9dc84722a24c"
      },
      "execution_count": 151,
      "outputs": [
        {
          "output_type": "stream",
          "name": "stdout",
          "text": [
            "\n",
            "***** TensorBoard Uploader *****\n",
            "\n",
            "This will upload your TensorBoard logs to https://tensorboard.dev/ from\n",
            "the following directory:\n",
            "\n",
            "./Transfer_Learning/\n",
            "\n",
            "This TensorBoard will be visible to everyone. Do not upload sensitive\n",
            "data.\n",
            "\n",
            "Your use of this service is subject to Google's Terms of Service\n",
            "<https://policies.google.com/terms> and Privacy Policy\n",
            "<https://policies.google.com/privacy>, and TensorBoard.dev's Terms of Service\n",
            "<https://tensorboard.dev/policy/terms/>.\n",
            "\n",
            "This notice will not be shown again while you are logged into the uploader.\n",
            "To log out, run `tensorboard dev auth revoke`.\n",
            "\n",
            "Continue? (yes/NO) yes\n",
            "\n",
            "Please visit this URL to authorize this application: https://accounts.google.com/o/oauth2/auth?response_type=code&client_id=373649185512-8v619h5kft38l4456nm2dj4ubeqsrvh6.apps.googleusercontent.com&redirect_uri=urn%3Aietf%3Awg%3Aoauth%3A2.0%3Aoob&scope=openid+https%3A%2F%2Fwww.googleapis.com%2Fauth%2Fuserinfo.email&state=C4niZoNAAo3ZUrRDsoY2XhbWRHgYxZ&prompt=consent&access_type=offline\n",
            "Enter the authorization code: 4/1AX4XfWgVvYmFTMcJ7iqFSgmyecjtYpi2pFGseSqMiM7KqF32i6TQ0dfcaZQ\n",
            "\n",
            "\n",
            "New experiment created. View your TensorBoard at: https://tensorboard.dev/experiment/9q6E9VzERlafMbqYUKuBbQ/\n",
            "\n",
            "\u001b[1m[2022-02-22T20:54:39]\u001b[0m Started scanning logdir.\n",
            "\u001b[1m[2022-02-22T20:54:50]\u001b[0m Total uploaded: 348 scalars, 0 tensors, 11 binary objects (9.1 MB)\n",
            "\u001b[1m[2022-02-22T20:54:50]\u001b[0m Done scanning logdir.\n",
            "\n",
            "\n",
            "Done. View your TensorBoard at https://tensorboard.dev/experiment/9q6E9VzERlafMbqYUKuBbQ/\n"
          ]
        }
      ]
    },
    {
      "cell_type": "code",
      "source": [
        "# How To View And Delete Tensorboard Dev Experiments\n",
        "\n",
        "! tensorboard dev list\n"
      ],
      "metadata": {
        "colab": {
          "base_uri": "https://localhost:8080/"
        },
        "id": "92VnFV0dNnLS",
        "outputId": "5d28246b-1484-4b7e-d2c5-0e9a1bd93529"
      },
      "execution_count": 152,
      "outputs": [
        {
          "output_type": "stream",
          "name": "stdout",
          "text": [
            "https://tensorboard.dev/experiment/9q6E9VzERlafMbqYUKuBbQ/\n",
            "\tName                 Transfer Learning Experiments With 10 Food 101 Classes\n",
            "\tDescription          A Series Of Different Classes  Transfer Learning Experiments With Varying Amount of Data And Fine Tuning\n",
            "\tId                   9q6E9VzERlafMbqYUKuBbQ\n",
            "\tCreated              2022-02-22 20:54:39 (1 minute ago)\n",
            "\tUpdated              2022-02-22 20:54:50 (54 seconds ago)\n",
            "\tRuns                 22\n",
            "\tTags                 5\n",
            "\tScalars              348\n",
            "\tTensor bytes         0\n",
            "\tBinary object bytes  9543849\n",
            "https://tensorboard.dev/experiment/xOocZTZGTJ26yQckH7qSEQ/\n",
            "\tName                 EfficientNetB0 vs ResNet50V2\n",
            "\tDescription          Compairing Two Different Tf Hub Feature Extraction Model Architecture Using 10% of Model Data\n",
            "\tId                   xOocZTZGTJ26yQckH7qSEQ\n",
            "\tCreated              2022-02-18 11:15:40\n",
            "\tUpdated              2022-02-18 11:15:41\n",
            "\tRuns                 2\n",
            "\tTags                 5\n",
            "\tScalars              30\n",
            "\tTensor bytes         0\n",
            "\tBinary object bytes  1705304\n",
            "https://tensorboard.dev/experiment/awAecgu5QOapJv9mjGw51Q/\n",
            "\tName                 EfficientNetB0 vs ResNet50V2\n",
            "\tDescription          Compairing Two Different Tf Hub Feature Extraction Model Architecture Using 10% of Model Data\n",
            "\tId                   awAecgu5QOapJv9mjGw51Q\n",
            "\tCreated              2022-02-18 10:20:47\n",
            "\tUpdated              2022-02-18 10:20:48\n",
            "\tRuns                 2\n",
            "\tTags                 5\n",
            "\tScalars              30\n",
            "\tTensor bytes         0\n",
            "\tBinary object bytes  1705322\n",
            "https://tensorboard.dev/experiment/phJqa6n1SOKnyon9LO8KHQ/\n",
            "\tName                 EfficientNetB0 vs. ResNet50V2\n",
            "\tDescription          Comparing two different TF Hub feature extraction models architectures using 10% of training images\n",
            "\tId                   phJqa6n1SOKnyon9LO8KHQ\n",
            "\tCreated              2022-02-05 18:39:39\n",
            "\tUpdated              2022-02-05 18:39:41\n",
            "\tRuns                 2\n",
            "\tTags                 5\n",
            "\tScalars              30\n",
            "\tTensor bytes         0\n",
            "\tBinary object bytes  4059082\n",
            "Total: 4 experiment(s)\n"
          ]
        }
      ]
    },
    {
      "cell_type": "markdown",
      "source": [
        "# **This Is The End Of Transfer Learning Fine Tuning**"
      ],
      "metadata": {
        "id": "KCbYeV-9Oj1y"
      }
    },
    {
      "cell_type": "code",
      "source": [
        ""
      ],
      "metadata": {
        "id": "9PNyOmp7N6_R"
      },
      "execution_count": null,
      "outputs": []
    }
  ]
}