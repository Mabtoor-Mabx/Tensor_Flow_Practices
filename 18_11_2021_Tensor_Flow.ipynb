{
  "nbformat": 4,
  "nbformat_minor": 0,
  "metadata": {
    "colab": {
      "name": "18-11-2021_Tensor_Flow.ipynb",
      "provenance": [],
      "collapsed_sections": []
    },
    "kernelspec": {
      "name": "python3",
      "display_name": "Python 3"
    },
    "language_info": {
      "name": "python"
    }
  },
  "cells": [
    {
      "cell_type": "code",
      "metadata": {
        "id": "NAaJebSPYDLw"
      },
      "source": [
        "import tensorflow as tf\n",
        "import numpy as np\n",
        "import pandas as pd\n",
        "import matplotlib.pyplot as plt"
      ],
      "execution_count": 1,
      "outputs": []
    },
    {
      "cell_type": "code",
      "metadata": {
        "colab": {
          "base_uri": "https://localhost:8080/"
        },
        "id": "TrsjlwdaYq_U",
        "outputId": "9a55edc8-5961-4ad6-e611-03a59709b3e7"
      },
      "source": [
        "not_squeezed = tf.constant(tf.random.normal(shape=[33]), shape=(1,1,1,1,33))\n",
        "not_squeezed"
      ],
      "execution_count": 4,
      "outputs": [
        {
          "output_type": "execute_result",
          "data": {
            "text/plain": [
              "<tf.Tensor: shape=(1, 1, 1, 1, 33), dtype=float32, numpy=\n",
              "array([[[[[ 0.29960027,  0.43005905,  0.10210532, -0.39108223,\n",
              "            0.14770809, -0.0128903 , -0.7366861 , -1.3836375 ,\n",
              "           -0.9742985 , -0.41535553, -1.2561595 ,  0.25588834,\n",
              "           -0.9690718 , -0.5360929 , -0.18513162, -0.07544754,\n",
              "            0.7073354 , -0.56442744,  0.05409355, -0.25717145,\n",
              "            0.26408005,  0.8120168 ,  0.15951939, -0.10761449,\n",
              "           -0.6612721 ,  0.28474224,  0.06519309,  0.9596827 ,\n",
              "            0.01993348,  2.2543216 , -0.49828184,  2.0438335 ,\n",
              "           -0.6971201 ]]]]], dtype=float32)>"
            ]
          },
          "metadata": {},
          "execution_count": 4
        }
      ]
    },
    {
      "cell_type": "code",
      "metadata": {
        "colab": {
          "base_uri": "https://localhost:8080/"
        },
        "id": "AErAX5s5apYj",
        "outputId": "cdebc12e-7d48-428f-f361-67f79237a101"
      },
      "source": [
        "tf.squeeze(not_squeezed)"
      ],
      "execution_count": 6,
      "outputs": [
        {
          "output_type": "execute_result",
          "data": {
            "text/plain": [
              "<tf.Tensor: shape=(33,), dtype=float32, numpy=\n",
              "array([ 0.29960027,  0.43005905,  0.10210532, -0.39108223,  0.14770809,\n",
              "       -0.0128903 , -0.7366861 , -1.3836375 , -0.9742985 , -0.41535553,\n",
              "       -1.2561595 ,  0.25588834, -0.9690718 , -0.5360929 , -0.18513162,\n",
              "       -0.07544754,  0.7073354 , -0.56442744,  0.05409355, -0.25717145,\n",
              "        0.26408005,  0.8120168 ,  0.15951939, -0.10761449, -0.6612721 ,\n",
              "        0.28474224,  0.06519309,  0.9596827 ,  0.01993348,  2.2543216 ,\n",
              "       -0.49828184,  2.0438335 , -0.6971201 ], dtype=float32)>"
            ]
          },
          "metadata": {},
          "execution_count": 6
        }
      ]
    },
    {
      "cell_type": "code",
      "metadata": {
        "colab": {
          "base_uri": "https://localhost:8080/"
        },
        "id": "hZF0cGeXa6zV",
        "outputId": "0ee79d6a-8748-4208-aa32-d1622c5bdd5d"
      },
      "source": [
        "val = tf.constant([\n",
        "                   [3,5],[6,7],[8,3],[3,5]\n",
        "])\n",
        "val"
      ],
      "execution_count": 7,
      "outputs": [
        {
          "output_type": "execute_result",
          "data": {
            "text/plain": [
              "<tf.Tensor: shape=(4, 2), dtype=int32, numpy=\n",
              "array([[3, 5],\n",
              "       [6, 7],\n",
              "       [8, 3],\n",
              "       [3, 5]], dtype=int32)>"
            ]
          },
          "metadata": {},
          "execution_count": 7
        }
      ]
    },
    {
      "cell_type": "code",
      "metadata": {
        "colab": {
          "base_uri": "https://localhost:8080/"
        },
        "id": "8sJMD1jrbDfN",
        "outputId": "0f9a416c-37a6-4c53-e20d-a6b50b6af099"
      },
      "source": [
        "tf.one_hot(val, depth=4)"
      ],
      "execution_count": 8,
      "outputs": [
        {
          "output_type": "execute_result",
          "data": {
            "text/plain": [
              "<tf.Tensor: shape=(4, 2, 4), dtype=float32, numpy=\n",
              "array([[[0., 0., 0., 1.],\n",
              "        [0., 0., 0., 0.]],\n",
              "\n",
              "       [[0., 0., 0., 0.],\n",
              "        [0., 0., 0., 0.]],\n",
              "\n",
              "       [[0., 0., 0., 0.],\n",
              "        [0., 0., 0., 1.]],\n",
              "\n",
              "       [[0., 0., 0., 1.],\n",
              "        [0., 0., 0., 0.]]], dtype=float32)>"
            ]
          },
          "metadata": {},
          "execution_count": 8
        }
      ]
    },
    {
      "cell_type": "code",
      "metadata": {
        "colab": {
          "base_uri": "https://localhost:8080/"
        },
        "id": "fBKJHXlfbHX4",
        "outputId": "534ad5ea-df9c-433f-9ece-9fd97b634b26"
      },
      "source": [
        "tf.one_hot(val, depth=4, on_value='I am On Value', off_value='I am off value')\n"
      ],
      "execution_count": 9,
      "outputs": [
        {
          "output_type": "execute_result",
          "data": {
            "text/plain": [
              "<tf.Tensor: shape=(4, 2, 4), dtype=string, numpy=\n",
              "array([[[b'I am off value', b'I am off value', b'I am off value',\n",
              "         b'I am On Value'],\n",
              "        [b'I am off value', b'I am off value', b'I am off value',\n",
              "         b'I am off value']],\n",
              "\n",
              "       [[b'I am off value', b'I am off value', b'I am off value',\n",
              "         b'I am off value'],\n",
              "        [b'I am off value', b'I am off value', b'I am off value',\n",
              "         b'I am off value']],\n",
              "\n",
              "       [[b'I am off value', b'I am off value', b'I am off value',\n",
              "         b'I am off value'],\n",
              "        [b'I am off value', b'I am off value', b'I am off value',\n",
              "         b'I am On Value']],\n",
              "\n",
              "       [[b'I am off value', b'I am off value', b'I am off value',\n",
              "         b'I am On Value'],\n",
              "        [b'I am off value', b'I am off value', b'I am off value',\n",
              "         b'I am off value']]], dtype=object)>"
            ]
          },
          "metadata": {},
          "execution_count": 9
        }
      ]
    },
    {
      "cell_type": "code",
      "metadata": {
        "colab": {
          "base_uri": "https://localhost:8080/"
        },
        "id": "eZCbhwBlbSI7",
        "outputId": "c1b76932-00a0-43a5-c19b-426d5cdb43ba"
      },
      "source": [
        "tf.range(3,4)"
      ],
      "execution_count": 11,
      "outputs": [
        {
          "output_type": "execute_result",
          "data": {
            "text/plain": [
              "<tf.Tensor: shape=(1,), dtype=int32, numpy=array([3], dtype=int32)>"
            ]
          },
          "metadata": {},
          "execution_count": 11
        }
      ]
    },
    {
      "cell_type": "code",
      "metadata": {
        "colab": {
          "base_uri": "https://localhost:8080/"
        },
        "id": "H9BQerMmbapx",
        "outputId": "7e31e9bd-17a0-454d-ecb7-3ac46c36f66c"
      },
      "source": [
        "tf.math.square(val)"
      ],
      "execution_count": 12,
      "outputs": [
        {
          "output_type": "execute_result",
          "data": {
            "text/plain": [
              "<tf.Tensor: shape=(4, 2), dtype=int32, numpy=\n",
              "array([[ 9, 25],\n",
              "       [36, 49],\n",
              "       [64,  9],\n",
              "       [ 9, 25]], dtype=int32)>"
            ]
          },
          "metadata": {},
          "execution_count": 12
        }
      ]
    },
    {
      "cell_type": "code",
      "metadata": {
        "colab": {
          "base_uri": "https://localhost:8080/"
        },
        "id": "P0I1kqgtbmgP",
        "outputId": "b62ce098-c472-423c-c2f7-64be66c8db53"
      },
      "source": [
        "tf.math.sqrt(tf.cast(val, dtype=tf.float32))"
      ],
      "execution_count": 14,
      "outputs": [
        {
          "output_type": "execute_result",
          "data": {
            "text/plain": [
              "<tf.Tensor: shape=(4, 2), dtype=float32, numpy=\n",
              "array([[1.7320508, 2.236068 ],\n",
              "       [2.4494896, 2.6457512],\n",
              "       [2.8284268, 1.7320508],\n",
              "       [1.7320508, 2.236068 ]], dtype=float32)>"
            ]
          },
          "metadata": {},
          "execution_count": 14
        }
      ]
    },
    {
      "cell_type": "code",
      "metadata": {
        "colab": {
          "base_uri": "https://localhost:8080/"
        },
        "id": "Opdm4l6QbqSV",
        "outputId": "52fd2997-c002-4f64-f3b0-826ed4a33e86"
      },
      "source": [
        "tf.math.log(tf.cast(val, dtype=tf.float32))"
      ],
      "execution_count": 15,
      "outputs": [
        {
          "output_type": "execute_result",
          "data": {
            "text/plain": [
              "<tf.Tensor: shape=(4, 2), dtype=float32, numpy=\n",
              "array([[1.0986123, 1.609438 ],\n",
              "       [1.7917595, 1.9459102],\n",
              "       [2.0794415, 1.0986123],\n",
              "       [1.0986123, 1.609438 ]], dtype=float32)>"
            ]
          },
          "metadata": {},
          "execution_count": 15
        }
      ]
    },
    {
      "cell_type": "code",
      "metadata": {
        "id": "kG-0tnibb3Mw"
      },
      "source": [
        "numpy_A = tf.constant(np.array([[2,3],[5,3]]))\n",
        "tensor_A = tf.constant([[2,3],[5,3]])\n"
      ],
      "execution_count": 17,
      "outputs": []
    },
    {
      "cell_type": "code",
      "metadata": {
        "colab": {
          "base_uri": "https://localhost:8080/"
        },
        "id": "ZDmNTeDVcJiv",
        "outputId": "3fd57d43-c6f0-4805-83ca-92701678cbd8"
      },
      "source": [
        "numpy_A, tensor_A"
      ],
      "execution_count": 18,
      "outputs": [
        {
          "output_type": "execute_result",
          "data": {
            "text/plain": [
              "(<tf.Tensor: shape=(2, 2), dtype=int64, numpy=\n",
              " array([[2, 3],\n",
              "        [5, 3]])>, <tf.Tensor: shape=(2, 2), dtype=int32, numpy=\n",
              " array([[2, 3],\n",
              "        [5, 3]], dtype=int32)>)"
            ]
          },
          "metadata": {},
          "execution_count": 18
        }
      ]
    },
    {
      "cell_type": "code",
      "metadata": {
        "colab": {
          "base_uri": "https://localhost:8080/"
        },
        "id": "IQuwsYO3cLWz",
        "outputId": "14780104-524f-47f1-d390-a523b146c5c7"
      },
      "source": [
        "numpy_A.dtype, tensor_A.dtype"
      ],
      "execution_count": 19,
      "outputs": [
        {
          "output_type": "execute_result",
          "data": {
            "text/plain": [
              "(tf.int64, tf.int32)"
            ]
          },
          "metadata": {},
          "execution_count": 19
        }
      ]
    },
    {
      "cell_type": "markdown",
      "metadata": {
        "id": "oj2T6C8PdGms"
      },
      "source": [
        "**Model No 1**"
      ]
    },
    {
      "cell_type": "code",
      "metadata": {
        "id": "maB9EqA0cXzX"
      },
      "source": [
        "X = tf.constant([2,4,6,8,10,12])\n",
        "y= tf.constant([3,6,9,12,15,18])\n"
      ],
      "execution_count": 20,
      "outputs": []
    },
    {
      "cell_type": "code",
      "metadata": {
        "colab": {
          "base_uri": "https://localhost:8080/"
        },
        "id": "HLJS3KkMdSM8",
        "outputId": "df4396ae-8400-4ef4-e29c-e271da0ad8ff"
      },
      "source": [
        "X,y"
      ],
      "execution_count": 21,
      "outputs": [
        {
          "output_type": "execute_result",
          "data": {
            "text/plain": [
              "(<tf.Tensor: shape=(6,), dtype=int32, numpy=array([ 2,  4,  6,  8, 10, 12], dtype=int32)>,\n",
              " <tf.Tensor: shape=(6,), dtype=int32, numpy=array([ 3,  6,  9, 12, 15, 18], dtype=int32)>)"
            ]
          },
          "metadata": {},
          "execution_count": 21
        }
      ]
    },
    {
      "cell_type": "code",
      "metadata": {
        "colab": {
          "base_uri": "https://localhost:8080/"
        },
        "id": "4JgMxqwVdTae",
        "outputId": "8c3529f8-696a-4491-edfd-4fa1b98ae82f"
      },
      "source": [
        "# set Random Value\n",
        "tf.random.set_seed(42)\n",
        "\n",
        "# Create A model\n",
        "\n",
        "model = tf.keras.Sequential([\n",
        "                             tf.keras.layers.Dense(1)\n",
        "])\n",
        "\n",
        "# Compiling a model\n",
        "\n",
        "model.compile(\n",
        "    loss = tf.keras.losses.mae,\n",
        "    optimizer = tf.keras.optimizers.SGD(),\n",
        "    metrics=['mae']\n",
        ")\n",
        "\n",
        "#  fit a model\n",
        "\n",
        "model.fit(tf.expand_dims(X,axis=1), y, epochs=5)\n",
        "\n",
        "\n",
        "# Evaluate a model\n",
        "\n",
        "model.evaluate(X, y)\n"
      ],
      "execution_count": 23,
      "outputs": [
        {
          "output_type": "stream",
          "name": "stdout",
          "text": [
            "Epoch 1/5\n",
            "1/1 [==============================] - 1s 572ms/step - loss: 6.5096 - mae: 6.5096\n",
            "Epoch 2/5\n",
            "1/1 [==============================] - 0s 9ms/step - loss: 6.0096 - mae: 6.0096\n",
            "Epoch 3/5\n",
            "1/1 [==============================] - 0s 8ms/step - loss: 5.5096 - mae: 5.5096\n",
            "Epoch 4/5\n",
            "1/1 [==============================] - 0s 6ms/step - loss: 5.0096 - mae: 5.0096\n",
            "Epoch 5/5\n",
            "1/1 [==============================] - 0s 6ms/step - loss: 4.5096 - mae: 4.5096\n",
            "1/1 [==============================] - 0s 107ms/step - loss: 4.0096 - mae: 4.0096\n"
          ]
        },
        {
          "output_type": "execute_result",
          "data": {
            "text/plain": [
              "[4.009581089019775, 4.009581089019775]"
            ]
          },
          "metadata": {},
          "execution_count": 23
        }
      ]
    },
    {
      "cell_type": "code",
      "metadata": {
        "colab": {
          "base_uri": "https://localhost:8080/"
        },
        "id": "iLdRDkoDeE4r",
        "outputId": "44b68a1e-896a-48bd-9c8c-23e93a2409e6"
      },
      "source": [
        "X , y"
      ],
      "execution_count": 24,
      "outputs": [
        {
          "output_type": "execute_result",
          "data": {
            "text/plain": [
              "(<tf.Tensor: shape=(6,), dtype=int32, numpy=array([ 2,  4,  6,  8, 10, 12], dtype=int32)>,\n",
              " <tf.Tensor: shape=(6,), dtype=int32, numpy=array([ 3,  6,  9, 12, 15, 18], dtype=int32)>)"
            ]
          },
          "metadata": {},
          "execution_count": 24
        }
      ]
    },
    {
      "cell_type": "code",
      "metadata": {
        "colab": {
          "base_uri": "https://localhost:8080/"
        },
        "id": "C07Z-eF4eOnK",
        "outputId": "f376cc23-8341-4165-da8c-c85024512c60"
      },
      "source": [
        "model.predict([14])"
      ],
      "execution_count": 26,
      "outputs": [
        {
          "output_type": "execute_result",
          "data": {
            "text/plain": [
              "array([[12.930839]], dtype=float32)"
            ]
          },
          "metadata": {},
          "execution_count": 26
        }
      ]
    },
    {
      "cell_type": "markdown",
      "metadata": {
        "id": "_g6I1RROeUku"
      },
      "source": [
        "**Model No 2**"
      ]
    },
    {
      "cell_type": "code",
      "metadata": {
        "colab": {
          "base_uri": "https://localhost:8080/"
        },
        "id": "NICfR-hTeR5m",
        "outputId": "bbcf601e-4ed4-4824-9201-88855abc1171"
      },
      "source": [
        "# Set Random Value\n",
        "tf.random.set_seed(42)\n",
        "\n",
        "# Create A model\n",
        "model = tf.keras.Sequential([\n",
        "                           tf.keras.layers.Dense(1)  \n",
        "])\n",
        "\n",
        "# compiling a model\n",
        "\n",
        "model.compile(\n",
        "    loss= tf.keras.losses.mae,\n",
        "    optimizer = tf.keras.optimizers.SGD(),\n",
        "    metrics=['mae']\n",
        ")\n",
        "\n",
        "# Fit a model\n",
        "\n",
        "model.fit(tf.expand_dims(X, axis=1), y, epochs=100)\n",
        "\n",
        "# Evaluate a model\n",
        "\n",
        "model.evaluate(X,y)"
      ],
      "execution_count": 27,
      "outputs": [
        {
          "output_type": "stream",
          "name": "stdout",
          "text": [
            "Epoch 1/100\n",
            "1/1 [==============================] - 0s 234ms/step - loss: 6.5096 - mae: 6.5096\n",
            "Epoch 2/100\n",
            "1/1 [==============================] - 0s 5ms/step - loss: 6.0096 - mae: 6.0096\n",
            "Epoch 3/100\n",
            "1/1 [==============================] - 0s 3ms/step - loss: 5.5096 - mae: 5.5096\n",
            "Epoch 4/100\n",
            "1/1 [==============================] - 0s 5ms/step - loss: 5.0096 - mae: 5.0096\n",
            "Epoch 5/100\n",
            "1/1 [==============================] - 0s 5ms/step - loss: 4.5096 - mae: 4.5096\n",
            "Epoch 6/100\n",
            "1/1 [==============================] - 0s 5ms/step - loss: 4.0096 - mae: 4.0096\n",
            "Epoch 7/100\n",
            "1/1 [==============================] - 0s 7ms/step - loss: 3.5096 - mae: 3.5096\n",
            "Epoch 8/100\n",
            "1/1 [==============================] - 0s 5ms/step - loss: 3.0096 - mae: 3.0096\n",
            "Epoch 9/100\n",
            "1/1 [==============================] - 0s 4ms/step - loss: 2.5096 - mae: 2.5096\n",
            "Epoch 10/100\n",
            "1/1 [==============================] - 0s 4ms/step - loss: 2.0096 - mae: 2.0096\n",
            "Epoch 11/100\n",
            "1/1 [==============================] - 0s 4ms/step - loss: 1.5096 - mae: 1.5096\n",
            "Epoch 12/100\n",
            "1/1 [==============================] - 0s 5ms/step - loss: 1.0096 - mae: 1.0096\n",
            "Epoch 13/100\n",
            "1/1 [==============================] - 0s 4ms/step - loss: 0.5096 - mae: 0.5096\n",
            "Epoch 14/100\n",
            "1/1 [==============================] - 0s 5ms/step - loss: 0.0598 - mae: 0.0598\n",
            "Epoch 15/100\n",
            "1/1 [==============================] - 0s 4ms/step - loss: 0.2004 - mae: 0.2004\n",
            "Epoch 16/100\n",
            "1/1 [==============================] - 0s 4ms/step - loss: 0.2996 - mae: 0.2996\n",
            "Epoch 17/100\n",
            "1/1 [==============================] - 0s 6ms/step - loss: 0.1504 - mae: 0.1504\n",
            "Epoch 18/100\n",
            "1/1 [==============================] - 0s 3ms/step - loss: 0.3496 - mae: 0.3496\n",
            "Epoch 19/100\n",
            "1/1 [==============================] - 0s 4ms/step - loss: 0.1504 - mae: 0.1504\n",
            "Epoch 20/100\n",
            "1/1 [==============================] - 0s 4ms/step - loss: 0.3496 - mae: 0.3496\n",
            "Epoch 21/100\n",
            "1/1 [==============================] - 0s 8ms/step - loss: 0.1504 - mae: 0.1504\n",
            "Epoch 22/100\n",
            "1/1 [==============================] - 0s 3ms/step - loss: 0.3496 - mae: 0.3496\n",
            "Epoch 23/100\n",
            "1/1 [==============================] - 0s 3ms/step - loss: 0.1504 - mae: 0.1504\n",
            "Epoch 24/100\n",
            "1/1 [==============================] - 0s 4ms/step - loss: 0.3496 - mae: 0.3496\n",
            "Epoch 25/100\n",
            "1/1 [==============================] - 0s 5ms/step - loss: 0.1504 - mae: 0.1504\n",
            "Epoch 26/100\n",
            "1/1 [==============================] - 0s 4ms/step - loss: 0.3496 - mae: 0.3496\n",
            "Epoch 27/100\n",
            "1/1 [==============================] - 0s 4ms/step - loss: 0.1504 - mae: 0.1504\n",
            "Epoch 28/100\n",
            "1/1 [==============================] - 0s 5ms/step - loss: 0.3496 - mae: 0.3496\n",
            "Epoch 29/100\n",
            "1/1 [==============================] - 0s 4ms/step - loss: 0.1504 - mae: 0.1504\n",
            "Epoch 30/100\n",
            "1/1 [==============================] - 0s 4ms/step - loss: 0.3496 - mae: 0.3496\n",
            "Epoch 31/100\n",
            "1/1 [==============================] - 0s 5ms/step - loss: 0.1504 - mae: 0.1504\n",
            "Epoch 32/100\n",
            "1/1 [==============================] - 0s 4ms/step - loss: 0.3496 - mae: 0.3496\n",
            "Epoch 33/100\n",
            "1/1 [==============================] - 0s 8ms/step - loss: 0.1504 - mae: 0.1504\n",
            "Epoch 34/100\n",
            "1/1 [==============================] - 0s 6ms/step - loss: 0.3496 - mae: 0.3496\n",
            "Epoch 35/100\n",
            "1/1 [==============================] - 0s 3ms/step - loss: 0.1504 - mae: 0.1504\n",
            "Epoch 36/100\n",
            "1/1 [==============================] - 0s 4ms/step - loss: 0.3496 - mae: 0.3496\n",
            "Epoch 37/100\n",
            "1/1 [==============================] - 0s 4ms/step - loss: 0.1504 - mae: 0.1504\n",
            "Epoch 38/100\n",
            "1/1 [==============================] - 0s 4ms/step - loss: 0.3496 - mae: 0.3496\n",
            "Epoch 39/100\n",
            "1/1 [==============================] - 0s 5ms/step - loss: 0.1504 - mae: 0.1504\n",
            "Epoch 40/100\n",
            "1/1 [==============================] - 0s 4ms/step - loss: 0.3496 - mae: 0.3496\n",
            "Epoch 41/100\n",
            "1/1 [==============================] - 0s 3ms/step - loss: 0.1504 - mae: 0.1504\n",
            "Epoch 42/100\n",
            "1/1 [==============================] - 0s 5ms/step - loss: 0.3496 - mae: 0.3496\n",
            "Epoch 43/100\n",
            "1/1 [==============================] - 0s 5ms/step - loss: 0.1504 - mae: 0.1504\n",
            "Epoch 44/100\n",
            "1/1 [==============================] - 0s 4ms/step - loss: 0.3496 - mae: 0.3496\n",
            "Epoch 45/100\n",
            "1/1 [==============================] - 0s 3ms/step - loss: 0.1504 - mae: 0.1504\n",
            "Epoch 46/100\n",
            "1/1 [==============================] - 0s 5ms/step - loss: 0.3496 - mae: 0.3496\n",
            "Epoch 47/100\n",
            "1/1 [==============================] - 0s 3ms/step - loss: 0.1504 - mae: 0.1504\n",
            "Epoch 48/100\n",
            "1/1 [==============================] - 0s 5ms/step - loss: 0.3496 - mae: 0.3496\n",
            "Epoch 49/100\n",
            "1/1 [==============================] - 0s 5ms/step - loss: 0.1504 - mae: 0.1504\n",
            "Epoch 50/100\n",
            "1/1 [==============================] - 0s 5ms/step - loss: 0.3496 - mae: 0.3496\n",
            "Epoch 51/100\n",
            "1/1 [==============================] - 0s 4ms/step - loss: 0.1504 - mae: 0.1504\n",
            "Epoch 52/100\n",
            "1/1 [==============================] - 0s 5ms/step - loss: 0.3496 - mae: 0.3496\n",
            "Epoch 53/100\n",
            "1/1 [==============================] - 0s 4ms/step - loss: 0.1504 - mae: 0.1504\n",
            "Epoch 54/100\n",
            "1/1 [==============================] - 0s 5ms/step - loss: 0.3496 - mae: 0.3496\n",
            "Epoch 55/100\n",
            "1/1 [==============================] - 0s 7ms/step - loss: 0.1504 - mae: 0.1504\n",
            "Epoch 56/100\n",
            "1/1 [==============================] - 0s 8ms/step - loss: 0.3496 - mae: 0.3496\n",
            "Epoch 57/100\n",
            "1/1 [==============================] - 0s 6ms/step - loss: 0.1504 - mae: 0.1504\n",
            "Epoch 58/100\n",
            "1/1 [==============================] - 0s 8ms/step - loss: 0.3496 - mae: 0.3496\n",
            "Epoch 59/100\n",
            "1/1 [==============================] - 0s 6ms/step - loss: 0.1504 - mae: 0.1504\n",
            "Epoch 60/100\n",
            "1/1 [==============================] - 0s 5ms/step - loss: 0.3496 - mae: 0.3496\n",
            "Epoch 61/100\n",
            "1/1 [==============================] - 0s 4ms/step - loss: 0.1504 - mae: 0.1504\n",
            "Epoch 62/100\n",
            "1/1 [==============================] - 0s 5ms/step - loss: 0.3496 - mae: 0.3496\n",
            "Epoch 63/100\n",
            "1/1 [==============================] - 0s 5ms/step - loss: 0.1504 - mae: 0.1504\n",
            "Epoch 64/100\n",
            "1/1 [==============================] - 0s 4ms/step - loss: 0.3496 - mae: 0.3496\n",
            "Epoch 65/100\n",
            "1/1 [==============================] - 0s 6ms/step - loss: 0.1504 - mae: 0.1504\n",
            "Epoch 66/100\n",
            "1/1 [==============================] - 0s 3ms/step - loss: 0.3496 - mae: 0.3496\n",
            "Epoch 67/100\n",
            "1/1 [==============================] - 0s 7ms/step - loss: 0.1504 - mae: 0.1504\n",
            "Epoch 68/100\n",
            "1/1 [==============================] - 0s 4ms/step - loss: 0.3496 - mae: 0.3496\n",
            "Epoch 69/100\n",
            "1/1 [==============================] - 0s 5ms/step - loss: 0.1504 - mae: 0.1504\n",
            "Epoch 70/100\n",
            "1/1 [==============================] - 0s 4ms/step - loss: 0.3496 - mae: 0.3496\n",
            "Epoch 71/100\n",
            "1/1 [==============================] - 0s 5ms/step - loss: 0.1504 - mae: 0.1504\n",
            "Epoch 72/100\n",
            "1/1 [==============================] - 0s 3ms/step - loss: 0.3496 - mae: 0.3496\n",
            "Epoch 73/100\n",
            "1/1 [==============================] - 0s 5ms/step - loss: 0.1504 - mae: 0.1504\n",
            "Epoch 74/100\n",
            "1/1 [==============================] - 0s 6ms/step - loss: 0.3496 - mae: 0.3496\n",
            "Epoch 75/100\n",
            "1/1 [==============================] - 0s 4ms/step - loss: 0.1504 - mae: 0.1504\n",
            "Epoch 76/100\n",
            "1/1 [==============================] - 0s 4ms/step - loss: 0.3496 - mae: 0.3496\n",
            "Epoch 77/100\n",
            "1/1 [==============================] - 0s 6ms/step - loss: 0.1504 - mae: 0.1504\n",
            "Epoch 78/100\n",
            "1/1 [==============================] - 0s 4ms/step - loss: 0.3496 - mae: 0.3496\n",
            "Epoch 79/100\n",
            "1/1 [==============================] - 0s 3ms/step - loss: 0.1504 - mae: 0.1504\n",
            "Epoch 80/100\n",
            "1/1 [==============================] - 0s 7ms/step - loss: 0.3496 - mae: 0.3496\n",
            "Epoch 81/100\n",
            "1/1 [==============================] - 0s 4ms/step - loss: 0.1504 - mae: 0.1504\n",
            "Epoch 82/100\n",
            "1/1 [==============================] - 0s 4ms/step - loss: 0.3496 - mae: 0.3496\n",
            "Epoch 83/100\n",
            "1/1 [==============================] - 0s 6ms/step - loss: 0.1504 - mae: 0.1504\n",
            "Epoch 84/100\n",
            "1/1 [==============================] - 0s 4ms/step - loss: 0.3496 - mae: 0.3496\n",
            "Epoch 85/100\n",
            "1/1 [==============================] - 0s 4ms/step - loss: 0.1504 - mae: 0.1504\n",
            "Epoch 86/100\n",
            "1/1 [==============================] - 0s 8ms/step - loss: 0.3496 - mae: 0.3496\n",
            "Epoch 87/100\n",
            "1/1 [==============================] - 0s 4ms/step - loss: 0.1504 - mae: 0.1504\n",
            "Epoch 88/100\n",
            "1/1 [==============================] - 0s 4ms/step - loss: 0.3496 - mae: 0.3496\n",
            "Epoch 89/100\n",
            "1/1 [==============================] - 0s 5ms/step - loss: 0.1504 - mae: 0.1504\n",
            "Epoch 90/100\n",
            "1/1 [==============================] - 0s 4ms/step - loss: 0.3496 - mae: 0.3496\n",
            "Epoch 91/100\n",
            "1/1 [==============================] - 0s 6ms/step - loss: 0.1504 - mae: 0.1504\n",
            "Epoch 92/100\n",
            "1/1 [==============================] - 0s 4ms/step - loss: 0.3496 - mae: 0.3496\n",
            "Epoch 93/100\n",
            "1/1 [==============================] - 0s 5ms/step - loss: 0.1504 - mae: 0.1504\n",
            "Epoch 94/100\n",
            "1/1 [==============================] - 0s 4ms/step - loss: 0.3496 - mae: 0.3496\n",
            "Epoch 95/100\n",
            "1/1 [==============================] - 0s 4ms/step - loss: 0.1504 - mae: 0.1504\n",
            "Epoch 96/100\n",
            "1/1 [==============================] - 0s 6ms/step - loss: 0.3496 - mae: 0.3496\n",
            "Epoch 97/100\n",
            "1/1 [==============================] - 0s 5ms/step - loss: 0.1504 - mae: 0.1504\n",
            "Epoch 98/100\n",
            "1/1 [==============================] - 0s 11ms/step - loss: 0.3496 - mae: 0.3496\n",
            "Epoch 99/100\n",
            "1/1 [==============================] - 0s 3ms/step - loss: 0.1504 - mae: 0.1504\n",
            "Epoch 100/100\n",
            "1/1 [==============================] - 0s 6ms/step - loss: 0.3496 - mae: 0.3496\n",
            "1/1 [==============================] - 0s 245ms/step - loss: 0.1504 - mae: 0.1504\n"
          ]
        },
        {
          "output_type": "execute_result",
          "data": {
            "text/plain": [
              "[0.15042150020599365, 0.15042150020599365]"
            ]
          },
          "metadata": {},
          "execution_count": 27
        }
      ]
    },
    {
      "cell_type": "code",
      "metadata": {
        "colab": {
          "base_uri": "https://localhost:8080/"
        },
        "id": "mq6nvLiOfE8E",
        "outputId": "5a734445-c74b-4377-9577-66a1df55a397"
      },
      "source": [
        "X, y"
      ],
      "execution_count": 28,
      "outputs": [
        {
          "output_type": "execute_result",
          "data": {
            "text/plain": [
              "(<tf.Tensor: shape=(6,), dtype=int32, numpy=array([ 2,  4,  6,  8, 10, 12], dtype=int32)>,\n",
              " <tf.Tensor: shape=(6,), dtype=int32, numpy=array([ 3,  6,  9, 12, 15, 18], dtype=int32)>)"
            ]
          },
          "metadata": {},
          "execution_count": 28
        }
      ]
    },
    {
      "cell_type": "code",
      "metadata": {
        "colab": {
          "base_uri": "https://localhost:8080/"
        },
        "id": "EQnLzRUtfNTB",
        "outputId": "7176412e-c13a-450d-aa1f-48fac5964629"
      },
      "source": [
        "model.predict([14])"
      ],
      "execution_count": 29,
      "outputs": [
        {
          "output_type": "execute_result",
          "data": {
            "text/plain": [
              "array([[21.174177]], dtype=float32)"
            ]
          },
          "metadata": {},
          "execution_count": 29
        }
      ]
    },
    {
      "cell_type": "markdown",
      "metadata": {
        "id": "Zp50r0-vfTpe"
      },
      "source": [
        "**Model No 3**"
      ]
    },
    {
      "cell_type": "code",
      "metadata": {
        "colab": {
          "base_uri": "https://localhost:8080/"
        },
        "id": "l95K8RiffSWz",
        "outputId": "ef37b8be-b9d8-4369-81e7-dbf7df9729ff"
      },
      "source": [
        "tf.random.set_seed(42)\n",
        "\n",
        "\n",
        "model =  tf.keras.Sequential([\n",
        "                              tf.keras.layers.Dense(100, activation='relu'),\n",
        "                              tf.keras.layers.Dense(1)\n",
        "])\n",
        "\n",
        "model.compile(\n",
        "    loss = tf.keras.losses.mae,\n",
        "    optimizer = tf.keras.optimizers.SGD(),\n",
        "    metrics=['mae']\n",
        ")\n",
        "\n",
        "model.fit(tf.expand_dims(X, axis=1), y, epochs=100)\n",
        "\n",
        "model.evaluate(X,y)"
      ],
      "execution_count": 30,
      "outputs": [
        {
          "output_type": "stream",
          "name": "stdout",
          "text": [
            "Epoch 1/100\n",
            "1/1 [==============================] - 0s 308ms/step - loss: 9.0186 - mae: 9.0186\n",
            "Epoch 2/100\n",
            "1/1 [==============================] - 0s 4ms/step - loss: 8.0342 - mae: 8.0342\n",
            "Epoch 3/100\n",
            "1/1 [==============================] - 0s 4ms/step - loss: 7.0267 - mae: 7.0267\n",
            "Epoch 4/100\n",
            "1/1 [==============================] - 0s 5ms/step - loss: 5.9718 - mae: 5.9718\n",
            "Epoch 5/100\n",
            "1/1 [==============================] - 0s 3ms/step - loss: 4.8375 - mae: 4.8375\n",
            "Epoch 6/100\n",
            "1/1 [==============================] - 0s 6ms/step - loss: 3.6021 - mae: 3.6021\n",
            "Epoch 7/100\n",
            "1/1 [==============================] - 0s 3ms/step - loss: 2.2621 - mae: 2.2621\n",
            "Epoch 8/100\n",
            "1/1 [==============================] - 0s 3ms/step - loss: 0.7896 - mae: 0.7896\n",
            "Epoch 9/100\n",
            "1/1 [==============================] - 0s 4ms/step - loss: 0.8609 - mae: 0.8609\n",
            "Epoch 10/100\n",
            "1/1 [==============================] - 0s 3ms/step - loss: 0.8857 - mae: 0.8857\n",
            "Epoch 11/100\n",
            "1/1 [==============================] - 0s 3ms/step - loss: 0.7484 - mae: 0.7484\n",
            "Epoch 12/100\n",
            "1/1 [==============================] - 0s 5ms/step - loss: 0.9809 - mae: 0.9809\n",
            "Epoch 13/100\n",
            "1/1 [==============================] - 0s 9ms/step - loss: 0.6370 - mae: 0.6370\n",
            "Epoch 14/100\n",
            "1/1 [==============================] - 0s 4ms/step - loss: 1.0752 - mae: 1.0752\n",
            "Epoch 15/100\n",
            "1/1 [==============================] - 0s 3ms/step - loss: 0.5267 - mae: 0.5267\n",
            "Epoch 16/100\n",
            "1/1 [==============================] - 0s 5ms/step - loss: 1.1685 - mae: 1.1685\n",
            "Epoch 17/100\n",
            "1/1 [==============================] - 0s 3ms/step - loss: 0.4175 - mae: 0.4175\n",
            "Epoch 18/100\n",
            "1/1 [==============================] - 0s 3ms/step - loss: 1.2609 - mae: 1.2609\n",
            "Epoch 19/100\n",
            "1/1 [==============================] - 0s 3ms/step - loss: 0.3094 - mae: 0.3094\n",
            "Epoch 20/100\n",
            "1/1 [==============================] - 0s 5ms/step - loss: 1.3524 - mae: 1.3524\n",
            "Epoch 21/100\n",
            "1/1 [==============================] - 0s 3ms/step - loss: 0.2024 - mae: 0.2024\n",
            "Epoch 22/100\n",
            "1/1 [==============================] - 0s 3ms/step - loss: 1.4429 - mae: 1.4429\n",
            "Epoch 23/100\n",
            "1/1 [==============================] - 0s 6ms/step - loss: 0.0964 - mae: 0.0964\n",
            "Epoch 24/100\n",
            "1/1 [==============================] - 0s 3ms/step - loss: 1.5326 - mae: 1.5326\n",
            "Epoch 25/100\n",
            "1/1 [==============================] - 0s 5ms/step - loss: 0.0810 - mae: 0.0810\n",
            "Epoch 26/100\n",
            "1/1 [==============================] - 0s 3ms/step - loss: 0.7006 - mae: 0.7006\n",
            "Epoch 27/100\n",
            "1/1 [==============================] - 0s 3ms/step - loss: 0.9981 - mae: 0.9981\n",
            "Epoch 28/100\n",
            "1/1 [==============================] - 0s 3ms/step - loss: 0.5896 - mae: 0.5896\n",
            "Epoch 29/100\n",
            "1/1 [==============================] - 0s 8ms/step - loss: 1.0922 - mae: 1.0922\n",
            "Epoch 30/100\n",
            "1/1 [==============================] - 0s 6ms/step - loss: 0.4798 - mae: 0.4798\n",
            "Epoch 31/100\n",
            "1/1 [==============================] - 0s 6ms/step - loss: 1.1854 - mae: 1.1854\n",
            "Epoch 32/100\n",
            "1/1 [==============================] - 0s 5ms/step - loss: 0.3711 - mae: 0.3711\n",
            "Epoch 33/100\n",
            "1/1 [==============================] - 0s 6ms/step - loss: 1.2776 - mae: 1.2776\n",
            "Epoch 34/100\n",
            "1/1 [==============================] - 0s 6ms/step - loss: 0.2634 - mae: 0.2634\n",
            "Epoch 35/100\n",
            "1/1 [==============================] - 0s 4ms/step - loss: 1.3689 - mae: 1.3689\n",
            "Epoch 36/100\n",
            "1/1 [==============================] - 0s 4ms/step - loss: 0.1569 - mae: 0.1569\n",
            "Epoch 37/100\n",
            "1/1 [==============================] - 0s 4ms/step - loss: 1.4593 - mae: 1.4593\n",
            "Epoch 38/100\n",
            "1/1 [==============================] - 0s 4ms/step - loss: 0.0636 - mae: 0.0636\n",
            "Epoch 39/100\n",
            "1/1 [==============================] - 0s 4ms/step - loss: 0.1181 - mae: 0.1181\n",
            "Epoch 40/100\n",
            "1/1 [==============================] - 0s 4ms/step - loss: 1.4905 - mae: 1.4905\n",
            "Epoch 41/100\n",
            "1/1 [==============================] - 0s 4ms/step - loss: 0.0644 - mae: 0.0644\n",
            "Epoch 42/100\n",
            "1/1 [==============================] - 0s 4ms/step - loss: 0.7139 - mae: 0.7139\n",
            "Epoch 43/100\n",
            "1/1 [==============================] - 0s 4ms/step - loss: 0.9649 - mae: 0.9649\n",
            "Epoch 44/100\n",
            "1/1 [==============================] - 0s 4ms/step - loss: 0.6028 - mae: 0.6028\n",
            "Epoch 45/100\n",
            "1/1 [==============================] - 0s 3ms/step - loss: 1.0594 - mae: 1.0594\n",
            "Epoch 46/100\n",
            "1/1 [==============================] - 0s 4ms/step - loss: 0.4928 - mae: 0.4928\n",
            "Epoch 47/100\n",
            "1/1 [==============================] - 0s 4ms/step - loss: 1.1529 - mae: 1.1529\n",
            "Epoch 48/100\n",
            "1/1 [==============================] - 0s 3ms/step - loss: 0.3839 - mae: 0.3839\n",
            "Epoch 49/100\n",
            "1/1 [==============================] - 0s 3ms/step - loss: 1.2454 - mae: 1.2454\n",
            "Epoch 50/100\n",
            "1/1 [==============================] - 0s 4ms/step - loss: 0.2761 - mae: 0.2761\n",
            "Epoch 51/100\n",
            "1/1 [==============================] - 0s 4ms/step - loss: 1.3371 - mae: 1.3371\n",
            "Epoch 52/100\n",
            "1/1 [==============================] - 0s 4ms/step - loss: 0.1694 - mae: 0.1694\n",
            "Epoch 53/100\n",
            "1/1 [==============================] - 0s 4ms/step - loss: 1.4278 - mae: 1.4278\n",
            "Epoch 54/100\n",
            "1/1 [==============================] - 0s 3ms/step - loss: 0.0645 - mae: 0.0645\n",
            "Epoch 55/100\n",
            "1/1 [==============================] - 0s 4ms/step - loss: 0.6340 - mae: 0.6340\n",
            "Epoch 56/100\n",
            "1/1 [==============================] - 0s 4ms/step - loss: 0.9598 - mae: 0.9598\n",
            "Epoch 57/100\n",
            "1/1 [==============================] - 0s 4ms/step - loss: 0.7317 - mae: 0.7317\n",
            "Epoch 58/100\n",
            "1/1 [==============================] - 0s 4ms/step - loss: 0.8462 - mae: 0.8462\n",
            "Epoch 59/100\n",
            "1/1 [==============================] - 0s 4ms/step - loss: 0.8284 - mae: 0.8284\n",
            "Epoch 60/100\n",
            "1/1 [==============================] - 0s 4ms/step - loss: 0.7339 - mae: 0.7339\n",
            "Epoch 61/100\n",
            "1/1 [==============================] - 0s 4ms/step - loss: 0.9242 - mae: 0.9242\n",
            "Epoch 62/100\n",
            "1/1 [==============================] - 0s 4ms/step - loss: 0.6226 - mae: 0.6226\n",
            "Epoch 63/100\n",
            "1/1 [==============================] - 0s 4ms/step - loss: 1.0190 - mae: 1.0190\n",
            "Epoch 64/100\n",
            "1/1 [==============================] - 0s 4ms/step - loss: 0.5125 - mae: 0.5125\n",
            "Epoch 65/100\n",
            "1/1 [==============================] - 0s 4ms/step - loss: 1.1129 - mae: 1.1129\n",
            "Epoch 66/100\n",
            "1/1 [==============================] - 0s 3ms/step - loss: 0.4034 - mae: 0.4034\n",
            "Epoch 67/100\n",
            "1/1 [==============================] - 0s 4ms/step - loss: 1.2058 - mae: 1.2058\n",
            "Epoch 68/100\n",
            "1/1 [==============================] - 0s 4ms/step - loss: 0.2954 - mae: 0.2954\n",
            "Epoch 69/100\n",
            "1/1 [==============================] - 0s 4ms/step - loss: 1.2978 - mae: 1.2978\n",
            "Epoch 70/100\n",
            "1/1 [==============================] - 0s 4ms/step - loss: 0.1886 - mae: 0.1886\n",
            "Epoch 71/100\n",
            "1/1 [==============================] - 0s 4ms/step - loss: 1.3889 - mae: 1.3889\n",
            "Epoch 72/100\n",
            "1/1 [==============================] - 0s 4ms/step - loss: 0.0827 - mae: 0.0827\n",
            "Epoch 73/100\n",
            "1/1 [==============================] - 0s 4ms/step - loss: 1.4791 - mae: 1.4791\n",
            "Epoch 74/100\n",
            "1/1 [==============================] - 0s 4ms/step - loss: 0.0752 - mae: 0.0752\n",
            "Epoch 75/100\n",
            "1/1 [==============================] - 0s 4ms/step - loss: 0.6595 - mae: 0.6595\n",
            "Epoch 76/100\n",
            "1/1 [==============================] - 0s 4ms/step - loss: 0.9725 - mae: 0.9725\n",
            "Epoch 77/100\n",
            "1/1 [==============================] - 0s 4ms/step - loss: 0.5493 - mae: 0.5493\n",
            "Epoch 78/100\n",
            "1/1 [==============================] - 0s 3ms/step - loss: 1.0665 - mae: 1.0665\n",
            "Epoch 79/100\n",
            "1/1 [==============================] - 0s 4ms/step - loss: 0.4402 - mae: 0.4402\n",
            "Epoch 80/100\n",
            "1/1 [==============================] - 0s 4ms/step - loss: 1.1595 - mae: 1.1595\n",
            "Epoch 81/100\n",
            "1/1 [==============================] - 0s 3ms/step - loss: 0.3322 - mae: 0.3322\n",
            "Epoch 82/100\n",
            "1/1 [==============================] - 0s 4ms/step - loss: 1.2517 - mae: 1.2517\n",
            "Epoch 83/100\n",
            "1/1 [==============================] - 0s 4ms/step - loss: 0.2252 - mae: 0.2252\n",
            "Epoch 84/100\n",
            "1/1 [==============================] - 0s 4ms/step - loss: 1.3429 - mae: 1.3429\n",
            "Epoch 85/100\n",
            "1/1 [==============================] - 0s 3ms/step - loss: 0.1193 - mae: 0.1193\n",
            "Epoch 86/100\n",
            "1/1 [==============================] - 0s 4ms/step - loss: 1.4333 - mae: 1.4333\n",
            "Epoch 87/100\n",
            "1/1 [==============================] - 0s 4ms/step - loss: 0.0565 - mae: 0.0565\n",
            "Epoch 88/100\n",
            "1/1 [==============================] - 0s 4ms/step - loss: 0.6916 - mae: 0.6916\n",
            "Epoch 89/100\n",
            "1/1 [==============================] - 0s 4ms/step - loss: 0.9260 - mae: 0.9260\n",
            "Epoch 90/100\n",
            "1/1 [==============================] - 0s 4ms/step - loss: 0.5808 - mae: 0.5808\n",
            "Epoch 91/100\n",
            "1/1 [==============================] - 0s 4ms/step - loss: 1.0208 - mae: 1.0208\n",
            "Epoch 92/100\n",
            "1/1 [==============================] - 0s 4ms/step - loss: 0.4711 - mae: 0.4711\n",
            "Epoch 93/100\n",
            "1/1 [==============================] - 0s 4ms/step - loss: 1.1147 - mae: 1.1147\n",
            "Epoch 94/100\n",
            "1/1 [==============================] - 0s 4ms/step - loss: 0.3624 - mae: 0.3624\n",
            "Epoch 95/100\n",
            "1/1 [==============================] - 0s 4ms/step - loss: 1.2076 - mae: 1.2076\n",
            "Epoch 96/100\n",
            "1/1 [==============================] - 0s 4ms/step - loss: 0.2549 - mae: 0.2549\n",
            "Epoch 97/100\n",
            "1/1 [==============================] - 0s 4ms/step - loss: 1.2996 - mae: 1.2996\n",
            "Epoch 98/100\n",
            "1/1 [==============================] - 0s 3ms/step - loss: 0.1484 - mae: 0.1484\n",
            "Epoch 99/100\n",
            "1/1 [==============================] - 0s 4ms/step - loss: 1.3906 - mae: 1.3906\n",
            "Epoch 100/100\n",
            "1/1 [==============================] - 0s 4ms/step - loss: 0.0513 - mae: 0.0513\n",
            "1/1 [==============================] - 0s 302ms/step - loss: 0.6296 - mae: 0.6296\n"
          ]
        },
        {
          "output_type": "execute_result",
          "data": {
            "text/plain": [
              "[0.6295583248138428, 0.6295583248138428]"
            ]
          },
          "metadata": {},
          "execution_count": 30
        }
      ]
    },
    {
      "cell_type": "code",
      "metadata": {
        "colab": {
          "base_uri": "https://localhost:8080/"
        },
        "id": "iuxF5YvLgETP",
        "outputId": "882a027a-bfbd-489a-ed1f-252531201ffe"
      },
      "source": [
        "X, y"
      ],
      "execution_count": 31,
      "outputs": [
        {
          "output_type": "execute_result",
          "data": {
            "text/plain": [
              "(<tf.Tensor: shape=(6,), dtype=int32, numpy=array([ 2,  4,  6,  8, 10, 12], dtype=int32)>,\n",
              " <tf.Tensor: shape=(6,), dtype=int32, numpy=array([ 3,  6,  9, 12, 15, 18], dtype=int32)>)"
            ]
          },
          "metadata": {},
          "execution_count": 31
        }
      ]
    },
    {
      "cell_type": "code",
      "metadata": {
        "colab": {
          "base_uri": "https://localhost:8080/"
        },
        "id": "baxbSfk_gPsD",
        "outputId": "2315e991-476d-4fb0-e4f9-140de476186d"
      },
      "source": [
        "model.predict([14])"
      ],
      "execution_count": 32,
      "outputs": [
        {
          "output_type": "execute_result",
          "data": {
            "text/plain": [
              "array([[19.620886]], dtype=float32)"
            ]
          },
          "metadata": {},
          "execution_count": 32
        }
      ]
    },
    {
      "cell_type": "markdown",
      "metadata": {
        "id": "buke_79lgVEH"
      },
      "source": [
        "**Model No 4**"
      ]
    },
    {
      "cell_type": "code",
      "metadata": {
        "colab": {
          "base_uri": "https://localhost:8080/"
        },
        "id": "Jo-9nsVIgUav",
        "outputId": "948ee680-3eb9-481e-df4e-c6e88c16a6f5"
      },
      "source": [
        "tf.random.set_seed(42)\n",
        "\n",
        "model= tf.keras.Sequential([\n",
        "                            tf.keras.layers.Dense(100,activation='relu'),\n",
        "                            tf.keras.layers.Dense(1)\n",
        "])\n",
        "\n",
        "model.compile(\n",
        "    loss = tf.keras.losses.mae,\n",
        "    optimizer = tf.keras.optimizers.Adam(lr=0.01),\n",
        "    metrics=['mae']\n",
        ")\n",
        "\n",
        "\n",
        "model.fit(tf.expand_dims(X, axis=1), y, epochs=100)\n",
        "\n",
        "model.evaluate(X,y)"
      ],
      "execution_count": 34,
      "outputs": [
        {
          "output_type": "stream",
          "name": "stderr",
          "text": [
            "/usr/local/lib/python3.7/dist-packages/keras/optimizer_v2/adam.py:105: UserWarning: The `lr` argument is deprecated, use `learning_rate` instead.\n",
            "  super(Adam, self).__init__(name, **kwargs)\n"
          ]
        },
        {
          "output_type": "stream",
          "name": "stdout",
          "text": [
            "Epoch 1/100\n",
            "1/1 [==============================] - 0s 331ms/step - loss: 9.0186 - mae: 9.0186\n",
            "Epoch 2/100\n",
            "1/1 [==============================] - 0s 6ms/step - loss: 8.0628 - mae: 8.0628\n",
            "Epoch 3/100\n",
            "1/1 [==============================] - 0s 3ms/step - loss: 7.0930 - mae: 7.0930\n",
            "Epoch 4/100\n",
            "1/1 [==============================] - 0s 7ms/step - loss: 6.1058 - mae: 6.1058\n",
            "Epoch 5/100\n",
            "1/1 [==============================] - 0s 7ms/step - loss: 5.0865 - mae: 5.0865\n",
            "Epoch 6/100\n",
            "1/1 [==============================] - 0s 6ms/step - loss: 4.0344 - mae: 4.0344\n",
            "Epoch 7/100\n",
            "1/1 [==============================] - 0s 4ms/step - loss: 2.9514 - mae: 2.9514\n",
            "Epoch 8/100\n",
            "1/1 [==============================] - 0s 4ms/step - loss: 1.8268 - mae: 1.8268\n",
            "Epoch 9/100\n",
            "1/1 [==============================] - 0s 5ms/step - loss: 0.7600 - mae: 0.7600\n",
            "Epoch 10/100\n",
            "1/1 [==============================] - 0s 4ms/step - loss: 0.5539 - mae: 0.5539\n",
            "Epoch 11/100\n",
            "1/1 [==============================] - 0s 5ms/step - loss: 1.3354 - mae: 1.3354\n",
            "Epoch 12/100\n",
            "1/1 [==============================] - 0s 5ms/step - loss: 1.7598 - mae: 1.7598\n",
            "Epoch 13/100\n",
            "1/1 [==============================] - 0s 4ms/step - loss: 1.8964 - mae: 1.8964\n",
            "Epoch 14/100\n",
            "1/1 [==============================] - 0s 5ms/step - loss: 1.8057 - mae: 1.8057\n",
            "Epoch 15/100\n",
            "1/1 [==============================] - 0s 3ms/step - loss: 1.5374 - mae: 1.5374\n",
            "Epoch 16/100\n",
            "1/1 [==============================] - 0s 5ms/step - loss: 1.1323 - mae: 1.1323\n",
            "Epoch 17/100\n",
            "1/1 [==============================] - 0s 8ms/step - loss: 0.6239 - mae: 0.6239\n",
            "Epoch 18/100\n",
            "1/1 [==============================] - 0s 3ms/step - loss: 0.2825 - mae: 0.2825\n",
            "Epoch 19/100\n",
            "1/1 [==============================] - 0s 3ms/step - loss: 0.5413 - mae: 0.5413\n",
            "Epoch 20/100\n",
            "1/1 [==============================] - 0s 3ms/step - loss: 0.7925 - mae: 0.7925\n",
            "Epoch 21/100\n",
            "1/1 [==============================] - 0s 11ms/step - loss: 0.9230 - mae: 0.9230\n",
            "Epoch 22/100\n",
            "1/1 [==============================] - 0s 9ms/step - loss: 0.9379 - mae: 0.9379\n",
            "Epoch 23/100\n",
            "1/1 [==============================] - 0s 4ms/step - loss: 0.8521 - mae: 0.8521\n",
            "Epoch 24/100\n",
            "1/1 [==============================] - 0s 4ms/step - loss: 0.6757 - mae: 0.6757\n",
            "Epoch 25/100\n",
            "1/1 [==============================] - 0s 4ms/step - loss: 0.4438 - mae: 0.4438\n",
            "Epoch 26/100\n",
            "1/1 [==============================] - 0s 5ms/step - loss: 0.2419 - mae: 0.2419\n",
            "Epoch 27/100\n",
            "1/1 [==============================] - 0s 5ms/step - loss: 0.4319 - mae: 0.4319\n",
            "Epoch 28/100\n",
            "1/1 [==============================] - 0s 3ms/step - loss: 0.6331 - mae: 0.6331\n",
            "Epoch 29/100\n",
            "1/1 [==============================] - 0s 6ms/step - loss: 0.6732 - mae: 0.6732\n",
            "Epoch 30/100\n",
            "1/1 [==============================] - 0s 4ms/step - loss: 0.5712 - mae: 0.5712\n",
            "Epoch 31/100\n",
            "1/1 [==============================] - 0s 5ms/step - loss: 0.3467 - mae: 0.3467\n",
            "Epoch 32/100\n",
            "1/1 [==============================] - 0s 3ms/step - loss: 0.2184 - mae: 0.2184\n",
            "Epoch 33/100\n",
            "1/1 [==============================] - 0s 5ms/step - loss: 0.3489 - mae: 0.3489\n",
            "Epoch 34/100\n",
            "1/1 [==============================] - 0s 3ms/step - loss: 0.4359 - mae: 0.4359\n",
            "Epoch 35/100\n",
            "1/1 [==============================] - 0s 4ms/step - loss: 0.4407 - mae: 0.4407\n",
            "Epoch 36/100\n",
            "1/1 [==============================] - 0s 5ms/step - loss: 0.3596 - mae: 0.3596\n",
            "Epoch 37/100\n",
            "1/1 [==============================] - 0s 5ms/step - loss: 0.2329 - mae: 0.2329\n",
            "Epoch 38/100\n",
            "1/1 [==============================] - 0s 5ms/step - loss: 0.1709 - mae: 0.1709\n",
            "Epoch 39/100\n",
            "1/1 [==============================] - 0s 3ms/step - loss: 0.3219 - mae: 0.3219\n",
            "Epoch 40/100\n",
            "1/1 [==============================] - 0s 5ms/step - loss: 0.3396 - mae: 0.3396\n",
            "Epoch 41/100\n",
            "1/1 [==============================] - 0s 3ms/step - loss: 0.2246 - mae: 0.2246\n",
            "Epoch 42/100\n",
            "1/1 [==============================] - 0s 3ms/step - loss: 0.1540 - mae: 0.1540\n",
            "Epoch 43/100\n",
            "1/1 [==============================] - 0s 4ms/step - loss: 0.2401 - mae: 0.2401\n",
            "Epoch 44/100\n",
            "1/1 [==============================] - 0s 9ms/step - loss: 0.2712 - mae: 0.2712\n",
            "Epoch 45/100\n",
            "1/1 [==============================] - 0s 7ms/step - loss: 0.2222 - mae: 0.2222\n",
            "Epoch 46/100\n",
            "1/1 [==============================] - 0s 7ms/step - loss: 0.1250 - mae: 0.1250\n",
            "Epoch 47/100\n",
            "1/1 [==============================] - 0s 6ms/step - loss: 0.1607 - mae: 0.1607\n",
            "Epoch 48/100\n",
            "1/1 [==============================] - 0s 3ms/step - loss: 0.1916 - mae: 0.1916\n",
            "Epoch 49/100\n",
            "1/1 [==============================] - 0s 4ms/step - loss: 0.0898 - mae: 0.0898\n",
            "Epoch 50/100\n",
            "1/1 [==============================] - 0s 7ms/step - loss: 0.1141 - mae: 0.1141\n",
            "Epoch 51/100\n",
            "1/1 [==============================] - 0s 3ms/step - loss: 0.1381 - mae: 0.1381\n",
            "Epoch 52/100\n",
            "1/1 [==============================] - 0s 3ms/step - loss: 0.0984 - mae: 0.0984\n",
            "Epoch 53/100\n",
            "1/1 [==============================] - 0s 4ms/step - loss: 0.0664 - mae: 0.0664\n",
            "Epoch 54/100\n",
            "1/1 [==============================] - 0s 5ms/step - loss: 0.0523 - mae: 0.0523\n",
            "Epoch 55/100\n",
            "1/1 [==============================] - 0s 5ms/step - loss: 0.0987 - mae: 0.0987\n",
            "Epoch 56/100\n",
            "1/1 [==============================] - 0s 5ms/step - loss: 0.1059 - mae: 0.1059\n",
            "Epoch 57/100\n",
            "1/1 [==============================] - 0s 4ms/step - loss: 0.0156 - mae: 0.0156\n",
            "Epoch 58/100\n",
            "1/1 [==============================] - 0s 7ms/step - loss: 0.1412 - mae: 0.1412\n",
            "Epoch 59/100\n",
            "1/1 [==============================] - 0s 4ms/step - loss: 0.1393 - mae: 0.1393\n",
            "Epoch 60/100\n",
            "1/1 [==============================] - 0s 5ms/step - loss: 0.0158 - mae: 0.0158\n",
            "Epoch 61/100\n",
            "1/1 [==============================] - 0s 5ms/step - loss: 0.1985 - mae: 0.1985\n",
            "Epoch 62/100\n",
            "1/1 [==============================] - 0s 5ms/step - loss: 0.2561 - mae: 0.2561\n",
            "Epoch 63/100\n",
            "1/1 [==============================] - 0s 5ms/step - loss: 0.1823 - mae: 0.1823\n",
            "Epoch 64/100\n",
            "1/1 [==============================] - 0s 4ms/step - loss: 0.0359 - mae: 0.0359\n",
            "Epoch 65/100\n",
            "1/1 [==============================] - 0s 4ms/step - loss: 0.1377 - mae: 0.1377\n",
            "Epoch 66/100\n",
            "1/1 [==============================] - 0s 3ms/step - loss: 0.1351 - mae: 0.1351\n",
            "Epoch 67/100\n",
            "1/1 [==============================] - 0s 5ms/step - loss: 0.0389 - mae: 0.0389\n",
            "Epoch 68/100\n",
            "1/1 [==============================] - 0s 4ms/step - loss: 0.1429 - mae: 0.1429\n",
            "Epoch 69/100\n",
            "1/1 [==============================] - 0s 6ms/step - loss: 0.1564 - mae: 0.1564\n",
            "Epoch 70/100\n",
            "1/1 [==============================] - 0s 3ms/step - loss: 0.0418 - mae: 0.0418\n",
            "Epoch 71/100\n",
            "1/1 [==============================] - 0s 6ms/step - loss: 0.1899 - mae: 0.1899\n",
            "Epoch 72/100\n",
            "1/1 [==============================] - 0s 5ms/step - loss: 0.2692 - mae: 0.2692\n",
            "Epoch 73/100\n",
            "1/1 [==============================] - 0s 6ms/step - loss: 0.2103 - mae: 0.2103\n",
            "Epoch 74/100\n",
            "1/1 [==============================] - 0s 3ms/step - loss: 0.0375 - mae: 0.0375\n",
            "Epoch 75/100\n",
            "1/1 [==============================] - 0s 4ms/step - loss: 0.2194 - mae: 0.2194\n",
            "Epoch 76/100\n",
            "1/1 [==============================] - 0s 9ms/step - loss: 0.3170 - mae: 0.3170\n",
            "Epoch 77/100\n",
            "1/1 [==============================] - 0s 4ms/step - loss: 0.2819 - mae: 0.2819\n",
            "Epoch 78/100\n",
            "1/1 [==============================] - 0s 4ms/step - loss: 0.1272 - mae: 0.1272\n",
            "Epoch 79/100\n",
            "1/1 [==============================] - 0s 4ms/step - loss: 0.1379 - mae: 0.1379\n",
            "Epoch 80/100\n",
            "1/1 [==============================] - 0s 9ms/step - loss: 0.2507 - mae: 0.2507\n",
            "Epoch 81/100\n",
            "1/1 [==============================] - 0s 4ms/step - loss: 0.2243 - mae: 0.2243\n",
            "Epoch 82/100\n",
            "1/1 [==============================] - 0s 4ms/step - loss: 0.0740 - mae: 0.0740\n",
            "Epoch 83/100\n",
            "1/1 [==============================] - 0s 4ms/step - loss: 0.1840 - mae: 0.1840\n",
            "Epoch 84/100\n",
            "1/1 [==============================] - 0s 7ms/step - loss: 0.2922 - mae: 0.2922\n",
            "Epoch 85/100\n",
            "1/1 [==============================] - 0s 9ms/step - loss: 0.2688 - mae: 0.2688\n",
            "Epoch 86/100\n",
            "1/1 [==============================] - 0s 4ms/step - loss: 0.1269 - mae: 0.1269\n",
            "Epoch 87/100\n",
            "1/1 [==============================] - 0s 5ms/step - loss: 0.1242 - mae: 0.1242\n",
            "Epoch 88/100\n",
            "1/1 [==============================] - 0s 4ms/step - loss: 0.2269 - mae: 0.2269\n",
            "Epoch 89/100\n",
            "1/1 [==============================] - 0s 4ms/step - loss: 0.1940 - mae: 0.1940\n",
            "Epoch 90/100\n",
            "1/1 [==============================] - 0s 4ms/step - loss: 0.0403 - mae: 0.0403\n",
            "Epoch 91/100\n",
            "1/1 [==============================] - 0s 4ms/step - loss: 0.2183 - mae: 0.2183\n",
            "Epoch 92/100\n",
            "1/1 [==============================] - 0s 4ms/step - loss: 0.3294 - mae: 0.3294\n",
            "Epoch 93/100\n",
            "1/1 [==============================] - 0s 9ms/step - loss: 0.3110 - mae: 0.3110\n",
            "Epoch 94/100\n",
            "1/1 [==============================] - 0s 6ms/step - loss: 0.1760 - mae: 0.1760\n",
            "Epoch 95/100\n",
            "1/1 [==============================] - 0s 10ms/step - loss: 0.0665 - mae: 0.0665\n",
            "Epoch 96/100\n",
            "1/1 [==============================] - 0s 4ms/step - loss: 0.1638 - mae: 0.1638\n",
            "Epoch 97/100\n",
            "1/1 [==============================] - 0s 6ms/step - loss: 0.1287 - mae: 0.1287\n",
            "Epoch 98/100\n",
            "1/1 [==============================] - 0s 8ms/step - loss: 0.0273 - mae: 0.0273\n",
            "Epoch 99/100\n",
            "1/1 [==============================] - 0s 3ms/step - loss: 0.0549 - mae: 0.0549\n",
            "Epoch 100/100\n",
            "1/1 [==============================] - 0s 4ms/step - loss: 0.0378 - mae: 0.0378\n",
            "1/1 [==============================] - 0s 82ms/step - loss: 0.0055 - mae: 0.0055\n"
          ]
        },
        {
          "output_type": "execute_result",
          "data": {
            "text/plain": [
              "[0.005490779876708984, 0.005490779876708984]"
            ]
          },
          "metadata": {},
          "execution_count": 34
        }
      ]
    },
    {
      "cell_type": "code",
      "metadata": {
        "colab": {
          "base_uri": "https://localhost:8080/"
        },
        "id": "7mXJutbBg7ya",
        "outputId": "862f5c51-91de-462e-9531-c92d38191827"
      },
      "source": [
        "X,y"
      ],
      "execution_count": 35,
      "outputs": [
        {
          "output_type": "execute_result",
          "data": {
            "text/plain": [
              "(<tf.Tensor: shape=(6,), dtype=int32, numpy=array([ 2,  4,  6,  8, 10, 12], dtype=int32)>,\n",
              " <tf.Tensor: shape=(6,), dtype=int32, numpy=array([ 3,  6,  9, 12, 15, 18], dtype=int32)>)"
            ]
          },
          "metadata": {},
          "execution_count": 35
        }
      ]
    },
    {
      "cell_type": "code",
      "metadata": {
        "colab": {
          "base_uri": "https://localhost:8080/"
        },
        "id": "4GeGqS7-hNWF",
        "outputId": "25a9bebf-9219-4f5b-f894-6ef22e421b8f"
      },
      "source": [
        "model.predict([14])"
      ],
      "execution_count": 36,
      "outputs": [
        {
          "output_type": "execute_result",
          "data": {
            "text/plain": [
              "array([[20.989462]], dtype=float32)"
            ]
          },
          "metadata": {},
          "execution_count": 36
        }
      ]
    },
    {
      "cell_type": "code",
      "metadata": {
        "id": "7fBFpg9zhPly"
      },
      "source": [
        ""
      ],
      "execution_count": null,
      "outputs": []
    }
  ]
}