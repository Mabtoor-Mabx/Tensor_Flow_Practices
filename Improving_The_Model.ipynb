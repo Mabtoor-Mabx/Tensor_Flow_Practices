{
  "nbformat": 4,
  "nbformat_minor": 0,
  "metadata": {
    "colab": {
      "name": "Improving_The_Model.ipynb",
      "provenance": []
    },
    "kernelspec": {
      "name": "python3",
      "display_name": "Python 3"
    },
    "language_info": {
      "name": "python"
    }
  },
  "cells": [
    {
      "cell_type": "markdown",
      "metadata": {
        "id": "BNYPgMak1sOG"
      },
      "source": [
        "# ***Improving The model*** "
      ]
    },
    {
      "cell_type": "code",
      "metadata": {
        "id": "D_CQ1bJ21oAE"
      },
      "source": [
        "import tensorflow as tf\n",
        "import numpy as np\n",
        "import pandas as pd\n",
        "import matplotlib.pyplot  as plt"
      ],
      "execution_count": 1,
      "outputs": []
    },
    {
      "cell_type": "code",
      "metadata": {
        "colab": {
          "base_uri": "https://localhost:8080/"
        },
        "id": "aHqDAEP22FcS",
        "outputId": "52d68fbe-3323-4f4c-f3ad-e10de07b2006"
      },
      "source": [
        "X = tf.constant([3,6,9,12,15,18])\n",
        "y =tf.constant([4,8,12,16,20,24])\n",
        " \n",
        "X,y "
      ],
      "execution_count": 2,
      "outputs": [
        {
          "output_type": "execute_result",
          "data": {
            "text/plain": [
              "(<tf.Tensor: shape=(6,), dtype=int32, numpy=array([ 3,  6,  9, 12, 15, 18], dtype=int32)>,\n",
              " <tf.Tensor: shape=(6,), dtype=int32, numpy=array([ 4,  8, 12, 16, 20, 24], dtype=int32)>)"
            ]
          },
          "metadata": {},
          "execution_count": 2
        }
      ]
    },
    {
      "cell_type": "markdown",
      "metadata": {
        "id": "W9-qxWjp2XZS"
      },
      "source": [
        "**Model No 1**"
      ]
    },
    {
      "cell_type": "code",
      "metadata": {
        "colab": {
          "base_uri": "https://localhost:8080/"
        },
        "id": "PeJxJ4YI2RsM",
        "outputId": "9eac051e-f242-4f6a-c750-fbadee09eccf"
      },
      "source": [
        "#set random values\n",
        "tf.random.set_seed(42)\n",
        "\n",
        "# create A model\n",
        "model = tf.keras.Sequential([\n",
        "                             tf.keras.layers.Dense(1)\n",
        "])\n",
        "\n",
        "# compiling a model\n",
        "\n",
        "model.compile(\n",
        "    loss= tf.keras.losses.mae,\n",
        "    optimizer = tf.keras.optimizers.SGD(),\n",
        "    metrics = ['mae']    \n",
        ")\n",
        "\n",
        "# Fit a model\n",
        "\n",
        "model.fit(tf.expand_dims(X, axis=1), y, epochs=5)\n",
        "\n",
        "# evaluate a model\n",
        "\n",
        "model.evaluate(X, y)"
      ],
      "execution_count": 3,
      "outputs": [
        {
          "output_type": "stream",
          "name": "stdout",
          "text": [
            "Epoch 1/5\n",
            "1/1 [==============================] - 1s 627ms/step - loss: 8.0144 - mae: 8.0144\n",
            "Epoch 2/5\n",
            "1/1 [==============================] - 0s 5ms/step - loss: 6.9019 - mae: 6.9019\n",
            "Epoch 3/5\n",
            "1/1 [==============================] - 0s 4ms/step - loss: 5.7894 - mae: 5.7894\n",
            "Epoch 4/5\n",
            "1/1 [==============================] - 0s 4ms/step - loss: 4.6769 - mae: 4.6769\n",
            "Epoch 5/5\n",
            "1/1 [==============================] - 0s 5ms/step - loss: 3.5644 - mae: 3.5644\n",
            "1/1 [==============================] - 0s 131ms/step - loss: 2.4519 - mae: 2.4519\n"
          ]
        },
        {
          "output_type": "execute_result",
          "data": {
            "text/plain": [
              "[2.4518699645996094, 2.4518699645996094]"
            ]
          },
          "metadata": {},
          "execution_count": 3
        }
      ]
    },
    {
      "cell_type": "code",
      "metadata": {
        "colab": {
          "base_uri": "https://localhost:8080/"
        },
        "id": "mJ3voifL29nO",
        "outputId": "68b50203-77c0-4c3b-be8d-231a1c19a5c3"
      },
      "source": [
        "X,y"
      ],
      "execution_count": 4,
      "outputs": [
        {
          "output_type": "execute_result",
          "data": {
            "text/plain": [
              "(<tf.Tensor: shape=(6,), dtype=int32, numpy=array([ 3,  6,  9, 12, 15, 18], dtype=int32)>,\n",
              " <tf.Tensor: shape=(6,), dtype=int32, numpy=array([ 4,  8, 12, 16, 20, 24], dtype=int32)>)"
            ]
          },
          "metadata": {},
          "execution_count": 4
        }
      ]
    },
    {
      "cell_type": "code",
      "metadata": {
        "colab": {
          "base_uri": "https://localhost:8080/"
        },
        "id": "tR1xJ9DO3CjU",
        "outputId": "12980513-ff4a-4ea4-af8d-3a82eb1f0b5a"
      },
      "source": [
        "model.predict([21])"
      ],
      "execution_count": 5,
      "outputs": [
        {
          "output_type": "execute_result",
          "data": {
            "text/plain": [
              "array([[23.046259]], dtype=float32)"
            ]
          },
          "metadata": {},
          "execution_count": 5
        }
      ]
    },
    {
      "cell_type": "markdown",
      "metadata": {
        "id": "EC9fFjD_3IyH"
      },
      "source": [
        "**Model No 2**"
      ]
    },
    {
      "cell_type": "code",
      "metadata": {
        "colab": {
          "base_uri": "https://localhost:8080/"
        },
        "id": "ayKGGdLF3GLu",
        "outputId": "0b059270-b60d-4e74-87e4-9da84c626812"
      },
      "source": [
        "# set Random Values \n",
        "\n",
        "tf.random.set_seed(42)\n",
        "\n",
        "# create a model\n",
        "model = tf.keras.Sequential([\n",
        "                             tf.keras.layers.Dense(1)\n",
        "])\n",
        "\n",
        "# compiling a model \n",
        "\n",
        "model.compile(\n",
        "    loss = tf.keras.losses.mae,\n",
        "    optimizer = tf.keras.optimizers.SGD(),\n",
        "    metrics=['mae']\n",
        ")\n",
        "\n",
        "# Fit a model\n",
        "\n",
        "model.fit(tf.expand_dims(X, axis=1) ,y , epochs=100)\n",
        "\n",
        "# evaluate the model\n",
        "\n",
        "model.evaluate"
      ],
      "execution_count": 7,
      "outputs": [
        {
          "output_type": "stream",
          "name": "stdout",
          "text": [
            "Epoch 1/100\n",
            "1/1 [==============================] - 0s 283ms/step - loss: 8.0144 - mae: 8.0144\n",
            "Epoch 2/100\n",
            "1/1 [==============================] - 0s 5ms/step - loss: 6.9019 - mae: 6.9019\n",
            "Epoch 3/100\n",
            "1/1 [==============================] - 0s 10ms/step - loss: 5.7894 - mae: 5.7894\n",
            "Epoch 4/100\n",
            "1/1 [==============================] - 0s 4ms/step - loss: 4.6769 - mae: 4.6769\n",
            "Epoch 5/100\n",
            "1/1 [==============================] - 0s 8ms/step - loss: 3.5644 - mae: 3.5644\n",
            "Epoch 6/100\n",
            "1/1 [==============================] - 0s 4ms/step - loss: 2.4519 - mae: 2.4519\n",
            "Epoch 7/100\n",
            "1/1 [==============================] - 0s 8ms/step - loss: 1.3394 - mae: 1.3394\n",
            "Epoch 8/100\n",
            "1/1 [==============================] - 0s 4ms/step - loss: 0.2269 - mae: 0.2269\n",
            "Epoch 9/100\n",
            "1/1 [==============================] - 0s 7ms/step - loss: 0.8856 - mae: 0.8856\n",
            "Epoch 10/100\n",
            "1/1 [==============================] - 0s 5ms/step - loss: 0.2269 - mae: 0.2269\n",
            "Epoch 11/100\n",
            "1/1 [==============================] - 0s 8ms/step - loss: 0.8856 - mae: 0.8856\n",
            "Epoch 12/100\n",
            "1/1 [==============================] - 0s 7ms/step - loss: 0.2269 - mae: 0.2269\n",
            "Epoch 13/100\n",
            "1/1 [==============================] - 0s 4ms/step - loss: 0.8856 - mae: 0.8856\n",
            "Epoch 14/100\n",
            "1/1 [==============================] - 0s 8ms/step - loss: 0.2269 - mae: 0.2269\n",
            "Epoch 15/100\n",
            "1/1 [==============================] - 0s 5ms/step - loss: 0.8856 - mae: 0.8856\n",
            "Epoch 16/100\n",
            "1/1 [==============================] - 0s 5ms/step - loss: 0.2269 - mae: 0.2269\n",
            "Epoch 17/100\n",
            "1/1 [==============================] - 0s 8ms/step - loss: 0.8856 - mae: 0.8856\n",
            "Epoch 18/100\n",
            "1/1 [==============================] - 0s 5ms/step - loss: 0.2269 - mae: 0.2269\n",
            "Epoch 19/100\n",
            "1/1 [==============================] - 0s 5ms/step - loss: 0.8856 - mae: 0.8856\n",
            "Epoch 20/100\n",
            "1/1 [==============================] - 0s 6ms/step - loss: 0.2269 - mae: 0.2269\n",
            "Epoch 21/100\n",
            "1/1 [==============================] - 0s 4ms/step - loss: 0.8856 - mae: 0.8856\n",
            "Epoch 22/100\n",
            "1/1 [==============================] - 0s 6ms/step - loss: 0.2269 - mae: 0.2269\n",
            "Epoch 23/100\n",
            "1/1 [==============================] - 0s 21ms/step - loss: 0.8856 - mae: 0.8856\n",
            "Epoch 24/100\n",
            "1/1 [==============================] - 0s 6ms/step - loss: 0.2269 - mae: 0.2269\n",
            "Epoch 25/100\n",
            "1/1 [==============================] - 0s 6ms/step - loss: 0.8856 - mae: 0.8856\n",
            "Epoch 26/100\n",
            "1/1 [==============================] - 0s 8ms/step - loss: 0.2269 - mae: 0.2269\n",
            "Epoch 27/100\n",
            "1/1 [==============================] - 0s 8ms/step - loss: 0.8856 - mae: 0.8856\n",
            "Epoch 28/100\n",
            "1/1 [==============================] - 0s 9ms/step - loss: 0.2269 - mae: 0.2269\n",
            "Epoch 29/100\n",
            "1/1 [==============================] - 0s 5ms/step - loss: 0.8856 - mae: 0.8856\n",
            "Epoch 30/100\n",
            "1/1 [==============================] - 0s 11ms/step - loss: 0.2269 - mae: 0.2269\n",
            "Epoch 31/100\n",
            "1/1 [==============================] - 0s 8ms/step - loss: 0.8856 - mae: 0.8856\n",
            "Epoch 32/100\n",
            "1/1 [==============================] - 0s 8ms/step - loss: 0.2269 - mae: 0.2269\n",
            "Epoch 33/100\n",
            "1/1 [==============================] - 0s 6ms/step - loss: 0.8856 - mae: 0.8856\n",
            "Epoch 34/100\n",
            "1/1 [==============================] - 0s 7ms/step - loss: 0.2269 - mae: 0.2269\n",
            "Epoch 35/100\n",
            "1/1 [==============================] - 0s 9ms/step - loss: 0.8856 - mae: 0.8856\n",
            "Epoch 36/100\n",
            "1/1 [==============================] - 0s 7ms/step - loss: 0.2269 - mae: 0.2269\n",
            "Epoch 37/100\n",
            "1/1 [==============================] - 0s 11ms/step - loss: 0.8856 - mae: 0.8856\n",
            "Epoch 38/100\n",
            "1/1 [==============================] - 0s 8ms/step - loss: 0.2269 - mae: 0.2269\n",
            "Epoch 39/100\n",
            "1/1 [==============================] - 0s 9ms/step - loss: 0.8856 - mae: 0.8856\n",
            "Epoch 40/100\n",
            "1/1 [==============================] - 0s 5ms/step - loss: 0.2269 - mae: 0.2269\n",
            "Epoch 41/100\n",
            "1/1 [==============================] - 0s 6ms/step - loss: 0.8856 - mae: 0.8856\n",
            "Epoch 42/100\n",
            "1/1 [==============================] - 0s 14ms/step - loss: 0.2269 - mae: 0.2269\n",
            "Epoch 43/100\n",
            "1/1 [==============================] - 0s 9ms/step - loss: 0.8856 - mae: 0.8856\n",
            "Epoch 44/100\n",
            "1/1 [==============================] - 0s 4ms/step - loss: 0.2269 - mae: 0.2269\n",
            "Epoch 45/100\n",
            "1/1 [==============================] - 0s 6ms/step - loss: 0.8856 - mae: 0.8856\n",
            "Epoch 46/100\n",
            "1/1 [==============================] - 0s 6ms/step - loss: 0.2269 - mae: 0.2269\n",
            "Epoch 47/100\n",
            "1/1 [==============================] - 0s 7ms/step - loss: 0.8856 - mae: 0.8856\n",
            "Epoch 48/100\n",
            "1/1 [==============================] - 0s 6ms/step - loss: 0.2269 - mae: 0.2269\n",
            "Epoch 49/100\n",
            "1/1 [==============================] - 0s 4ms/step - loss: 0.8856 - mae: 0.8856\n",
            "Epoch 50/100\n",
            "1/1 [==============================] - 0s 6ms/step - loss: 0.2269 - mae: 0.2269\n",
            "Epoch 51/100\n",
            "1/1 [==============================] - 0s 6ms/step - loss: 0.8856 - mae: 0.8856\n",
            "Epoch 52/100\n",
            "1/1 [==============================] - 0s 11ms/step - loss: 0.2269 - mae: 0.2269\n",
            "Epoch 53/100\n",
            "1/1 [==============================] - 0s 4ms/step - loss: 0.8856 - mae: 0.8856\n",
            "Epoch 54/100\n",
            "1/1 [==============================] - 0s 6ms/step - loss: 0.2269 - mae: 0.2269\n",
            "Epoch 55/100\n",
            "1/1 [==============================] - 0s 8ms/step - loss: 0.8856 - mae: 0.8856\n",
            "Epoch 56/100\n",
            "1/1 [==============================] - 0s 4ms/step - loss: 0.2269 - mae: 0.2269\n",
            "Epoch 57/100\n",
            "1/1 [==============================] - 0s 9ms/step - loss: 0.8856 - mae: 0.8856\n",
            "Epoch 58/100\n",
            "1/1 [==============================] - 0s 3ms/step - loss: 0.2269 - mae: 0.2269\n",
            "Epoch 59/100\n",
            "1/1 [==============================] - 0s 4ms/step - loss: 0.8856 - mae: 0.8856\n",
            "Epoch 60/100\n",
            "1/1 [==============================] - 0s 8ms/step - loss: 0.2269 - mae: 0.2269\n",
            "Epoch 61/100\n",
            "1/1 [==============================] - 0s 4ms/step - loss: 0.8856 - mae: 0.8856\n",
            "Epoch 62/100\n",
            "1/1 [==============================] - 0s 7ms/step - loss: 0.2269 - mae: 0.2269\n",
            "Epoch 63/100\n",
            "1/1 [==============================] - 0s 7ms/step - loss: 0.8856 - mae: 0.8856\n",
            "Epoch 64/100\n",
            "1/1 [==============================] - 0s 9ms/step - loss: 0.2269 - mae: 0.2269\n",
            "Epoch 65/100\n",
            "1/1 [==============================] - 0s 7ms/step - loss: 0.8856 - mae: 0.8856\n",
            "Epoch 66/100\n",
            "1/1 [==============================] - 0s 7ms/step - loss: 0.2269 - mae: 0.2269\n",
            "Epoch 67/100\n",
            "1/1 [==============================] - 0s 7ms/step - loss: 0.8856 - mae: 0.8856\n",
            "Epoch 68/100\n",
            "1/1 [==============================] - 0s 14ms/step - loss: 0.2269 - mae: 0.2269\n",
            "Epoch 69/100\n",
            "1/1 [==============================] - 0s 4ms/step - loss: 0.8856 - mae: 0.8856\n",
            "Epoch 70/100\n",
            "1/1 [==============================] - 0s 10ms/step - loss: 0.2269 - mae: 0.2269\n",
            "Epoch 71/100\n",
            "1/1 [==============================] - 0s 10ms/step - loss: 0.8856 - mae: 0.8856\n",
            "Epoch 72/100\n",
            "1/1 [==============================] - 0s 9ms/step - loss: 0.2269 - mae: 0.2269\n",
            "Epoch 73/100\n",
            "1/1 [==============================] - 0s 4ms/step - loss: 0.8856 - mae: 0.8856\n",
            "Epoch 74/100\n",
            "1/1 [==============================] - 0s 4ms/step - loss: 0.2269 - mae: 0.2269\n",
            "Epoch 75/100\n",
            "1/1 [==============================] - 0s 6ms/step - loss: 0.8856 - mae: 0.8856\n",
            "Epoch 76/100\n",
            "1/1 [==============================] - 0s 5ms/step - loss: 0.2269 - mae: 0.2269\n",
            "Epoch 77/100\n",
            "1/1 [==============================] - 0s 10ms/step - loss: 0.8856 - mae: 0.8856\n",
            "Epoch 78/100\n",
            "1/1 [==============================] - 0s 5ms/step - loss: 0.2269 - mae: 0.2269\n",
            "Epoch 79/100\n",
            "1/1 [==============================] - 0s 4ms/step - loss: 0.8856 - mae: 0.8856\n",
            "Epoch 80/100\n",
            "1/1 [==============================] - 0s 4ms/step - loss: 0.2269 - mae: 0.2269\n",
            "Epoch 81/100\n",
            "1/1 [==============================] - 0s 4ms/step - loss: 0.8856 - mae: 0.8856\n",
            "Epoch 82/100\n",
            "1/1 [==============================] - 0s 4ms/step - loss: 0.2269 - mae: 0.2269\n",
            "Epoch 83/100\n",
            "1/1 [==============================] - 0s 4ms/step - loss: 0.8856 - mae: 0.8856\n",
            "Epoch 84/100\n",
            "1/1 [==============================] - 0s 6ms/step - loss: 0.2269 - mae: 0.2269\n",
            "Epoch 85/100\n",
            "1/1 [==============================] - 0s 4ms/step - loss: 0.8856 - mae: 0.8856\n",
            "Epoch 86/100\n",
            "1/1 [==============================] - 0s 4ms/step - loss: 0.2269 - mae: 0.2269\n",
            "Epoch 87/100\n",
            "1/1 [==============================] - 0s 3ms/step - loss: 0.8856 - mae: 0.8856\n",
            "Epoch 88/100\n",
            "1/1 [==============================] - 0s 5ms/step - loss: 0.2269 - mae: 0.2269\n",
            "Epoch 89/100\n",
            "1/1 [==============================] - 0s 3ms/step - loss: 0.8856 - mae: 0.8856\n",
            "Epoch 90/100\n",
            "1/1 [==============================] - 0s 6ms/step - loss: 0.2269 - mae: 0.2269\n",
            "Epoch 91/100\n",
            "1/1 [==============================] - 0s 4ms/step - loss: 0.8856 - mae: 0.8856\n",
            "Epoch 92/100\n",
            "1/1 [==============================] - 0s 4ms/step - loss: 0.2269 - mae: 0.2269\n",
            "Epoch 93/100\n",
            "1/1 [==============================] - 0s 4ms/step - loss: 0.8856 - mae: 0.8856\n",
            "Epoch 94/100\n",
            "1/1 [==============================] - 0s 4ms/step - loss: 0.2269 - mae: 0.2269\n",
            "Epoch 95/100\n",
            "1/1 [==============================] - 0s 15ms/step - loss: 0.8856 - mae: 0.8856\n",
            "Epoch 96/100\n",
            "1/1 [==============================] - 0s 8ms/step - loss: 0.2269 - mae: 0.2269\n",
            "Epoch 97/100\n",
            "1/1 [==============================] - 0s 9ms/step - loss: 0.8856 - mae: 0.8856\n",
            "Epoch 98/100\n",
            "1/1 [==============================] - 0s 9ms/step - loss: 0.2269 - mae: 0.2269\n",
            "Epoch 99/100\n",
            "1/1 [==============================] - 0s 8ms/step - loss: 0.8856 - mae: 0.8856\n",
            "Epoch 100/100\n",
            "1/1 [==============================] - 0s 9ms/step - loss: 0.2269 - mae: 0.2269\n"
          ]
        },
        {
          "output_type": "execute_result",
          "data": {
            "text/plain": [
              "<bound method Model.evaluate of <keras.engine.sequential.Sequential object at 0x7f9420e9f9d0>>"
            ]
          },
          "metadata": {},
          "execution_count": 7
        }
      ]
    },
    {
      "cell_type": "code",
      "metadata": {
        "colab": {
          "base_uri": "https://localhost:8080/"
        },
        "id": "b3V1XC70306R",
        "outputId": "a6897fee-bc89-4501-fdd7-1e3d927e0025"
      },
      "source": [
        "X,y"
      ],
      "execution_count": 8,
      "outputs": [
        {
          "output_type": "execute_result",
          "data": {
            "text/plain": [
              "(<tf.Tensor: shape=(6,), dtype=int32, numpy=array([ 3,  6,  9, 12, 15, 18], dtype=int32)>,\n",
              " <tf.Tensor: shape=(6,), dtype=int32, numpy=array([ 4,  8, 12, 16, 20, 24], dtype=int32)>)"
            ]
          },
          "metadata": {},
          "execution_count": 8
        }
      ]
    },
    {
      "cell_type": "code",
      "metadata": {
        "colab": {
          "base_uri": "https://localhost:8080/"
        },
        "id": "Cl6HG0ry4HPD",
        "outputId": "e524664c-8a78-440f-86e4-240b24dcca43"
      },
      "source": [
        "model.predict([21])"
      ],
      "execution_count": 9,
      "outputs": [
        {
          "output_type": "execute_result",
          "data": {
            "text/plain": [
              "array([[29.691261]], dtype=float32)"
            ]
          },
          "metadata": {},
          "execution_count": 9
        }
      ]
    },
    {
      "cell_type": "markdown",
      "metadata": {
        "id": "AeaAhDiZ4Nkd"
      },
      "source": [
        "**Model No 3**"
      ]
    },
    {
      "cell_type": "code",
      "metadata": {
        "colab": {
          "base_uri": "https://localhost:8080/"
        },
        "id": "GBaXwd624M2v",
        "outputId": "4d4c6ec0-95b6-4b5a-b71c-cb63b65018c3"
      },
      "source": [
        "# set random values\n",
        "\n",
        "tf.random.set_seed(42)\n",
        "\n",
        "# create a model\n",
        "\n",
        "model = tf.keras.Sequential([\n",
        "                             tf.keras.layers.Dense(100, activation='relu'),\n",
        "                             tf.keras.layers.Dense(1)\n",
        "])\n",
        "\n",
        "# Compile a model\n",
        "\n",
        "model.compile(\n",
        "    loss =tf.keras.losses.mae,\n",
        "    optimizer = tf.keras.optimizers.SGD(),\n",
        "    metrics=['mae']\n",
        ")\n",
        "\n",
        "# fit a model\n",
        "model.fit(tf.expand_dims(X, axis=1) , y, epochs=100)\n",
        "# evaluate a model\n",
        "\n",
        "model.evaluate(X, y)"
      ],
      "execution_count": 10,
      "outputs": [
        {
          "output_type": "stream",
          "name": "stdout",
          "text": [
            "Epoch 1/100\n",
            "1/1 [==============================] - 0s 328ms/step - loss: 11.7779 - mae: 11.7779\n",
            "Epoch 2/100\n",
            "1/1 [==============================] - 0s 6ms/step - loss: 9.5888 - mae: 9.5888\n",
            "Epoch 3/100\n",
            "1/1 [==============================] - 0s 8ms/step - loss: 7.3008 - mae: 7.3008\n",
            "Epoch 4/100\n",
            "1/1 [==============================] - 0s 8ms/step - loss: 4.7721 - mae: 4.7721\n",
            "Epoch 5/100\n",
            "1/1 [==============================] - 0s 5ms/step - loss: 1.9172 - mae: 1.9172\n",
            "Epoch 6/100\n",
            "1/1 [==============================] - 0s 7ms/step - loss: 1.3534 - mae: 1.3534\n",
            "Epoch 7/100\n",
            "1/1 [==============================] - 0s 12ms/step - loss: 2.1837 - mae: 2.1837\n",
            "Epoch 8/100\n",
            "1/1 [==============================] - 0s 6ms/step - loss: 1.0148 - mae: 1.0148\n",
            "Epoch 9/100\n",
            "1/1 [==============================] - 0s 6ms/step - loss: 2.4442 - mae: 2.4442\n",
            "Epoch 10/100\n",
            "1/1 [==============================] - 0s 8ms/step - loss: 0.6837 - mae: 0.6837\n",
            "Epoch 11/100\n",
            "1/1 [==============================] - 0s 6ms/step - loss: 2.6990 - mae: 2.6990\n",
            "Epoch 12/100\n",
            "1/1 [==============================] - 0s 6ms/step - loss: 0.3599 - mae: 0.3599\n",
            "Epoch 13/100\n",
            "1/1 [==============================] - 0s 4ms/step - loss: 2.9482 - mae: 2.9482\n",
            "Epoch 14/100\n",
            "1/1 [==============================] - 0s 5ms/step - loss: 0.0442 - mae: 0.0442\n",
            "Epoch 15/100\n",
            "1/1 [==============================] - 0s 4ms/step - loss: 1.3882 - mae: 1.3882\n",
            "Epoch 16/100\n",
            "1/1 [==============================] - 0s 6ms/step - loss: 1.8816 - mae: 1.8816\n",
            "Epoch 17/100\n",
            "1/1 [==============================] - 0s 4ms/step - loss: 1.6663 - mae: 1.6663\n",
            "Epoch 18/100\n",
            "1/1 [==============================] - 0s 4ms/step - loss: 1.5313 - mae: 1.5313\n",
            "Epoch 19/100\n",
            "1/1 [==============================] - 0s 6ms/step - loss: 1.9382 - mae: 1.9382\n",
            "Epoch 20/100\n",
            "1/1 [==============================] - 0s 4ms/step - loss: 1.1889 - mae: 1.1889\n",
            "Epoch 21/100\n",
            "1/1 [==============================] - 0s 4ms/step - loss: 2.2041 - mae: 2.2041\n",
            "Epoch 22/100\n",
            "1/1 [==============================] - 0s 4ms/step - loss: 0.8540 - mae: 0.8540\n",
            "Epoch 23/100\n",
            "1/1 [==============================] - 0s 5ms/step - loss: 2.4642 - mae: 2.4642\n",
            "Epoch 24/100\n",
            "1/1 [==============================] - 0s 4ms/step - loss: 0.5265 - mae: 0.5265\n",
            "Epoch 25/100\n",
            "1/1 [==============================] - 0s 5ms/step - loss: 2.7185 - mae: 2.7185\n",
            "Epoch 26/100\n",
            "1/1 [==============================] - 0s 6ms/step - loss: 0.2063 - mae: 0.2063\n",
            "Epoch 27/100\n",
            "1/1 [==============================] - 0s 5ms/step - loss: 2.9671 - mae: 2.9671\n",
            "Epoch 28/100\n",
            "1/1 [==============================] - 0s 6ms/step - loss: 0.1217 - mae: 0.1217\n",
            "Epoch 29/100\n",
            "1/1 [==============================] - 0s 4ms/step - loss: 2.9591 - mae: 2.9591\n",
            "Epoch 30/100\n",
            "1/1 [==============================] - 0s 4ms/step - loss: 0.6961 - mae: 0.6961\n",
            "Epoch 31/100\n",
            "1/1 [==============================] - 0s 6ms/step - loss: 2.5852 - mae: 2.5852\n",
            "Epoch 32/100\n",
            "1/1 [==============================] - 0s 5ms/step - loss: 0.9893 - mae: 0.9893\n",
            "Epoch 33/100\n",
            "1/1 [==============================] - 0s 6ms/step - loss: 2.2195 - mae: 2.2195\n",
            "Epoch 34/100\n",
            "1/1 [==============================] - 0s 5ms/step - loss: 1.2761 - mae: 1.2761\n",
            "Epoch 35/100\n",
            "1/1 [==============================] - 0s 7ms/step - loss: 1.8620 - mae: 1.8620\n",
            "Epoch 36/100\n",
            "1/1 [==============================] - 0s 4ms/step - loss: 1.5565 - mae: 1.5565\n",
            "Epoch 37/100\n",
            "1/1 [==============================] - 0s 4ms/step - loss: 1.5123 - mae: 1.5123\n",
            "Epoch 38/100\n",
            "1/1 [==============================] - 0s 4ms/step - loss: 1.8307 - mae: 1.8307\n",
            "Epoch 39/100\n",
            "1/1 [==============================] - 0s 7ms/step - loss: 1.1704 - mae: 1.1704\n",
            "Epoch 40/100\n",
            "1/1 [==============================] - 0s 6ms/step - loss: 2.0989 - mae: 2.0989\n",
            "Epoch 41/100\n",
            "1/1 [==============================] - 0s 4ms/step - loss: 0.8361 - mae: 0.8361\n",
            "Epoch 42/100\n",
            "1/1 [==============================] - 0s 5ms/step - loss: 2.3611 - mae: 2.3611\n",
            "Epoch 43/100\n",
            "1/1 [==============================] - 0s 6ms/step - loss: 0.5092 - mae: 0.5092\n",
            "Epoch 44/100\n",
            "1/1 [==============================] - 0s 4ms/step - loss: 2.6175 - mae: 2.6175\n",
            "Epoch 45/100\n",
            "1/1 [==============================] - 0s 4ms/step - loss: 0.1894 - mae: 0.1894\n",
            "Epoch 46/100\n",
            "1/1 [==============================] - 0s 4ms/step - loss: 2.8683 - mae: 2.8683\n",
            "Epoch 47/100\n",
            "1/1 [==============================] - 0s 5ms/step - loss: 0.1368 - mae: 0.1368\n",
            "Epoch 48/100\n",
            "1/1 [==============================] - 0s 4ms/step - loss: 2.8358 - mae: 2.8358\n",
            "Epoch 49/100\n",
            "1/1 [==============================] - 0s 5ms/step - loss: 0.6930 - mae: 0.6930\n",
            "Epoch 50/100\n",
            "1/1 [==============================] - 0s 7ms/step - loss: 2.4647 - mae: 2.4647\n",
            "Epoch 51/100\n",
            "1/1 [==============================] - 0s 4ms/step - loss: 0.9862 - mae: 0.9862\n",
            "Epoch 52/100\n",
            "1/1 [==============================] - 0s 4ms/step - loss: 2.1019 - mae: 2.1019\n",
            "Epoch 53/100\n",
            "1/1 [==============================] - 0s 4ms/step - loss: 1.2729 - mae: 1.2729\n",
            "Epoch 54/100\n",
            "1/1 [==============================] - 0s 4ms/step - loss: 1.7471 - mae: 1.7471\n",
            "Epoch 55/100\n",
            "1/1 [==============================] - 0s 6ms/step - loss: 1.5532 - mae: 1.5532\n",
            "Epoch 56/100\n",
            "1/1 [==============================] - 0s 4ms/step - loss: 1.4002 - mae: 1.4002\n",
            "Epoch 57/100\n",
            "1/1 [==============================] - 0s 5ms/step - loss: 1.8274 - mae: 1.8274\n",
            "Epoch 58/100\n",
            "1/1 [==============================] - 0s 4ms/step - loss: 1.0609 - mae: 1.0609\n",
            "Epoch 59/100\n",
            "1/1 [==============================] - 0s 4ms/step - loss: 2.0954 - mae: 2.0954\n",
            "Epoch 60/100\n",
            "1/1 [==============================] - 0s 4ms/step - loss: 0.7291 - mae: 0.7291\n",
            "Epoch 61/100\n",
            "1/1 [==============================] - 0s 5ms/step - loss: 2.3576 - mae: 2.3576\n",
            "Epoch 62/100\n",
            "1/1 [==============================] - 0s 4ms/step - loss: 0.4047 - mae: 0.4047\n",
            "Epoch 63/100\n",
            "1/1 [==============================] - 0s 6ms/step - loss: 2.6139 - mae: 2.6139\n",
            "Epoch 64/100\n",
            "1/1 [==============================] - 0s 4ms/step - loss: 0.0875 - mae: 0.0875\n",
            "Epoch 65/100\n",
            "1/1 [==============================] - 0s 4ms/step - loss: 2.8646 - mae: 2.8646\n",
            "Epoch 66/100\n",
            "1/1 [==============================] - 0s 4ms/step - loss: 0.2270 - mae: 0.2270\n",
            "Epoch 67/100\n",
            "1/1 [==============================] - 0s 7ms/step - loss: 2.6443 - mae: 2.6443\n",
            "Epoch 68/100\n",
            "1/1 [==============================] - 0s 6ms/step - loss: 0.7812 - mae: 0.7812\n",
            "Epoch 69/100\n",
            "1/1 [==============================] - 0s 7ms/step - loss: 2.2776 - mae: 2.2776\n",
            "Epoch 70/100\n",
            "1/1 [==============================] - 0s 4ms/step - loss: 1.0722 - mae: 1.0722\n",
            "Epoch 71/100\n",
            "1/1 [==============================] - 0s 6ms/step - loss: 1.9191 - mae: 1.9191\n",
            "Epoch 72/100\n",
            "1/1 [==============================] - 0s 9ms/step - loss: 1.3569 - mae: 1.3569\n",
            "Epoch 73/100\n",
            "1/1 [==============================] - 0s 7ms/step - loss: 1.5685 - mae: 1.5685\n",
            "Epoch 74/100\n",
            "1/1 [==============================] - 0s 4ms/step - loss: 1.6352 - mae: 1.6352\n",
            "Epoch 75/100\n",
            "1/1 [==============================] - 0s 4ms/step - loss: 1.2256 - mae: 1.2256\n",
            "Epoch 76/100\n",
            "1/1 [==============================] - 0s 4ms/step - loss: 1.9074 - mae: 1.9074\n",
            "Epoch 77/100\n",
            "1/1 [==============================] - 0s 5ms/step - loss: 0.8904 - mae: 0.8904\n",
            "Epoch 78/100\n",
            "1/1 [==============================] - 0s 9ms/step - loss: 2.1736 - mae: 2.1736\n",
            "Epoch 79/100\n",
            "1/1 [==============================] - 0s 4ms/step - loss: 0.5625 - mae: 0.5625\n",
            "Epoch 80/100\n",
            "1/1 [==============================] - 0s 6ms/step - loss: 2.4338 - mae: 2.4338\n",
            "Epoch 81/100\n",
            "1/1 [==============================] - 0s 6ms/step - loss: 0.2419 - mae: 0.2419\n",
            "Epoch 82/100\n",
            "1/1 [==============================] - 0s 3ms/step - loss: 2.6884 - mae: 2.6884\n",
            "Epoch 83/100\n",
            "1/1 [==============================] - 0s 5ms/step - loss: 0.0926 - mae: 0.0926\n",
            "Epoch 84/100\n",
            "1/1 [==============================] - 0s 5ms/step - loss: 2.1536 - mae: 2.1536\n",
            "Epoch 85/100\n",
            "1/1 [==============================] - 0s 7ms/step - loss: 1.1434 - mae: 1.1434\n",
            "Epoch 86/100\n",
            "1/1 [==============================] - 0s 5ms/step - loss: 1.7979 - mae: 1.7979\n",
            "Epoch 87/100\n",
            "1/1 [==============================] - 0s 6ms/step - loss: 1.4264 - mae: 1.4264\n",
            "Epoch 88/100\n",
            "1/1 [==============================] - 0s 7ms/step - loss: 1.4500 - mae: 1.4500\n",
            "Epoch 89/100\n",
            "1/1 [==============================] - 0s 7ms/step - loss: 1.7031 - mae: 1.7031\n",
            "Epoch 90/100\n",
            "1/1 [==============================] - 0s 4ms/step - loss: 1.1099 - mae: 1.1099\n",
            "Epoch 91/100\n",
            "1/1 [==============================] - 0s 8ms/step - loss: 1.9737 - mae: 1.9737\n",
            "Epoch 92/100\n",
            "1/1 [==============================] - 0s 6ms/step - loss: 0.7772 - mae: 0.7772\n",
            "Epoch 93/100\n",
            "1/1 [==============================] - 0s 8ms/step - loss: 2.2383 - mae: 2.2383\n",
            "Epoch 94/100\n",
            "1/1 [==============================] - 0s 6ms/step - loss: 0.4520 - mae: 0.4520\n",
            "Epoch 95/100\n",
            "1/1 [==============================] - 0s 5ms/step - loss: 2.4971 - mae: 2.4971\n",
            "Epoch 96/100\n",
            "1/1 [==============================] - 0s 5ms/step - loss: 0.1339 - mae: 0.1339\n",
            "Epoch 97/100\n",
            "1/1 [==============================] - 0s 6ms/step - loss: 2.7501 - mae: 2.7501\n",
            "Epoch 98/100\n",
            "1/1 [==============================] - 0s 6ms/step - loss: 0.1855 - mae: 0.1855\n",
            "Epoch 99/100\n",
            "1/1 [==============================] - 0s 6ms/step - loss: 2.6318 - mae: 2.6318\n",
            "Epoch 100/100\n",
            "1/1 [==============================] - 0s 6ms/step - loss: 0.7370 - mae: 0.7370\n",
            "1/1 [==============================] - 0s 282ms/step - loss: 2.2657 - mae: 2.2657\n"
          ]
        },
        {
          "output_type": "execute_result",
          "data": {
            "text/plain": [
              "[2.2656795978546143, 2.2656795978546143]"
            ]
          },
          "metadata": {},
          "execution_count": 10
        }
      ]
    },
    {
      "cell_type": "code",
      "metadata": {
        "colab": {
          "base_uri": "https://localhost:8080/"
        },
        "id": "Fu-mpcEc4KyE",
        "outputId": "cf882d2b-1d9c-4f6b-8d2f-a28acfd9569e"
      },
      "source": [
        "X , y"
      ],
      "execution_count": 11,
      "outputs": [
        {
          "output_type": "execute_result",
          "data": {
            "text/plain": [
              "(<tf.Tensor: shape=(6,), dtype=int32, numpy=array([ 3,  6,  9, 12, 15, 18], dtype=int32)>,\n",
              " <tf.Tensor: shape=(6,), dtype=int32, numpy=array([ 4,  8, 12, 16, 20, 24], dtype=int32)>)"
            ]
          },
          "metadata": {},
          "execution_count": 11
        }
      ]
    },
    {
      "cell_type": "code",
      "metadata": {
        "colab": {
          "base_uri": "https://localhost:8080/"
        },
        "id": "iuN_ksnb5MfB",
        "outputId": "3470cb78-b31e-477a-d032-ee5abddd2269"
      },
      "source": [
        "model.predict([21])"
      ],
      "execution_count": 12,
      "outputs": [
        {
          "output_type": "execute_result",
          "data": {
            "text/plain": [
              "array([[32.40925]], dtype=float32)"
            ]
          },
          "metadata": {},
          "execution_count": 12
        }
      ]
    },
    {
      "cell_type": "markdown",
      "metadata": {
        "id": "CkxF3OY25SkV"
      },
      "source": [
        "**Model No 4**"
      ]
    },
    {
      "cell_type": "code",
      "metadata": {
        "colab": {
          "base_uri": "https://localhost:8080/"
        },
        "id": "Re3NIpe25QUA",
        "outputId": "d0b6e629-9925-47aa-af44-1122f64e4442"
      },
      "source": [
        "# set random values\n",
        "tf.random.set_seed(42)\n",
        "\n",
        "# create a Model\n",
        "\n",
        "model = tf.keras.Sequential([\n",
        "                             tf.keras.layers.Dense(100, activation='relu'),\n",
        "                             tf.keras.layers.Dense(1)\n",
        "])\n",
        "\n",
        "\n",
        "# compile a model\n",
        "\n",
        "model.compile(\n",
        "    loss = tf.keras.losses.mae,\n",
        "    optimizer = tf.keras.optimizers.Adam(lr=0.01),\n",
        "    metrics=['mae']\n",
        ")\n",
        "\n",
        "# fit a model\n",
        "\n",
        "model.fit(tf.expand_dims(X, axis=1), y , epochs=100 )\n",
        "\n",
        "# Evaluate a model\n",
        "\n",
        "model.evaluate(X, y)"
      ],
      "execution_count": 24,
      "outputs": [
        {
          "output_type": "stream",
          "name": "stderr",
          "text": [
            "/usr/local/lib/python3.7/dist-packages/keras/optimizer_v2/adam.py:105: UserWarning: The `lr` argument is deprecated, use `learning_rate` instead.\n",
            "  super(Adam, self).__init__(name, **kwargs)\n"
          ]
        },
        {
          "output_type": "stream",
          "name": "stdout",
          "text": [
            "Epoch 1/100\n",
            "1/1 [==============================] - 0s 372ms/step - loss: 11.7779 - mae: 11.7779\n",
            "Epoch 2/100\n",
            "1/1 [==============================] - 0s 8ms/step - loss: 10.3819 - mae: 10.3819\n",
            "Epoch 3/100\n",
            "1/1 [==============================] - 0s 8ms/step - loss: 8.9656 - mae: 8.9656\n",
            "Epoch 4/100\n",
            "1/1 [==============================] - 0s 8ms/step - loss: 7.5244 - mae: 7.5244\n",
            "Epoch 5/100\n",
            "1/1 [==============================] - 0s 7ms/step - loss: 6.0375 - mae: 6.0375\n",
            "Epoch 6/100\n",
            "1/1 [==============================] - 0s 4ms/step - loss: 4.5014 - mae: 4.5014\n",
            "Epoch 7/100\n",
            "1/1 [==============================] - 0s 6ms/step - loss: 2.9208 - mae: 2.9208\n",
            "Epoch 8/100\n",
            "1/1 [==============================] - 0s 7ms/step - loss: 1.2986 - mae: 1.2986\n",
            "Epoch 9/100\n",
            "1/1 [==============================] - 0s 11ms/step - loss: 0.4119 - mae: 0.4119\n",
            "Epoch 10/100\n",
            "1/1 [==============================] - 0s 5ms/step - loss: 1.4689 - mae: 1.4689\n",
            "Epoch 11/100\n",
            "1/1 [==============================] - 0s 7ms/step - loss: 2.0166 - mae: 2.0166\n",
            "Epoch 12/100\n",
            "1/1 [==============================] - 0s 5ms/step - loss: 2.1625 - mae: 2.1625\n",
            "Epoch 13/100\n",
            "1/1 [==============================] - 0s 9ms/step - loss: 1.9952 - mae: 1.9952\n",
            "Epoch 14/100\n",
            "1/1 [==============================] - 0s 6ms/step - loss: 1.5871 - mae: 1.5871\n",
            "Epoch 15/100\n",
            "1/1 [==============================] - 0s 10ms/step - loss: 0.9964 - mae: 0.9964\n",
            "Epoch 16/100\n",
            "1/1 [==============================] - 0s 6ms/step - loss: 0.2756 - mae: 0.2756\n",
            "Epoch 17/100\n",
            "1/1 [==============================] - 0s 9ms/step - loss: 0.6273 - mae: 0.6273\n",
            "Epoch 18/100\n",
            "1/1 [==============================] - 0s 9ms/step - loss: 1.0971 - mae: 1.0971\n",
            "Epoch 19/100\n",
            "1/1 [==============================] - 0s 8ms/step - loss: 1.3671 - mae: 1.3671\n",
            "Epoch 20/100\n",
            "1/1 [==============================] - 0s 15ms/step - loss: 1.4509 - mae: 1.4509\n",
            "Epoch 21/100\n",
            "1/1 [==============================] - 0s 9ms/step - loss: 1.3526 - mae: 1.3526\n",
            "Epoch 22/100\n",
            "1/1 [==============================] - 0s 12ms/step - loss: 1.1144 - mae: 1.1144\n",
            "Epoch 23/100\n",
            "1/1 [==============================] - 0s 5ms/step - loss: 0.7700 - mae: 0.7700\n",
            "Epoch 24/100\n",
            "1/1 [==============================] - 0s 7ms/step - loss: 0.3620 - mae: 0.3620\n",
            "Epoch 25/100\n",
            "1/1 [==============================] - 0s 10ms/step - loss: 0.3808 - mae: 0.3808\n",
            "Epoch 26/100\n",
            "1/1 [==============================] - 0s 5ms/step - loss: 0.7228 - mae: 0.7228\n",
            "Epoch 27/100\n",
            "1/1 [==============================] - 0s 5ms/step - loss: 0.8427 - mae: 0.8427\n",
            "Epoch 28/100\n",
            "1/1 [==============================] - 0s 6ms/step - loss: 0.7650 - mae: 0.7650\n",
            "Epoch 29/100\n",
            "1/1 [==============================] - 0s 6ms/step - loss: 0.5154 - mae: 0.5154\n",
            "Epoch 30/100\n",
            "1/1 [==============================] - 0s 5ms/step - loss: 0.2000 - mae: 0.2000\n",
            "Epoch 31/100\n",
            "1/1 [==============================] - 0s 6ms/step - loss: 0.3596 - mae: 0.3596\n",
            "Epoch 32/100\n",
            "1/1 [==============================] - 0s 6ms/step - loss: 0.5039 - mae: 0.5039\n",
            "Epoch 33/100\n",
            "1/1 [==============================] - 0s 7ms/step - loss: 0.5256 - mae: 0.5256\n",
            "Epoch 34/100\n",
            "1/1 [==============================] - 0s 5ms/step - loss: 0.4159 - mae: 0.4159\n",
            "Epoch 35/100\n",
            "1/1 [==============================] - 0s 6ms/step - loss: 0.2526 - mae: 0.2526\n",
            "Epoch 36/100\n",
            "1/1 [==============================] - 0s 7ms/step - loss: 0.2231 - mae: 0.2231\n",
            "Epoch 37/100\n",
            "1/1 [==============================] - 0s 6ms/step - loss: 0.3433 - mae: 0.3433\n",
            "Epoch 38/100\n",
            "1/1 [==============================] - 0s 5ms/step - loss: 0.2770 - mae: 0.2770\n",
            "Epoch 39/100\n",
            "1/1 [==============================] - 0s 8ms/step - loss: 0.1603 - mae: 0.1603\n",
            "Epoch 40/100\n",
            "1/1 [==============================] - 0s 6ms/step - loss: 0.2181 - mae: 0.2181\n",
            "Epoch 41/100\n",
            "1/1 [==============================] - 0s 5ms/step - loss: 0.2175 - mae: 0.2175\n",
            "Epoch 42/100\n",
            "1/1 [==============================] - 0s 6ms/step - loss: 0.1538 - mae: 0.1538\n",
            "Epoch 43/100\n",
            "1/1 [==============================] - 0s 5ms/step - loss: 0.1788 - mae: 0.1788\n",
            "Epoch 44/100\n",
            "1/1 [==============================] - 0s 4ms/step - loss: 0.1574 - mae: 0.1574\n",
            "Epoch 45/100\n",
            "1/1 [==============================] - 0s 4ms/step - loss: 0.1467 - mae: 0.1467\n",
            "Epoch 46/100\n",
            "1/1 [==============================] - 0s 5ms/step - loss: 0.2065 - mae: 0.2065\n",
            "Epoch 47/100\n",
            "1/1 [==============================] - 0s 5ms/step - loss: 0.1811 - mae: 0.1811\n",
            "Epoch 48/100\n",
            "1/1 [==============================] - 0s 4ms/step - loss: 0.0940 - mae: 0.0940\n",
            "Epoch 49/100\n",
            "1/1 [==============================] - 0s 5ms/step - loss: 0.2302 - mae: 0.2302\n",
            "Epoch 50/100\n",
            "1/1 [==============================] - 0s 6ms/step - loss: 0.2336 - mae: 0.2336\n",
            "Epoch 51/100\n",
            "1/1 [==============================] - 0s 6ms/step - loss: 0.0696 - mae: 0.0696\n",
            "Epoch 52/100\n",
            "1/1 [==============================] - 0s 4ms/step - loss: 0.1929 - mae: 0.1929\n",
            "Epoch 53/100\n",
            "1/1 [==============================] - 0s 5ms/step - loss: 0.2367 - mae: 0.2367\n",
            "Epoch 54/100\n",
            "1/1 [==============================] - 0s 6ms/step - loss: 0.1385 - mae: 0.1385\n",
            "Epoch 55/100\n",
            "1/1 [==============================] - 0s 4ms/step - loss: 0.1272 - mae: 0.1272\n",
            "Epoch 56/100\n",
            "1/1 [==============================] - 0s 5ms/step - loss: 0.1767 - mae: 0.1767\n",
            "Epoch 57/100\n",
            "1/1 [==============================] - 0s 7ms/step - loss: 0.0458 - mae: 0.0458\n",
            "Epoch 58/100\n",
            "1/1 [==============================] - 0s 4ms/step - loss: 0.2436 - mae: 0.2436\n",
            "Epoch 59/100\n",
            "1/1 [==============================] - 0s 4ms/step - loss: 0.3321 - mae: 0.3321\n",
            "Epoch 60/100\n",
            "1/1 [==============================] - 0s 5ms/step - loss: 0.2430 - mae: 0.2430\n",
            "Epoch 61/100\n",
            "1/1 [==============================] - 0s 5ms/step - loss: 0.0072 - mae: 0.0072\n",
            "Epoch 62/100\n",
            "1/1 [==============================] - 0s 4ms/step - loss: 0.0614 - mae: 0.0614\n",
            "Epoch 63/100\n",
            "1/1 [==============================] - 0s 4ms/step - loss: 0.0613 - mae: 0.0613\n",
            "Epoch 64/100\n",
            "1/1 [==============================] - 0s 6ms/step - loss: 0.0058 - mae: 0.0058\n",
            "Epoch 65/100\n",
            "1/1 [==============================] - 0s 4ms/step - loss: 0.0169 - mae: 0.0169\n",
            "Epoch 66/100\n",
            "1/1 [==============================] - 0s 9ms/step - loss: 0.1407 - mae: 0.1407\n",
            "Epoch 67/100\n",
            "1/1 [==============================] - 0s 7ms/step - loss: 0.1101 - mae: 0.1101\n",
            "Epoch 68/100\n",
            "1/1 [==============================] - 0s 5ms/step - loss: 0.0884 - mae: 0.0884\n",
            "Epoch 69/100\n",
            "1/1 [==============================] - 0s 7ms/step - loss: 0.0970 - mae: 0.0970\n",
            "Epoch 70/100\n",
            "1/1 [==============================] - 0s 5ms/step - loss: 0.0642 - mae: 0.0642\n",
            "Epoch 71/100\n",
            "1/1 [==============================] - 0s 5ms/step - loss: 0.0418 - mae: 0.0418\n",
            "Epoch 72/100\n",
            "1/1 [==============================] - 0s 6ms/step - loss: 0.1342 - mae: 0.1342\n",
            "Epoch 73/100\n",
            "1/1 [==============================] - 0s 6ms/step - loss: 0.1222 - mae: 0.1222\n",
            "Epoch 74/100\n",
            "1/1 [==============================] - 0s 6ms/step - loss: 0.0565 - mae: 0.0565\n",
            "Epoch 75/100\n",
            "1/1 [==============================] - 0s 6ms/step - loss: 0.0490 - mae: 0.0490\n",
            "Epoch 76/100\n",
            "1/1 [==============================] - 0s 5ms/step - loss: 0.1094 - mae: 0.1094\n",
            "Epoch 77/100\n",
            "1/1 [==============================] - 0s 5ms/step - loss: 0.0840 - mae: 0.0840\n",
            "Epoch 78/100\n",
            "1/1 [==============================] - 0s 8ms/step - loss: 0.1063 - mae: 0.1063\n",
            "Epoch 79/100\n",
            "1/1 [==============================] - 0s 4ms/step - loss: 0.1091 - mae: 0.1091\n",
            "Epoch 80/100\n",
            "1/1 [==============================] - 0s 6ms/step - loss: 0.0564 - mae: 0.0564\n",
            "Epoch 81/100\n",
            "1/1 [==============================] - 0s 5ms/step - loss: 0.0384 - mae: 0.0384\n",
            "Epoch 82/100\n",
            "1/1 [==============================] - 0s 4ms/step - loss: 0.1447 - mae: 0.1447\n",
            "Epoch 83/100\n",
            "1/1 [==============================] - 0s 7ms/step - loss: 0.1416 - mae: 0.1416\n",
            "Epoch 84/100\n",
            "1/1 [==============================] - 0s 5ms/step - loss: 0.0285 - mae: 0.0285\n",
            "Epoch 85/100\n",
            "1/1 [==============================] - 0s 7ms/step - loss: 0.0153 - mae: 0.0153\n",
            "Epoch 86/100\n",
            "1/1 [==============================] - 0s 4ms/step - loss: 0.1626 - mae: 0.1626\n",
            "Epoch 87/100\n",
            "1/1 [==============================] - 0s 4ms/step - loss: 0.1557 - mae: 0.1557\n",
            "Epoch 88/100\n",
            "1/1 [==============================] - 0s 6ms/step - loss: 0.0171 - mae: 0.0171\n",
            "Epoch 89/100\n",
            "1/1 [==============================] - 0s 4ms/step - loss: 0.0070 - mae: 0.0070\n",
            "Epoch 90/100\n",
            "1/1 [==============================] - 0s 6ms/step - loss: 0.1673 - mae: 0.1673\n",
            "Epoch 91/100\n",
            "1/1 [==============================] - 0s 7ms/step - loss: 0.1579 - mae: 0.1579\n",
            "Epoch 92/100\n",
            "1/1 [==============================] - 0s 4ms/step - loss: 0.0162 - mae: 0.0162\n",
            "Epoch 93/100\n",
            "1/1 [==============================] - 0s 5ms/step - loss: 0.0083 - mae: 0.0083\n",
            "Epoch 94/100\n",
            "1/1 [==============================] - 0s 6ms/step - loss: 0.1634 - mae: 0.1634\n",
            "Epoch 95/100\n",
            "1/1 [==============================] - 0s 7ms/step - loss: 0.1525 - mae: 0.1525\n",
            "Epoch 96/100\n",
            "1/1 [==============================] - 0s 5ms/step - loss: 0.0223 - mae: 0.0223\n",
            "Epoch 97/100\n",
            "1/1 [==============================] - 0s 6ms/step - loss: 0.0157 - mae: 0.0157\n",
            "Epoch 98/100\n",
            "1/1 [==============================] - 0s 7ms/step - loss: 0.1540 - mae: 0.1540\n",
            "Epoch 99/100\n",
            "1/1 [==============================] - 0s 7ms/step - loss: 0.1420 - mae: 0.1420\n",
            "Epoch 100/100\n",
            "1/1 [==============================] - 0s 5ms/step - loss: 0.0328 - mae: 0.0328\n",
            "WARNING:tensorflow:5 out of the last 5 calls to <function Model.make_test_function.<locals>.test_function at 0x7f942195f830> triggered tf.function retracing. Tracing is expensive and the excessive number of tracings could be due to (1) creating @tf.function repeatedly in a loop, (2) passing tensors with different shapes, (3) passing Python objects instead of tensors. For (1), please define your @tf.function outside of the loop. For (2), @tf.function has experimental_relax_shapes=True option that relaxes argument shapes that can avoid unnecessary retracing. For (3), please refer to https://www.tensorflow.org/guide/function#controlling_retracing and https://www.tensorflow.org/api_docs/python/tf/function for  more details.\n",
            "1/1 [==============================] - 0s 206ms/step - loss: 0.0271 - mae: 0.0271\n"
          ]
        },
        {
          "output_type": "execute_result",
          "data": {
            "text/plain": [
              "[0.027069369331002235, 0.027069369331002235]"
            ]
          },
          "metadata": {},
          "execution_count": 24
        }
      ]
    },
    {
      "cell_type": "code",
      "metadata": {
        "colab": {
          "base_uri": "https://localhost:8080/"
        },
        "id": "JZU9FWvr6koH",
        "outputId": "811f5ffe-7b96-4393-cae6-26fc06fffce6"
      },
      "source": [
        "X, y"
      ],
      "execution_count": 25,
      "outputs": [
        {
          "output_type": "execute_result",
          "data": {
            "text/plain": [
              "(<tf.Tensor: shape=(6,), dtype=int32, numpy=array([ 3,  6,  9, 12, 15, 18], dtype=int32)>,\n",
              " <tf.Tensor: shape=(6,), dtype=int32, numpy=array([ 4,  8, 12, 16, 20, 24], dtype=int32)>)"
            ]
          },
          "metadata": {},
          "execution_count": 25
        }
      ]
    },
    {
      "cell_type": "code",
      "metadata": {
        "colab": {
          "base_uri": "https://localhost:8080/"
        },
        "id": "cseryo2r6qj3",
        "outputId": "a6a2bdb0-c1aa-4962-b7ce-6a56368c66f7"
      },
      "source": [
        "model.predict([21])"
      ],
      "execution_count": 26,
      "outputs": [
        {
          "output_type": "execute_result",
          "data": {
            "text/plain": [
              "array([[27.947277]], dtype=float32)"
            ]
          },
          "metadata": {},
          "execution_count": 26
        }
      ]
    },
    {
      "cell_type": "code",
      "metadata": {
        "id": "61vNaa0Q6tI8"
      },
      "source": [
        ""
      ],
      "execution_count": null,
      "outputs": []
    }
  ]
}