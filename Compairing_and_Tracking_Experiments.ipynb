{
  "nbformat": 4,
  "nbformat_minor": 0,
  "metadata": {
    "colab": {
      "name": "Compairing_and_Tracking_Experiments.ipynb",
      "provenance": [],
      "collapsed_sections": []
    },
    "kernelspec": {
      "name": "python3",
      "display_name": "Python 3"
    },
    "language_info": {
      "name": "python"
    }
  },
  "cells": [
    {
      "cell_type": "code",
      "metadata": {
        "id": "4vtBkfTwKDx0"
      },
      "source": [
        "import tensorflow as tf\n",
        "import numpy as np\n",
        "import pandas as pd\n",
        "import matplotlib.pyplot as plt\n",
        "from tensorflow.keras.utils import plot_model"
      ],
      "execution_count": 1,
      "outputs": []
    },
    {
      "cell_type": "code",
      "metadata": {
        "colab": {
          "base_uri": "https://localhost:8080/"
        },
        "id": "eW_9ShFRKXim",
        "outputId": "74dd567e-83d3-4b8f-bf8b-3a758270d88b"
      },
      "source": [
        "X = tf.range(-100,100,4)\n",
        "X"
      ],
      "execution_count": 2,
      "outputs": [
        {
          "output_type": "execute_result",
          "data": {
            "text/plain": [
              "<tf.Tensor: shape=(50,), dtype=int32, numpy=\n",
              "array([-100,  -96,  -92,  -88,  -84,  -80,  -76,  -72,  -68,  -64,  -60,\n",
              "        -56,  -52,  -48,  -44,  -40,  -36,  -32,  -28,  -24,  -20,  -16,\n",
              "        -12,   -8,   -4,    0,    4,    8,   12,   16,   20,   24,   28,\n",
              "         32,   36,   40,   44,   48,   52,   56,   60,   64,   68,   72,\n",
              "         76,   80,   84,   88,   92,   96], dtype=int32)>"
            ]
          },
          "metadata": {},
          "execution_count": 2
        }
      ]
    },
    {
      "cell_type": "code",
      "metadata": {
        "id": "bgRUXfFIKknH"
      },
      "source": [
        "Y = X+10"
      ],
      "execution_count": 3,
      "outputs": []
    },
    {
      "cell_type": "code",
      "metadata": {
        "id": "Yq4v1eRyKl7T"
      },
      "source": [
        "X_train = X[:40]\n",
        "X_test =  X[40:]\n",
        "Y_train = Y[:40]\n",
        "Y_test = Y[40:]\n"
      ],
      "execution_count": 4,
      "outputs": []
    },
    {
      "cell_type": "code",
      "metadata": {
        "colab": {
          "base_uri": "https://localhost:8080/",
          "height": 295
        },
        "id": "sXScJDZBKyTt",
        "outputId": "fdfbe097-0ea4-4295-9676-188d7676a7e5"
      },
      "source": [
        "plt.scatter(X_train, Y_train, color='red', label='The Train Values')\n",
        "plt.scatter(X_test, Y_test, color='green', label='The Test Values')\n",
        "plt.legend()\n",
        "plt.title('Train and Test Values')\n",
        "plt.xlabel('The Train Values')\n",
        "plt.ylabel('The Test Values')\n",
        "plt.show()\n"
      ],
      "execution_count": 5,
      "outputs": [
        {
          "output_type": "display_data",
          "data": {
            "image/png": "[encoded data removed]",
            "text/plain": [
              "<Figure size 432x288 with 1 Axes>"
            ]
          },
          "metadata": {
            "needs_background": "light"
          }
        }
      ]
    },
    {
      "cell_type": "markdown",
      "metadata": {
        "id": "1JLhSiMNLOX5"
      },
      "source": [
        "# Lets Create A model"
      ]
    },
    {
      "cell_type": "code",
      "metadata": {
        "colab": {
          "base_uri": "https://localhost:8080/"
        },
        "id": "_bVN7IL3LIdG",
        "outputId": "71f47be6-f6c9-4d64-f0c1-bf807771b1a7"
      },
      "source": [
        "tf.random.set_seed(42)\n",
        "\n",
        "model = tf.keras.Sequential([\n",
        "                             tf.keras.layers.Dense(1)\n",
        "])\n",
        "\n",
        "model.compile(\n",
        "    loss = tf.keras.losses.mae,\n",
        "    optimizer = tf.keras.optimizers.SGD(),\n",
        "    metrics=['mae']\n",
        ")\n",
        "\n",
        "model.fit(tf.expand_dims(X, axis=1),Y,epochs=100)\n",
        "\n",
        "model.evaluate(X,Y)"
      ],
      "execution_count": 7,
      "outputs": [
        {
          "output_type": "stream",
          "name": "stdout",
          "text": [
            "Epoch 1/100\n",
            "2/2 [==============================] - 1s 9ms/step - loss: 19.0311 - mae: 19.0311\n",
            "Epoch 2/100\n",
            "2/2 [==============================] - 0s 4ms/step - loss: 10.8111 - mae: 10.8111\n",
            "Epoch 3/100\n",
            "2/2 [==============================] - 0s 9ms/step - loss: 14.5005 - mae: 14.5005\n",
            "Epoch 4/100\n",
            "2/2 [==============================] - 0s 5ms/step - loss: 10.0958 - mae: 10.0958\n",
            "Epoch 5/100\n",
            "2/2 [==============================] - 0s 5ms/step - loss: 15.5388 - mae: 15.5388\n",
            "Epoch 6/100\n",
            "2/2 [==============================] - 0s 4ms/step - loss: 11.8626 - mae: 11.8626\n",
            "Epoch 7/100\n",
            "2/2 [==============================] - 0s 6ms/step - loss: 9.1727 - mae: 9.1727\n",
            "Epoch 8/100\n",
            "2/2 [==============================] - 0s 5ms/step - loss: 13.6143 - mae: 13.6143\n",
            "Epoch 9/100\n",
            "2/2 [==============================] - 0s 7ms/step - loss: 13.8577 - mae: 13.8577\n",
            "Epoch 10/100\n",
            "2/2 [==============================] - 0s 7ms/step - loss: 9.9966 - mae: 9.9966\n",
            "Epoch 11/100\n",
            "2/2 [==============================] - 0s 4ms/step - loss: 9.9685 - mae: 9.9685\n",
            "Epoch 12/100\n",
            "2/2 [==============================] - 0s 5ms/step - loss: 9.9097 - mae: 9.9097\n",
            "Epoch 13/100\n",
            "2/2 [==============================] - 0s 7ms/step - loss: 9.7478 - mae: 9.7478\n",
            "Epoch 14/100\n",
            "2/2 [==============================] - 0s 5ms/step - loss: 10.5485 - mae: 10.5485\n",
            "Epoch 15/100\n",
            "2/2 [==============================] - 0s 5ms/step - loss: 13.7915 - mae: 13.7915\n",
            "Epoch 16/100\n",
            "2/2 [==============================] - 0s 10ms/step - loss: 12.5861 - mae: 12.5861\n",
            "Epoch 17/100\n",
            "2/2 [==============================] - 0s 7ms/step - loss: 10.2180 - mae: 10.2180\n",
            "Epoch 18/100\n",
            "2/2 [==============================] - 0s 8ms/step - loss: 10.1329 - mae: 10.1329\n",
            "Epoch 19/100\n",
            "2/2 [==============================] - 0s 7ms/step - loss: 9.9154 - mae: 9.9154\n",
            "Epoch 20/100\n",
            "2/2 [==============================] - 0s 5ms/step - loss: 12.7204 - mae: 12.7204\n",
            "Epoch 21/100\n",
            "2/2 [==============================] - 0s 5ms/step - loss: 12.9522 - mae: 12.9522\n",
            "Epoch 22/100\n",
            "2/2 [==============================] - 0s 4ms/step - loss: 9.5668 - mae: 9.5668\n",
            "Epoch 23/100\n",
            "2/2 [==============================] - 0s 9ms/step - loss: 9.3870 - mae: 9.3870\n",
            "Epoch 24/100\n",
            "2/2 [==============================] - 0s 6ms/step - loss: 9.7060 - mae: 9.7060\n",
            "Epoch 25/100\n",
            "2/2 [==============================] - 0s 7ms/step - loss: 9.6024 - mae: 9.6024\n",
            "Epoch 26/100\n",
            "2/2 [==============================] - 0s 4ms/step - loss: 9.4918 - mae: 9.4918\n",
            "Epoch 27/100\n",
            "2/2 [==============================] - 0s 9ms/step - loss: 9.7140 - mae: 9.7140\n",
            "Epoch 28/100\n",
            "2/2 [==============================] - 0s 7ms/step - loss: 9.5882 - mae: 9.5882\n",
            "Epoch 29/100\n",
            "2/2 [==============================] - 0s 5ms/step - loss: 9.4746 - mae: 9.4746\n",
            "Epoch 30/100\n",
            "2/2 [==============================] - 0s 9ms/step - loss: 10.0289 - mae: 10.0289\n",
            "Epoch 31/100\n",
            "2/2 [==============================] - 0s 10ms/step - loss: 13.3862 - mae: 13.3862\n",
            "Epoch 32/100\n",
            "2/2 [==============================] - 0s 4ms/step - loss: 9.6345 - mae: 9.6345\n",
            "Epoch 33/100\n",
            "2/2 [==============================] - 0s 5ms/step - loss: 9.5676 - mae: 9.5676\n",
            "Epoch 34/100\n",
            "2/2 [==============================] - 0s 5ms/step - loss: 9.8932 - mae: 9.8932\n",
            "Epoch 35/100\n",
            "2/2 [==============================] - 0s 8ms/step - loss: 10.1582 - mae: 10.1582\n",
            "Epoch 36/100\n",
            "2/2 [==============================] - 0s 5ms/step - loss: 9.5081 - mae: 9.5081\n",
            "Epoch 37/100\n",
            "2/2 [==============================] - 0s 7ms/step - loss: 9.4231 - mae: 9.4231\n",
            "Epoch 38/100\n",
            "2/2 [==============================] - 0s 6ms/step - loss: 9.6222 - mae: 9.6222\n",
            "Epoch 39/100\n",
            "2/2 [==============================] - 0s 10ms/step - loss: 10.3634 - mae: 10.3634\n",
            "Epoch 40/100\n",
            "2/2 [==============================] - 0s 5ms/step - loss: 11.5608 - mae: 11.5608\n",
            "Epoch 41/100\n",
            "2/2 [==============================] - 0s 5ms/step - loss: 9.7365 - mae: 9.7365\n",
            "Epoch 42/100\n",
            "2/2 [==============================] - 0s 8ms/step - loss: 9.3273 - mae: 9.3273\n",
            "Epoch 43/100\n",
            "2/2 [==============================] - 0s 7ms/step - loss: 9.1406 - mae: 9.1406\n",
            "Epoch 44/100\n",
            "2/2 [==============================] - 0s 7ms/step - loss: 9.5279 - mae: 9.5279\n",
            "Epoch 45/100\n",
            "2/2 [==============================] - 0s 4ms/step - loss: 9.6614 - mae: 9.6614\n",
            "Epoch 46/100\n",
            "2/2 [==============================] - 0s 5ms/step - loss: 9.1543 - mae: 9.1543\n",
            "Epoch 47/100\n",
            "2/2 [==============================] - 0s 5ms/step - loss: 9.0604 - mae: 9.0604\n",
            "Epoch 48/100\n",
            "2/2 [==============================] - 0s 5ms/step - loss: 8.7624 - mae: 8.7624\n",
            "Epoch 49/100\n",
            "2/2 [==============================] - 0s 7ms/step - loss: 10.8369 - mae: 10.8369\n",
            "Epoch 50/100\n",
            "2/2 [==============================] - 0s 6ms/step - loss: 8.8573 - mae: 8.8573\n",
            "Epoch 51/100\n",
            "2/2 [==============================] - 0s 11ms/step - loss: 10.3175 - mae: 10.3175\n",
            "Epoch 52/100\n",
            "2/2 [==============================] - 0s 9ms/step - loss: 14.8285 - mae: 14.8285\n",
            "Epoch 53/100\n",
            "2/2 [==============================] - 0s 5ms/step - loss: 8.7053 - mae: 8.7053\n",
            "Epoch 54/100\n",
            "2/2 [==============================] - 0s 7ms/step - loss: 9.4249 - mae: 9.4249\n",
            "Epoch 55/100\n",
            "2/2 [==============================] - 0s 4ms/step - loss: 9.8385 - mae: 9.8385\n",
            "Epoch 56/100\n",
            "2/2 [==============================] - 0s 7ms/step - loss: 12.1663 - mae: 12.1663\n",
            "Epoch 57/100\n",
            "2/2 [==============================] - 0s 10ms/step - loss: 16.1752 - mae: 16.1752\n",
            "Epoch 58/100\n",
            "2/2 [==============================] - 0s 11ms/step - loss: 15.0076 - mae: 15.0076\n",
            "Epoch 59/100\n",
            "2/2 [==============================] - 0s 9ms/step - loss: 15.3698 - mae: 15.3698\n",
            "Epoch 60/100\n",
            "2/2 [==============================] - 0s 7ms/step - loss: 12.5261 - mae: 12.5261\n",
            "Epoch 61/100\n",
            "2/2 [==============================] - 0s 18ms/step - loss: 13.0420 - mae: 13.0420\n",
            "Epoch 62/100\n",
            "2/2 [==============================] - 0s 11ms/step - loss: 10.2323 - mae: 10.2323\n",
            "Epoch 63/100\n",
            "2/2 [==============================] - 0s 6ms/step - loss: 12.0069 - mae: 12.0069\n",
            "Epoch 64/100\n",
            "2/2 [==============================] - 0s 6ms/step - loss: 9.5151 - mae: 9.5151\n",
            "Epoch 65/100\n",
            "2/2 [==============================] - 0s 6ms/step - loss: 8.9926 - mae: 8.9926\n",
            "Epoch 66/100\n",
            "2/2 [==============================] - 0s 6ms/step - loss: 8.9825 - mae: 8.9825\n",
            "Epoch 67/100\n",
            "2/2 [==============================] - 0s 9ms/step - loss: 9.1020 - mae: 9.1020\n",
            "Epoch 68/100\n",
            "2/2 [==============================] - 0s 5ms/step - loss: 9.2138 - mae: 9.2138\n",
            "Epoch 69/100\n",
            "2/2 [==============================] - 0s 6ms/step - loss: 9.2091 - mae: 9.2091\n",
            "Epoch 70/100\n",
            "2/2 [==============================] - 0s 5ms/step - loss: 9.4690 - mae: 9.4690\n",
            "Epoch 71/100\n",
            "2/2 [==============================] - 0s 7ms/step - loss: 8.9142 - mae: 8.9142\n",
            "Epoch 72/100\n",
            "2/2 [==============================] - 0s 6ms/step - loss: 9.9897 - mae: 9.9897\n",
            "Epoch 73/100\n",
            "2/2 [==============================] - 0s 9ms/step - loss: 11.9300 - mae: 11.9300\n",
            "Epoch 74/100\n",
            "2/2 [==============================] - 0s 6ms/step - loss: 8.5859 - mae: 8.5859\n",
            "Epoch 75/100\n",
            "2/2 [==============================] - 0s 7ms/step - loss: 8.7776 - mae: 8.7776\n",
            "Epoch 76/100\n",
            "2/2 [==============================] - 0s 10ms/step - loss: 8.8232 - mae: 8.8232\n",
            "Epoch 77/100\n",
            "2/2 [==============================] - 0s 6ms/step - loss: 8.1895 - mae: 8.1895\n",
            "Epoch 78/100\n",
            "2/2 [==============================] - 0s 9ms/step - loss: 11.2235 - mae: 11.2235\n",
            "Epoch 79/100\n",
            "2/2 [==============================] - 0s 7ms/step - loss: 9.5682 - mae: 9.5682\n",
            "Epoch 80/100\n",
            "2/2 [==============================] - 0s 10ms/step - loss: 13.1783 - mae: 13.1783\n",
            "Epoch 81/100\n",
            "2/2 [==============================] - 0s 4ms/step - loss: 14.3245 - mae: 14.3245\n",
            "Epoch 82/100\n",
            "2/2 [==============================] - 0s 9ms/step - loss: 16.2560 - mae: 16.2560\n",
            "Epoch 83/100\n",
            "2/2 [==============================] - 0s 4ms/step - loss: 9.5568 - mae: 9.5568\n",
            "Epoch 84/100\n",
            "2/2 [==============================] - 0s 8ms/step - loss: 8.6519 - mae: 8.6519\n",
            "Epoch 85/100\n",
            "2/2 [==============================] - 0s 5ms/step - loss: 8.7552 - mae: 8.7552\n",
            "Epoch 86/100\n",
            "2/2 [==============================] - 0s 9ms/step - loss: 9.0234 - mae: 9.0234\n",
            "Epoch 87/100\n",
            "2/2 [==============================] - 0s 7ms/step - loss: 9.1794 - mae: 9.1794\n",
            "Epoch 88/100\n",
            "2/2 [==============================] - 0s 7ms/step - loss: 8.7276 - mae: 8.7276\n",
            "Epoch 89/100\n",
            "2/2 [==============================] - 0s 5ms/step - loss: 8.8707 - mae: 8.8707\n",
            "Epoch 90/100\n",
            "2/2 [==============================] - 0s 5ms/step - loss: 8.6802 - mae: 8.6802\n",
            "Epoch 91/100\n",
            "2/2 [==============================] - 0s 4ms/step - loss: 8.7301 - mae: 8.7301\n",
            "Epoch 92/100\n",
            "2/2 [==============================] - 0s 5ms/step - loss: 8.5968 - mae: 8.5968\n",
            "Epoch 93/100\n",
            "2/2 [==============================] - 0s 5ms/step - loss: 9.1886 - mae: 9.1886\n",
            "Epoch 94/100\n",
            "2/2 [==============================] - 0s 6ms/step - loss: 9.9125 - mae: 9.9125\n",
            "Epoch 95/100\n",
            "2/2 [==============================] - 0s 7ms/step - loss: 12.8242 - mae: 12.8242\n",
            "Epoch 96/100\n",
            "2/2 [==============================] - 0s 17ms/step - loss: 9.1602 - mae: 9.1602\n",
            "Epoch 97/100\n",
            "2/2 [==============================] - 0s 6ms/step - loss: 10.5435 - mae: 10.5435\n",
            "Epoch 98/100\n",
            "2/2 [==============================] - 0s 6ms/step - loss: 14.7497 - mae: 14.7497\n",
            "Epoch 99/100\n",
            "2/2 [==============================] - 0s 6ms/step - loss: 10.8591 - mae: 10.8591\n",
            "Epoch 100/100\n",
            "2/2 [==============================] - 0s 6ms/step - loss: 14.9030 - mae: 14.9030\n",
            "2/2 [==============================] - 0s 7ms/step - loss: 8.6299 - mae: 8.6299\n"
          ]
        },
        {
          "output_type": "execute_result",
          "data": {
            "text/plain": [
              "[8.629892349243164, 8.629892349243164]"
            ]
          },
          "metadata": {},
          "execution_count": 7
        }
      ]
    },
    {
      "cell_type": "code",
      "metadata": {
        "id": "P8YbnQp-LkiT"
      },
      "source": [
        "y_pred = model.predict(X_test)\n"
      ],
      "execution_count": 8,
      "outputs": []
    },
    {
      "cell_type": "code",
      "metadata": {
        "colab": {
          "base_uri": "https://localhost:8080/"
        },
        "id": "6beITJYTMMAF",
        "outputId": "b5227d59-8f75-4150-d491-f479c483808b"
      },
      "source": [
        "y_pred"
      ],
      "execution_count": 9,
      "outputs": [
        {
          "output_type": "execute_result",
          "data": {
            "text/plain": [
              "array([[54.771534],\n",
              "       [58.31733 ],\n",
              "       [61.863125],\n",
              "       [65.40892 ],\n",
              "       [68.95471 ],\n",
              "       [72.50051 ],\n",
              "       [76.04631 ],\n",
              "       [79.5921  ],\n",
              "       [83.1379  ],\n",
              "       [86.6837  ]], dtype=float32)"
            ]
          },
          "metadata": {},
          "execution_count": 9
        }
      ]
    },
    {
      "cell_type": "code",
      "metadata": {
        "colab": {
          "base_uri": "https://localhost:8080/"
        },
        "id": "ocLFwP2vMMw8",
        "outputId": "fa0c81da-8ce0-41fa-89e3-46fd34497bf9"
      },
      "source": [
        "y_pred.shape"
      ],
      "execution_count": 10,
      "outputs": [
        {
          "output_type": "execute_result",
          "data": {
            "text/plain": [
              "(10, 1)"
            ]
          },
          "metadata": {},
          "execution_count": 10
        }
      ]
    },
    {
      "cell_type": "code",
      "metadata": {
        "id": "U6Sc3LzcMOwl"
      },
      "source": [
        "y_pred_squeeze =  tf.squeeze(y_pred)"
      ],
      "execution_count": 11,
      "outputs": []
    },
    {
      "cell_type": "code",
      "metadata": {
        "colab": {
          "base_uri": "https://localhost:8080/"
        },
        "id": "PtKUqQuyMULi",
        "outputId": "f759ebf5-281e-48be-c904-74371a6b7344"
      },
      "source": [
        "y_pred_squeeze.shape, X_test.shape"
      ],
      "execution_count": 12,
      "outputs": [
        {
          "output_type": "execute_result",
          "data": {
            "text/plain": [
              "(TensorShape([10]), TensorShape([10]))"
            ]
          },
          "metadata": {},
          "execution_count": 12
        }
      ]
    },
    {
      "cell_type": "code",
      "metadata": {
        "id": "d0E18qDHMWh7"
      },
      "source": [
        "def plot_prediction(\n",
        "    train_data = X_train,\n",
        "    train_label= Y_train,\n",
        "    test_data = X_test,\n",
        "    test_label= Y_test,\n",
        "    predictions = y_pred_squeeze):\n",
        "  \n",
        "  plt.scatter(train_data, train_label, color='green', label='The Train Data & Labels')\n",
        "  plt.scatter(test_data, test_label, color='blue', label='The Test Data & Labels' )\n",
        "  plt.scatter(test_data, predictions, color='red', label='Predictions With Test Data ')\n",
        "  plt.legend()\n",
        "  plt.title('Plot Predictions')\n",
        "  plt.xlabel('Train Values')\n",
        "  plt.ylabel('Test Values')\n",
        "  plt.show()\n"
      ],
      "execution_count": 13,
      "outputs": []
    },
    {
      "cell_type": "code",
      "metadata": {
        "colab": {
          "base_uri": "https://localhost:8080/",
          "height": 295
        },
        "id": "ULm0N9p7Nbho",
        "outputId": "0afe65f5-150e-4c48-caeb-7cdc04307c87"
      },
      "source": [
        "plot_prediction();"
      ],
      "execution_count": 14,
      "outputs": [
        {
          "output_type": "display_data",
          "data": {
            "image/png": "[encoded data removed]",
            "text/plain": [
              "<Figure size 432x288 with 1 Axes>"
            ]
          },
          "metadata": {
            "needs_background": "light"
          }
        }
      ]
    },
    {
      "cell_type": "code",
      "metadata": {
        "id": "-NAyh6ksNdSQ"
      },
      "source": [
        "def mae(y_true, y_pred):\n",
        "  return tf.metrics.mean_absolute_error(y_true=Y_test, y_pred=y_pred_squeeze)"
      ],
      "execution_count": 15,
      "outputs": []
    },
    {
      "cell_type": "code",
      "metadata": {
        "id": "SKaaljxXNtGC"
      },
      "source": [
        "def mse(y_true, y_pred):\n",
        "  return tf.metrics.mean_squared_error(y_true=Y_test, y_pred=y_pred_squeeze)"
      ],
      "execution_count": 56,
      "outputs": []
    },
    {
      "cell_type": "code",
      "metadata": {
        "id": "echiz57QN3wF"
      },
      "source": [
        ""
      ],
      "execution_count": 56,
      "outputs": []
    },
    {
      "cell_type": "markdown",
      "metadata": {
        "id": "H1i5ybdxOEBC"
      },
      "source": [
        "# **Experiments A Models**"
      ]
    },
    {
      "cell_type": "markdown",
      "metadata": {
        "id": "vXZdTonHOG1H"
      },
      "source": [
        "#Model No 1"
      ]
    },
    {
      "cell_type": "code",
      "metadata": {
        "colab": {
          "base_uri": "https://localhost:8080/"
        },
        "id": "KyvWB9ftOGqF",
        "outputId": "982e5d1b-c674-4131-d1a4-8b59c048f894"
      },
      "source": [
        "tf.random.set_seed(42)\n",
        "\n",
        "model_1 = tf.keras.Sequential([\n",
        "                               tf.keras.layers.Dense(1)\n",
        "])\n",
        "\n",
        "model_1.compile(\n",
        "    loss = tf.keras.losses.mae,\n",
        "    optimizer  = tf.keras.optimizers.SGD(),\n",
        "    metrics=['mae']\n",
        ")\n",
        "\n",
        "model_1.fit(tf.expand_dims(X, axis=1), Y, epochs=100)\n",
        "\n",
        "model_1.evaluate(X,Y)"
      ],
      "execution_count": 57,
      "outputs": [
        {
          "output_type": "stream",
          "name": "stdout",
          "text": [
            "Epoch 1/100\n",
            "2/2 [==============================] - 0s 8ms/step - loss: 19.0311 - mae: 19.0311\n",
            "Epoch 2/100\n",
            "2/2 [==============================] - 0s 7ms/step - loss: 10.8111 - mae: 10.8111\n",
            "Epoch 3/100\n",
            "2/2 [==============================] - 0s 8ms/step - loss: 14.5005 - mae: 14.5005\n",
            "Epoch 4/100\n",
            "2/2 [==============================] - 0s 11ms/step - loss: 10.0958 - mae: 10.0958\n",
            "Epoch 5/100\n",
            "2/2 [==============================] - 0s 7ms/step - loss: 15.5388 - mae: 15.5388\n",
            "Epoch 6/100\n",
            "2/2 [==============================] - 0s 7ms/step - loss: 11.8626 - mae: 11.8626\n",
            "Epoch 7/100\n",
            "2/2 [==============================] - 0s 7ms/step - loss: 9.1727 - mae: 9.1727\n",
            "Epoch 8/100\n",
            "2/2 [==============================] - 0s 7ms/step - loss: 13.6143 - mae: 13.6143\n",
            "Epoch 9/100\n",
            "2/2 [==============================] - 0s 10ms/step - loss: 13.8577 - mae: 13.8577\n",
            "Epoch 10/100\n",
            "2/2 [==============================] - 0s 9ms/step - loss: 9.9966 - mae: 9.9966\n",
            "Epoch 11/100\n",
            "2/2 [==============================] - 0s 6ms/step - loss: 9.9685 - mae: 9.9685\n",
            "Epoch 12/100\n",
            "2/2 [==============================] - 0s 9ms/step - loss: 9.9097 - mae: 9.9097\n",
            "Epoch 13/100\n",
            "2/2 [==============================] - 0s 12ms/step - loss: 9.7478 - mae: 9.7478\n",
            "Epoch 14/100\n",
            "2/2 [==============================] - 0s 8ms/step - loss: 10.5485 - mae: 10.5485\n",
            "Epoch 15/100\n",
            "2/2 [==============================] - 0s 6ms/step - loss: 13.7915 - mae: 13.7915\n",
            "Epoch 16/100\n",
            "2/2 [==============================] - 0s 10ms/step - loss: 12.5861 - mae: 12.5861\n",
            "Epoch 17/100\n",
            "2/2 [==============================] - 0s 9ms/step - loss: 10.2180 - mae: 10.2180\n",
            "Epoch 18/100\n",
            "2/2 [==============================] - 0s 9ms/step - loss: 10.1329 - mae: 10.1329\n",
            "Epoch 19/100\n",
            "2/2 [==============================] - 0s 8ms/step - loss: 9.9154 - mae: 9.9154\n",
            "Epoch 20/100\n",
            "2/2 [==============================] - 0s 7ms/step - loss: 12.7204 - mae: 12.7204\n",
            "Epoch 21/100\n",
            "2/2 [==============================] - 0s 6ms/step - loss: 12.9522 - mae: 12.9522\n",
            "Epoch 22/100\n",
            "2/2 [==============================] - 0s 6ms/step - loss: 9.5668 - mae: 9.5668\n",
            "Epoch 23/100\n",
            "2/2 [==============================] - 0s 5ms/step - loss: 9.3870 - mae: 9.3870\n",
            "Epoch 24/100\n",
            "2/2 [==============================] - 0s 9ms/step - loss: 9.7060 - mae: 9.7060\n",
            "Epoch 25/100\n",
            "2/2 [==============================] - 0s 6ms/step - loss: 9.6024 - mae: 9.6024\n",
            "Epoch 26/100\n",
            "2/2 [==============================] - 0s 7ms/step - loss: 9.4918 - mae: 9.4918\n",
            "Epoch 27/100\n",
            "2/2 [==============================] - 0s 10ms/step - loss: 9.7140 - mae: 9.7140\n",
            "Epoch 28/100\n",
            "2/2 [==============================] - 0s 8ms/step - loss: 9.5882 - mae: 9.5882\n",
            "Epoch 29/100\n",
            "2/2 [==============================] - 0s 9ms/step - loss: 9.4746 - mae: 9.4746\n",
            "Epoch 30/100\n",
            "2/2 [==============================] - 0s 7ms/step - loss: 10.0289 - mae: 10.0289\n",
            "Epoch 31/100\n",
            "2/2 [==============================] - 0s 8ms/step - loss: 13.3862 - mae: 13.3862\n",
            "Epoch 32/100\n",
            "2/2 [==============================] - 0s 6ms/step - loss: 9.6345 - mae: 9.6345\n",
            "Epoch 33/100\n",
            "2/2 [==============================] - 0s 4ms/step - loss: 9.5676 - mae: 9.5676\n",
            "Epoch 34/100\n",
            "2/2 [==============================] - 0s 8ms/step - loss: 9.8932 - mae: 9.8932\n",
            "Epoch 35/100\n",
            "2/2 [==============================] - 0s 6ms/step - loss: 10.1582 - mae: 10.1582\n",
            "Epoch 36/100\n",
            "2/2 [==============================] - 0s 8ms/step - loss: 9.5081 - mae: 9.5081\n",
            "Epoch 37/100\n",
            "2/2 [==============================] - 0s 9ms/step - loss: 9.4231 - mae: 9.4231\n",
            "Epoch 38/100\n",
            "2/2 [==============================] - 0s 6ms/step - loss: 9.6222 - mae: 9.6222\n",
            "Epoch 39/100\n",
            "2/2 [==============================] - 0s 15ms/step - loss: 10.3634 - mae: 10.3634\n",
            "Epoch 40/100\n",
            "2/2 [==============================] - 0s 7ms/step - loss: 11.5608 - mae: 11.5608\n",
            "Epoch 41/100\n",
            "2/2 [==============================] - 0s 6ms/step - loss: 9.7365 - mae: 9.7365\n",
            "Epoch 42/100\n",
            "2/2 [==============================] - 0s 6ms/step - loss: 9.3273 - mae: 9.3273\n",
            "Epoch 43/100\n",
            "2/2 [==============================] - 0s 17ms/step - loss: 9.1406 - mae: 9.1406\n",
            "Epoch 44/100\n",
            "2/2 [==============================] - 0s 8ms/step - loss: 9.5279 - mae: 9.5279\n",
            "Epoch 45/100\n",
            "2/2 [==============================] - 0s 11ms/step - loss: 9.6614 - mae: 9.6614\n",
            "Epoch 46/100\n",
            "2/2 [==============================] - 0s 7ms/step - loss: 9.1543 - mae: 9.1543\n",
            "Epoch 47/100\n",
            "2/2 [==============================] - 0s 7ms/step - loss: 9.0604 - mae: 9.0604\n",
            "Epoch 48/100\n",
            "2/2 [==============================] - 0s 5ms/step - loss: 8.7624 - mae: 8.7624\n",
            "Epoch 49/100\n",
            "2/2 [==============================] - 0s 11ms/step - loss: 10.8369 - mae: 10.8369\n",
            "Epoch 50/100\n",
            "2/2 [==============================] - 0s 9ms/step - loss: 8.8573 - mae: 8.8573\n",
            "Epoch 51/100\n",
            "2/2 [==============================] - 0s 5ms/step - loss: 10.3175 - mae: 10.3175\n",
            "Epoch 52/100\n",
            "2/2 [==============================] - 0s 7ms/step - loss: 14.8285 - mae: 14.8285\n",
            "Epoch 53/100\n",
            "2/2 [==============================] - 0s 4ms/step - loss: 8.7053 - mae: 8.7053\n",
            "Epoch 54/100\n",
            "2/2 [==============================] - 0s 5ms/step - loss: 9.4249 - mae: 9.4249\n",
            "Epoch 55/100\n",
            "2/2 [==============================] - 0s 5ms/step - loss: 9.8385 - mae: 9.8385\n",
            "Epoch 56/100\n",
            "2/2 [==============================] - 0s 8ms/step - loss: 12.1663 - mae: 12.1663\n",
            "Epoch 57/100\n",
            "2/2 [==============================] - 0s 5ms/step - loss: 16.1752 - mae: 16.1752\n",
            "Epoch 58/100\n",
            "2/2 [==============================] - 0s 9ms/step - loss: 15.0076 - mae: 15.0076\n",
            "Epoch 59/100\n",
            "2/2 [==============================] - 0s 7ms/step - loss: 15.3698 - mae: 15.3698\n",
            "Epoch 60/100\n",
            "2/2 [==============================] - 0s 4ms/step - loss: 12.5261 - mae: 12.5261\n",
            "Epoch 61/100\n",
            "2/2 [==============================] - 0s 4ms/step - loss: 13.0420 - mae: 13.0420\n",
            "Epoch 62/100\n",
            "2/2 [==============================] - 0s 8ms/step - loss: 10.2323 - mae: 10.2323\n",
            "Epoch 63/100\n",
            "2/2 [==============================] - 0s 4ms/step - loss: 12.0069 - mae: 12.0069\n",
            "Epoch 64/100\n",
            "2/2 [==============================] - 0s 7ms/step - loss: 9.5151 - mae: 9.5151\n",
            "Epoch 65/100\n",
            "2/2 [==============================] - 0s 4ms/step - loss: 8.9926 - mae: 8.9926\n",
            "Epoch 66/100\n",
            "2/2 [==============================] - 0s 8ms/step - loss: 8.9825 - mae: 8.9825\n",
            "Epoch 67/100\n",
            "2/2 [==============================] - 0s 7ms/step - loss: 9.1020 - mae: 9.1020\n",
            "Epoch 68/100\n",
            "2/2 [==============================] - 0s 9ms/step - loss: 9.2138 - mae: 9.2138\n",
            "Epoch 69/100\n",
            "2/2 [==============================] - 0s 6ms/step - loss: 9.2091 - mae: 9.2091\n",
            "Epoch 70/100\n",
            "2/2 [==============================] - 0s 14ms/step - loss: 9.4690 - mae: 9.4690\n",
            "Epoch 71/100\n",
            "2/2 [==============================] - 0s 6ms/step - loss: 8.9142 - mae: 8.9142\n",
            "Epoch 72/100\n",
            "2/2 [==============================] - 0s 4ms/step - loss: 9.9897 - mae: 9.9897\n",
            "Epoch 73/100\n",
            "2/2 [==============================] - 0s 5ms/step - loss: 11.9300 - mae: 11.9300\n",
            "Epoch 74/100\n",
            "2/2 [==============================] - 0s 7ms/step - loss: 8.5859 - mae: 8.5859\n",
            "Epoch 75/100\n",
            "2/2 [==============================] - 0s 9ms/step - loss: 8.7776 - mae: 8.7776\n",
            "Epoch 76/100\n",
            "2/2 [==============================] - 0s 5ms/step - loss: 8.8232 - mae: 8.8232\n",
            "Epoch 77/100\n",
            "2/2 [==============================] - 0s 6ms/step - loss: 8.1895 - mae: 8.1895\n",
            "Epoch 78/100\n",
            "2/2 [==============================] - 0s 6ms/step - loss: 11.2235 - mae: 11.2235\n",
            "Epoch 79/100\n",
            "2/2 [==============================] - 0s 5ms/step - loss: 9.5682 - mae: 9.5682\n",
            "Epoch 80/100\n",
            "2/2 [==============================] - 0s 5ms/step - loss: 13.1783 - mae: 13.1783\n",
            "Epoch 81/100\n",
            "2/2 [==============================] - 0s 6ms/step - loss: 14.3245 - mae: 14.3245\n",
            "Epoch 82/100\n",
            "2/2 [==============================] - 0s 11ms/step - loss: 16.2560 - mae: 16.2560\n",
            "Epoch 83/100\n",
            "2/2 [==============================] - 0s 6ms/step - loss: 9.5568 - mae: 9.5568\n",
            "Epoch 84/100\n",
            "2/2 [==============================] - 0s 5ms/step - loss: 8.6519 - mae: 8.6519\n",
            "Epoch 85/100\n",
            "2/2 [==============================] - 0s 4ms/step - loss: 8.7552 - mae: 8.7552\n",
            "Epoch 86/100\n",
            "2/2 [==============================] - 0s 6ms/step - loss: 9.0234 - mae: 9.0234\n",
            "Epoch 87/100\n",
            "2/2 [==============================] - 0s 6ms/step - loss: 9.1794 - mae: 9.1794\n",
            "Epoch 88/100\n",
            "2/2 [==============================] - 0s 5ms/step - loss: 8.7276 - mae: 8.7276\n",
            "Epoch 89/100\n",
            "2/2 [==============================] - 0s 12ms/step - loss: 8.8707 - mae: 8.8707\n",
            "Epoch 90/100\n",
            "2/2 [==============================] - 0s 8ms/step - loss: 8.6802 - mae: 8.6802\n",
            "Epoch 91/100\n",
            "2/2 [==============================] - 0s 6ms/step - loss: 8.7301 - mae: 8.7301\n",
            "Epoch 92/100\n",
            "2/2 [==============================] - 0s 6ms/step - loss: 8.5968 - mae: 8.5968\n",
            "Epoch 93/100\n",
            "2/2 [==============================] - 0s 7ms/step - loss: 9.1886 - mae: 9.1886\n",
            "Epoch 94/100\n",
            "2/2 [==============================] - 0s 8ms/step - loss: 9.9125 - mae: 9.9125\n",
            "Epoch 95/100\n",
            "2/2 [==============================] - 0s 5ms/step - loss: 12.8242 - mae: 12.8242\n",
            "Epoch 96/100\n",
            "2/2 [==============================] - 0s 5ms/step - loss: 9.1602 - mae: 9.1602\n",
            "Epoch 97/100\n",
            "2/2 [==============================] - 0s 4ms/step - loss: 10.5435 - mae: 10.5435\n",
            "Epoch 98/100\n",
            "2/2 [==============================] - 0s 7ms/step - loss: 14.7497 - mae: 14.7497\n",
            "Epoch 99/100\n",
            "2/2 [==============================] - 0s 5ms/step - loss: 10.8591 - mae: 10.8591\n",
            "Epoch 100/100\n",
            "2/2 [==============================] - 0s 4ms/step - loss: 14.9030 - mae: 14.9030\n",
            "WARNING:tensorflow:5 out of the last 9 calls to <function Model.make_test_function.<locals>.test_function at 0x7f9b1f1efa70> triggered tf.function retracing. Tracing is expensive and the excessive number of tracings could be due to (1) creating @tf.function repeatedly in a loop, (2) passing tensors with different shapes, (3) passing Python objects instead of tensors. For (1), please define your @tf.function outside of the loop. For (2), @tf.function has experimental_relax_shapes=True option that relaxes argument shapes that can avoid unnecessary retracing. For (3), please refer to https://www.tensorflow.org/guide/function#controlling_retracing and https://www.tensorflow.org/api_docs/python/tf/function for  more details.\n",
            "2/2 [==============================] - 0s 5ms/step - loss: 8.6299 - mae: 8.6299\n"
          ]
        },
        {
          "output_type": "execute_result",
          "data": {
            "text/plain": [
              "[8.629892349243164, 8.629892349243164]"
            ]
          },
          "metadata": {},
          "execution_count": 57
        }
      ]
    },
    {
      "cell_type": "code",
      "metadata": {
        "id": "V7ascD3bN5Ti"
      },
      "source": [
        "y_pred_1 = model_1.predict(X_test)"
      ],
      "execution_count": 58,
      "outputs": []
    },
    {
      "cell_type": "code",
      "metadata": {
        "colab": {
          "base_uri": "https://localhost:8080/",
          "height": 295
        },
        "id": "bc9-62f_OocJ",
        "outputId": "963954fa-9eb9-4f63-e509-cc2524aaf5ae"
      },
      "source": [
        "plot_prediction(predictions=y_pred_1)"
      ],
      "execution_count": 59,
      "outputs": [
        {
          "output_type": "display_data",
          "data": {
            "image/png": "[encoded data removed]",
            "text/plain": [
              "<Figure size 432x288 with 1 Axes>"
            ]
          },
          "metadata": {
            "needs_background": "light"
          }
        }
      ]
    },
    {
      "cell_type": "code",
      "metadata": {
        "id": "Er2YxI27OrON"
      },
      "source": [
        "mae_1 =  mae(Y_test, y_pred_1)\n"
      ],
      "execution_count": 60,
      "outputs": []
    },
    {
      "cell_type": "code",
      "metadata": {
        "id": "oJPenmLQOyMd"
      },
      "source": [
        "mse_1 = mse(Y_test, y_pred_1)"
      ],
      "execution_count": 61,
      "outputs": []
    },
    {
      "cell_type": "markdown",
      "metadata": {
        "id": "KZnpZZdeO8uE"
      },
      "source": [
        "# Model No 2"
      ]
    },
    {
      "cell_type": "code",
      "metadata": {
        "colab": {
          "base_uri": "https://localhost:8080/"
        },
        "id": "ZfQw1EWwO1U8",
        "outputId": "f16a9747-d839-4964-8a6d-ee0a1b52655d"
      },
      "source": [
        "tf.random.set_seed(42)\n",
        "model_2 = tf.keras.Sequential([\n",
        "                               tf.keras.layers.Dense(10),\n",
        "                               tf.keras.layers.Dense(1)\n",
        "])\n",
        "\n",
        "model_2.compile(\n",
        "    loss = tf.keras.losses.mae,\n",
        "    optimizer = tf.keras.optimizers.SGD(),\n",
        "    metrics=['mae']\n",
        ")\n",
        "\n",
        "model_2.fit(tf.expand_dims(X,axis=1), Y, epochs=100)\n",
        "\n",
        "model_2.evaluate(X,Y)\n"
      ],
      "execution_count": 62,
      "outputs": [
        {
          "output_type": "stream",
          "name": "stdout",
          "text": [
            "Epoch 1/100\n",
            "2/2 [==============================] - 0s 6ms/step - loss: 40.2867 - mae: 40.2867\n",
            "Epoch 2/100\n",
            "2/2 [==============================] - 0s 4ms/step - loss: 25.9297 - mae: 25.9297\n",
            "Epoch 3/100\n",
            "2/2 [==============================] - 0s 5ms/step - loss: 44.1696 - mae: 44.1696\n",
            "Epoch 4/100\n",
            "2/2 [==============================] - 0s 4ms/step - loss: 11.2212 - mae: 11.2212\n",
            "Epoch 5/100\n",
            "2/2 [==============================] - 0s 6ms/step - loss: 23.0317 - mae: 23.0317\n",
            "Epoch 6/100\n",
            "2/2 [==============================] - 0s 21ms/step - loss: 24.2563 - mae: 24.2563\n",
            "Epoch 7/100\n",
            "2/2 [==============================] - 0s 7ms/step - loss: 11.2416 - mae: 11.2416\n",
            "Epoch 8/100\n",
            "2/2 [==============================] - 0s 6ms/step - loss: 34.1576 - mae: 34.1576\n",
            "Epoch 9/100\n",
            "2/2 [==============================] - 0s 6ms/step - loss: 12.5246 - mae: 12.5246\n",
            "Epoch 10/100\n",
            "2/2 [==============================] - 0s 6ms/step - loss: 10.1823 - mae: 10.1823\n",
            "Epoch 11/100\n",
            "2/2 [==============================] - 0s 6ms/step - loss: 23.0436 - mae: 23.0436\n",
            "Epoch 12/100\n",
            "2/2 [==============================] - 0s 4ms/step - loss: 16.3819 - mae: 16.3819\n",
            "Epoch 13/100\n",
            "2/2 [==============================] - 0s 9ms/step - loss: 22.6688 - mae: 22.6688\n",
            "Epoch 14/100\n",
            "2/2 [==============================] - 0s 8ms/step - loss: 22.1103 - mae: 22.1103\n",
            "Epoch 15/100\n",
            "2/2 [==============================] - 0s 13ms/step - loss: 19.8442 - mae: 19.8442\n",
            "Epoch 16/100\n",
            "2/2 [==============================] - 0s 12ms/step - loss: 23.1707 - mae: 23.1707\n",
            "Epoch 17/100\n",
            "2/2 [==============================] - 0s 10ms/step - loss: 11.5075 - mae: 11.5075\n",
            "Epoch 18/100\n",
            "2/2 [==============================] - 0s 6ms/step - loss: 29.7742 - mae: 29.7742\n",
            "Epoch 19/100\n",
            "2/2 [==============================] - 0s 8ms/step - loss: 18.4085 - mae: 18.4085\n",
            "Epoch 20/100\n",
            "2/2 [==============================] - 0s 9ms/step - loss: 18.7610 - mae: 18.7610\n",
            "Epoch 21/100\n",
            "2/2 [==============================] - 0s 9ms/step - loss: 19.4369 - mae: 19.4369\n",
            "Epoch 22/100\n",
            "2/2 [==============================] - 0s 6ms/step - loss: 20.5783 - mae: 20.5783\n",
            "Epoch 23/100\n",
            "2/2 [==============================] - 0s 7ms/step - loss: 19.8132 - mae: 19.8132\n",
            "Epoch 24/100\n",
            "2/2 [==============================] - 0s 10ms/step - loss: 18.7247 - mae: 18.7247\n",
            "Epoch 25/100\n",
            "2/2 [==============================] - 0s 6ms/step - loss: 21.7989 - mae: 21.7989\n",
            "Epoch 26/100\n",
            "2/2 [==============================] - 0s 8ms/step - loss: 10.6899 - mae: 10.6899\n",
            "Epoch 27/100\n",
            "2/2 [==============================] - 0s 7ms/step - loss: 30.8423 - mae: 30.8423\n",
            "Epoch 28/100\n",
            "2/2 [==============================] - 0s 5ms/step - loss: 16.5686 - mae: 16.5686\n",
            "Epoch 29/100\n",
            "2/2 [==============================] - 0s 12ms/step - loss: 33.0226 - mae: 33.0226\n",
            "Epoch 30/100\n",
            "2/2 [==============================] - 0s 6ms/step - loss: 19.5703 - mae: 19.5703\n",
            "Epoch 31/100\n",
            "2/2 [==============================] - 0s 7ms/step - loss: 12.5353 - mae: 12.5353\n",
            "Epoch 32/100\n",
            "2/2 [==============================] - 0s 4ms/step - loss: 20.7130 - mae: 20.7130\n",
            "Epoch 33/100\n",
            "2/2 [==============================] - 0s 4ms/step - loss: 20.6412 - mae: 20.6412\n",
            "Epoch 34/100\n",
            "2/2 [==============================] - 0s 10ms/step - loss: 21.2043 - mae: 21.2043\n",
            "Epoch 35/100\n",
            "2/2 [==============================] - 0s 6ms/step - loss: 21.3012 - mae: 21.3012\n",
            "Epoch 36/100\n",
            "2/2 [==============================] - 0s 5ms/step - loss: 18.8072 - mae: 18.8072\n",
            "Epoch 37/100\n",
            "2/2 [==============================] - 0s 5ms/step - loss: 27.4462 - mae: 27.4462\n",
            "Epoch 38/100\n",
            "2/2 [==============================] - 0s 10ms/step - loss: 29.1100 - mae: 29.1100\n",
            "Epoch 39/100\n",
            "2/2 [==============================] - 0s 7ms/step - loss: 20.5542 - mae: 20.5542\n",
            "Epoch 40/100\n",
            "2/2 [==============================] - 0s 10ms/step - loss: 20.6334 - mae: 20.6334\n",
            "Epoch 41/100\n",
            "2/2 [==============================] - 0s 5ms/step - loss: 24.9726 - mae: 24.9726\n",
            "Epoch 42/100\n",
            "2/2 [==============================] - 0s 7ms/step - loss: 20.5609 - mae: 20.5609\n",
            "Epoch 43/100\n",
            "2/2 [==============================] - 0s 6ms/step - loss: 23.1231 - mae: 23.1231\n",
            "Epoch 44/100\n",
            "2/2 [==============================] - 0s 5ms/step - loss: 9.8053 - mae: 9.8053\n",
            "Epoch 45/100\n",
            "2/2 [==============================] - 0s 5ms/step - loss: 22.5487 - mae: 22.5487\n",
            "Epoch 46/100\n",
            "2/2 [==============================] - 0s 7ms/step - loss: 9.2110 - mae: 9.2110\n",
            "Epoch 47/100\n",
            "2/2 [==============================] - 0s 7ms/step - loss: 20.3679 - mae: 20.3679\n",
            "Epoch 48/100\n",
            "2/2 [==============================] - 0s 6ms/step - loss: 8.4309 - mae: 8.4309\n",
            "Epoch 49/100\n",
            "2/2 [==============================] - 0s 7ms/step - loss: 12.6659 - mae: 12.6659\n",
            "Epoch 50/100\n",
            "2/2 [==============================] - 0s 10ms/step - loss: 32.1829 - mae: 32.1829\n",
            "Epoch 51/100\n",
            "2/2 [==============================] - 0s 7ms/step - loss: 16.5208 - mae: 16.5208\n",
            "Epoch 52/100\n",
            "2/2 [==============================] - 0s 6ms/step - loss: 33.7598 - mae: 33.7598\n",
            "Epoch 53/100\n",
            "2/2 [==============================] - 0s 7ms/step - loss: 9.7791 - mae: 9.7791\n",
            "Epoch 54/100\n",
            "2/2 [==============================] - 0s 8ms/step - loss: 11.4445 - mae: 11.4445\n",
            "Epoch 55/100\n",
            "2/2 [==============================] - 0s 8ms/step - loss: 24.6060 - mae: 24.6060\n",
            "Epoch 56/100\n",
            "2/2 [==============================] - 0s 8ms/step - loss: 9.1433 - mae: 9.1433\n",
            "Epoch 57/100\n",
            "2/2 [==============================] - 0s 11ms/step - loss: 11.6297 - mae: 11.6297\n",
            "Epoch 58/100\n",
            "2/2 [==============================] - 0s 5ms/step - loss: 27.3491 - mae: 27.3491\n",
            "Epoch 59/100\n",
            "2/2 [==============================] - 0s 6ms/step - loss: 25.1758 - mae: 25.1758\n",
            "Epoch 60/100\n",
            "2/2 [==============================] - 0s 7ms/step - loss: 11.4501 - mae: 11.4501\n",
            "Epoch 61/100\n",
            "2/2 [==============================] - 0s 3ms/step - loss: 31.5022 - mae: 31.5022\n",
            "Epoch 62/100\n",
            "2/2 [==============================] - 0s 6ms/step - loss: 21.6164 - mae: 21.6164\n",
            "Epoch 63/100\n",
            "2/2 [==============================] - 0s 4ms/step - loss: 9.4131 - mae: 9.4131\n",
            "Epoch 64/100\n",
            "2/2 [==============================] - 0s 6ms/step - loss: 27.2951 - mae: 27.2951\n",
            "Epoch 65/100\n",
            "2/2 [==============================] - 0s 4ms/step - loss: 8.9828 - mae: 8.9828\n",
            "Epoch 66/100\n",
            "2/2 [==============================] - 0s 4ms/step - loss: 9.2362 - mae: 9.2362\n",
            "Epoch 67/100\n",
            "2/2 [==============================] - 0s 4ms/step - loss: 25.8946 - mae: 25.8946\n",
            "Epoch 68/100\n",
            "2/2 [==============================] - 0s 4ms/step - loss: 16.4833 - mae: 16.4833\n",
            "Epoch 69/100\n",
            "2/2 [==============================] - 0s 6ms/step - loss: 25.0206 - mae: 25.0206\n",
            "Epoch 70/100\n",
            "2/2 [==============================] - 0s 6ms/step - loss: 26.0848 - mae: 26.0848\n",
            "Epoch 71/100\n",
            "2/2 [==============================] - 0s 6ms/step - loss: 19.4423 - mae: 19.4423\n",
            "Epoch 72/100\n",
            "2/2 [==============================] - 0s 4ms/step - loss: 25.3501 - mae: 25.3501\n",
            "Epoch 73/100\n",
            "2/2 [==============================] - 0s 4ms/step - loss: 35.7193 - mae: 35.7193\n",
            "Epoch 74/100\n",
            "2/2 [==============================] - 0s 6ms/step - loss: 16.4184 - mae: 16.4184\n",
            "Epoch 75/100\n",
            "2/2 [==============================] - 0s 5ms/step - loss: 30.0560 - mae: 30.0560\n",
            "Epoch 76/100\n",
            "2/2 [==============================] - 0s 7ms/step - loss: 24.7032 - mae: 24.7032\n",
            "Epoch 77/100\n",
            "2/2 [==============================] - 0s 6ms/step - loss: 17.8535 - mae: 17.8535\n",
            "Epoch 78/100\n",
            "2/2 [==============================] - 0s 7ms/step - loss: 23.0873 - mae: 23.0873\n",
            "Epoch 79/100\n",
            "2/2 [==============================] - 0s 6ms/step - loss: 10.0832 - mae: 10.0832\n",
            "Epoch 80/100\n",
            "2/2 [==============================] - 0s 15ms/step - loss: 22.9531 - mae: 22.9531\n",
            "Epoch 81/100\n",
            "2/2 [==============================] - 0s 11ms/step - loss: 26.6186 - mae: 26.6186\n",
            "Epoch 82/100\n",
            "2/2 [==============================] - 0s 9ms/step - loss: 8.7183 - mae: 8.7183\n",
            "Epoch 83/100\n",
            "2/2 [==============================] - 0s 8ms/step - loss: 17.7156 - mae: 17.7156\n",
            "Epoch 84/100\n",
            "2/2 [==============================] - 0s 9ms/step - loss: 21.7822 - mae: 21.7822\n",
            "Epoch 85/100\n",
            "2/2 [==============================] - 0s 8ms/step - loss: 8.5676 - mae: 8.5676\n",
            "Epoch 86/100\n",
            "2/2 [==============================] - 0s 4ms/step - loss: 10.1261 - mae: 10.1261\n",
            "Epoch 87/100\n",
            "2/2 [==============================] - 0s 6ms/step - loss: 33.4657 - mae: 33.4657\n",
            "Epoch 88/100\n",
            "2/2 [==============================] - 0s 5ms/step - loss: 20.4582 - mae: 20.4582\n",
            "Epoch 89/100\n",
            "2/2 [==============================] - 0s 6ms/step - loss: 21.4295 - mae: 21.4295\n",
            "Epoch 90/100\n",
            "2/2 [==============================] - 0s 10ms/step - loss: 40.8004 - mae: 40.8004\n",
            "Epoch 91/100\n",
            "2/2 [==============================] - 0s 6ms/step - loss: 16.7932 - mae: 16.7932\n",
            "Epoch 92/100\n",
            "2/2 [==============================] - 0s 7ms/step - loss: 19.9796 - mae: 19.9796\n",
            "Epoch 93/100\n",
            "2/2 [==============================] - 0s 7ms/step - loss: 20.7641 - mae: 20.7641\n",
            "Epoch 94/100\n",
            "2/2 [==============================] - 0s 7ms/step - loss: 26.1390 - mae: 26.1390\n",
            "Epoch 95/100\n",
            "2/2 [==============================] - 0s 6ms/step - loss: 29.1444 - mae: 29.1444\n",
            "Epoch 96/100\n",
            "2/2 [==============================] - 0s 7ms/step - loss: 20.5376 - mae: 20.5376\n",
            "Epoch 97/100\n",
            "2/2 [==============================] - 0s 5ms/step - loss: 21.5291 - mae: 21.5291\n",
            "Epoch 98/100\n",
            "2/2 [==============================] - 0s 8ms/step - loss: 12.7845 - mae: 12.7845\n",
            "Epoch 99/100\n",
            "2/2 [==============================] - 0s 6ms/step - loss: 16.1075 - mae: 16.1075\n",
            "Epoch 100/100\n",
            "2/2 [==============================] - 0s 8ms/step - loss: 20.3503 - mae: 20.3503\n",
            "WARNING:tensorflow:6 out of the last 11 calls to <function Model.make_test_function.<locals>.test_function at 0x7f9b1fff3200> triggered tf.function retracing. Tracing is expensive and the excessive number of tracings could be due to (1) creating @tf.function repeatedly in a loop, (2) passing tensors with different shapes, (3) passing Python objects instead of tensors. For (1), please define your @tf.function outside of the loop. For (2), @tf.function has experimental_relax_shapes=True option that relaxes argument shapes that can avoid unnecessary retracing. For (3), please refer to https://www.tensorflow.org/guide/function#controlling_retracing and https://www.tensorflow.org/api_docs/python/tf/function for  more details.\n",
            "2/2 [==============================] - 0s 9ms/step - loss: 17.1881 - mae: 17.1881\n"
          ]
        },
        {
          "output_type": "execute_result",
          "data": {
            "text/plain": [
              "[17.18813705444336, 17.18813705444336]"
            ]
          },
          "metadata": {},
          "execution_count": 62
        }
      ]
    },
    {
      "cell_type": "code",
      "metadata": {
        "colab": {
          "base_uri": "https://localhost:8080/"
        },
        "id": "GpLMUHq7PapJ",
        "outputId": "6163f008-c601-41f8-e7de-48e0cba92207"
      },
      "source": [
        "y_pred_2 = model_2.predict(X_test)"
      ],
      "execution_count": 63,
      "outputs": [
        {
          "output_type": "stream",
          "name": "stdout",
          "text": [
            "WARNING:tensorflow:5 out of the last 6 calls to <function Model.make_predict_function.<locals>.predict_function at 0x7f9b2009d710> triggered tf.function retracing. Tracing is expensive and the excessive number of tracings could be due to (1) creating @tf.function repeatedly in a loop, (2) passing tensors with different shapes, (3) passing Python objects instead of tensors. For (1), please define your @tf.function outside of the loop. For (2), @tf.function has experimental_relax_shapes=True option that relaxes argument shapes that can avoid unnecessary retracing. For (3), please refer to https://www.tensorflow.org/guide/function#controlling_retracing and https://www.tensorflow.org/api_docs/python/tf/function for  more details.\n"
          ]
        }
      ]
    },
    {
      "cell_type": "code",
      "metadata": {
        "colab": {
          "base_uri": "https://localhost:8080/",
          "height": 295
        },
        "id": "jmWo-hAxPgso",
        "outputId": "9e0caaa2-d613-4427-f230-929c084e90e1"
      },
      "source": [
        "plot_prediction(predictions=y_pred_2)"
      ],
      "execution_count": 64,
      "outputs": [
        {
          "output_type": "display_data",
          "data": {
            "image/png": "[encoded data removed]",
            "text/plain": [
              "<Figure size 432x288 with 1 Axes>"
            ]
          },
          "metadata": {
            "needs_background": "light"
          }
        }
      ]
    },
    {
      "cell_type": "code",
      "metadata": {
        "id": "JeYkWBIyPoI-"
      },
      "source": [
        "mae_2 =  mae(Y_test, y_pred_2)"
      ],
      "execution_count": 65,
      "outputs": []
    },
    {
      "cell_type": "code",
      "metadata": {
        "id": "VhaKixtBPtF0"
      },
      "source": [
        "mse_2 = mse(Y_test, y_pred_2)"
      ],
      "execution_count": 66,
      "outputs": []
    },
    {
      "cell_type": "markdown",
      "metadata": {
        "id": "6aksCOyrPzHi"
      },
      "source": [
        "# Model No 3"
      ]
    },
    {
      "cell_type": "code",
      "metadata": {
        "colab": {
          "base_uri": "https://localhost:8080/"
        },
        "id": "1i3kcnp0Pv3F",
        "outputId": "80cd6714-850a-4245-9e96-62ba3c331e9e"
      },
      "source": [
        "tf.random.set_seed(42)\n",
        "\n",
        "model_3 = tf.keras.Sequential([\n",
        "                               tf.keras.layers.Dense(10),\n",
        "                               tf.keras.layers.Dense(1)\n",
        "])\n",
        "\n",
        "model_3.compile(\n",
        "    loss = tf.keras.losses.mae,\n",
        "    optimizer = tf.keras.optimizers.SGD(),\n",
        "    metrics=['mae']\n",
        ")\n",
        "\n",
        "model_3.fit(tf.expand_dims(X,axis=1), Y, epochs=500)\n",
        "\n",
        "model_3.evaluate(X,Y)\n"
      ],
      "execution_count": 67,
      "outputs": [
        {
          "output_type": "stream",
          "name": "stdout",
          "text": [
            "Epoch 1/500\n",
            "2/2 [==============================] - 0s 8ms/step - loss: 40.2867 - mae: 40.2867\n",
            "Epoch 2/500\n",
            "2/2 [==============================] - 0s 5ms/step - loss: 25.9297 - mae: 25.9297\n",
            "Epoch 3/500\n",
            "2/2 [==============================] - 0s 4ms/step - loss: 44.1696 - mae: 44.1696\n",
            "Epoch 4/500\n",
            "2/2 [==============================] - 0s 6ms/step - loss: 11.2212 - mae: 11.2212\n",
            "Epoch 5/500\n",
            "2/2 [==============================] - 0s 21ms/step - loss: 23.0317 - mae: 23.0317\n",
            "Epoch 6/500\n",
            "2/2 [==============================] - 0s 8ms/step - loss: 24.2563 - mae: 24.2563\n",
            "Epoch 7/500\n",
            "2/2 [==============================] - 0s 8ms/step - loss: 11.2416 - mae: 11.2416\n",
            "Epoch 8/500\n",
            "2/2 [==============================] - 0s 3ms/step - loss: 34.1576 - mae: 34.1576\n",
            "Epoch 9/500\n",
            "2/2 [==============================] - 0s 5ms/step - loss: 12.5246 - mae: 12.5246\n",
            "Epoch 10/500\n",
            "2/2 [==============================] - 0s 6ms/step - loss: 10.1823 - mae: 10.1823\n",
            "Epoch 11/500\n",
            "2/2 [==============================] - 0s 5ms/step - loss: 23.0436 - mae: 23.0436\n",
            "Epoch 12/500\n",
            "2/2 [==============================] - 0s 5ms/step - loss: 16.3819 - mae: 16.3819\n",
            "Epoch 13/500\n",
            "2/2 [==============================] - 0s 7ms/step - loss: 22.6688 - mae: 22.6688\n",
            "Epoch 14/500\n",
            "2/2 [==============================] - 0s 11ms/step - loss: 22.1103 - mae: 22.1103\n",
            "Epoch 15/500\n",
            "2/2 [==============================] - 0s 6ms/step - loss: 19.8442 - mae: 19.8442\n",
            "Epoch 16/500\n",
            "2/2 [==============================] - 0s 6ms/step - loss: 23.1707 - mae: 23.1707\n",
            "Epoch 17/500\n",
            "2/2 [==============================] - 0s 7ms/step - loss: 11.5075 - mae: 11.5075\n",
            "Epoch 18/500\n",
            "2/2 [==============================] - 0s 7ms/step - loss: 29.7742 - mae: 29.7742\n",
            "Epoch 19/500\n",
            "2/2 [==============================] - 0s 6ms/step - loss: 18.4085 - mae: 18.4085\n",
            "Epoch 20/500\n",
            "2/2 [==============================] - 0s 4ms/step - loss: 18.7610 - mae: 18.7610\n",
            "Epoch 21/500\n",
            "2/2 [==============================] - 0s 10ms/step - loss: 19.4369 - mae: 19.4369\n",
            "Epoch 22/500\n",
            "2/2 [==============================] - 0s 6ms/step - loss: 20.5783 - mae: 20.5783\n",
            "Epoch 23/500\n",
            "2/2 [==============================] - 0s 9ms/step - loss: 19.8132 - mae: 19.8132\n",
            "Epoch 24/500\n",
            "2/2 [==============================] - 0s 6ms/step - loss: 18.7247 - mae: 18.7247\n",
            "Epoch 25/500\n",
            "2/2 [==============================] - 0s 4ms/step - loss: 21.7989 - mae: 21.7989\n",
            "Epoch 26/500\n",
            "2/2 [==============================] - 0s 4ms/step - loss: 10.6899 - mae: 10.6899\n",
            "Epoch 27/500\n",
            "2/2 [==============================] - 0s 4ms/step - loss: 30.8423 - mae: 30.8423\n",
            "Epoch 28/500\n",
            "2/2 [==============================] - 0s 7ms/step - loss: 16.5686 - mae: 16.5686\n",
            "Epoch 29/500\n",
            "2/2 [==============================] - 0s 5ms/step - loss: 33.0226 - mae: 33.0226\n",
            "Epoch 30/500\n",
            "2/2 [==============================] - 0s 3ms/step - loss: 19.5703 - mae: 19.5703\n",
            "Epoch 31/500\n",
            "2/2 [==============================] - 0s 6ms/step - loss: 12.5353 - mae: 12.5353\n",
            "Epoch 32/500\n",
            "2/2 [==============================] - 0s 6ms/step - loss: 20.7130 - mae: 20.7130\n",
            "Epoch 33/500\n",
            "2/2 [==============================] - 0s 4ms/step - loss: 20.6412 - mae: 20.6412\n",
            "Epoch 34/500\n",
            "2/2 [==============================] - 0s 4ms/step - loss: 21.2043 - mae: 21.2043\n",
            "Epoch 35/500\n",
            "2/2 [==============================] - 0s 5ms/step - loss: 21.3012 - mae: 21.3012\n",
            "Epoch 36/500\n",
            "2/2 [==============================] - 0s 5ms/step - loss: 18.8072 - mae: 18.8072\n",
            "Epoch 37/500\n",
            "2/2 [==============================] - 0s 6ms/step - loss: 27.4462 - mae: 27.4462\n",
            "Epoch 38/500\n",
            "2/2 [==============================] - 0s 4ms/step - loss: 29.1100 - mae: 29.1100\n",
            "Epoch 39/500\n",
            "2/2 [==============================] - 0s 6ms/step - loss: 20.5542 - mae: 20.5542\n",
            "Epoch 40/500\n",
            "2/2 [==============================] - 0s 8ms/step - loss: 20.6334 - mae: 20.6334\n",
            "Epoch 41/500\n",
            "2/2 [==============================] - 0s 12ms/step - loss: 24.9726 - mae: 24.9726\n",
            "Epoch 42/500\n",
            "2/2 [==============================] - 0s 7ms/step - loss: 20.5609 - mae: 20.5609\n",
            "Epoch 43/500\n",
            "2/2 [==============================] - 0s 5ms/step - loss: 23.1231 - mae: 23.1231\n",
            "Epoch 44/500\n",
            "2/2 [==============================] - 0s 5ms/step - loss: 9.8053 - mae: 9.8053\n",
            "Epoch 45/500\n",
            "2/2 [==============================] - 0s 7ms/step - loss: 22.5487 - mae: 22.5487\n",
            "Epoch 46/500\n",
            "2/2 [==============================] - 0s 6ms/step - loss: 9.2110 - mae: 9.2110\n",
            "Epoch 47/500\n",
            "2/2 [==============================] - 0s 7ms/step - loss: 20.3679 - mae: 20.3679\n",
            "Epoch 48/500\n",
            "2/2 [==============================] - 0s 4ms/step - loss: 8.4309 - mae: 8.4309\n",
            "Epoch 49/500\n",
            "2/2 [==============================] - 0s 6ms/step - loss: 12.6659 - mae: 12.6659\n",
            "Epoch 50/500\n",
            "2/2 [==============================] - 0s 4ms/step - loss: 32.1829 - mae: 32.1829\n",
            "Epoch 51/500\n",
            "2/2 [==============================] - 0s 5ms/step - loss: 16.5208 - mae: 16.5208\n",
            "Epoch 52/500\n",
            "2/2 [==============================] - 0s 6ms/step - loss: 33.7598 - mae: 33.7598\n",
            "Epoch 53/500\n",
            "2/2 [==============================] - 0s 4ms/step - loss: 9.7791 - mae: 9.7791\n",
            "Epoch 54/500\n",
            "2/2 [==============================] - 0s 6ms/step - loss: 11.4445 - mae: 11.4445\n",
            "Epoch 55/500\n",
            "2/2 [==============================] - 0s 8ms/step - loss: 24.6060 - mae: 24.6060\n",
            "Epoch 56/500\n",
            "2/2 [==============================] - 0s 5ms/step - loss: 9.1433 - mae: 9.1433\n",
            "Epoch 57/500\n",
            "2/2 [==============================] - 0s 6ms/step - loss: 11.6297 - mae: 11.6297\n",
            "Epoch 58/500\n",
            "2/2 [==============================] - 0s 6ms/step - loss: 27.3491 - mae: 27.3491\n",
            "Epoch 59/500\n",
            "2/2 [==============================] - 0s 6ms/step - loss: 25.1758 - mae: 25.1758\n",
            "Epoch 60/500\n",
            "2/2 [==============================] - 0s 5ms/step - loss: 11.4501 - mae: 11.4501\n",
            "Epoch 61/500\n",
            "2/2 [==============================] - 0s 6ms/step - loss: 31.5022 - mae: 31.5022\n",
            "Epoch 62/500\n",
            "2/2 [==============================] - 0s 8ms/step - loss: 21.6164 - mae: 21.6164\n",
            "Epoch 63/500\n",
            "2/2 [==============================] - 0s 5ms/step - loss: 9.4131 - mae: 9.4131\n",
            "Epoch 64/500\n",
            "2/2 [==============================] - 0s 6ms/step - loss: 27.2951 - mae: 27.2951\n",
            "Epoch 65/500\n",
            "2/2 [==============================] - 0s 8ms/step - loss: 8.9828 - mae: 8.9828\n",
            "Epoch 66/500\n",
            "2/2 [==============================] - 0s 19ms/step - loss: 9.2362 - mae: 9.2362\n",
            "Epoch 67/500\n",
            "2/2 [==============================] - 0s 10ms/step - loss: 25.8946 - mae: 25.8946\n",
            "Epoch 68/500\n",
            "2/2 [==============================] - 0s 9ms/step - loss: 16.4833 - mae: 16.4833\n",
            "Epoch 69/500\n",
            "2/2 [==============================] - 0s 7ms/step - loss: 25.0206 - mae: 25.0206\n",
            "Epoch 70/500\n",
            "2/2 [==============================] - 0s 8ms/step - loss: 26.0848 - mae: 26.0848\n",
            "Epoch 71/500\n",
            "2/2 [==============================] - 0s 8ms/step - loss: 19.4423 - mae: 19.4423\n",
            "Epoch 72/500\n",
            "2/2 [==============================] - 0s 9ms/step - loss: 25.3501 - mae: 25.3501\n",
            "Epoch 73/500\n",
            "2/2 [==============================] - 0s 7ms/step - loss: 35.7193 - mae: 35.7193\n",
            "Epoch 74/500\n",
            "2/2 [==============================] - 0s 9ms/step - loss: 16.4184 - mae: 16.4184\n",
            "Epoch 75/500\n",
            "2/2 [==============================] - 0s 7ms/step - loss: 30.0560 - mae: 30.0560\n",
            "Epoch 76/500\n",
            "2/2 [==============================] - 0s 14ms/step - loss: 24.7032 - mae: 24.7032\n",
            "Epoch 77/500\n",
            "2/2 [==============================] - 0s 8ms/step - loss: 17.8535 - mae: 17.8535\n",
            "Epoch 78/500\n",
            "2/2 [==============================] - 0s 8ms/step - loss: 23.0873 - mae: 23.0873\n",
            "Epoch 79/500\n",
            "2/2 [==============================] - 0s 7ms/step - loss: 10.0832 - mae: 10.0832\n",
            "Epoch 80/500\n",
            "2/2 [==============================] - 0s 6ms/step - loss: 22.9531 - mae: 22.9531\n",
            "Epoch 81/500\n",
            "2/2 [==============================] - 0s 5ms/step - loss: 26.6186 - mae: 26.6186\n",
            "Epoch 82/500\n",
            "2/2 [==============================] - 0s 5ms/step - loss: 8.7183 - mae: 8.7183\n",
            "Epoch 83/500\n",
            "2/2 [==============================] - 0s 5ms/step - loss: 17.7156 - mae: 17.7156\n",
            "Epoch 84/500\n",
            "2/2 [==============================] - 0s 8ms/step - loss: 21.7822 - mae: 21.7822\n",
            "Epoch 85/500\n",
            "2/2 [==============================] - 0s 13ms/step - loss: 8.5676 - mae: 8.5676\n",
            "Epoch 86/500\n",
            "2/2 [==============================] - 0s 5ms/step - loss: 10.1261 - mae: 10.1261\n",
            "Epoch 87/500\n",
            "2/2 [==============================] - 0s 8ms/step - loss: 33.4657 - mae: 33.4657\n",
            "Epoch 88/500\n",
            "2/2 [==============================] - 0s 10ms/step - loss: 20.4582 - mae: 20.4582\n",
            "Epoch 89/500\n",
            "2/2 [==============================] - 0s 18ms/step - loss: 21.4295 - mae: 21.4295\n",
            "Epoch 90/500\n",
            "2/2 [==============================] - 0s 10ms/step - loss: 40.8004 - mae: 40.8004\n",
            "Epoch 91/500\n",
            "2/2 [==============================] - 0s 4ms/step - loss: 16.7932 - mae: 16.7932\n",
            "Epoch 92/500\n",
            "2/2 [==============================] - 0s 4ms/step - loss: 19.9796 - mae: 19.9796\n",
            "Epoch 93/500\n",
            "2/2 [==============================] - 0s 7ms/step - loss: 20.7641 - mae: 20.7641\n",
            "Epoch 94/500\n",
            "2/2 [==============================] - 0s 6ms/step - loss: 26.1390 - mae: 26.1390\n",
            "Epoch 95/500\n",
            "2/2 [==============================] - 0s 5ms/step - loss: 29.1444 - mae: 29.1444\n",
            "Epoch 96/500\n",
            "2/2 [==============================] - 0s 11ms/step - loss: 20.5376 - mae: 20.5376\n",
            "Epoch 97/500\n",
            "2/2 [==============================] - 0s 4ms/step - loss: 21.5291 - mae: 21.5291\n",
            "Epoch 98/500\n",
            "2/2 [==============================] - 0s 4ms/step - loss: 12.7845 - mae: 12.7845\n",
            "Epoch 99/500\n",
            "2/2 [==============================] - 0s 7ms/step - loss: 16.1075 - mae: 16.1075\n",
            "Epoch 100/500\n",
            "2/2 [==============================] - 0s 4ms/step - loss: 20.3503 - mae: 20.3503\n",
            "Epoch 101/500\n",
            "2/2 [==============================] - 0s 6ms/step - loss: 19.7522 - mae: 19.7522\n",
            "Epoch 102/500\n",
            "2/2 [==============================] - 0s 7ms/step - loss: 22.1510 - mae: 22.1510\n",
            "Epoch 103/500\n",
            "2/2 [==============================] - 0s 8ms/step - loss: 18.4467 - mae: 18.4467\n",
            "Epoch 104/500\n",
            "2/2 [==============================] - 0s 5ms/step - loss: 29.5848 - mae: 29.5848\n",
            "Epoch 105/500\n",
            "2/2 [==============================] - 0s 7ms/step - loss: 20.3813 - mae: 20.3813\n",
            "Epoch 106/500\n",
            "2/2 [==============================] - 0s 4ms/step - loss: 16.3683 - mae: 16.3683\n",
            "Epoch 107/500\n",
            "2/2 [==============================] - 0s 9ms/step - loss: 24.8795 - mae: 24.8795\n",
            "Epoch 108/500\n",
            "2/2 [==============================] - 0s 6ms/step - loss: 37.3015 - mae: 37.3015\n",
            "Epoch 109/500\n",
            "2/2 [==============================] - 0s 7ms/step - loss: 8.3437 - mae: 8.3437\n",
            "Epoch 110/500\n",
            "2/2 [==============================] - 0s 9ms/step - loss: 10.6282 - mae: 10.6282\n",
            "Epoch 111/500\n",
            "2/2 [==============================] - 0s 5ms/step - loss: 34.0729 - mae: 34.0729\n",
            "Epoch 112/500\n",
            "2/2 [==============================] - 0s 8ms/step - loss: 10.3594 - mae: 10.3594\n",
            "Epoch 113/500\n",
            "2/2 [==============================] - 0s 12ms/step - loss: 32.9767 - mae: 32.9767\n",
            "Epoch 114/500\n",
            "2/2 [==============================] - 0s 4ms/step - loss: 20.2792 - mae: 20.2792\n",
            "Epoch 115/500\n",
            "2/2 [==============================] - 0s 5ms/step - loss: 8.2930 - mae: 8.2930\n",
            "Epoch 116/500\n",
            "2/2 [==============================] - 0s 4ms/step - loss: 14.3194 - mae: 14.3194\n",
            "Epoch 117/500\n",
            "2/2 [==============================] - 0s 6ms/step - loss: 20.8604 - mae: 20.8604\n",
            "Epoch 118/500\n",
            "2/2 [==============================] - 0s 7ms/step - loss: 22.8512 - mae: 22.8512\n",
            "Epoch 119/500\n",
            "2/2 [==============================] - 0s 4ms/step - loss: 14.1531 - mae: 14.1531\n",
            "Epoch 120/500\n",
            "2/2 [==============================] - 0s 4ms/step - loss: 24.4288 - mae: 24.4288\n",
            "Epoch 121/500\n",
            "2/2 [==============================] - 0s 5ms/step - loss: 16.9757 - mae: 16.9757\n",
            "Epoch 122/500\n",
            "2/2 [==============================] - 0s 7ms/step - loss: 30.5677 - mae: 30.5677\n",
            "Epoch 123/500\n",
            "2/2 [==============================] - 0s 5ms/step - loss: 22.7694 - mae: 22.7694\n",
            "Epoch 124/500\n",
            "2/2 [==============================] - 0s 4ms/step - loss: 17.1876 - mae: 17.1876\n",
            "Epoch 125/500\n",
            "2/2 [==============================] - 0s 9ms/step - loss: 31.8513 - mae: 31.8513\n",
            "Epoch 126/500\n",
            "2/2 [==============================] - 0s 5ms/step - loss: 22.2556 - mae: 22.2556\n",
            "Epoch 127/500\n",
            "2/2 [==============================] - 0s 8ms/step - loss: 18.3846 - mae: 18.3846\n",
            "Epoch 128/500\n",
            "2/2 [==============================] - 0s 7ms/step - loss: 30.1598 - mae: 30.1598\n",
            "Epoch 129/500\n",
            "2/2 [==============================] - 0s 7ms/step - loss: 25.6530 - mae: 25.6530\n",
            "Epoch 130/500\n",
            "2/2 [==============================] - 0s 8ms/step - loss: 21.0713 - mae: 21.0713\n",
            "Epoch 131/500\n",
            "2/2 [==============================] - 0s 20ms/step - loss: 18.4846 - mae: 18.4846\n",
            "Epoch 132/500\n",
            "2/2 [==============================] - 0s 12ms/step - loss: 27.7685 - mae: 27.7685\n",
            "Epoch 133/500\n",
            "2/2 [==============================] - 0s 8ms/step - loss: 29.3693 - mae: 29.3693\n",
            "Epoch 134/500\n",
            "2/2 [==============================] - 0s 7ms/step - loss: 10.4336 - mae: 10.4336\n",
            "Epoch 135/500\n",
            "2/2 [==============================] - 0s 7ms/step - loss: 19.6114 - mae: 19.6114\n",
            "Epoch 136/500\n",
            "2/2 [==============================] - 0s 5ms/step - loss: 20.3438 - mae: 20.3438\n",
            "Epoch 137/500\n",
            "2/2 [==============================] - 0s 6ms/step - loss: 8.2353 - mae: 8.2353\n",
            "Epoch 138/500\n",
            "2/2 [==============================] - 0s 11ms/step - loss: 10.9121 - mae: 10.9121\n",
            "Epoch 139/500\n",
            "2/2 [==============================] - 0s 5ms/step - loss: 24.4561 - mae: 24.4561\n",
            "Epoch 140/500\n",
            "2/2 [==============================] - 0s 5ms/step - loss: 22.5081 - mae: 22.5081\n",
            "Epoch 141/500\n",
            "2/2 [==============================] - 0s 5ms/step - loss: 18.2518 - mae: 18.2518\n",
            "Epoch 142/500\n",
            "2/2 [==============================] - 0s 8ms/step - loss: 28.5007 - mae: 28.5007\n",
            "Epoch 143/500\n",
            "2/2 [==============================] - 0s 8ms/step - loss: 26.9534 - mae: 26.9534\n",
            "Epoch 144/500\n",
            "2/2 [==============================] - 0s 5ms/step - loss: 8.6424 - mae: 8.6424\n",
            "Epoch 145/500\n",
            "2/2 [==============================] - 0s 9ms/step - loss: 46.6797 - mae: 46.6797\n",
            "Epoch 146/500\n",
            "2/2 [==============================] - 0s 5ms/step - loss: 30.2654 - mae: 30.2654\n",
            "Epoch 147/500\n",
            "2/2 [==============================] - 0s 6ms/step - loss: 7.6527 - mae: 7.6527\n",
            "Epoch 148/500\n",
            "2/2 [==============================] - 0s 12ms/step - loss: 12.8119 - mae: 12.8119\n",
            "Epoch 149/500\n",
            "2/2 [==============================] - 0s 8ms/step - loss: 22.5690 - mae: 22.5690\n",
            "Epoch 150/500\n",
            "2/2 [==============================] - 0s 5ms/step - loss: 32.7371 - mae: 32.7371\n",
            "Epoch 151/500\n",
            "2/2 [==============================] - 0s 12ms/step - loss: 24.8391 - mae: 24.8391\n",
            "Epoch 152/500\n",
            "2/2 [==============================] - 0s 4ms/step - loss: 7.9205 - mae: 7.9205\n",
            "Epoch 153/500\n",
            "2/2 [==============================] - 0s 14ms/step - loss: 12.5864 - mae: 12.5864\n",
            "Epoch 154/500\n",
            "2/2 [==============================] - 0s 5ms/step - loss: 29.0280 - mae: 29.0280\n",
            "Epoch 155/500\n",
            "2/2 [==============================] - 0s 8ms/step - loss: 22.7965 - mae: 22.7965\n",
            "Epoch 156/500\n",
            "2/2 [==============================] - 0s 7ms/step - loss: 11.4236 - mae: 11.4236\n",
            "Epoch 157/500\n",
            "2/2 [==============================] - 0s 5ms/step - loss: 17.0573 - mae: 17.0573\n",
            "Epoch 158/500\n",
            "2/2 [==============================] - 0s 9ms/step - loss: 17.7739 - mae: 17.7739\n",
            "Epoch 159/500\n",
            "2/2 [==============================] - 0s 8ms/step - loss: 21.6004 - mae: 21.6004\n",
            "Epoch 160/500\n",
            "2/2 [==============================] - 0s 5ms/step - loss: 19.9994 - mae: 19.9994\n",
            "Epoch 161/500\n",
            "2/2 [==============================] - 0s 10ms/step - loss: 21.8941 - mae: 21.8941\n",
            "Epoch 162/500\n",
            "2/2 [==============================] - 0s 7ms/step - loss: 41.7726 - mae: 41.7726\n",
            "Epoch 163/500\n",
            "2/2 [==============================] - 0s 6ms/step - loss: 7.6687 - mae: 7.6687\n",
            "Epoch 164/500\n",
            "2/2 [==============================] - 0s 8ms/step - loss: 29.3091 - mae: 29.3091\n",
            "Epoch 165/500\n",
            "2/2 [==============================] - 0s 7ms/step - loss: 18.4930 - mae: 18.4930\n",
            "Epoch 166/500\n",
            "2/2 [==============================] - 0s 6ms/step - loss: 25.4489 - mae: 25.4489\n",
            "Epoch 167/500\n",
            "2/2 [==============================] - 0s 10ms/step - loss: 28.5472 - mae: 28.5472\n",
            "Epoch 168/500\n",
            "2/2 [==============================] - 0s 7ms/step - loss: 9.6701 - mae: 9.6701\n",
            "Epoch 169/500\n",
            "2/2 [==============================] - 0s 13ms/step - loss: 30.2756 - mae: 30.2756\n",
            "Epoch 170/500\n",
            "2/2 [==============================] - 0s 10ms/step - loss: 21.7636 - mae: 21.7636\n",
            "Epoch 171/500\n",
            "2/2 [==============================] - 0s 8ms/step - loss: 7.4054 - mae: 7.4054\n",
            "Epoch 172/500\n",
            "2/2 [==============================] - 0s 11ms/step - loss: 18.7499 - mae: 18.7499\n",
            "Epoch 173/500\n",
            "2/2 [==============================] - 0s 8ms/step - loss: 17.9618 - mae: 17.9618\n",
            "Epoch 174/500\n",
            "2/2 [==============================] - 0s 6ms/step - loss: 26.7143 - mae: 26.7143\n",
            "Epoch 175/500\n",
            "2/2 [==============================] - 0s 6ms/step - loss: 27.1674 - mae: 27.1674\n",
            "Epoch 176/500\n",
            "2/2 [==============================] - 0s 6ms/step - loss: 8.2354 - mae: 8.2354\n",
            "Epoch 177/500\n",
            "2/2 [==============================] - 0s 4ms/step - loss: 23.4059 - mae: 23.4059\n",
            "Epoch 178/500\n",
            "2/2 [==============================] - 0s 5ms/step - loss: 19.9662 - mae: 19.9662\n",
            "Epoch 179/500\n",
            "2/2 [==============================] - 0s 4ms/step - loss: 22.1982 - mae: 22.1982\n",
            "Epoch 180/500\n",
            "2/2 [==============================] - 0s 4ms/step - loss: 9.0518 - mae: 9.0518\n",
            "Epoch 181/500\n",
            "2/2 [==============================] - 0s 4ms/step - loss: 28.9498 - mae: 28.9498\n",
            "Epoch 182/500\n",
            "2/2 [==============================] - 0s 5ms/step - loss: 26.5810 - mae: 26.5810\n",
            "Epoch 183/500\n",
            "2/2 [==============================] - 0s 4ms/step - loss: 10.7862 - mae: 10.7862\n",
            "Epoch 184/500\n",
            "2/2 [==============================] - 0s 8ms/step - loss: 41.5504 - mae: 41.5504\n",
            "Epoch 185/500\n",
            "2/2 [==============================] - 0s 4ms/step - loss: 7.4052 - mae: 7.4052\n",
            "Epoch 186/500\n",
            "2/2 [==============================] - 0s 6ms/step - loss: 31.3832 - mae: 31.3832\n",
            "Epoch 187/500\n",
            "2/2 [==============================] - 0s 4ms/step - loss: 20.0894 - mae: 20.0894\n",
            "Epoch 188/500\n",
            "2/2 [==============================] - 0s 4ms/step - loss: 22.6571 - mae: 22.6571\n",
            "Epoch 189/500\n",
            "2/2 [==============================] - 0s 7ms/step - loss: 34.1371 - mae: 34.1371\n",
            "Epoch 190/500\n",
            "2/2 [==============================] - 0s 4ms/step - loss: 7.7651 - mae: 7.7651\n",
            "Epoch 191/500\n",
            "2/2 [==============================] - 0s 4ms/step - loss: 24.4590 - mae: 24.4590\n",
            "Epoch 192/500\n",
            "2/2 [==============================] - 0s 13ms/step - loss: 16.6093 - mae: 16.6093\n",
            "Epoch 193/500\n",
            "2/2 [==============================] - 0s 23ms/step - loss: 17.7517 - mae: 17.7517\n",
            "Epoch 194/500\n",
            "2/2 [==============================] - 0s 6ms/step - loss: 25.7845 - mae: 25.7845\n",
            "Epoch 195/500\n",
            "2/2 [==============================] - 0s 5ms/step - loss: 32.7777 - mae: 32.7777\n",
            "Epoch 196/500\n",
            "2/2 [==============================] - 0s 6ms/step - loss: 7.3167 - mae: 7.3167\n",
            "Epoch 197/500\n",
            "2/2 [==============================] - 0s 21ms/step - loss: 21.8452 - mae: 21.8452\n",
            "Epoch 198/500\n",
            "2/2 [==============================] - 0s 6ms/step - loss: 17.1752 - mae: 17.1752\n",
            "Epoch 199/500\n",
            "2/2 [==============================] - 0s 6ms/step - loss: 26.5665 - mae: 26.5665\n",
            "Epoch 200/500\n",
            "2/2 [==============================] - 0s 7ms/step - loss: 28.7749 - mae: 28.7749\n",
            "Epoch 201/500\n",
            "2/2 [==============================] - 0s 9ms/step - loss: 12.7862 - mae: 12.7862\n",
            "Epoch 202/500\n",
            "2/2 [==============================] - 0s 5ms/step - loss: 20.1418 - mae: 20.1418\n",
            "Epoch 203/500\n",
            "2/2 [==============================] - 0s 6ms/step - loss: 7.2837 - mae: 7.2837\n",
            "Epoch 204/500\n",
            "2/2 [==============================] - 0s 5ms/step - loss: 6.7697 - mae: 6.7697\n",
            "Epoch 205/500\n",
            "2/2 [==============================] - 0s 7ms/step - loss: 17.2255 - mae: 17.2255\n",
            "Epoch 206/500\n",
            "2/2 [==============================] - 0s 5ms/step - loss: 20.3294 - mae: 20.3294\n",
            "Epoch 207/500\n",
            "2/2 [==============================] - 0s 6ms/step - loss: 19.7897 - mae: 19.7897\n",
            "Epoch 208/500\n",
            "2/2 [==============================] - 0s 16ms/step - loss: 6.8847 - mae: 6.8847\n",
            "Epoch 209/500\n",
            "2/2 [==============================] - 0s 5ms/step - loss: 21.5200 - mae: 21.5200\n",
            "Epoch 210/500\n",
            "2/2 [==============================] - 0s 6ms/step - loss: 20.6663 - mae: 20.6663\n",
            "Epoch 211/500\n",
            "2/2 [==============================] - 0s 6ms/step - loss: 17.1486 - mae: 17.1486\n",
            "Epoch 212/500\n",
            "2/2 [==============================] - 0s 6ms/step - loss: 20.9322 - mae: 20.9322\n",
            "Epoch 213/500\n",
            "2/2 [==============================] - 0s 6ms/step - loss: 21.4507 - mae: 21.4507\n",
            "Epoch 214/500\n",
            "2/2 [==============================] - 0s 5ms/step - loss: 12.8211 - mae: 12.8211\n",
            "Epoch 215/500\n",
            "2/2 [==============================] - 0s 9ms/step - loss: 20.1186 - mae: 20.1186\n",
            "Epoch 216/500\n",
            "2/2 [==============================] - 0s 10ms/step - loss: 17.5226 - mae: 17.5226\n",
            "Epoch 217/500\n",
            "2/2 [==============================] - 0s 10ms/step - loss: 32.9686 - mae: 32.9686\n",
            "Epoch 218/500\n",
            "2/2 [==============================] - 0s 8ms/step - loss: 16.6235 - mae: 16.6235\n",
            "Epoch 219/500\n",
            "2/2 [==============================] - 0s 12ms/step - loss: 16.4191 - mae: 16.4191\n",
            "Epoch 220/500\n",
            "2/2 [==============================] - 0s 4ms/step - loss: 29.3139 - mae: 29.3139\n",
            "Epoch 221/500\n",
            "2/2 [==============================] - 0s 5ms/step - loss: 24.5831 - mae: 24.5831\n",
            "Epoch 222/500\n",
            "2/2 [==============================] - 0s 16ms/step - loss: 19.7211 - mae: 19.7211\n",
            "Epoch 223/500\n",
            "2/2 [==============================] - 0s 5ms/step - loss: 24.3659 - mae: 24.3659\n",
            "Epoch 224/500\n",
            "2/2 [==============================] - 0s 7ms/step - loss: 33.5391 - mae: 33.5391\n",
            "Epoch 225/500\n",
            "2/2 [==============================] - 0s 5ms/step - loss: 7.8425 - mae: 7.8425\n",
            "Epoch 226/500\n",
            "2/2 [==============================] - 0s 5ms/step - loss: 26.2384 - mae: 26.2384\n",
            "Epoch 227/500\n",
            "2/2 [==============================] - 0s 5ms/step - loss: 18.7623 - mae: 18.7623\n",
            "Epoch 228/500\n",
            "2/2 [==============================] - 0s 10ms/step - loss: 19.2310 - mae: 19.2310\n",
            "Epoch 229/500\n",
            "2/2 [==============================] - 0s 5ms/step - loss: 6.5176 - mae: 6.5176\n",
            "Epoch 230/500\n",
            "2/2 [==============================] - 0s 4ms/step - loss: 12.5517 - mae: 12.5517\n",
            "Epoch 231/500\n",
            "2/2 [==============================] - 0s 5ms/step - loss: 17.9402 - mae: 17.9402\n",
            "Epoch 232/500\n",
            "2/2 [==============================] - 0s 8ms/step - loss: 26.1758 - mae: 26.1758\n",
            "Epoch 233/500\n",
            "2/2 [==============================] - 0s 5ms/step - loss: 31.8861 - mae: 31.8861\n",
            "Epoch 234/500\n",
            "2/2 [==============================] - 0s 5ms/step - loss: 17.8869 - mae: 17.8869\n",
            "Epoch 235/500\n",
            "2/2 [==============================] - 0s 5ms/step - loss: 22.6936 - mae: 22.6936\n",
            "Epoch 236/500\n",
            "2/2 [==============================] - 0s 5ms/step - loss: 34.8167 - mae: 34.8167\n",
            "Epoch 237/500\n",
            "2/2 [==============================] - 0s 5ms/step - loss: 7.1689 - mae: 7.1689\n",
            "Epoch 238/500\n",
            "2/2 [==============================] - 0s 4ms/step - loss: 18.1315 - mae: 18.1315\n",
            "Epoch 239/500\n",
            "2/2 [==============================] - 0s 8ms/step - loss: 24.4179 - mae: 24.4179\n",
            "Epoch 240/500\n",
            "2/2 [==============================] - 0s 9ms/step - loss: 32.0025 - mae: 32.0025\n",
            "Epoch 241/500\n",
            "2/2 [==============================] - 0s 6ms/step - loss: 11.4592 - mae: 11.4592\n",
            "Epoch 242/500\n",
            "2/2 [==============================] - 0s 5ms/step - loss: 22.2471 - mae: 22.2471\n",
            "Epoch 243/500\n",
            "2/2 [==============================] - 0s 9ms/step - loss: 20.0678 - mae: 20.0678\n",
            "Epoch 244/500\n",
            "2/2 [==============================] - 0s 7ms/step - loss: 20.1354 - mae: 20.1354\n",
            "Epoch 245/500\n",
            "2/2 [==============================] - 0s 6ms/step - loss: 23.2072 - mae: 23.2072\n",
            "Epoch 246/500\n",
            "2/2 [==============================] - 0s 5ms/step - loss: 18.1322 - mae: 18.1322\n",
            "Epoch 247/500\n",
            "2/2 [==============================] - 0s 6ms/step - loss: 23.0546 - mae: 23.0546\n",
            "Epoch 248/500\n",
            "2/2 [==============================] - 0s 6ms/step - loss: 19.4493 - mae: 19.4493\n",
            "Epoch 249/500\n",
            "2/2 [==============================] - 0s 7ms/step - loss: 25.6628 - mae: 25.6628\n",
            "Epoch 250/500\n",
            "2/2 [==============================] - 0s 8ms/step - loss: 32.4600 - mae: 32.4600\n",
            "Epoch 251/500\n",
            "2/2 [==============================] - 0s 5ms/step - loss: 13.2139 - mae: 13.2139\n",
            "Epoch 252/500\n",
            "2/2 [==============================] - 0s 6ms/step - loss: 21.4469 - mae: 21.4469\n",
            "Epoch 253/500\n",
            "2/2 [==============================] - 0s 7ms/step - loss: 9.9892 - mae: 9.9892\n",
            "Epoch 254/500\n",
            "2/2 [==============================] - 0s 6ms/step - loss: 25.9302 - mae: 25.9302\n",
            "Epoch 255/500\n",
            "2/2 [==============================] - 0s 5ms/step - loss: 31.8003 - mae: 31.8003\n",
            "Epoch 256/500\n",
            "2/2 [==============================] - 0s 9ms/step - loss: 20.0770 - mae: 20.0770\n",
            "Epoch 257/500\n",
            "2/2 [==============================] - 0s 9ms/step - loss: 22.6243 - mae: 22.6243\n",
            "Epoch 258/500\n",
            "2/2 [==============================] - 0s 5ms/step - loss: 16.9559 - mae: 16.9559\n",
            "Epoch 259/500\n",
            "2/2 [==============================] - 0s 10ms/step - loss: 20.4183 - mae: 20.4183\n",
            "Epoch 260/500\n",
            "2/2 [==============================] - 0s 5ms/step - loss: 22.9805 - mae: 22.9805\n",
            "Epoch 261/500\n",
            "2/2 [==============================] - 0s 15ms/step - loss: 17.3856 - mae: 17.3856\n",
            "Epoch 262/500\n",
            "2/2 [==============================] - 0s 7ms/step - loss: 28.9113 - mae: 28.9113\n",
            "Epoch 263/500\n",
            "2/2 [==============================] - 0s 5ms/step - loss: 27.3538 - mae: 27.3538\n",
            "Epoch 264/500\n",
            "2/2 [==============================] - 0s 8ms/step - loss: 20.3569 - mae: 20.3569\n",
            "Epoch 265/500\n",
            "2/2 [==============================] - 0s 9ms/step - loss: 28.4737 - mae: 28.4737\n",
            "Epoch 266/500\n",
            "2/2 [==============================] - 0s 9ms/step - loss: 29.1336 - mae: 29.1336\n",
            "Epoch 267/500\n",
            "2/2 [==============================] - 0s 9ms/step - loss: 18.8635 - mae: 18.8635\n",
            "Epoch 268/500\n",
            "2/2 [==============================] - 0s 9ms/step - loss: 19.6804 - mae: 19.6804\n",
            "Epoch 269/500\n",
            "2/2 [==============================] - 0s 6ms/step - loss: 6.5944 - mae: 6.5944\n",
            "Epoch 270/500\n",
            "2/2 [==============================] - 0s 14ms/step - loss: 20.2835 - mae: 20.2835\n",
            "Epoch 271/500\n",
            "2/2 [==============================] - 0s 11ms/step - loss: 19.7645 - mae: 19.7645\n",
            "Epoch 272/500\n",
            "2/2 [==============================] - 0s 5ms/step - loss: 29.1535 - mae: 29.1535\n",
            "Epoch 273/500\n",
            "2/2 [==============================] - 0s 5ms/step - loss: 23.4915 - mae: 23.4915\n",
            "Epoch 274/500\n",
            "2/2 [==============================] - 0s 5ms/step - loss: 14.0699 - mae: 14.0699\n",
            "Epoch 275/500\n",
            "2/2 [==============================] - 0s 12ms/step - loss: 29.7059 - mae: 29.7059\n",
            "Epoch 276/500\n",
            "2/2 [==============================] - 0s 5ms/step - loss: 24.4510 - mae: 24.4510\n",
            "Epoch 277/500\n",
            "2/2 [==============================] - 0s 5ms/step - loss: 6.3705 - mae: 6.3705\n",
            "Epoch 278/500\n",
            "2/2 [==============================] - 0s 4ms/step - loss: 6.6775 - mae: 6.6775\n",
            "Epoch 279/500\n",
            "2/2 [==============================] - 0s 5ms/step - loss: 23.0180 - mae: 23.0180\n",
            "Epoch 280/500\n",
            "2/2 [==============================] - 0s 6ms/step - loss: 19.2516 - mae: 19.2516\n",
            "Epoch 281/500\n",
            "2/2 [==============================] - 0s 5ms/step - loss: 22.5199 - mae: 22.5199\n",
            "Epoch 282/500\n",
            "2/2 [==============================] - 0s 7ms/step - loss: 36.2022 - mae: 36.2022\n",
            "Epoch 283/500\n",
            "2/2 [==============================] - 0s 10ms/step - loss: 18.1491 - mae: 18.1491\n",
            "Epoch 284/500\n",
            "2/2 [==============================] - 0s 4ms/step - loss: 21.0469 - mae: 21.0469\n",
            "Epoch 285/500\n",
            "2/2 [==============================] - 0s 4ms/step - loss: 18.6950 - mae: 18.6950\n",
            "Epoch 286/500\n",
            "2/2 [==============================] - 0s 6ms/step - loss: 6.8121 - mae: 6.8121\n",
            "Epoch 287/500\n",
            "2/2 [==============================] - 0s 6ms/step - loss: 33.6175 - mae: 33.6175\n",
            "Epoch 288/500\n",
            "2/2 [==============================] - 0s 4ms/step - loss: 8.8245 - mae: 8.8245\n",
            "Epoch 289/500\n",
            "2/2 [==============================] - 0s 4ms/step - loss: 27.3448 - mae: 27.3448\n",
            "Epoch 290/500\n",
            "2/2 [==============================] - 0s 5ms/step - loss: 8.7749 - mae: 8.7749\n",
            "Epoch 291/500\n",
            "2/2 [==============================] - 0s 5ms/step - loss: 31.6021 - mae: 31.6021\n",
            "Epoch 292/500\n",
            "2/2 [==============================] - 0s 5ms/step - loss: 17.4170 - mae: 17.4170\n",
            "Epoch 293/500\n",
            "2/2 [==============================] - 0s 7ms/step - loss: 19.3982 - mae: 19.3982\n",
            "Epoch 294/500\n",
            "2/2 [==============================] - 0s 7ms/step - loss: 20.5730 - mae: 20.5730\n",
            "Epoch 295/500\n",
            "2/2 [==============================] - 0s 6ms/step - loss: 41.4681 - mae: 41.4681\n",
            "Epoch 296/500\n",
            "2/2 [==============================] - 0s 9ms/step - loss: 19.9577 - mae: 19.9577\n",
            "Epoch 297/500\n",
            "2/2 [==============================] - 0s 13ms/step - loss: 19.6127 - mae: 19.6127\n",
            "Epoch 298/500\n",
            "2/2 [==============================] - 0s 20ms/step - loss: 21.2449 - mae: 21.2449\n",
            "Epoch 299/500\n",
            "2/2 [==============================] - 0s 5ms/step - loss: 5.8430 - mae: 5.8430\n",
            "Epoch 300/500\n",
            "2/2 [==============================] - 0s 19ms/step - loss: 5.7764 - mae: 5.7764\n",
            "Epoch 301/500\n",
            "2/2 [==============================] - 0s 6ms/step - loss: 18.0872 - mae: 18.0872\n",
            "Epoch 302/500\n",
            "2/2 [==============================] - 0s 5ms/step - loss: 8.2738 - mae: 8.2738\n",
            "Epoch 303/500\n",
            "2/2 [==============================] - 0s 7ms/step - loss: 29.6155 - mae: 29.6155\n",
            "Epoch 304/500\n",
            "2/2 [==============================] - 0s 7ms/step - loss: 27.0268 - mae: 27.0268\n",
            "Epoch 305/500\n",
            "2/2 [==============================] - 0s 10ms/step - loss: 18.1674 - mae: 18.1674\n",
            "Epoch 306/500\n",
            "2/2 [==============================] - 0s 9ms/step - loss: 22.5624 - mae: 22.5624\n",
            "Epoch 307/500\n",
            "2/2 [==============================] - 0s 9ms/step - loss: 32.2819 - mae: 32.2819\n",
            "Epoch 308/500\n",
            "2/2 [==============================] - 0s 12ms/step - loss: 15.1831 - mae: 15.1831\n",
            "Epoch 309/500\n",
            "2/2 [==============================] - 0s 7ms/step - loss: 18.8342 - mae: 18.8342\n",
            "Epoch 310/500\n",
            "2/2 [==============================] - 0s 6ms/step - loss: 21.5519 - mae: 21.5519\n",
            "Epoch 311/500\n",
            "2/2 [==============================] - 0s 5ms/step - loss: 24.8194 - mae: 24.8194\n",
            "Epoch 312/500\n",
            "2/2 [==============================] - 0s 12ms/step - loss: 5.7585 - mae: 5.7585\n",
            "Epoch 313/500\n",
            "2/2 [==============================] - 0s 12ms/step - loss: 15.9954 - mae: 15.9954\n",
            "Epoch 314/500\n",
            "2/2 [==============================] - 0s 13ms/step - loss: 36.8301 - mae: 36.8301\n",
            "Epoch 315/500\n",
            "2/2 [==============================] - 0s 7ms/step - loss: 6.1339 - mae: 6.1339\n",
            "Epoch 316/500\n",
            "2/2 [==============================] - 0s 6ms/step - loss: 19.6802 - mae: 19.6802\n",
            "Epoch 317/500\n",
            "2/2 [==============================] - 0s 10ms/step - loss: 29.7892 - mae: 29.7892\n",
            "Epoch 318/500\n",
            "2/2 [==============================] - 0s 16ms/step - loss: 25.8272 - mae: 25.8272\n",
            "Epoch 319/500\n",
            "2/2 [==============================] - 0s 7ms/step - loss: 14.0596 - mae: 14.0596\n",
            "Epoch 320/500\n",
            "2/2 [==============================] - 0s 7ms/step - loss: 23.9893 - mae: 23.9893\n",
            "Epoch 321/500\n",
            "2/2 [==============================] - 0s 6ms/step - loss: 28.9728 - mae: 28.9728\n",
            "Epoch 322/500\n",
            "2/2 [==============================] - 0s 5ms/step - loss: 20.7924 - mae: 20.7924\n",
            "Epoch 323/500\n",
            "2/2 [==============================] - 0s 8ms/step - loss: 20.9998 - mae: 20.9998\n",
            "Epoch 324/500\n",
            "2/2 [==============================] - 0s 5ms/step - loss: 22.8198 - mae: 22.8198\n",
            "Epoch 325/500\n",
            "2/2 [==============================] - 0s 5ms/step - loss: 36.2364 - mae: 36.2364\n",
            "Epoch 326/500\n",
            "2/2 [==============================] - 0s 11ms/step - loss: 7.6788 - mae: 7.6788\n",
            "Epoch 327/500\n",
            "2/2 [==============================] - 0s 5ms/step - loss: 39.7529 - mae: 39.7529\n",
            "Epoch 328/500\n",
            "2/2 [==============================] - 0s 4ms/step - loss: 17.2325 - mae: 17.2325\n",
            "Epoch 329/500\n",
            "2/2 [==============================] - 0s 6ms/step - loss: 21.7246 - mae: 21.7246\n",
            "Epoch 330/500\n",
            "2/2 [==============================] - 0s 5ms/step - loss: 38.7492 - mae: 38.7492\n",
            "Epoch 331/500\n",
            "2/2 [==============================] - 0s 13ms/step - loss: 14.8194 - mae: 14.8194\n",
            "Epoch 332/500\n",
            "2/2 [==============================] - 0s 5ms/step - loss: 12.0051 - mae: 12.0051\n",
            "Epoch 333/500\n",
            "2/2 [==============================] - 0s 17ms/step - loss: 25.0764 - mae: 25.0764\n",
            "Epoch 334/500\n",
            "2/2 [==============================] - 0s 5ms/step - loss: 31.9654 - mae: 31.9654\n",
            "Epoch 335/500\n",
            "2/2 [==============================] - 0s 11ms/step - loss: 17.9395 - mae: 17.9395\n",
            "Epoch 336/500\n",
            "2/2 [==============================] - 0s 4ms/step - loss: 24.6294 - mae: 24.6294\n",
            "Epoch 337/500\n",
            "2/2 [==============================] - 0s 7ms/step - loss: 26.7831 - mae: 26.7831\n",
            "Epoch 338/500\n",
            "2/2 [==============================] - 0s 6ms/step - loss: 17.0856 - mae: 17.0856\n",
            "Epoch 339/500\n",
            "2/2 [==============================] - 0s 9ms/step - loss: 6.1791 - mae: 6.1791\n",
            "Epoch 340/500\n",
            "2/2 [==============================] - 0s 4ms/step - loss: 20.9639 - mae: 20.9639\n",
            "Epoch 341/500\n",
            "2/2 [==============================] - 0s 6ms/step - loss: 17.8731 - mae: 17.8731\n",
            "Epoch 342/500\n",
            "2/2 [==============================] - 0s 10ms/step - loss: 22.1612 - mae: 22.1612\n",
            "Epoch 343/500\n",
            "2/2 [==============================] - 0s 6ms/step - loss: 6.4148 - mae: 6.4148\n",
            "Epoch 344/500\n",
            "2/2 [==============================] - 0s 4ms/step - loss: 51.7194 - mae: 51.7194\n",
            "Epoch 345/500\n",
            "2/2 [==============================] - 0s 5ms/step - loss: 21.2431 - mae: 21.2431\n",
            "Epoch 346/500\n",
            "2/2 [==============================] - 0s 4ms/step - loss: 21.8731 - mae: 21.8731\n",
            "Epoch 347/500\n",
            "2/2 [==============================] - 0s 7ms/step - loss: 34.2658 - mae: 34.2658\n",
            "Epoch 348/500\n",
            "2/2 [==============================] - 0s 7ms/step - loss: 19.8762 - mae: 19.8762\n",
            "Epoch 349/500\n",
            "2/2 [==============================] - 0s 5ms/step - loss: 15.2878 - mae: 15.2878\n",
            "Epoch 350/500\n",
            "2/2 [==============================] - 0s 7ms/step - loss: 19.1410 - mae: 19.1410\n",
            "Epoch 351/500\n",
            "2/2 [==============================] - 0s 5ms/step - loss: 27.4990 - mae: 27.4990\n",
            "Epoch 352/500\n",
            "2/2 [==============================] - 0s 6ms/step - loss: 26.1631 - mae: 26.1631\n",
            "Epoch 353/500\n",
            "2/2 [==============================] - 0s 6ms/step - loss: 6.9500 - mae: 6.9500\n",
            "Epoch 354/500\n",
            "2/2 [==============================] - 0s 4ms/step - loss: 25.2524 - mae: 25.2524\n",
            "Epoch 355/500\n",
            "2/2 [==============================] - 0s 4ms/step - loss: 30.2375 - mae: 30.2375\n",
            "Epoch 356/500\n",
            "2/2 [==============================] - 0s 14ms/step - loss: 13.2246 - mae: 13.2246\n",
            "Epoch 357/500\n",
            "2/2 [==============================] - 0s 6ms/step - loss: 21.4281 - mae: 21.4281\n",
            "Epoch 358/500\n",
            "2/2 [==============================] - 0s 14ms/step - loss: 20.2180 - mae: 20.2180\n",
            "Epoch 359/500\n",
            "2/2 [==============================] - 0s 9ms/step - loss: 19.0666 - mae: 19.0666\n",
            "Epoch 360/500\n",
            "2/2 [==============================] - 0s 11ms/step - loss: 26.7396 - mae: 26.7396\n",
            "Epoch 361/500\n",
            "2/2 [==============================] - 0s 18ms/step - loss: 29.4330 - mae: 29.4330\n",
            "Epoch 362/500\n",
            "2/2 [==============================] - 0s 10ms/step - loss: 13.7623 - mae: 13.7623\n",
            "Epoch 363/500\n",
            "2/2 [==============================] - 0s 6ms/step - loss: 8.0731 - mae: 8.0731\n",
            "Epoch 364/500\n",
            "2/2 [==============================] - 0s 5ms/step - loss: 28.3173 - mae: 28.3173\n",
            "Epoch 365/500\n",
            "2/2 [==============================] - 0s 7ms/step - loss: 28.7115 - mae: 28.7115\n",
            "Epoch 366/500\n",
            "2/2 [==============================] - 0s 12ms/step - loss: 19.1706 - mae: 19.1706\n",
            "Epoch 367/500\n",
            "2/2 [==============================] - 0s 8ms/step - loss: 18.8773 - mae: 18.8773\n",
            "Epoch 368/500\n",
            "2/2 [==============================] - 0s 11ms/step - loss: 27.5180 - mae: 27.5180\n",
            "Epoch 369/500\n",
            "2/2 [==============================] - 0s 11ms/step - loss: 30.8197 - mae: 30.8197\n",
            "Epoch 370/500\n",
            "2/2 [==============================] - 0s 7ms/step - loss: 16.5256 - mae: 16.5256\n",
            "Epoch 371/500\n",
            "2/2 [==============================] - 0s 13ms/step - loss: 20.1733 - mae: 20.1733\n",
            "Epoch 372/500\n",
            "2/2 [==============================] - 0s 12ms/step - loss: 17.6318 - mae: 17.6318\n",
            "Epoch 373/500\n",
            "2/2 [==============================] - 0s 8ms/step - loss: 23.7539 - mae: 23.7539\n",
            "Epoch 374/500\n",
            "2/2 [==============================] - 0s 7ms/step - loss: 39.7083 - mae: 39.7083\n",
            "Epoch 375/500\n",
            "2/2 [==============================] - 0s 8ms/step - loss: 13.7830 - mae: 13.7830\n",
            "Epoch 376/500\n",
            "2/2 [==============================] - 0s 6ms/step - loss: 24.4866 - mae: 24.4866\n",
            "Epoch 377/500\n",
            "2/2 [==============================] - 0s 6ms/step - loss: 37.0238 - mae: 37.0238\n",
            "Epoch 378/500\n",
            "2/2 [==============================] - 0s 6ms/step - loss: 20.6433 - mae: 20.6433\n",
            "Epoch 379/500\n",
            "2/2 [==============================] - 0s 5ms/step - loss: 21.2150 - mae: 21.2150\n",
            "Epoch 380/500\n",
            "2/2 [==============================] - 0s 7ms/step - loss: 19.1139 - mae: 19.1139\n",
            "Epoch 381/500\n",
            "2/2 [==============================] - 0s 6ms/step - loss: 26.3562 - mae: 26.3562\n",
            "Epoch 382/500\n",
            "2/2 [==============================] - 0s 4ms/step - loss: 29.0992 - mae: 29.0992\n",
            "Epoch 383/500\n",
            "2/2 [==============================] - 0s 7ms/step - loss: 19.1016 - mae: 19.1016\n",
            "Epoch 384/500\n",
            "2/2 [==============================] - 0s 9ms/step - loss: 17.0832 - mae: 17.0832\n",
            "Epoch 385/500\n",
            "2/2 [==============================] - 0s 8ms/step - loss: 28.5589 - mae: 28.5589\n",
            "Epoch 386/500\n",
            "2/2 [==============================] - 0s 4ms/step - loss: 4.8219 - mae: 4.8219\n",
            "Epoch 387/500\n",
            "2/2 [==============================] - 0s 12ms/step - loss: 12.8862 - mae: 12.8862\n",
            "Epoch 388/500\n",
            "2/2 [==============================] - 0s 15ms/step - loss: 24.0228 - mae: 24.0228\n",
            "Epoch 389/500\n",
            "2/2 [==============================] - 0s 4ms/step - loss: 38.5181 - mae: 38.5181\n",
            "Epoch 390/500\n",
            "2/2 [==============================] - 0s 4ms/step - loss: 10.5960 - mae: 10.5960\n",
            "Epoch 391/500\n",
            "2/2 [==============================] - 0s 4ms/step - loss: 33.2991 - mae: 33.2991\n",
            "Epoch 392/500\n",
            "2/2 [==============================] - 0s 5ms/step - loss: 18.0840 - mae: 18.0840\n",
            "Epoch 393/500\n",
            "2/2 [==============================] - 0s 5ms/step - loss: 31.7734 - mae: 31.7734\n",
            "Epoch 394/500\n",
            "2/2 [==============================] - 0s 9ms/step - loss: 21.3811 - mae: 21.3811\n",
            "Epoch 395/500\n",
            "2/2 [==============================] - 0s 9ms/step - loss: 19.4699 - mae: 19.4699\n",
            "Epoch 396/500\n",
            "2/2 [==============================] - 0s 5ms/step - loss: 30.6705 - mae: 30.6705\n",
            "Epoch 397/500\n",
            "2/2 [==============================] - 0s 8ms/step - loss: 19.4862 - mae: 19.4862\n",
            "Epoch 398/500\n",
            "2/2 [==============================] - 0s 10ms/step - loss: 16.0859 - mae: 16.0859\n",
            "Epoch 399/500\n",
            "2/2 [==============================] - 0s 6ms/step - loss: 29.7499 - mae: 29.7499\n",
            "Epoch 400/500\n",
            "2/2 [==============================] - 0s 12ms/step - loss: 23.3923 - mae: 23.3923\n",
            "Epoch 401/500\n",
            "2/2 [==============================] - 0s 14ms/step - loss: 20.0637 - mae: 20.0637\n",
            "Epoch 402/500\n",
            "2/2 [==============================] - 0s 5ms/step - loss: 23.1267 - mae: 23.1267\n",
            "Epoch 403/500\n",
            "2/2 [==============================] - 0s 12ms/step - loss: 36.6277 - mae: 36.6277\n",
            "Epoch 404/500\n",
            "2/2 [==============================] - 0s 10ms/step - loss: 19.2031 - mae: 19.2031\n",
            "Epoch 405/500\n",
            "2/2 [==============================] - 0s 17ms/step - loss: 19.6495 - mae: 19.6495\n",
            "Epoch 406/500\n",
            "2/2 [==============================] - 0s 7ms/step - loss: 27.4163 - mae: 27.4163\n",
            "Epoch 407/500\n",
            "2/2 [==============================] - 0s 4ms/step - loss: 28.8632 - mae: 28.8632\n",
            "Epoch 408/500\n",
            "2/2 [==============================] - 0s 4ms/step - loss: 19.4376 - mae: 19.4376\n",
            "Epoch 409/500\n",
            "2/2 [==============================] - 0s 5ms/step - loss: 19.7425 - mae: 19.7425\n",
            "Epoch 410/500\n",
            "2/2 [==============================] - 0s 10ms/step - loss: 32.0408 - mae: 32.0408\n",
            "Epoch 411/500\n",
            "2/2 [==============================] - 0s 8ms/step - loss: 15.4337 - mae: 15.4337\n",
            "Epoch 412/500\n",
            "2/2 [==============================] - 0s 6ms/step - loss: 18.8404 - mae: 18.8404\n",
            "Epoch 413/500\n",
            "2/2 [==============================] - 0s 5ms/step - loss: 30.5561 - mae: 30.5561\n",
            "Epoch 414/500\n",
            "2/2 [==============================] - 0s 6ms/step - loss: 20.1303 - mae: 20.1303\n",
            "Epoch 415/500\n",
            "2/2 [==============================] - 0s 20ms/step - loss: 14.1503 - mae: 14.1503\n",
            "Epoch 416/500\n",
            "2/2 [==============================] - 0s 8ms/step - loss: 29.7256 - mae: 29.7256\n",
            "Epoch 417/500\n",
            "2/2 [==============================] - 0s 8ms/step - loss: 26.4055 - mae: 26.4055\n",
            "Epoch 418/500\n",
            "2/2 [==============================] - 0s 4ms/step - loss: 19.8957 - mae: 19.8957\n",
            "Epoch 419/500\n",
            "2/2 [==============================] - 0s 9ms/step - loss: 21.4475 - mae: 21.4475\n",
            "Epoch 420/500\n",
            "2/2 [==============================] - 0s 10ms/step - loss: 37.0744 - mae: 37.0744\n",
            "Epoch 421/500\n",
            "2/2 [==============================] - 0s 12ms/step - loss: 19.8889 - mae: 19.8889\n",
            "Epoch 422/500\n",
            "2/2 [==============================] - 0s 10ms/step - loss: 18.3726 - mae: 18.3726\n",
            "Epoch 423/500\n",
            "2/2 [==============================] - 0s 16ms/step - loss: 28.5691 - mae: 28.5691\n",
            "Epoch 424/500\n",
            "2/2 [==============================] - 0s 7ms/step - loss: 29.2115 - mae: 29.2115\n",
            "Epoch 425/500\n",
            "2/2 [==============================] - 0s 11ms/step - loss: 12.3947 - mae: 12.3947\n",
            "Epoch 426/500\n",
            "2/2 [==============================] - 0s 8ms/step - loss: 23.1948 - mae: 23.1948\n",
            "Epoch 427/500\n",
            "2/2 [==============================] - 0s 8ms/step - loss: 28.5628 - mae: 28.5628\n",
            "Epoch 428/500\n",
            "2/2 [==============================] - 0s 8ms/step - loss: 17.0675 - mae: 17.0675\n",
            "Epoch 429/500\n",
            "2/2 [==============================] - 0s 12ms/step - loss: 30.6688 - mae: 30.6688\n",
            "Epoch 430/500\n",
            "2/2 [==============================] - 0s 9ms/step - loss: 22.3962 - mae: 22.3962\n",
            "Epoch 431/500\n",
            "2/2 [==============================] - 0s 9ms/step - loss: 12.9703 - mae: 12.9703\n",
            "Epoch 432/500\n",
            "2/2 [==============================] - 0s 14ms/step - loss: 16.1374 - mae: 16.1374\n",
            "Epoch 433/500\n",
            "2/2 [==============================] - 0s 5ms/step - loss: 7.8898 - mae: 7.8898\n",
            "Epoch 434/500\n",
            "2/2 [==============================] - 0s 9ms/step - loss: 37.3699 - mae: 37.3699\n",
            "Epoch 435/500\n",
            "2/2 [==============================] - 0s 10ms/step - loss: 19.9612 - mae: 19.9612\n",
            "Epoch 436/500\n",
            "2/2 [==============================] - 0s 11ms/step - loss: 20.8160 - mae: 20.8160\n",
            "Epoch 437/500\n",
            "2/2 [==============================] - 0s 9ms/step - loss: 20.8398 - mae: 20.8398\n",
            "Epoch 438/500\n",
            "2/2 [==============================] - 0s 4ms/step - loss: 18.9303 - mae: 18.9303\n",
            "Epoch 439/500\n",
            "2/2 [==============================] - 0s 6ms/step - loss: 28.3370 - mae: 28.3370\n",
            "Epoch 440/500\n",
            "2/2 [==============================] - 0s 4ms/step - loss: 27.7503 - mae: 27.7503\n",
            "Epoch 441/500\n",
            "2/2 [==============================] - 0s 8ms/step - loss: 6.1891 - mae: 6.1891\n",
            "Epoch 442/500\n",
            "2/2 [==============================] - 0s 6ms/step - loss: 40.2744 - mae: 40.2744\n",
            "Epoch 443/500\n",
            "2/2 [==============================] - 0s 6ms/step - loss: 17.3016 - mae: 17.3016\n",
            "Epoch 444/500\n",
            "2/2 [==============================] - 0s 11ms/step - loss: 20.0042 - mae: 20.0042\n",
            "Epoch 445/500\n",
            "2/2 [==============================] - 0s 5ms/step - loss: 17.4537 - mae: 17.4537\n",
            "Epoch 446/500\n",
            "2/2 [==============================] - 0s 8ms/step - loss: 20.3412 - mae: 20.3412\n",
            "Epoch 447/500\n",
            "2/2 [==============================] - 0s 25ms/step - loss: 18.5959 - mae: 18.5959\n",
            "Epoch 448/500\n",
            "2/2 [==============================] - 0s 7ms/step - loss: 23.9749 - mae: 23.9749\n",
            "Epoch 449/500\n",
            "2/2 [==============================] - 0s 11ms/step - loss: 33.9745 - mae: 33.9745\n",
            "Epoch 450/500\n",
            "2/2 [==============================] - 0s 13ms/step - loss: 9.4867 - mae: 9.4867\n",
            "Epoch 451/500\n",
            "2/2 [==============================] - 0s 11ms/step - loss: 35.1017 - mae: 35.1017\n",
            "Epoch 452/500\n",
            "2/2 [==============================] - 0s 11ms/step - loss: 19.1703 - mae: 19.1703\n",
            "Epoch 453/500\n",
            "2/2 [==============================] - 0s 8ms/step - loss: 21.8623 - mae: 21.8623\n",
            "Epoch 454/500\n",
            "2/2 [==============================] - 0s 14ms/step - loss: 18.1313 - mae: 18.1313\n",
            "Epoch 455/500\n",
            "2/2 [==============================] - 0s 11ms/step - loss: 23.0706 - mae: 23.0706\n",
            "Epoch 456/500\n",
            "2/2 [==============================] - 0s 12ms/step - loss: 35.7957 - mae: 35.7957\n",
            "Epoch 457/500\n",
            "2/2 [==============================] - 0s 8ms/step - loss: 19.1558 - mae: 19.1558\n",
            "Epoch 458/500\n",
            "2/2 [==============================] - 0s 5ms/step - loss: 19.1115 - mae: 19.1115\n",
            "Epoch 459/500\n",
            "2/2 [==============================] - 0s 9ms/step - loss: 27.4022 - mae: 27.4022\n",
            "Epoch 460/500\n",
            "2/2 [==============================] - 0s 6ms/step - loss: 31.8370 - mae: 31.8370\n",
            "Epoch 461/500\n",
            "2/2 [==============================] - 0s 7ms/step - loss: 19.7555 - mae: 19.7555\n",
            "Epoch 462/500\n",
            "2/2 [==============================] - 0s 6ms/step - loss: 17.7716 - mae: 17.7716\n",
            "Epoch 463/500\n",
            "2/2 [==============================] - 0s 11ms/step - loss: 23.6951 - mae: 23.6951\n",
            "Epoch 464/500\n",
            "2/2 [==============================] - 0s 10ms/step - loss: 18.7164 - mae: 18.7164\n",
            "Epoch 465/500\n",
            "2/2 [==============================] - 0s 8ms/step - loss: 17.2333 - mae: 17.2333\n",
            "Epoch 466/500\n",
            "2/2 [==============================] - 0s 15ms/step - loss: 4.2805 - mae: 4.2805\n",
            "Epoch 467/500\n",
            "2/2 [==============================] - 0s 13ms/step - loss: 4.3498 - mae: 4.3498\n",
            "Epoch 468/500\n",
            "2/2 [==============================] - 0s 10ms/step - loss: 19.6804 - mae: 19.6804\n",
            "Epoch 469/500\n",
            "2/2 [==============================] - 0s 8ms/step - loss: 19.3144 - mae: 19.3144\n",
            "Epoch 470/500\n",
            "2/2 [==============================] - 0s 13ms/step - loss: 26.2520 - mae: 26.2520\n",
            "Epoch 471/500\n",
            "2/2 [==============================] - 0s 12ms/step - loss: 30.9448 - mae: 30.9448\n",
            "Epoch 472/500\n",
            "2/2 [==============================] - 0s 9ms/step - loss: 19.7603 - mae: 19.7603\n",
            "Epoch 473/500\n",
            "2/2 [==============================] - 0s 5ms/step - loss: 23.4737 - mae: 23.4737\n",
            "Epoch 474/500\n",
            "2/2 [==============================] - 0s 12ms/step - loss: 36.2581 - mae: 36.2581\n",
            "Epoch 475/500\n",
            "2/2 [==============================] - 0s 8ms/step - loss: 17.9939 - mae: 17.9939\n",
            "Epoch 476/500\n",
            "2/2 [==============================] - 0s 16ms/step - loss: 17.8945 - mae: 17.8945\n",
            "Epoch 477/500\n",
            "2/2 [==============================] - 0s 11ms/step - loss: 31.9580 - mae: 31.9580\n",
            "Epoch 478/500\n",
            "2/2 [==============================] - 0s 9ms/step - loss: 20.1564 - mae: 20.1564\n",
            "Epoch 479/500\n",
            "2/2 [==============================] - 0s 6ms/step - loss: 18.5650 - mae: 18.5650\n",
            "Epoch 480/500\n",
            "2/2 [==============================] - 0s 12ms/step - loss: 19.5039 - mae: 19.5039\n",
            "Epoch 481/500\n",
            "2/2 [==============================] - 0s 13ms/step - loss: 23.7418 - mae: 23.7418\n",
            "Epoch 482/500\n",
            "2/2 [==============================] - 0s 4ms/step - loss: 31.1139 - mae: 31.1139\n",
            "Epoch 483/500\n",
            "2/2 [==============================] - 0s 8ms/step - loss: 17.9790 - mae: 17.9790\n",
            "Epoch 484/500\n",
            "2/2 [==============================] - 0s 5ms/step - loss: 29.1399 - mae: 29.1399\n",
            "Epoch 485/500\n",
            "2/2 [==============================] - 0s 4ms/step - loss: 26.3997 - mae: 26.3997\n",
            "Epoch 486/500\n",
            "2/2 [==============================] - 0s 8ms/step - loss: 18.8010 - mae: 18.8010\n",
            "Epoch 487/500\n",
            "2/2 [==============================] - 0s 9ms/step - loss: 24.4569 - mae: 24.4569\n",
            "Epoch 488/500\n",
            "2/2 [==============================] - 0s 10ms/step - loss: 30.4880 - mae: 30.4880\n",
            "Epoch 489/500\n",
            "2/2 [==============================] - 0s 10ms/step - loss: 16.8253 - mae: 16.8253\n",
            "Epoch 490/500\n",
            "2/2 [==============================] - 0s 7ms/step - loss: 23.2698 - mae: 23.2698\n",
            "Epoch 491/500\n",
            "2/2 [==============================] - 0s 4ms/step - loss: 40.8538 - mae: 40.8538\n",
            "Epoch 492/500\n",
            "2/2 [==============================] - 0s 9ms/step - loss: 19.9195 - mae: 19.9195\n",
            "Epoch 493/500\n",
            "2/2 [==============================] - 0s 8ms/step - loss: 16.9342 - mae: 16.9342\n",
            "Epoch 494/500\n",
            "2/2 [==============================] - 0s 5ms/step - loss: 20.2143 - mae: 20.2143\n",
            "Epoch 495/500\n",
            "2/2 [==============================] - 0s 8ms/step - loss: 20.2847 - mae: 20.2847\n",
            "Epoch 496/500\n",
            "2/2 [==============================] - 0s 16ms/step - loss: 19.5366 - mae: 19.5366\n",
            "Epoch 497/500\n",
            "2/2 [==============================] - 0s 16ms/step - loss: 27.2176 - mae: 27.2176\n",
            "Epoch 498/500\n",
            "2/2 [==============================] - 0s 5ms/step - loss: 30.1125 - mae: 30.1125\n",
            "Epoch 499/500\n",
            "2/2 [==============================] - 0s 7ms/step - loss: 4.9585 - mae: 4.9585\n",
            "Epoch 500/500\n",
            "2/2 [==============================] - 0s 8ms/step - loss: 34.8032 - mae: 34.8032\n",
            "2/2 [==============================] - 0s 16ms/step - loss: 12.3803 - mae: 12.3803\n"
          ]
        },
        {
          "output_type": "execute_result",
          "data": {
            "text/plain": [
              "[12.38033676147461, 12.38033676147461]"
            ]
          },
          "metadata": {},
          "execution_count": 67
        }
      ]
    },
    {
      "cell_type": "code",
      "metadata": {
        "id": "m8zlP6eKQaPH"
      },
      "source": [
        "y_pred_3 = model.predict(X_test)"
      ],
      "execution_count": 68,
      "outputs": []
    },
    {
      "cell_type": "code",
      "metadata": {
        "colab": {
          "base_uri": "https://localhost:8080/",
          "height": 295
        },
        "id": "uSM87PE8QjWr",
        "outputId": "580ca0a0-a488-4472-b2aa-9828f19e70f2"
      },
      "source": [
        "plot_prediction(predictions=y_pred_3)"
      ],
      "execution_count": 69,
      "outputs": [
        {
          "output_type": "display_data",
          "data": {
            "image/png": "[encoded data removed]",
            "text/plain": [
              "<Figure size 432x288 with 1 Axes>"
            ]
          },
          "metadata": {
            "needs_background": "light"
          }
        }
      ]
    },
    {
      "cell_type": "code",
      "metadata": {
        "id": "OANgOkWSQmaX"
      },
      "source": [
        " mae_3 =  mae(Y_test, y_pred_3)"
      ],
      "execution_count": 70,
      "outputs": []
    },
    {
      "cell_type": "code",
      "metadata": {
        "id": "PzzDo0H4Qqbx"
      },
      "source": [
        "mse_3 =  mse(Y_test, y_pred_3) "
      ],
      "execution_count": 71,
      "outputs": []
    },
    {
      "cell_type": "markdown",
      "metadata": {
        "id": "KVlXclTZQvje"
      },
      "source": [
        "# **Compairing and Tracking Experiments**"
      ]
    },
    {
      "cell_type": "code",
      "metadata": {
        "id": "WbHO9x4jQsw_"
      },
      "source": [
        "model_result = [\n",
        "                ['model_1', mae_1.numpy(), mse_1.numpy() ],\n",
        "                ['model_2', mae_2.numpy(), mse_2.numpy()],\n",
        "                ['model_3', mae_3.numpy(),mse_3.numpy()]\n",
        "]"
      ],
      "execution_count": 72,
      "outputs": []
    },
    {
      "cell_type": "code",
      "metadata": {
        "colab": {
          "base_uri": "https://localhost:8080/"
        },
        "id": "jgHxvjNURSXc",
        "outputId": "7a4ca087-62e3-43a5-ce68-ad74cabb1531"
      },
      "source": [
        "model_result"
      ],
      "execution_count": 73,
      "outputs": [
        {
          "output_type": "execute_result",
          "data": {
            "text/plain": [
              "[['model_1', 17.272385, 300.0373],\n",
              " ['model_2', 17.272385, 300.0373],\n",
              " ['model_3', 17.272385, 300.0373]]"
            ]
          },
          "metadata": {},
          "execution_count": 73
        }
      ]
    },
    {
      "cell_type": "code",
      "metadata": {
        "colab": {
          "base_uri": "https://localhost:8080/",
          "height": 143
        },
        "id": "mkEGsG2VRT89",
        "outputId": "63fca300-d9dc-4e29-8207-bb3bca2a391d"
      },
      "source": [
        "all_result = pd.DataFrame(model_result, columns=['model', 'mae','mse'])\n",
        "all_result"
      ],
      "execution_count": 74,
      "outputs": [
        {
          "output_type": "execute_result",
          "data": {
            "text/html": [
              "<div>\n",
              "<style scoped>\n",
              "    .dataframe tbody tr th:only-of-type {\n",
              "        vertical-align: middle;\n",
              "    }\n",
              "\n",
              "    .dataframe tbody tr th {\n",
              "        vertical-align: top;\n",
              "    }\n",
              "\n",
              "    .dataframe thead th {\n",
              "        text-align: right;\n",
              "    }\n",
              "</style>\n",
              "<table border=\"1\" class=\"dataframe\">\n",
              "  <thead>\n",
              "    <tr style=\"text-align: right;\">\n",
              "      <th></th>\n",
              "      <th>model</th>\n",
              "      <th>mae</th>\n",
              "      <th>mse</th>\n",
              "    </tr>\n",
              "  </thead>\n",
              "  <tbody>\n",
              "    <tr>\n",
              "      <th>0</th>\n",
              "      <td>model_1</td>\n",
              "      <td>17.272385</td>\n",
              "      <td>300.037292</td>\n",
              "    </tr>\n",
              "    <tr>\n",
              "      <th>1</th>\n",
              "      <td>model_2</td>\n",
              "      <td>17.272385</td>\n",
              "      <td>300.037292</td>\n",
              "    </tr>\n",
              "    <tr>\n",
              "      <th>2</th>\n",
              "      <td>model_3</td>\n",
              "      <td>17.272385</td>\n",
              "      <td>300.037292</td>\n",
              "    </tr>\n",
              "  </tbody>\n",
              "</table>\n",
              "</div>"
            ],
            "text/plain": [
              "     model        mae         mse\n",
              "0  model_1  17.272385  300.037292\n",
              "1  model_2  17.272385  300.037292\n",
              "2  model_3  17.272385  300.037292"
            ]
          },
          "metadata": {},
          "execution_count": 74
        }
      ]
    },
    {
      "cell_type": "code",
      "metadata": {
        "id": "tRNsz1RSRiHG"
      },
      "source": [
        ""
      ],
      "execution_count": 75,
      "outputs": []
    },
    {
      "cell_type": "markdown",
      "metadata": {
        "id": "b8EPSXSeU77Q"
      },
      "source": [
        "# **Saving a Model**\n",
        "\n",
        "`You can save a model in two different ways`:\n",
        "\n",
        "1.   **Save Model Format(Using This, You get Complete Folder)** \n",
        "2.   **HDF5 Format ( Using this, You can get a Single File)**\n",
        "\n",
        "\n"
      ]
    },
    {
      "cell_type": "markdown",
      "metadata": {
        "id": "2bYb8ejUVrEL"
      },
      "source": [
        " **Using Save Model Format**"
      ]
    },
    {
      "cell_type": "code",
      "metadata": {
        "colab": {
          "base_uri": "https://localhost:8080/"
        },
        "id": "tgXwxsBTRyl1",
        "outputId": "2ebcdd6c-700a-4474-d2fa-01ed0b6e859d"
      },
      "source": [
        "model_1.save('My_First_model')"
      ],
      "execution_count": 76,
      "outputs": [
        {
          "output_type": "stream",
          "name": "stdout",
          "text": [
            "INFO:tensorflow:Assets written to: My_First_model/assets\n"
          ]
        }
      ]
    },
    {
      "cell_type": "markdown",
      "metadata": {
        "id": "JFj1fxMxVv6k"
      },
      "source": [
        "**Using HD5 Format**"
      ]
    },
    {
      "cell_type": "code",
      "metadata": {
        "id": "ktgzm1cRVd-A"
      },
      "source": [
        "model_2.save('My_second_model.h5')"
      ],
      "execution_count": 77,
      "outputs": []
    },
    {
      "cell_type": "markdown",
      "metadata": {
        "id": "QqAviUssboCT"
      },
      "source": [
        "# **Load A Model**"
      ]
    },
    {
      "cell_type": "code",
      "metadata": {
        "id": "lp7xNAyTVnZB"
      },
      "source": [
        "load_model_1 = tf.keras.models.load_model('/content/My_First_model')"
      ],
      "execution_count": 78,
      "outputs": []
    },
    {
      "cell_type": "code",
      "metadata": {
        "colab": {
          "base_uri": "https://localhost:8080/"
        },
        "id": "MjJWGttHbyoh",
        "outputId": "91115e6d-7341-4606-dd54-ad4bc5c234f9"
      },
      "source": [
        "load_model_1.summary()\n"
      ],
      "execution_count": 79,
      "outputs": [
        {
          "output_type": "stream",
          "name": "stdout",
          "text": [
            "Model: \"sequential_5\"\n",
            "_________________________________________________________________\n",
            " Layer (type)                Output Shape              Param #   \n",
            "=================================================================\n",
            " dense_7 (Dense)             (None, 1)                 2         \n",
            "                                                                 \n",
            "=================================================================\n",
            "Total params: 2\n",
            "Trainable params: 2\n",
            "Non-trainable params: 0\n",
            "_________________________________________________________________\n"
          ]
        }
      ]
    },
    {
      "cell_type": "code",
      "metadata": {
        "colab": {
          "base_uri": "https://localhost:8080/"
        },
        "id": "QpJigB4bb1HW",
        "outputId": "08e664b0-bc75-4e56-cdca-48e6457b8c44"
      },
      "source": [
        "model_1_exist=  model.predict(X_test)\n",
        "model_1_load = load_model_1.predict(X_test)\n",
        "\n",
        "model_1_exist == model_1_load"
      ],
      "execution_count": 82,
      "outputs": [
        {
          "output_type": "execute_result",
          "data": {
            "text/plain": [
              "array([[ True],\n",
              "       [ True],\n",
              "       [ True],\n",
              "       [ True],\n",
              "       [ True],\n",
              "       [ True],\n",
              "       [ True],\n",
              "       [ True],\n",
              "       [ True],\n",
              "       [ True]])"
            ]
          },
          "metadata": {},
          "execution_count": 82
        }
      ]
    },
    {
      "cell_type": "markdown",
      "metadata": {
        "id": "GKPLVPOscNtR"
      },
      "source": [
        "# Loading A Second Model"
      ]
    },
    {
      "cell_type": "code",
      "metadata": {
        "id": "WOKDxMg8cB3-"
      },
      "source": [
        "load_second_model = tf.keras.models.load_model('/content/My_second_model.h5')"
      ],
      "execution_count": 88,
      "outputs": []
    },
    {
      "cell_type": "code",
      "metadata": {
        "colab": {
          "base_uri": "https://localhost:8080/"
        },
        "id": "bqXBP14vcWTQ",
        "outputId": "3fec087d-f02a-4546-ee6b-e1176f346858"
      },
      "source": [
        "load_second_model.summary()"
      ],
      "execution_count": 89,
      "outputs": [
        {
          "output_type": "stream",
          "name": "stdout",
          "text": [
            "Model: \"sequential_6\"\n",
            "_________________________________________________________________\n",
            " Layer (type)                Output Shape              Param #   \n",
            "=================================================================\n",
            " dense_8 (Dense)             (None, 10)                20        \n",
            "                                                                 \n",
            " dense_9 (Dense)             (None, 1)                 11        \n",
            "                                                                 \n",
            "=================================================================\n",
            "Total params: 31\n",
            "Trainable params: 31\n",
            "Non-trainable params: 0\n",
            "_________________________________________________________________\n"
          ]
        }
      ]
    },
    {
      "cell_type": "code",
      "metadata": {
        "id": "sjjYBQBOcZxP"
      },
      "source": [
        "exist_second_model = model_2.predict(X_test)\n",
        "load_second_one_model = load_second_model.predict(X_test)\n"
      ],
      "execution_count": 93,
      "outputs": []
    },
    {
      "cell_type": "code",
      "metadata": {
        "colab": {
          "base_uri": "https://localhost:8080/"
        },
        "id": "eEOe9DFLckmJ",
        "outputId": "cdc2719f-e876-4846-d01b-355bee2e23cc"
      },
      "source": [
        "exist_second_model.squeeze() == load_second_one_model.squeeze()"
      ],
      "execution_count": 94,
      "outputs": [
        {
          "output_type": "execute_result",
          "data": {
            "text/plain": [
              "array([ True,  True,  True,  True,  True,  True,  True,  True,  True,\n",
              "        True])"
            ]
          },
          "metadata": {},
          "execution_count": 94
        }
      ]
    },
    {
      "cell_type": "code",
      "metadata": {
        "colab": {
          "base_uri": "https://localhost:8080/",
          "height": 17
        },
        "id": "RlbngdGbcm2p",
        "outputId": "0cbfef6f-32fa-4881-c2b5-23bda8f4f6a3"
      },
      "source": [
        "from google.colab import files\n",
        "\n",
        "files.download('/content/My_second_model.h5')"
      ],
      "execution_count": 96,
      "outputs": [
        {
          "output_type": "display_data",
          "data": {
            "application/javascript": [
              "\n",
              "    async function download(id, filename, size) {\n",
              "      if (!google.colab.kernel.accessAllowed) {\n",
              "        return;\n",
              "      }\n",
              "      const div = document.createElement('div');\n",
              "      const label = document.createElement('label');\n",
              "      label.textContent = `Downloading \"${filename}\": `;\n",
              "      div.appendChild(label);\n",
              "      const progress = document.createElement('progress');\n",
              "      progress.max = size;\n",
              "      div.appendChild(progress);\n",
              "      document.body.appendChild(div);\n",
              "\n",
              "      const buffers = [];\n",
              "      let downloaded = 0;\n",
              "\n",
              "      const channel = await google.colab.kernel.comms.open(id);\n",
              "      // Send a message to notify the kernel that we're ready.\n",
              "      channel.send({})\n",
              "\n",
              "      for await (const message of channel.messages) {\n",
              "        // Send a message to notify the kernel that we're ready.\n",
              "        channel.send({})\n",
              "        if (message.buffers) {\n",
              "          for (const buffer of message.buffers) {\n",
              "            buffers.push(buffer);\n",
              "            downloaded += buffer.byteLength;\n",
              "            progress.value = downloaded;\n",
              "          }\n",
              "        }\n",
              "      }\n",
              "      const blob = new Blob(buffers, {type: 'application/binary'});\n",
              "      const a = document.createElement('a');\n",
              "      a.href = window.URL.createObjectURL(blob);\n",
              "      a.download = filename;\n",
              "      div.appendChild(a);\n",
              "      a.click();\n",
              "      div.remove();\n",
              "    }\n",
              "  "
            ],
            "text/plain": [
              "<IPython.core.display.Javascript object>"
            ]
          },
          "metadata": {}
        },
        {
          "output_type": "display_data",
          "data": {
            "application/javascript": [
              "download(\"download_8cd1d9ab-a04a-4456-af1e-ab7c67995634\", \"My_second_model.h5\", 17872)"
            ],
            "text/plain": [
              "<IPython.core.display.Javascript object>"
            ]
          },
          "metadata": {}
        }
      ]
    },
    {
      "cell_type": "code",
      "metadata": {
        "id": "D9jisLvWfCC-"
      },
      "source": [
        ""
      ],
      "execution_count": null,
      "outputs": []
    }
  ]
}