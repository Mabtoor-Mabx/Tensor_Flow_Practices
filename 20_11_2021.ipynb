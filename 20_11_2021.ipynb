{
  "nbformat": 4,
  "nbformat_minor": 0,
  "metadata": {
    "colab": {
      "name": "20-11-2021.ipynb",
      "provenance": [],
      "collapsed_sections": []
    },
    "kernelspec": {
      "name": "python3",
      "display_name": "Python 3"
    },
    "language_info": {
      "name": "python"
    }
  },
  "cells": [
    {
      "cell_type": "markdown",
      "metadata": {
        "id": "tRkCcaLa_8s4"
      },
      "source": [
        "# **TensorFlow Basics**"
      ]
    },
    {
      "cell_type": "code",
      "metadata": {
        "id": "PrkPKmsv9_9z"
      },
      "source": [
        "import tensorflow as tf\n",
        "import numpy as np\n",
        "import pandas as pd\n",
        "import matplotlib.pyplot as plt\n",
        "\n",
        "from tensorflow.keras.utils import plot_model"
      ],
      "execution_count": 2,
      "outputs": []
    },
    {
      "cell_type": "code",
      "metadata": {
        "id": "_Y3Wdtr7-MO5"
      },
      "source": [
        "not_squeezed = tf.constant(tf.random.uniform(shape=[50]), shape=(1,1,1,1,50))\n"
      ],
      "execution_count": 5,
      "outputs": []
    },
    {
      "cell_type": "code",
      "metadata": {
        "colab": {
          "base_uri": "https://localhost:8080/"
        },
        "id": "SYCYoGWg-f5H",
        "outputId": "2f40c314-fc3d-4470-8ab1-81fd93886445"
      },
      "source": [
        "not_squeezed"
      ],
      "execution_count": 6,
      "outputs": [
        {
          "output_type": "execute_result",
          "data": {
            "text/plain": [
              "<tf.Tensor: shape=(1, 1, 1, 1, 50), dtype=float32, numpy=\n",
              "array([[[[[0.5752208 , 0.72632563, 0.8877007 , 0.70006955, 0.0351516 ,\n",
              "           0.8966247 , 0.3095714 , 0.3727585 , 0.8686782 , 0.7403983 ,\n",
              "           0.43330812, 0.05161071, 0.23647463, 0.18016744, 0.12519038,\n",
              "           0.96812594, 0.8078277 , 0.26146698, 0.5786059 , 0.05704939,\n",
              "           0.50672376, 0.3191185 , 0.01521671, 0.82936525, 0.4850546 ,\n",
              "           0.60604656, 0.47845018, 0.6395384 , 0.23315549, 0.88169   ,\n",
              "           0.38896573, 0.5862918 , 0.2377075 , 0.2922002 , 0.0683825 ,\n",
              "           0.7681899 , 0.20810926, 0.52518654, 0.2293061 , 0.16113639,\n",
              "           0.35077   , 0.10644162, 0.20517838, 0.722245  , 0.3265009 ,\n",
              "           0.08847022, 0.6263708 , 0.23538542, 0.9754963 , 0.35484827]]]]],\n",
              "      dtype=float32)>"
            ]
          },
          "metadata": {},
          "execution_count": 6
        }
      ]
    },
    {
      "cell_type": "code",
      "metadata": {
        "colab": {
          "base_uri": "https://localhost:8080/"
        },
        "id": "UyQSqW1k-puI",
        "outputId": "6fd8fdff-c945-4ffb-eb99-e5a1acc0c699"
      },
      "source": [
        "tf.squeeze(not_squeezed)"
      ],
      "execution_count": 7,
      "outputs": [
        {
          "output_type": "execute_result",
          "data": {
            "text/plain": [
              "<tf.Tensor: shape=(50,), dtype=float32, numpy=\n",
              "array([0.5752208 , 0.72632563, 0.8877007 , 0.70006955, 0.0351516 ,\n",
              "       0.8966247 , 0.3095714 , 0.3727585 , 0.8686782 , 0.7403983 ,\n",
              "       0.43330812, 0.05161071, 0.23647463, 0.18016744, 0.12519038,\n",
              "       0.96812594, 0.8078277 , 0.26146698, 0.5786059 , 0.05704939,\n",
              "       0.50672376, 0.3191185 , 0.01521671, 0.82936525, 0.4850546 ,\n",
              "       0.60604656, 0.47845018, 0.6395384 , 0.23315549, 0.88169   ,\n",
              "       0.38896573, 0.5862918 , 0.2377075 , 0.2922002 , 0.0683825 ,\n",
              "       0.7681899 , 0.20810926, 0.52518654, 0.2293061 , 0.16113639,\n",
              "       0.35077   , 0.10644162, 0.20517838, 0.722245  , 0.3265009 ,\n",
              "       0.08847022, 0.6263708 , 0.23538542, 0.9754963 , 0.35484827],\n",
              "      dtype=float32)>"
            ]
          },
          "metadata": {},
          "execution_count": 7
        }
      ]
    },
    {
      "cell_type": "code",
      "metadata": {
        "colab": {
          "base_uri": "https://localhost:8080/"
        },
        "id": "AfYnto72-yE-",
        "outputId": "c67bf5a7-3854-4e6f-c168-89e59e6dcf5a"
      },
      "source": [
        "val = tf.constant([\n",
        "                   [1,3],[5,6],[7,5]\n",
        "])\n",
        "val"
      ],
      "execution_count": 8,
      "outputs": [
        {
          "output_type": "execute_result",
          "data": {
            "text/plain": [
              "<tf.Tensor: shape=(3, 2), dtype=int32, numpy=\n",
              "array([[1, 3],\n",
              "       [5, 6],\n",
              "       [7, 5]], dtype=int32)>"
            ]
          },
          "metadata": {},
          "execution_count": 8
        }
      ]
    },
    {
      "cell_type": "code",
      "metadata": {
        "colab": {
          "base_uri": "https://localhost:8080/"
        },
        "id": "bMkCaaoN-29w",
        "outputId": "2b142ecf-97b6-4f4e-a8b4-43993ecb308f"
      },
      "source": [
        "tf.one_hot(val, depth=4)"
      ],
      "execution_count": 9,
      "outputs": [
        {
          "output_type": "execute_result",
          "data": {
            "text/plain": [
              "<tf.Tensor: shape=(3, 2, 4), dtype=float32, numpy=\n",
              "array([[[0., 1., 0., 0.],\n",
              "        [0., 0., 0., 1.]],\n",
              "\n",
              "       [[0., 0., 0., 0.],\n",
              "        [0., 0., 0., 0.]],\n",
              "\n",
              "       [[0., 0., 0., 0.],\n",
              "        [0., 0., 0., 0.]]], dtype=float32)>"
            ]
          },
          "metadata": {},
          "execution_count": 9
        }
      ]
    },
    {
      "cell_type": "code",
      "metadata": {
        "colab": {
          "base_uri": "https://localhost:8080/"
        },
        "id": "YyZts9a--7RX",
        "outputId": "07f9b405-607d-4d97-a386-01afdae75c4c"
      },
      "source": [
        "tf.one_hot(val, depth=3, on_value='I am On Value', off_value='I am off value')"
      ],
      "execution_count": 10,
      "outputs": [
        {
          "output_type": "execute_result",
          "data": {
            "text/plain": [
              "<tf.Tensor: shape=(3, 2, 3), dtype=string, numpy=\n",
              "array([[[b'I am off value', b'I am On Value', b'I am off value'],\n",
              "        [b'I am off value', b'I am off value', b'I am off value']],\n",
              "\n",
              "       [[b'I am off value', b'I am off value', b'I am off value'],\n",
              "        [b'I am off value', b'I am off value', b'I am off value']],\n",
              "\n",
              "       [[b'I am off value', b'I am off value', b'I am off value'],\n",
              "        [b'I am off value', b'I am off value', b'I am off value']]],\n",
              "      dtype=object)>"
            ]
          },
          "metadata": {},
          "execution_count": 10
        }
      ]
    },
    {
      "cell_type": "code",
      "metadata": {
        "colab": {
          "base_uri": "https://localhost:8080/"
        },
        "id": "eiGaAn6P_EJx",
        "outputId": "c5f32077-2eb2-44c0-b84a-62f59941c23e"
      },
      "source": [
        "tf.math.log(tf.cast(val, dtype=tf.float32))"
      ],
      "execution_count": 11,
      "outputs": [
        {
          "output_type": "execute_result",
          "data": {
            "text/plain": [
              "<tf.Tensor: shape=(3, 2), dtype=float32, numpy=\n",
              "array([[0.       , 1.0986123],\n",
              "       [1.609438 , 1.7917595],\n",
              "       [1.9459101, 1.609438 ]], dtype=float32)>"
            ]
          },
          "metadata": {},
          "execution_count": 11
        }
      ]
    },
    {
      "cell_type": "code",
      "metadata": {
        "colab": {
          "base_uri": "https://localhost:8080/"
        },
        "id": "Bh4aQ9ii_Km2",
        "outputId": "5d5e04f6-e373-4966-817f-c4658379d5e9"
      },
      "source": [
        "tf.square(val)"
      ],
      "execution_count": 12,
      "outputs": [
        {
          "output_type": "execute_result",
          "data": {
            "text/plain": [
              "<tf.Tensor: shape=(3, 2), dtype=int32, numpy=\n",
              "array([[ 1,  9],\n",
              "       [25, 36],\n",
              "       [49, 25]], dtype=int32)>"
            ]
          },
          "metadata": {},
          "execution_count": 12
        }
      ]
    },
    {
      "cell_type": "code",
      "metadata": {
        "colab": {
          "base_uri": "https://localhost:8080/"
        },
        "id": "XgwJcSQl_M_8",
        "outputId": "f3a9823b-5444-45e2-c9a0-49b465ae1e66"
      },
      "source": [
        "tf.sqrt(tf.cast(val, dtype=tf.float32))"
      ],
      "execution_count": 13,
      "outputs": [
        {
          "output_type": "execute_result",
          "data": {
            "text/plain": [
              "<tf.Tensor: shape=(3, 2), dtype=float32, numpy=\n",
              "array([[1.       , 1.7320508],\n",
              "       [2.236068 , 2.4494898],\n",
              "       [2.6457512, 2.236068 ]], dtype=float32)>"
            ]
          },
          "metadata": {},
          "execution_count": 13
        }
      ]
    },
    {
      "cell_type": "code",
      "metadata": {
        "colab": {
          "base_uri": "https://localhost:8080/"
        },
        "id": "M_uTcsLa_Q_D",
        "outputId": "e37cda52-44f2-4ced-bd4e-f00df694d9e3"
      },
      "source": [
        "tf.range(1,32)"
      ],
      "execution_count": 14,
      "outputs": [
        {
          "output_type": "execute_result",
          "data": {
            "text/plain": [
              "<tf.Tensor: shape=(31,), dtype=int32, numpy=\n",
              "array([ 1,  2,  3,  4,  5,  6,  7,  8,  9, 10, 11, 12, 13, 14, 15, 16, 17,\n",
              "       18, 19, 20, 21, 22, 23, 24, 25, 26, 27, 28, 29, 30, 31],\n",
              "      dtype=int32)>"
            ]
          },
          "metadata": {},
          "execution_count": 14
        }
      ]
    },
    {
      "cell_type": "code",
      "metadata": {
        "colab": {
          "base_uri": "https://localhost:8080/"
        },
        "id": "ORvtKh_7_SlP",
        "outputId": "1021f3fc-e71e-48e3-9f53-26d425e1160c"
      },
      "source": [
        "numpy_A = tf.constant(np.array([\n",
        "                                [3,4],[6,4],[3,3]\n",
        "]))\n",
        "\n",
        "numpy_A"
      ],
      "execution_count": 15,
      "outputs": [
        {
          "output_type": "execute_result",
          "data": {
            "text/plain": [
              "<tf.Tensor: shape=(3, 2), dtype=int64, numpy=\n",
              "array([[3, 4],\n",
              "       [6, 4],\n",
              "       [3, 3]])>"
            ]
          },
          "metadata": {},
          "execution_count": 15
        }
      ]
    },
    {
      "cell_type": "code",
      "metadata": {
        "colab": {
          "base_uri": "https://localhost:8080/"
        },
        "id": "VtN53HN1_nJc",
        "outputId": "31c6384c-30a5-4ae3-c396-1684e91f0b2d"
      },
      "source": [
        "tensor_A = tf.constant([\n",
        "                        [3,4],[6,4],[3,3]\n",
        "])\n",
        "\n",
        "tensor_A"
      ],
      "execution_count": 16,
      "outputs": [
        {
          "output_type": "execute_result",
          "data": {
            "text/plain": [
              "<tf.Tensor: shape=(3, 2), dtype=int32, numpy=\n",
              "array([[3, 4],\n",
              "       [6, 4],\n",
              "       [3, 3]], dtype=int32)>"
            ]
          },
          "metadata": {},
          "execution_count": 16
        }
      ]
    },
    {
      "cell_type": "code",
      "metadata": {
        "colab": {
          "base_uri": "https://localhost:8080/"
        },
        "id": "xxHtis1y_rvx",
        "outputId": "101af095-007f-4005-b250-b4ec05430a3a"
      },
      "source": [
        "tensor_A.dtype, numpy_A.dtype"
      ],
      "execution_count": 17,
      "outputs": [
        {
          "output_type": "execute_result",
          "data": {
            "text/plain": [
              "(tf.int32, tf.int64)"
            ]
          },
          "metadata": {},
          "execution_count": 17
        }
      ]
    },
    {
      "cell_type": "markdown",
      "metadata": {
        "id": "ycASdwNE_0Sx"
      },
      "source": [
        "# **Steps Of Modelling of Regression Analysis**"
      ]
    },
    {
      "cell_type": "code",
      "metadata": {
        "colab": {
          "base_uri": "https://localhost:8080/"
        },
        "id": "VzAOWJmg_z0j",
        "outputId": "cffa95eb-2c45-4a0d-bfef-3aa96f81d70b"
      },
      "source": [
        "X = tf.constant([5,10,15,20,25,30,35,40])\n",
        "y=  tf.constant([7,14,21,28,35,42,49,56])\n",
        "\n",
        "X,y"
      ],
      "execution_count": 24,
      "outputs": [
        {
          "output_type": "execute_result",
          "data": {
            "text/plain": [
              "(<tf.Tensor: shape=(8,), dtype=int32, numpy=array([ 5, 10, 15, 20, 25, 30, 35, 40], dtype=int32)>,\n",
              " <tf.Tensor: shape=(8,), dtype=int32, numpy=array([ 7, 14, 21, 28, 35, 42, 49, 56], dtype=int32)>)"
            ]
          },
          "metadata": {},
          "execution_count": 24
        }
      ]
    },
    {
      "cell_type": "markdown",
      "metadata": {
        "id": "p-CDprXqASc5"
      },
      "source": [
        "**Model No 1**"
      ]
    },
    {
      "cell_type": "code",
      "metadata": {
        "colab": {
          "base_uri": "https://localhost:8080/"
        },
        "id": "QcHp85bNASMn",
        "outputId": "5c2f6a9d-c0a7-48e6-81e1-d4a2f329bc2c"
      },
      "source": [
        "tf.random.set_seed(42)\n",
        "model= tf.keras.Sequential([\n",
        "                            tf.keras.layers.Dense(1)\n",
        "])\n",
        "\n",
        "model.compile(\n",
        "    loss = tf.keras.losses.mae,\n",
        "    optimizer = tf.keras.optimizers.SGD(),\n",
        "    metrics=['mae']\n",
        ")\n",
        "\n",
        "model.fit(tf.expand_dims(X, axis=1), y, epochs=5)\n",
        "\n",
        "model.evaluate(X,y)"
      ],
      "execution_count": 25,
      "outputs": [
        {
          "output_type": "stream",
          "name": "stdout",
          "text": [
            "Epoch 1/5\n",
            "1/1 [==============================] - 1s 586ms/step - loss: 18.6737 - mae: 18.6737\n",
            "Epoch 2/5\n",
            "1/1 [==============================] - 0s 6ms/step - loss: 13.6012 - mae: 13.6012\n",
            "Epoch 3/5\n",
            "1/1 [==============================] - 0s 3ms/step - loss: 8.5287 - mae: 8.5287\n",
            "Epoch 4/5\n",
            "1/1 [==============================] - 0s 12ms/step - loss: 3.4562 - mae: 3.4562\n",
            "Epoch 5/5\n",
            "1/1 [==============================] - 0s 5ms/step - loss: 1.6163 - mae: 1.6163\n",
            "1/1 [==============================] - 0s 115ms/step - loss: 3.4562 - mae: 3.4562\n"
          ]
        },
        {
          "output_type": "execute_result",
          "data": {
            "text/plain": [
              "[3.456151008605957, 3.456151008605957]"
            ]
          },
          "metadata": {},
          "execution_count": 25
        }
      ]
    },
    {
      "cell_type": "code",
      "metadata": {
        "colab": {
          "base_uri": "https://localhost:8080/"
        },
        "id": "bjqTd82p_xNw",
        "outputId": "8e2fe079-6770-4862-b752-7f9d330b46e7"
      },
      "source": [
        "X,y"
      ],
      "execution_count": 26,
      "outputs": [
        {
          "output_type": "execute_result",
          "data": {
            "text/plain": [
              "(<tf.Tensor: shape=(8,), dtype=int32, numpy=array([ 5, 10, 15, 20, 25, 30, 35, 40], dtype=int32)>,\n",
              " <tf.Tensor: shape=(8,), dtype=int32, numpy=array([ 7, 14, 21, 28, 35, 42, 49, 56], dtype=int32)>)"
            ]
          },
          "metadata": {},
          "execution_count": 26
        }
      ]
    },
    {
      "cell_type": "code",
      "metadata": {
        "colab": {
          "base_uri": "https://localhost:8080/"
        },
        "id": "1OQ5_QP-BYTU",
        "outputId": "007a7247-7150-4271-f45e-f83cd8389c86"
      },
      "source": [
        "model.predict([45])"
      ],
      "execution_count": 29,
      "outputs": [
        {
          "output_type": "execute_result",
          "data": {
            "text/plain": [
              "array([[56.057697]], dtype=float32)"
            ]
          },
          "metadata": {},
          "execution_count": 29
        }
      ]
    },
    {
      "cell_type": "markdown",
      "metadata": {
        "id": "3n4cAdYLBqWI"
      },
      "source": [
        "**Model No 2**"
      ]
    },
    {
      "cell_type": "code",
      "metadata": {
        "colab": {
          "base_uri": "https://localhost:8080/"
        },
        "id": "voUy5FOwBcvR",
        "outputId": "ed6988a5-7257-48e6-de90-eb48653f09e1"
      },
      "source": [
        "tf.random.set_seed(42)\n",
        "model= tf.keras.Sequential([\n",
        "                            tf.keras.layers.Dense(1)\n",
        "])\n",
        "model.compile(\n",
        "    loss=tf.keras.losses.mae,\n",
        "    optimizer = tf.keras.optimizers.SGD(),\n",
        "    metrics=['mae']\n",
        ")\n",
        "\n",
        "model.fit(tf.expand_dims(X, axis=1), y, epochs=100)\n",
        "\n",
        "model.evaluate(X, y)"
      ],
      "execution_count": 30,
      "outputs": [
        {
          "output_type": "stream",
          "name": "stdout",
          "text": [
            "Epoch 1/100\n",
            "1/1 [==============================] - 0s 253ms/step - loss: 18.6737 - mae: 18.6737\n",
            "Epoch 2/100\n",
            "1/1 [==============================] - 0s 4ms/step - loss: 13.6012 - mae: 13.6012\n",
            "Epoch 3/100\n",
            "1/1 [==============================] - 0s 3ms/step - loss: 8.5287 - mae: 8.5287\n",
            "Epoch 4/100\n",
            "1/1 [==============================] - 0s 3ms/step - loss: 3.4562 - mae: 3.4562\n",
            "Epoch 5/100\n",
            "1/1 [==============================] - 0s 4ms/step - loss: 1.6163 - mae: 1.6163\n",
            "Epoch 6/100\n",
            "1/1 [==============================] - 0s 3ms/step - loss: 3.4562 - mae: 3.4562\n",
            "Epoch 7/100\n",
            "1/1 [==============================] - 0s 5ms/step - loss: 1.6163 - mae: 1.6163\n",
            "Epoch 8/100\n",
            "1/1 [==============================] - 0s 4ms/step - loss: 3.4562 - mae: 3.4562\n",
            "Epoch 9/100\n",
            "1/1 [==============================] - 0s 3ms/step - loss: 1.6163 - mae: 1.6163\n",
            "Epoch 10/100\n",
            "1/1 [==============================] - 0s 8ms/step - loss: 3.4562 - mae: 3.4562\n",
            "Epoch 11/100\n",
            "1/1 [==============================] - 0s 8ms/step - loss: 1.6163 - mae: 1.6163\n",
            "Epoch 12/100\n",
            "1/1 [==============================] - 0s 6ms/step - loss: 3.4562 - mae: 3.4562\n",
            "Epoch 13/100\n",
            "1/1 [==============================] - 0s 6ms/step - loss: 1.6163 - mae: 1.6163\n",
            "Epoch 14/100\n",
            "1/1 [==============================] - 0s 6ms/step - loss: 3.4562 - mae: 3.4562\n",
            "Epoch 15/100\n",
            "1/1 [==============================] - 0s 15ms/step - loss: 1.6163 - mae: 1.6163\n",
            "Epoch 16/100\n",
            "1/1 [==============================] - 0s 5ms/step - loss: 3.4562 - mae: 3.4562\n",
            "Epoch 17/100\n",
            "1/1 [==============================] - 0s 5ms/step - loss: 1.6163 - mae: 1.6163\n",
            "Epoch 18/100\n",
            "1/1 [==============================] - 0s 6ms/step - loss: 3.4562 - mae: 3.4562\n",
            "Epoch 19/100\n",
            "1/1 [==============================] - 0s 4ms/step - loss: 1.6163 - mae: 1.6163\n",
            "Epoch 20/100\n",
            "1/1 [==============================] - 0s 6ms/step - loss: 3.4562 - mae: 3.4562\n",
            "Epoch 21/100\n",
            "1/1 [==============================] - 0s 5ms/step - loss: 1.6163 - mae: 1.6163\n",
            "Epoch 22/100\n",
            "1/1 [==============================] - 0s 4ms/step - loss: 3.4562 - mae: 3.4562\n",
            "Epoch 23/100\n",
            "1/1 [==============================] - 0s 7ms/step - loss: 1.6163 - mae: 1.6163\n",
            "Epoch 24/100\n",
            "1/1 [==============================] - 0s 5ms/step - loss: 3.4562 - mae: 3.4562\n",
            "Epoch 25/100\n",
            "1/1 [==============================] - 0s 7ms/step - loss: 1.6163 - mae: 1.6163\n",
            "Epoch 26/100\n",
            "1/1 [==============================] - 0s 5ms/step - loss: 3.4562 - mae: 3.4562\n",
            "Epoch 27/100\n",
            "1/1 [==============================] - 0s 7ms/step - loss: 1.6163 - mae: 1.6163\n",
            "Epoch 28/100\n",
            "1/1 [==============================] - 0s 4ms/step - loss: 3.4562 - mae: 3.4562\n",
            "Epoch 29/100\n",
            "1/1 [==============================] - 0s 4ms/step - loss: 1.6163 - mae: 1.6163\n",
            "Epoch 30/100\n",
            "1/1 [==============================] - 0s 5ms/step - loss: 3.4562 - mae: 3.4562\n",
            "Epoch 31/100\n",
            "1/1 [==============================] - 0s 7ms/step - loss: 1.6163 - mae: 1.6163\n",
            "Epoch 32/100\n",
            "1/1 [==============================] - 0s 4ms/step - loss: 3.4562 - mae: 3.4562\n",
            "Epoch 33/100\n",
            "1/1 [==============================] - 0s 5ms/step - loss: 1.6163 - mae: 1.6163\n",
            "Epoch 34/100\n",
            "1/1 [==============================] - 0s 7ms/step - loss: 3.4562 - mae: 3.4562\n",
            "Epoch 35/100\n",
            "1/1 [==============================] - 0s 5ms/step - loss: 1.6163 - mae: 1.6163\n",
            "Epoch 36/100\n",
            "1/1 [==============================] - 0s 4ms/step - loss: 3.4562 - mae: 3.4562\n",
            "Epoch 37/100\n",
            "1/1 [==============================] - 0s 5ms/step - loss: 1.6163 - mae: 1.6163\n",
            "Epoch 38/100\n",
            "1/1 [==============================] - 0s 5ms/step - loss: 3.4562 - mae: 3.4562\n",
            "Epoch 39/100\n",
            "1/1 [==============================] - 0s 6ms/step - loss: 1.6163 - mae: 1.6163\n",
            "Epoch 40/100\n",
            "1/1 [==============================] - 0s 8ms/step - loss: 3.4562 - mae: 3.4562\n",
            "Epoch 41/100\n",
            "1/1 [==============================] - 0s 6ms/step - loss: 1.6163 - mae: 1.6163\n",
            "Epoch 42/100\n",
            "1/1 [==============================] - 0s 4ms/step - loss: 3.4562 - mae: 3.4562\n",
            "Epoch 43/100\n",
            "1/1 [==============================] - 0s 4ms/step - loss: 1.6163 - mae: 1.6163\n",
            "Epoch 44/100\n",
            "1/1 [==============================] - 0s 4ms/step - loss: 3.4562 - mae: 3.4562\n",
            "Epoch 45/100\n",
            "1/1 [==============================] - 0s 6ms/step - loss: 1.6163 - mae: 1.6163\n",
            "Epoch 46/100\n",
            "1/1 [==============================] - 0s 4ms/step - loss: 3.4562 - mae: 3.4562\n",
            "Epoch 47/100\n",
            "1/1 [==============================] - 0s 6ms/step - loss: 1.6163 - mae: 1.6163\n",
            "Epoch 48/100\n",
            "1/1 [==============================] - 0s 4ms/step - loss: 3.4562 - mae: 3.4562\n",
            "Epoch 49/100\n",
            "1/1 [==============================] - 0s 7ms/step - loss: 1.6163 - mae: 1.6163\n",
            "Epoch 50/100\n",
            "1/1 [==============================] - 0s 4ms/step - loss: 3.4562 - mae: 3.4562\n",
            "Epoch 51/100\n",
            "1/1 [==============================] - 0s 4ms/step - loss: 1.6163 - mae: 1.6163\n",
            "Epoch 52/100\n",
            "1/1 [==============================] - 0s 4ms/step - loss: 3.4562 - mae: 3.4562\n",
            "Epoch 53/100\n",
            "1/1 [==============================] - 0s 4ms/step - loss: 1.6163 - mae: 1.6163\n",
            "Epoch 54/100\n",
            "1/1 [==============================] - 0s 4ms/step - loss: 3.4562 - mae: 3.4562\n",
            "Epoch 55/100\n",
            "1/1 [==============================] - 0s 4ms/step - loss: 1.6163 - mae: 1.6163\n",
            "Epoch 56/100\n",
            "1/1 [==============================] - 0s 8ms/step - loss: 3.4562 - mae: 3.4562\n",
            "Epoch 57/100\n",
            "1/1 [==============================] - 0s 14ms/step - loss: 1.6163 - mae: 1.6163\n",
            "Epoch 58/100\n",
            "1/1 [==============================] - 0s 7ms/step - loss: 3.4562 - mae: 3.4562\n",
            "Epoch 59/100\n",
            "1/1 [==============================] - 0s 6ms/step - loss: 1.6163 - mae: 1.6163\n",
            "Epoch 60/100\n",
            "1/1 [==============================] - 0s 4ms/step - loss: 3.4562 - mae: 3.4562\n",
            "Epoch 61/100\n",
            "1/1 [==============================] - 0s 4ms/step - loss: 1.6163 - mae: 1.6163\n",
            "Epoch 62/100\n",
            "1/1 [==============================] - 0s 5ms/step - loss: 3.4562 - mae: 3.4562\n",
            "Epoch 63/100\n",
            "1/1 [==============================] - 0s 4ms/step - loss: 1.6163 - mae: 1.6163\n",
            "Epoch 64/100\n",
            "1/1 [==============================] - 0s 4ms/step - loss: 3.4562 - mae: 3.4562\n",
            "Epoch 65/100\n",
            "1/1 [==============================] - 0s 4ms/step - loss: 1.6163 - mae: 1.6163\n",
            "Epoch 66/100\n",
            "1/1 [==============================] - 0s 4ms/step - loss: 3.4562 - mae: 3.4562\n",
            "Epoch 67/100\n",
            "1/1 [==============================] - 0s 4ms/step - loss: 1.6163 - mae: 1.6163\n",
            "Epoch 68/100\n",
            "1/1 [==============================] - 0s 4ms/step - loss: 3.4562 - mae: 3.4562\n",
            "Epoch 69/100\n",
            "1/1 [==============================] - 0s 4ms/step - loss: 1.6163 - mae: 1.6163\n",
            "Epoch 70/100\n",
            "1/1 [==============================] - 0s 4ms/step - loss: 3.4562 - mae: 3.4562\n",
            "Epoch 71/100\n",
            "1/1 [==============================] - 0s 5ms/step - loss: 1.6163 - mae: 1.6163\n",
            "Epoch 72/100\n",
            "1/1 [==============================] - 0s 4ms/step - loss: 3.4562 - mae: 3.4562\n",
            "Epoch 73/100\n",
            "1/1 [==============================] - 0s 4ms/step - loss: 1.6163 - mae: 1.6163\n",
            "Epoch 74/100\n",
            "1/1 [==============================] - 0s 4ms/step - loss: 3.4562 - mae: 3.4562\n",
            "Epoch 75/100\n",
            "1/1 [==============================] - 0s 4ms/step - loss: 1.6163 - mae: 1.6163\n",
            "Epoch 76/100\n",
            "1/1 [==============================] - 0s 4ms/step - loss: 3.4562 - mae: 3.4562\n",
            "Epoch 77/100\n",
            "1/1 [==============================] - 0s 4ms/step - loss: 1.6163 - mae: 1.6163\n",
            "Epoch 78/100\n",
            "1/1 [==============================] - 0s 4ms/step - loss: 3.4562 - mae: 3.4562\n",
            "Epoch 79/100\n",
            "1/1 [==============================] - 0s 4ms/step - loss: 1.6163 - mae: 1.6163\n",
            "Epoch 80/100\n",
            "1/1 [==============================] - 0s 4ms/step - loss: 3.4562 - mae: 3.4562\n",
            "Epoch 81/100\n",
            "1/1 [==============================] - 0s 4ms/step - loss: 1.6163 - mae: 1.6163\n",
            "Epoch 82/100\n",
            "1/1 [==============================] - 0s 5ms/step - loss: 3.4562 - mae: 3.4562\n",
            "Epoch 83/100\n",
            "1/1 [==============================] - 0s 5ms/step - loss: 1.6163 - mae: 1.6163\n",
            "Epoch 84/100\n",
            "1/1 [==============================] - 0s 4ms/step - loss: 3.4562 - mae: 3.4562\n",
            "Epoch 85/100\n",
            "1/1 [==============================] - 0s 5ms/step - loss: 1.6163 - mae: 1.6163\n",
            "Epoch 86/100\n",
            "1/1 [==============================] - 0s 7ms/step - loss: 3.4562 - mae: 3.4562\n",
            "Epoch 87/100\n",
            "1/1 [==============================] - 0s 6ms/step - loss: 1.6163 - mae: 1.6163\n",
            "Epoch 88/100\n",
            "1/1 [==============================] - 0s 5ms/step - loss: 3.4562 - mae: 3.4562\n",
            "Epoch 89/100\n",
            "1/1 [==============================] - 0s 11ms/step - loss: 1.6163 - mae: 1.6163\n",
            "Epoch 90/100\n",
            "1/1 [==============================] - 0s 3ms/step - loss: 3.4562 - mae: 3.4562\n",
            "Epoch 91/100\n",
            "1/1 [==============================] - 0s 8ms/step - loss: 1.6163 - mae: 1.6163\n",
            "Epoch 92/100\n",
            "1/1 [==============================] - 0s 3ms/step - loss: 3.4562 - mae: 3.4562\n",
            "Epoch 93/100\n",
            "1/1 [==============================] - 0s 3ms/step - loss: 1.6163 - mae: 1.6163\n",
            "Epoch 94/100\n",
            "1/1 [==============================] - 0s 3ms/step - loss: 3.4562 - mae: 3.4562\n",
            "Epoch 95/100\n",
            "1/1 [==============================] - 0s 6ms/step - loss: 1.6163 - mae: 1.6163\n",
            "Epoch 96/100\n",
            "1/1 [==============================] - 0s 3ms/step - loss: 3.4562 - mae: 3.4562\n",
            "Epoch 97/100\n",
            "1/1 [==============================] - 0s 5ms/step - loss: 1.6163 - mae: 1.6163\n",
            "Epoch 98/100\n",
            "1/1 [==============================] - 0s 3ms/step - loss: 3.4562 - mae: 3.4562\n",
            "Epoch 99/100\n",
            "1/1 [==============================] - 0s 3ms/step - loss: 1.6163 - mae: 1.6163\n",
            "Epoch 100/100\n",
            "1/1 [==============================] - 0s 5ms/step - loss: 3.4562 - mae: 3.4562\n",
            "1/1 [==============================] - 0s 86ms/step - loss: 1.6163 - mae: 1.6163\n"
          ]
        },
        {
          "output_type": "execute_result",
          "data": {
            "text/plain": [
              "[1.6163499355316162, 1.6163499355316162]"
            ]
          },
          "metadata": {},
          "execution_count": 30
        }
      ]
    },
    {
      "cell_type": "code",
      "metadata": {
        "colab": {
          "base_uri": "https://localhost:8080/"
        },
        "id": "AVtKHQhJCHFW",
        "outputId": "b195ff8b-7e4f-47a9-8d27-2016d768cfb6"
      },
      "source": [
        "X,y"
      ],
      "execution_count": 31,
      "outputs": [
        {
          "output_type": "execute_result",
          "data": {
            "text/plain": [
              "(<tf.Tensor: shape=(8,), dtype=int32, numpy=array([ 5, 10, 15, 20, 25, 30, 35, 40], dtype=int32)>,\n",
              " <tf.Tensor: shape=(8,), dtype=int32, numpy=array([ 7, 14, 21, 28, 35, 42, 49, 56], dtype=int32)>)"
            ]
          },
          "metadata": {},
          "execution_count": 31
        }
      ]
    },
    {
      "cell_type": "code",
      "metadata": {
        "colab": {
          "base_uri": "https://localhost:8080/"
        },
        "id": "j8SIcLQ4CJEo",
        "outputId": "8928621f-c63e-427b-c818-611fcb478a1d"
      },
      "source": [
        "model.predict([45])"
      ],
      "execution_count": 32,
      "outputs": [
        {
          "output_type": "execute_result",
          "data": {
            "text/plain": [
              "array([[66.1927]], dtype=float32)"
            ]
          },
          "metadata": {},
          "execution_count": 32
        }
      ]
    },
    {
      "cell_type": "markdown",
      "metadata": {
        "id": "RmzDBWLvCNne"
      },
      "source": [
        "**Model No 3**"
      ]
    },
    {
      "cell_type": "code",
      "metadata": {
        "colab": {
          "base_uri": "https://localhost:8080/"
        },
        "id": "b7J0CK1cCLZ2",
        "outputId": "d5de2941-bbef-43a6-b42a-f285163b9888"
      },
      "source": [
        "tf.random.set_seed(42)\n",
        "model = tf.keras.Sequential([\n",
        "                             tf.keras.layers.Dense(100, activation='relu'),\n",
        "                             tf.keras.layers.Dense(1)\n",
        "])\n",
        "\n",
        "model.compile(\n",
        "    loss= tf.keras.losses.mae,\n",
        "    optimizer = tf.keras.optimizers.SGD(),\n",
        "    metrics=['mae']\n",
        "    )\n",
        "model.fit(tf.expand_dims(X, axis=1), y, epochs=100)\n",
        "\n",
        "model.evaluate(X,y)\n"
      ],
      "execution_count": 40,
      "outputs": [
        {
          "output_type": "stream",
          "name": "stdout",
          "text": [
            "Epoch 1/100\n",
            "1/1 [==============================] - 0s 291ms/step - loss: 26.7384 - mae: 26.7384\n",
            "Epoch 2/100\n",
            "1/1 [==============================] - 0s 5ms/step - loss: 16.7498 - mae: 16.7498\n",
            "Epoch 3/100\n",
            "1/1 [==============================] - 0s 5ms/step - loss: 5.0169 - mae: 5.0169\n",
            "Epoch 4/100\n",
            "1/1 [==============================] - 0s 4ms/step - loss: 10.6132 - mae: 10.6132\n",
            "Epoch 5/100\n",
            "1/1 [==============================] - 0s 7ms/step - loss: 7.6335 - mae: 7.6335\n",
            "Epoch 6/100\n",
            "1/1 [==============================] - 0s 7ms/step - loss: 6.4521 - mae: 6.4521\n",
            "Epoch 7/100\n",
            "1/1 [==============================] - 0s 8ms/step - loss: 9.9914 - mae: 9.9914\n",
            "Epoch 8/100\n",
            "1/1 [==============================] - 0s 8ms/step - loss: 2.7025 - mae: 2.7025\n",
            "Epoch 9/100\n",
            "1/1 [==============================] - 0s 4ms/step - loss: 12.1161 - mae: 12.1161\n",
            "Epoch 10/100\n",
            "1/1 [==============================] - 0s 13ms/step - loss: 0.6764 - mae: 0.6764\n",
            "Epoch 11/100\n",
            "1/1 [==============================] - 0s 6ms/step - loss: 15.7485 - mae: 15.7485\n",
            "Epoch 12/100\n",
            "1/1 [==============================] - 0s 5ms/step - loss: 3.6712 - mae: 3.6712\n",
            "Epoch 13/100\n",
            "1/1 [==============================] - 0s 4ms/step - loss: 11.0806 - mae: 11.0806\n",
            "Epoch 14/100\n",
            "1/1 [==============================] - 0s 3ms/step - loss: 6.4198 - mae: 6.4198\n",
            "Epoch 15/100\n",
            "1/1 [==============================] - 0s 3ms/step - loss: 6.8743 - mae: 6.8743\n",
            "Epoch 16/100\n",
            "1/1 [==============================] - 0s 7ms/step - loss: 8.8967 - mae: 8.8967\n",
            "Epoch 17/100\n",
            "1/1 [==============================] - 0s 4ms/step - loss: 3.0840 - mae: 3.0840\n",
            "Epoch 18/100\n",
            "1/1 [==============================] - 0s 4ms/step - loss: 11.1287 - mae: 11.1287\n",
            "Epoch 19/100\n",
            "1/1 [==============================] - 0s 8ms/step - loss: 0.3316 - mae: 0.3316\n",
            "Epoch 20/100\n",
            "1/1 [==============================] - 0s 3ms/step - loss: 15.6347 - mae: 15.6347\n",
            "Epoch 21/100\n",
            "1/1 [==============================] - 0s 3ms/step - loss: 3.4095 - mae: 3.4095\n",
            "Epoch 22/100\n",
            "1/1 [==============================] - 0s 6ms/step - loss: 10.9791 - mae: 10.9791\n",
            "Epoch 23/100\n",
            "1/1 [==============================] - 0s 3ms/step - loss: 6.1831 - mae: 6.1831\n",
            "Epoch 24/100\n",
            "1/1 [==============================] - 0s 4ms/step - loss: 6.7838 - mae: 6.7838\n",
            "Epoch 25/100\n",
            "1/1 [==============================] - 0s 3ms/step - loss: 8.6824 - mae: 8.6824\n",
            "Epoch 26/100\n",
            "1/1 [==============================] - 0s 6ms/step - loss: 3.0034 - mae: 3.0034\n",
            "Epoch 27/100\n",
            "1/1 [==============================] - 0s 4ms/step - loss: 10.9346 - mae: 10.9346\n",
            "Epoch 28/100\n",
            "1/1 [==============================] - 0s 5ms/step - loss: 0.4033 - mae: 0.4033\n",
            "Epoch 29/100\n",
            "1/1 [==============================] - 0s 5ms/step - loss: 15.3072 - mae: 15.3072\n",
            "Epoch 30/100\n",
            "1/1 [==============================] - 0s 4ms/step - loss: 3.4731 - mae: 3.4731\n",
            "Epoch 31/100\n",
            "1/1 [==============================] - 0s 5ms/step - loss: 10.6850 - mae: 10.6850\n",
            "Epoch 32/100\n",
            "1/1 [==============================] - 0s 4ms/step - loss: 6.2394 - mae: 6.2394\n",
            "Epoch 33/100\n",
            "1/1 [==============================] - 0s 7ms/step - loss: 6.5198 - mae: 6.5198\n",
            "Epoch 34/100\n",
            "1/1 [==============================] - 0s 7ms/step - loss: 8.7321 - mae: 8.7321\n",
            "Epoch 35/100\n",
            "1/1 [==============================] - 0s 5ms/step - loss: 2.7664 - mae: 2.7664\n",
            "Epoch 36/100\n",
            "1/1 [==============================] - 0s 5ms/step - loss: 10.9784 - mae: 10.9784\n",
            "Epoch 37/100\n",
            "1/1 [==============================] - 0s 6ms/step - loss: 0.6158 - mae: 0.6158\n",
            "Epoch 38/100\n",
            "1/1 [==============================] - 0s 4ms/step - loss: 14.8980 - mae: 14.8980\n",
            "Epoch 39/100\n",
            "1/1 [==============================] - 0s 6ms/step - loss: 3.6587 - mae: 3.6587\n",
            "Epoch 40/100\n",
            "1/1 [==============================] - 0s 4ms/step - loss: 10.3172 - mae: 10.3172\n",
            "Epoch 41/100\n",
            "1/1 [==============================] - 0s 8ms/step - loss: 6.4045 - mae: 6.4045\n",
            "Epoch 42/100\n",
            "1/1 [==============================] - 0s 5ms/step - loss: 6.1894 - mae: 6.1894\n",
            "Epoch 43/100\n",
            "1/1 [==============================] - 0s 5ms/step - loss: 8.8800 - mae: 8.8800\n",
            "Epoch 44/100\n",
            "1/1 [==============================] - 0s 5ms/step - loss: 2.4697 - mae: 2.4697\n",
            "Epoch 45/100\n",
            "1/1 [==============================] - 0s 8ms/step - loss: 11.1106 - mae: 11.1106\n",
            "Epoch 46/100\n",
            "1/1 [==============================] - 0s 5ms/step - loss: 0.8822 - mae: 0.8822\n",
            "Epoch 47/100\n",
            "1/1 [==============================] - 0s 6ms/step - loss: 14.4553 - mae: 14.4553\n",
            "Epoch 48/100\n",
            "1/1 [==============================] - 0s 6ms/step - loss: 3.9027 - mae: 3.9027\n",
            "Epoch 49/100\n",
            "1/1 [==============================] - 0s 6ms/step - loss: 9.9193 - mae: 9.9193\n",
            "Epoch 50/100\n",
            "1/1 [==============================] - 0s 8ms/step - loss: 6.6245 - mae: 6.6245\n",
            "Epoch 51/100\n",
            "1/1 [==============================] - 0s 8ms/step - loss: 5.8318 - mae: 5.8318\n",
            "Epoch 52/100\n",
            "1/1 [==============================] - 0s 4ms/step - loss: 9.0772 - mae: 9.0772\n",
            "Epoch 53/100\n",
            "1/1 [==============================] - 0s 8ms/step - loss: 2.1485 - mae: 2.1485\n",
            "Epoch 54/100\n",
            "1/1 [==============================] - 0s 5ms/step - loss: 11.2874 - mae: 11.2874\n",
            "Epoch 55/100\n",
            "1/1 [==============================] - 0s 9ms/step - loss: 1.1707 - mae: 1.1707\n",
            "Epoch 56/100\n",
            "1/1 [==============================] - 0s 4ms/step - loss: 14.0065 - mae: 14.0065\n",
            "Epoch 57/100\n",
            "1/1 [==============================] - 0s 6ms/step - loss: 4.1616 - mae: 4.1616\n",
            "Epoch 58/100\n",
            "1/1 [==============================] - 0s 5ms/step - loss: 9.5158 - mae: 9.5158\n",
            "Epoch 59/100\n",
            "1/1 [==============================] - 0s 9ms/step - loss: 6.8569 - mae: 6.8569\n",
            "Epoch 60/100\n",
            "1/1 [==============================] - 0s 5ms/step - loss: 5.4692 - mae: 5.4692\n",
            "Epoch 61/100\n",
            "1/1 [==============================] - 0s 8ms/step - loss: 9.2856 - mae: 9.2856\n",
            "Epoch 62/100\n",
            "1/1 [==============================] - 0s 4ms/step - loss: 1.8227 - mae: 1.8227\n",
            "Epoch 63/100\n",
            "1/1 [==============================] - 0s 7ms/step - loss: 11.4742 - mae: 11.4742\n",
            "Epoch 64/100\n",
            "1/1 [==============================] - 0s 5ms/step - loss: 1.4632 - mae: 1.4632\n",
            "Epoch 65/100\n",
            "1/1 [==============================] - 0s 7ms/step - loss: 13.5580 - mae: 13.5580\n",
            "Epoch 66/100\n",
            "1/1 [==============================] - 0s 4ms/step - loss: 4.4243 - mae: 4.4243\n",
            "Epoch 67/100\n",
            "1/1 [==============================] - 0s 7ms/step - loss: 9.1127 - mae: 9.1127\n",
            "Epoch 68/100\n",
            "1/1 [==============================] - 0s 5ms/step - loss: 7.0926 - mae: 7.0926\n",
            "Epoch 69/100\n",
            "1/1 [==============================] - 0s 6ms/step - loss: 5.1069 - mae: 5.1069\n",
            "Epoch 70/100\n",
            "1/1 [==============================] - 0s 12ms/step - loss: 9.4970 - mae: 9.4970\n",
            "Epoch 71/100\n",
            "1/1 [==============================] - 0s 3ms/step - loss: 1.4972 - mae: 1.4972\n",
            "Epoch 72/100\n",
            "1/1 [==============================] - 0s 9ms/step - loss: 11.6637 - mae: 11.6637\n",
            "Epoch 73/100\n",
            "1/1 [==============================] - 0s 16ms/step - loss: 1.7556 - mae: 1.7556\n",
            "Epoch 74/100\n",
            "1/1 [==============================] - 0s 7ms/step - loss: 13.1124 - mae: 13.1124\n",
            "Epoch 75/100\n",
            "1/1 [==============================] - 0s 11ms/step - loss: 4.6867 - mae: 4.6867\n",
            "Epoch 76/100\n",
            "1/1 [==============================] - 0s 7ms/step - loss: 8.7121 - mae: 8.7121\n",
            "Epoch 77/100\n",
            "1/1 [==============================] - 0s 4ms/step - loss: 7.3281 - mae: 7.3281\n",
            "Epoch 78/100\n",
            "1/1 [==============================] - 0s 8ms/step - loss: 4.7470 - mae: 4.7470\n",
            "Epoch 79/100\n",
            "1/1 [==============================] - 0s 5ms/step - loss: 9.7082 - mae: 9.7082\n",
            "Epoch 80/100\n",
            "1/1 [==============================] - 0s 4ms/step - loss: 1.1739 - mae: 1.1739\n",
            "Epoch 81/100\n",
            "1/1 [==============================] - 0s 5ms/step - loss: 11.8530 - mae: 11.8530\n",
            "Epoch 82/100\n",
            "1/1 [==============================] - 0s 6ms/step - loss: 2.0460 - mae: 2.0460\n",
            "Epoch 83/100\n",
            "1/1 [==============================] - 0s 6ms/step - loss: 12.6708 - mae: 12.6708\n",
            "Epoch 84/100\n",
            "1/1 [==============================] - 0s 7ms/step - loss: 4.9474 - mae: 4.9474\n",
            "Epoch 85/100\n",
            "1/1 [==============================] - 0s 4ms/step - loss: 8.3152 - mae: 8.3152\n",
            "Epoch 86/100\n",
            "1/1 [==============================] - 0s 8ms/step - loss: 7.5620 - mae: 7.5620\n",
            "Epoch 87/100\n",
            "1/1 [==============================] - 0s 4ms/step - loss: 4.3902 - mae: 4.3902\n",
            "Epoch 88/100\n",
            "1/1 [==============================] - 0s 4ms/step - loss: 9.9180 - mae: 9.9180\n",
            "Epoch 89/100\n",
            "1/1 [==============================] - 0s 4ms/step - loss: 0.8534 - mae: 0.8534\n",
            "Epoch 90/100\n",
            "1/1 [==============================] - 0s 15ms/step - loss: 12.0411 - mae: 12.0411\n",
            "Epoch 91/100\n",
            "1/1 [==============================] - 0s 4ms/step - loss: 2.3337 - mae: 2.3337\n",
            "Epoch 92/100\n",
            "1/1 [==============================] - 0s 8ms/step - loss: 12.2335 - mae: 12.2335\n",
            "Epoch 93/100\n",
            "1/1 [==============================] - 0s 4ms/step - loss: 5.2057 - mae: 5.2057\n",
            "Epoch 94/100\n",
            "1/1 [==============================] - 0s 4ms/step - loss: 7.9221 - mae: 7.9221\n",
            "Epoch 95/100\n",
            "1/1 [==============================] - 0s 6ms/step - loss: 7.7938 - mae: 7.7938\n",
            "Epoch 96/100\n",
            "1/1 [==============================] - 0s 4ms/step - loss: 4.0370 - mae: 4.0370\n",
            "Epoch 97/100\n",
            "1/1 [==============================] - 0s 3ms/step - loss: 10.1259 - mae: 10.1259\n",
            "Epoch 98/100\n",
            "1/1 [==============================] - 0s 7ms/step - loss: 0.5361 - mae: 0.5361\n",
            "Epoch 99/100\n",
            "1/1 [==============================] - 0s 4ms/step - loss: 12.2275 - mae: 12.2275\n",
            "Epoch 100/100\n",
            "1/1 [==============================] - 0s 3ms/step - loss: 2.6187 - mae: 2.6187\n",
            "1/1 [==============================] - 0s 96ms/step - loss: 11.8007 - mae: 11.8007\n"
          ]
        },
        {
          "output_type": "execute_result",
          "data": {
            "text/plain": [
              "[11.80066204071045, 11.80066204071045]"
            ]
          },
          "metadata": {},
          "execution_count": 40
        }
      ]
    },
    {
      "cell_type": "code",
      "metadata": {
        "colab": {
          "base_uri": "https://localhost:8080/"
        },
        "id": "5pMZGPLTCv69",
        "outputId": "6a5d29d2-b9e5-4147-8f46-4d127172613f"
      },
      "source": [
        "X,y"
      ],
      "execution_count": 41,
      "outputs": [
        {
          "output_type": "execute_result",
          "data": {
            "text/plain": [
              "(<tf.Tensor: shape=(8,), dtype=int32, numpy=array([ 5, 10, 15, 20, 25, 30, 35, 40], dtype=int32)>,\n",
              " <tf.Tensor: shape=(8,), dtype=int32, numpy=array([ 7, 14, 21, 28, 35, 42, 49, 56], dtype=int32)>)"
            ]
          },
          "metadata": {},
          "execution_count": 41
        }
      ]
    },
    {
      "cell_type": "code",
      "metadata": {
        "colab": {
          "base_uri": "https://localhost:8080/"
        },
        "id": "keQ7uFujCyZ8",
        "outputId": "617b2314-c872-48d2-e8c8-ca6eea2ac288"
      },
      "source": [
        "model.predict([45])"
      ],
      "execution_count": 42,
      "outputs": [
        {
          "output_type": "execute_result",
          "data": {
            "text/plain": [
              "array([[86.4231]], dtype=float32)"
            ]
          },
          "metadata": {},
          "execution_count": 42
        }
      ]
    },
    {
      "cell_type": "markdown",
      "metadata": {
        "id": "VC-LG20cDPdu"
      },
      "source": [
        "**Model No 4**"
      ]
    },
    {
      "cell_type": "code",
      "metadata": {
        "colab": {
          "base_uri": "https://localhost:8080/"
        },
        "id": "AJlaInprC13z",
        "outputId": "80c478e5-fef9-4a37-b42d-4b34a3b9088f"
      },
      "source": [
        "tf.random.set_seed(42)\n",
        "\n",
        "model = tf.keras.Sequential([\n",
        "                             tf.keras.layers.Dense(100, activation='relu'),\n",
        "                             tf.keras.layers.Dense(1)\n",
        "])\n",
        "model.compile(\n",
        "    loss= tf.keras.losses.mae,\n",
        "    optimizer = tf.keras.optimizers.Adam(learning_rate=0.01),\n",
        "    metrics=['mae']\n",
        ")\n",
        "\n",
        "model.fit(tf.expand_dims(X, axis=1), y, epochs=100)\n",
        "\n",
        "model.evaluate(X, y)\n",
        "\n"
      ],
      "execution_count": 44,
      "outputs": [
        {
          "output_type": "stream",
          "name": "stdout",
          "text": [
            "Epoch 1/100\n",
            "1/1 [==============================] - 0s 331ms/step - loss: 26.7384 - mae: 26.7384\n",
            "Epoch 2/100\n",
            "1/1 [==============================] - 0s 11ms/step - loss: 23.8333 - mae: 23.8333\n",
            "Epoch 3/100\n",
            "1/1 [==============================] - 0s 4ms/step - loss: 20.8871 - mae: 20.8871\n",
            "Epoch 4/100\n",
            "1/1 [==============================] - 0s 4ms/step - loss: 17.8882 - mae: 17.8882\n",
            "Epoch 5/100\n",
            "1/1 [==============================] - 0s 6ms/step - loss: 14.7988 - mae: 14.7988\n",
            "Epoch 6/100\n",
            "1/1 [==============================] - 0s 4ms/step - loss: 11.6053 - mae: 11.6053\n",
            "Epoch 7/100\n",
            "1/1 [==============================] - 0s 10ms/step - loss: 8.3176 - mae: 8.3176\n",
            "Epoch 8/100\n",
            "1/1 [==============================] - 0s 7ms/step - loss: 4.9169 - mae: 4.9169\n",
            "Epoch 9/100\n",
            "1/1 [==============================] - 0s 6ms/step - loss: 1.4392 - mae: 1.4392\n",
            "Epoch 10/100\n",
            "1/1 [==============================] - 0s 4ms/step - loss: 2.2847 - mae: 2.2847\n",
            "Epoch 11/100\n",
            "1/1 [==============================] - 0s 5ms/step - loss: 4.6656 - mae: 4.6656\n",
            "Epoch 12/100\n",
            "1/1 [==============================] - 0s 4ms/step - loss: 5.9807 - mae: 5.9807\n",
            "Epoch 13/100\n",
            "1/1 [==============================] - 0s 4ms/step - loss: 6.4346 - mae: 6.4346\n",
            "Epoch 14/100\n",
            "1/1 [==============================] - 0s 6ms/step - loss: 6.2035 - mae: 6.2035\n",
            "Epoch 15/100\n",
            "1/1 [==============================] - 0s 6ms/step - loss: 5.4337 - mae: 5.4337\n",
            "Epoch 16/100\n",
            "1/1 [==============================] - 0s 4ms/step - loss: 4.2460 - mae: 4.2460\n",
            "Epoch 17/100\n",
            "1/1 [==============================] - 0s 4ms/step - loss: 2.7413 - mae: 2.7413\n",
            "Epoch 18/100\n",
            "1/1 [==============================] - 0s 4ms/step - loss: 1.0029 - mae: 1.0029\n",
            "Epoch 19/100\n",
            "1/1 [==============================] - 0s 4ms/step - loss: 0.9611 - mae: 0.9611\n",
            "Epoch 20/100\n",
            "1/1 [==============================] - 0s 4ms/step - loss: 2.1393 - mae: 2.1393\n",
            "Epoch 21/100\n",
            "1/1 [==============================] - 0s 6ms/step - loss: 2.8603 - mae: 2.8603\n",
            "Epoch 22/100\n",
            "1/1 [==============================] - 0s 4ms/step - loss: 3.1363 - mae: 3.1363\n",
            "Epoch 23/100\n",
            "1/1 [==============================] - 0s 11ms/step - loss: 3.0312 - mae: 3.0312\n",
            "Epoch 24/100\n",
            "1/1 [==============================] - 0s 8ms/step - loss: 2.5905 - mae: 2.5905\n",
            "Epoch 25/100\n",
            "1/1 [==============================] - 0s 6ms/step - loss: 1.8620 - mae: 1.8620\n",
            "Epoch 26/100\n",
            "1/1 [==============================] - 0s 4ms/step - loss: 0.9188 - mae: 0.9188\n",
            "Epoch 27/100\n",
            "1/1 [==============================] - 0s 6ms/step - loss: 0.4098 - mae: 0.4098\n",
            "Epoch 28/100\n",
            "1/1 [==============================] - 0s 5ms/step - loss: 1.1695 - mae: 1.1695\n",
            "Epoch 29/100\n",
            "1/1 [==============================] - 0s 5ms/step - loss: 1.4768 - mae: 1.4768\n",
            "Epoch 30/100\n",
            "1/1 [==============================] - 0s 6ms/step - loss: 1.3780 - mae: 1.3780\n",
            "Epoch 31/100\n",
            "1/1 [==============================] - 0s 5ms/step - loss: 0.9222 - mae: 0.9222\n",
            "Epoch 32/100\n",
            "1/1 [==============================] - 0s 6ms/step - loss: 0.2424 - mae: 0.2424\n",
            "Epoch 33/100\n",
            "1/1 [==============================] - 0s 6ms/step - loss: 0.6003 - mae: 0.6003\n",
            "Epoch 34/100\n",
            "1/1 [==============================] - 0s 4ms/step - loss: 0.8257 - mae: 0.8257\n",
            "Epoch 35/100\n",
            "1/1 [==============================] - 0s 7ms/step - loss: 0.7923 - mae: 0.7923\n",
            "Epoch 36/100\n",
            "1/1 [==============================] - 0s 8ms/step - loss: 0.5258 - mae: 0.5258\n",
            "Epoch 37/100\n",
            "1/1 [==============================] - 0s 5ms/step - loss: 0.2291 - mae: 0.2291\n",
            "Epoch 38/100\n",
            "1/1 [==============================] - 0s 5ms/step - loss: 0.6502 - mae: 0.6502\n",
            "Epoch 39/100\n",
            "1/1 [==============================] - 0s 5ms/step - loss: 0.7054 - mae: 0.7054\n",
            "Epoch 40/100\n",
            "1/1 [==============================] - 0s 5ms/step - loss: 0.3931 - mae: 0.3931\n",
            "Epoch 41/100\n",
            "1/1 [==============================] - 0s 5ms/step - loss: 0.3800 - mae: 0.3800\n",
            "Epoch 42/100\n",
            "1/1 [==============================] - 0s 4ms/step - loss: 0.6504 - mae: 0.6504\n",
            "Epoch 43/100\n",
            "1/1 [==============================] - 0s 9ms/step - loss: 0.6595 - mae: 0.6595\n",
            "Epoch 44/100\n",
            "1/1 [==============================] - 0s 5ms/step - loss: 0.4301 - mae: 0.4301\n",
            "Epoch 45/100\n",
            "1/1 [==============================] - 0s 5ms/step - loss: 0.2123 - mae: 0.2123\n",
            "Epoch 46/100\n",
            "1/1 [==============================] - 0s 8ms/step - loss: 0.3395 - mae: 0.3395\n",
            "Epoch 47/100\n",
            "1/1 [==============================] - 0s 4ms/step - loss: 0.1668 - mae: 0.1668\n",
            "Epoch 48/100\n",
            "1/1 [==============================] - 0s 5ms/step - loss: 0.2184 - mae: 0.2184\n",
            "Epoch 49/100\n",
            "1/1 [==============================] - 0s 3ms/step - loss: 0.1693 - mae: 0.1693\n",
            "Epoch 50/100\n",
            "1/1 [==============================] - 0s 4ms/step - loss: 0.2518 - mae: 0.2518\n",
            "Epoch 51/100\n",
            "1/1 [==============================] - 0s 4ms/step - loss: 0.1363 - mae: 0.1363\n",
            "Epoch 52/100\n",
            "1/1 [==============================] - 0s 5ms/step - loss: 0.2070 - mae: 0.2070\n",
            "Epoch 53/100\n",
            "1/1 [==============================] - 0s 4ms/step - loss: 0.1611 - mae: 0.1611\n",
            "Epoch 54/100\n",
            "1/1 [==============================] - 0s 4ms/step - loss: 0.2422 - mae: 0.2422\n",
            "Epoch 55/100\n",
            "1/1 [==============================] - 0s 5ms/step - loss: 0.1356 - mae: 0.1356\n",
            "Epoch 56/100\n",
            "1/1 [==============================] - 0s 5ms/step - loss: 0.3516 - mae: 0.3516\n",
            "Epoch 57/100\n",
            "1/1 [==============================] - 0s 8ms/step - loss: 0.4168 - mae: 0.4168\n",
            "Epoch 58/100\n",
            "1/1 [==============================] - 0s 4ms/step - loss: 0.1721 - mae: 0.1721\n",
            "Epoch 59/100\n",
            "1/1 [==============================] - 0s 6ms/step - loss: 0.4188 - mae: 0.4188\n",
            "Epoch 60/100\n",
            "1/1 [==============================] - 0s 5ms/step - loss: 0.5434 - mae: 0.5434\n",
            "Epoch 61/100\n",
            "1/1 [==============================] - 0s 6ms/step - loss: 0.2887 - mae: 0.2887\n",
            "Epoch 62/100\n",
            "1/1 [==============================] - 0s 6ms/step - loss: 0.3082 - mae: 0.3082\n",
            "Epoch 63/100\n",
            "1/1 [==============================] - 0s 4ms/step - loss: 0.4923 - mae: 0.4923\n",
            "Epoch 64/100\n",
            "1/1 [==============================] - 0s 6ms/step - loss: 0.3119 - mae: 0.3119\n",
            "Epoch 65/100\n",
            "1/1 [==============================] - 0s 5ms/step - loss: 0.1893 - mae: 0.1893\n",
            "Epoch 66/100\n",
            "1/1 [==============================] - 0s 9ms/step - loss: 0.2797 - mae: 0.2797\n",
            "Epoch 67/100\n",
            "1/1 [==============================] - 0s 6ms/step - loss: 0.0275 - mae: 0.0275\n",
            "Epoch 68/100\n",
            "1/1 [==============================] - 0s 6ms/step - loss: 0.0989 - mae: 0.0989\n",
            "Epoch 69/100\n",
            "1/1 [==============================] - 0s 7ms/step - loss: 0.1559 - mae: 0.1559\n",
            "Epoch 70/100\n",
            "1/1 [==============================] - 0s 4ms/step - loss: 0.0215 - mae: 0.0215\n",
            "Epoch 71/100\n",
            "1/1 [==============================] - 0s 8ms/step - loss: 0.4555 - mae: 0.4555\n",
            "Epoch 72/100\n",
            "1/1 [==============================] - 0s 7ms/step - loss: 0.5301 - mae: 0.5301\n",
            "Epoch 73/100\n",
            "1/1 [==============================] - 0s 4ms/step - loss: 0.2455 - mae: 0.2455\n",
            "Epoch 74/100\n",
            "1/1 [==============================] - 0s 6ms/step - loss: 0.3674 - mae: 0.3674\n",
            "Epoch 75/100\n",
            "1/1 [==============================] - 0s 4ms/step - loss: 0.5611 - mae: 0.5611\n",
            "Epoch 76/100\n",
            "1/1 [==============================] - 0s 7ms/step - loss: 0.3745 - mae: 0.3745\n",
            "Epoch 77/100\n",
            "1/1 [==============================] - 0s 5ms/step - loss: 0.1495 - mae: 0.1495\n",
            "Epoch 78/100\n",
            "1/1 [==============================] - 0s 4ms/step - loss: 0.2660 - mae: 0.2660\n",
            "Epoch 79/100\n",
            "1/1 [==============================] - 0s 7ms/step - loss: 0.0218 - mae: 0.0218\n",
            "Epoch 80/100\n",
            "1/1 [==============================] - 0s 6ms/step - loss: 0.2667 - mae: 0.2667\n",
            "Epoch 81/100\n",
            "1/1 [==============================] - 0s 7ms/step - loss: 0.1675 - mae: 0.1675\n",
            "Epoch 82/100\n",
            "1/1 [==============================] - 0s 4ms/step - loss: 0.2575 - mae: 0.2575\n",
            "Epoch 83/100\n",
            "1/1 [==============================] - 0s 7ms/step - loss: 0.2857 - mae: 0.2857\n",
            "Epoch 84/100\n",
            "1/1 [==============================] - 0s 4ms/step - loss: 0.0518 - mae: 0.0518\n",
            "Epoch 85/100\n",
            "1/1 [==============================] - 0s 5ms/step - loss: 0.0520 - mae: 0.0520\n",
            "Epoch 86/100\n",
            "1/1 [==============================] - 0s 7ms/step - loss: 0.2486 - mae: 0.2486\n",
            "Epoch 87/100\n",
            "1/1 [==============================] - 0s 5ms/step - loss: 0.1580 - mae: 0.1580\n",
            "Epoch 88/100\n",
            "1/1 [==============================] - 0s 4ms/step - loss: 0.2767 - mae: 0.2767\n",
            "Epoch 89/100\n",
            "1/1 [==============================] - 0s 10ms/step - loss: 0.3127 - mae: 0.3127\n",
            "Epoch 90/100\n",
            "1/1 [==============================] - 0s 5ms/step - loss: 0.0107 - mae: 0.0107\n",
            "Epoch 91/100\n",
            "1/1 [==============================] - 0s 13ms/step - loss: 0.1029 - mae: 0.1029\n",
            "Epoch 92/100\n",
            "1/1 [==============================] - 0s 15ms/step - loss: 0.1666 - mae: 0.1666\n",
            "Epoch 93/100\n",
            "1/1 [==============================] - 0s 5ms/step - loss: 0.0547 - mae: 0.0547\n",
            "Epoch 94/100\n",
            "1/1 [==============================] - 0s 4ms/step - loss: 0.3971 - mae: 0.3971\n",
            "Epoch 95/100\n",
            "1/1 [==============================] - 0s 4ms/step - loss: 0.4542 - mae: 0.4542\n",
            "Epoch 96/100\n",
            "1/1 [==============================] - 0s 5ms/step - loss: 0.1582 - mae: 0.1582\n",
            "Epoch 97/100\n",
            "1/1 [==============================] - 0s 5ms/step - loss: 0.4611 - mae: 0.4611\n",
            "Epoch 98/100\n",
            "1/1 [==============================] - 0s 4ms/step - loss: 0.6648 - mae: 0.6648\n",
            "Epoch 99/100\n",
            "1/1 [==============================] - 0s 4ms/step - loss: 0.4909 - mae: 0.4909\n",
            "Epoch 100/100\n",
            "1/1 [==============================] - 0s 6ms/step - loss: 0.0202 - mae: 0.0202\n",
            "WARNING:tensorflow:6 out of the last 6 calls to <function Model.make_test_function.<locals>.test_function at 0x7f5ebf55b320> triggered tf.function retracing. Tracing is expensive and the excessive number of tracings could be due to (1) creating @tf.function repeatedly in a loop, (2) passing tensors with different shapes, (3) passing Python objects instead of tensors. For (1), please define your @tf.function outside of the loop. For (2), @tf.function has experimental_relax_shapes=True option that relaxes argument shapes that can avoid unnecessary retracing. For (3), please refer to https://www.tensorflow.org/guide/function#controlling_retracing and https://www.tensorflow.org/api_docs/python/tf/function for  more details.\n",
            "1/1 [==============================] - 0s 94ms/step - loss: 0.1463 - mae: 0.1463\n"
          ]
        },
        {
          "output_type": "execute_result",
          "data": {
            "text/plain": [
              "[0.14632225036621094, 0.14632225036621094]"
            ]
          },
          "metadata": {},
          "execution_count": 44
        }
      ]
    },
    {
      "cell_type": "code",
      "metadata": {
        "colab": {
          "base_uri": "https://localhost:8080/"
        },
        "id": "0JkcQYSzDvAY",
        "outputId": "09638d56-7a8b-40ce-e48d-599f2711403b"
      },
      "source": [
        "X,y"
      ],
      "execution_count": 45,
      "outputs": [
        {
          "output_type": "execute_result",
          "data": {
            "text/plain": [
              "(<tf.Tensor: shape=(8,), dtype=int32, numpy=array([ 5, 10, 15, 20, 25, 30, 35, 40], dtype=int32)>,\n",
              " <tf.Tensor: shape=(8,), dtype=int32, numpy=array([ 7, 14, 21, 28, 35, 42, 49, 56], dtype=int32)>)"
            ]
          },
          "metadata": {},
          "execution_count": 45
        }
      ]
    },
    {
      "cell_type": "code",
      "metadata": {
        "colab": {
          "base_uri": "https://localhost:8080/"
        },
        "id": "aoIdzUToD5gy",
        "outputId": "fe401b35-0304-4115-aa56-1a88114ab2c4"
      },
      "source": [
        "model.predict([45])"
      ],
      "execution_count": 46,
      "outputs": [
        {
          "output_type": "execute_result",
          "data": {
            "text/plain": [
              "array([[62.69889]], dtype=float32)"
            ]
          },
          "metadata": {},
          "execution_count": 46
        }
      ]
    },
    {
      "cell_type": "markdown",
      "metadata": {
        "id": "kV_ye3c9EP3d"
      },
      "source": [
        "**Evaluating A model**"
      ]
    },
    {
      "cell_type": "code",
      "metadata": {
        "colab": {
          "base_uri": "https://localhost:8080/"
        },
        "id": "N8JiQkqcD8um",
        "outputId": "b90e10b8-d7e9-4713-a99f-03d6d71974cc"
      },
      "source": [
        "X,y"
      ],
      "execution_count": 47,
      "outputs": [
        {
          "output_type": "execute_result",
          "data": {
            "text/plain": [
              "(<tf.Tensor: shape=(8,), dtype=int32, numpy=array([ 5, 10, 15, 20, 25, 30, 35, 40], dtype=int32)>,\n",
              " <tf.Tensor: shape=(8,), dtype=int32, numpy=array([ 7, 14, 21, 28, 35, 42, 49, 56], dtype=int32)>)"
            ]
          },
          "metadata": {},
          "execution_count": 47
        }
      ]
    },
    {
      "cell_type": "code",
      "metadata": {
        "colab": {
          "base_uri": "https://localhost:8080/",
          "height": 312
        },
        "id": "Gmul1A0AETRD",
        "outputId": "af0c2766-bdb6-4e3a-e5b3-ac590f798d2b"
      },
      "source": [
        "plt.scatter(X,y)\n",
        "# plt.scatter(, color='green', label='Y value')\n",
        "plt.title('X and Y value')\n",
        "plt.xlabel('X value')\n",
        "plt.ylabel('Y value')\n",
        "plt.legend()\n",
        "plt.show()"
      ],
      "execution_count": 51,
      "outputs": [
        {
          "output_type": "stream",
          "name": "stderr",
          "text": [
            "No handles with labels found to put in legend.\n"
          ]
        },
        {
          "output_type": "display_data",
          "data": {
            "image/png": "[encoded data removed]",
            "text/plain": [
              "<Figure size 432x288 with 1 Axes>"
            ]
          },
          "metadata": {
            "needs_background": "light"
          }
        }
      ]
    },
    {
      "cell_type": "code",
      "metadata": {
        "id": "1YC4sbDREs00"
      },
      "source": [
        "X = tf.range(-100,100,4)\n"
      ],
      "execution_count": 52,
      "outputs": []
    },
    {
      "cell_type": "code",
      "metadata": {
        "colab": {
          "base_uri": "https://localhost:8080/"
        },
        "id": "xnd-ofwNFmvW",
        "outputId": "279408a4-d4fb-4fe7-b0bf-94ecab6df4a7"
      },
      "source": [
        "X"
      ],
      "execution_count": 53,
      "outputs": [
        {
          "output_type": "execute_result",
          "data": {
            "text/plain": [
              "<tf.Tensor: shape=(50,), dtype=int32, numpy=\n",
              "array([-100,  -96,  -92,  -88,  -84,  -80,  -76,  -72,  -68,  -64,  -60,\n",
              "        -56,  -52,  -48,  -44,  -40,  -36,  -32,  -28,  -24,  -20,  -16,\n",
              "        -12,   -8,   -4,    0,    4,    8,   12,   16,   20,   24,   28,\n",
              "         32,   36,   40,   44,   48,   52,   56,   60,   64,   68,   72,\n",
              "         76,   80,   84,   88,   92,   96], dtype=int32)>"
            ]
          },
          "metadata": {},
          "execution_count": 53
        }
      ]
    },
    {
      "cell_type": "code",
      "metadata": {
        "id": "-hUwArpmFnhp"
      },
      "source": [
        "Y = X +10"
      ],
      "execution_count": 54,
      "outputs": []
    },
    {
      "cell_type": "code",
      "metadata": {
        "colab": {
          "base_uri": "https://localhost:8080/"
        },
        "id": "b2rVa9zUFp1p",
        "outputId": "e2b540c7-e10f-4f26-dd52-5c1f6480d60e"
      },
      "source": [
        "Y"
      ],
      "execution_count": 55,
      "outputs": [
        {
          "output_type": "execute_result",
          "data": {
            "text/plain": [
              "<tf.Tensor: shape=(50,), dtype=int32, numpy=\n",
              "array([-90, -86, -82, -78, -74, -70, -66, -62, -58, -54, -50, -46, -42,\n",
              "       -38, -34, -30, -26, -22, -18, -14, -10,  -6,  -2,   2,   6,  10,\n",
              "        14,  18,  22,  26,  30,  34,  38,  42,  46,  50,  54,  58,  62,\n",
              "        66,  70,  74,  78,  82,  86,  90,  94,  98, 102, 106], dtype=int32)>"
            ]
          },
          "metadata": {},
          "execution_count": 55
        }
      ]
    },
    {
      "cell_type": "code",
      "metadata": {
        "id": "VH0USjvkFqKw"
      },
      "source": [
        "X_train= X[:40]\n",
        "X_test=  X[40:]\n",
        "Y_train=Y[:40]\n",
        "Y_test = Y[40:]\n",
        "\n"
      ],
      "execution_count": 56,
      "outputs": []
    },
    {
      "cell_type": "code",
      "metadata": {
        "colab": {
          "base_uri": "https://localhost:8080/"
        },
        "id": "2Yg2glY5F4sg",
        "outputId": "ba198504-aeb6-4868-8b7f-cd3ca7441bef"
      },
      "source": [
        "X_train.shape, Y_train.shape,X_test.shape,Y_test.shape"
      ],
      "execution_count": 58,
      "outputs": [
        {
          "output_type": "execute_result",
          "data": {
            "text/plain": [
              "(TensorShape([40]), TensorShape([40]), TensorShape([10]), TensorShape([10]))"
            ]
          },
          "metadata": {},
          "execution_count": 58
        }
      ]
    },
    {
      "cell_type": "code",
      "metadata": {
        "colab": {
          "base_uri": "https://localhost:8080/",
          "height": 295
        },
        "id": "p9AFlIdYF8CG",
        "outputId": "5ecc38eb-4970-4723-ec49-e7490e813776"
      },
      "source": [
        "plt.scatter(X_train,Y_train, color='red', label='Train Values')\n",
        "plt.scatter(X_test,Y_test , color='blue', label='Test Value')\n",
        "plt.title('Train and test Values')\n",
        "plt.xlabel('X Values')\n",
        "plt.ylabel('Y Values')\n",
        "plt.legend()\n",
        "plt.show()"
      ],
      "execution_count": 59,
      "outputs": [
        {
          "output_type": "display_data",
          "data": {
            "image/png": "[encoded data removed]",
            "text/plain": [
              "<Figure size 432x288 with 1 Axes>"
            ]
          },
          "metadata": {
            "needs_background": "light"
          }
        }
      ]
    },
    {
      "cell_type": "code",
      "metadata": {
        "id": "XI_QF1VgGhW3"
      },
      "source": [
        "tf.random.set_seed(42)\n",
        "model = tf.keras.Sequential([\n",
        "                             tf.keras.layers.Dense(1, input_shape=[1])\n",
        "])\n",
        "\n",
        "model.compile(\n",
        "    loss=tf.keras.losses.mae,\n",
        "    optimizer = tf.keras.optimizers.SGD(),\n",
        "    metrics=['mae']\n",
        ")\n",
        "\n"
      ],
      "execution_count": 63,
      "outputs": []
    },
    {
      "cell_type": "code",
      "metadata": {
        "colab": {
          "base_uri": "https://localhost:8080/"
        },
        "id": "p4RG9A81G4El",
        "outputId": "b2b14e01-9113-4b3f-eb28-c17c8c2749ea"
      },
      "source": [
        "model.summary()"
      ],
      "execution_count": 64,
      "outputs": [
        {
          "output_type": "stream",
          "name": "stdout",
          "text": [
            "Model: \"sequential_11\"\n",
            "_________________________________________________________________\n",
            " Layer (type)                Output Shape              Param #   \n",
            "=================================================================\n",
            " dense_15 (Dense)            (None, 1)                 2         \n",
            "                                                                 \n",
            "=================================================================\n",
            "Total params: 2\n",
            "Trainable params: 2\n",
            "Non-trainable params: 0\n",
            "_________________________________________________________________\n"
          ]
        }
      ]
    },
    {
      "cell_type": "code",
      "metadata": {
        "id": "nTL5EozFG8PU"
      },
      "source": [
        "tf.random.set_seed(42)\n",
        "model = tf.keras.Sequential([\n",
        "                             tf.keras.layers.Dense(4, input_shape=[1], name='Train_and_Test_Valuess_1'),\n",
        "                             tf.keras.layers.Dense(6, input_shape=[1], name='Train_and_Test_Valuess_2'),\n",
        "                             tf.keras.layers.Dense(7, input_shape=[1], name='Train_and_Test_Valuess_3'),\n",
        "                             tf.keras.layers.Dense(2, input_shape=[1], name='Train_and_Test_Valuess_4'),\n",
        "                             tf.keras.layers.Dense(9, input_shape=[1], name='Train_and_Test_Valuess_5'),\n",
        "\n",
        "], name='Model_1')\n",
        "\n",
        "model.compile(\n",
        "    loss=tf.keras.losses.mae,\n",
        "    optimizer = tf.keras.optimizers.SGD(),\n",
        "    metrics=['mae']\n",
        ")\n",
        "\n"
      ],
      "execution_count": 72,
      "outputs": []
    },
    {
      "cell_type": "code",
      "metadata": {
        "colab": {
          "base_uri": "https://localhost:8080/"
        },
        "id": "ejCj8VAeHRCO",
        "outputId": "4462397c-ed3f-48c7-e43c-e50d0dd0dd71"
      },
      "source": [
        "model.summary()"
      ],
      "execution_count": 73,
      "outputs": [
        {
          "output_type": "stream",
          "name": "stdout",
          "text": [
            "Model: \"Model_1\"\n",
            "_________________________________________________________________\n",
            " Layer (type)                Output Shape              Param #   \n",
            "=================================================================\n",
            " Train_and_Test_Valuess_1 (D  (None, 4)                8         \n",
            " ense)                                                           \n",
            "                                                                 \n",
            " Train_and_Test_Valuess_2 (D  (None, 6)                30        \n",
            " ense)                                                           \n",
            "                                                                 \n",
            " Train_and_Test_Valuess_3 (D  (None, 7)                49        \n",
            " ense)                                                           \n",
            "                                                                 \n",
            " Train_and_Test_Valuess_4 (D  (None, 2)                16        \n",
            " ense)                                                           \n",
            "                                                                 \n",
            " Train_and_Test_Valuess_5 (D  (None, 9)                27        \n",
            " ense)                                                           \n",
            "                                                                 \n",
            "=================================================================\n",
            "Total params: 130\n",
            "Trainable params: 130\n",
            "Non-trainable params: 0\n",
            "_________________________________________________________________\n"
          ]
        }
      ]
    },
    {
      "cell_type": "code",
      "metadata": {
        "id": "-ZSBZ8_GHTF8"
      },
      "source": [
        "from tensorflow.keras.utils import plot_model\n"
      ],
      "execution_count": 75,
      "outputs": []
    },
    {
      "cell_type": "code",
      "metadata": {
        "colab": {
          "base_uri": "https://localhost:8080/",
          "height": 644
        },
        "id": "6ksKZpycH5qx",
        "outputId": "dbf39e1d-7d94-4654-fcd2-8489cad80ff9"
      },
      "source": [
        "plot_model(model=model, show_shapes=True)"
      ],
      "execution_count": 79,
      "outputs": [
        {
          "output_type": "execute_result",
          "data": {
            "image/png": "[encoded data removed]",
            "text/plain": [
              "<IPython.core.display.Image object>"
            ]
          },
          "metadata": {},
          "execution_count": 79
        }
      ]
    },
    {
      "cell_type": "code",
      "metadata": {
        "id": "zwsdPytyH-JC"
      },
      "source": [
        ""
      ],
      "execution_count": null,
      "outputs": []
    }
  ]
}