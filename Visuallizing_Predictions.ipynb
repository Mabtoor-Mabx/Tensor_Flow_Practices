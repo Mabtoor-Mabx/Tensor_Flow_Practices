{
  "nbformat": 4,
  "nbformat_minor": 0,
  "metadata": {
    "colab": {
      "name": "Visuallizing_Predictions.ipynb",
      "provenance": [],
      "collapsed_sections": []
    },
    "kernelspec": {
      "name": "python3",
      "display_name": "Python 3"
    },
    "language_info": {
      "name": "python"
    }
  },
  "cells": [
    {
      "cell_type": "code",
      "metadata": {
        "id": "qIzZrcVwn0Bs"
      },
      "source": [
        "import tensorflow as tf\n",
        "import numpy as np\n",
        "import pandas as pd\n",
        "import matplotlib.pyplot as plt\n",
        "from tensorflow.keras.utils import plot_model"
      ],
      "execution_count": null,
      "outputs": []
    },
    {
      "cell_type": "code",
      "metadata": {
        "colab": {
          "base_uri": "https://localhost:8080/"
        },
        "id": "1KZU6uuvoE2F",
        "outputId": "ece4ea0b-793f-4883-c1d5-fc30614975ae"
      },
      "source": [
        "X = tf.range(-100,100,4)\n",
        "X"
      ],
      "execution_count": null,
      "outputs": [
        {
          "output_type": "execute_result",
          "data": {
            "text/plain": [
              "<tf.Tensor: shape=(50,), dtype=int32, numpy=\n",
              "array([-100,  -96,  -92,  -88,  -84,  -80,  -76,  -72,  -68,  -64,  -60,\n",
              "        -56,  -52,  -48,  -44,  -40,  -36,  -32,  -28,  -24,  -20,  -16,\n",
              "        -12,   -8,   -4,    0,    4,    8,   12,   16,   20,   24,   28,\n",
              "         32,   36,   40,   44,   48,   52,   56,   60,   64,   68,   72,\n",
              "         76,   80,   84,   88,   92,   96], dtype=int32)>"
            ]
          },
          "metadata": {},
          "execution_count": 2
        }
      ]
    },
    {
      "cell_type": "code",
      "metadata": {
        "colab": {
          "base_uri": "https://localhost:8080/"
        },
        "id": "4B2WgU0UoOhF",
        "outputId": "af010b64-611a-418c-c143-b6588d0c78ee"
      },
      "source": [
        "Y= X+10\n",
        "Y"
      ],
      "execution_count": null,
      "outputs": [
        {
          "output_type": "execute_result",
          "data": {
            "text/plain": [
              "<tf.Tensor: shape=(50,), dtype=int32, numpy=\n",
              "array([-90, -86, -82, -78, -74, -70, -66, -62, -58, -54, -50, -46, -42,\n",
              "       -38, -34, -30, -26, -22, -18, -14, -10,  -6,  -2,   2,   6,  10,\n",
              "        14,  18,  22,  26,  30,  34,  38,  42,  46,  50,  54,  58,  62,\n",
              "        66,  70,  74,  78,  82,  86,  90,  94,  98, 102, 106], dtype=int32)>"
            ]
          },
          "metadata": {},
          "execution_count": 3
        }
      ]
    },
    {
      "cell_type": "code",
      "metadata": {
        "id": "ZHj-rxD0oRKP"
      },
      "source": [
        "tf.random.set_seed(42)\n",
        "model = tf.keras.Sequential([\n",
        "                             tf.keras.layers.Dense(5, input_shape=[1], name='I_am_one'),\n",
        "                             tf.keras.layers.Dense(4, input_shape=[1], name='I_am_Two'),\n",
        "                             tf.keras.layers.Dense(3, input_shape=[1], name='I_am_Three'),\n",
        "                             tf.keras.layers.Dense(2, input_shape=[1], name='I_am_Four'),\n",
        "                             tf.keras.layers.Dense(1, input_shape=[1], name='I_am_Five')\n",
        "], name='Different_Layers')\n",
        "\n",
        "\n",
        "model.compile(\n",
        "    loss= tf.keras.losses.mae,\n",
        "    optimizer = tf.keras.optimizers.SGD(),\n",
        "    metrics=['mae']\n",
        ")\n",
        "\n"
      ],
      "execution_count": null,
      "outputs": []
    },
    {
      "cell_type": "code",
      "metadata": {
        "colab": {
          "base_uri": "https://localhost:8080/"
        },
        "id": "ighaJnPco6aw",
        "outputId": "8477af09-836e-45f7-d6d5-454c4dd98cff"
      },
      "source": [
        "model.summary()"
      ],
      "execution_count": null,
      "outputs": [
        {
          "output_type": "stream",
          "name": "stdout",
          "text": [
            "Model: \"Different_Layers\"\n",
            "_________________________________________________________________\n",
            " Layer (type)                Output Shape              Param #   \n",
            "=================================================================\n",
            " I_am_one (Dense)            (None, 5)                 10        \n",
            "                                                                 \n",
            " I_am_Two (Dense)            (None, 4)                 24        \n",
            "                                                                 \n",
            " I_am_Three (Dense)          (None, 3)                 15        \n",
            "                                                                 \n",
            " I_am_Four (Dense)           (None, 2)                 8         \n",
            "                                                                 \n",
            " I_am_Five (Dense)           (None, 1)                 3         \n",
            "                                                                 \n",
            "=================================================================\n",
            "Total params: 60\n",
            "Trainable params: 60\n",
            "Non-trainable params: 0\n",
            "_________________________________________________________________\n"
          ]
        }
      ]
    },
    {
      "cell_type": "code",
      "metadata": {
        "id": "Nb-o4C-xpHJA"
      },
      "source": [
        "X_train = X[:40]\n",
        "X_test = X[40:]\n",
        "Y_train = Y[:40]\n",
        "Y_test =Y[40:]\n",
        "\n"
      ],
      "execution_count": null,
      "outputs": []
    },
    {
      "cell_type": "code",
      "metadata": {
        "colab": {
          "base_uri": "https://localhost:8080/"
        },
        "id": "FqQyQ0oxpWst",
        "outputId": "eafffe24-034a-4c06-f50e-7e3257a0bc69"
      },
      "source": [
        "Y_pred = model.predict(Y_test)\n",
        "Y_pred"
      ],
      "execution_count": null,
      "outputs": [
        {
          "output_type": "execute_result",
          "data": {
            "text/plain": [
              "array([[-12.880835 ],\n",
              "       [-13.6168785],\n",
              "       [-14.352927 ],\n",
              "       [-15.088976 ],\n",
              "       [-15.82502  ],\n",
              "       [-16.561071 ],\n",
              "       [-17.29712  ],\n",
              "       [-18.033165 ],\n",
              "       [-18.769215 ],\n",
              "       [-19.505257 ]], dtype=float32)"
            ]
          },
          "metadata": {},
          "execution_count": 9
        }
      ]
    },
    {
      "cell_type": "code",
      "metadata": {
        "colab": {
          "base_uri": "https://localhost:8080/"
        },
        "id": "tfwNXGTipeSv",
        "outputId": "0845a3de-caa6-4f16-dbbb-5514b9e96c1d"
      },
      "source": [
        "Y_test"
      ],
      "execution_count": null,
      "outputs": [
        {
          "output_type": "execute_result",
          "data": {
            "text/plain": [
              "<tf.Tensor: shape=(10,), dtype=int32, numpy=array([ 70,  74,  78,  82,  86,  90,  94,  98, 102, 106], dtype=int32)>"
            ]
          },
          "metadata": {},
          "execution_count": 10
        }
      ]
    },
    {
      "cell_type": "code",
      "metadata": {
        "colab": {
          "base_uri": "https://localhost:8080/",
          "height": 265
        },
        "id": "MvT3d50Jp-eZ",
        "outputId": "e061a8b7-cd9c-490a-8e64-cc6e79d68dd6"
      },
      "source": [
        "def plot_predictions(train_data=X_train, \n",
        "                     train_labels=Y_train, \n",
        "                     test_data=X_test, \n",
        "                     test_labels=Y_test, \n",
        "                     predictions=Y_pred):\n",
        "  \n",
        "  plt.scatter(train_data,train_labels,c='r', label='Train_data and_label')\n",
        "  plt.scatter(test_data, test_labels,c='g', label='test_Data and_label')\n",
        "  plt.scatter(test_data, predictions, c='b', label='Test_Data With_Predictions')\n",
        "  plt.legend();\n",
        "plot_predictions()"
      ],
      "execution_count": 38,
      "outputs": [
        {
          "output_type": "display_data",
          "data": {
            "image/png": "[encoded data removed]",
            "text/plain": [
              "<Figure size 432x288 with 1 Axes>"
            ]
          },
          "metadata": {
            "needs_background": "light"
          }
        }
      ]
    },
    {
      "cell_type": "code",
      "metadata": {
        "id": "VnTkDcIKr3tm"
      },
      "source": [
        ""
      ],
      "execution_count": null,
      "outputs": []
    }
  ]
}