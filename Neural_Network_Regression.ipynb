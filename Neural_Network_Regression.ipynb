{
  "nbformat": 4,
  "nbformat_minor": 0,
  "metadata": {
    "colab": {
      "name": "Neural_Network_Regression.ipynb",
      "provenance": []
    },
    "kernelspec": {
      "name": "python3",
      "display_name": "Python 3"
    },
    "language_info": {
      "name": "python"
    }
  },
  "cells": [
    {
      "cell_type": "markdown",
      "source": [
        "# **Import Libraries**"
      ],
      "metadata": {
        "id": "bKSm3mEDC5Ln"
      }
    },
    {
      "cell_type": "code",
      "execution_count": 1,
      "metadata": {
        "id": "HxG8uTDpCpOs"
      },
      "outputs": [],
      "source": [
        "import tensorflow as tf\n",
        "import numpy as np\n",
        "import pandas as pd\n",
        "import matplotlib.pyplot as plt"
      ]
    },
    {
      "cell_type": "markdown",
      "source": [
        "# **Regression Problem**\n",
        "\n",
        "**Relationship Between Dependent Variable and One or More Independent Variable. Dependent Varaible is Numeric in Nature**\n",
        "\n",
        "# **Where You can Get Help**\n",
        "\n",
        "*   Flow Along The Code\n",
        "*   Try it for Your self\n",
        "*   Shift + Cmd+ Space To Read DocString\n",
        "*  Search tensorflow and Stack Overflow\n",
        "*  Try Again\n",
        "*  Ask(Don't Forget Discord Chart)\n",
        "\n",
        "# **Regression Input and Output**\n",
        "\n",
        "**House--Actual_Output--Numerical_Encoding--Input--ML_Algorithm--Output--Predicted_Output**\n",
        "\n",
        "# **Architecture of Regression Model**\n",
        "\n",
        "* Input layer\n",
        "\n",
        "* Hidden Layer\n",
        "\n",
        "* Neuron Per Hidden layer\n",
        "\n",
        "* Output Layer\n",
        "\n",
        "* Hidden Activation\n",
        "\n",
        "* Output Activation\n",
        "\n",
        "* Loss Function \n",
        "\n",
        "* Optimizer \n",
        "\n",
        "\n",
        "\n"
      ],
      "metadata": {
        "id": "Ymd-M0L6DIPH"
      }
    },
    {
      "cell_type": "code",
      "source": [
        "# Create Sample Regression Data\n",
        "\n",
        "X = np.array([-7.0,-4.0,-1.0,2.0,5.0,8.0,11.0])\n",
        "Y=  np.array([3.0,6.0,9.0,12.0,15.0,18.0,21.0])"
      ],
      "metadata": {
        "id": "fYl_Xvt5C4mL"
      },
      "execution_count": 2,
      "outputs": []
    },
    {
      "cell_type": "code",
      "source": [
        "plt.scatter(X,Y)"
      ],
      "metadata": {
        "colab": {
          "base_uri": "https://localhost:8080/",
          "height": 282
        },
        "id": "80hfqZoWE8Cl",
        "outputId": "afaaa8a5-be43-4807-f517-60986e0a68e4"
      },
      "execution_count": 3,
      "outputs": [
        {
          "output_type": "execute_result",
          "data": {
            "text/plain": [
              "<matplotlib.collections.PathCollection at 0x7f6e9b074cd0>"
            ]
          },
          "metadata": {},
          "execution_count": 3
        },
        {
          "output_type": "display_data",
          "data": {
            "image/png": "[encoded data removed]",
            "text/plain": [
              "<Figure size 432x288 with 1 Axes>"
            ]
          },
          "metadata": {
            "needs_background": "light"
          }
        }
      ]
    },
    {
      "cell_type": "code",
      "source": [
        "house_info = tf.constant([2,4,6,8,10])\n",
        "house_price = tf.constant([3,6,9,12,15])"
      ],
      "metadata": {
        "id": "OXzV46rbE93I"
      },
      "execution_count": 4,
      "outputs": []
    },
    {
      "cell_type": "code",
      "source": [
        "house_info, house_price"
      ],
      "metadata": {
        "colab": {
          "base_uri": "https://localhost:8080/"
        },
        "id": "U-b_1zQqFLBo",
        "outputId": "5e1eb832-1bfa-4555-c65e-4fbfc6edb0a9"
      },
      "execution_count": 5,
      "outputs": [
        {
          "output_type": "execute_result",
          "data": {
            "text/plain": [
              "(<tf.Tensor: shape=(5,), dtype=int32, numpy=array([ 2,  4,  6,  8, 10], dtype=int32)>,\n",
              " <tf.Tensor: shape=(5,), dtype=int32, numpy=array([ 3,  6,  9, 12, 15], dtype=int32)>)"
            ]
          },
          "metadata": {},
          "execution_count": 5
        }
      ]
    },
    {
      "cell_type": "markdown",
      "source": [
        "# **Steps In Modelling With Tensorflow**\n",
        "\n",
        "**1-Create The Model - Define Input & Output Layer As well as Hidden layer of Deep Learning Model**\n",
        "\n",
        "**2- Compiling The Model**\n",
        "\n",
        "**3- Fitting The Model**\n",
        "\n",
        "**4- Evaluate The Model**\n",
        "\n"
      ],
      "metadata": {
        "id": "j8t2kTHQGSjW"
      }
    },
    {
      "cell_type": "markdown",
      "source": [
        "# **Model No 1**"
      ],
      "metadata": {
        "id": "O4HPYC_TIEET"
      }
    },
    {
      "cell_type": "code",
      "source": [
        "# Create A Model Using Sequential API\n",
        "\n",
        "model_1 = tf.keras.Sequential([\n",
        "                             tf.keras.layers.Dense(1)\n",
        "])\n",
        "\n",
        "model_1.compile(\n",
        "    loss = tf.keras.losses.mae,\n",
        "    optimizer = tf.keras.optimizers.SGD(),\n",
        "    metrics=[\"mae\"]\n",
        ")\n",
        "\n",
        "model_1.fit(tf.expand_dims(X,axis=1),Y, epochs=5) "
      ],
      "metadata": {
        "colab": {
          "base_uri": "https://localhost:8080/"
        },
        "id": "O7rhlVBqFNpY",
        "outputId": "2385f419-b45c-4431-ca5f-bc5db53a7c7a"
      },
      "execution_count": 6,
      "outputs": [
        {
          "output_type": "stream",
          "name": "stdout",
          "text": [
            "Epoch 1/5\n",
            "1/1 [==============================] - 1s 512ms/step - loss: 10.6803 - mae: 10.6803\n",
            "Epoch 2/5\n",
            "1/1 [==============================] - 0s 7ms/step - loss: 10.6303 - mae: 10.6303\n",
            "Epoch 3/5\n",
            "1/1 [==============================] - 0s 5ms/step - loss: 10.5803 - mae: 10.5803\n",
            "Epoch 4/5\n",
            "1/1 [==============================] - 0s 6ms/step - loss: 10.5303 - mae: 10.5303\n",
            "Epoch 5/5\n",
            "1/1 [==============================] - 0s 5ms/step - loss: 10.4803 - mae: 10.4803\n"
          ]
        },
        {
          "output_type": "execute_result",
          "data": {
            "text/plain": [
              "<keras.callbacks.History at 0x7f6e97345450>"
            ]
          },
          "metadata": {},
          "execution_count": 6
        }
      ]
    },
    {
      "cell_type": "code",
      "source": [
        "X,Y"
      ],
      "metadata": {
        "colab": {
          "base_uri": "https://localhost:8080/"
        },
        "id": "9RpWN-SBHOut",
        "outputId": "6df21e22-d52a-4329-e954-5cc5b7476282"
      },
      "execution_count": 7,
      "outputs": [
        {
          "output_type": "execute_result",
          "data": {
            "text/plain": [
              "(array([-7., -4., -1.,  2.,  5.,  8., 11.]),\n",
              " array([ 3.,  6.,  9., 12., 15., 18., 21.]))"
            ]
          },
          "metadata": {},
          "execution_count": 7
        }
      ]
    },
    {
      "cell_type": "code",
      "source": [
        "model_1.predict([11.0])"
      ],
      "metadata": {
        "colab": {
          "base_uri": "https://localhost:8080/"
        },
        "id": "3O0ohx7iHXL2",
        "outputId": "e95a1e8e-d62c-4c3c-f2ad-6f5868daabc1"
      },
      "execution_count": 8,
      "outputs": [
        {
          "output_type": "execute_result",
          "data": {
            "text/plain": [
              "array([[8.408297]], dtype=float32)"
            ]
          },
          "metadata": {},
          "execution_count": 8
        }
      ]
    },
    {
      "cell_type": "markdown",
      "source": [
        "# **Model No 2**"
      ],
      "metadata": {
        "id": "T_eDQMg8IIkn"
      }
    },
    {
      "cell_type": "code",
      "source": [
        "model_2 = tf.keras.Sequential([\n",
        "                               tf.keras.layers.Dense(100),\n",
        "                               tf.keras.layers.Dense(10),\n",
        "                               tf.keras.layers.Dense(1)\n",
        "])\n",
        "\n",
        "model_2.compile(\n",
        "    loss = tf.keras.losses.mae,\n",
        "    optimizer = tf.keras.optimizers.SGD(),\n",
        "    metrics=[\"mae\"]\n",
        ")\n",
        "\n",
        "model_2.fit(tf.expand_dims(X, axis=1), Y, epochs=5)"
      ],
      "metadata": {
        "colab": {
          "base_uri": "https://localhost:8080/"
        },
        "id": "ssp6t9k4HaT9",
        "outputId": "a489df0d-f345-4639-8761-c0dd3e9f3b87"
      },
      "execution_count": 9,
      "outputs": [
        {
          "output_type": "stream",
          "name": "stdout",
          "text": [
            "Epoch 1/5\n",
            "1/1 [==============================] - 0s 403ms/step - loss: 11.7546 - mae: 11.7546\n",
            "Epoch 2/5\n",
            "1/1 [==============================] - 0s 4ms/step - loss: 11.4491 - mae: 11.4491\n",
            "Epoch 3/5\n",
            "1/1 [==============================] - 0s 6ms/step - loss: 11.1392 - mae: 11.1392\n",
            "Epoch 4/5\n",
            "1/1 [==============================] - 0s 6ms/step - loss: 10.8219 - mae: 10.8219\n",
            "Epoch 5/5\n",
            "1/1 [==============================] - 0s 6ms/step - loss: 10.4938 - mae: 10.4938\n"
          ]
        },
        {
          "output_type": "execute_result",
          "data": {
            "text/plain": [
              "<keras.callbacks.History at 0x7f6e972f00d0>"
            ]
          },
          "metadata": {},
          "execution_count": 9
        }
      ]
    },
    {
      "cell_type": "code",
      "source": [
        "X,Y"
      ],
      "metadata": {
        "colab": {
          "base_uri": "https://localhost:8080/"
        },
        "id": "KVkmaJBwIk3c",
        "outputId": "ae0f468c-d700-4f21-9f0a-1b327f2b6f7a"
      },
      "execution_count": 10,
      "outputs": [
        {
          "output_type": "execute_result",
          "data": {
            "text/plain": [
              "(array([-7., -4., -1.,  2.,  5.,  8., 11.]),\n",
              " array([ 3.,  6.,  9., 12., 15., 18., 21.]))"
            ]
          },
          "metadata": {},
          "execution_count": 10
        }
      ]
    },
    {
      "cell_type": "code",
      "source": [
        "model_2.predict([11.0])"
      ],
      "metadata": {
        "colab": {
          "base_uri": "https://localhost:8080/"
        },
        "id": "Kwt5olDYIrr0",
        "outputId": "df6f3327-1137-4ca2-d9ca-b92b4061edc4"
      },
      "execution_count": 11,
      "outputs": [
        {
          "output_type": "execute_result",
          "data": {
            "text/plain": [
              "array([[8.891806]], dtype=float32)"
            ]
          },
          "metadata": {},
          "execution_count": 11
        }
      ]
    },
    {
      "cell_type": "markdown",
      "source": [
        "# **Improving The Model**\n",
        "\n",
        "**We Can Improve Our Own Model By ALtering The Steps We took To Create The Model**\n",
        "\n",
        "**Converting Smaller Model To Larger Model**\n",
        "\n"
      ],
      "metadata": {
        "id": "eGAQwBvxI1er"
      }
    },
    {
      "cell_type": "markdown",
      "source": [
        "# **Model No 3**"
      ],
      "metadata": {
        "id": "WA6vbi6fJJL3"
      }
    },
    {
      "cell_type": "code",
      "source": [
        "model_3 = tf.keras.Sequential([\n",
        "                               tf.keras.layers.Dense(100, activation='relu'),\n",
        "                               tf.keras.layers.Dense(10),\n",
        "                               tf.keras.layers.Dense(1)\n",
        "])\n",
        "\n",
        "model_3.compile(\n",
        "    loss = tf.keras.losses.mae,\n",
        "    optimizer = tf.keras.optimizers.SGD(),\n",
        "    metrics=[\"mae\"]\n",
        ")\n",
        "\n",
        "\n",
        "model_3.fit(tf.expand_dims(X, axis=1), Y, epochs=100)"
      ],
      "metadata": {
        "colab": {
          "base_uri": "https://localhost:8080/"
        },
        "id": "b8lOtmFiIuFo",
        "outputId": "eb799a6b-cec3-4be6-99da-037ccdaecbea"
      },
      "execution_count": 12,
      "outputs": [
        {
          "output_type": "stream",
          "name": "stdout",
          "text": [
            "Epoch 1/100\n",
            "1/1 [==============================] - 0s 345ms/step - loss: 12.6252 - mae: 12.6252\n",
            "Epoch 2/100\n",
            "1/1 [==============================] - 0s 6ms/step - loss: 12.1742 - mae: 12.1742\n",
            "Epoch 3/100\n",
            "1/1 [==============================] - 0s 4ms/step - loss: 11.7333 - mae: 11.7333\n",
            "Epoch 4/100\n",
            "1/1 [==============================] - 0s 8ms/step - loss: 11.2941 - mae: 11.2941\n",
            "Epoch 5/100\n",
            "1/1 [==============================] - 0s 8ms/step - loss: 10.8531 - mae: 10.8531\n",
            "Epoch 6/100\n",
            "1/1 [==============================] - 0s 6ms/step - loss: 10.3895 - mae: 10.3895\n",
            "Epoch 7/100\n",
            "1/1 [==============================] - 0s 4ms/step - loss: 9.9002 - mae: 9.9002\n",
            "Epoch 8/100\n",
            "1/1 [==============================] - 0s 9ms/step - loss: 9.3777 - mae: 9.3777\n",
            "Epoch 9/100\n",
            "1/1 [==============================] - 0s 10ms/step - loss: 8.8033 - mae: 8.8033\n",
            "Epoch 10/100\n",
            "1/1 [==============================] - 0s 5ms/step - loss: 8.1787 - mae: 8.1787\n",
            "Epoch 11/100\n",
            "1/1 [==============================] - 0s 5ms/step - loss: 7.5796 - mae: 7.5796\n",
            "Epoch 12/100\n",
            "1/1 [==============================] - 0s 6ms/step - loss: 6.9385 - mae: 6.9385\n",
            "Epoch 13/100\n",
            "1/1 [==============================] - 0s 6ms/step - loss: 6.2076 - mae: 6.2076\n",
            "Epoch 14/100\n",
            "1/1 [==============================] - 0s 6ms/step - loss: 5.3648 - mae: 5.3648\n",
            "Epoch 15/100\n",
            "1/1 [==============================] - 0s 6ms/step - loss: 4.3888 - mae: 4.3888\n",
            "Epoch 16/100\n",
            "1/1 [==============================] - 0s 6ms/step - loss: 3.8760 - mae: 3.8760\n",
            "Epoch 17/100\n",
            "1/1 [==============================] - 0s 6ms/step - loss: 3.8329 - mae: 3.8329\n",
            "Epoch 18/100\n",
            "1/1 [==============================] - 0s 6ms/step - loss: 3.7885 - mae: 3.7885\n",
            "Epoch 19/100\n",
            "1/1 [==============================] - 0s 11ms/step - loss: 3.8630 - mae: 3.8630\n",
            "Epoch 20/100\n",
            "1/1 [==============================] - 0s 7ms/step - loss: 3.8349 - mae: 3.8349\n",
            "Epoch 21/100\n",
            "1/1 [==============================] - 0s 8ms/step - loss: 3.7913 - mae: 3.7913\n",
            "Epoch 22/100\n",
            "1/1 [==============================] - 0s 7ms/step - loss: 3.7471 - mae: 3.7471\n",
            "Epoch 23/100\n",
            "1/1 [==============================] - 0s 8ms/step - loss: 3.8467 - mae: 3.8467\n",
            "Epoch 24/100\n",
            "1/1 [==============================] - 0s 8ms/step - loss: 3.8087 - mae: 3.8087\n",
            "Epoch 25/100\n",
            "1/1 [==============================] - 0s 4ms/step - loss: 3.7643 - mae: 3.7643\n",
            "Epoch 26/100\n",
            "1/1 [==============================] - 0s 8ms/step - loss: 3.7612 - mae: 3.7612\n",
            "Epoch 27/100\n",
            "1/1 [==============================] - 0s 6ms/step - loss: 3.8093 - mae: 3.8093\n",
            "Epoch 28/100\n",
            "1/1 [==============================] - 0s 6ms/step - loss: 3.7658 - mae: 3.7658\n",
            "Epoch 29/100\n",
            "1/1 [==============================] - 0s 5ms/step - loss: 3.7211 - mae: 3.7211\n",
            "Epoch 30/100\n",
            "1/1 [==============================] - 0s 20ms/step - loss: 3.7413 - mae: 3.7413\n",
            "Epoch 31/100\n",
            "1/1 [==============================] - 0s 8ms/step - loss: 3.7665 - mae: 3.7665\n",
            "Epoch 32/100\n",
            "1/1 [==============================] - 0s 10ms/step - loss: 3.7361 - mae: 3.7361\n",
            "Epoch 33/100\n",
            "1/1 [==============================] - 0s 8ms/step - loss: 3.6928 - mae: 3.6928\n",
            "Epoch 34/100\n",
            "1/1 [==============================] - 0s 16ms/step - loss: 3.7598 - mae: 3.7598\n",
            "Epoch 35/100\n",
            "1/1 [==============================] - 0s 14ms/step - loss: 3.7382 - mae: 3.7382\n",
            "Epoch 36/100\n",
            "1/1 [==============================] - 0s 23ms/step - loss: 3.6933 - mae: 3.6933\n",
            "Epoch 37/100\n",
            "1/1 [==============================] - 0s 18ms/step - loss: 3.6505 - mae: 3.6505\n",
            "Epoch 38/100\n",
            "1/1 [==============================] - 0s 11ms/step - loss: 3.7377 - mae: 3.7377\n",
            "Epoch 39/100\n",
            "1/1 [==============================] - 0s 15ms/step - loss: 3.6935 - mae: 3.6935\n",
            "Epoch 40/100\n",
            "1/1 [==============================] - 0s 4ms/step - loss: 3.6480 - mae: 3.6480\n",
            "Epoch 41/100\n",
            "1/1 [==============================] - 0s 11ms/step - loss: 3.6515 - mae: 3.6515\n",
            "Epoch 42/100\n",
            "1/1 [==============================] - 0s 14ms/step - loss: 3.7086 - mae: 3.7086\n",
            "Epoch 43/100\n",
            "1/1 [==============================] - 0s 11ms/step - loss: 3.6635 - mae: 3.6635\n",
            "Epoch 44/100\n",
            "1/1 [==============================] - 0s 10ms/step - loss: 3.6171 - mae: 3.6171\n",
            "Epoch 45/100\n",
            "1/1 [==============================] - 0s 7ms/step - loss: 3.6606 - mae: 3.6606\n",
            "Epoch 46/100\n",
            "1/1 [==============================] - 0s 16ms/step - loss: 3.6620 - mae: 3.6620\n",
            "Epoch 47/100\n",
            "1/1 [==============================] - 0s 27ms/step - loss: 3.6163 - mae: 3.6163\n",
            "Epoch 48/100\n",
            "1/1 [==============================] - 0s 9ms/step - loss: 3.5693 - mae: 3.5693\n",
            "Epoch 49/100\n",
            "1/1 [==============================] - 0s 15ms/step - loss: 3.6509 - mae: 3.6509\n",
            "Epoch 50/100\n",
            "1/1 [==============================] - 0s 18ms/step - loss: 3.6462 - mae: 3.6462\n",
            "Epoch 51/100\n",
            "1/1 [==============================] - 0s 6ms/step - loss: 3.5842 - mae: 3.5842\n",
            "Epoch 52/100\n",
            "1/1 [==============================] - 0s 11ms/step - loss: 3.5836 - mae: 3.5836\n",
            "Epoch 53/100\n",
            "1/1 [==============================] - 0s 8ms/step - loss: 3.6281 - mae: 3.6281\n",
            "Epoch 54/100\n",
            "1/1 [==============================] - 0s 14ms/step - loss: 3.5818 - mae: 3.5818\n",
            "Epoch 55/100\n",
            "1/1 [==============================] - 0s 4ms/step - loss: 3.5344 - mae: 3.5344\n",
            "Epoch 56/100\n",
            "1/1 [==============================] - 0s 4ms/step - loss: 3.5765 - mae: 3.5765\n",
            "Epoch 57/100\n",
            "1/1 [==============================] - 0s 5ms/step - loss: 3.5790 - mae: 3.5790\n",
            "Epoch 58/100\n",
            "1/1 [==============================] - 0s 6ms/step - loss: 3.5470 - mae: 3.5470\n",
            "Epoch 59/100\n",
            "1/1 [==============================] - 0s 11ms/step - loss: 3.5131 - mae: 3.5131\n",
            "Epoch 60/100\n",
            "1/1 [==============================] - 0s 11ms/step - loss: 3.5917 - mae: 3.5917\n",
            "Epoch 61/100\n",
            "1/1 [==============================] - 0s 15ms/step - loss: 3.5450 - mae: 3.5450\n",
            "Epoch 62/100\n",
            "1/1 [==============================] - 0s 6ms/step - loss: 3.4970 - mae: 3.4970\n",
            "Epoch 63/100\n",
            "1/1 [==============================] - 0s 9ms/step - loss: 3.5086 - mae: 3.5086\n",
            "Epoch 64/100\n",
            "1/1 [==============================] - 0s 5ms/step - loss: 3.5407 - mae: 3.5407\n",
            "Epoch 65/100\n",
            "1/1 [==============================] - 0s 11ms/step - loss: 3.4933 - mae: 3.4933\n",
            "Epoch 66/100\n",
            "1/1 [==============================] - 0s 5ms/step - loss: 3.4444 - mae: 3.4444\n",
            "Epoch 67/100\n",
            "1/1 [==============================] - 0s 9ms/step - loss: 3.5199 - mae: 3.5199\n",
            "Epoch 68/100\n",
            "1/1 [==============================] - 0s 8ms/step - loss: 3.5055 - mae: 3.5055\n",
            "Epoch 69/100\n",
            "1/1 [==============================] - 0s 23ms/step - loss: 3.4568 - mae: 3.4568\n",
            "Epoch 70/100\n",
            "1/1 [==============================] - 0s 12ms/step - loss: 3.4473 - mae: 3.4473\n",
            "Epoch 71/100\n",
            "1/1 [==============================] - 0s 7ms/step - loss: 3.4997 - mae: 3.4997\n",
            "Epoch 72/100\n",
            "1/1 [==============================] - 0s 13ms/step - loss: 3.4515 - mae: 3.4515\n",
            "Epoch 73/100\n",
            "1/1 [==============================] - 0s 5ms/step - loss: 3.4020 - mae: 3.4020\n",
            "Epoch 74/100\n",
            "1/1 [==============================] - 0s 9ms/step - loss: 3.4485 - mae: 3.4485\n",
            "Epoch 75/100\n",
            "1/1 [==============================] - 0s 5ms/step - loss: 3.4544 - mae: 3.4544\n",
            "Epoch 76/100\n",
            "1/1 [==============================] - 0s 6ms/step - loss: 3.4133 - mae: 3.4133\n",
            "Epoch 77/100\n",
            "1/1 [==============================] - 0s 10ms/step - loss: 3.3910 - mae: 3.3910\n",
            "Epoch 78/100\n",
            "1/1 [==============================] - 0s 5ms/step - loss: 3.4555 - mae: 3.4555\n",
            "Epoch 79/100\n",
            "1/1 [==============================] - 0s 6ms/step - loss: 3.4064 - mae: 3.4064\n",
            "Epoch 80/100\n",
            "1/1 [==============================] - 0s 9ms/step - loss: 3.3560 - mae: 3.3560\n",
            "Epoch 81/100\n",
            "1/1 [==============================] - 0s 11ms/step - loss: 3.3945 - mae: 3.3945\n",
            "Epoch 82/100\n",
            "1/1 [==============================] - 0s 7ms/step - loss: 3.3991 - mae: 3.3991\n",
            "Epoch 83/100\n",
            "1/1 [==============================] - 0s 5ms/step - loss: 3.3491 - mae: 3.3491\n",
            "Epoch 84/100\n",
            "1/1 [==============================] - 0s 9ms/step - loss: 3.3105 - mae: 3.3105\n",
            "Epoch 85/100\n",
            "1/1 [==============================] - 0s 17ms/step - loss: 3.4085 - mae: 3.4085\n",
            "Epoch 86/100\n",
            "1/1 [==============================] - 0s 10ms/step - loss: 3.3585 - mae: 3.3585\n",
            "Epoch 87/100\n",
            "1/1 [==============================] - 0s 16ms/step - loss: 3.3070 - mae: 3.3070\n",
            "Epoch 88/100\n",
            "1/1 [==============================] - 0s 4ms/step - loss: 3.3465 - mae: 3.3465\n",
            "Epoch 89/100\n",
            "1/1 [==============================] - 0s 11ms/step - loss: 3.3495 - mae: 3.3495\n",
            "Epoch 90/100\n",
            "1/1 [==============================] - 0s 7ms/step - loss: 3.2985 - mae: 3.2985\n",
            "Epoch 91/100\n",
            "1/1 [==============================] - 0s 14ms/step - loss: 3.2586 - mae: 3.2586\n",
            "Epoch 92/100\n",
            "1/1 [==============================] - 0s 16ms/step - loss: 3.3399 - mae: 3.3399\n",
            "Epoch 93/100\n",
            "1/1 [==============================] - 0s 12ms/step - loss: 3.3055 - mae: 3.3055\n",
            "Epoch 94/100\n",
            "1/1 [==============================] - 0s 7ms/step - loss: 3.2547 - mae: 3.2547\n",
            "Epoch 95/100\n",
            "1/1 [==============================] - 0s 6ms/step - loss: 3.3031 - mae: 3.3031\n",
            "Epoch 96/100\n",
            "1/1 [==============================] - 0s 5ms/step - loss: 3.2966 - mae: 3.2966\n",
            "Epoch 97/100\n",
            "1/1 [==============================] - 0s 16ms/step - loss: 3.2443 - mae: 3.2443\n",
            "Epoch 98/100\n",
            "1/1 [==============================] - 0s 9ms/step - loss: 3.2162 - mae: 3.2162\n",
            "Epoch 99/100\n",
            "1/1 [==============================] - 0s 7ms/step - loss: 3.2853 - mae: 3.2853\n",
            "Epoch 100/100\n",
            "1/1 [==============================] - 0s 10ms/step - loss: 3.2334 - mae: 3.2334\n"
          ]
        },
        {
          "output_type": "execute_result",
          "data": {
            "text/plain": [
              "<keras.callbacks.History at 0x7f6e96c89250>"
            ]
          },
          "metadata": {},
          "execution_count": 12
        }
      ]
    },
    {
      "cell_type": "code",
      "source": [
        "X,Y"
      ],
      "metadata": {
        "colab": {
          "base_uri": "https://localhost:8080/"
        },
        "id": "xTM3keXYJw68",
        "outputId": "70781629-e6c0-4c98-eee7-2ff59ebbda13"
      },
      "execution_count": 13,
      "outputs": [
        {
          "output_type": "execute_result",
          "data": {
            "text/plain": [
              "(array([-7., -4., -1.,  2.,  5.,  8., 11.]),\n",
              " array([ 3.,  6.,  9., 12., 15., 18., 21.]))"
            ]
          },
          "metadata": {},
          "execution_count": 13
        }
      ]
    },
    {
      "cell_type": "code",
      "source": [
        "model_3.predict([11.0])"
      ],
      "metadata": {
        "colab": {
          "base_uri": "https://localhost:8080/"
        },
        "id": "zvlvH9ugJ1s8",
        "outputId": "c8a8ee34-15d7-4964-a6f6-2a33d92f6ea9"
      },
      "execution_count": 14,
      "outputs": [
        {
          "output_type": "execute_result",
          "data": {
            "text/plain": [
              "array([[23.700315]], dtype=float32)"
            ]
          },
          "metadata": {},
          "execution_count": 14
        }
      ]
    },
    {
      "cell_type": "markdown",
      "source": [
        "# **Model No 4**"
      ],
      "metadata": {
        "id": "UshtR9VZJ5W2"
      }
    },
    {
      "cell_type": "code",
      "source": [
        "model_4 = tf.keras.Sequential([\n",
        "                               tf.keras.layers.Dense(100, activation='relu'),\n",
        "                               tf.keras.layers.Dense(10, activation='relu'),\n",
        "                               tf.keras.layers.Dense(1)\n",
        "])\n",
        "\n",
        "model_4.compile(\n",
        "    loss = tf.keras.losses.mae,\n",
        "    optimizer = tf.keras.optimizers.Adam(learning_rate=0.1),\n",
        "    metrics=[\"mae\"]\n",
        ")\n",
        "\n",
        "model_4.fit(tf.expand_dims(X, axis=1), Y, epochs=100)"
      ],
      "metadata": {
        "colab": {
          "base_uri": "https://localhost:8080/"
        },
        "id": "tsUcfTbkJ36D",
        "outputId": "f9a37ec0-49a3-4874-9914-40a94f3498a8"
      },
      "execution_count": 15,
      "outputs": [
        {
          "output_type": "stream",
          "name": "stdout",
          "text": [
            "Epoch 1/100\n",
            "1/1 [==============================] - 1s 999ms/step - loss: 11.5238 - mae: 11.5238\n",
            "Epoch 2/100\n",
            "1/1 [==============================] - 0s 17ms/step - loss: 6.3338 - mae: 6.3338\n",
            "Epoch 3/100\n",
            "1/1 [==============================] - 0s 14ms/step - loss: 9.8970 - mae: 9.8970\n",
            "Epoch 4/100\n",
            "1/1 [==============================] - 0s 9ms/step - loss: 7.7638 - mae: 7.7638\n",
            "Epoch 5/100\n",
            "1/1 [==============================] - 0s 11ms/step - loss: 3.9003 - mae: 3.9003\n",
            "Epoch 6/100\n",
            "1/1 [==============================] - 0s 9ms/step - loss: 5.6766 - mae: 5.6766\n",
            "Epoch 7/100\n",
            "1/1 [==============================] - 0s 17ms/step - loss: 5.9497 - mae: 5.9497\n",
            "Epoch 8/100\n",
            "1/1 [==============================] - 0s 14ms/step - loss: 4.5815 - mae: 4.5815\n",
            "Epoch 9/100\n",
            "1/1 [==============================] - 0s 6ms/step - loss: 3.2997 - mae: 3.2997\n",
            "Epoch 10/100\n",
            "1/1 [==============================] - 0s 9ms/step - loss: 3.9717 - mae: 3.9717\n",
            "Epoch 11/100\n",
            "1/1 [==============================] - 0s 6ms/step - loss: 3.0371 - mae: 3.0371\n",
            "Epoch 12/100\n",
            "1/1 [==============================] - 0s 11ms/step - loss: 2.3165 - mae: 2.3165\n",
            "Epoch 13/100\n",
            "1/1 [==============================] - 0s 11ms/step - loss: 2.4509 - mae: 2.4509\n",
            "Epoch 14/100\n",
            "1/1 [==============================] - 0s 20ms/step - loss: 1.6358 - mae: 1.6358\n",
            "Epoch 15/100\n",
            "1/1 [==============================] - 0s 7ms/step - loss: 1.5276 - mae: 1.5276\n",
            "Epoch 16/100\n",
            "1/1 [==============================] - 0s 12ms/step - loss: 0.8045 - mae: 0.8045\n",
            "Epoch 17/100\n",
            "1/1 [==============================] - 0s 12ms/step - loss: 0.8079 - mae: 0.8079\n",
            "Epoch 18/100\n",
            "1/1 [==============================] - 0s 9ms/step - loss: 1.5381 - mae: 1.5381\n",
            "Epoch 19/100\n",
            "1/1 [==============================] - 0s 10ms/step - loss: 0.8045 - mae: 0.8045\n",
            "Epoch 20/100\n",
            "1/1 [==============================] - 0s 12ms/step - loss: 1.9437 - mae: 1.9437\n",
            "Epoch 21/100\n",
            "1/1 [==============================] - 0s 8ms/step - loss: 2.4835 - mae: 2.4835\n",
            "Epoch 22/100\n",
            "1/1 [==============================] - 0s 10ms/step - loss: 2.0250 - mae: 2.0250\n",
            "Epoch 23/100\n",
            "1/1 [==============================] - 0s 9ms/step - loss: 0.7590 - mae: 0.7590\n",
            "Epoch 24/100\n",
            "1/1 [==============================] - 0s 9ms/step - loss: 2.4455 - mae: 2.4455\n",
            "Epoch 25/100\n",
            "1/1 [==============================] - 0s 9ms/step - loss: 2.7319 - mae: 2.7319\n",
            "Epoch 26/100\n",
            "1/1 [==============================] - 0s 9ms/step - loss: 1.1475 - mae: 1.1475\n",
            "Epoch 27/100\n",
            "1/1 [==============================] - 0s 20ms/step - loss: 1.7412 - mae: 1.7412\n",
            "Epoch 28/100\n",
            "1/1 [==============================] - 0s 18ms/step - loss: 2.6615 - mae: 2.6615\n",
            "Epoch 29/100\n",
            "1/1 [==============================] - 0s 25ms/step - loss: 2.7801 - mae: 2.7801\n",
            "Epoch 30/100\n",
            "1/1 [==============================] - 0s 13ms/step - loss: 1.9649 - mae: 1.9649\n",
            "Epoch 31/100\n",
            "1/1 [==============================] - 0s 37ms/step - loss: 0.4194 - mae: 0.4194\n",
            "Epoch 32/100\n",
            "1/1 [==============================] - 0s 19ms/step - loss: 1.1356 - mae: 1.1356\n",
            "Epoch 33/100\n",
            "1/1 [==============================] - 0s 14ms/step - loss: 0.9667 - mae: 0.9667\n",
            "Epoch 34/100\n",
            "1/1 [==============================] - 0s 19ms/step - loss: 1.0882 - mae: 1.0882\n",
            "Epoch 35/100\n",
            "1/1 [==============================] - 0s 15ms/step - loss: 0.9898 - mae: 0.9898\n",
            "Epoch 36/100\n",
            "1/1 [==============================] - 0s 32ms/step - loss: 0.3907 - mae: 0.3907\n",
            "Epoch 37/100\n",
            "1/1 [==============================] - 0s 11ms/step - loss: 0.5542 - mae: 0.5542\n",
            "Epoch 38/100\n",
            "1/1 [==============================] - 0s 15ms/step - loss: 1.1814 - mae: 1.1814\n",
            "Epoch 39/100\n",
            "1/1 [==============================] - 0s 18ms/step - loss: 1.1528 - mae: 1.1528\n",
            "Epoch 40/100\n",
            "1/1 [==============================] - 0s 7ms/step - loss: 0.4821 - mae: 0.4821\n",
            "Epoch 41/100\n",
            "1/1 [==============================] - 0s 18ms/step - loss: 1.3694 - mae: 1.3694\n",
            "Epoch 42/100\n",
            "1/1 [==============================] - 0s 17ms/step - loss: 1.7087 - mae: 1.7087\n",
            "Epoch 43/100\n",
            "1/1 [==============================] - 0s 21ms/step - loss: 0.7867 - mae: 0.7867\n",
            "Epoch 44/100\n",
            "1/1 [==============================] - 0s 17ms/step - loss: 1.0446 - mae: 1.0446\n",
            "Epoch 45/100\n",
            "1/1 [==============================] - 0s 11ms/step - loss: 1.7204 - mae: 1.7204\n",
            "Epoch 46/100\n",
            "1/1 [==============================] - 0s 12ms/step - loss: 1.5450 - mae: 1.5450\n",
            "Epoch 47/100\n",
            "1/1 [==============================] - 0s 13ms/step - loss: 0.5541 - mae: 0.5541\n",
            "Epoch 48/100\n",
            "1/1 [==============================] - 0s 9ms/step - loss: 1.7081 - mae: 1.7081\n",
            "Epoch 49/100\n",
            "1/1 [==============================] - 0s 19ms/step - loss: 2.2537 - mae: 2.2537\n",
            "Epoch 50/100\n",
            "1/1 [==============================] - 0s 13ms/step - loss: 1.7389 - mae: 1.7389\n",
            "Epoch 51/100\n",
            "1/1 [==============================] - 0s 24ms/step - loss: 0.6250 - mae: 0.6250\n",
            "Epoch 52/100\n",
            "1/1 [==============================] - 0s 12ms/step - loss: 1.8269 - mae: 1.8269\n",
            "Epoch 53/100\n",
            "1/1 [==============================] - 0s 13ms/step - loss: 2.0312 - mae: 2.0312\n",
            "Epoch 54/100\n",
            "1/1 [==============================] - 0s 14ms/step - loss: 1.5686 - mae: 1.5686\n",
            "Epoch 55/100\n",
            "1/1 [==============================] - 0s 12ms/step - loss: 0.7332 - mae: 0.7332\n",
            "Epoch 56/100\n",
            "1/1 [==============================] - 0s 12ms/step - loss: 2.0144 - mae: 2.0144\n",
            "Epoch 57/100\n",
            "1/1 [==============================] - 0s 14ms/step - loss: 2.4985 - mae: 2.4985\n",
            "Epoch 58/100\n",
            "1/1 [==============================] - 0s 18ms/step - loss: 1.5089 - mae: 1.5089\n",
            "Epoch 59/100\n",
            "1/1 [==============================] - 0s 8ms/step - loss: 0.5322 - mae: 0.5322\n",
            "Epoch 60/100\n",
            "1/1 [==============================] - 0s 8ms/step - loss: 1.1981 - mae: 1.1981\n",
            "Epoch 61/100\n",
            "1/1 [==============================] - 0s 12ms/step - loss: 0.7921 - mae: 0.7921\n",
            "Epoch 62/100\n",
            "1/1 [==============================] - 0s 12ms/step - loss: 1.3503 - mae: 1.3503\n",
            "Epoch 63/100\n",
            "1/1 [==============================] - 0s 19ms/step - loss: 1.4895 - mae: 1.4895\n",
            "Epoch 64/100\n",
            "1/1 [==============================] - 0s 18ms/step - loss: 0.5334 - mae: 0.5334\n",
            "Epoch 65/100\n",
            "1/1 [==============================] - 0s 8ms/step - loss: 1.1712 - mae: 1.1712\n",
            "Epoch 66/100\n",
            "1/1 [==============================] - 0s 19ms/step - loss: 1.8752 - mae: 1.8752\n",
            "Epoch 67/100\n",
            "1/1 [==============================] - 0s 20ms/step - loss: 1.8071 - mae: 1.8071\n",
            "Epoch 68/100\n",
            "1/1 [==============================] - 0s 21ms/step - loss: 0.8998 - mae: 0.8998\n",
            "Epoch 69/100\n",
            "1/1 [==============================] - 0s 15ms/step - loss: 1.0830 - mae: 1.0830\n",
            "Epoch 70/100\n",
            "1/1 [==============================] - 0s 13ms/step - loss: 1.4932 - mae: 1.4932\n",
            "Epoch 71/100\n",
            "1/1 [==============================] - 0s 10ms/step - loss: 0.9416 - mae: 0.9416\n",
            "Epoch 72/100\n",
            "1/1 [==============================] - 0s 16ms/step - loss: 1.0802 - mae: 1.0802\n",
            "Epoch 73/100\n",
            "1/1 [==============================] - 0s 16ms/step - loss: 1.4263 - mae: 1.4263\n",
            "Epoch 74/100\n",
            "1/1 [==============================] - 0s 9ms/step - loss: 0.9258 - mae: 0.9258\n",
            "Epoch 75/100\n",
            "1/1 [==============================] - 0s 15ms/step - loss: 1.1189 - mae: 1.1189\n",
            "Epoch 76/100\n",
            "1/1 [==============================] - 0s 13ms/step - loss: 1.1766 - mae: 1.1766\n",
            "Epoch 77/100\n",
            "1/1 [==============================] - 0s 11ms/step - loss: 0.1696 - mae: 0.1696\n",
            "Epoch 78/100\n",
            "1/1 [==============================] - 0s 11ms/step - loss: 1.7497 - mae: 1.7497\n",
            "Epoch 79/100\n",
            "1/1 [==============================] - 0s 9ms/step - loss: 2.2858 - mae: 2.2858\n",
            "Epoch 80/100\n",
            "1/1 [==============================] - 0s 10ms/step - loss: 0.5509 - mae: 0.5509\n",
            "Epoch 81/100\n",
            "1/1 [==============================] - 0s 20ms/step - loss: 3.2694 - mae: 3.2694\n",
            "Epoch 82/100\n",
            "1/1 [==============================] - 0s 9ms/step - loss: 2.3127 - mae: 2.3127\n",
            "Epoch 83/100\n",
            "1/1 [==============================] - 0s 18ms/step - loss: 0.8134 - mae: 0.8134\n",
            "Epoch 84/100\n",
            "1/1 [==============================] - 0s 13ms/step - loss: 1.3107 - mae: 1.3107\n",
            "Epoch 85/100\n",
            "1/1 [==============================] - 0s 8ms/step - loss: 0.5340 - mae: 0.5340\n",
            "Epoch 86/100\n",
            "1/1 [==============================] - 0s 10ms/step - loss: 1.5367 - mae: 1.5367\n",
            "Epoch 87/100\n",
            "1/1 [==============================] - 0s 15ms/step - loss: 1.8691 - mae: 1.8691\n",
            "Epoch 88/100\n",
            "1/1 [==============================] - 0s 9ms/step - loss: 0.7614 - mae: 0.7614\n",
            "Epoch 89/100\n",
            "1/1 [==============================] - 0s 7ms/step - loss: 1.3154 - mae: 1.3154\n",
            "Epoch 90/100\n",
            "1/1 [==============================] - 0s 8ms/step - loss: 1.8947 - mae: 1.8947\n",
            "Epoch 91/100\n",
            "1/1 [==============================] - 0s 12ms/step - loss: 1.7366 - mae: 1.7366\n",
            "Epoch 92/100\n",
            "1/1 [==============================] - 0s 10ms/step - loss: 1.0275 - mae: 1.0275\n",
            "Epoch 93/100\n",
            "1/1 [==============================] - 0s 7ms/step - loss: 0.5500 - mae: 0.5500\n",
            "Epoch 94/100\n",
            "1/1 [==============================] - 0s 17ms/step - loss: 1.0844 - mae: 1.0844\n",
            "Epoch 95/100\n",
            "1/1 [==============================] - 0s 11ms/step - loss: 0.6543 - mae: 0.6543\n",
            "Epoch 96/100\n",
            "1/1 [==============================] - 0s 6ms/step - loss: 0.6489 - mae: 0.6489\n",
            "Epoch 97/100\n",
            "1/1 [==============================] - 0s 9ms/step - loss: 0.9869 - mae: 0.9869\n",
            "Epoch 98/100\n",
            "1/1 [==============================] - 0s 5ms/step - loss: 0.6385 - mae: 0.6385\n",
            "Epoch 99/100\n",
            "1/1 [==============================] - 0s 7ms/step - loss: 0.4981 - mae: 0.4981\n",
            "Epoch 100/100\n",
            "1/1 [==============================] - 0s 7ms/step - loss: 0.5039 - mae: 0.5039\n"
          ]
        },
        {
          "output_type": "execute_result",
          "data": {
            "text/plain": [
              "<keras.callbacks.History at 0x7f6e963ad810>"
            ]
          },
          "metadata": {},
          "execution_count": 15
        }
      ]
    },
    {
      "cell_type": "code",
      "source": [
        "X,Y"
      ],
      "metadata": {
        "colab": {
          "base_uri": "https://localhost:8080/"
        },
        "id": "fjDE4BBvKc0R",
        "outputId": "bbc9e91f-c59c-40f6-d638-de7f7ab3c775"
      },
      "execution_count": 16,
      "outputs": [
        {
          "output_type": "execute_result",
          "data": {
            "text/plain": [
              "(array([-7., -4., -1.,  2.,  5.,  8., 11.]),\n",
              " array([ 3.,  6.,  9., 12., 15., 18., 21.]))"
            ]
          },
          "metadata": {},
          "execution_count": 16
        }
      ]
    },
    {
      "cell_type": "code",
      "source": [
        "model_4.predict([11.0])"
      ],
      "metadata": {
        "colab": {
          "base_uri": "https://localhost:8080/"
        },
        "id": "1qmK_27SKfmH",
        "outputId": "78fcaf50-e6af-4ca7-9353-e2fdde27c79c"
      },
      "execution_count": 17,
      "outputs": [
        {
          "output_type": "execute_result",
          "data": {
            "text/plain": [
              "array([[20.41425]], dtype=float32)"
            ]
          },
          "metadata": {},
          "execution_count": 17
        }
      ]
    },
    {
      "cell_type": "markdown",
      "source": [
        "# **Common Ways**\n",
        "\n",
        "**1-Adding Layers**\n",
        "\n",
        "**2-Increase Number of Hidden layers**\n",
        "\n",
        "**3-Change The Activation Function**\n",
        "\n",
        "**4-Change The Optimization Function**\n",
        "\n",
        "**5-Changing The Learning Rate**\n",
        "\n",
        "**6-Fitting The Longer**"
      ],
      "metadata": {
        "id": "vtwtSDlULH9b"
      }
    },
    {
      "cell_type": "markdown",
      "source": [
        "# **Evaluating The Model**\n",
        "\n",
        "**When You Evaluate The Model, There are Three Words for You, Visualize, Visualize, Visualize**"
      ],
      "metadata": {
        "id": "4AZ4mMEHLn1o"
      }
    },
    {
      "cell_type": "code",
      "source": [
        "X = tf.range(-100,100,4)\n",
        "Y = X+10"
      ],
      "metadata": {
        "id": "CegT7rMBKh_E"
      },
      "execution_count": 18,
      "outputs": []
    },
    {
      "cell_type": "code",
      "source": [
        "X,Y"
      ],
      "metadata": {
        "colab": {
          "base_uri": "https://localhost:8080/"
        },
        "id": "9JeRYTH-L5jO",
        "outputId": "5184f96a-be25-435c-84cf-1e7876c96881"
      },
      "execution_count": 19,
      "outputs": [
        {
          "output_type": "execute_result",
          "data": {
            "text/plain": [
              "(<tf.Tensor: shape=(50,), dtype=int32, numpy=\n",
              " array([-100,  -96,  -92,  -88,  -84,  -80,  -76,  -72,  -68,  -64,  -60,\n",
              "         -56,  -52,  -48,  -44,  -40,  -36,  -32,  -28,  -24,  -20,  -16,\n",
              "         -12,   -8,   -4,    0,    4,    8,   12,   16,   20,   24,   28,\n",
              "          32,   36,   40,   44,   48,   52,   56,   60,   64,   68,   72,\n",
              "          76,   80,   84,   88,   92,   96], dtype=int32)>,\n",
              " <tf.Tensor: shape=(50,), dtype=int32, numpy=\n",
              " array([-90, -86, -82, -78, -74, -70, -66, -62, -58, -54, -50, -46, -42,\n",
              "        -38, -34, -30, -26, -22, -18, -14, -10,  -6,  -2,   2,   6,  10,\n",
              "         14,  18,  22,  26,  30,  34,  38,  42,  46,  50,  54,  58,  62,\n",
              "         66,  70,  74,  78,  82,  86,  90,  94,  98, 102, 106], dtype=int32)>)"
            ]
          },
          "metadata": {},
          "execution_count": 19
        }
      ]
    },
    {
      "cell_type": "markdown",
      "source": [
        "# **The Three DataSet(3-Dataset)**\n",
        "\n",
        "**Training-Data**\n",
        "\n",
        "**Validation-Data**\n",
        "\n",
        "**Test-Data**\n",
        "\n",
        "**The Ability for a machine Learning Model To Perform Well on Data it has been seen before**\n",
        "\n"
      ],
      "metadata": {
        "id": "8aY0-LKgL_T4"
      }
    },
    {
      "cell_type": "code",
      "source": [
        "X_train = X[:40]\n",
        "Y_train = Y[:40]\n",
        "X_test = X[40:]\n",
        "Y_test = Y[40:]"
      ],
      "metadata": {
        "id": "kI20_gA_L6R5"
      },
      "execution_count": 20,
      "outputs": []
    },
    {
      "cell_type": "code",
      "source": [
        "X_train.shape, Y_train.shape, X_test.shape, Y_test.shape"
      ],
      "metadata": {
        "colab": {
          "base_uri": "https://localhost:8080/"
        },
        "id": "swg4Q8bfMfqW",
        "outputId": "8f8ba09d-31cb-4ade-bd9c-bfa9c74060ac"
      },
      "execution_count": 21,
      "outputs": [
        {
          "output_type": "execute_result",
          "data": {
            "text/plain": [
              "(TensorShape([40]), TensorShape([40]), TensorShape([10]), TensorShape([10]))"
            ]
          },
          "metadata": {},
          "execution_count": 21
        }
      ]
    },
    {
      "cell_type": "code",
      "source": [
        "len(X)"
      ],
      "metadata": {
        "colab": {
          "base_uri": "https://localhost:8080/"
        },
        "id": "OQ4zm4vtMkx4",
        "outputId": "aa2b8503-fb35-4b6d-8144-ef180fb7843d"
      },
      "execution_count": 22,
      "outputs": [
        {
          "output_type": "execute_result",
          "data": {
            "text/plain": [
              "50"
            ]
          },
          "metadata": {},
          "execution_count": 22
        }
      ]
    },
    {
      "cell_type": "markdown",
      "source": [
        "# **Visualizing The Data**"
      ],
      "metadata": {
        "id": "RAEHVx0QMwE2"
      }
    },
    {
      "cell_type": "code",
      "source": [
        "plt.figure(figsize=(10,7))\n",
        "plt.scatter(X_train, Y_train, c='B', label='Training_Data')\n",
        "plt.scatter(X_test, Y_test, c='G', label='Test Data')\n",
        "plt.legend()"
      ],
      "metadata": {
        "colab": {
          "base_uri": "https://localhost:8080/",
          "height": 0
        },
        "id": "UXk1DsUfMrwT",
        "outputId": "c996bd8a-9339-49bc-bca7-ffc8c8bb65b0"
      },
      "execution_count": 23,
      "outputs": [
        {
          "output_type": "stream",
          "name": "stderr",
          "text": [
            "/usr/local/lib/python3.7/dist-packages/ipykernel_launcher.py:2: MatplotlibDeprecationWarning: Support for uppercase single-letter colors is deprecated since Matplotlib 3.1 and will be removed in 3.3; please use lowercase instead.\n",
            "  \n",
            "/usr/local/lib/python3.7/dist-packages/ipykernel_launcher.py:3: MatplotlibDeprecationWarning: Support for uppercase single-letter colors is deprecated since Matplotlib 3.1 and will be removed in 3.3; please use lowercase instead.\n",
            "  This is separate from the ipykernel package so we can avoid doing imports until\n"
          ]
        },
        {
          "output_type": "execute_result",
          "data": {
            "text/plain": [
              "<matplotlib.legend.Legend at 0x7f6e94059990>"
            ]
          },
          "metadata": {},
          "execution_count": 23
        },
        {
          "output_type": "display_data",
          "data": {
            "image/png": "[encoded data removed]",
            "text/plain": [
              "<Figure size 720x504 with 1 Axes>"
            ]
          },
          "metadata": {
            "needs_background": "light"
          }
        }
      ]
    },
    {
      "cell_type": "markdown",
      "source": [
        "# **Build Neural Network**\n",
        "\n",
        "**1- Create The Model**\n",
        "\n",
        "**2- Compiling The Model**\n",
        "\n",
        "**3- Build/Fit The Model**\n",
        "\n",
        "**4- Evaluate The Model**\n",
        "\n",
        "**Model Build Automatically if you defining Input_Shape**\n",
        "\n"
      ],
      "metadata": {
        "id": "iIE4p2HINHa2"
      }
    },
    {
      "cell_type": "markdown",
      "source": [
        "# **Model No 5**"
      ],
      "metadata": {
        "id": "KRQ8aT1iNo_O"
      }
    },
    {
      "cell_type": "code",
      "source": [
        "model_5 = tf.keras.Sequential([\n",
        "                               tf.keras.layers.Dense(100, activation='relu'),\n",
        "                               tf.keras.layers.Dense(10, activation='relu'),\n",
        "                               tf.keras.layers.Dense(1, input_shape=[1]),\n",
        "])\n",
        "\n",
        "model_5.compile(\n",
        "    loss = tf.keras.losses.mae,\n",
        "    optimizer = tf.keras.optimizers.SGD(),\n",
        "    metrics=[\"mae\"]\n",
        ")\n",
        "\n",
        "model_5.fit(tf.expand_dims(X,axis=1), Y, epochs=100)"
      ],
      "metadata": {
        "colab": {
          "base_uri": "https://localhost:8080/"
        },
        "id": "XzYKJ7yVNFDb",
        "outputId": "27057aec-df18-4300-a7c2-0f8efaa23cbb"
      },
      "execution_count": 24,
      "outputs": [
        {
          "output_type": "stream",
          "name": "stdout",
          "text": [
            "Epoch 1/100\n",
            "2/2 [==============================] - 1s 10ms/step - loss: 48.9660 - mae: 48.9660\n",
            "Epoch 2/100\n",
            "2/2 [==============================] - 0s 6ms/step - loss: 30.9675 - mae: 30.9675\n",
            "Epoch 3/100\n",
            "2/2 [==============================] - 0s 7ms/step - loss: 36.0972 - mae: 36.0972\n",
            "Epoch 4/100\n",
            "2/2 [==============================] - 0s 11ms/step - loss: 29.3725 - mae: 29.3725\n",
            "Epoch 5/100\n",
            "2/2 [==============================] - 0s 10ms/step - loss: 21.2847 - mae: 21.2847\n",
            "Epoch 6/100\n",
            "2/2 [==============================] - 0s 5ms/step - loss: 16.9840 - mae: 16.9840\n",
            "Epoch 7/100\n",
            "2/2 [==============================] - 0s 5ms/step - loss: 25.6282 - mae: 25.6282\n",
            "Epoch 8/100\n",
            "2/2 [==============================] - 0s 11ms/step - loss: 23.8946 - mae: 23.8946\n",
            "Epoch 9/100\n",
            "2/2 [==============================] - 0s 14ms/step - loss: 22.8306 - mae: 22.8306\n",
            "Epoch 10/100\n",
            "2/2 [==============================] - 0s 15ms/step - loss: 17.3551 - mae: 17.3551\n",
            "Epoch 11/100\n",
            "2/2 [==============================] - 0s 9ms/step - loss: 13.9872 - mae: 13.9872\n",
            "Epoch 12/100\n",
            "2/2 [==============================] - 0s 3ms/step - loss: 34.7839 - mae: 34.7839\n",
            "Epoch 13/100\n",
            "2/2 [==============================] - 0s 10ms/step - loss: 19.5908 - mae: 19.5908\n",
            "Epoch 14/100\n",
            "2/2 [==============================] - 0s 6ms/step - loss: 10.8398 - mae: 10.8398\n",
            "Epoch 15/100\n",
            "2/2 [==============================] - 0s 15ms/step - loss: 20.1880 - mae: 20.1880\n",
            "Epoch 16/100\n",
            "2/2 [==============================] - 0s 3ms/step - loss: 21.7429 - mae: 21.7429\n",
            "Epoch 17/100\n",
            "2/2 [==============================] - 0s 4ms/step - loss: 19.2974 - mae: 19.2974\n",
            "Epoch 18/100\n",
            "2/2 [==============================] - 0s 12ms/step - loss: 15.0794 - mae: 15.0794\n",
            "Epoch 19/100\n",
            "2/2 [==============================] - 0s 4ms/step - loss: 20.8202 - mae: 20.8202\n",
            "Epoch 20/100\n",
            "2/2 [==============================] - 0s 14ms/step - loss: 15.9241 - mae: 15.9241\n",
            "Epoch 21/100\n",
            "2/2 [==============================] - 0s 5ms/step - loss: 14.0325 - mae: 14.0325\n",
            "Epoch 22/100\n",
            "2/2 [==============================] - 0s 4ms/step - loss: 26.7642 - mae: 26.7642\n",
            "Epoch 23/100\n",
            "2/2 [==============================] - 0s 5ms/step - loss: 13.6329 - mae: 13.6329\n",
            "Epoch 24/100\n",
            "2/2 [==============================] - 0s 5ms/step - loss: 14.9909 - mae: 14.9909\n",
            "Epoch 25/100\n",
            "2/2 [==============================] - 0s 5ms/step - loss: 13.2104 - mae: 13.2104\n",
            "Epoch 26/100\n",
            "2/2 [==============================] - 0s 9ms/step - loss: 14.7483 - mae: 14.7483\n",
            "Epoch 27/100\n",
            "2/2 [==============================] - 0s 4ms/step - loss: 25.1220 - mae: 25.1220\n",
            "Epoch 28/100\n",
            "2/2 [==============================] - 0s 9ms/step - loss: 14.8072 - mae: 14.8072\n",
            "Epoch 29/100\n",
            "2/2 [==============================] - 0s 9ms/step - loss: 15.5121 - mae: 15.5121\n",
            "Epoch 30/100\n",
            "2/2 [==============================] - 0s 7ms/step - loss: 26.0715 - mae: 26.0715\n",
            "Epoch 31/100\n",
            "2/2 [==============================] - 0s 5ms/step - loss: 19.5427 - mae: 19.5427\n",
            "Epoch 32/100\n",
            "2/2 [==============================] - 0s 4ms/step - loss: 21.0278 - mae: 21.0278\n",
            "Epoch 33/100\n",
            "2/2 [==============================] - 0s 6ms/step - loss: 14.3024 - mae: 14.3024\n",
            "Epoch 34/100\n",
            "2/2 [==============================] - 0s 22ms/step - loss: 14.5964 - mae: 14.5964\n",
            "Epoch 35/100\n",
            "2/2 [==============================] - 0s 13ms/step - loss: 18.9559 - mae: 18.9559\n",
            "Epoch 36/100\n",
            "2/2 [==============================] - 0s 5ms/step - loss: 13.7235 - mae: 13.7235\n",
            "Epoch 37/100\n",
            "2/2 [==============================] - 0s 6ms/step - loss: 23.0060 - mae: 23.0060\n",
            "Epoch 38/100\n",
            "2/2 [==============================] - 0s 14ms/step - loss: 19.5742 - mae: 19.5742\n",
            "Epoch 39/100\n",
            "2/2 [==============================] - 0s 4ms/step - loss: 16.6129 - mae: 16.6129\n",
            "Epoch 40/100\n",
            "2/2 [==============================] - 0s 4ms/step - loss: 16.1611 - mae: 16.1611\n",
            "Epoch 41/100\n",
            "2/2 [==============================] - 0s 7ms/step - loss: 17.4999 - mae: 17.4999\n",
            "Epoch 42/100\n",
            "2/2 [==============================] - 0s 8ms/step - loss: 19.2397 - mae: 19.2397\n",
            "Epoch 43/100\n",
            "2/2 [==============================] - 0s 14ms/step - loss: 23.3454 - mae: 23.3454\n",
            "Epoch 44/100\n",
            "2/2 [==============================] - 0s 4ms/step - loss: 14.5389 - mae: 14.5389\n",
            "Epoch 45/100\n",
            "2/2 [==============================] - 0s 6ms/step - loss: 17.7784 - mae: 17.7784\n",
            "Epoch 46/100\n",
            "2/2 [==============================] - 0s 10ms/step - loss: 22.3156 - mae: 22.3156\n",
            "Epoch 47/100\n",
            "2/2 [==============================] - 0s 11ms/step - loss: 13.8256 - mae: 13.8256\n",
            "Epoch 48/100\n",
            "2/2 [==============================] - 0s 7ms/step - loss: 16.0977 - mae: 16.0977\n",
            "Epoch 49/100\n",
            "2/2 [==============================] - 0s 6ms/step - loss: 16.5027 - mae: 16.5027\n",
            "Epoch 50/100\n",
            "2/2 [==============================] - 0s 7ms/step - loss: 20.6499 - mae: 20.6499\n",
            "Epoch 51/100\n",
            "2/2 [==============================] - 0s 8ms/step - loss: 18.7113 - mae: 18.7113\n",
            "Epoch 52/100\n",
            "2/2 [==============================] - 0s 6ms/step - loss: 17.4133 - mae: 17.4133\n",
            "Epoch 53/100\n",
            "2/2 [==============================] - 0s 13ms/step - loss: 20.2821 - mae: 20.2821\n",
            "Epoch 54/100\n",
            "2/2 [==============================] - 0s 5ms/step - loss: 15.2553 - mae: 15.2553\n",
            "Epoch 55/100\n",
            "2/2 [==============================] - 0s 13ms/step - loss: 24.0495 - mae: 24.0495\n",
            "Epoch 56/100\n",
            "2/2 [==============================] - 0s 6ms/step - loss: 11.3266 - mae: 11.3266\n",
            "Epoch 57/100\n",
            "2/2 [==============================] - 0s 16ms/step - loss: 16.6857 - mae: 16.6857\n",
            "Epoch 58/100\n",
            "2/2 [==============================] - 0s 6ms/step - loss: 20.2376 - mae: 20.2376\n",
            "Epoch 59/100\n",
            "2/2 [==============================] - 0s 9ms/step - loss: 17.7747 - mae: 17.7747\n",
            "Epoch 60/100\n",
            "2/2 [==============================] - 0s 6ms/step - loss: 20.0483 - mae: 20.0483\n",
            "Epoch 61/100\n",
            "2/2 [==============================] - 0s 7ms/step - loss: 15.2002 - mae: 15.2002\n",
            "Epoch 62/100\n",
            "2/2 [==============================] - 0s 7ms/step - loss: 18.2990 - mae: 18.2990\n",
            "Epoch 63/100\n",
            "2/2 [==============================] - 0s 9ms/step - loss: 18.5028 - mae: 18.5028\n",
            "Epoch 64/100\n",
            "2/2 [==============================] - 0s 18ms/step - loss: 16.8958 - mae: 16.8958\n",
            "Epoch 65/100\n",
            "2/2 [==============================] - 0s 10ms/step - loss: 26.4758 - mae: 26.4758\n",
            "Epoch 66/100\n",
            "2/2 [==============================] - 0s 10ms/step - loss: 20.6077 - mae: 20.6077\n",
            "Epoch 67/100\n",
            "2/2 [==============================] - 0s 10ms/step - loss: 10.7920 - mae: 10.7920\n",
            "Epoch 68/100\n",
            "2/2 [==============================] - 0s 10ms/step - loss: 18.3203 - mae: 18.3203\n",
            "Epoch 69/100\n",
            "2/2 [==============================] - 0s 13ms/step - loss: 15.0179 - mae: 15.0179\n",
            "Epoch 70/100\n",
            "2/2 [==============================] - 0s 14ms/step - loss: 15.3721 - mae: 15.3721\n",
            "Epoch 71/100\n",
            "2/2 [==============================] - 0s 10ms/step - loss: 18.3040 - mae: 18.3040\n",
            "Epoch 72/100\n",
            "2/2 [==============================] - 0s 11ms/step - loss: 20.7064 - mae: 20.7064\n",
            "Epoch 73/100\n",
            "2/2 [==============================] - 0s 9ms/step - loss: 11.4738 - mae: 11.4738\n",
            "Epoch 74/100\n",
            "2/2 [==============================] - 0s 6ms/step - loss: 26.1606 - mae: 26.1606\n",
            "Epoch 75/100\n",
            "2/2 [==============================] - 0s 5ms/step - loss: 13.2875 - mae: 13.2875\n",
            "Epoch 76/100\n",
            "2/2 [==============================] - 0s 5ms/step - loss: 13.5711 - mae: 13.5711\n",
            "Epoch 77/100\n",
            "2/2 [==============================] - 0s 9ms/step - loss: 23.3018 - mae: 23.3018\n",
            "Epoch 78/100\n",
            "2/2 [==============================] - 0s 4ms/step - loss: 20.5550 - mae: 20.5550\n",
            "Epoch 79/100\n",
            "2/2 [==============================] - 0s 10ms/step - loss: 11.0511 - mae: 11.0511\n",
            "Epoch 80/100\n",
            "2/2 [==============================] - 0s 6ms/step - loss: 18.3146 - mae: 18.3146\n",
            "Epoch 81/100\n",
            "2/2 [==============================] - 0s 12ms/step - loss: 17.3628 - mae: 17.3628\n",
            "Epoch 82/100\n",
            "2/2 [==============================] - 0s 12ms/step - loss: 16.0323 - mae: 16.0323\n",
            "Epoch 83/100\n",
            "2/2 [==============================] - 0s 11ms/step - loss: 15.6972 - mae: 15.6972\n",
            "Epoch 84/100\n",
            "2/2 [==============================] - 0s 10ms/step - loss: 22.8556 - mae: 22.8556\n",
            "Epoch 85/100\n",
            "2/2 [==============================] - 0s 17ms/step - loss: 14.7328 - mae: 14.7328\n",
            "Epoch 86/100\n",
            "2/2 [==============================] - 0s 8ms/step - loss: 25.0280 - mae: 25.0280\n",
            "Epoch 87/100\n",
            "2/2 [==============================] - 0s 7ms/step - loss: 15.0503 - mae: 15.0503\n",
            "Epoch 88/100\n",
            "2/2 [==============================] - 0s 10ms/step - loss: 17.8643 - mae: 17.8643\n",
            "Epoch 89/100\n",
            "2/2 [==============================] - 0s 11ms/step - loss: 14.4628 - mae: 14.4628\n",
            "Epoch 90/100\n",
            "2/2 [==============================] - 0s 8ms/step - loss: 20.2849 - mae: 20.2849\n",
            "Epoch 91/100\n",
            "2/2 [==============================] - 0s 5ms/step - loss: 11.0326 - mae: 11.0326\n",
            "Epoch 92/100\n",
            "2/2 [==============================] - 0s 20ms/step - loss: 13.0389 - mae: 13.0389\n",
            "Epoch 93/100\n",
            "2/2 [==============================] - 0s 18ms/step - loss: 27.0355 - mae: 27.0355\n",
            "Epoch 94/100\n",
            "2/2 [==============================] - 0s 5ms/step - loss: 22.1220 - mae: 22.1220\n",
            "Epoch 95/100\n",
            "2/2 [==============================] - 0s 14ms/step - loss: 26.0636 - mae: 26.0636\n",
            "Epoch 96/100\n",
            "2/2 [==============================] - 0s 11ms/step - loss: 21.8999 - mae: 21.8999\n",
            "Epoch 97/100\n",
            "2/2 [==============================] - 0s 18ms/step - loss: 9.5639 - mae: 9.5639\n",
            "Epoch 98/100\n",
            "2/2 [==============================] - 0s 12ms/step - loss: 20.4362 - mae: 20.4362\n",
            "Epoch 99/100\n",
            "2/2 [==============================] - 0s 6ms/step - loss: 17.3112 - mae: 17.3112\n",
            "Epoch 100/100\n",
            "2/2 [==============================] - 0s 6ms/step - loss: 20.1814 - mae: 20.1814\n"
          ]
        },
        {
          "output_type": "execute_result",
          "data": {
            "text/plain": [
              "<keras.callbacks.History at 0x7f6e93ff4c10>"
            ]
          },
          "metadata": {},
          "execution_count": 24
        }
      ]
    },
    {
      "cell_type": "code",
      "source": [
        "X.shape,Y.shape"
      ],
      "metadata": {
        "colab": {
          "base_uri": "https://localhost:8080/"
        },
        "id": "EvuwayUYOMgs",
        "outputId": "667dec9e-1968-4b74-ff9d-bbc0ecf5c203"
      },
      "execution_count": 25,
      "outputs": [
        {
          "output_type": "execute_result",
          "data": {
            "text/plain": [
              "(TensorShape([50]), TensorShape([50]))"
            ]
          },
          "metadata": {},
          "execution_count": 25
        }
      ]
    },
    {
      "cell_type": "code",
      "source": [
        "model_5.summary()"
      ],
      "metadata": {
        "colab": {
          "base_uri": "https://localhost:8080/"
        },
        "id": "6hQhciqUOXt9",
        "outputId": "ec612957-5679-46c3-8dc8-338be53e2142"
      },
      "execution_count": 26,
      "outputs": [
        {
          "output_type": "stream",
          "name": "stdout",
          "text": [
            "Model: \"sequential_4\"\n",
            "_________________________________________________________________\n",
            " Layer (type)                Output Shape              Param #   \n",
            "=================================================================\n",
            " dense_10 (Dense)            (None, 100)               200       \n",
            "                                                                 \n",
            " dense_11 (Dense)            (None, 10)                1010      \n",
            "                                                                 \n",
            " dense_12 (Dense)            (None, 1)                 11        \n",
            "                                                                 \n",
            "=================================================================\n",
            "Total params: 1,221\n",
            "Trainable params: 1,221\n",
            "Non-trainable params: 0\n",
            "_________________________________________________________________\n"
          ]
        }
      ]
    },
    {
      "cell_type": "markdown",
      "source": [
        " **Total Params: Total Number Of parameters in Model**\n",
        "\n",
        " **Trainable Parameters :  These Are The Parameters (Pattern) the Model can Update as it Trains**\n",
        "\n",
        " **Non-Trainable Parameters : These Parameters Cannot be Updated During Training**\n",
        "\n",
        " "
      ],
      "metadata": {
        "id": "SRhUIJqPOvXg"
      }
    },
    {
      "cell_type": "markdown",
      "source": [
        "# **Model No 6**"
      ],
      "metadata": {
        "id": "NFNnWpf_PVqQ"
      }
    },
    {
      "cell_type": "code",
      "source": [
        "model_6 = tf.keras.Sequential([\n",
        "                               tf.keras.layers.Dense(100, activation='relu'),\n",
        "                               tf.keras.layers.Dense(10, activation='relu'),\n",
        "                               tf.keras.layers.Dense(1)\n",
        "])\n",
        "\n",
        "\n",
        "model_6.compile(\n",
        "    loss = tf.keras.losses.mae,\n",
        "    optimizer = tf.keras.optimizers.Adam(learning_rate=0.1),\n",
        "    metrics=[\"mae\"]\n",
        ")\n",
        "\n",
        "model_6.fit(tf.expand_dims(X_train,axis=1), Y_train, epochs=100, verbose=0)"
      ],
      "metadata": {
        "colab": {
          "base_uri": "https://localhost:8080/"
        },
        "id": "DfXuthzjOo6C",
        "outputId": "e6406cf1-0018-4e80-ecda-0e93429b014e"
      },
      "execution_count": 27,
      "outputs": [
        {
          "output_type": "execute_result",
          "data": {
            "text/plain": [
              "<keras.callbacks.History at 0x7f6f11933a90>"
            ]
          },
          "metadata": {},
          "execution_count": 27
        }
      ]
    },
    {
      "cell_type": "code",
      "source": [
        "model_6.evaluate(X_test,Y_test)"
      ],
      "metadata": {
        "colab": {
          "base_uri": "https://localhost:8080/"
        },
        "id": "ZFOeYw8uQDuj",
        "outputId": "26f59af4-8c37-4a8b-c63e-bba5f14734c6"
      },
      "execution_count": 28,
      "outputs": [
        {
          "output_type": "stream",
          "name": "stdout",
          "text": [
            "1/1 [==============================] - 0s 329ms/step - loss: 2.9103 - mae: 2.9103\n"
          ]
        },
        {
          "output_type": "execute_result",
          "data": {
            "text/plain": [
              "[2.9102509021759033, 2.9102509021759033]"
            ]
          },
          "metadata": {},
          "execution_count": 28
        }
      ]
    },
    {
      "cell_type": "markdown",
      "source": [
        "# **Visualizing Layers**"
      ],
      "metadata": {
        "id": "nizMeuDIQcrB"
      }
    },
    {
      "cell_type": "code",
      "source": [
        "from tensorflow.keras.utils import plot_model"
      ],
      "metadata": {
        "id": "RK5v6YxjQPMj"
      },
      "execution_count": 29,
      "outputs": []
    },
    {
      "cell_type": "code",
      "source": [
        "plot_model(model=model_1, show_shapes=True)"
      ],
      "metadata": {
        "colab": {
          "base_uri": "https://localhost:8080/",
          "height": 0
        },
        "id": "Z3H20En5QjrV",
        "outputId": "b6dc8625-be13-4112-d64d-688b9c06911b"
      },
      "execution_count": 30,
      "outputs": [
        {
          "output_type": "execute_result",
          "data": {
            "image/png": "[encoded data removed]",
            "text/plain": [
              "<IPython.core.display.Image object>"
            ]
          },
          "metadata": {},
          "execution_count": 30
        }
      ]
    },
    {
      "cell_type": "code",
      "source": [
        "plot_model(model=model_2, show_shapes=True)"
      ],
      "metadata": {
        "colab": {
          "base_uri": "https://localhost:8080/",
          "height": 0
        },
        "id": "-SPPZHSmQpkA",
        "outputId": "ef454155-2b98-408d-bc72-49e55608abdb"
      },
      "execution_count": 31,
      "outputs": [
        {
          "output_type": "execute_result",
          "data": {
            "image/png": "[encoded data removed]",
            "text/plain": [
              "<IPython.core.display.Image object>"
            ]
          },
          "metadata": {},
          "execution_count": 31
        }
      ]
    },
    {
      "cell_type": "code",
      "source": [
        "plot_model(model=model_3, show_shapes=True)"
      ],
      "metadata": {
        "colab": {
          "base_uri": "https://localhost:8080/",
          "height": 0
        },
        "id": "twtaH9-RQx4A",
        "outputId": "680b1109-e87d-4c19-95ad-4bf3f781bfea"
      },
      "execution_count": 32,
      "outputs": [
        {
          "output_type": "execute_result",
          "data": {
            "image/png": "[encoded data removed]",
            "text/plain": [
              "<IPython.core.display.Image object>"
            ]
          },
          "metadata": {},
          "execution_count": 32
        }
      ]
    },
    {
      "cell_type": "code",
      "source": [
        "plot_model(model=model_4, show_shapes= True)"
      ],
      "metadata": {
        "colab": {
          "base_uri": "https://localhost:8080/",
          "height": 0
        },
        "id": "1oLh5bVFQ3Qv",
        "outputId": "6a5d18d6-0ac3-47db-c049-4c45b70cf5d8"
      },
      "execution_count": 33,
      "outputs": [
        {
          "output_type": "execute_result",
          "data": {
            "image/png": "[encoded data removed]",
            "text/plain": [
              "<IPython.core.display.Image object>"
            ]
          },
          "metadata": {},
          "execution_count": 33
        }
      ]
    },
    {
      "cell_type": "code",
      "source": [
        "plot_model(model=model_5,show_shapes=True)"
      ],
      "metadata": {
        "colab": {
          "base_uri": "https://localhost:8080/",
          "height": 0
        },
        "id": "Qmz16h8cQ-PN",
        "outputId": "b279821d-0784-4e5b-ec30-8d88b768e3a1"
      },
      "execution_count": 34,
      "outputs": [
        {
          "output_type": "execute_result",
          "data": {
            "image/png": "[encoded data removed]",
            "text/plain": [
              "<IPython.core.display.Image object>"
            ]
          },
          "metadata": {},
          "execution_count": 34
        }
      ]
    },
    {
      "cell_type": "code",
      "source": [
        "plot_model(model=model_6, show_shapes=True)"
      ],
      "metadata": {
        "colab": {
          "base_uri": "https://localhost:8080/",
          "height": 0
        },
        "id": "WsXs4cr0RGVv",
        "outputId": "d379799a-4b70-4d09-b419-e91d22235dd6"
      },
      "execution_count": 35,
      "outputs": [
        {
          "output_type": "execute_result",
          "data": {
            "image/png": "[encoded data removed]",
            "text/plain": [
              "<IPython.core.display.Image object>"
            ]
          },
          "metadata": {},
          "execution_count": 35
        }
      ]
    },
    {
      "cell_type": "markdown",
      "source": [
        "# **Visualizing Predictions**"
      ],
      "metadata": {
        "id": "ZJJd6fRPRQea"
      }
    },
    {
      "cell_type": "code",
      "source": [
        "y_pred = model_6.predict(X_test)"
      ],
      "metadata": {
        "colab": {
          "base_uri": "https://localhost:8080/"
        },
        "id": "ElHDafkpRNHx",
        "outputId": "8eda1b9a-b06a-4729-efd5-f42ca8a30ee6"
      },
      "execution_count": 36,
      "outputs": [
        {
          "output_type": "stream",
          "name": "stdout",
          "text": [
            "WARNING:tensorflow:5 out of the last 5 calls to <function Model.make_predict_function.<locals>.predict_function at 0x7f6e93649680> triggered tf.function retracing. Tracing is expensive and the excessive number of tracings could be due to (1) creating @tf.function repeatedly in a loop, (2) passing tensors with different shapes, (3) passing Python objects instead of tensors. For (1), please define your @tf.function outside of the loop. For (2), @tf.function has experimental_relax_shapes=True option that relaxes argument shapes that can avoid unnecessary retracing. For (3), please refer to https://www.tensorflow.org/guide/function#controlling_retracing and https://www.tensorflow.org/api_docs/python/tf/function for  more details.\n"
          ]
        }
      ]
    },
    {
      "cell_type": "code",
      "source": [
        "y_pred"
      ],
      "metadata": {
        "colab": {
          "base_uri": "https://localhost:8080/"
        },
        "id": "fcJV5BP_RoZf",
        "outputId": "5ed4d155-acbb-4638-8f96-487b1ded4329"
      },
      "execution_count": 37,
      "outputs": [
        {
          "output_type": "execute_result",
          "data": {
            "text/plain": [
              "array([[ 67.82138 ],\n",
              "       [ 71.660484],\n",
              "       [ 75.49978 ],\n",
              "       [ 79.33908 ],\n",
              "       [ 83.1775  ],\n",
              "       [ 87.01614 ],\n",
              "       [ 90.854706],\n",
              "       [ 94.68486 ],\n",
              "       [ 98.50997 ],\n",
              "       [102.33359 ]], dtype=float32)"
            ]
          },
          "metadata": {},
          "execution_count": 37
        }
      ]
    },
    {
      "cell_type": "code",
      "source": [
        "# If You Feel Like, You're Going to Reuse Some Kind of Functionality in Future"
      ],
      "metadata": {
        "id": "zf5VkLkvR4_6"
      },
      "execution_count": 38,
      "outputs": []
    },
    {
      "cell_type": "code",
      "source": [
        "def plot_prediction(train_data = X_train,\n",
        "                    train_label = Y_train,\n",
        "                    test_data = X_test,\n",
        "                    test_label = Y_test,\n",
        "                    prediction = y_pred):\n",
        "  \n",
        "  plt.scatter(train_data, train_label, c='B', label='TrainingData')\n",
        "  plt.scatter(test_data, test_label, c='G', label='TestData')\n",
        "  plt.scatter(test_data, prediction, c='R', label='Prediction')\n",
        "  plt.legend()"
      ],
      "metadata": {
        "id": "ywj-lvXDSJN3"
      },
      "execution_count": 39,
      "outputs": []
    },
    {
      "cell_type": "code",
      "source": [
        "plot_prediction()"
      ],
      "metadata": {
        "colab": {
          "base_uri": "https://localhost:8080/",
          "height": 0
        },
        "id": "vo1n57JwS4wG",
        "outputId": "e2e9739b-409f-402b-8601-577cc8c5862e"
      },
      "execution_count": 40,
      "outputs": [
        {
          "output_type": "stream",
          "name": "stderr",
          "text": [
            "/usr/local/lib/python3.7/dist-packages/ipykernel_launcher.py:9: MatplotlibDeprecationWarning: Support for uppercase single-letter colors is deprecated since Matplotlib 3.1 and will be removed in 3.3; please use lowercase instead.\n",
            "  if __name__ == '__main__':\n"
          ]
        },
        {
          "output_type": "display_data",
          "data": {
            "image/png": "[encoded data removed]",
            "text/plain": [
              "<Figure size 432x288 with 1 Axes>"
            ]
          },
          "metadata": {
            "needs_background": "light"
          }
        }
      ]
    },
    {
      "cell_type": "markdown",
      "source": [
        "# **Regression Evaluation Metrics**\n",
        "\n",
        "**There Are Two Main Metrics**\n",
        "\n",
        "**MAE(Mean Absolute Error)**\n",
        "**MSE(Mean Square Error)**\n",
        "\n",
        "**As a Good Starter metric for any Regression Problem. tf.keras.losses.MAE()**\n",
        "\n",
        "**When larger Error are more Significant Then Small Error. tf.keras.losses.MSE()**\n",
        "\n",
        "**3- HUBER(Combination of MSE & MAE less Sensitive to outliers then MSE). (tf.keras.losses.Huber())**"
      ],
      "metadata": {
        "id": "L-eNvKHMS9BS"
      }
    },
    {
      "cell_type": "code",
      "source": [
        "mae = tf.metrics.mean_absolute_error(y_true = Y_test, y_pred= tf.squeeze(y_pred))"
      ],
      "metadata": {
        "id": "a3HgULDbS7Ik"
      },
      "execution_count": 41,
      "outputs": []
    },
    {
      "cell_type": "code",
      "source": [
        "mae"
      ],
      "metadata": {
        "colab": {
          "base_uri": "https://localhost:8080/"
        },
        "id": "-lJdiWM2UGSk",
        "outputId": "af58cd7d-c8a8-4467-f8b3-24b52e2023cb"
      },
      "execution_count": 42,
      "outputs": [
        {
          "output_type": "execute_result",
          "data": {
            "text/plain": [
              "<tf.Tensor: shape=(), dtype=float32, numpy=2.910251>"
            ]
          },
          "metadata": {},
          "execution_count": 42
        }
      ]
    },
    {
      "cell_type": "markdown",
      "source": [
        "# **Calculate Mean Square Error**"
      ],
      "metadata": {
        "id": "QQph8j5oUa3P"
      }
    },
    {
      "cell_type": "code",
      "source": [
        "mse = tf.metrics.mean_squared_error(y_true = Y_test, y_pred = tf.squeeze(y_pred))"
      ],
      "metadata": {
        "id": "pCneIVSuUJUL"
      },
      "execution_count": 43,
      "outputs": []
    },
    {
      "cell_type": "code",
      "source": [
        "mse"
      ],
      "metadata": {
        "colab": {
          "base_uri": "https://localhost:8080/"
        },
        "id": "quZ3TTGiVWjK",
        "outputId": "c3ba620d-b76a-4d0a-c9c9-2e762b92cbf2"
      },
      "execution_count": 44,
      "outputs": [
        {
          "output_type": "execute_result",
          "data": {
            "text/plain": [
              "<tf.Tensor: shape=(), dtype=float32, numpy=8.692713>"
            ]
          },
          "metadata": {},
          "execution_count": 44
        }
      ]
    },
    {
      "cell_type": "code",
      "source": [
        "def mae(y_true, y_pred):\n",
        "  return tf.metrics.mean_absolute_error(y_true = Y_test, y_pred = tf.squeeze(y_pred))"
      ],
      "metadata": {
        "id": "ZWGzoycYVXRI"
      },
      "execution_count": 45,
      "outputs": []
    },
    {
      "cell_type": "code",
      "source": [
        "def mse(y_true, y_pred):\n",
        "  return tf.metrics.mean_squared_error(y_true = Y_test, y_pred = tf.squeeze(y_pred))"
      ],
      "metadata": {
        "id": "EjM1YQrTVwyp"
      },
      "execution_count": 46,
      "outputs": []
    },
    {
      "cell_type": "markdown",
      "source": [
        "# **Modelling Experiment**"
      ],
      "metadata": {
        "id": "3g8UhOW2WLTu"
      }
    },
    {
      "cell_type": "markdown",
      "source": [
        "**Visualize, Visualize, Visualize**\n",
        "\n",
        "\n",
        "**Experiment, Experiment, Experiment**\n",
        "\n",
        "\n",
        "*   Get More Data\n",
        "*   Make Your Model Longer\n",
        "*  Train For Longer\n",
        "\n",
        "**Build 3 Models**\n",
        "\n",
        "*  Same As Original. 1 Layer With 100 Epochs \n",
        "\n",
        "*  2 Layers With 100 Epochs\n",
        "\n",
        "* 2 Layers With 500 Epochs\n",
        "\n"
      ],
      "metadata": {
        "id": "HcTqQ4CRWXz0"
      }
    },
    {
      "cell_type": "markdown",
      "source": [
        "# **Model No 7**"
      ],
      "metadata": {
        "id": "8-P5hoUGXOj3"
      }
    },
    {
      "cell_type": "code",
      "source": [
        "model_7 = tf.keras.Sequential([\n",
        "                               tf.keras.layers.Dense(1)\n",
        "])\n",
        "\n",
        "model_7.compile(\n",
        "    loss = tf.keras.losses.mae,\n",
        "    optimizer = tf.keras.optimizers.Adam(learning_rate=0.1),\n",
        "    metrics=[\"mae\"]\n",
        ")\n",
        "\n",
        "model_7.fit(tf.expand_dims(X_train, axis=1), Y_train, epochs=100)"
      ],
      "metadata": {
        "colab": {
          "base_uri": "https://localhost:8080/"
        },
        "id": "b7otbvFGWDVj",
        "outputId": "5a12319c-2b47-4ee6-d85a-19036652f0d5"
      },
      "execution_count": 47,
      "outputs": [
        {
          "output_type": "stream",
          "name": "stdout",
          "text": [
            "Epoch 1/100\n",
            "2/2 [==============================] - 1s 14ms/step - loss: 89.0126 - mae: 89.0126\n",
            "Epoch 2/100\n",
            "2/2 [==============================] - 0s 14ms/step - loss: 80.2540 - mae: 80.2540\n",
            "Epoch 3/100\n",
            "2/2 [==============================] - 0s 19ms/step - loss: 71.6614 - mae: 71.6614\n",
            "Epoch 4/100\n",
            "2/2 [==============================] - 0s 9ms/step - loss: 63.2163 - mae: 63.2163\n",
            "Epoch 5/100\n",
            "2/2 [==============================] - 0s 9ms/step - loss: 54.5369 - mae: 54.5369\n",
            "Epoch 6/100\n",
            "2/2 [==============================] - 0s 9ms/step - loss: 45.9891 - mae: 45.9891\n",
            "Epoch 7/100\n",
            "2/2 [==============================] - 0s 12ms/step - loss: 37.6346 - mae: 37.6346\n",
            "Epoch 8/100\n",
            "2/2 [==============================] - 0s 6ms/step - loss: 28.9109 - mae: 28.9109\n",
            "Epoch 9/100\n",
            "2/2 [==============================] - 0s 6ms/step - loss: 21.1829 - mae: 21.1829\n",
            "Epoch 10/100\n",
            "2/2 [==============================] - 0s 11ms/step - loss: 13.5287 - mae: 13.5287\n",
            "Epoch 11/100\n",
            "2/2 [==============================] - 0s 10ms/step - loss: 9.1320 - mae: 9.1320\n",
            "Epoch 12/100\n",
            "2/2 [==============================] - 0s 8ms/step - loss: 11.6796 - mae: 11.6796\n",
            "Epoch 13/100\n",
            "2/2 [==============================] - 0s 9ms/step - loss: 14.0500 - mae: 14.0500\n",
            "Epoch 14/100\n",
            "2/2 [==============================] - 0s 4ms/step - loss: 15.5410 - mae: 15.5410\n",
            "Epoch 15/100\n",
            "2/2 [==============================] - 0s 6ms/step - loss: 16.2533 - mae: 16.2533\n",
            "Epoch 16/100\n",
            "2/2 [==============================] - 0s 6ms/step - loss: 16.0336 - mae: 16.0336\n",
            "Epoch 17/100\n",
            "2/2 [==============================] - 0s 7ms/step - loss: 14.9965 - mae: 14.9965\n",
            "Epoch 18/100\n",
            "2/2 [==============================] - 0s 15ms/step - loss: 13.3319 - mae: 13.3319\n",
            "Epoch 19/100\n",
            "2/2 [==============================] - 0s 12ms/step - loss: 11.3255 - mae: 11.3255\n",
            "Epoch 20/100\n",
            "2/2 [==============================] - 0s 12ms/step - loss: 9.3819 - mae: 9.3819\n",
            "Epoch 21/100\n",
            "2/2 [==============================] - 0s 7ms/step - loss: 7.6368 - mae: 7.6368\n",
            "Epoch 22/100\n",
            "2/2 [==============================] - 0s 10ms/step - loss: 9.3152 - mae: 9.3152\n",
            "Epoch 23/100\n",
            "2/2 [==============================] - 0s 7ms/step - loss: 10.2673 - mae: 10.2673\n",
            "Epoch 24/100\n",
            "2/2 [==============================] - 0s 8ms/step - loss: 9.8543 - mae: 9.8543\n",
            "Epoch 25/100\n",
            "2/2 [==============================] - 0s 14ms/step - loss: 8.3655 - mae: 8.3655\n",
            "Epoch 26/100\n",
            "2/2 [==============================] - 0s 23ms/step - loss: 6.7964 - mae: 6.7964\n",
            "Epoch 27/100\n",
            "2/2 [==============================] - 0s 4ms/step - loss: 7.3672 - mae: 7.3672\n",
            "Epoch 28/100\n",
            "2/2 [==============================] - 0s 8ms/step - loss: 7.6770 - mae: 7.6770\n",
            "Epoch 29/100\n",
            "2/2 [==============================] - 0s 9ms/step - loss: 7.4148 - mae: 7.4148\n",
            "Epoch 30/100\n",
            "2/2 [==============================] - 0s 5ms/step - loss: 6.6864 - mae: 6.6864\n",
            "Epoch 31/100\n",
            "2/2 [==============================] - 0s 6ms/step - loss: 6.1473 - mae: 6.1473\n",
            "Epoch 32/100\n",
            "2/2 [==============================] - 0s 4ms/step - loss: 6.4853 - mae: 6.4853\n",
            "Epoch 33/100\n",
            "2/2 [==============================] - 0s 18ms/step - loss: 6.2332 - mae: 6.2332\n",
            "Epoch 34/100\n",
            "2/2 [==============================] - 0s 15ms/step - loss: 5.5307 - mae: 5.5307\n",
            "Epoch 35/100\n",
            "2/2 [==============================] - 0s 17ms/step - loss: 5.8309 - mae: 5.8309\n",
            "Epoch 36/100\n",
            "2/2 [==============================] - 0s 8ms/step - loss: 6.0376 - mae: 6.0376\n",
            "Epoch 37/100\n",
            "2/2 [==============================] - 0s 4ms/step - loss: 5.4877 - mae: 5.4877\n",
            "Epoch 38/100\n",
            "2/2 [==============================] - 0s 6ms/step - loss: 5.0930 - mae: 5.0930\n",
            "Epoch 39/100\n",
            "2/2 [==============================] - 0s 4ms/step - loss: 5.0397 - mae: 5.0397\n",
            "Epoch 40/100\n",
            "2/2 [==============================] - 0s 4ms/step - loss: 4.7392 - mae: 4.7392\n",
            "Epoch 41/100\n",
            "2/2 [==============================] - 0s 8ms/step - loss: 4.5082 - mae: 4.5082\n",
            "Epoch 42/100\n",
            "2/2 [==============================] - 0s 10ms/step - loss: 4.3213 - mae: 4.3213\n",
            "Epoch 43/100\n",
            "2/2 [==============================] - 0s 12ms/step - loss: 4.2694 - mae: 4.2694\n",
            "Epoch 44/100\n",
            "2/2 [==============================] - 0s 7ms/step - loss: 4.0799 - mae: 4.0799\n",
            "Epoch 45/100\n",
            "2/2 [==============================] - 0s 23ms/step - loss: 3.9407 - mae: 3.9407\n",
            "Epoch 46/100\n",
            "2/2 [==============================] - 0s 12ms/step - loss: 3.8238 - mae: 3.8238\n",
            "Epoch 47/100\n",
            "2/2 [==============================] - 0s 14ms/step - loss: 3.5924 - mae: 3.5924\n",
            "Epoch 48/100\n",
            "2/2 [==============================] - 0s 12ms/step - loss: 3.4198 - mae: 3.4198\n",
            "Epoch 49/100\n",
            "2/2 [==============================] - 0s 5ms/step - loss: 3.2997 - mae: 3.2997\n",
            "Epoch 50/100\n",
            "2/2 [==============================] - 0s 9ms/step - loss: 3.1835 - mae: 3.1835\n",
            "Epoch 51/100\n",
            "2/2 [==============================] - 0s 6ms/step - loss: 3.0136 - mae: 3.0136\n",
            "Epoch 52/100\n",
            "2/2 [==============================] - 0s 5ms/step - loss: 2.8292 - mae: 2.8292\n",
            "Epoch 53/100\n",
            "2/2 [==============================] - 0s 6ms/step - loss: 2.7495 - mae: 2.7495\n",
            "Epoch 54/100\n",
            "2/2 [==============================] - 0s 12ms/step - loss: 2.6239 - mae: 2.6239\n",
            "Epoch 55/100\n",
            "2/2 [==============================] - 0s 5ms/step - loss: 2.4328 - mae: 2.4328\n",
            "Epoch 56/100\n",
            "2/2 [==============================] - 0s 5ms/step - loss: 2.3524 - mae: 2.3524\n",
            "Epoch 57/100\n",
            "2/2 [==============================] - 0s 7ms/step - loss: 2.0640 - mae: 2.0640\n",
            "Epoch 58/100\n",
            "2/2 [==============================] - 0s 7ms/step - loss: 1.9284 - mae: 1.9284\n",
            "Epoch 59/100\n",
            "2/2 [==============================] - 0s 5ms/step - loss: 1.7802 - mae: 1.7802\n",
            "Epoch 60/100\n",
            "2/2 [==============================] - 0s 7ms/step - loss: 1.6174 - mae: 1.6174\n",
            "Epoch 61/100\n",
            "2/2 [==============================] - 0s 11ms/step - loss: 1.4842 - mae: 1.4842\n",
            "Epoch 62/100\n",
            "2/2 [==============================] - 0s 9ms/step - loss: 1.3150 - mae: 1.3150\n",
            "Epoch 63/100\n",
            "2/2 [==============================] - 0s 14ms/step - loss: 1.1488 - mae: 1.1488\n",
            "Epoch 64/100\n",
            "2/2 [==============================] - 0s 22ms/step - loss: 1.1390 - mae: 1.1390\n",
            "Epoch 65/100\n",
            "2/2 [==============================] - 0s 12ms/step - loss: 0.8937 - mae: 0.8937\n",
            "Epoch 66/100\n",
            "2/2 [==============================] - 0s 6ms/step - loss: 1.0902 - mae: 1.0902\n",
            "Epoch 67/100\n",
            "2/2 [==============================] - 0s 5ms/step - loss: 0.6675 - mae: 0.6675\n",
            "Epoch 68/100\n",
            "2/2 [==============================] - 0s 5ms/step - loss: 0.5325 - mae: 0.5325\n",
            "Epoch 69/100\n",
            "2/2 [==============================] - 0s 5ms/step - loss: 0.3511 - mae: 0.3511\n",
            "Epoch 70/100\n",
            "2/2 [==============================] - 0s 4ms/step - loss: 0.2165 - mae: 0.2165\n",
            "Epoch 71/100\n",
            "2/2 [==============================] - 0s 4ms/step - loss: 0.1338 - mae: 0.1338\n",
            "Epoch 72/100\n",
            "2/2 [==============================] - 0s 7ms/step - loss: 0.2798 - mae: 0.2798\n",
            "Epoch 73/100\n",
            "2/2 [==============================] - 0s 6ms/step - loss: 0.4208 - mae: 0.4208\n",
            "Epoch 74/100\n",
            "2/2 [==============================] - 0s 5ms/step - loss: 0.7271 - mae: 0.7271\n",
            "Epoch 75/100\n",
            "2/2 [==============================] - 0s 5ms/step - loss: 0.7298 - mae: 0.7298\n",
            "Epoch 76/100\n",
            "2/2 [==============================] - 0s 21ms/step - loss: 0.5779 - mae: 0.5779\n",
            "Epoch 77/100\n",
            "2/2 [==============================] - 0s 14ms/step - loss: 0.5758 - mae: 0.5758\n",
            "Epoch 78/100\n",
            "2/2 [==============================] - 0s 8ms/step - loss: 0.6165 - mae: 0.6165\n",
            "Epoch 79/100\n",
            "2/2 [==============================] - 0s 16ms/step - loss: 0.3451 - mae: 0.3451\n",
            "Epoch 80/100\n",
            "2/2 [==============================] - 0s 5ms/step - loss: 0.3654 - mae: 0.3654\n",
            "Epoch 81/100\n",
            "2/2 [==============================] - 0s 9ms/step - loss: 0.3101 - mae: 0.3101\n",
            "Epoch 82/100\n",
            "2/2 [==============================] - 0s 3ms/step - loss: 0.2783 - mae: 0.2783\n",
            "Epoch 83/100\n",
            "2/2 [==============================] - 0s 5ms/step - loss: 0.8518 - mae: 0.8518\n",
            "Epoch 84/100\n",
            "2/2 [==============================] - 0s 6ms/step - loss: 0.5376 - mae: 0.5376\n",
            "Epoch 85/100\n",
            "2/2 [==============================] - 0s 14ms/step - loss: 0.4233 - mae: 0.4233\n",
            "Epoch 86/100\n",
            "2/2 [==============================] - 0s 15ms/step - loss: 0.6712 - mae: 0.6712\n",
            "Epoch 87/100\n",
            "2/2 [==============================] - 0s 4ms/step - loss: 1.0056 - mae: 1.0056\n",
            "Epoch 88/100\n",
            "2/2 [==============================] - 0s 10ms/step - loss: 0.6852 - mae: 0.6852\n",
            "Epoch 89/100\n",
            "2/2 [==============================] - 0s 22ms/step - loss: 0.8490 - mae: 0.8490\n",
            "Epoch 90/100\n",
            "2/2 [==============================] - 0s 12ms/step - loss: 0.1285 - mae: 0.1285\n",
            "Epoch 91/100\n",
            "2/2 [==============================] - 0s 12ms/step - loss: 1.3976 - mae: 1.3976\n",
            "Epoch 92/100\n",
            "2/2 [==============================] - 0s 11ms/step - loss: 0.4662 - mae: 0.4662\n",
            "Epoch 93/100\n",
            "2/2 [==============================] - 0s 17ms/step - loss: 2.1672 - mae: 2.1672\n",
            "Epoch 94/100\n",
            "2/2 [==============================] - 0s 11ms/step - loss: 1.9205 - mae: 1.9205\n",
            "Epoch 95/100\n",
            "2/2 [==============================] - 0s 7ms/step - loss: 0.2628 - mae: 0.2628\n",
            "Epoch 96/100\n",
            "2/2 [==============================] - 0s 29ms/step - loss: 0.7460 - mae: 0.7460\n",
            "Epoch 97/100\n",
            "2/2 [==============================] - 0s 23ms/step - loss: 0.8396 - mae: 0.8396\n",
            "Epoch 98/100\n",
            "2/2 [==============================] - 0s 8ms/step - loss: 0.7999 - mae: 0.7999\n",
            "Epoch 99/100\n",
            "2/2 [==============================] - 0s 13ms/step - loss: 1.2058 - mae: 1.2058\n",
            "Epoch 100/100\n",
            "2/2 [==============================] - 0s 4ms/step - loss: 1.5390 - mae: 1.5390\n"
          ]
        },
        {
          "output_type": "execute_result",
          "data": {
            "text/plain": [
              "<keras.callbacks.History at 0x7f6e935ae050>"
            ]
          },
          "metadata": {},
          "execution_count": 47
        }
      ]
    },
    {
      "cell_type": "code",
      "source": [
        "y_pred_1=model_7.predict(X_test)"
      ],
      "metadata": {
        "colab": {
          "base_uri": "https://localhost:8080/"
        },
        "id": "UKO6j2UQX7kj",
        "outputId": "7b8210f1-789d-473c-953e-4efa3bc60847"
      },
      "execution_count": 48,
      "outputs": [
        {
          "output_type": "stream",
          "name": "stdout",
          "text": [
            "WARNING:tensorflow:6 out of the last 6 calls to <function Model.make_predict_function.<locals>.predict_function at 0x7f6e935c6e60> triggered tf.function retracing. Tracing is expensive and the excessive number of tracings could be due to (1) creating @tf.function repeatedly in a loop, (2) passing tensors with different shapes, (3) passing Python objects instead of tensors. For (1), please define your @tf.function outside of the loop. For (2), @tf.function has experimental_relax_shapes=True option that relaxes argument shapes that can avoid unnecessary retracing. For (3), please refer to https://www.tensorflow.org/guide/function#controlling_retracing and https://www.tensorflow.org/api_docs/python/tf/function for  more details.\n"
          ]
        }
      ]
    },
    {
      "cell_type": "code",
      "source": [
        "mae_1=mae(Y_test, y_pred_1)\n",
        "mse_1=mse(Y_test, y_pred_1)"
      ],
      "metadata": {
        "id": "1Bfxt6RLa7ah"
      },
      "execution_count": 49,
      "outputs": []
    },
    {
      "cell_type": "code",
      "source": [
        "plot_prediction(prediction=y_pred_1)"
      ],
      "metadata": {
        "colab": {
          "base_uri": "https://localhost:8080/",
          "height": 0
        },
        "id": "ZNkAoTXdYHEH",
        "outputId": "82d748b1-aecf-4050-b281-9b8f0d884cdc"
      },
      "execution_count": 50,
      "outputs": [
        {
          "output_type": "display_data",
          "data": {
            "image/png": "[encoded data removed]",
            "text/plain": [
              "<Figure size 432x288 with 1 Axes>"
            ]
          },
          "metadata": {
            "needs_background": "light"
          }
        }
      ]
    },
    {
      "cell_type": "markdown",
      "source": [
        "# **Model No 8**"
      ],
      "metadata": {
        "id": "f5eXp2UqYTrq"
      }
    },
    {
      "cell_type": "code",
      "source": [
        "model_8 = tf.keras.Sequential([\n",
        "                               tf.keras.layers.Dense(100, activation='relu'),\n",
        "                               tf.keras.layers.Dense(1)\n",
        "])\n",
        "\n",
        "model_8.compile(\n",
        "    loss = tf.keras.losses.mae,\n",
        "    optimizer = tf.keras.optimizers.Adam(learning_rate=0.1),\n",
        "    metrics=[\"mae\"]\n",
        ")\n",
        "\n",
        "model_8.fit(tf.expand_dims(X_train, axis=1), Y_train, epochs=100)"
      ],
      "metadata": {
        "colab": {
          "base_uri": "https://localhost:8080/"
        },
        "id": "gVJvXL1SYQVL",
        "outputId": "ef0f8f4b-e359-4826-c06e-bd8b5e639c9f"
      },
      "execution_count": 51,
      "outputs": [
        {
          "output_type": "stream",
          "name": "stdout",
          "text": [
            "Epoch 1/100\n",
            "2/2 [==============================] - 1s 12ms/step - loss: 34.5701 - mae: 34.5701\n",
            "Epoch 2/100\n",
            "2/2 [==============================] - 0s 11ms/step - loss: 25.4247 - mae: 25.4247\n",
            "Epoch 3/100\n",
            "2/2 [==============================] - 0s 21ms/step - loss: 16.8509 - mae: 16.8509\n",
            "Epoch 4/100\n",
            "2/2 [==============================] - 0s 10ms/step - loss: 5.8920 - mae: 5.8920\n",
            "Epoch 5/100\n",
            "2/2 [==============================] - 0s 12ms/step - loss: 7.9994 - mae: 7.9994\n",
            "Epoch 6/100\n",
            "2/2 [==============================] - 0s 11ms/step - loss: 12.9088 - mae: 12.9088\n",
            "Epoch 7/100\n",
            "2/2 [==============================] - 0s 23ms/step - loss: 6.2593 - mae: 6.2593\n",
            "Epoch 8/100\n",
            "2/2 [==============================] - 0s 31ms/step - loss: 7.5232 - mae: 7.5232\n",
            "Epoch 9/100\n",
            "2/2 [==============================] - 0s 27ms/step - loss: 8.2762 - mae: 8.2762\n",
            "Epoch 10/100\n",
            "2/2 [==============================] - 0s 28ms/step - loss: 5.7360 - mae: 5.7360\n",
            "Epoch 11/100\n",
            "2/2 [==============================] - 0s 15ms/step - loss: 5.2733 - mae: 5.2733\n",
            "Epoch 12/100\n",
            "2/2 [==============================] - 0s 7ms/step - loss: 3.1239 - mae: 3.1239\n",
            "Epoch 13/100\n",
            "2/2 [==============================] - 0s 10ms/step - loss: 2.8304 - mae: 2.8304\n",
            "Epoch 14/100\n",
            "2/2 [==============================] - 0s 15ms/step - loss: 4.4372 - mae: 4.4372\n",
            "Epoch 15/100\n",
            "2/2 [==============================] - 0s 7ms/step - loss: 5.4934 - mae: 5.4934\n",
            "Epoch 16/100\n",
            "2/2 [==============================] - 0s 5ms/step - loss: 6.0661 - mae: 6.0661\n",
            "Epoch 17/100\n",
            "2/2 [==============================] - 0s 5ms/step - loss: 4.2064 - mae: 4.2064\n",
            "Epoch 18/100\n",
            "2/2 [==============================] - 0s 10ms/step - loss: 5.9136 - mae: 5.9136\n",
            "Epoch 19/100\n",
            "2/2 [==============================] - 0s 5ms/step - loss: 6.3609 - mae: 6.3609\n",
            "Epoch 20/100\n",
            "2/2 [==============================] - 0s 7ms/step - loss: 9.3378 - mae: 9.3378\n",
            "Epoch 21/100\n",
            "2/2 [==============================] - 0s 19ms/step - loss: 10.0190 - mae: 10.0190\n",
            "Epoch 22/100\n",
            "2/2 [==============================] - 0s 6ms/step - loss: 3.0424 - mae: 3.0424\n",
            "Epoch 23/100\n",
            "2/2 [==============================] - 0s 6ms/step - loss: 6.6736 - mae: 6.6736\n",
            "Epoch 24/100\n",
            "2/2 [==============================] - 0s 12ms/step - loss: 5.7901 - mae: 5.7901\n",
            "Epoch 25/100\n",
            "2/2 [==============================] - 0s 10ms/step - loss: 3.9737 - mae: 3.9737\n",
            "Epoch 26/100\n",
            "2/2 [==============================] - 0s 7ms/step - loss: 4.0108 - mae: 4.0108\n",
            "Epoch 27/100\n",
            "2/2 [==============================] - 0s 12ms/step - loss: 5.1068 - mae: 5.1068\n",
            "Epoch 28/100\n",
            "2/2 [==============================] - 0s 13ms/step - loss: 4.5628 - mae: 4.5628\n",
            "Epoch 29/100\n",
            "2/2 [==============================] - 0s 8ms/step - loss: 5.3463 - mae: 5.3463\n",
            "Epoch 30/100\n",
            "2/2 [==============================] - 0s 10ms/step - loss: 5.9892 - mae: 5.9892\n",
            "Epoch 31/100\n",
            "2/2 [==============================] - 0s 10ms/step - loss: 4.5298 - mae: 4.5298\n",
            "Epoch 32/100\n",
            "2/2 [==============================] - 0s 8ms/step - loss: 5.6960 - mae: 5.6960\n",
            "Epoch 33/100\n",
            "2/2 [==============================] - 0s 25ms/step - loss: 4.0067 - mae: 4.0067\n",
            "Epoch 34/100\n",
            "2/2 [==============================] - 0s 6ms/step - loss: 3.8544 - mae: 3.8544\n",
            "Epoch 35/100\n",
            "2/2 [==============================] - 0s 6ms/step - loss: 2.4720 - mae: 2.4720\n",
            "Epoch 36/100\n",
            "2/2 [==============================] - 0s 9ms/step - loss: 5.2436 - mae: 5.2436\n",
            "Epoch 37/100\n",
            "2/2 [==============================] - 0s 17ms/step - loss: 3.5628 - mae: 3.5628\n",
            "Epoch 38/100\n",
            "2/2 [==============================] - 0s 9ms/step - loss: 4.5778 - mae: 4.5778\n",
            "Epoch 39/100\n",
            "2/2 [==============================] - 0s 8ms/step - loss: 6.7513 - mae: 6.7513\n",
            "Epoch 40/100\n",
            "2/2 [==============================] - 0s 9ms/step - loss: 4.8153 - mae: 4.8153\n",
            "Epoch 41/100\n",
            "2/2 [==============================] - 0s 5ms/step - loss: 3.9199 - mae: 3.9199\n",
            "Epoch 42/100\n",
            "2/2 [==============================] - 0s 14ms/step - loss: 7.4001 - mae: 7.4001\n",
            "Epoch 43/100\n",
            "2/2 [==============================] - 0s 5ms/step - loss: 4.8225 - mae: 4.8225\n",
            "Epoch 44/100\n",
            "2/2 [==============================] - 0s 14ms/step - loss: 9.7840 - mae: 9.7840\n",
            "Epoch 45/100\n",
            "2/2 [==============================] - 0s 10ms/step - loss: 7.6471 - mae: 7.6471\n",
            "Epoch 46/100\n",
            "2/2 [==============================] - 0s 5ms/step - loss: 4.2448 - mae: 4.2448\n",
            "Epoch 47/100\n",
            "2/2 [==============================] - 0s 12ms/step - loss: 4.9410 - mae: 4.9410\n",
            "Epoch 48/100\n",
            "2/2 [==============================] - 0s 15ms/step - loss: 1.5666 - mae: 1.5666\n",
            "Epoch 49/100\n",
            "2/2 [==============================] - 0s 17ms/step - loss: 1.5765 - mae: 1.5765\n",
            "Epoch 50/100\n",
            "2/2 [==============================] - 0s 8ms/step - loss: 4.8410 - mae: 4.8410\n",
            "Epoch 51/100\n",
            "2/2 [==============================] - 0s 8ms/step - loss: 2.4021 - mae: 2.4021\n",
            "Epoch 52/100\n",
            "2/2 [==============================] - 0s 5ms/step - loss: 4.1236 - mae: 4.1236\n",
            "Epoch 53/100\n",
            "2/2 [==============================] - 0s 41ms/step - loss: 2.3529 - mae: 2.3529\n",
            "Epoch 54/100\n",
            "2/2 [==============================] - 0s 13ms/step - loss: 5.6959 - mae: 5.6959\n",
            "Epoch 55/100\n",
            "2/2 [==============================] - 0s 13ms/step - loss: 5.2813 - mae: 5.2813\n",
            "Epoch 56/100\n",
            "2/2 [==============================] - 0s 14ms/step - loss: 0.8473 - mae: 0.8473\n",
            "Epoch 57/100\n",
            "2/2 [==============================] - 0s 14ms/step - loss: 2.9625 - mae: 2.9625\n",
            "Epoch 58/100\n",
            "2/2 [==============================] - 0s 5ms/step - loss: 1.3620 - mae: 1.3620\n",
            "Epoch 59/100\n",
            "2/2 [==============================] - 0s 14ms/step - loss: 5.2024 - mae: 5.2024\n",
            "Epoch 60/100\n",
            "2/2 [==============================] - 0s 8ms/step - loss: 3.7575 - mae: 3.7575\n",
            "Epoch 61/100\n",
            "2/2 [==============================] - 0s 13ms/step - loss: 1.8662 - mae: 1.8662\n",
            "Epoch 62/100\n",
            "2/2 [==============================] - 0s 5ms/step - loss: 5.1610 - mae: 5.1610\n",
            "Epoch 63/100\n",
            "2/2 [==============================] - 0s 9ms/step - loss: 3.0139 - mae: 3.0139\n",
            "Epoch 64/100\n",
            "2/2 [==============================] - 0s 5ms/step - loss: 4.8113 - mae: 4.8113\n",
            "Epoch 65/100\n",
            "2/2 [==============================] - 0s 25ms/step - loss: 3.7512 - mae: 3.7512\n",
            "Epoch 66/100\n",
            "2/2 [==============================] - 0s 12ms/step - loss: 4.0734 - mae: 4.0734\n",
            "Epoch 67/100\n",
            "2/2 [==============================] - 0s 20ms/step - loss: 3.1357 - mae: 3.1357\n",
            "Epoch 68/100\n",
            "2/2 [==============================] - 0s 10ms/step - loss: 4.0089 - mae: 4.0089\n",
            "Epoch 69/100\n",
            "2/2 [==============================] - 0s 14ms/step - loss: 1.3614 - mae: 1.3614\n",
            "Epoch 70/100\n",
            "2/2 [==============================] - 0s 7ms/step - loss: 6.8828 - mae: 6.8828\n",
            "Epoch 71/100\n",
            "2/2 [==============================] - 0s 18ms/step - loss: 5.1806 - mae: 5.1806\n",
            "Epoch 72/100\n",
            "2/2 [==============================] - 0s 25ms/step - loss: 5.6937 - mae: 5.6937\n",
            "Epoch 73/100\n",
            "2/2 [==============================] - 0s 10ms/step - loss: 3.4167 - mae: 3.4167\n",
            "Epoch 74/100\n",
            "2/2 [==============================] - 0s 9ms/step - loss: 1.4879 - mae: 1.4879\n",
            "Epoch 75/100\n",
            "2/2 [==============================] - 0s 8ms/step - loss: 3.5346 - mae: 3.5346\n",
            "Epoch 76/100\n",
            "2/2 [==============================] - 0s 9ms/step - loss: 4.0959 - mae: 4.0959\n",
            "Epoch 77/100\n",
            "2/2 [==============================] - 0s 6ms/step - loss: 5.4340 - mae: 5.4340\n",
            "Epoch 78/100\n",
            "2/2 [==============================] - 0s 9ms/step - loss: 7.5312 - mae: 7.5312\n",
            "Epoch 79/100\n",
            "2/2 [==============================] - 0s 9ms/step - loss: 7.2959 - mae: 7.2959\n",
            "Epoch 80/100\n",
            "2/2 [==============================] - 0s 6ms/step - loss: 3.5792 - mae: 3.5792\n",
            "Epoch 81/100\n",
            "2/2 [==============================] - 0s 6ms/step - loss: 3.0590 - mae: 3.0590\n",
            "Epoch 82/100\n",
            "2/2 [==============================] - 0s 6ms/step - loss: 4.2772 - mae: 4.2772\n",
            "Epoch 83/100\n",
            "2/2 [==============================] - 0s 6ms/step - loss: 2.1675 - mae: 2.1675\n",
            "Epoch 84/100\n",
            "2/2 [==============================] - 0s 12ms/step - loss: 2.7587 - mae: 2.7587\n",
            "Epoch 85/100\n",
            "2/2 [==============================] - 0s 13ms/step - loss: 3.4919 - mae: 3.4919\n",
            "Epoch 86/100\n",
            "2/2 [==============================] - 0s 6ms/step - loss: 2.9840 - mae: 2.9840\n",
            "Epoch 87/100\n",
            "2/2 [==============================] - 0s 9ms/step - loss: 4.3947 - mae: 4.3947\n",
            "Epoch 88/100\n",
            "2/2 [==============================] - 0s 15ms/step - loss: 5.3315 - mae: 5.3315\n",
            "Epoch 89/100\n",
            "2/2 [==============================] - 0s 10ms/step - loss: 1.1797 - mae: 1.1797\n",
            "Epoch 90/100\n",
            "2/2 [==============================] - 0s 9ms/step - loss: 5.4559 - mae: 5.4559\n",
            "Epoch 91/100\n",
            "2/2 [==============================] - 0s 5ms/step - loss: 2.5413 - mae: 2.5413\n",
            "Epoch 92/100\n",
            "2/2 [==============================] - 0s 16ms/step - loss: 4.6216 - mae: 4.6216\n",
            "Epoch 93/100\n",
            "2/2 [==============================] - 0s 16ms/step - loss: 2.8225 - mae: 2.8225\n",
            "Epoch 94/100\n",
            "2/2 [==============================] - 0s 23ms/step - loss: 3.4036 - mae: 3.4036\n",
            "Epoch 95/100\n",
            "2/2 [==============================] - 0s 7ms/step - loss: 3.0656 - mae: 3.0656\n",
            "Epoch 96/100\n",
            "2/2 [==============================] - 0s 17ms/step - loss: 1.5079 - mae: 1.5079\n",
            "Epoch 97/100\n",
            "2/2 [==============================] - 0s 13ms/step - loss: 2.3908 - mae: 2.3908\n",
            "Epoch 98/100\n",
            "2/2 [==============================] - 0s 5ms/step - loss: 2.4891 - mae: 2.4891\n",
            "Epoch 99/100\n",
            "2/2 [==============================] - 0s 6ms/step - loss: 3.7322 - mae: 3.7322\n",
            "Epoch 100/100\n",
            "2/2 [==============================] - 0s 7ms/step - loss: 1.7819 - mae: 1.7819\n"
          ]
        },
        {
          "output_type": "execute_result",
          "data": {
            "text/plain": [
              "<keras.callbacks.History at 0x7f6f13f7e490>"
            ]
          },
          "metadata": {},
          "execution_count": 51
        }
      ]
    },
    {
      "cell_type": "code",
      "source": [
        "y_pred_2 = model_2.predict(X_test)\n"
      ],
      "metadata": {
        "id": "w5h06xfxY26F"
      },
      "execution_count": 52,
      "outputs": []
    },
    {
      "cell_type": "code",
      "source": [
        "mae_2 = mae(Y_test, y_pred_2)\n",
        "mse_2 = mse(Y_test, y_pred_2)"
      ],
      "metadata": {
        "id": "JK5ndv3HbJE-"
      },
      "execution_count": 53,
      "outputs": []
    },
    {
      "cell_type": "code",
      "source": [
        "plot_prediction(prediction=y_pred_2)"
      ],
      "metadata": {
        "colab": {
          "base_uri": "https://localhost:8080/",
          "height": 0
        },
        "id": "XgbQu5dOY883",
        "outputId": "1a311876-5cc3-4ca3-d2e9-783dfa650e0a"
      },
      "execution_count": 54,
      "outputs": [
        {
          "output_type": "display_data",
          "data": {
            "image/png": "[encoded data removed]",
            "text/plain": [
              "<Figure size 432x288 with 1 Axes>"
            ]
          },
          "metadata": {
            "needs_background": "light"
          }
        }
      ]
    },
    {
      "cell_type": "markdown",
      "source": [
        "# **Model No 9**"
      ],
      "metadata": {
        "id": "AgbRkvRnZGeJ"
      }
    },
    {
      "cell_type": "code",
      "source": [
        "model_9 = tf.keras.Sequential([\n",
        "                               tf.keras.layers.Dense(100, activation='relu'),\n",
        "                               tf.keras.layers.Dense(1)\n",
        "])\n",
        "\n",
        "model_9.compile(\n",
        "    loss = tf.keras.losses.mae,\n",
        "    optimizer = tf.keras.optimizers.Adam(learning_rate=0.1),\n",
        "    metrics=[\"mae\"]\n",
        ")\n",
        "\n",
        "model_9.fit(tf.expand_dims(X_train, axis=1), Y_train, epochs=500)"
      ],
      "metadata": {
        "colab": {
          "base_uri": "https://localhost:8080/"
        },
        "id": "B2L7IYDGZEPM",
        "outputId": "8dd4e092-89cc-458f-dd88-9574a2e854d2"
      },
      "execution_count": 55,
      "outputs": [
        {
          "output_type": "stream",
          "name": "stdout",
          "text": [
            "Epoch 1/500\n",
            "2/2 [==============================] - 0s 10ms/step - loss: 33.3154 - mae: 33.3154\n",
            "Epoch 2/500\n",
            "2/2 [==============================] - 0s 6ms/step - loss: 7.4539 - mae: 7.4539\n",
            "Epoch 3/500\n",
            "2/2 [==============================] - 0s 9ms/step - loss: 9.0808 - mae: 9.0808\n",
            "Epoch 4/500\n",
            "2/2 [==============================] - 0s 5ms/step - loss: 10.0467 - mae: 10.0467\n",
            "Epoch 5/500\n",
            "2/2 [==============================] - 0s 5ms/step - loss: 8.1752 - mae: 8.1752\n",
            "Epoch 6/500\n",
            "2/2 [==============================] - 0s 14ms/step - loss: 3.5200 - mae: 3.5200\n",
            "Epoch 7/500\n",
            "2/2 [==============================] - 0s 5ms/step - loss: 6.7519 - mae: 6.7519\n",
            "Epoch 8/500\n",
            "2/2 [==============================] - 0s 5ms/step - loss: 7.7306 - mae: 7.7306\n",
            "Epoch 9/500\n",
            "2/2 [==============================] - 0s 5ms/step - loss: 6.9894 - mae: 6.9894\n",
            "Epoch 10/500\n",
            "2/2 [==============================] - 0s 5ms/step - loss: 10.4757 - mae: 10.4757\n",
            "Epoch 11/500\n",
            "2/2 [==============================] - 0s 14ms/step - loss: 5.8374 - mae: 5.8374\n",
            "Epoch 12/500\n",
            "2/2 [==============================] - 0s 7ms/step - loss: 13.0595 - mae: 13.0595\n",
            "Epoch 13/500\n",
            "2/2 [==============================] - 0s 6ms/step - loss: 7.4995 - mae: 7.4995\n",
            "Epoch 14/500\n",
            "2/2 [==============================] - 0s 6ms/step - loss: 6.9918 - mae: 6.9918\n",
            "Epoch 15/500\n",
            "2/2 [==============================] - 0s 6ms/step - loss: 3.2867 - mae: 3.2867\n",
            "Epoch 16/500\n",
            "2/2 [==============================] - 0s 7ms/step - loss: 9.9958 - mae: 9.9958\n",
            "Epoch 17/500\n",
            "2/2 [==============================] - 0s 7ms/step - loss: 8.4606 - mae: 8.4606\n",
            "Epoch 18/500\n",
            "2/2 [==============================] - 0s 10ms/step - loss: 2.6662 - mae: 2.6662\n",
            "Epoch 19/500\n",
            "2/2 [==============================] - 0s 6ms/step - loss: 6.8507 - mae: 6.8507\n",
            "Epoch 20/500\n",
            "2/2 [==============================] - 0s 7ms/step - loss: 8.0374 - mae: 8.0374\n",
            "Epoch 21/500\n",
            "2/2 [==============================] - 0s 7ms/step - loss: 11.1357 - mae: 11.1357\n",
            "Epoch 22/500\n",
            "2/2 [==============================] - 0s 9ms/step - loss: 3.8414 - mae: 3.8414\n",
            "Epoch 23/500\n",
            "2/2 [==============================] - 0s 6ms/step - loss: 8.8306 - mae: 8.8306\n",
            "Epoch 24/500\n",
            "2/2 [==============================] - 0s 10ms/step - loss: 8.4018 - mae: 8.4018\n",
            "Epoch 25/500\n",
            "2/2 [==============================] - 0s 6ms/step - loss: 6.4609 - mae: 6.4609\n",
            "Epoch 26/500\n",
            "2/2 [==============================] - 0s 5ms/step - loss: 5.5314 - mae: 5.5314\n",
            "Epoch 27/500\n",
            "2/2 [==============================] - 0s 7ms/step - loss: 5.8430 - mae: 5.8430\n",
            "Epoch 28/500\n",
            "2/2 [==============================] - 0s 8ms/step - loss: 8.9384 - mae: 8.9384\n",
            "Epoch 29/500\n",
            "2/2 [==============================] - 0s 6ms/step - loss: 10.5465 - mae: 10.5465\n",
            "Epoch 30/500\n",
            "2/2 [==============================] - 0s 6ms/step - loss: 6.3656 - mae: 6.3656\n",
            "Epoch 31/500\n",
            "2/2 [==============================] - 0s 8ms/step - loss: 7.5733 - mae: 7.5733\n",
            "Epoch 32/500\n",
            "2/2 [==============================] - 0s 5ms/step - loss: 5.9443 - mae: 5.9443\n",
            "Epoch 33/500\n",
            "2/2 [==============================] - 0s 5ms/step - loss: 6.1962 - mae: 6.1962\n",
            "Epoch 34/500\n",
            "2/2 [==============================] - 0s 6ms/step - loss: 4.5416 - mae: 4.5416\n",
            "Epoch 35/500\n",
            "2/2 [==============================] - 0s 9ms/step - loss: 1.3798 - mae: 1.3798\n",
            "Epoch 36/500\n",
            "2/2 [==============================] - 0s 10ms/step - loss: 2.0636 - mae: 2.0636\n",
            "Epoch 37/500\n",
            "2/2 [==============================] - 0s 13ms/step - loss: 1.2090 - mae: 1.2090\n",
            "Epoch 38/500\n",
            "2/2 [==============================] - 0s 5ms/step - loss: 2.5954 - mae: 2.5954\n",
            "Epoch 39/500\n",
            "2/2 [==============================] - 0s 5ms/step - loss: 1.8880 - mae: 1.8880\n",
            "Epoch 40/500\n",
            "2/2 [==============================] - 0s 8ms/step - loss: 4.3163 - mae: 4.3163\n",
            "Epoch 41/500\n",
            "2/2 [==============================] - 0s 8ms/step - loss: 2.7955 - mae: 2.7955\n",
            "Epoch 42/500\n",
            "2/2 [==============================] - 0s 7ms/step - loss: 2.0728 - mae: 2.0728\n",
            "Epoch 43/500\n",
            "2/2 [==============================] - 0s 8ms/step - loss: 3.9117 - mae: 3.9117\n",
            "Epoch 44/500\n",
            "2/2 [==============================] - 0s 6ms/step - loss: 1.9578 - mae: 1.9578\n",
            "Epoch 45/500\n",
            "2/2 [==============================] - 0s 6ms/step - loss: 6.5767 - mae: 6.5767\n",
            "Epoch 46/500\n",
            "2/2 [==============================] - 0s 7ms/step - loss: 3.5452 - mae: 3.5452\n",
            "Epoch 47/500\n",
            "2/2 [==============================] - 0s 7ms/step - loss: 6.1222 - mae: 6.1222\n",
            "Epoch 48/500\n",
            "2/2 [==============================] - 0s 7ms/step - loss: 4.0892 - mae: 4.0892\n",
            "Epoch 49/500\n",
            "2/2 [==============================] - 0s 7ms/step - loss: 5.9551 - mae: 5.9551\n",
            "Epoch 50/500\n",
            "2/2 [==============================] - 0s 8ms/step - loss: 7.5731 - mae: 7.5731\n",
            "Epoch 51/500\n",
            "2/2 [==============================] - 0s 9ms/step - loss: 5.3682 - mae: 5.3682\n",
            "Epoch 52/500\n",
            "2/2 [==============================] - 0s 6ms/step - loss: 1.3462 - mae: 1.3462\n",
            "Epoch 53/500\n",
            "2/2 [==============================] - 0s 5ms/step - loss: 2.4926 - mae: 2.4926\n",
            "Epoch 54/500\n",
            "2/2 [==============================] - 0s 8ms/step - loss: 3.3978 - mae: 3.3978\n",
            "Epoch 55/500\n",
            "2/2 [==============================] - 0s 5ms/step - loss: 3.8772 - mae: 3.8772\n",
            "Epoch 56/500\n",
            "2/2 [==============================] - 0s 5ms/step - loss: 2.0405 - mae: 2.0405\n",
            "Epoch 57/500\n",
            "2/2 [==============================] - 0s 9ms/step - loss: 5.4789 - mae: 5.4789\n",
            "Epoch 58/500\n",
            "2/2 [==============================] - 0s 6ms/step - loss: 4.2721 - mae: 4.2721\n",
            "Epoch 59/500\n",
            "2/2 [==============================] - 0s 6ms/step - loss: 6.6835 - mae: 6.6835\n",
            "Epoch 60/500\n",
            "2/2 [==============================] - 0s 6ms/step - loss: 2.7713 - mae: 2.7713\n",
            "Epoch 61/500\n",
            "2/2 [==============================] - 0s 9ms/step - loss: 3.7628 - mae: 3.7628\n",
            "Epoch 62/500\n",
            "2/2 [==============================] - 0s 8ms/step - loss: 2.1804 - mae: 2.1804\n",
            "Epoch 63/500\n",
            "2/2 [==============================] - 0s 7ms/step - loss: 3.6029 - mae: 3.6029\n",
            "Epoch 64/500\n",
            "2/2 [==============================] - 0s 8ms/step - loss: 3.3955 - mae: 3.3955\n",
            "Epoch 65/500\n",
            "2/2 [==============================] - 0s 5ms/step - loss: 4.3630 - mae: 4.3630\n",
            "Epoch 66/500\n",
            "2/2 [==============================] - 0s 5ms/step - loss: 2.6664 - mae: 2.6664\n",
            "Epoch 67/500\n",
            "2/2 [==============================] - 0s 5ms/step - loss: 6.0653 - mae: 6.0653\n",
            "Epoch 68/500\n",
            "2/2 [==============================] - 0s 9ms/step - loss: 2.8571 - mae: 2.8571\n",
            "Epoch 69/500\n",
            "2/2 [==============================] - 0s 7ms/step - loss: 5.5328 - mae: 5.5328\n",
            "Epoch 70/500\n",
            "2/2 [==============================] - 0s 10ms/step - loss: 3.9332 - mae: 3.9332\n",
            "Epoch 71/500\n",
            "2/2 [==============================] - 0s 7ms/step - loss: 3.8031 - mae: 3.8031\n",
            "Epoch 72/500\n",
            "2/2 [==============================] - 0s 6ms/step - loss: 2.2892 - mae: 2.2892\n",
            "Epoch 73/500\n",
            "2/2 [==============================] - 0s 8ms/step - loss: 2.7639 - mae: 2.7639\n",
            "Epoch 74/500\n",
            "2/2 [==============================] - 0s 6ms/step - loss: 1.3410 - mae: 1.3410\n",
            "Epoch 75/500\n",
            "2/2 [==============================] - 0s 5ms/step - loss: 2.2859 - mae: 2.2859\n",
            "Epoch 76/500\n",
            "2/2 [==============================] - 0s 5ms/step - loss: 4.9908 - mae: 4.9908\n",
            "Epoch 77/500\n",
            "2/2 [==============================] - 0s 7ms/step - loss: 3.0786 - mae: 3.0786\n",
            "Epoch 78/500\n",
            "2/2 [==============================] - 0s 11ms/step - loss: 3.2478 - mae: 3.2478\n",
            "Epoch 79/500\n",
            "2/2 [==============================] - 0s 6ms/step - loss: 3.9408 - mae: 3.9408\n",
            "Epoch 80/500\n",
            "2/2 [==============================] - 0s 6ms/step - loss: 2.8140 - mae: 2.8140\n",
            "Epoch 81/500\n",
            "2/2 [==============================] - 0s 6ms/step - loss: 2.6799 - mae: 2.6799\n",
            "Epoch 82/500\n",
            "2/2 [==============================] - 0s 6ms/step - loss: 4.5678 - mae: 4.5678\n",
            "Epoch 83/500\n",
            "2/2 [==============================] - 0s 6ms/step - loss: 3.1351 - mae: 3.1351\n",
            "Epoch 84/500\n",
            "2/2 [==============================] - 0s 5ms/step - loss: 4.3566 - mae: 4.3566\n",
            "Epoch 85/500\n",
            "2/2 [==============================] - 0s 9ms/step - loss: 1.4207 - mae: 1.4207\n",
            "Epoch 86/500\n",
            "2/2 [==============================] - 0s 7ms/step - loss: 0.6510 - mae: 0.6510\n",
            "Epoch 87/500\n",
            "2/2 [==============================] - 0s 7ms/step - loss: 0.6030 - mae: 0.6030\n",
            "Epoch 88/500\n",
            "2/2 [==============================] - 0s 8ms/step - loss: 3.2523 - mae: 3.2523\n",
            "Epoch 89/500\n",
            "2/2 [==============================] - 0s 7ms/step - loss: 1.0282 - mae: 1.0282\n",
            "Epoch 90/500\n",
            "2/2 [==============================] - 0s 4ms/step - loss: 1.3258 - mae: 1.3258\n",
            "Epoch 91/500\n",
            "2/2 [==============================] - 0s 6ms/step - loss: 0.9576 - mae: 0.9576\n",
            "Epoch 92/500\n",
            "2/2 [==============================] - 0s 7ms/step - loss: 1.9205 - mae: 1.9205\n",
            "Epoch 93/500\n",
            "2/2 [==============================] - 0s 6ms/step - loss: 2.0853 - mae: 2.0853\n",
            "Epoch 94/500\n",
            "2/2 [==============================] - 0s 7ms/step - loss: 0.5729 - mae: 0.5729\n",
            "Epoch 95/500\n",
            "2/2 [==============================] - 0s 5ms/step - loss: 1.3387 - mae: 1.3387\n",
            "Epoch 96/500\n",
            "2/2 [==============================] - 0s 9ms/step - loss: 1.9868 - mae: 1.9868\n",
            "Epoch 97/500\n",
            "2/2 [==============================] - 0s 6ms/step - loss: 1.5618 - mae: 1.5618\n",
            "Epoch 98/500\n",
            "2/2 [==============================] - 0s 9ms/step - loss: 3.9975 - mae: 3.9975\n",
            "Epoch 99/500\n",
            "2/2 [==============================] - 0s 7ms/step - loss: 1.0752 - mae: 1.0752\n",
            "Epoch 100/500\n",
            "2/2 [==============================] - 0s 7ms/step - loss: 1.1393 - mae: 1.1393\n",
            "Epoch 101/500\n",
            "2/2 [==============================] - 0s 6ms/step - loss: 4.0305 - mae: 4.0305\n",
            "Epoch 102/500\n",
            "2/2 [==============================] - 0s 6ms/step - loss: 1.2224 - mae: 1.2224\n",
            "Epoch 103/500\n",
            "2/2 [==============================] - 0s 7ms/step - loss: 6.7619 - mae: 6.7619\n",
            "Epoch 104/500\n",
            "2/2 [==============================] - 0s 5ms/step - loss: 4.7909 - mae: 4.7909\n",
            "Epoch 105/500\n",
            "2/2 [==============================] - 0s 5ms/step - loss: 3.5817 - mae: 3.5817\n",
            "Epoch 106/500\n",
            "2/2 [==============================] - 0s 4ms/step - loss: 5.2265 - mae: 5.2265\n",
            "Epoch 107/500\n",
            "2/2 [==============================] - 0s 5ms/step - loss: 1.8582 - mae: 1.8582\n",
            "Epoch 108/500\n",
            "2/2 [==============================] - 0s 12ms/step - loss: 5.6071 - mae: 5.6071\n",
            "Epoch 109/500\n",
            "2/2 [==============================] - 0s 6ms/step - loss: 4.8881 - mae: 4.8881\n",
            "Epoch 110/500\n",
            "2/2 [==============================] - 0s 8ms/step - loss: 2.4107 - mae: 2.4107\n",
            "Epoch 111/500\n",
            "2/2 [==============================] - 0s 6ms/step - loss: 1.2946 - mae: 1.2946\n",
            "Epoch 112/500\n",
            "2/2 [==============================] - 0s 6ms/step - loss: 2.8077 - mae: 2.8077\n",
            "Epoch 113/500\n",
            "2/2 [==============================] - 0s 5ms/step - loss: 1.5264 - mae: 1.5264\n",
            "Epoch 114/500\n",
            "2/2 [==============================] - 0s 7ms/step - loss: 2.5137 - mae: 2.5137\n",
            "Epoch 115/500\n",
            "2/2 [==============================] - 0s 8ms/step - loss: 3.8524 - mae: 3.8524\n",
            "Epoch 116/500\n",
            "2/2 [==============================] - 0s 9ms/step - loss: 4.1505 - mae: 4.1505\n",
            "Epoch 117/500\n",
            "2/2 [==============================] - 0s 9ms/step - loss: 3.2736 - mae: 3.2736\n",
            "Epoch 118/500\n",
            "2/2 [==============================] - 0s 8ms/step - loss: 3.9503 - mae: 3.9503\n",
            "Epoch 119/500\n",
            "2/2 [==============================] - 0s 5ms/step - loss: 3.4696 - mae: 3.4696\n",
            "Epoch 120/500\n",
            "2/2 [==============================] - 0s 6ms/step - loss: 5.0113 - mae: 5.0113\n",
            "Epoch 121/500\n",
            "2/2 [==============================] - 0s 6ms/step - loss: 2.5086 - mae: 2.5086\n",
            "Epoch 122/500\n",
            "2/2 [==============================] - 0s 5ms/step - loss: 2.5659 - mae: 2.5659\n",
            "Epoch 123/500\n",
            "2/2 [==============================] - 0s 7ms/step - loss: 1.4093 - mae: 1.4093\n",
            "Epoch 124/500\n",
            "2/2 [==============================] - 0s 4ms/step - loss: 3.1422 - mae: 3.1422\n",
            "Epoch 125/500\n",
            "2/2 [==============================] - 0s 6ms/step - loss: 2.4652 - mae: 2.4652\n",
            "Epoch 126/500\n",
            "2/2 [==============================] - 0s 4ms/step - loss: 1.5138 - mae: 1.5138\n",
            "Epoch 127/500\n",
            "2/2 [==============================] - 0s 8ms/step - loss: 2.5984 - mae: 2.5984\n",
            "Epoch 128/500\n",
            "2/2 [==============================] - 0s 8ms/step - loss: 2.7890 - mae: 2.7890\n",
            "Epoch 129/500\n",
            "2/2 [==============================] - 0s 7ms/step - loss: 4.5604 - mae: 4.5604\n",
            "Epoch 130/500\n",
            "2/2 [==============================] - 0s 13ms/step - loss: 1.0650 - mae: 1.0650\n",
            "Epoch 131/500\n",
            "2/2 [==============================] - 0s 6ms/step - loss: 4.4166 - mae: 4.4166\n",
            "Epoch 132/500\n",
            "2/2 [==============================] - 0s 7ms/step - loss: 2.9031 - mae: 2.9031\n",
            "Epoch 133/500\n",
            "2/2 [==============================] - 0s 4ms/step - loss: 1.8349 - mae: 1.8349\n",
            "Epoch 134/500\n",
            "2/2 [==============================] - 0s 7ms/step - loss: 3.1676 - mae: 3.1676\n",
            "Epoch 135/500\n",
            "2/2 [==============================] - 0s 7ms/step - loss: 1.3639 - mae: 1.3639\n",
            "Epoch 136/500\n",
            "2/2 [==============================] - 0s 7ms/step - loss: 2.2028 - mae: 2.2028\n",
            "Epoch 137/500\n",
            "2/2 [==============================] - 0s 7ms/step - loss: 1.4878 - mae: 1.4878\n",
            "Epoch 138/500\n",
            "2/2 [==============================] - 0s 7ms/step - loss: 1.4181 - mae: 1.4181\n",
            "Epoch 139/500\n",
            "2/2 [==============================] - 0s 5ms/step - loss: 2.6097 - mae: 2.6097\n",
            "Epoch 140/500\n",
            "2/2 [==============================] - 0s 10ms/step - loss: 1.0340 - mae: 1.0340\n",
            "Epoch 141/500\n",
            "2/2 [==============================] - 0s 6ms/step - loss: 1.5977 - mae: 1.5977\n",
            "Epoch 142/500\n",
            "2/2 [==============================] - 0s 6ms/step - loss: 1.9570 - mae: 1.9570\n",
            "Epoch 143/500\n",
            "2/2 [==============================] - 0s 6ms/step - loss: 1.1603 - mae: 1.1603\n",
            "Epoch 144/500\n",
            "2/2 [==============================] - 0s 6ms/step - loss: 0.6479 - mae: 0.6479\n",
            "Epoch 145/500\n",
            "2/2 [==============================] - 0s 6ms/step - loss: 0.8755 - mae: 0.8755\n",
            "Epoch 146/500\n",
            "2/2 [==============================] - 0s 8ms/step - loss: 1.2864 - mae: 1.2864\n",
            "Epoch 147/500\n",
            "2/2 [==============================] - 0s 6ms/step - loss: 2.8354 - mae: 2.8354\n",
            "Epoch 148/500\n",
            "2/2 [==============================] - 0s 5ms/step - loss: 2.0175 - mae: 2.0175\n",
            "Epoch 149/500\n",
            "2/2 [==============================] - 0s 9ms/step - loss: 2.2991 - mae: 2.2991\n",
            "Epoch 150/500\n",
            "2/2 [==============================] - 0s 5ms/step - loss: 1.5110 - mae: 1.5110\n",
            "Epoch 151/500\n",
            "2/2 [==============================] - 0s 7ms/step - loss: 1.9758 - mae: 1.9758\n",
            "Epoch 152/500\n",
            "2/2 [==============================] - 0s 7ms/step - loss: 3.1224 - mae: 3.1224\n",
            "Epoch 153/500\n",
            "2/2 [==============================] - 0s 6ms/step - loss: 1.9208 - mae: 1.9208\n",
            "Epoch 154/500\n",
            "2/2 [==============================] - 0s 9ms/step - loss: 1.1984 - mae: 1.1984\n",
            "Epoch 155/500\n",
            "2/2 [==============================] - 0s 7ms/step - loss: 1.2925 - mae: 1.2925\n",
            "Epoch 156/500\n",
            "2/2 [==============================] - 0s 11ms/step - loss: 2.0467 - mae: 2.0467\n",
            "Epoch 157/500\n",
            "2/2 [==============================] - 0s 8ms/step - loss: 4.0575 - mae: 4.0575\n",
            "Epoch 158/500\n",
            "2/2 [==============================] - 0s 6ms/step - loss: 3.3902 - mae: 3.3902\n",
            "Epoch 159/500\n",
            "2/2 [==============================] - 0s 6ms/step - loss: 4.5673 - mae: 4.5673\n",
            "Epoch 160/500\n",
            "2/2 [==============================] - 0s 4ms/step - loss: 6.0309 - mae: 6.0309\n",
            "Epoch 161/500\n",
            "2/2 [==============================] - 0s 8ms/step - loss: 3.8274 - mae: 3.8274\n",
            "Epoch 162/500\n",
            "2/2 [==============================] - 0s 6ms/step - loss: 4.9154 - mae: 4.9154\n",
            "Epoch 163/500\n",
            "2/2 [==============================] - 0s 11ms/step - loss: 1.8570 - mae: 1.8570\n",
            "Epoch 164/500\n",
            "2/2 [==============================] - 0s 5ms/step - loss: 2.7863 - mae: 2.7863\n",
            "Epoch 165/500\n",
            "2/2 [==============================] - 0s 4ms/step - loss: 3.4496 - mae: 3.4496\n",
            "Epoch 166/500\n",
            "2/2 [==============================] - 0s 4ms/step - loss: 3.6466 - mae: 3.6466\n",
            "Epoch 167/500\n",
            "2/2 [==============================] - 0s 8ms/step - loss: 2.7419 - mae: 2.7419\n",
            "Epoch 168/500\n",
            "2/2 [==============================] - 0s 10ms/step - loss: 2.3891 - mae: 2.3891\n",
            "Epoch 169/500\n",
            "2/2 [==============================] - 0s 5ms/step - loss: 2.0372 - mae: 2.0372\n",
            "Epoch 170/500\n",
            "2/2 [==============================] - 0s 5ms/step - loss: 3.6540 - mae: 3.6540\n",
            "Epoch 171/500\n",
            "2/2 [==============================] - 0s 4ms/step - loss: 3.3479 - mae: 3.3479\n",
            "Epoch 172/500\n",
            "2/2 [==============================] - 0s 16ms/step - loss: 1.0995 - mae: 1.0995\n",
            "Epoch 173/500\n",
            "2/2 [==============================] - 0s 5ms/step - loss: 4.3356 - mae: 4.3356\n",
            "Epoch 174/500\n",
            "2/2 [==============================] - 0s 5ms/step - loss: 2.6836 - mae: 2.6836\n",
            "Epoch 175/500\n",
            "2/2 [==============================] - 0s 5ms/step - loss: 2.0579 - mae: 2.0579\n",
            "Epoch 176/500\n",
            "2/2 [==============================] - 0s 5ms/step - loss: 2.3799 - mae: 2.3799\n",
            "Epoch 177/500\n",
            "2/2 [==============================] - 0s 5ms/step - loss: 1.3107 - mae: 1.3107\n",
            "Epoch 178/500\n",
            "2/2 [==============================] - 0s 4ms/step - loss: 1.1696 - mae: 1.1696\n",
            "Epoch 179/500\n",
            "2/2 [==============================] - 0s 4ms/step - loss: 1.1970 - mae: 1.1970\n",
            "Epoch 180/500\n",
            "2/2 [==============================] - 0s 3ms/step - loss: 2.1692 - mae: 2.1692\n",
            "Epoch 181/500\n",
            "2/2 [==============================] - 0s 10ms/step - loss: 1.2507 - mae: 1.2507\n",
            "Epoch 182/500\n",
            "2/2 [==============================] - 0s 4ms/step - loss: 2.2246 - mae: 2.2246\n",
            "Epoch 183/500\n",
            "2/2 [==============================] - 0s 4ms/step - loss: 0.5609 - mae: 0.5609\n",
            "Epoch 184/500\n",
            "2/2 [==============================] - 0s 6ms/step - loss: 5.8549 - mae: 5.8549\n",
            "Epoch 185/500\n",
            "2/2 [==============================] - 0s 6ms/step - loss: 4.8138 - mae: 4.8138\n",
            "Epoch 186/500\n",
            "2/2 [==============================] - 0s 6ms/step - loss: 2.7851 - mae: 2.7851\n",
            "Epoch 187/500\n",
            "2/2 [==============================] - 0s 4ms/step - loss: 3.7584 - mae: 3.7584\n",
            "Epoch 188/500\n",
            "2/2 [==============================] - 0s 5ms/step - loss: 2.0180 - mae: 2.0180\n",
            "Epoch 189/500\n",
            "2/2 [==============================] - 0s 7ms/step - loss: 4.5693 - mae: 4.5693\n",
            "Epoch 190/500\n",
            "2/2 [==============================] - 0s 4ms/step - loss: 6.2366 - mae: 6.2366\n",
            "Epoch 191/500\n",
            "2/2 [==============================] - 0s 4ms/step - loss: 2.6989 - mae: 2.6989\n",
            "Epoch 192/500\n",
            "2/2 [==============================] - 0s 7ms/step - loss: 3.1650 - mae: 3.1650\n",
            "Epoch 193/500\n",
            "2/2 [==============================] - 0s 4ms/step - loss: 6.2986 - mae: 6.2986\n",
            "Epoch 194/500\n",
            "2/2 [==============================] - 0s 6ms/step - loss: 5.6534 - mae: 5.6534\n",
            "Epoch 195/500\n",
            "2/2 [==============================] - 0s 4ms/step - loss: 1.9974 - mae: 1.9974\n",
            "Epoch 196/500\n",
            "2/2 [==============================] - 0s 6ms/step - loss: 2.9016 - mae: 2.9016\n",
            "Epoch 197/500\n",
            "2/2 [==============================] - 0s 4ms/step - loss: 2.0986 - mae: 2.0986\n",
            "Epoch 198/500\n",
            "2/2 [==============================] - 0s 8ms/step - loss: 3.3864 - mae: 3.3864\n",
            "Epoch 199/500\n",
            "2/2 [==============================] - 0s 9ms/step - loss: 1.5345 - mae: 1.5345\n",
            "Epoch 200/500\n",
            "2/2 [==============================] - 0s 9ms/step - loss: 3.9704 - mae: 3.9704\n",
            "Epoch 201/500\n",
            "2/2 [==============================] - 0s 4ms/step - loss: 2.5025 - mae: 2.5025\n",
            "Epoch 202/500\n",
            "2/2 [==============================] - 0s 8ms/step - loss: 3.5866 - mae: 3.5866\n",
            "Epoch 203/500\n",
            "2/2 [==============================] - 0s 4ms/step - loss: 4.1543 - mae: 4.1543\n",
            "Epoch 204/500\n",
            "2/2 [==============================] - 0s 9ms/step - loss: 1.4824 - mae: 1.4824\n",
            "Epoch 205/500\n",
            "2/2 [==============================] - 0s 5ms/step - loss: 2.3544 - mae: 2.3544\n",
            "Epoch 206/500\n",
            "2/2 [==============================] - 0s 8ms/step - loss: 2.9028 - mae: 2.9028\n",
            "Epoch 207/500\n",
            "2/2 [==============================] - 0s 6ms/step - loss: 2.8133 - mae: 2.8133\n",
            "Epoch 208/500\n",
            "2/2 [==============================] - 0s 14ms/step - loss: 2.5064 - mae: 2.5064\n",
            "Epoch 209/500\n",
            "2/2 [==============================] - 0s 7ms/step - loss: 2.9233 - mae: 2.9233\n",
            "Epoch 210/500\n",
            "2/2 [==============================] - 0s 9ms/step - loss: 2.2262 - mae: 2.2262\n",
            "Epoch 211/500\n",
            "2/2 [==============================] - 0s 7ms/step - loss: 2.7391 - mae: 2.7391\n",
            "Epoch 212/500\n",
            "2/2 [==============================] - 0s 5ms/step - loss: 2.9053 - mae: 2.9053\n",
            "Epoch 213/500\n",
            "2/2 [==============================] - 0s 4ms/step - loss: 2.5670 - mae: 2.5670\n",
            "Epoch 214/500\n",
            "2/2 [==============================] - 0s 9ms/step - loss: 1.8248 - mae: 1.8248\n",
            "Epoch 215/500\n",
            "2/2 [==============================] - 0s 4ms/step - loss: 3.3241 - mae: 3.3241\n",
            "Epoch 216/500\n",
            "2/2 [==============================] - 0s 4ms/step - loss: 3.8039 - mae: 3.8039\n",
            "Epoch 217/500\n",
            "2/2 [==============================] - 0s 4ms/step - loss: 1.2696 - mae: 1.2696\n",
            "Epoch 218/500\n",
            "2/2 [==============================] - 0s 4ms/step - loss: 3.6769 - mae: 3.6769\n",
            "Epoch 219/500\n",
            "2/2 [==============================] - 0s 5ms/step - loss: 1.7598 - mae: 1.7598\n",
            "Epoch 220/500\n",
            "2/2 [==============================] - 0s 4ms/step - loss: 2.3365 - mae: 2.3365\n",
            "Epoch 221/500\n",
            "2/2 [==============================] - 0s 13ms/step - loss: 1.1388 - mae: 1.1388\n",
            "Epoch 222/500\n",
            "2/2 [==============================] - 0s 6ms/step - loss: 2.4501 - mae: 2.4501\n",
            "Epoch 223/500\n",
            "2/2 [==============================] - 0s 4ms/step - loss: 1.5075 - mae: 1.5075\n",
            "Epoch 224/500\n",
            "2/2 [==============================] - 0s 6ms/step - loss: 2.0072 - mae: 2.0072\n",
            "Epoch 225/500\n",
            "2/2 [==============================] - 0s 7ms/step - loss: 2.7141 - mae: 2.7141\n",
            "Epoch 226/500\n",
            "2/2 [==============================] - 0s 4ms/step - loss: 1.9343 - mae: 1.9343\n",
            "Epoch 227/500\n",
            "2/2 [==============================] - 0s 14ms/step - loss: 2.3332 - mae: 2.3332\n",
            "Epoch 228/500\n",
            "2/2 [==============================] - 0s 9ms/step - loss: 1.2564 - mae: 1.2564\n",
            "Epoch 229/500\n",
            "2/2 [==============================] - 0s 13ms/step - loss: 2.6149 - mae: 2.6149\n",
            "Epoch 230/500\n",
            "2/2 [==============================] - 0s 7ms/step - loss: 1.8890 - mae: 1.8890\n",
            "Epoch 231/500\n",
            "2/2 [==============================] - 0s 5ms/step - loss: 4.2230 - mae: 4.2230\n",
            "Epoch 232/500\n",
            "2/2 [==============================] - 0s 8ms/step - loss: 1.9729 - mae: 1.9729\n",
            "Epoch 233/500\n",
            "2/2 [==============================] - 0s 7ms/step - loss: 4.7223 - mae: 4.7223\n",
            "Epoch 234/500\n",
            "2/2 [==============================] - 0s 5ms/step - loss: 2.2438 - mae: 2.2438\n",
            "Epoch 235/500\n",
            "2/2 [==============================] - 0s 6ms/step - loss: 1.6540 - mae: 1.6540\n",
            "Epoch 236/500\n",
            "2/2 [==============================] - 0s 7ms/step - loss: 0.8351 - mae: 0.8351\n",
            "Epoch 237/500\n",
            "2/2 [==============================] - 0s 5ms/step - loss: 3.1422 - mae: 3.1422\n",
            "Epoch 238/500\n",
            "2/2 [==============================] - 0s 5ms/step - loss: 0.8145 - mae: 0.8145\n",
            "Epoch 239/500\n",
            "2/2 [==============================] - 0s 4ms/step - loss: 2.5849 - mae: 2.5849\n",
            "Epoch 240/500\n",
            "2/2 [==============================] - 0s 4ms/step - loss: 1.5373 - mae: 1.5373\n",
            "Epoch 241/500\n",
            "2/2 [==============================] - 0s 4ms/step - loss: 1.4567 - mae: 1.4567\n",
            "Epoch 242/500\n",
            "2/2 [==============================] - 0s 5ms/step - loss: 2.4486 - mae: 2.4486\n",
            "Epoch 243/500\n",
            "2/2 [==============================] - 0s 5ms/step - loss: 3.2911 - mae: 3.2911\n",
            "Epoch 244/500\n",
            "2/2 [==============================] - 0s 4ms/step - loss: 1.7586 - mae: 1.7586\n",
            "Epoch 245/500\n",
            "2/2 [==============================] - 0s 5ms/step - loss: 2.0794 - mae: 2.0794\n",
            "Epoch 246/500\n",
            "2/2 [==============================] - 0s 5ms/step - loss: 1.7551 - mae: 1.7551\n",
            "Epoch 247/500\n",
            "2/2 [==============================] - 0s 4ms/step - loss: 2.7046 - mae: 2.7046\n",
            "Epoch 248/500\n",
            "2/2 [==============================] - 0s 9ms/step - loss: 2.2661 - mae: 2.2661\n",
            "Epoch 249/500\n",
            "2/2 [==============================] - 0s 5ms/step - loss: 3.0030 - mae: 3.0030\n",
            "Epoch 250/500\n",
            "2/2 [==============================] - 0s 9ms/step - loss: 0.7376 - mae: 0.7376\n",
            "Epoch 251/500\n",
            "2/2 [==============================] - 0s 5ms/step - loss: 3.4124 - mae: 3.4124\n",
            "Epoch 252/500\n",
            "2/2 [==============================] - 0s 5ms/step - loss: 2.5843 - mae: 2.5843\n",
            "Epoch 253/500\n",
            "2/2 [==============================] - 0s 5ms/step - loss: 2.7308 - mae: 2.7308\n",
            "Epoch 254/500\n",
            "2/2 [==============================] - 0s 5ms/step - loss: 2.0289 - mae: 2.0289\n",
            "Epoch 255/500\n",
            "2/2 [==============================] - 0s 10ms/step - loss: 2.8411 - mae: 2.8411\n",
            "Epoch 256/500\n",
            "2/2 [==============================] - 0s 5ms/step - loss: 2.0250 - mae: 2.0250\n",
            "Epoch 257/500\n",
            "2/2 [==============================] - 0s 4ms/step - loss: 2.6355 - mae: 2.6355\n",
            "Epoch 258/500\n",
            "2/2 [==============================] - 0s 8ms/step - loss: 2.2825 - mae: 2.2825\n",
            "Epoch 259/500\n",
            "2/2 [==============================] - 0s 5ms/step - loss: 0.7483 - mae: 0.7483\n",
            "Epoch 260/500\n",
            "2/2 [==============================] - 0s 5ms/step - loss: 3.5048 - mae: 3.5048\n",
            "Epoch 261/500\n",
            "2/2 [==============================] - 0s 5ms/step - loss: 5.3254 - mae: 5.3254\n",
            "Epoch 262/500\n",
            "2/2 [==============================] - 0s 5ms/step - loss: 1.8130 - mae: 1.8130\n",
            "Epoch 263/500\n",
            "2/2 [==============================] - 0s 9ms/step - loss: 4.4608 - mae: 4.4608\n",
            "Epoch 264/500\n",
            "2/2 [==============================] - 0s 4ms/step - loss: 3.3347 - mae: 3.3347\n",
            "Epoch 265/500\n",
            "2/2 [==============================] - 0s 4ms/step - loss: 2.3280 - mae: 2.3280\n",
            "Epoch 266/500\n",
            "2/2 [==============================] - 0s 5ms/step - loss: 1.5114 - mae: 1.5114\n",
            "Epoch 267/500\n",
            "2/2 [==============================] - 0s 5ms/step - loss: 3.6853 - mae: 3.6853\n",
            "Epoch 268/500\n",
            "2/2 [==============================] - 0s 5ms/step - loss: 2.3099 - mae: 2.3099\n",
            "Epoch 269/500\n",
            "2/2 [==============================] - 0s 5ms/step - loss: 2.8739 - mae: 2.8739\n",
            "Epoch 270/500\n",
            "2/2 [==============================] - 0s 5ms/step - loss: 2.0751 - mae: 2.0751\n",
            "Epoch 271/500\n",
            "2/2 [==============================] - 0s 6ms/step - loss: 1.4797 - mae: 1.4797\n",
            "Epoch 272/500\n",
            "2/2 [==============================] - 0s 6ms/step - loss: 0.7347 - mae: 0.7347\n",
            "Epoch 273/500\n",
            "2/2 [==============================] - 0s 6ms/step - loss: 0.4529 - mae: 0.4529\n",
            "Epoch 274/500\n",
            "2/2 [==============================] - 0s 6ms/step - loss: 1.0045 - mae: 1.0045\n",
            "Epoch 275/500\n",
            "2/2 [==============================] - 0s 5ms/step - loss: 2.2241 - mae: 2.2241\n",
            "Epoch 276/500\n",
            "2/2 [==============================] - 0s 5ms/step - loss: 1.1419 - mae: 1.1419\n",
            "Epoch 277/500\n",
            "2/2 [==============================] - 0s 5ms/step - loss: 4.6939 - mae: 4.6939\n",
            "Epoch 278/500\n",
            "2/2 [==============================] - 0s 5ms/step - loss: 4.3817 - mae: 4.3817\n",
            "Epoch 279/500\n",
            "2/2 [==============================] - 0s 5ms/step - loss: 3.1262 - mae: 3.1262\n",
            "Epoch 280/500\n",
            "2/2 [==============================] - 0s 5ms/step - loss: 3.8372 - mae: 3.8372\n",
            "Epoch 281/500\n",
            "2/2 [==============================] - 0s 5ms/step - loss: 2.1875 - mae: 2.1875\n",
            "Epoch 282/500\n",
            "2/2 [==============================] - 0s 7ms/step - loss: 2.7419 - mae: 2.7419\n",
            "Epoch 283/500\n",
            "2/2 [==============================] - 0s 5ms/step - loss: 1.6041 - mae: 1.6041\n",
            "Epoch 284/500\n",
            "2/2 [==============================] - 0s 6ms/step - loss: 1.3269 - mae: 1.3269\n",
            "Epoch 285/500\n",
            "2/2 [==============================] - 0s 5ms/step - loss: 1.9389 - mae: 1.9389\n",
            "Epoch 286/500\n",
            "2/2 [==============================] - 0s 6ms/step - loss: 0.6812 - mae: 0.6812\n",
            "Epoch 287/500\n",
            "2/2 [==============================] - 0s 8ms/step - loss: 3.0695 - mae: 3.0695\n",
            "Epoch 288/500\n",
            "2/2 [==============================] - 0s 6ms/step - loss: 0.6020 - mae: 0.6020\n",
            "Epoch 289/500\n",
            "2/2 [==============================] - 0s 6ms/step - loss: 2.3969 - mae: 2.3969\n",
            "Epoch 290/500\n",
            "2/2 [==============================] - 0s 6ms/step - loss: 1.2638 - mae: 1.2638\n",
            "Epoch 291/500\n",
            "2/2 [==============================] - 0s 6ms/step - loss: 2.6558 - mae: 2.6558\n",
            "Epoch 292/500\n",
            "2/2 [==============================] - 0s 5ms/step - loss: 2.0327 - mae: 2.0327\n",
            "Epoch 293/500\n",
            "2/2 [==============================] - 0s 6ms/step - loss: 1.9161 - mae: 1.9161\n",
            "Epoch 294/500\n",
            "2/2 [==============================] - 0s 6ms/step - loss: 1.5976 - mae: 1.5976\n",
            "Epoch 295/500\n",
            "2/2 [==============================] - 0s 9ms/step - loss: 0.7655 - mae: 0.7655\n",
            "Epoch 296/500\n",
            "2/2 [==============================] - 0s 12ms/step - loss: 1.7488 - mae: 1.7488\n",
            "Epoch 297/500\n",
            "2/2 [==============================] - 0s 11ms/step - loss: 1.3635 - mae: 1.3635\n",
            "Epoch 298/500\n",
            "2/2 [==============================] - 0s 8ms/step - loss: 0.6358 - mae: 0.6358\n",
            "Epoch 299/500\n",
            "2/2 [==============================] - 0s 6ms/step - loss: 4.1225 - mae: 4.1225\n",
            "Epoch 300/500\n",
            "2/2 [==============================] - 0s 5ms/step - loss: 2.4970 - mae: 2.4970\n",
            "Epoch 301/500\n",
            "2/2 [==============================] - 0s 5ms/step - loss: 2.3032 - mae: 2.3032\n",
            "Epoch 302/500\n",
            "2/2 [==============================] - 0s 5ms/step - loss: 3.4920 - mae: 3.4920\n",
            "Epoch 303/500\n",
            "2/2 [==============================] - 0s 5ms/step - loss: 0.8543 - mae: 0.8543\n",
            "Epoch 304/500\n",
            "2/2 [==============================] - 0s 5ms/step - loss: 2.6085 - mae: 2.6085\n",
            "Epoch 305/500\n",
            "2/2 [==============================] - 0s 5ms/step - loss: 0.8564 - mae: 0.8564\n",
            "Epoch 306/500\n",
            "2/2 [==============================] - 0s 6ms/step - loss: 1.0016 - mae: 1.0016\n",
            "Epoch 307/500\n",
            "2/2 [==============================] - 0s 5ms/step - loss: 0.4254 - mae: 0.4254\n",
            "Epoch 308/500\n",
            "2/2 [==============================] - 0s 5ms/step - loss: 1.5565 - mae: 1.5565\n",
            "Epoch 309/500\n",
            "2/2 [==============================] - 0s 7ms/step - loss: 1.0843 - mae: 1.0843\n",
            "Epoch 310/500\n",
            "2/2 [==============================] - 0s 12ms/step - loss: 0.9492 - mae: 0.9492\n",
            "Epoch 311/500\n",
            "2/2 [==============================] - 0s 7ms/step - loss: 1.2428 - mae: 1.2428\n",
            "Epoch 312/500\n",
            "2/2 [==============================] - 0s 8ms/step - loss: 1.2158 - mae: 1.2158\n",
            "Epoch 313/500\n",
            "2/2 [==============================] - 0s 9ms/step - loss: 1.9797 - mae: 1.9797\n",
            "Epoch 314/500\n",
            "2/2 [==============================] - 0s 8ms/step - loss: 2.3662 - mae: 2.3662\n",
            "Epoch 315/500\n",
            "2/2 [==============================] - 0s 9ms/step - loss: 2.4288 - mae: 2.4288\n",
            "Epoch 316/500\n",
            "2/2 [==============================] - 0s 6ms/step - loss: 2.3733 - mae: 2.3733\n",
            "Epoch 317/500\n",
            "2/2 [==============================] - 0s 8ms/step - loss: 2.4708 - mae: 2.4708\n",
            "Epoch 318/500\n",
            "2/2 [==============================] - 0s 5ms/step - loss: 2.2201 - mae: 2.2201\n",
            "Epoch 319/500\n",
            "2/2 [==============================] - 0s 7ms/step - loss: 2.6573 - mae: 2.6573\n",
            "Epoch 320/500\n",
            "2/2 [==============================] - 0s 8ms/step - loss: 0.7219 - mae: 0.7219\n",
            "Epoch 321/500\n",
            "2/2 [==============================] - 0s 6ms/step - loss: 3.7677 - mae: 3.7677\n",
            "Epoch 322/500\n",
            "2/2 [==============================] - 0s 6ms/step - loss: 2.1446 - mae: 2.1446\n",
            "Epoch 323/500\n",
            "2/2 [==============================] - 0s 8ms/step - loss: 1.8536 - mae: 1.8536\n",
            "Epoch 324/500\n",
            "2/2 [==============================] - 0s 9ms/step - loss: 1.1063 - mae: 1.1063\n",
            "Epoch 325/500\n",
            "2/2 [==============================] - 0s 6ms/step - loss: 1.7357 - mae: 1.7357\n",
            "Epoch 326/500\n",
            "2/2 [==============================] - 0s 6ms/step - loss: 0.9082 - mae: 0.9082\n",
            "Epoch 327/500\n",
            "2/2 [==============================] - 0s 7ms/step - loss: 0.8752 - mae: 0.8752\n",
            "Epoch 328/500\n",
            "2/2 [==============================] - 0s 7ms/step - loss: 0.3983 - mae: 0.3983\n",
            "Epoch 329/500\n",
            "2/2 [==============================] - 0s 5ms/step - loss: 0.8833 - mae: 0.8833\n",
            "Epoch 330/500\n",
            "2/2 [==============================] - 0s 7ms/step - loss: 0.9038 - mae: 0.9038\n",
            "Epoch 331/500\n",
            "2/2 [==============================] - 0s 7ms/step - loss: 1.4399 - mae: 1.4399\n",
            "Epoch 332/500\n",
            "2/2 [==============================] - 0s 6ms/step - loss: 2.7382 - mae: 2.7382\n",
            "Epoch 333/500\n",
            "2/2 [==============================] - 0s 5ms/step - loss: 2.1420 - mae: 2.1420\n",
            "Epoch 334/500\n",
            "2/2 [==============================] - 0s 7ms/step - loss: 2.8587 - mae: 2.8587\n",
            "Epoch 335/500\n",
            "2/2 [==============================] - 0s 9ms/step - loss: 3.5679 - mae: 3.5679\n",
            "Epoch 336/500\n",
            "2/2 [==============================] - 0s 9ms/step - loss: 3.9391 - mae: 3.9391\n",
            "Epoch 337/500\n",
            "2/2 [==============================] - 0s 10ms/step - loss: 3.3249 - mae: 3.3249\n",
            "Epoch 338/500\n",
            "2/2 [==============================] - 0s 10ms/step - loss: 3.7953 - mae: 3.7953\n",
            "Epoch 339/500\n",
            "2/2 [==============================] - 0s 10ms/step - loss: 3.4869 - mae: 3.4869\n",
            "Epoch 340/500\n",
            "2/2 [==============================] - 0s 12ms/step - loss: 2.4638 - mae: 2.4638\n",
            "Epoch 341/500\n",
            "2/2 [==============================] - 0s 12ms/step - loss: 4.3210 - mae: 4.3210\n",
            "Epoch 342/500\n",
            "2/2 [==============================] - 0s 17ms/step - loss: 1.9570 - mae: 1.9570\n",
            "Epoch 343/500\n",
            "2/2 [==============================] - 0s 9ms/step - loss: 3.0088 - mae: 3.0088\n",
            "Epoch 344/500\n",
            "2/2 [==============================] - 0s 10ms/step - loss: 2.0759 - mae: 2.0759\n",
            "Epoch 345/500\n",
            "2/2 [==============================] - 0s 7ms/step - loss: 1.4081 - mae: 1.4081\n",
            "Epoch 346/500\n",
            "2/2 [==============================] - 0s 6ms/step - loss: 2.2875 - mae: 2.2875\n",
            "Epoch 347/500\n",
            "2/2 [==============================] - 0s 7ms/step - loss: 4.1369 - mae: 4.1369\n",
            "Epoch 348/500\n",
            "2/2 [==============================] - 0s 8ms/step - loss: 2.5610 - mae: 2.5610\n",
            "Epoch 349/500\n",
            "2/2 [==============================] - 0s 6ms/step - loss: 2.0840 - mae: 2.0840\n",
            "Epoch 350/500\n",
            "2/2 [==============================] - 0s 6ms/step - loss: 4.7474 - mae: 4.7474\n",
            "Epoch 351/500\n",
            "2/2 [==============================] - 0s 6ms/step - loss: 5.4297 - mae: 5.4297\n",
            "Epoch 352/500\n",
            "2/2 [==============================] - 0s 7ms/step - loss: 2.4838 - mae: 2.4838\n",
            "Epoch 353/500\n",
            "2/2 [==============================] - 0s 6ms/step - loss: 3.1900 - mae: 3.1900\n",
            "Epoch 354/500\n",
            "2/2 [==============================] - 0s 6ms/step - loss: 3.6606 - mae: 3.6606\n",
            "Epoch 355/500\n",
            "2/2 [==============================] - 0s 8ms/step - loss: 4.4510 - mae: 4.4510\n",
            "Epoch 356/500\n",
            "2/2 [==============================] - 0s 7ms/step - loss: 1.7574 - mae: 1.7574\n",
            "Epoch 357/500\n",
            "2/2 [==============================] - 0s 7ms/step - loss: 2.3715 - mae: 2.3715\n",
            "Epoch 358/500\n",
            "2/2 [==============================] - 0s 5ms/step - loss: 0.7441 - mae: 0.7441\n",
            "Epoch 359/500\n",
            "2/2 [==============================] - 0s 10ms/step - loss: 1.7052 - mae: 1.7052\n",
            "Epoch 360/500\n",
            "2/2 [==============================] - 0s 7ms/step - loss: 2.1265 - mae: 2.1265\n",
            "Epoch 361/500\n",
            "2/2 [==============================] - 0s 6ms/step - loss: 1.3527 - mae: 1.3527\n",
            "Epoch 362/500\n",
            "2/2 [==============================] - 0s 9ms/step - loss: 0.8499 - mae: 0.8499\n",
            "Epoch 363/500\n",
            "2/2 [==============================] - 0s 10ms/step - loss: 1.8872 - mae: 1.8872\n",
            "Epoch 364/500\n",
            "2/2 [==============================] - 0s 11ms/step - loss: 0.8588 - mae: 0.8588\n",
            "Epoch 365/500\n",
            "2/2 [==============================] - 0s 7ms/step - loss: 2.6373 - mae: 2.6373\n",
            "Epoch 366/500\n",
            "2/2 [==============================] - 0s 8ms/step - loss: 3.6703 - mae: 3.6703\n",
            "Epoch 367/500\n",
            "2/2 [==============================] - 0s 7ms/step - loss: 2.9316 - mae: 2.9316\n",
            "Epoch 368/500\n",
            "2/2 [==============================] - 0s 7ms/step - loss: 1.2435 - mae: 1.2435\n",
            "Epoch 369/500\n",
            "2/2 [==============================] - 0s 9ms/step - loss: 3.7351 - mae: 3.7351\n",
            "Epoch 370/500\n",
            "2/2 [==============================] - 0s 9ms/step - loss: 3.4916 - mae: 3.4916\n",
            "Epoch 371/500\n",
            "2/2 [==============================] - 0s 7ms/step - loss: 1.3809 - mae: 1.3809\n",
            "Epoch 372/500\n",
            "2/2 [==============================] - 0s 4ms/step - loss: 1.5223 - mae: 1.5223\n",
            "Epoch 373/500\n",
            "2/2 [==============================] - 0s 10ms/step - loss: 1.9169 - mae: 1.9169\n",
            "Epoch 374/500\n",
            "2/2 [==============================] - 0s 8ms/step - loss: 0.9843 - mae: 0.9843\n",
            "Epoch 375/500\n",
            "2/2 [==============================] - 0s 8ms/step - loss: 1.6967 - mae: 1.6967\n",
            "Epoch 376/500\n",
            "2/2 [==============================] - 0s 7ms/step - loss: 2.2730 - mae: 2.2730\n",
            "Epoch 377/500\n",
            "2/2 [==============================] - 0s 5ms/step - loss: 1.4869 - mae: 1.4869\n",
            "Epoch 378/500\n",
            "2/2 [==============================] - 0s 9ms/step - loss: 0.6057 - mae: 0.6057\n",
            "Epoch 379/500\n",
            "2/2 [==============================] - 0s 5ms/step - loss: 0.5244 - mae: 0.5244\n",
            "Epoch 380/500\n",
            "2/2 [==============================] - 0s 6ms/step - loss: 2.3145 - mae: 2.3145\n",
            "Epoch 381/500\n",
            "2/2 [==============================] - 0s 7ms/step - loss: 1.6205 - mae: 1.6205\n",
            "Epoch 382/500\n",
            "2/2 [==============================] - 0s 7ms/step - loss: 2.0501 - mae: 2.0501\n",
            "Epoch 383/500\n",
            "2/2 [==============================] - 0s 7ms/step - loss: 1.9051 - mae: 1.9051\n",
            "Epoch 384/500\n",
            "2/2 [==============================] - 0s 8ms/step - loss: 2.2286 - mae: 2.2286\n",
            "Epoch 385/500\n",
            "2/2 [==============================] - 0s 7ms/step - loss: 3.2758 - mae: 3.2758\n",
            "Epoch 386/500\n",
            "2/2 [==============================] - 0s 8ms/step - loss: 1.4214 - mae: 1.4214\n",
            "Epoch 387/500\n",
            "2/2 [==============================] - 0s 8ms/step - loss: 2.4465 - mae: 2.4465\n",
            "Epoch 388/500\n",
            "2/2 [==============================] - 0s 8ms/step - loss: 2.2171 - mae: 2.2171\n",
            "Epoch 389/500\n",
            "2/2 [==============================] - 0s 7ms/step - loss: 1.6722 - mae: 1.6722\n",
            "Epoch 390/500\n",
            "2/2 [==============================] - 0s 5ms/step - loss: 1.4816 - mae: 1.4816\n",
            "Epoch 391/500\n",
            "2/2 [==============================] - 0s 15ms/step - loss: 2.2597 - mae: 2.2597\n",
            "Epoch 392/500\n",
            "2/2 [==============================] - 0s 11ms/step - loss: 1.7745 - mae: 1.7745\n",
            "Epoch 393/500\n",
            "2/2 [==============================] - 0s 8ms/step - loss: 1.8215 - mae: 1.8215\n",
            "Epoch 394/500\n",
            "2/2 [==============================] - 0s 8ms/step - loss: 1.4785 - mae: 1.4785\n",
            "Epoch 395/500\n",
            "2/2 [==============================] - 0s 6ms/step - loss: 1.0874 - mae: 1.0874\n",
            "Epoch 396/500\n",
            "2/2 [==============================] - 0s 10ms/step - loss: 0.6969 - mae: 0.6969\n",
            "Epoch 397/500\n",
            "2/2 [==============================] - 0s 8ms/step - loss: 1.7696 - mae: 1.7696\n",
            "Epoch 398/500\n",
            "2/2 [==============================] - 0s 6ms/step - loss: 0.3011 - mae: 0.3011\n",
            "Epoch 399/500\n",
            "2/2 [==============================] - 0s 9ms/step - loss: 0.4534 - mae: 0.4534\n",
            "Epoch 400/500\n",
            "2/2 [==============================] - 0s 10ms/step - loss: 0.7202 - mae: 0.7202\n",
            "Epoch 401/500\n",
            "2/2 [==============================] - 0s 9ms/step - loss: 0.8441 - mae: 0.8441\n",
            "Epoch 402/500\n",
            "2/2 [==============================] - 0s 8ms/step - loss: 0.5366 - mae: 0.5366\n",
            "Epoch 403/500\n",
            "2/2 [==============================] - 0s 7ms/step - loss: 0.8798 - mae: 0.8798\n",
            "Epoch 404/500\n",
            "2/2 [==============================] - 0s 6ms/step - loss: 1.0937 - mae: 1.0937\n",
            "Epoch 405/500\n",
            "2/2 [==============================] - 0s 7ms/step - loss: 2.5388 - mae: 2.5388\n",
            "Epoch 406/500\n",
            "2/2 [==============================] - 0s 5ms/step - loss: 2.9774 - mae: 2.9774\n",
            "Epoch 407/500\n",
            "2/2 [==============================] - 0s 9ms/step - loss: 1.2730 - mae: 1.2730\n",
            "Epoch 408/500\n",
            "2/2 [==============================] - 0s 7ms/step - loss: 3.4613 - mae: 3.4613\n",
            "Epoch 409/500\n",
            "2/2 [==============================] - 0s 6ms/step - loss: 2.0658 - mae: 2.0658\n",
            "Epoch 410/500\n",
            "2/2 [==============================] - 0s 6ms/step - loss: 2.2908 - mae: 2.2908\n",
            "Epoch 411/500\n",
            "2/2 [==============================] - 0s 7ms/step - loss: 1.4412 - mae: 1.4412\n",
            "Epoch 412/500\n",
            "2/2 [==============================] - 0s 9ms/step - loss: 0.6812 - mae: 0.6812\n",
            "Epoch 413/500\n",
            "2/2 [==============================] - 0s 8ms/step - loss: 0.5796 - mae: 0.5796\n",
            "Epoch 414/500\n",
            "2/2 [==============================] - 0s 5ms/step - loss: 0.4957 - mae: 0.4957\n",
            "Epoch 415/500\n",
            "2/2 [==============================] - 0s 8ms/step - loss: 0.5937 - mae: 0.5937\n",
            "Epoch 416/500\n",
            "2/2 [==============================] - 0s 11ms/step - loss: 1.4855 - mae: 1.4855\n",
            "Epoch 417/500\n",
            "2/2 [==============================] - 0s 5ms/step - loss: 1.3228 - mae: 1.3228\n",
            "Epoch 418/500\n",
            "2/2 [==============================] - 0s 10ms/step - loss: 1.7410 - mae: 1.7410\n",
            "Epoch 419/500\n",
            "2/2 [==============================] - 0s 8ms/step - loss: 1.2089 - mae: 1.2089\n",
            "Epoch 420/500\n",
            "2/2 [==============================] - 0s 5ms/step - loss: 1.8251 - mae: 1.8251\n",
            "Epoch 421/500\n",
            "2/2 [==============================] - 0s 5ms/step - loss: 2.0902 - mae: 2.0902\n",
            "Epoch 422/500\n",
            "2/2 [==============================] - 0s 9ms/step - loss: 2.0487 - mae: 2.0487\n",
            "Epoch 423/500\n",
            "2/2 [==============================] - 0s 7ms/step - loss: 1.0065 - mae: 1.0065\n",
            "Epoch 424/500\n",
            "2/2 [==============================] - 0s 8ms/step - loss: 3.3559 - mae: 3.3559\n",
            "Epoch 425/500\n",
            "2/2 [==============================] - 0s 8ms/step - loss: 1.4439 - mae: 1.4439\n",
            "Epoch 426/500\n",
            "2/2 [==============================] - 0s 5ms/step - loss: 2.3298 - mae: 2.3298\n",
            "Epoch 427/500\n",
            "2/2 [==============================] - 0s 8ms/step - loss: 0.8159 - mae: 0.8159\n",
            "Epoch 428/500\n",
            "2/2 [==============================] - 0s 10ms/step - loss: 1.2183 - mae: 1.2183\n",
            "Epoch 429/500\n",
            "2/2 [==============================] - 0s 8ms/step - loss: 2.7976 - mae: 2.7976\n",
            "Epoch 430/500\n",
            "2/2 [==============================] - 0s 5ms/step - loss: 1.0780 - mae: 1.0780\n",
            "Epoch 431/500\n",
            "2/2 [==============================] - 0s 7ms/step - loss: 1.6342 - mae: 1.6342\n",
            "Epoch 432/500\n",
            "2/2 [==============================] - 0s 7ms/step - loss: 1.4929 - mae: 1.4929\n",
            "Epoch 433/500\n",
            "2/2 [==============================] - 0s 4ms/step - loss: 0.7086 - mae: 0.7086\n",
            "Epoch 434/500\n",
            "2/2 [==============================] - 0s 11ms/step - loss: 1.6186 - mae: 1.6186\n",
            "Epoch 435/500\n",
            "2/2 [==============================] - 0s 7ms/step - loss: 1.3727 - mae: 1.3727\n",
            "Epoch 436/500\n",
            "2/2 [==============================] - 0s 6ms/step - loss: 1.3561 - mae: 1.3561\n",
            "Epoch 437/500\n",
            "2/2 [==============================] - 0s 7ms/step - loss: 3.1059 - mae: 3.1059\n",
            "Epoch 438/500\n",
            "2/2 [==============================] - 0s 5ms/step - loss: 2.1839 - mae: 2.1839\n",
            "Epoch 439/500\n",
            "2/2 [==============================] - 0s 7ms/step - loss: 2.2907 - mae: 2.2907\n",
            "Epoch 440/500\n",
            "2/2 [==============================] - 0s 10ms/step - loss: 3.4464 - mae: 3.4464\n",
            "Epoch 441/500\n",
            "2/2 [==============================] - 0s 6ms/step - loss: 1.5779 - mae: 1.5779\n",
            "Epoch 442/500\n",
            "2/2 [==============================] - 0s 7ms/step - loss: 3.0287 - mae: 3.0287\n",
            "Epoch 443/500\n",
            "2/2 [==============================] - 0s 5ms/step - loss: 2.5614 - mae: 2.5614\n",
            "Epoch 444/500\n",
            "2/2 [==============================] - 0s 8ms/step - loss: 2.4367 - mae: 2.4367\n",
            "Epoch 445/500\n",
            "2/2 [==============================] - 0s 7ms/step - loss: 2.3048 - mae: 2.3048\n",
            "Epoch 446/500\n",
            "2/2 [==============================] - 0s 4ms/step - loss: 1.3811 - mae: 1.3811\n",
            "Epoch 447/500\n",
            "2/2 [==============================] - 0s 7ms/step - loss: 1.3480 - mae: 1.3480\n",
            "Epoch 448/500\n",
            "2/2 [==============================] - 0s 5ms/step - loss: 1.5612 - mae: 1.5612\n",
            "Epoch 449/500\n",
            "2/2 [==============================] - 0s 9ms/step - loss: 1.5810 - mae: 1.5810\n",
            "Epoch 450/500\n",
            "2/2 [==============================] - 0s 7ms/step - loss: 0.6473 - mae: 0.6473\n",
            "Epoch 451/500\n",
            "2/2 [==============================] - 0s 11ms/step - loss: 0.9175 - mae: 0.9175\n",
            "Epoch 452/500\n",
            "2/2 [==============================] - 0s 8ms/step - loss: 1.0220 - mae: 1.0220\n",
            "Epoch 453/500\n",
            "2/2 [==============================] - 0s 6ms/step - loss: 1.4272 - mae: 1.4272\n",
            "Epoch 454/500\n",
            "2/2 [==============================] - 0s 5ms/step - loss: 1.3626 - mae: 1.3626\n",
            "Epoch 455/500\n",
            "2/2 [==============================] - 0s 6ms/step - loss: 0.4848 - mae: 0.4848\n",
            "Epoch 456/500\n",
            "2/2 [==============================] - 0s 6ms/step - loss: 0.2897 - mae: 0.2897\n",
            "Epoch 457/500\n",
            "2/2 [==============================] - 0s 9ms/step - loss: 2.1907 - mae: 2.1907\n",
            "Epoch 458/500\n",
            "2/2 [==============================] - 0s 5ms/step - loss: 1.0220 - mae: 1.0220\n",
            "Epoch 459/500\n",
            "2/2 [==============================] - 0s 17ms/step - loss: 2.9562 - mae: 2.9562\n",
            "Epoch 460/500\n",
            "2/2 [==============================] - 0s 7ms/step - loss: 1.6350 - mae: 1.6350\n",
            "Epoch 461/500\n",
            "2/2 [==============================] - 0s 7ms/step - loss: 2.5429 - mae: 2.5429\n",
            "Epoch 462/500\n",
            "2/2 [==============================] - 0s 7ms/step - loss: 1.7924 - mae: 1.7924\n",
            "Epoch 463/500\n",
            "2/2 [==============================] - 0s 6ms/step - loss: 2.1398 - mae: 2.1398\n",
            "Epoch 464/500\n",
            "2/2 [==============================] - 0s 8ms/step - loss: 2.4686 - mae: 2.4686\n",
            "Epoch 465/500\n",
            "2/2 [==============================] - 0s 6ms/step - loss: 1.0047 - mae: 1.0047\n",
            "Epoch 466/500\n",
            "2/2 [==============================] - 0s 8ms/step - loss: 1.3118 - mae: 1.3118\n",
            "Epoch 467/500\n",
            "2/2 [==============================] - 0s 7ms/step - loss: 1.7827 - mae: 1.7827\n",
            "Epoch 468/500\n",
            "2/2 [==============================] - 0s 6ms/step - loss: 1.5236 - mae: 1.5236\n",
            "Epoch 469/500\n",
            "2/2 [==============================] - 0s 6ms/step - loss: 0.9000 - mae: 0.9000\n",
            "Epoch 470/500\n",
            "2/2 [==============================] - 0s 9ms/step - loss: 1.4535 - mae: 1.4535\n",
            "Epoch 471/500\n",
            "2/2 [==============================] - 0s 10ms/step - loss: 2.0359 - mae: 2.0359\n",
            "Epoch 472/500\n",
            "2/2 [==============================] - 0s 10ms/step - loss: 0.9431 - mae: 0.9431\n",
            "Epoch 473/500\n",
            "2/2 [==============================] - 0s 7ms/step - loss: 2.3041 - mae: 2.3041\n",
            "Epoch 474/500\n",
            "2/2 [==============================] - 0s 8ms/step - loss: 2.2763 - mae: 2.2763\n",
            "Epoch 475/500\n",
            "2/2 [==============================] - 0s 9ms/step - loss: 2.4324 - mae: 2.4324\n",
            "Epoch 476/500\n",
            "2/2 [==============================] - 0s 6ms/step - loss: 1.7003 - mae: 1.7003\n",
            "Epoch 477/500\n",
            "2/2 [==============================] - 0s 8ms/step - loss: 2.8166 - mae: 2.8166\n",
            "Epoch 478/500\n",
            "2/2 [==============================] - 0s 5ms/step - loss: 1.9521 - mae: 1.9521\n",
            "Epoch 479/500\n",
            "2/2 [==============================] - 0s 5ms/step - loss: 1.4482 - mae: 1.4482\n",
            "Epoch 480/500\n",
            "2/2 [==============================] - 0s 5ms/step - loss: 2.3938 - mae: 2.3938\n",
            "Epoch 481/500\n",
            "2/2 [==============================] - 0s 5ms/step - loss: 1.3961 - mae: 1.3961\n",
            "Epoch 482/500\n",
            "2/2 [==============================] - 0s 6ms/step - loss: 1.9788 - mae: 1.9788\n",
            "Epoch 483/500\n",
            "2/2 [==============================] - 0s 6ms/step - loss: 2.4973 - mae: 2.4973\n",
            "Epoch 484/500\n",
            "2/2 [==============================] - 0s 4ms/step - loss: 3.4128 - mae: 3.4128\n",
            "Epoch 485/500\n",
            "2/2 [==============================] - 0s 5ms/step - loss: 1.2365 - mae: 1.2365\n",
            "Epoch 486/500\n",
            "2/2 [==============================] - 0s 9ms/step - loss: 1.3189 - mae: 1.3189\n",
            "Epoch 487/500\n",
            "2/2 [==============================] - 0s 6ms/step - loss: 2.9600 - mae: 2.9600\n",
            "Epoch 488/500\n",
            "2/2 [==============================] - 0s 4ms/step - loss: 1.6568 - mae: 1.6568\n",
            "Epoch 489/500\n",
            "2/2 [==============================] - 0s 12ms/step - loss: 0.3783 - mae: 0.3783\n",
            "Epoch 490/500\n",
            "2/2 [==============================] - 0s 12ms/step - loss: 0.7993 - mae: 0.7993\n",
            "Epoch 491/500\n",
            "2/2 [==============================] - 0s 7ms/step - loss: 0.5403 - mae: 0.5403\n",
            "Epoch 492/500\n",
            "2/2 [==============================] - 0s 10ms/step - loss: 0.7330 - mae: 0.7330\n",
            "Epoch 493/500\n",
            "2/2 [==============================] - 0s 7ms/step - loss: 1.6868 - mae: 1.6868\n",
            "Epoch 494/500\n",
            "2/2 [==============================] - 0s 7ms/step - loss: 0.6546 - mae: 0.6546\n",
            "Epoch 495/500\n",
            "2/2 [==============================] - 0s 7ms/step - loss: 1.8656 - mae: 1.8656\n",
            "Epoch 496/500\n",
            "2/2 [==============================] - 0s 9ms/step - loss: 1.2146 - mae: 1.2146\n",
            "Epoch 497/500\n",
            "2/2 [==============================] - 0s 7ms/step - loss: 1.4479 - mae: 1.4479\n",
            "Epoch 498/500\n",
            "2/2 [==============================] - 0s 12ms/step - loss: 1.3610 - mae: 1.3610\n",
            "Epoch 499/500\n",
            "2/2 [==============================] - 0s 9ms/step - loss: 0.7288 - mae: 0.7288\n",
            "Epoch 500/500\n",
            "2/2 [==============================] - 0s 5ms/step - loss: 1.9157 - mae: 1.9157\n"
          ]
        },
        {
          "output_type": "execute_result",
          "data": {
            "text/plain": [
              "<keras.callbacks.History at 0x7f6f13da9850>"
            ]
          },
          "metadata": {},
          "execution_count": 55
        }
      ]
    },
    {
      "cell_type": "code",
      "source": [
        "model_9.evaluate(X_test,Y_test)"
      ],
      "metadata": {
        "colab": {
          "base_uri": "https://localhost:8080/"
        },
        "id": "tTM5d8hjZnPv",
        "outputId": "a7d89819-6d69-4a5f-c1a3-841935095019"
      },
      "execution_count": 56,
      "outputs": [
        {
          "output_type": "stream",
          "name": "stdout",
          "text": [
            "1/1 [==============================] - 0s 95ms/step - loss: 0.7208 - mae: 0.7208\n"
          ]
        },
        {
          "output_type": "execute_result",
          "data": {
            "text/plain": [
              "[0.7207671999931335, 0.7207671999931335]"
            ]
          },
          "metadata": {},
          "execution_count": 56
        }
      ]
    },
    {
      "cell_type": "code",
      "source": [
        "y_pred_3 = model_9.predict(X_test)"
      ],
      "metadata": {
        "id": "tb0-9R5pZvov"
      },
      "execution_count": 57,
      "outputs": []
    },
    {
      "cell_type": "code",
      "source": [
        "mae_3 = mae(Y_test, y_pred_3)\n",
        "mse_3 = mse(Y_test, y_pred_3)"
      ],
      "metadata": {
        "id": "6i7Km-DRbj8e"
      },
      "execution_count": 58,
      "outputs": []
    },
    {
      "cell_type": "code",
      "source": [
        "plot_prediction(prediction=y_pred_3)"
      ],
      "metadata": {
        "colab": {
          "base_uri": "https://localhost:8080/",
          "height": 0
        },
        "id": "SdH65BiSZ6bZ",
        "outputId": "ab9c0514-4245-472d-9661-4cf3ce4977fc"
      },
      "execution_count": 59,
      "outputs": [
        {
          "output_type": "display_data",
          "data": {
            "image/png": "[encoded data removed]",
            "text/plain": [
              "<Figure size 432x288 with 1 Axes>"
            ]
          },
          "metadata": {
            "needs_background": "light"
          }
        }
      ]
    },
    {
      "cell_type": "markdown",
      "source": [
        "# **Compairing and Tracking Experiments**\n",
        "\n",
        "**You want to start with small Experiments/Models and make sure They Work**\n",
        "\n",
        "**Lets Compare Our Model Result Using Pandas DataFrame**\n",
        "\n",
        "\n"
      ],
      "metadata": {
        "id": "ViIBS9lYaTKc"
      }
    },
    {
      "cell_type": "code",
      "source": [
        "model_result = [\n",
        "                ['model_1', mae_1.numpy(), mse_1.numpy()],\n",
        "                ['model_2', mae_2.numpy(), mse_2.numpy()],\n",
        "                ['model_3', mae_3.numpy(), mse_3.numpy()]\n",
        "]"
      ],
      "metadata": {
        "id": "q6BridcIZ-jc"
      },
      "execution_count": 60,
      "outputs": []
    },
    {
      "cell_type": "code",
      "source": [
        "all_results = pd.DataFrame(model_result, columns=['model', 'mae', 'mse'])"
      ],
      "metadata": {
        "id": "8GQbUcFhb-A8"
      },
      "execution_count": 61,
      "outputs": []
    },
    {
      "cell_type": "code",
      "source": [
        "all_results"
      ],
      "metadata": {
        "colab": {
          "base_uri": "https://localhost:8080/",
          "height": 0
        },
        "id": "AKQB-uvmcOyX",
        "outputId": "2b49e926-2e81-471c-9a10-dd85044c4e7c"
      },
      "execution_count": 62,
      "outputs": [
        {
          "output_type": "execute_result",
          "data": {
            "text/html": [
              "\n",
              "  <div id=\"df-93717c6f-4f51-4147-88ce-f05628419739\">\n",
              "    <div class=\"colab-df-container\">\n",
              "      <div>\n",
              "<style scoped>\n",
              "    .dataframe tbody tr th:only-of-type {\n",
              "        vertical-align: middle;\n",
              "    }\n",
              "\n",
              "    .dataframe tbody tr th {\n",
              "        vertical-align: top;\n",
              "    }\n",
              "\n",
              "    .dataframe thead th {\n",
              "        text-align: right;\n",
              "    }\n",
              "</style>\n",
              "<table border=\"1\" class=\"dataframe\">\n",
              "  <thead>\n",
              "    <tr style=\"text-align: right;\">\n",
              "      <th></th>\n",
              "      <th>model</th>\n",
              "      <th>mae</th>\n",
              "      <th>mse</th>\n",
              "    </tr>\n",
              "  </thead>\n",
              "  <tbody>\n",
              "    <tr>\n",
              "      <th>0</th>\n",
              "      <td>model_1</td>\n",
              "      <td>0.014580</td>\n",
              "      <td>0.000214</td>\n",
              "    </tr>\n",
              "    <tr>\n",
              "      <th>1</th>\n",
              "      <td>model_2</td>\n",
              "      <td>26.674419</td>\n",
              "      <td>717.763733</td>\n",
              "    </tr>\n",
              "    <tr>\n",
              "      <th>2</th>\n",
              "      <td>model_3</td>\n",
              "      <td>0.720769</td>\n",
              "      <td>0.532329</td>\n",
              "    </tr>\n",
              "  </tbody>\n",
              "</table>\n",
              "</div>\n",
              "      <button class=\"colab-df-convert\" onclick=\"convertToInteractive('df-93717c6f-4f51-4147-88ce-f05628419739')\"\n",
              "              title=\"Convert this dataframe to an interactive table.\"\n",
              "              style=\"display:none;\">\n",
              "        \n",
              "  <svg xmlns=\"http://www.w3.org/2000/svg\" height=\"24px\"viewBox=\"0 0 24 24\"\n",
              "       width=\"24px\">\n",
              "    <path d=\"M0 0h24v24H0V0z\" fill=\"none\"/>\n",
              "    <path d=\"M18.56 5.44l.94 2.06.94-2.06 2.06-.94-2.06-.94-.94-2.06-.94 2.06-2.06.94zm-11 1L8.5 8.5l.94-2.06 2.06-.94-2.06-.94L8.5 2.5l-.94 2.06-2.06.94zm10 10l.94 2.06.94-2.06 2.06-.94-2.06-.94-.94-2.06-.94 2.06-2.06.94z\"/><path d=\"M17.41 7.96l-1.37-1.37c-.4-.4-.92-.59-1.43-.59-.52 0-1.04.2-1.43.59L10.3 9.45l-7.72 7.72c-.78.78-.78 2.05 0 2.83L4 21.41c.39.39.9.59 1.41.59.51 0 1.02-.2 1.41-.59l7.78-7.78 2.81-2.81c.8-.78.8-2.07 0-2.86zM5.41 20L4 18.59l7.72-7.72 1.47 1.35L5.41 20z\"/>\n",
              "  </svg>\n",
              "      </button>\n",
              "      \n",
              "  <style>\n",
              "    .colab-df-container {\n",
              "      display:flex;\n",
              "      flex-wrap:wrap;\n",
              "      gap: 12px;\n",
              "    }\n",
              "\n",
              "    .colab-df-convert {\n",
              "      background-color: #E8F0FE;\n",
              "      border: none;\n",
              "      border-radius: 50%;\n",
              "      cursor: pointer;\n",
              "      display: none;\n",
              "      fill: #1967D2;\n",
              "      height: 32px;\n",
              "      padding: 0 0 0 0;\n",
              "      width: 32px;\n",
              "    }\n",
              "\n",
              "    .colab-df-convert:hover {\n",
              "      background-color: #E2EBFA;\n",
              "      box-shadow: 0px 1px 2px rgba(60, 64, 67, 0.3), 0px 1px 3px 1px rgba(60, 64, 67, 0.15);\n",
              "      fill: #174EA6;\n",
              "    }\n",
              "\n",
              "    [theme=dark] .colab-df-convert {\n",
              "      background-color: #3B4455;\n",
              "      fill: #D2E3FC;\n",
              "    }\n",
              "\n",
              "    [theme=dark] .colab-df-convert:hover {\n",
              "      background-color: #434B5C;\n",
              "      box-shadow: 0px 1px 3px 1px rgba(0, 0, 0, 0.15);\n",
              "      filter: drop-shadow(0px 1px 2px rgba(0, 0, 0, 0.3));\n",
              "      fill: #FFFFFF;\n",
              "    }\n",
              "  </style>\n",
              "\n",
              "      <script>\n",
              "        const buttonEl =\n",
              "          document.querySelector('#df-93717c6f-4f51-4147-88ce-f05628419739 button.colab-df-convert');\n",
              "        buttonEl.style.display =\n",
              "          google.colab.kernel.accessAllowed ? 'block' : 'none';\n",
              "\n",
              "        async function convertToInteractive(key) {\n",
              "          const element = document.querySelector('#df-93717c6f-4f51-4147-88ce-f05628419739');\n",
              "          const dataTable =\n",
              "            await google.colab.kernel.invokeFunction('convertToInteractive',\n",
              "                                                     [key], {});\n",
              "          if (!dataTable) return;\n",
              "\n",
              "          const docLinkHtml = 'Like what you see? Visit the ' +\n",
              "            '<a target=\"_blank\" href=https://colab.research.google.com/notebooks/data_table.ipynb>data table notebook</a>'\n",
              "            + ' to learn more about interactive tables.';\n",
              "          element.innerHTML = '';\n",
              "          dataTable['output_type'] = 'display_data';\n",
              "          await google.colab.output.renderOutput(dataTable, element);\n",
              "          const docLink = document.createElement('div');\n",
              "          docLink.innerHTML = docLinkHtml;\n",
              "          element.appendChild(docLink);\n",
              "        }\n",
              "      </script>\n",
              "    </div>\n",
              "  </div>\n",
              "  "
            ],
            "text/plain": [
              "     model        mae         mse\n",
              "0  model_1   0.014580    0.000214\n",
              "1  model_2  26.674419  717.763733\n",
              "2  model_3   0.720769    0.532329"
            ]
          },
          "metadata": {},
          "execution_count": 62
        }
      ]
    },
    {
      "cell_type": "markdown",
      "source": [
        "**One Of Your Main Goal is to Minimize The Time Between Your Experiments**"
      ],
      "metadata": {
        "id": "8JU3X-lAchuv"
      }
    },
    {
      "cell_type": "markdown",
      "source": [
        " **These Are The Tools For Tracking Your Experiment:**\n",
        "\n",
        " **TensorBoard(Library of Tensorflow)**\n",
        "\n",
        " **Weights and Biases(Plugs Straight for TensorFlow)**\n",
        "\n"
      ],
      "metadata": {
        "id": "OXrSPvq1c4zt"
      }
    },
    {
      "cell_type": "markdown",
      "source": [
        "# **Saving Our Model**\n",
        "\n",
        "**It allows to use The Model outsite the Google Colab**\n",
        "\n",
        "**There are Two Format To save The Model**\n",
        "\n",
        "*   SaveModelFormat\n",
        "*   HDF5 Format\n",
        "\n"
      ],
      "metadata": {
        "id": "4bz6v1YgdZz9"
      }
    },
    {
      "cell_type": "code",
      "source": [
        "model_9.save('Model_9')"
      ],
      "metadata": {
        "colab": {
          "base_uri": "https://localhost:8080/"
        },
        "id": "Q5G4zhIxcQMh",
        "outputId": "e0087270-e04a-4c26-a347-29817778ebca"
      },
      "execution_count": 63,
      "outputs": [
        {
          "output_type": "stream",
          "name": "stdout",
          "text": [
            "INFO:tensorflow:Assets written to: Model_9/assets\n"
          ]
        }
      ]
    },
    {
      "cell_type": "code",
      "source": [
        "model_9.save('Best_model_9.h5')"
      ],
      "metadata": {
        "id": "4PEfjLxweBf4"
      },
      "execution_count": 64,
      "outputs": []
    },
    {
      "cell_type": "markdown",
      "source": [
        "# **Loading a Model**\n",
        "\n",
        "**We can Use Same Method for Both Saved Format to Load A model**"
      ],
      "metadata": {
        "id": "u3Pm0-3geJe3"
      }
    },
    {
      "cell_type": "code",
      "source": [
        "load_format = tf.keras.models.load_model('Model_9')"
      ],
      "metadata": {
        "id": "Wm9HcHSkeIB7"
      },
      "execution_count": 65,
      "outputs": []
    },
    {
      "cell_type": "code",
      "source": [
        "load_format"
      ],
      "metadata": {
        "colab": {
          "base_uri": "https://localhost:8080/"
        },
        "id": "9AdW1GnwfENJ",
        "outputId": "dcba7a84-8da9-47e8-ad66-957c230e5fa3"
      },
      "execution_count": 66,
      "outputs": [
        {
          "output_type": "execute_result",
          "data": {
            "text/plain": [
              "<keras.engine.sequential.Sequential at 0x7f6e9b830fd0>"
            ]
          },
          "metadata": {},
          "execution_count": 66
        }
      ]
    },
    {
      "cell_type": "markdown",
      "source": [
        "**Comparison**"
      ],
      "metadata": {
        "id": "ptnbQeRWfLZC"
      }
    },
    {
      "cell_type": "code",
      "source": [
        "model_9_preds = model_9.predict(X_test)\n",
        "loaded_model = load_format.predict(X_test)\n"
      ],
      "metadata": {
        "id": "rMn6BTZSfF4O"
      },
      "execution_count": 67,
      "outputs": []
    },
    {
      "cell_type": "code",
      "source": [
        "model_9_preds == loaded_model"
      ],
      "metadata": {
        "colab": {
          "base_uri": "https://localhost:8080/"
        },
        "id": "SM9zMyObfaQM",
        "outputId": "06fd51a1-522b-4869-aa28-3f387cebbecc"
      },
      "execution_count": 68,
      "outputs": [
        {
          "output_type": "execute_result",
          "data": {
            "text/plain": [
              "array([[ True],\n",
              "       [ True],\n",
              "       [ True],\n",
              "       [ True],\n",
              "       [ True],\n",
              "       [ True],\n",
              "       [ True],\n",
              "       [ True],\n",
              "       [ True],\n",
              "       [ True]])"
            ]
          },
          "metadata": {},
          "execution_count": 68
        }
      ]
    },
    {
      "cell_type": "markdown",
      "source": [
        "# **Saving and Downloading Files In Colab**"
      ],
      "metadata": {
        "id": "TxkiozFhfgge"
      }
    },
    {
      "cell_type": "markdown",
      "source": [
        "**There are Two Ways To save and Download File In Colab**\n",
        "\n",
        "*   Go To Files tab and Right Click and Click Download\n",
        "*   From Google Colab, Import Files\n",
        "*  Using Google Drive\n",
        "\n"
      ],
      "metadata": {
        "id": "1CPOh07wfllv"
      }
    },
    {
      "cell_type": "code",
      "source": [
        "from google.colab import files"
      ],
      "metadata": {
        "id": "1h2f30nkgihZ"
      },
      "execution_count": 69,
      "outputs": []
    },
    {
      "cell_type": "code",
      "source": [
        "files.download('/content/Model_9')"
      ],
      "metadata": {
        "colab": {
          "base_uri": "https://localhost:8080/",
          "height": 0
        },
        "id": "esnoxytgfedN",
        "outputId": "5c10a024-fd7d-4c66-eb21-85b35ba78201"
      },
      "execution_count": 70,
      "outputs": [
        {
          "output_type": "display_data",
          "data": {
            "application/javascript": [
              "\n",
              "    async function download(id, filename, size) {\n",
              "      if (!google.colab.kernel.accessAllowed) {\n",
              "        return;\n",
              "      }\n",
              "      const div = document.createElement('div');\n",
              "      const label = document.createElement('label');\n",
              "      label.textContent = `Downloading \"${filename}\": `;\n",
              "      div.appendChild(label);\n",
              "      const progress = document.createElement('progress');\n",
              "      progress.max = size;\n",
              "      div.appendChild(progress);\n",
              "      document.body.appendChild(div);\n",
              "\n",
              "      const buffers = [];\n",
              "      let downloaded = 0;\n",
              "\n",
              "      const channel = await google.colab.kernel.comms.open(id);\n",
              "      // Send a message to notify the kernel that we're ready.\n",
              "      channel.send({})\n",
              "\n",
              "      for await (const message of channel.messages) {\n",
              "        // Send a message to notify the kernel that we're ready.\n",
              "        channel.send({})\n",
              "        if (message.buffers) {\n",
              "          for (const buffer of message.buffers) {\n",
              "            buffers.push(buffer);\n",
              "            downloaded += buffer.byteLength;\n",
              "            progress.value = downloaded;\n",
              "          }\n",
              "        }\n",
              "      }\n",
              "      const blob = new Blob(buffers, {type: 'application/binary'});\n",
              "      const a = document.createElement('a');\n",
              "      a.href = window.URL.createObjectURL(blob);\n",
              "      a.download = filename;\n",
              "      div.appendChild(a);\n",
              "      a.click();\n",
              "      div.remove();\n",
              "    }\n",
              "  "
            ],
            "text/plain": [
              "<IPython.core.display.Javascript object>"
            ]
          },
          "metadata": {}
        },
        {
          "output_type": "display_data",
          "data": {
            "application/javascript": [
              "download(\"download_21663de9-07f2-4361-90a6-22b9572bd70a\", \"Model_9\", 4096)"
            ],
            "text/plain": [
              "<IPython.core.display.Javascript object>"
            ]
          },
          "metadata": {}
        }
      ]
    },
    {
      "cell_type": "markdown",
      "source": [
        "# **Big Dataset**"
      ],
      "metadata": {
        "id": "Kip28h5_grvP"
      }
    },
    {
      "cell_type": "code",
      "source": [
        "insurance = pd.read_csv('insurance.csv')"
      ],
      "metadata": {
        "id": "Wt7HXgnGggVE"
      },
      "execution_count": 77,
      "outputs": []
    },
    {
      "cell_type": "code",
      "source": [
        "insurance.head(2)"
      ],
      "metadata": {
        "colab": {
          "base_uri": "https://localhost:8080/",
          "height": 112
        },
        "id": "mMhmySfO9HLA",
        "outputId": "9dafe71c-9c34-448d-9c0d-8def78f07bb0"
      },
      "execution_count": 78,
      "outputs": [
        {
          "output_type": "execute_result",
          "data": {
            "text/html": [
              "\n",
              "  <div id=\"df-00ebb6e5-347a-4602-b417-bd9146212582\">\n",
              "    <div class=\"colab-df-container\">\n",
              "      <div>\n",
              "<style scoped>\n",
              "    .dataframe tbody tr th:only-of-type {\n",
              "        vertical-align: middle;\n",
              "    }\n",
              "\n",
              "    .dataframe tbody tr th {\n",
              "        vertical-align: top;\n",
              "    }\n",
              "\n",
              "    .dataframe thead th {\n",
              "        text-align: right;\n",
              "    }\n",
              "</style>\n",
              "<table border=\"1\" class=\"dataframe\">\n",
              "  <thead>\n",
              "    <tr style=\"text-align: right;\">\n",
              "      <th></th>\n",
              "      <th>age</th>\n",
              "      <th>sex</th>\n",
              "      <th>bmi</th>\n",
              "      <th>children</th>\n",
              "      <th>smoker</th>\n",
              "      <th>region</th>\n",
              "      <th>charges</th>\n",
              "    </tr>\n",
              "  </thead>\n",
              "  <tbody>\n",
              "    <tr>\n",
              "      <th>0</th>\n",
              "      <td>19</td>\n",
              "      <td>female</td>\n",
              "      <td>27.90</td>\n",
              "      <td>0</td>\n",
              "      <td>yes</td>\n",
              "      <td>southwest</td>\n",
              "      <td>16884.9240</td>\n",
              "    </tr>\n",
              "    <tr>\n",
              "      <th>1</th>\n",
              "      <td>18</td>\n",
              "      <td>male</td>\n",
              "      <td>33.77</td>\n",
              "      <td>1</td>\n",
              "      <td>no</td>\n",
              "      <td>southeast</td>\n",
              "      <td>1725.5523</td>\n",
              "    </tr>\n",
              "  </tbody>\n",
              "</table>\n",
              "</div>\n",
              "      <button class=\"colab-df-convert\" onclick=\"convertToInteractive('df-00ebb6e5-347a-4602-b417-bd9146212582')\"\n",
              "              title=\"Convert this dataframe to an interactive table.\"\n",
              "              style=\"display:none;\">\n",
              "        \n",
              "  <svg xmlns=\"http://www.w3.org/2000/svg\" height=\"24px\"viewBox=\"0 0 24 24\"\n",
              "       width=\"24px\">\n",
              "    <path d=\"M0 0h24v24H0V0z\" fill=\"none\"/>\n",
              "    <path d=\"M18.56 5.44l.94 2.06.94-2.06 2.06-.94-2.06-.94-.94-2.06-.94 2.06-2.06.94zm-11 1L8.5 8.5l.94-2.06 2.06-.94-2.06-.94L8.5 2.5l-.94 2.06-2.06.94zm10 10l.94 2.06.94-2.06 2.06-.94-2.06-.94-.94-2.06-.94 2.06-2.06.94z\"/><path d=\"M17.41 7.96l-1.37-1.37c-.4-.4-.92-.59-1.43-.59-.52 0-1.04.2-1.43.59L10.3 9.45l-7.72 7.72c-.78.78-.78 2.05 0 2.83L4 21.41c.39.39.9.59 1.41.59.51 0 1.02-.2 1.41-.59l7.78-7.78 2.81-2.81c.8-.78.8-2.07 0-2.86zM5.41 20L4 18.59l7.72-7.72 1.47 1.35L5.41 20z\"/>\n",
              "  </svg>\n",
              "      </button>\n",
              "      \n",
              "  <style>\n",
              "    .colab-df-container {\n",
              "      display:flex;\n",
              "      flex-wrap:wrap;\n",
              "      gap: 12px;\n",
              "    }\n",
              "\n",
              "    .colab-df-convert {\n",
              "      background-color: #E8F0FE;\n",
              "      border: none;\n",
              "      border-radius: 50%;\n",
              "      cursor: pointer;\n",
              "      display: none;\n",
              "      fill: #1967D2;\n",
              "      height: 32px;\n",
              "      padding: 0 0 0 0;\n",
              "      width: 32px;\n",
              "    }\n",
              "\n",
              "    .colab-df-convert:hover {\n",
              "      background-color: #E2EBFA;\n",
              "      box-shadow: 0px 1px 2px rgba(60, 64, 67, 0.3), 0px 1px 3px 1px rgba(60, 64, 67, 0.15);\n",
              "      fill: #174EA6;\n",
              "    }\n",
              "\n",
              "    [theme=dark] .colab-df-convert {\n",
              "      background-color: #3B4455;\n",
              "      fill: #D2E3FC;\n",
              "    }\n",
              "\n",
              "    [theme=dark] .colab-df-convert:hover {\n",
              "      background-color: #434B5C;\n",
              "      box-shadow: 0px 1px 3px 1px rgba(0, 0, 0, 0.15);\n",
              "      filter: drop-shadow(0px 1px 2px rgba(0, 0, 0, 0.3));\n",
              "      fill: #FFFFFF;\n",
              "    }\n",
              "  </style>\n",
              "\n",
              "      <script>\n",
              "        const buttonEl =\n",
              "          document.querySelector('#df-00ebb6e5-347a-4602-b417-bd9146212582 button.colab-df-convert');\n",
              "        buttonEl.style.display =\n",
              "          google.colab.kernel.accessAllowed ? 'block' : 'none';\n",
              "\n",
              "        async function convertToInteractive(key) {\n",
              "          const element = document.querySelector('#df-00ebb6e5-347a-4602-b417-bd9146212582');\n",
              "          const dataTable =\n",
              "            await google.colab.kernel.invokeFunction('convertToInteractive',\n",
              "                                                     [key], {});\n",
              "          if (!dataTable) return;\n",
              "\n",
              "          const docLinkHtml = 'Like what you see? Visit the ' +\n",
              "            '<a target=\"_blank\" href=https://colab.research.google.com/notebooks/data_table.ipynb>data table notebook</a>'\n",
              "            + ' to learn more about interactive tables.';\n",
              "          element.innerHTML = '';\n",
              "          dataTable['output_type'] = 'display_data';\n",
              "          await google.colab.output.renderOutput(dataTable, element);\n",
              "          const docLink = document.createElement('div');\n",
              "          docLink.innerHTML = docLinkHtml;\n",
              "          element.appendChild(docLink);\n",
              "        }\n",
              "      </script>\n",
              "    </div>\n",
              "  </div>\n",
              "  "
            ],
            "text/plain": [
              "   age     sex    bmi  children smoker     region     charges\n",
              "0   19  female  27.90         0    yes  southwest  16884.9240\n",
              "1   18    male  33.77         1     no  southeast   1725.5523"
            ]
          },
          "metadata": {},
          "execution_count": 78
        }
      ]
    },
    {
      "cell_type": "code",
      "source": [
        "insurance_one_hot = pd.get_dummies(insurance)"
      ],
      "metadata": {
        "id": "M6YbY9-y9Itm"
      },
      "execution_count": 83,
      "outputs": []
    },
    {
      "cell_type": "code",
      "source": [
        "insurance_one_hot"
      ],
      "metadata": {
        "colab": {
          "base_uri": "https://localhost:8080/",
          "height": 468
        },
        "id": "DjGaIJNq9ws0",
        "outputId": "42a40776-e1ba-4eef-e021-63cf4d99934e"
      },
      "execution_count": 84,
      "outputs": [
        {
          "output_type": "execute_result",
          "data": {
            "text/html": [
              "\n",
              "  <div id=\"df-2b5123db-4ed8-4153-808d-b6eec392b2b5\">\n",
              "    <div class=\"colab-df-container\">\n",
              "      <div>\n",
              "<style scoped>\n",
              "    .dataframe tbody tr th:only-of-type {\n",
              "        vertical-align: middle;\n",
              "    }\n",
              "\n",
              "    .dataframe tbody tr th {\n",
              "        vertical-align: top;\n",
              "    }\n",
              "\n",
              "    .dataframe thead th {\n",
              "        text-align: right;\n",
              "    }\n",
              "</style>\n",
              "<table border=\"1\" class=\"dataframe\">\n",
              "  <thead>\n",
              "    <tr style=\"text-align: right;\">\n",
              "      <th></th>\n",
              "      <th>age</th>\n",
              "      <th>bmi</th>\n",
              "      <th>children</th>\n",
              "      <th>charges</th>\n",
              "      <th>sex_female</th>\n",
              "      <th>sex_male</th>\n",
              "      <th>smoker_no</th>\n",
              "      <th>smoker_yes</th>\n",
              "      <th>region_northeast</th>\n",
              "      <th>region_northwest</th>\n",
              "      <th>region_southeast</th>\n",
              "      <th>region_southwest</th>\n",
              "    </tr>\n",
              "  </thead>\n",
              "  <tbody>\n",
              "    <tr>\n",
              "      <th>0</th>\n",
              "      <td>19</td>\n",
              "      <td>27.900</td>\n",
              "      <td>0</td>\n",
              "      <td>16884.92400</td>\n",
              "      <td>1</td>\n",
              "      <td>0</td>\n",
              "      <td>0</td>\n",
              "      <td>1</td>\n",
              "      <td>0</td>\n",
              "      <td>0</td>\n",
              "      <td>0</td>\n",
              "      <td>1</td>\n",
              "    </tr>\n",
              "    <tr>\n",
              "      <th>1</th>\n",
              "      <td>18</td>\n",
              "      <td>33.770</td>\n",
              "      <td>1</td>\n",
              "      <td>1725.55230</td>\n",
              "      <td>0</td>\n",
              "      <td>1</td>\n",
              "      <td>1</td>\n",
              "      <td>0</td>\n",
              "      <td>0</td>\n",
              "      <td>0</td>\n",
              "      <td>1</td>\n",
              "      <td>0</td>\n",
              "    </tr>\n",
              "    <tr>\n",
              "      <th>2</th>\n",
              "      <td>28</td>\n",
              "      <td>33.000</td>\n",
              "      <td>3</td>\n",
              "      <td>4449.46200</td>\n",
              "      <td>0</td>\n",
              "      <td>1</td>\n",
              "      <td>1</td>\n",
              "      <td>0</td>\n",
              "      <td>0</td>\n",
              "      <td>0</td>\n",
              "      <td>1</td>\n",
              "      <td>0</td>\n",
              "    </tr>\n",
              "    <tr>\n",
              "      <th>3</th>\n",
              "      <td>33</td>\n",
              "      <td>22.705</td>\n",
              "      <td>0</td>\n",
              "      <td>21984.47061</td>\n",
              "      <td>0</td>\n",
              "      <td>1</td>\n",
              "      <td>1</td>\n",
              "      <td>0</td>\n",
              "      <td>0</td>\n",
              "      <td>1</td>\n",
              "      <td>0</td>\n",
              "      <td>0</td>\n",
              "    </tr>\n",
              "    <tr>\n",
              "      <th>4</th>\n",
              "      <td>32</td>\n",
              "      <td>28.880</td>\n",
              "      <td>0</td>\n",
              "      <td>3866.85520</td>\n",
              "      <td>0</td>\n",
              "      <td>1</td>\n",
              "      <td>1</td>\n",
              "      <td>0</td>\n",
              "      <td>0</td>\n",
              "      <td>1</td>\n",
              "      <td>0</td>\n",
              "      <td>0</td>\n",
              "    </tr>\n",
              "    <tr>\n",
              "      <th>...</th>\n",
              "      <td>...</td>\n",
              "      <td>...</td>\n",
              "      <td>...</td>\n",
              "      <td>...</td>\n",
              "      <td>...</td>\n",
              "      <td>...</td>\n",
              "      <td>...</td>\n",
              "      <td>...</td>\n",
              "      <td>...</td>\n",
              "      <td>...</td>\n",
              "      <td>...</td>\n",
              "      <td>...</td>\n",
              "    </tr>\n",
              "    <tr>\n",
              "      <th>1333</th>\n",
              "      <td>50</td>\n",
              "      <td>30.970</td>\n",
              "      <td>3</td>\n",
              "      <td>10600.54830</td>\n",
              "      <td>0</td>\n",
              "      <td>1</td>\n",
              "      <td>1</td>\n",
              "      <td>0</td>\n",
              "      <td>0</td>\n",
              "      <td>1</td>\n",
              "      <td>0</td>\n",
              "      <td>0</td>\n",
              "    </tr>\n",
              "    <tr>\n",
              "      <th>1334</th>\n",
              "      <td>18</td>\n",
              "      <td>31.920</td>\n",
              "      <td>0</td>\n",
              "      <td>2205.98080</td>\n",
              "      <td>1</td>\n",
              "      <td>0</td>\n",
              "      <td>1</td>\n",
              "      <td>0</td>\n",
              "      <td>1</td>\n",
              "      <td>0</td>\n",
              "      <td>0</td>\n",
              "      <td>0</td>\n",
              "    </tr>\n",
              "    <tr>\n",
              "      <th>1335</th>\n",
              "      <td>18</td>\n",
              "      <td>36.850</td>\n",
              "      <td>0</td>\n",
              "      <td>1629.83350</td>\n",
              "      <td>1</td>\n",
              "      <td>0</td>\n",
              "      <td>1</td>\n",
              "      <td>0</td>\n",
              "      <td>0</td>\n",
              "      <td>0</td>\n",
              "      <td>1</td>\n",
              "      <td>0</td>\n",
              "    </tr>\n",
              "    <tr>\n",
              "      <th>1336</th>\n",
              "      <td>21</td>\n",
              "      <td>25.800</td>\n",
              "      <td>0</td>\n",
              "      <td>2007.94500</td>\n",
              "      <td>1</td>\n",
              "      <td>0</td>\n",
              "      <td>1</td>\n",
              "      <td>0</td>\n",
              "      <td>0</td>\n",
              "      <td>0</td>\n",
              "      <td>0</td>\n",
              "      <td>1</td>\n",
              "    </tr>\n",
              "    <tr>\n",
              "      <th>1337</th>\n",
              "      <td>61</td>\n",
              "      <td>29.070</td>\n",
              "      <td>0</td>\n",
              "      <td>29141.36030</td>\n",
              "      <td>1</td>\n",
              "      <td>0</td>\n",
              "      <td>0</td>\n",
              "      <td>1</td>\n",
              "      <td>0</td>\n",
              "      <td>1</td>\n",
              "      <td>0</td>\n",
              "      <td>0</td>\n",
              "    </tr>\n",
              "  </tbody>\n",
              "</table>\n",
              "<p>1338 rows × 12 columns</p>\n",
              "</div>\n",
              "      <button class=\"colab-df-convert\" onclick=\"convertToInteractive('df-2b5123db-4ed8-4153-808d-b6eec392b2b5')\"\n",
              "              title=\"Convert this dataframe to an interactive table.\"\n",
              "              style=\"display:none;\">\n",
              "        \n",
              "  <svg xmlns=\"http://www.w3.org/2000/svg\" height=\"24px\"viewBox=\"0 0 24 24\"\n",
              "       width=\"24px\">\n",
              "    <path d=\"M0 0h24v24H0V0z\" fill=\"none\"/>\n",
              "    <path d=\"M18.56 5.44l.94 2.06.94-2.06 2.06-.94-2.06-.94-.94-2.06-.94 2.06-2.06.94zm-11 1L8.5 8.5l.94-2.06 2.06-.94-2.06-.94L8.5 2.5l-.94 2.06-2.06.94zm10 10l.94 2.06.94-2.06 2.06-.94-2.06-.94-.94-2.06-.94 2.06-2.06.94z\"/><path d=\"M17.41 7.96l-1.37-1.37c-.4-.4-.92-.59-1.43-.59-.52 0-1.04.2-1.43.59L10.3 9.45l-7.72 7.72c-.78.78-.78 2.05 0 2.83L4 21.41c.39.39.9.59 1.41.59.51 0 1.02-.2 1.41-.59l7.78-7.78 2.81-2.81c.8-.78.8-2.07 0-2.86zM5.41 20L4 18.59l7.72-7.72 1.47 1.35L5.41 20z\"/>\n",
              "  </svg>\n",
              "      </button>\n",
              "      \n",
              "  <style>\n",
              "    .colab-df-container {\n",
              "      display:flex;\n",
              "      flex-wrap:wrap;\n",
              "      gap: 12px;\n",
              "    }\n",
              "\n",
              "    .colab-df-convert {\n",
              "      background-color: #E8F0FE;\n",
              "      border: none;\n",
              "      border-radius: 50%;\n",
              "      cursor: pointer;\n",
              "      display: none;\n",
              "      fill: #1967D2;\n",
              "      height: 32px;\n",
              "      padding: 0 0 0 0;\n",
              "      width: 32px;\n",
              "    }\n",
              "\n",
              "    .colab-df-convert:hover {\n",
              "      background-color: #E2EBFA;\n",
              "      box-shadow: 0px 1px 2px rgba(60, 64, 67, 0.3), 0px 1px 3px 1px rgba(60, 64, 67, 0.15);\n",
              "      fill: #174EA6;\n",
              "    }\n",
              "\n",
              "    [theme=dark] .colab-df-convert {\n",
              "      background-color: #3B4455;\n",
              "      fill: #D2E3FC;\n",
              "    }\n",
              "\n",
              "    [theme=dark] .colab-df-convert:hover {\n",
              "      background-color: #434B5C;\n",
              "      box-shadow: 0px 1px 3px 1px rgba(0, 0, 0, 0.15);\n",
              "      filter: drop-shadow(0px 1px 2px rgba(0, 0, 0, 0.3));\n",
              "      fill: #FFFFFF;\n",
              "    }\n",
              "  </style>\n",
              "\n",
              "      <script>\n",
              "        const buttonEl =\n",
              "          document.querySelector('#df-2b5123db-4ed8-4153-808d-b6eec392b2b5 button.colab-df-convert');\n",
              "        buttonEl.style.display =\n",
              "          google.colab.kernel.accessAllowed ? 'block' : 'none';\n",
              "\n",
              "        async function convertToInteractive(key) {\n",
              "          const element = document.querySelector('#df-2b5123db-4ed8-4153-808d-b6eec392b2b5');\n",
              "          const dataTable =\n",
              "            await google.colab.kernel.invokeFunction('convertToInteractive',\n",
              "                                                     [key], {});\n",
              "          if (!dataTable) return;\n",
              "\n",
              "          const docLinkHtml = 'Like what you see? Visit the ' +\n",
              "            '<a target=\"_blank\" href=https://colab.research.google.com/notebooks/data_table.ipynb>data table notebook</a>'\n",
              "            + ' to learn more about interactive tables.';\n",
              "          element.innerHTML = '';\n",
              "          dataTable['output_type'] = 'display_data';\n",
              "          await google.colab.output.renderOutput(dataTable, element);\n",
              "          const docLink = document.createElement('div');\n",
              "          docLink.innerHTML = docLinkHtml;\n",
              "          element.appendChild(docLink);\n",
              "        }\n",
              "      </script>\n",
              "    </div>\n",
              "  </div>\n",
              "  "
            ],
            "text/plain": [
              "      age     bmi  ...  region_southeast  region_southwest\n",
              "0      19  27.900  ...                 0                 1\n",
              "1      18  33.770  ...                 1                 0\n",
              "2      28  33.000  ...                 1                 0\n",
              "3      33  22.705  ...                 0                 0\n",
              "4      32  28.880  ...                 0                 0\n",
              "...   ...     ...  ...               ...               ...\n",
              "1333   50  30.970  ...                 0                 0\n",
              "1334   18  31.920  ...                 0                 0\n",
              "1335   18  36.850  ...                 1                 0\n",
              "1336   21  25.800  ...                 0                 1\n",
              "1337   61  29.070  ...                 0                 0\n",
              "\n",
              "[1338 rows x 12 columns]"
            ]
          },
          "metadata": {},
          "execution_count": 84
        }
      ]
    },
    {
      "cell_type": "markdown",
      "source": [
        "# **Build Regression Model**"
      ],
      "metadata": {
        "id": "jOVB0R-e9cY4"
      }
    },
    {
      "cell_type": "code",
      "source": [
        "X = insurance_one_hot.drop('charges', axis=1)\n",
        "Y= insurance_one_hot['charges']"
      ],
      "metadata": {
        "id": "lw-UXnsK9OlI"
      },
      "execution_count": 86,
      "outputs": []
    },
    {
      "cell_type": "markdown",
      "source": [
        "# **Scikit Learn Train Test Split**"
      ],
      "metadata": {
        "id": "TeUZvPEM-Xq1"
      }
    },
    {
      "cell_type": "code",
      "source": [
        "from sklearn.model_selection import train_test_split"
      ],
      "metadata": {
        "id": "sxFosD5M9VuK"
      },
      "execution_count": 87,
      "outputs": []
    },
    {
      "cell_type": "code",
      "source": [
        "X_train,X_test, Y_train,Y_test = train_test_split(X,Y,test_size=0.2, random_state=42)"
      ],
      "metadata": {
        "id": "2Agrk0nY-gZ6"
      },
      "execution_count": 90,
      "outputs": []
    },
    {
      "cell_type": "markdown",
      "source": [
        "# **Now Build The Model**"
      ],
      "metadata": {
        "id": "cO9pBguB-sKc"
      }
    },
    {
      "cell_type": "code",
      "source": [
        "tf.random.set_seed(42)\n",
        "\n",
        "insurance_model_1 = tf.keras.Sequential([\n",
        "                                tf.keras.layers.Dense(10),\n",
        "                                tf.keras.layers.Dense(1)\n",
        "\n",
        "])\n",
        "\n",
        "insurance_model_1.compile(\n",
        "    loss = tf.keras.losses.mae,\n",
        "    optimizer = tf.keras.optimizers.Adam(learning_rate=0.1),\n",
        "    metrics=[\"mae\"]\n",
        ")\n",
        "\n",
        "insurance_history_1 = insurance_model_1.fit(tf.expand_dims(X_train,axis=1),Y_train,epochs=100)"
      ],
      "metadata": {
        "colab": {
          "base_uri": "https://localhost:8080/"
        },
        "id": "lRNOYZCZ-q_J",
        "outputId": "2a08b3c5-13df-485a-e823-ba7d61a9bbc4"
      },
      "execution_count": 99,
      "outputs": [
        {
          "output_type": "stream",
          "name": "stdout",
          "text": [
            "Epoch 1/100\n",
            "34/34 [==============================] - 1s 3ms/step - loss: 10879.9834 - mae: 10879.9834\n",
            "Epoch 2/100\n",
            "34/34 [==============================] - 0s 3ms/step - loss: 7538.6689 - mae: 7538.6689\n",
            "Epoch 3/100\n",
            "34/34 [==============================] - 0s 3ms/step - loss: 7259.3555 - mae: 7259.3555\n",
            "Epoch 4/100\n",
            "34/34 [==============================] - 0s 3ms/step - loss: 7008.2295 - mae: 7008.2295\n",
            "Epoch 5/100\n",
            "34/34 [==============================] - 0s 2ms/step - loss: 6763.3232 - mae: 6763.3232\n",
            "Epoch 6/100\n",
            "34/34 [==============================] - 0s 3ms/step - loss: 6511.8413 - mae: 6511.8413\n",
            "Epoch 7/100\n",
            "34/34 [==============================] - 0s 3ms/step - loss: 6388.1392 - mae: 6388.1392\n",
            "Epoch 8/100\n",
            "34/34 [==============================] - 0s 3ms/step - loss: 6220.3125 - mae: 6220.3125\n",
            "Epoch 9/100\n",
            "34/34 [==============================] - 0s 3ms/step - loss: 6085.1392 - mae: 6085.1392\n",
            "Epoch 10/100\n",
            "34/34 [==============================] - 0s 3ms/step - loss: 5924.1436 - mae: 5924.1436\n",
            "Epoch 11/100\n",
            "34/34 [==============================] - 0s 3ms/step - loss: 5736.7686 - mae: 5736.7686\n",
            "Epoch 12/100\n",
            "34/34 [==============================] - 0s 3ms/step - loss: 5517.3340 - mae: 5517.3340\n",
            "Epoch 13/100\n",
            "34/34 [==============================] - 0s 3ms/step - loss: 5290.2007 - mae: 5290.2007\n",
            "Epoch 14/100\n",
            "34/34 [==============================] - 0s 3ms/step - loss: 4944.1821 - mae: 4944.1821\n",
            "Epoch 15/100\n",
            "34/34 [==============================] - 0s 3ms/step - loss: 4590.9541 - mae: 4590.9541\n",
            "Epoch 16/100\n",
            "34/34 [==============================] - 0s 4ms/step - loss: 4201.5840 - mae: 4201.5840\n",
            "Epoch 17/100\n",
            "34/34 [==============================] - 0s 3ms/step - loss: 3998.4065 - mae: 3998.4065\n",
            "Epoch 18/100\n",
            "34/34 [==============================] - 0s 3ms/step - loss: 3912.5298 - mae: 3912.5298\n",
            "Epoch 19/100\n",
            "34/34 [==============================] - 0s 3ms/step - loss: 3834.4375 - mae: 3834.4375\n",
            "Epoch 20/100\n",
            "34/34 [==============================] - 0s 3ms/step - loss: 3845.3047 - mae: 3845.3047\n",
            "Epoch 21/100\n",
            "34/34 [==============================] - 0s 2ms/step - loss: 3800.6672 - mae: 3800.6672\n",
            "Epoch 22/100\n",
            "34/34 [==============================] - 0s 3ms/step - loss: 3765.1890 - mae: 3765.1890\n",
            "Epoch 23/100\n",
            "34/34 [==============================] - 0s 3ms/step - loss: 3755.6035 - mae: 3755.6035\n",
            "Epoch 24/100\n",
            "34/34 [==============================] - 0s 2ms/step - loss: 3776.9702 - mae: 3776.9702\n",
            "Epoch 25/100\n",
            "34/34 [==============================] - 0s 3ms/step - loss: 3744.3301 - mae: 3744.3301\n",
            "Epoch 26/100\n",
            "34/34 [==============================] - 0s 2ms/step - loss: 3722.4539 - mae: 3722.4539\n",
            "Epoch 27/100\n",
            "34/34 [==============================] - 0s 2ms/step - loss: 3768.7512 - mae: 3768.7512\n",
            "Epoch 28/100\n",
            "34/34 [==============================] - 0s 3ms/step - loss: 3702.7439 - mae: 3702.7439\n",
            "Epoch 29/100\n",
            "34/34 [==============================] - 0s 2ms/step - loss: 3715.6475 - mae: 3715.6475\n",
            "Epoch 30/100\n",
            "34/34 [==============================] - 0s 3ms/step - loss: 3712.7471 - mae: 3712.7471\n",
            "Epoch 31/100\n",
            "34/34 [==============================] - 0s 3ms/step - loss: 3697.1965 - mae: 3697.1965\n",
            "Epoch 32/100\n",
            "34/34 [==============================] - 0s 2ms/step - loss: 3699.6785 - mae: 3699.6785\n",
            "Epoch 33/100\n",
            "34/34 [==============================] - 0s 2ms/step - loss: 3717.2549 - mae: 3717.2549\n",
            "Epoch 34/100\n",
            "34/34 [==============================] - 0s 3ms/step - loss: 3768.4690 - mae: 3768.4690\n",
            "Epoch 35/100\n",
            "34/34 [==============================] - 0s 2ms/step - loss: 3661.5781 - mae: 3661.5781\n",
            "Epoch 36/100\n",
            "34/34 [==============================] - 0s 3ms/step - loss: 3657.9922 - mae: 3657.9922\n",
            "Epoch 37/100\n",
            "34/34 [==============================] - 0s 2ms/step - loss: 3645.9858 - mae: 3645.9858\n",
            "Epoch 38/100\n",
            "34/34 [==============================] - 0s 2ms/step - loss: 3639.1641 - mae: 3639.1641\n",
            "Epoch 39/100\n",
            "34/34 [==============================] - 0s 3ms/step - loss: 3651.9409 - mae: 3651.9409\n",
            "Epoch 40/100\n",
            "34/34 [==============================] - 0s 3ms/step - loss: 3634.1494 - mae: 3634.1494\n",
            "Epoch 41/100\n",
            "34/34 [==============================] - 0s 3ms/step - loss: 3808.4290 - mae: 3808.4290\n",
            "Epoch 42/100\n",
            "34/34 [==============================] - 0s 3ms/step - loss: 3652.6072 - mae: 3652.6072\n",
            "Epoch 43/100\n",
            "34/34 [==============================] - 0s 3ms/step - loss: 3616.6106 - mae: 3616.6106\n",
            "Epoch 44/100\n",
            "34/34 [==============================] - 0s 2ms/step - loss: 3668.3264 - mae: 3668.3264\n",
            "Epoch 45/100\n",
            "34/34 [==============================] - 0s 3ms/step - loss: 3615.7129 - mae: 3615.7129\n",
            "Epoch 46/100\n",
            "34/34 [==============================] - 0s 2ms/step - loss: 3591.9646 - mae: 3591.9646\n",
            "Epoch 47/100\n",
            "34/34 [==============================] - 0s 3ms/step - loss: 3612.3899 - mae: 3612.3899\n",
            "Epoch 48/100\n",
            "34/34 [==============================] - 0s 3ms/step - loss: 3628.2581 - mae: 3628.2581\n",
            "Epoch 49/100\n",
            "34/34 [==============================] - 0s 2ms/step - loss: 3598.8562 - mae: 3598.8562\n",
            "Epoch 50/100\n",
            "34/34 [==============================] - 0s 3ms/step - loss: 3568.8484 - mae: 3568.8484\n",
            "Epoch 51/100\n",
            "34/34 [==============================] - 0s 3ms/step - loss: 3569.8435 - mae: 3569.8435\n",
            "Epoch 52/100\n",
            "34/34 [==============================] - 0s 3ms/step - loss: 3556.4170 - mae: 3556.4170\n",
            "Epoch 53/100\n",
            "34/34 [==============================] - 0s 2ms/step - loss: 3564.4709 - mae: 3564.4709\n",
            "Epoch 54/100\n",
            "34/34 [==============================] - 0s 2ms/step - loss: 3554.9197 - mae: 3554.9197\n",
            "Epoch 55/100\n",
            "34/34 [==============================] - 0s 2ms/step - loss: 3566.9578 - mae: 3566.9578\n",
            "Epoch 56/100\n",
            "34/34 [==============================] - 0s 2ms/step - loss: 3540.0811 - mae: 3540.0811\n",
            "Epoch 57/100\n",
            "34/34 [==============================] - 0s 2ms/step - loss: 3541.2488 - mae: 3541.2488\n",
            "Epoch 58/100\n",
            "34/34 [==============================] - 0s 3ms/step - loss: 3569.6667 - mae: 3569.6667\n",
            "Epoch 59/100\n",
            "34/34 [==============================] - 0s 3ms/step - loss: 3521.5925 - mae: 3521.5925\n",
            "Epoch 60/100\n",
            "34/34 [==============================] - 0s 3ms/step - loss: 3533.3635 - mae: 3533.3635\n",
            "Epoch 61/100\n",
            "34/34 [==============================] - 0s 3ms/step - loss: 3523.3601 - mae: 3523.3601\n",
            "Epoch 62/100\n",
            "34/34 [==============================] - 0s 3ms/step - loss: 3557.8379 - mae: 3557.8379\n",
            "Epoch 63/100\n",
            "34/34 [==============================] - 0s 2ms/step - loss: 3516.3262 - mae: 3516.3262\n",
            "Epoch 64/100\n",
            "34/34 [==============================] - 0s 4ms/step - loss: 3508.0112 - mae: 3508.0112\n",
            "Epoch 65/100\n",
            "34/34 [==============================] - 0s 2ms/step - loss: 3497.8962 - mae: 3497.8962\n",
            "Epoch 66/100\n",
            "34/34 [==============================] - 0s 3ms/step - loss: 3616.4141 - mae: 3616.4141\n",
            "Epoch 67/100\n",
            "34/34 [==============================] - 0s 3ms/step - loss: 3510.5342 - mae: 3510.5342\n",
            "Epoch 68/100\n",
            "34/34 [==============================] - 0s 3ms/step - loss: 3529.5762 - mae: 3529.5762\n",
            "Epoch 69/100\n",
            "34/34 [==============================] - 0s 3ms/step - loss: 3519.1694 - mae: 3519.1694\n",
            "Epoch 70/100\n",
            "34/34 [==============================] - 0s 3ms/step - loss: 3508.1914 - mae: 3508.1914\n",
            "Epoch 71/100\n",
            "34/34 [==============================] - 0s 3ms/step - loss: 3511.4976 - mae: 3511.4976\n",
            "Epoch 72/100\n",
            "34/34 [==============================] - 0s 2ms/step - loss: 3533.4663 - mae: 3533.4663\n",
            "Epoch 73/100\n",
            "34/34 [==============================] - 0s 3ms/step - loss: 3522.8506 - mae: 3522.8506\n",
            "Epoch 74/100\n",
            "34/34 [==============================] - 0s 3ms/step - loss: 3502.3850 - mae: 3502.3850\n",
            "Epoch 75/100\n",
            "34/34 [==============================] - 0s 3ms/step - loss: 3519.9646 - mae: 3519.9646\n",
            "Epoch 76/100\n",
            "34/34 [==============================] - 0s 3ms/step - loss: 3520.3779 - mae: 3520.3779\n",
            "Epoch 77/100\n",
            "34/34 [==============================] - 0s 2ms/step - loss: 3567.3721 - mae: 3567.3721\n",
            "Epoch 78/100\n",
            "34/34 [==============================] - 0s 2ms/step - loss: 3532.8896 - mae: 3532.8896\n",
            "Epoch 79/100\n",
            "34/34 [==============================] - 0s 3ms/step - loss: 3511.5291 - mae: 3511.5291\n",
            "Epoch 80/100\n",
            "34/34 [==============================] - 0s 3ms/step - loss: 3492.1265 - mae: 3492.1265\n",
            "Epoch 81/100\n",
            "34/34 [==============================] - 0s 2ms/step - loss: 3524.3962 - mae: 3524.3962\n",
            "Epoch 82/100\n",
            "34/34 [==============================] - 0s 4ms/step - loss: 3531.4949 - mae: 3531.4949\n",
            "Epoch 83/100\n",
            "34/34 [==============================] - 0s 3ms/step - loss: 3525.2871 - mae: 3525.2871\n",
            "Epoch 84/100\n",
            "34/34 [==============================] - 0s 3ms/step - loss: 3504.3633 - mae: 3504.3633\n",
            "Epoch 85/100\n",
            "34/34 [==============================] - 0s 2ms/step - loss: 3498.7937 - mae: 3498.7937\n",
            "Epoch 86/100\n",
            "34/34 [==============================] - 0s 2ms/step - loss: 3486.2698 - mae: 3486.2698\n",
            "Epoch 87/100\n",
            "34/34 [==============================] - 0s 3ms/step - loss: 3529.5251 - mae: 3529.5251\n",
            "Epoch 88/100\n",
            "34/34 [==============================] - 0s 3ms/step - loss: 3532.1157 - mae: 3532.1157\n",
            "Epoch 89/100\n",
            "34/34 [==============================] - 0s 3ms/step - loss: 3532.2397 - mae: 3532.2397\n",
            "Epoch 90/100\n",
            "34/34 [==============================] - 0s 2ms/step - loss: 3505.4688 - mae: 3505.4688\n",
            "Epoch 91/100\n",
            "34/34 [==============================] - 0s 3ms/step - loss: 3512.9924 - mae: 3512.9924\n",
            "Epoch 92/100\n",
            "34/34 [==============================] - 0s 2ms/step - loss: 3518.1606 - mae: 3518.1606\n",
            "Epoch 93/100\n",
            "34/34 [==============================] - 0s 3ms/step - loss: 3557.0938 - mae: 3557.0938\n",
            "Epoch 94/100\n",
            "34/34 [==============================] - 0s 3ms/step - loss: 3563.4414 - mae: 3563.4414\n",
            "Epoch 95/100\n",
            "34/34 [==============================] - 0s 2ms/step - loss: 3548.6882 - mae: 3548.6882\n",
            "Epoch 96/100\n",
            "34/34 [==============================] - 0s 2ms/step - loss: 3557.7214 - mae: 3557.7214\n",
            "Epoch 97/100\n",
            "34/34 [==============================] - 0s 3ms/step - loss: 3572.2761 - mae: 3572.2761\n",
            "Epoch 98/100\n",
            "34/34 [==============================] - 0s 2ms/step - loss: 3511.0032 - mae: 3511.0032\n",
            "Epoch 99/100\n",
            "34/34 [==============================] - 0s 2ms/step - loss: 3505.7356 - mae: 3505.7356\n",
            "Epoch 100/100\n",
            "34/34 [==============================] - 0s 2ms/step - loss: 3491.4141 - mae: 3491.4141\n"
          ]
        }
      ]
    },
    {
      "cell_type": "markdown",
      "source": [
        "# **Insurance_Model No 2**"
      ],
      "metadata": {
        "id": "D_SnusjE_euI"
      }
    },
    {
      "cell_type": "code",
      "source": [
        "tf.random.set_seed(42)\n",
        "\n",
        "insurance_model_2 = tf.keras.Sequential([\n",
        "                                         tf.keras.layers.Dense(100, activation='relu'),\n",
        "                                         tf.keras.layers.Dense(10, activation='relu'),\n",
        "                                         tf.keras.layers.Dense(1)\n",
        "\n",
        "])\n",
        "\n",
        "insurance_model_2.compile(\n",
        "    loss = tf.keras.losses.mae,\n",
        "    optimizer = tf.keras.optimizers.Adam(learning_rate=0.1),\n",
        "    metrics=[\"mae\"]\n",
        ")\n",
        "\n",
        "history = insurance_model_2.fit(tf.expand_dims(X_train, axis=1),Y_train, epochs=100)"
      ],
      "metadata": {
        "colab": {
          "base_uri": "https://localhost:8080/"
        },
        "id": "RiL9XH9o_PW_",
        "outputId": "9c7ddbb8-7317-457a-8050-fe4647ea1d72"
      },
      "execution_count": 105,
      "outputs": [
        {
          "output_type": "stream",
          "name": "stdout",
          "text": [
            "Epoch 1/100\n",
            "34/34 [==============================] - 2s 4ms/step - loss: 9118.7275 - mae: 9118.7275\n",
            "Epoch 2/100\n",
            "34/34 [==============================] - 0s 3ms/step - loss: 7073.0552 - mae: 7073.0552\n",
            "Epoch 3/100\n",
            "34/34 [==============================] - 0s 3ms/step - loss: 6322.4648 - mae: 6322.4648\n",
            "Epoch 4/100\n",
            "34/34 [==============================] - 0s 3ms/step - loss: 5591.2505 - mae: 5591.2505\n",
            "Epoch 5/100\n",
            "34/34 [==============================] - 0s 3ms/step - loss: 4073.5408 - mae: 4073.5408\n",
            "Epoch 6/100\n",
            "34/34 [==============================] - 0s 3ms/step - loss: 3911.7810 - mae: 3911.7810\n",
            "Epoch 7/100\n",
            "34/34 [==============================] - 0s 3ms/step - loss: 3563.2427 - mae: 3563.2427\n",
            "Epoch 8/100\n",
            "34/34 [==============================] - 0s 4ms/step - loss: 3439.9668 - mae: 3439.9668\n",
            "Epoch 9/100\n",
            "34/34 [==============================] - 0s 4ms/step - loss: 3066.3862 - mae: 3066.3862\n",
            "Epoch 10/100\n",
            "34/34 [==============================] - 0s 4ms/step - loss: 3123.7229 - mae: 3123.7229\n",
            "Epoch 11/100\n",
            "34/34 [==============================] - 0s 4ms/step - loss: 3219.3176 - mae: 3219.3176\n",
            "Epoch 12/100\n",
            "34/34 [==============================] - 0s 4ms/step - loss: 2878.7974 - mae: 2878.7974\n",
            "Epoch 13/100\n",
            "34/34 [==============================] - 0s 4ms/step - loss: 2874.0166 - mae: 2874.0166\n",
            "Epoch 14/100\n",
            "34/34 [==============================] - 0s 4ms/step - loss: 2767.7019 - mae: 2767.7019\n",
            "Epoch 15/100\n",
            "34/34 [==============================] - 0s 4ms/step - loss: 2865.3621 - mae: 2865.3621\n",
            "Epoch 16/100\n",
            "34/34 [==============================] - 0s 4ms/step - loss: 2749.4800 - mae: 2749.4800\n",
            "Epoch 17/100\n",
            "34/34 [==============================] - 0s 4ms/step - loss: 2766.7202 - mae: 2766.7202\n",
            "Epoch 18/100\n",
            "34/34 [==============================] - 0s 3ms/step - loss: 2774.8584 - mae: 2774.8584\n",
            "Epoch 19/100\n",
            "34/34 [==============================] - 0s 3ms/step - loss: 2682.8413 - mae: 2682.8413\n",
            "Epoch 20/100\n",
            "34/34 [==============================] - 0s 3ms/step - loss: 2614.9749 - mae: 2614.9749\n",
            "Epoch 21/100\n",
            "34/34 [==============================] - 0s 3ms/step - loss: 2684.8699 - mae: 2684.8699\n",
            "Epoch 22/100\n",
            "34/34 [==============================] - 0s 4ms/step - loss: 2592.0266 - mae: 2592.0266\n",
            "Epoch 23/100\n",
            "34/34 [==============================] - 0s 3ms/step - loss: 2659.3931 - mae: 2659.3931\n",
            "Epoch 24/100\n",
            "34/34 [==============================] - 0s 4ms/step - loss: 2428.9124 - mae: 2428.9124\n",
            "Epoch 25/100\n",
            "34/34 [==============================] - 0s 3ms/step - loss: 2603.5562 - mae: 2603.5562\n",
            "Epoch 26/100\n",
            "34/34 [==============================] - 0s 3ms/step - loss: 2578.4182 - mae: 2578.4182\n",
            "Epoch 27/100\n",
            "34/34 [==============================] - 0s 4ms/step - loss: 2587.0974 - mae: 2587.0974\n",
            "Epoch 28/100\n",
            "34/34 [==============================] - 0s 4ms/step - loss: 2377.5354 - mae: 2377.5354\n",
            "Epoch 29/100\n",
            "34/34 [==============================] - 0s 4ms/step - loss: 2418.5200 - mae: 2418.5200\n",
            "Epoch 30/100\n",
            "34/34 [==============================] - 0s 3ms/step - loss: 2293.0322 - mae: 2293.0322\n",
            "Epoch 31/100\n",
            "34/34 [==============================] - 0s 3ms/step - loss: 2540.3289 - mae: 2540.3289\n",
            "Epoch 32/100\n",
            "34/34 [==============================] - 0s 3ms/step - loss: 2409.7246 - mae: 2409.7246\n",
            "Epoch 33/100\n",
            "34/34 [==============================] - 0s 3ms/step - loss: 2350.1494 - mae: 2350.1494\n",
            "Epoch 34/100\n",
            "34/34 [==============================] - 0s 3ms/step - loss: 2396.2791 - mae: 2396.2791\n",
            "Epoch 35/100\n",
            "34/34 [==============================] - 0s 3ms/step - loss: 2216.1431 - mae: 2216.1431\n",
            "Epoch 36/100\n",
            "34/34 [==============================] - 0s 3ms/step - loss: 2444.2441 - mae: 2444.2441\n",
            "Epoch 37/100\n",
            "34/34 [==============================] - 0s 4ms/step - loss: 2521.3604 - mae: 2521.3604\n",
            "Epoch 38/100\n",
            "34/34 [==============================] - 0s 4ms/step - loss: 2541.6851 - mae: 2541.6851\n",
            "Epoch 39/100\n",
            "34/34 [==============================] - 0s 4ms/step - loss: 2239.2866 - mae: 2239.2866\n",
            "Epoch 40/100\n",
            "34/34 [==============================] - 0s 4ms/step - loss: 2362.0923 - mae: 2362.0923\n",
            "Epoch 41/100\n",
            "34/34 [==============================] - 0s 4ms/step - loss: 2563.5586 - mae: 2563.5586\n",
            "Epoch 42/100\n",
            "34/34 [==============================] - 0s 3ms/step - loss: 2210.8945 - mae: 2210.8945\n",
            "Epoch 43/100\n",
            "34/34 [==============================] - 0s 3ms/step - loss: 2396.9099 - mae: 2396.9099\n",
            "Epoch 44/100\n",
            "34/34 [==============================] - 0s 3ms/step - loss: 2437.7026 - mae: 2437.7026\n",
            "Epoch 45/100\n",
            "34/34 [==============================] - 0s 3ms/step - loss: 2171.7034 - mae: 2171.7034\n",
            "Epoch 46/100\n",
            "34/34 [==============================] - 0s 3ms/step - loss: 2175.4563 - mae: 2175.4563\n",
            "Epoch 47/100\n",
            "34/34 [==============================] - 0s 3ms/step - loss: 2189.3621 - mae: 2189.3621\n",
            "Epoch 48/100\n",
            "34/34 [==============================] - 0s 3ms/step - loss: 2244.6614 - mae: 2244.6614\n",
            "Epoch 49/100\n",
            "34/34 [==============================] - 0s 4ms/step - loss: 2160.2166 - mae: 2160.2166\n",
            "Epoch 50/100\n",
            "34/34 [==============================] - 0s 4ms/step - loss: 2179.2444 - mae: 2179.2444\n",
            "Epoch 51/100\n",
            "34/34 [==============================] - 0s 4ms/step - loss: 2265.5579 - mae: 2265.5579\n",
            "Epoch 52/100\n",
            "34/34 [==============================] - 0s 4ms/step - loss: 2225.4006 - mae: 2225.4006\n",
            "Epoch 53/100\n",
            "34/34 [==============================] - 0s 4ms/step - loss: 2201.2495 - mae: 2201.2495\n",
            "Epoch 54/100\n",
            "34/34 [==============================] - 0s 4ms/step - loss: 2378.4758 - mae: 2378.4758\n",
            "Epoch 55/100\n",
            "34/34 [==============================] - 0s 4ms/step - loss: 2263.3694 - mae: 2263.3694\n",
            "Epoch 56/100\n",
            "34/34 [==============================] - 0s 4ms/step - loss: 2218.0286 - mae: 2218.0286\n",
            "Epoch 57/100\n",
            "34/34 [==============================] - 0s 5ms/step - loss: 2126.9893 - mae: 2126.9893\n",
            "Epoch 58/100\n",
            "34/34 [==============================] - 0s 3ms/step - loss: 2189.5876 - mae: 2189.5876\n",
            "Epoch 59/100\n",
            "34/34 [==============================] - 0s 3ms/step - loss: 2146.1694 - mae: 2146.1694\n",
            "Epoch 60/100\n",
            "34/34 [==============================] - 0s 2ms/step - loss: 2290.7603 - mae: 2290.7603\n",
            "Epoch 61/100\n",
            "34/34 [==============================] - 0s 3ms/step - loss: 2276.1980 - mae: 2276.1980\n",
            "Epoch 62/100\n",
            "34/34 [==============================] - 0s 4ms/step - loss: 2252.0608 - mae: 2252.0608\n",
            "Epoch 63/100\n",
            "34/34 [==============================] - 0s 3ms/step - loss: 2457.4905 - mae: 2457.4905\n",
            "Epoch 64/100\n",
            "34/34 [==============================] - 0s 3ms/step - loss: 2304.9570 - mae: 2304.9570\n",
            "Epoch 65/100\n",
            "34/34 [==============================] - 0s 4ms/step - loss: 2228.1509 - mae: 2228.1509\n",
            "Epoch 66/100\n",
            "34/34 [==============================] - 0s 4ms/step - loss: 2291.1211 - mae: 2291.1211\n",
            "Epoch 67/100\n",
            "34/34 [==============================] - 0s 4ms/step - loss: 2599.0999 - mae: 2599.0999\n",
            "Epoch 68/100\n",
            "34/34 [==============================] - 0s 3ms/step - loss: 2204.8218 - mae: 2204.8218\n",
            "Epoch 69/100\n",
            "34/34 [==============================] - 0s 3ms/step - loss: 2205.4761 - mae: 2205.4761\n",
            "Epoch 70/100\n",
            "34/34 [==============================] - 0s 4ms/step - loss: 2316.9062 - mae: 2316.9062\n",
            "Epoch 71/100\n",
            "34/34 [==============================] - 0s 4ms/step - loss: 2242.4443 - mae: 2242.4443\n",
            "Epoch 72/100\n",
            "34/34 [==============================] - 0s 4ms/step - loss: 2163.9612 - mae: 2163.9612\n",
            "Epoch 73/100\n",
            "34/34 [==============================] - 0s 3ms/step - loss: 2221.4751 - mae: 2221.4751\n",
            "Epoch 74/100\n",
            "34/34 [==============================] - 0s 4ms/step - loss: 2227.1152 - mae: 2227.1152\n",
            "Epoch 75/100\n",
            "34/34 [==============================] - 0s 4ms/step - loss: 2185.0115 - mae: 2185.0115\n",
            "Epoch 76/100\n",
            "34/34 [==============================] - 0s 4ms/step - loss: 2176.6953 - mae: 2176.6953\n",
            "Epoch 77/100\n",
            "34/34 [==============================] - 0s 4ms/step - loss: 2142.9595 - mae: 2142.9595\n",
            "Epoch 78/100\n",
            "34/34 [==============================] - 0s 3ms/step - loss: 2133.0859 - mae: 2133.0859\n",
            "Epoch 79/100\n",
            "34/34 [==============================] - 0s 4ms/step - loss: 2217.9373 - mae: 2217.9373\n",
            "Epoch 80/100\n",
            "34/34 [==============================] - 0s 3ms/step - loss: 2253.7520 - mae: 2253.7520\n",
            "Epoch 81/100\n",
            "34/34 [==============================] - 0s 3ms/step - loss: 2232.1289 - mae: 2232.1289\n",
            "Epoch 82/100\n",
            "34/34 [==============================] - 0s 3ms/step - loss: 2210.7810 - mae: 2210.7810\n",
            "Epoch 83/100\n",
            "34/34 [==============================] - 0s 3ms/step - loss: 2181.2705 - mae: 2181.2705\n",
            "Epoch 84/100\n",
            "34/34 [==============================] - 0s 2ms/step - loss: 2198.9487 - mae: 2198.9487\n",
            "Epoch 85/100\n",
            "34/34 [==============================] - 0s 3ms/step - loss: 2229.1367 - mae: 2229.1367\n",
            "Epoch 86/100\n",
            "34/34 [==============================] - 0s 4ms/step - loss: 2162.5928 - mae: 2162.5928\n",
            "Epoch 87/100\n",
            "34/34 [==============================] - 0s 4ms/step - loss: 2379.3765 - mae: 2379.3765\n",
            "Epoch 88/100\n",
            "34/34 [==============================] - 0s 3ms/step - loss: 2180.5193 - mae: 2180.5193\n",
            "Epoch 89/100\n",
            "34/34 [==============================] - 0s 3ms/step - loss: 2202.7900 - mae: 2202.7900\n",
            "Epoch 90/100\n",
            "34/34 [==============================] - 0s 3ms/step - loss: 2324.7173 - mae: 2324.7173\n",
            "Epoch 91/100\n",
            "34/34 [==============================] - 0s 3ms/step - loss: 2214.0486 - mae: 2214.0486\n",
            "Epoch 92/100\n",
            "34/34 [==============================] - 0s 3ms/step - loss: 2277.3423 - mae: 2277.3423\n",
            "Epoch 93/100\n",
            "34/34 [==============================] - 0s 3ms/step - loss: 2213.7991 - mae: 2213.7991\n",
            "Epoch 94/100\n",
            "34/34 [==============================] - 0s 3ms/step - loss: 2198.5623 - mae: 2198.5623\n",
            "Epoch 95/100\n",
            "34/34 [==============================] - 0s 5ms/step - loss: 2310.5378 - mae: 2310.5378\n",
            "Epoch 96/100\n",
            "34/34 [==============================] - 0s 4ms/step - loss: 2341.0847 - mae: 2341.0847\n",
            "Epoch 97/100\n",
            "34/34 [==============================] - 0s 4ms/step - loss: 2170.2842 - mae: 2170.2842\n",
            "Epoch 98/100\n",
            "34/34 [==============================] - 0s 4ms/step - loss: 2394.5000 - mae: 2394.5000\n",
            "Epoch 99/100\n",
            "34/34 [==============================] - 0s 4ms/step - loss: 2290.8894 - mae: 2290.8894\n",
            "Epoch 100/100\n",
            "34/34 [==============================] - 0s 3ms/step - loss: 2195.4473 - mae: 2195.4473\n"
          ]
        }
      ]
    },
    {
      "cell_type": "code",
      "source": [
        "insurance_model_1.evaluate(X_test,Y_test)"
      ],
      "metadata": {
        "colab": {
          "base_uri": "https://localhost:8080/"
        },
        "id": "sszGP6SO_-qf",
        "outputId": "fdd32a06-a2fb-4e3d-b390-5c8f009ad1c9"
      },
      "execution_count": 106,
      "outputs": [
        {
          "output_type": "stream",
          "name": "stdout",
          "text": [
            "9/9 [==============================] - 0s 2ms/step - loss: 3186.8457 - mae: 3186.8457\n"
          ]
        },
        {
          "output_type": "execute_result",
          "data": {
            "text/plain": [
              "[3186.845703125, 3186.845703125]"
            ]
          },
          "metadata": {},
          "execution_count": 106
        }
      ]
    },
    {
      "cell_type": "code",
      "source": [
        "insurance_model_2.evaluate(X_test,Y_test)"
      ],
      "metadata": {
        "colab": {
          "base_uri": "https://localhost:8080/"
        },
        "id": "SFtvTmycAGEy",
        "outputId": "f16468c8-0da7-4560-bb7d-edad9a1faa6f"
      },
      "execution_count": 107,
      "outputs": [
        {
          "output_type": "stream",
          "name": "stdout",
          "text": [
            "WARNING:tensorflow:Model was constructed with shape (None, 1, 11) for input KerasTensor(type_spec=TensorSpec(shape=(None, 1, 11), dtype=tf.float64, name='dense_33_input'), name='dense_33_input', description=\"created by layer 'dense_33_input'\"), but it was called on an input with incompatible shape (None, 11).\n",
            "9/9 [==============================] - 0s 3ms/step - loss: 1884.9221 - mae: 1884.9221\n"
          ]
        },
        {
          "output_type": "execute_result",
          "data": {
            "text/plain": [
              "[1884.922119140625, 1884.922119140625]"
            ]
          },
          "metadata": {},
          "execution_count": 107
        }
      ]
    },
    {
      "cell_type": "code",
      "source": [
        "import pandas as pd"
      ],
      "metadata": {
        "id": "N2mLDuLVA9EK"
      },
      "execution_count": 108,
      "outputs": []
    },
    {
      "cell_type": "code",
      "source": [
        "\n",
        "# Plot The Graphs \n",
        "\n",
        "\n",
        "pd.DataFrame(history.history).plot()\n",
        "plt.xlabel('Loss')\n",
        "plt.ylabel('Epochs')"
      ],
      "metadata": {
        "colab": {
          "base_uri": "https://localhost:8080/",
          "height": 296
        },
        "id": "wDD9iZ3LAJoH",
        "outputId": "59daff16-31d7-44d4-e552-8888999ee13c"
      },
      "execution_count": 109,
      "outputs": [
        {
          "output_type": "execute_result",
          "data": {
            "text/plain": [
              "Text(0, 0.5, 'Epochs')"
            ]
          },
          "metadata": {},
          "execution_count": 109
        },
        {
          "output_type": "display_data",
          "data": {
            "image/png": "[encoded data removed]",
            "text/plain": [
              "<Figure size 432x288 with 1 Axes>"
            ]
          },
          "metadata": {
            "needs_background": "light"
          }
        }
      ]
    },
    {
      "cell_type": "code",
      "source": [
        "pd.DataFrame(insurance_history_1.history).plot()\n",
        "plt.xlabel('Loss')\n",
        "plt.ylabel('Epochs')"
      ],
      "metadata": {
        "colab": {
          "base_uri": "https://localhost:8080/",
          "height": 296
        },
        "id": "RBIxNRvDAonq",
        "outputId": "60db750e-81e3-483a-cb84-361655d2faec"
      },
      "execution_count": 111,
      "outputs": [
        {
          "output_type": "execute_result",
          "data": {
            "text/plain": [
              "Text(0, 0.5, 'Epochs')"
            ]
          },
          "metadata": {},
          "execution_count": 111
        },
        {
          "output_type": "display_data",
          "data": {
            "image/png": "[encoded data removed]",
            "text/plain": [
              "<Figure size 432x288 with 1 Axes>"
            ]
          },
          "metadata": {
            "needs_background": "light"
          }
        }
      ]
    },
    {
      "cell_type": "markdown",
      "source": [
        "# **Preprocessing Data**\n",
        "\n",
        "**Turn All Data Into Numbers. Neural Network cannot Handle Strings**\n",
        "\n",
        "**Normalization Convert All Numbers Between 0 and 1**\n",
        "\n"
      ],
      "metadata": {
        "id": "dOB8i0PnBVhd"
      }
    },
    {
      "cell_type": "code",
      "source": [
        "X['age'].plot(kind=\"hist\")"
      ],
      "metadata": {
        "colab": {
          "base_uri": "https://localhost:8080/",
          "height": 282
        },
        "id": "4m_tfEK-BQC2",
        "outputId": "eabf3fe8-61a9-4f74-bf90-a36e3561d20a"
      },
      "execution_count": 113,
      "outputs": [
        {
          "output_type": "execute_result",
          "data": {
            "text/plain": [
              "<matplotlib.axes._subplots.AxesSubplot at 0x7f6e957ed1d0>"
            ]
          },
          "metadata": {},
          "execution_count": 113
        },
        {
          "output_type": "display_data",
          "data": {
            "image/png": "[encoded data removed]",
            "text/plain": [
              "<Figure size 432x288 with 1 Axes>"
            ]
          },
          "metadata": {
            "needs_background": "light"
          }
        }
      ]
    },
    {
      "cell_type": "markdown",
      "source": [
        "**Neural Network Tends To Prefer Normalization . Import Libraries And Read Insurance Files. We Borrow Few Libraries From Scikit Learn**"
      ],
      "metadata": {
        "id": "12YULTWRCGA2"
      }
    },
    {
      "cell_type": "code",
      "source": [
        "from sklearn.compose import make_column_transformer\n",
        "from sklearn.preprocessing import MinMaxScaler, OneHotEncoder\n",
        "from sklearn.model_selection import train_test_split"
      ],
      "metadata": {
        "id": "47VwXTj_B5r8"
      },
      "execution_count": 116,
      "outputs": []
    },
    {
      "cell_type": "code",
      "source": [
        "# Create Column Transformer\n",
        "\n",
        "ct = make_column_transformer(\n",
        "    (MinMaxScaler(), ['age','bmi','children']),\n",
        "    (OneHotEncoder(handle_unknown= 'ignore'), ['sex','smoker','region'])\n",
        "\n",
        ")"
      ],
      "metadata": {
        "id": "jqOWhrnMCnvQ"
      },
      "execution_count": 118,
      "outputs": []
    },
    {
      "cell_type": "code",
      "source": [
        "# Create X and Y\n",
        "\n",
        "X = insurance.drop('charges', axis=1)\n",
        "Y = insurance['charges']\n",
        "\n"
      ],
      "metadata": {
        "id": "vD6GiyWQDgZp"
      },
      "execution_count": 120,
      "outputs": []
    },
    {
      "cell_type": "code",
      "source": [
        "# Build Our Train and Test Set \n",
        "\n",
        "X_train,X_test,Y_train,Y_test = train_test_split(\n",
        "    X,Y, test_size=0.2, random_state=42\n",
        ")"
      ],
      "metadata": {
        "id": "L2x-bcKlDqcT"
      },
      "execution_count": 121,
      "outputs": []
    },
    {
      "cell_type": "code",
      "source": [
        "# Fit The Column\n",
        "ct.fit(X_train)"
      ],
      "metadata": {
        "colab": {
          "base_uri": "https://localhost:8080/"
        },
        "id": "juIAdPm_D5Rf",
        "outputId": "0e75c373-e87b-4f99-84ef-0b8e4396f831"
      },
      "execution_count": 123,
      "outputs": [
        {
          "output_type": "execute_result",
          "data": {
            "text/plain": [
              "ColumnTransformer(transformers=[('minmaxscaler', MinMaxScaler(),\n",
              "                                 ['age', 'bmi', 'children']),\n",
              "                                ('onehotencoder',\n",
              "                                 OneHotEncoder(handle_unknown='ignore'),\n",
              "                                 ['sex', 'smoker', 'region'])])"
            ]
          },
          "metadata": {},
          "execution_count": 123
        }
      ]
    },
    {
      "cell_type": "markdown",
      "source": [
        "# **Transform With Normalization**"
      ],
      "metadata": {
        "id": "UW2oWBQAECQb"
      }
    },
    {
      "cell_type": "code",
      "source": [
        "X_train_normal = ct.transform(X_train)\n",
        "X_test_normal = ct.transform(X_test)"
      ],
      "metadata": {
        "id": "y07J2DdsD-BF"
      },
      "execution_count": 124,
      "outputs": []
    },
    {
      "cell_type": "code",
      "source": [
        "X_train_normal, X_test_normal"
      ],
      "metadata": {
        "colab": {
          "base_uri": "https://localhost:8080/"
        },
        "id": "WRnNXvBmEMoj",
        "outputId": "5807107e-ab04-4616-d32a-cbdfd5a88bce"
      },
      "execution_count": 125,
      "outputs": [
        {
          "output_type": "execute_result",
          "data": {
            "text/plain": [
              "(array([[0.60869565, 0.10734463, 0.4       , ..., 1.        , 0.        ,\n",
              "         0.        ],\n",
              "        [0.63043478, 0.22491256, 0.        , ..., 0.        , 0.        ,\n",
              "         0.        ],\n",
              "        [0.73913043, 0.23944041, 0.        , ..., 0.        , 1.        ,\n",
              "         0.        ],\n",
              "        ...,\n",
              "        [0.86956522, 0.24791499, 0.        , ..., 0.        , 0.        ,\n",
              "         0.        ],\n",
              "        [0.41304348, 0.85122411, 0.4       , ..., 0.        , 0.        ,\n",
              "         1.        ],\n",
              "        [0.80434783, 0.37503363, 0.        , ..., 0.        , 0.        ,\n",
              "         1.        ]]),\n",
              " array([[0.58695652, 0.24791499, 0.4       , ..., 0.        , 0.        ,\n",
              "         0.        ],\n",
              "        [0.39130435, 0.37826204, 0.        , ..., 1.        , 0.        ,\n",
              "         0.        ],\n",
              "        [1.        , 0.29391983, 0.        , ..., 1.        , 0.        ,\n",
              "         0.        ],\n",
              "        ...,\n",
              "        [0.43478261, 0.32458972, 0.2       , ..., 0.        , 0.        ,\n",
              "         0.        ],\n",
              "        [0.7826087 , 0.84611246, 0.        , ..., 0.        , 1.        ,\n",
              "         0.        ],\n",
              "        [0.7173913 , 0.49071832, 0.2       , ..., 0.        , 0.        ,\n",
              "         1.        ]]))"
            ]
          },
          "metadata": {},
          "execution_count": 125
        }
      ]
    },
    {
      "cell_type": "markdown",
      "source": [
        "# **Build Neural Network To Fit The Normalized Data**"
      ],
      "metadata": {
        "id": "wEBOIO_EEQ2B"
      }
    },
    {
      "cell_type": "code",
      "source": [
        "tf.random.set_seed(42)\n",
        "\n",
        "insurance_model_3 = tf.keras.Sequential([\n",
        "                                         tf.keras.layers.Dense(100, activation='relu'),\n",
        "                                         tf.keras.layers.Dense(10,activation='relu'),\n",
        "                                         tf.keras.layers.Dense(1)\n",
        "])\n",
        "\n",
        "\n",
        "insurance_model_3.compile(\n",
        "    loss = tf.keras.losses.mae,\n",
        "    optimizer = tf.keras.optimizers.Adam(learning_rate=0.1),\n",
        "    metrics=[\"mae\"]\n",
        ")\n",
        "\n",
        "insurance_model_3.fit(tf.expand_dims(X_train_normal,axis=1),Y_train,epochs=100)"
      ],
      "metadata": {
        "colab": {
          "base_uri": "https://localhost:8080/"
        },
        "id": "fj8G2439EPhz",
        "outputId": "ba6f9d41-324d-4907-ca66-c629a18abc95"
      },
      "execution_count": 128,
      "outputs": [
        {
          "output_type": "stream",
          "name": "stdout",
          "text": [
            "Epoch 1/100\n",
            "34/34 [==============================] - 1s 3ms/step - loss: 10647.4746 - mae: 10647.4746\n",
            "Epoch 2/100\n",
            "34/34 [==============================] - 0s 3ms/step - loss: 6737.5708 - mae: 6737.5708\n",
            "Epoch 3/100\n",
            "34/34 [==============================] - 0s 4ms/step - loss: 3953.0686 - mae: 3953.0686\n",
            "Epoch 4/100\n",
            "34/34 [==============================] - 0s 4ms/step - loss: 3436.0596 - mae: 3436.0596\n",
            "Epoch 5/100\n",
            "34/34 [==============================] - 0s 4ms/step - loss: 3310.2632 - mae: 3310.2632\n",
            "Epoch 6/100\n",
            "34/34 [==============================] - 0s 3ms/step - loss: 3330.1826 - mae: 3330.1826\n",
            "Epoch 7/100\n",
            "34/34 [==============================] - 0s 3ms/step - loss: 3257.9290 - mae: 3257.9290\n",
            "Epoch 8/100\n",
            "34/34 [==============================] - 0s 3ms/step - loss: 3228.9194 - mae: 3228.9194\n",
            "Epoch 9/100\n",
            "34/34 [==============================] - 0s 3ms/step - loss: 3176.7898 - mae: 3176.7898\n",
            "Epoch 10/100\n",
            "34/34 [==============================] - 0s 3ms/step - loss: 3098.6118 - mae: 3098.6118\n",
            "Epoch 11/100\n",
            "34/34 [==============================] - 0s 3ms/step - loss: 3088.0750 - mae: 3088.0750\n",
            "Epoch 12/100\n",
            "34/34 [==============================] - 0s 4ms/step - loss: 3027.1938 - mae: 3027.1938\n",
            "Epoch 13/100\n",
            "34/34 [==============================] - 0s 4ms/step - loss: 2899.4253 - mae: 2899.4253\n",
            "Epoch 14/100\n",
            "34/34 [==============================] - 0s 4ms/step - loss: 2784.6777 - mae: 2784.6777\n",
            "Epoch 15/100\n",
            "34/34 [==============================] - 0s 4ms/step - loss: 2737.7500 - mae: 2737.7500\n",
            "Epoch 16/100\n",
            "34/34 [==============================] - 0s 4ms/step - loss: 2702.1399 - mae: 2702.1399\n",
            "Epoch 17/100\n",
            "34/34 [==============================] - 0s 3ms/step - loss: 2512.7014 - mae: 2512.7014\n",
            "Epoch 18/100\n",
            "34/34 [==============================] - 0s 3ms/step - loss: 2429.2039 - mae: 2429.2039\n",
            "Epoch 19/100\n",
            "34/34 [==============================] - 0s 3ms/step - loss: 2373.0254 - mae: 2373.0254\n",
            "Epoch 20/100\n",
            "34/34 [==============================] - 0s 3ms/step - loss: 2284.5039 - mae: 2284.5039\n",
            "Epoch 21/100\n",
            "34/34 [==============================] - 0s 3ms/step - loss: 2310.5618 - mae: 2310.5618\n",
            "Epoch 22/100\n",
            "34/34 [==============================] - 0s 3ms/step - loss: 2224.8447 - mae: 2224.8447\n",
            "Epoch 23/100\n",
            "34/34 [==============================] - 0s 3ms/step - loss: 2221.4114 - mae: 2221.4114\n",
            "Epoch 24/100\n",
            "34/34 [==============================] - 0s 3ms/step - loss: 2121.5396 - mae: 2121.5396\n",
            "Epoch 25/100\n",
            "34/34 [==============================] - 0s 3ms/step - loss: 2100.0027 - mae: 2100.0027\n",
            "Epoch 26/100\n",
            "34/34 [==============================] - 0s 3ms/step - loss: 2113.4116 - mae: 2113.4116\n",
            "Epoch 27/100\n",
            "34/34 [==============================] - 0s 3ms/step - loss: 2070.1677 - mae: 2070.1677\n",
            "Epoch 28/100\n",
            "34/34 [==============================] - 0s 4ms/step - loss: 2189.9944 - mae: 2189.9944\n",
            "Epoch 29/100\n",
            "34/34 [==============================] - 0s 3ms/step - loss: 2212.6306 - mae: 2212.6306\n",
            "Epoch 30/100\n",
            "34/34 [==============================] - 0s 3ms/step - loss: 2091.5908 - mae: 2091.5908\n",
            "Epoch 31/100\n",
            "34/34 [==============================] - 0s 3ms/step - loss: 2179.1667 - mae: 2179.1667\n",
            "Epoch 32/100\n",
            "34/34 [==============================] - 0s 3ms/step - loss: 2150.5322 - mae: 2150.5322\n",
            "Epoch 33/100\n",
            "34/34 [==============================] - 0s 3ms/step - loss: 2097.3755 - mae: 2097.3755\n",
            "Epoch 34/100\n",
            "34/34 [==============================] - 0s 4ms/step - loss: 2067.9373 - mae: 2067.9373\n",
            "Epoch 35/100\n",
            "34/34 [==============================] - 0s 4ms/step - loss: 2119.2278 - mae: 2119.2278\n",
            "Epoch 36/100\n",
            "34/34 [==============================] - 0s 4ms/step - loss: 2175.2136 - mae: 2175.2136\n",
            "Epoch 37/100\n",
            "34/34 [==============================] - 0s 4ms/step - loss: 2125.9707 - mae: 2125.9707\n",
            "Epoch 38/100\n",
            "34/34 [==============================] - 0s 4ms/step - loss: 2054.9470 - mae: 2054.9470\n",
            "Epoch 39/100\n",
            "34/34 [==============================] - 0s 4ms/step - loss: 2091.8708 - mae: 2091.8708\n",
            "Epoch 40/100\n",
            "34/34 [==============================] - 0s 4ms/step - loss: 2106.2888 - mae: 2106.2888\n",
            "Epoch 41/100\n",
            "34/34 [==============================] - 0s 4ms/step - loss: 2241.2871 - mae: 2241.2871\n",
            "Epoch 42/100\n",
            "34/34 [==============================] - 0s 3ms/step - loss: 2128.2544 - mae: 2128.2544\n",
            "Epoch 43/100\n",
            "34/34 [==============================] - 0s 3ms/step - loss: 2036.2778 - mae: 2036.2778\n",
            "Epoch 44/100\n",
            "34/34 [==============================] - 0s 4ms/step - loss: 2080.5010 - mae: 2080.5010\n",
            "Epoch 45/100\n",
            "34/34 [==============================] - 0s 3ms/step - loss: 2052.5842 - mae: 2052.5842\n",
            "Epoch 46/100\n",
            "34/34 [==============================] - 0s 2ms/step - loss: 2074.1077 - mae: 2074.1077\n",
            "Epoch 47/100\n",
            "34/34 [==============================] - 0s 4ms/step - loss: 2088.0972 - mae: 2088.0972\n",
            "Epoch 48/100\n",
            "34/34 [==============================] - 0s 3ms/step - loss: 2121.3862 - mae: 2121.3862\n",
            "Epoch 49/100\n",
            "34/34 [==============================] - 0s 3ms/step - loss: 2087.8667 - mae: 2087.8667\n",
            "Epoch 50/100\n",
            "34/34 [==============================] - 0s 4ms/step - loss: 2077.2415 - mae: 2077.2415\n",
            "Epoch 51/100\n",
            "34/34 [==============================] - 0s 3ms/step - loss: 2101.3887 - mae: 2101.3887\n",
            "Epoch 52/100\n",
            "34/34 [==============================] - 0s 3ms/step - loss: 2098.3374 - mae: 2098.3374\n",
            "Epoch 53/100\n",
            "34/34 [==============================] - 0s 3ms/step - loss: 2067.9556 - mae: 2067.9556\n",
            "Epoch 54/100\n",
            "34/34 [==============================] - 0s 3ms/step - loss: 2038.6587 - mae: 2038.6587\n",
            "Epoch 55/100\n",
            "34/34 [==============================] - 0s 3ms/step - loss: 2067.7622 - mae: 2067.7622\n",
            "Epoch 56/100\n",
            "34/34 [==============================] - 0s 3ms/step - loss: 2095.0020 - mae: 2095.0020\n",
            "Epoch 57/100\n",
            "34/34 [==============================] - 0s 4ms/step - loss: 2051.9324 - mae: 2051.9324\n",
            "Epoch 58/100\n",
            "34/34 [==============================] - 0s 3ms/step - loss: 2039.6042 - mae: 2039.6042\n",
            "Epoch 59/100\n",
            "34/34 [==============================] - 0s 3ms/step - loss: 2024.6447 - mae: 2024.6447\n",
            "Epoch 60/100\n",
            "34/34 [==============================] - 0s 3ms/step - loss: 2045.4412 - mae: 2045.4412\n",
            "Epoch 61/100\n",
            "34/34 [==============================] - 0s 3ms/step - loss: 2050.4963 - mae: 2050.4963\n",
            "Epoch 62/100\n",
            "34/34 [==============================] - 0s 3ms/step - loss: 2005.5311 - mae: 2005.5311\n",
            "Epoch 63/100\n",
            "34/34 [==============================] - 0s 4ms/step - loss: 2044.6951 - mae: 2044.6951\n",
            "Epoch 64/100\n",
            "34/34 [==============================] - 0s 3ms/step - loss: 2102.0684 - mae: 2102.0684\n",
            "Epoch 65/100\n",
            "34/34 [==============================] - 0s 3ms/step - loss: 2053.5037 - mae: 2053.5037\n",
            "Epoch 66/100\n",
            "34/34 [==============================] - 0s 4ms/step - loss: 2136.8528 - mae: 2136.8528\n",
            "Epoch 67/100\n",
            "34/34 [==============================] - 0s 3ms/step - loss: 2151.8796 - mae: 2151.8796\n",
            "Epoch 68/100\n",
            "34/34 [==============================] - 0s 3ms/step - loss: 2118.5903 - mae: 2118.5903\n",
            "Epoch 69/100\n",
            "34/34 [==============================] - 0s 4ms/step - loss: 2075.8330 - mae: 2075.8330\n",
            "Epoch 70/100\n",
            "34/34 [==============================] - 0s 3ms/step - loss: 2037.7717 - mae: 2037.7717\n",
            "Epoch 71/100\n",
            "34/34 [==============================] - 0s 3ms/step - loss: 2033.5189 - mae: 2033.5189\n",
            "Epoch 72/100\n",
            "34/34 [==============================] - 0s 3ms/step - loss: 2022.9192 - mae: 2022.9192\n",
            "Epoch 73/100\n",
            "34/34 [==============================] - 0s 4ms/step - loss: 2073.1201 - mae: 2073.1201\n",
            "Epoch 74/100\n",
            "34/34 [==============================] - 0s 4ms/step - loss: 2039.8955 - mae: 2039.8955\n",
            "Epoch 75/100\n",
            "34/34 [==============================] - 0s 4ms/step - loss: 2027.2479 - mae: 2027.2479\n",
            "Epoch 76/100\n",
            "34/34 [==============================] - 0s 4ms/step - loss: 2021.6963 - mae: 2021.6963\n",
            "Epoch 77/100\n",
            "34/34 [==============================] - 0s 4ms/step - loss: 2052.6658 - mae: 2052.6658\n",
            "Epoch 78/100\n",
            "34/34 [==============================] - 0s 4ms/step - loss: 2058.6494 - mae: 2058.6494\n",
            "Epoch 79/100\n",
            "34/34 [==============================] - 0s 4ms/step - loss: 2040.6981 - mae: 2040.6981\n",
            "Epoch 80/100\n",
            "34/34 [==============================] - 0s 4ms/step - loss: 2018.1370 - mae: 2018.1370\n",
            "Epoch 81/100\n",
            "34/34 [==============================] - 0s 3ms/step - loss: 2109.1165 - mae: 2109.1165\n",
            "Epoch 82/100\n",
            "34/34 [==============================] - 0s 4ms/step - loss: 2063.8293 - mae: 2063.8293\n",
            "Epoch 83/100\n",
            "34/34 [==============================] - 0s 4ms/step - loss: 2007.3170 - mae: 2007.3170\n",
            "Epoch 84/100\n",
            "34/34 [==============================] - 0s 3ms/step - loss: 1999.7563 - mae: 1999.7563\n",
            "Epoch 85/100\n",
            "34/34 [==============================] - 0s 3ms/step - loss: 2037.7050 - mae: 2037.7050\n",
            "Epoch 86/100\n",
            "34/34 [==============================] - 0s 3ms/step - loss: 2043.8336 - mae: 2043.8336\n",
            "Epoch 87/100\n",
            "34/34 [==============================] - 0s 4ms/step - loss: 2069.6511 - mae: 2069.6511\n",
            "Epoch 88/100\n",
            "34/34 [==============================] - 0s 3ms/step - loss: 2053.3230 - mae: 2053.3230\n",
            "Epoch 89/100\n",
            "34/34 [==============================] - 0s 3ms/step - loss: 2007.9266 - mae: 2007.9266\n",
            "Epoch 90/100\n",
            "34/34 [==============================] - 0s 3ms/step - loss: 2036.9637 - mae: 2036.9637\n",
            "Epoch 91/100\n",
            "34/34 [==============================] - 0s 3ms/step - loss: 2058.8232 - mae: 2058.8232\n",
            "Epoch 92/100\n",
            "34/34 [==============================] - 0s 3ms/step - loss: 2053.5986 - mae: 2053.5986\n",
            "Epoch 93/100\n",
            "34/34 [==============================] - 0s 3ms/step - loss: 2141.4502 - mae: 2141.4502\n",
            "Epoch 94/100\n",
            "34/34 [==============================] - 0s 3ms/step - loss: 2113.4211 - mae: 2113.4211\n",
            "Epoch 95/100\n",
            "34/34 [==============================] - 0s 3ms/step - loss: 2020.4152 - mae: 2020.4152\n",
            "Epoch 96/100\n",
            "34/34 [==============================] - 0s 3ms/step - loss: 2071.4277 - mae: 2071.4277\n",
            "Epoch 97/100\n",
            "34/34 [==============================] - 0s 3ms/step - loss: 2113.9587 - mae: 2113.9587\n",
            "Epoch 98/100\n",
            "34/34 [==============================] - 0s 3ms/step - loss: 2071.3752 - mae: 2071.3752\n",
            "Epoch 99/100\n",
            "34/34 [==============================] - 0s 3ms/step - loss: 2025.9379 - mae: 2025.9379\n",
            "Epoch 100/100\n",
            "34/34 [==============================] - 0s 3ms/step - loss: 2002.1617 - mae: 2002.1617\n"
          ]
        },
        {
          "output_type": "execute_result",
          "data": {
            "text/plain": [
              "<keras.callbacks.History at 0x7f6e9566ca50>"
            ]
          },
          "metadata": {},
          "execution_count": 128
        }
      ]
    },
    {
      "cell_type": "code",
      "source": [
        "insurance_model_3.evaluate(X_test_normal, Y_test)"
      ],
      "metadata": {
        "colab": {
          "base_uri": "https://localhost:8080/"
        },
        "id": "u_ZQ3TySExgL",
        "outputId": "2332fd13-c5b8-4adf-b0a4-e728b921577d"
      },
      "execution_count": 133,
      "outputs": [
        {
          "output_type": "stream",
          "name": "stdout",
          "text": [
            "9/9 [==============================] - 0s 2ms/step - loss: 1774.5939 - mae: 1774.5939\n"
          ]
        },
        {
          "output_type": "execute_result",
          "data": {
            "text/plain": [
              "[1774.5938720703125, 1774.5938720703125]"
            ]
          },
          "metadata": {},
          "execution_count": 133
        }
      ]
    },
    {
      "cell_type": "code",
      "source": [
        "insurance_model_2.evaluate(X_test_normal,Y_test)"
      ],
      "metadata": {
        "colab": {
          "base_uri": "https://localhost:8080/"
        },
        "id": "_FNT_6ukFNMf",
        "outputId": "e02325c1-fabc-48ec-eb46-75980bc7f13c"
      },
      "execution_count": 134,
      "outputs": [
        {
          "output_type": "stream",
          "name": "stdout",
          "text": [
            "9/9 [==============================] - 0s 5ms/step - loss: 12549.9492 - mae: 12549.9492\n"
          ]
        },
        {
          "output_type": "execute_result",
          "data": {
            "text/plain": [
              "[12549.94921875, 12549.94921875]"
            ]
          },
          "metadata": {},
          "execution_count": 134
        }
      ]
    },
    {
      "cell_type": "markdown",
      "source": [
        "We Used Normalization For Getting better and Better Results"
      ],
      "metadata": {
        "id": "Pi5PRmRpFdHB"
      }
    },
    {
      "cell_type": "code",
      "source": [
        ""
      ],
      "metadata": {
        "id": "b8zk2MMIFRQ_"
      },
      "execution_count": null,
      "outputs": []
    }
  ]
}